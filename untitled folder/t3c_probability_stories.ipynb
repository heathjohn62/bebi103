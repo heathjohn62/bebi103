{
 "cells": [
  {
   "cell_type": "markdown",
   "metadata": {},
   "source": [
    "# Tutorial 3c: Probability distributions and their stories\n",
    "\n",
    "(c) 2018 Justin Bois. With the exception of pasted graphics, where the source is noted, this work is licensed under a [Creative Commons Attribution License CC-BY 4.0](https://creativecommons.org/licenses/by/4.0/). All code contained herein is licensed under an [MIT license](https://opensource.org/licenses/MIT).\n",
    "\n",
    "This document was prepared at [Caltech](http://www.caltech.edu) with financial support from the [Donna and Benjamin M. Rosen Bioengineering Center](http://rosen.caltech.edu).\n",
    "\n",
    "<img src=\"caltech_rosen.png\">\n",
    "\n",
    "*This tutorial was generated from an Jupyter notebook. If you want to use the interactivity to explore probability distributions, you will need to download the notebook and run it on your machine. You can download the notebook [here](t3c_probability_stories.ipynb).*"
   ]
  },
  {
   "cell_type": "code",
   "execution_count": 28,
   "metadata": {},
   "outputs": [
    {
     "data": {
      "text/html": [
       "\n",
       "    <div class=\"bk-root\">\n",
       "        <a href=\"https://bokeh.pydata.org\" target=\"_blank\" class=\"bk-logo bk-logo-small bk-logo-notebook\"></a>\n",
       "        <span id=\"38fbed4e-261b-4b89-b054-4a83503e5bb3\">Loading BokehJS ...</span>\n",
       "    </div>"
      ]
     },
     "metadata": {},
     "output_type": "display_data"
    },
    {
     "data": {
      "application/javascript": [
       "\n",
       "(function(root) {\n",
       "  function now() {\n",
       "    return new Date();\n",
       "  }\n",
       "\n",
       "  var force = true;\n",
       "\n",
       "  if (typeof (root._bokeh_onload_callbacks) === \"undefined\" || force === true) {\n",
       "    root._bokeh_onload_callbacks = [];\n",
       "    root._bokeh_is_loading = undefined;\n",
       "  }\n",
       "\n",
       "  var JS_MIME_TYPE = 'application/javascript';\n",
       "  var HTML_MIME_TYPE = 'text/html';\n",
       "  var EXEC_MIME_TYPE = 'application/vnd.bokehjs_exec.v0+json';\n",
       "  var CLASS_NAME = 'output_bokeh rendered_html';\n",
       "\n",
       "  /**\n",
       "   * Render data to the DOM node\n",
       "   */\n",
       "  function render(props, node) {\n",
       "    var script = document.createElement(\"script\");\n",
       "    node.appendChild(script);\n",
       "  }\n",
       "\n",
       "  /**\n",
       "   * Handle when an output is cleared or removed\n",
       "   */\n",
       "  function handleClearOutput(event, handle) {\n",
       "    var cell = handle.cell;\n",
       "\n",
       "    var id = cell.output_area._bokeh_element_id;\n",
       "    var server_id = cell.output_area._bokeh_server_id;\n",
       "    // Clean up Bokeh references\n",
       "    if (id != null && id in Bokeh.index) {\n",
       "      Bokeh.index[id].model.document.clear();\n",
       "      delete Bokeh.index[id];\n",
       "    }\n",
       "\n",
       "    if (server_id !== undefined) {\n",
       "      // Clean up Bokeh references\n",
       "      var cmd = \"from bokeh.io.state import curstate; print(curstate().uuid_to_server['\" + server_id + \"'].get_sessions()[0].document.roots[0]._id)\";\n",
       "      cell.notebook.kernel.execute(cmd, {\n",
       "        iopub: {\n",
       "          output: function(msg) {\n",
       "            var id = msg.content.text.trim();\n",
       "            if (id in Bokeh.index) {\n",
       "              Bokeh.index[id].model.document.clear();\n",
       "              delete Bokeh.index[id];\n",
       "            }\n",
       "          }\n",
       "        }\n",
       "      });\n",
       "      // Destroy server and session\n",
       "      var cmd = \"import bokeh.io.notebook as ion; ion.destroy_server('\" + server_id + \"')\";\n",
       "      cell.notebook.kernel.execute(cmd);\n",
       "    }\n",
       "  }\n",
       "\n",
       "  /**\n",
       "   * Handle when a new output is added\n",
       "   */\n",
       "  function handleAddOutput(event, handle) {\n",
       "    var output_area = handle.output_area;\n",
       "    var output = handle.output;\n",
       "\n",
       "    // limit handleAddOutput to display_data with EXEC_MIME_TYPE content only\n",
       "    if ((output.output_type != \"display_data\") || (!output.data.hasOwnProperty(EXEC_MIME_TYPE))) {\n",
       "      return\n",
       "    }\n",
       "\n",
       "    var toinsert = output_area.element.find(\".\" + CLASS_NAME.split(' ')[0]);\n",
       "\n",
       "    if (output.metadata[EXEC_MIME_TYPE][\"id\"] !== undefined) {\n",
       "      toinsert[toinsert.length - 1].firstChild.textContent = output.data[JS_MIME_TYPE];\n",
       "      // store reference to embed id on output_area\n",
       "      output_area._bokeh_element_id = output.metadata[EXEC_MIME_TYPE][\"id\"];\n",
       "    }\n",
       "    if (output.metadata[EXEC_MIME_TYPE][\"server_id\"] !== undefined) {\n",
       "      var bk_div = document.createElement(\"div\");\n",
       "      bk_div.innerHTML = output.data[HTML_MIME_TYPE];\n",
       "      var script_attrs = bk_div.children[0].attributes;\n",
       "      for (var i = 0; i < script_attrs.length; i++) {\n",
       "        toinsert[toinsert.length - 1].firstChild.setAttribute(script_attrs[i].name, script_attrs[i].value);\n",
       "      }\n",
       "      // store reference to server id on output_area\n",
       "      output_area._bokeh_server_id = output.metadata[EXEC_MIME_TYPE][\"server_id\"];\n",
       "    }\n",
       "  }\n",
       "\n",
       "  function register_renderer(events, OutputArea) {\n",
       "\n",
       "    function append_mime(data, metadata, element) {\n",
       "      // create a DOM node to render to\n",
       "      var toinsert = this.create_output_subarea(\n",
       "        metadata,\n",
       "        CLASS_NAME,\n",
       "        EXEC_MIME_TYPE\n",
       "      );\n",
       "      this.keyboard_manager.register_events(toinsert);\n",
       "      // Render to node\n",
       "      var props = {data: data, metadata: metadata[EXEC_MIME_TYPE]};\n",
       "      render(props, toinsert[toinsert.length - 1]);\n",
       "      element.append(toinsert);\n",
       "      return toinsert\n",
       "    }\n",
       "\n",
       "    /* Handle when an output is cleared or removed */\n",
       "    events.on('clear_output.CodeCell', handleClearOutput);\n",
       "    events.on('delete.Cell', handleClearOutput);\n",
       "\n",
       "    /* Handle when a new output is added */\n",
       "    events.on('output_added.OutputArea', handleAddOutput);\n",
       "\n",
       "    /**\n",
       "     * Register the mime type and append_mime function with output_area\n",
       "     */\n",
       "    OutputArea.prototype.register_mime_type(EXEC_MIME_TYPE, append_mime, {\n",
       "      /* Is output safe? */\n",
       "      safe: true,\n",
       "      /* Index of renderer in `output_area.display_order` */\n",
       "      index: 0\n",
       "    });\n",
       "  }\n",
       "\n",
       "  // register the mime type if in Jupyter Notebook environment and previously unregistered\n",
       "  if (root.Jupyter !== undefined) {\n",
       "    var events = require('base/js/events');\n",
       "    var OutputArea = require('notebook/js/outputarea').OutputArea;\n",
       "\n",
       "    if (OutputArea.prototype.mime_types().indexOf(EXEC_MIME_TYPE) == -1) {\n",
       "      register_renderer(events, OutputArea);\n",
       "    }\n",
       "  }\n",
       "\n",
       "  \n",
       "  if (typeof (root._bokeh_timeout) === \"undefined\" || force === true) {\n",
       "    root._bokeh_timeout = Date.now() + 5000;\n",
       "    root._bokeh_failed_load = false;\n",
       "  }\n",
       "\n",
       "  var NB_LOAD_WARNING = {'data': {'text/html':\n",
       "     \"<div style='background-color: #fdd'>\\n\"+\n",
       "     \"<p>\\n\"+\n",
       "     \"BokehJS does not appear to have successfully loaded. If loading BokehJS from CDN, this \\n\"+\n",
       "     \"may be due to a slow or bad network connection. Possible fixes:\\n\"+\n",
       "     \"</p>\\n\"+\n",
       "     \"<ul>\\n\"+\n",
       "     \"<li>re-rerun `output_notebook()` to attempt to load from CDN again, or</li>\\n\"+\n",
       "     \"<li>use INLINE resources instead, as so:</li>\\n\"+\n",
       "     \"</ul>\\n\"+\n",
       "     \"<code>\\n\"+\n",
       "     \"from bokeh.resources import INLINE\\n\"+\n",
       "     \"output_notebook(resources=INLINE)\\n\"+\n",
       "     \"</code>\\n\"+\n",
       "     \"</div>\"}};\n",
       "\n",
       "  function display_loaded() {\n",
       "    var el = document.getElementById(\"38fbed4e-261b-4b89-b054-4a83503e5bb3\");\n",
       "    if (el != null) {\n",
       "      el.textContent = \"BokehJS is loading...\";\n",
       "    }\n",
       "    if (root.Bokeh !== undefined) {\n",
       "      if (el != null) {\n",
       "        el.textContent = \"BokehJS \" + root.Bokeh.version + \" successfully loaded.\";\n",
       "      }\n",
       "    } else if (Date.now() < root._bokeh_timeout) {\n",
       "      setTimeout(display_loaded, 100)\n",
       "    }\n",
       "  }\n",
       "\n",
       "\n",
       "  function run_callbacks() {\n",
       "    try {\n",
       "      root._bokeh_onload_callbacks.forEach(function(callback) { callback() });\n",
       "    }\n",
       "    finally {\n",
       "      delete root._bokeh_onload_callbacks\n",
       "    }\n",
       "    console.info(\"Bokeh: all callbacks have finished\");\n",
       "  }\n",
       "\n",
       "  function load_libs(js_urls, callback) {\n",
       "    root._bokeh_onload_callbacks.push(callback);\n",
       "    if (root._bokeh_is_loading > 0) {\n",
       "      console.log(\"Bokeh: BokehJS is being loaded, scheduling callback at\", now());\n",
       "      return null;\n",
       "    }\n",
       "    if (js_urls == null || js_urls.length === 0) {\n",
       "      run_callbacks();\n",
       "      return null;\n",
       "    }\n",
       "    console.log(\"Bokeh: BokehJS not loaded, scheduling load and callback at\", now());\n",
       "    root._bokeh_is_loading = js_urls.length;\n",
       "    for (var i = 0; i < js_urls.length; i++) {\n",
       "      var url = js_urls[i];\n",
       "      var s = document.createElement('script');\n",
       "      s.src = url;\n",
       "      s.async = false;\n",
       "      s.onreadystatechange = s.onload = function() {\n",
       "        root._bokeh_is_loading--;\n",
       "        if (root._bokeh_is_loading === 0) {\n",
       "          console.log(\"Bokeh: all BokehJS libraries loaded\");\n",
       "          run_callbacks()\n",
       "        }\n",
       "      };\n",
       "      s.onerror = function() {\n",
       "        console.warn(\"failed to load library \" + url);\n",
       "      };\n",
       "      console.log(\"Bokeh: injecting script tag for BokehJS library: \", url);\n",
       "      document.getElementsByTagName(\"head\")[0].appendChild(s);\n",
       "    }\n",
       "  };var element = document.getElementById(\"38fbed4e-261b-4b89-b054-4a83503e5bb3\");\n",
       "  if (element == null) {\n",
       "    console.log(\"Bokeh: ERROR: autoload.js configured with elementid '38fbed4e-261b-4b89-b054-4a83503e5bb3' but no matching script tag was found. \")\n",
       "    return false;\n",
       "  }\n",
       "\n",
       "  var js_urls = [\"https://cdn.pydata.org/bokeh/release/bokeh-0.13.0.min.js\", \"https://cdn.pydata.org/bokeh/release/bokeh-widgets-0.13.0.min.js\", \"https://cdn.pydata.org/bokeh/release/bokeh-tables-0.13.0.min.js\", \"https://cdn.pydata.org/bokeh/release/bokeh-gl-0.13.0.min.js\"];\n",
       "\n",
       "  var inline_js = [\n",
       "    function(Bokeh) {\n",
       "      Bokeh.set_log_level(\"info\");\n",
       "    },\n",
       "    \n",
       "    function(Bokeh) {\n",
       "      \n",
       "    },\n",
       "    function(Bokeh) {\n",
       "      console.log(\"Bokeh: injecting CSS: https://cdn.pydata.org/bokeh/release/bokeh-0.13.0.min.css\");\n",
       "      Bokeh.embed.inject_css(\"https://cdn.pydata.org/bokeh/release/bokeh-0.13.0.min.css\");\n",
       "      console.log(\"Bokeh: injecting CSS: https://cdn.pydata.org/bokeh/release/bokeh-widgets-0.13.0.min.css\");\n",
       "      Bokeh.embed.inject_css(\"https://cdn.pydata.org/bokeh/release/bokeh-widgets-0.13.0.min.css\");\n",
       "      console.log(\"Bokeh: injecting CSS: https://cdn.pydata.org/bokeh/release/bokeh-tables-0.13.0.min.css\");\n",
       "      Bokeh.embed.inject_css(\"https://cdn.pydata.org/bokeh/release/bokeh-tables-0.13.0.min.css\");\n",
       "    }\n",
       "  ];\n",
       "\n",
       "  function run_inline_js() {\n",
       "    \n",
       "    if ((root.Bokeh !== undefined) || (force === true)) {\n",
       "      for (var i = 0; i < inline_js.length; i++) {\n",
       "        inline_js[i].call(root, root.Bokeh);\n",
       "      }if (force === true) {\n",
       "        display_loaded();\n",
       "      }} else if (Date.now() < root._bokeh_timeout) {\n",
       "      setTimeout(run_inline_js, 100);\n",
       "    } else if (!root._bokeh_failed_load) {\n",
       "      console.log(\"Bokeh: BokehJS failed to load within specified timeout.\");\n",
       "      root._bokeh_failed_load = true;\n",
       "    } else if (force !== true) {\n",
       "      var cell = $(document.getElementById(\"38fbed4e-261b-4b89-b054-4a83503e5bb3\")).parents('.cell').data().cell;\n",
       "      cell.output_area.append_execute_result(NB_LOAD_WARNING)\n",
       "    }\n",
       "\n",
       "  }\n",
       "\n",
       "  if (root._bokeh_is_loading === 0) {\n",
       "    console.log(\"Bokeh: BokehJS loaded, going straight to plotting\");\n",
       "    run_inline_js();\n",
       "  } else {\n",
       "    load_libs(js_urls, function() {\n",
       "      console.log(\"Bokeh: BokehJS plotting callback run at\", now());\n",
       "      run_inline_js();\n",
       "    });\n",
       "  }\n",
       "}(window));"
      ],
      "application/vnd.bokehjs_load.v0+json": "\n(function(root) {\n  function now() {\n    return new Date();\n  }\n\n  var force = true;\n\n  if (typeof (root._bokeh_onload_callbacks) === \"undefined\" || force === true) {\n    root._bokeh_onload_callbacks = [];\n    root._bokeh_is_loading = undefined;\n  }\n\n  \n\n  \n  if (typeof (root._bokeh_timeout) === \"undefined\" || force === true) {\n    root._bokeh_timeout = Date.now() + 5000;\n    root._bokeh_failed_load = false;\n  }\n\n  var NB_LOAD_WARNING = {'data': {'text/html':\n     \"<div style='background-color: #fdd'>\\n\"+\n     \"<p>\\n\"+\n     \"BokehJS does not appear to have successfully loaded. If loading BokehJS from CDN, this \\n\"+\n     \"may be due to a slow or bad network connection. Possible fixes:\\n\"+\n     \"</p>\\n\"+\n     \"<ul>\\n\"+\n     \"<li>re-rerun `output_notebook()` to attempt to load from CDN again, or</li>\\n\"+\n     \"<li>use INLINE resources instead, as so:</li>\\n\"+\n     \"</ul>\\n\"+\n     \"<code>\\n\"+\n     \"from bokeh.resources import INLINE\\n\"+\n     \"output_notebook(resources=INLINE)\\n\"+\n     \"</code>\\n\"+\n     \"</div>\"}};\n\n  function display_loaded() {\n    var el = document.getElementById(\"38fbed4e-261b-4b89-b054-4a83503e5bb3\");\n    if (el != null) {\n      el.textContent = \"BokehJS is loading...\";\n    }\n    if (root.Bokeh !== undefined) {\n      if (el != null) {\n        el.textContent = \"BokehJS \" + root.Bokeh.version + \" successfully loaded.\";\n      }\n    } else if (Date.now() < root._bokeh_timeout) {\n      setTimeout(display_loaded, 100)\n    }\n  }\n\n\n  function run_callbacks() {\n    try {\n      root._bokeh_onload_callbacks.forEach(function(callback) { callback() });\n    }\n    finally {\n      delete root._bokeh_onload_callbacks\n    }\n    console.info(\"Bokeh: all callbacks have finished\");\n  }\n\n  function load_libs(js_urls, callback) {\n    root._bokeh_onload_callbacks.push(callback);\n    if (root._bokeh_is_loading > 0) {\n      console.log(\"Bokeh: BokehJS is being loaded, scheduling callback at\", now());\n      return null;\n    }\n    if (js_urls == null || js_urls.length === 0) {\n      run_callbacks();\n      return null;\n    }\n    console.log(\"Bokeh: BokehJS not loaded, scheduling load and callback at\", now());\n    root._bokeh_is_loading = js_urls.length;\n    for (var i = 0; i < js_urls.length; i++) {\n      var url = js_urls[i];\n      var s = document.createElement('script');\n      s.src = url;\n      s.async = false;\n      s.onreadystatechange = s.onload = function() {\n        root._bokeh_is_loading--;\n        if (root._bokeh_is_loading === 0) {\n          console.log(\"Bokeh: all BokehJS libraries loaded\");\n          run_callbacks()\n        }\n      };\n      s.onerror = function() {\n        console.warn(\"failed to load library \" + url);\n      };\n      console.log(\"Bokeh: injecting script tag for BokehJS library: \", url);\n      document.getElementsByTagName(\"head\")[0].appendChild(s);\n    }\n  };var element = document.getElementById(\"38fbed4e-261b-4b89-b054-4a83503e5bb3\");\n  if (element == null) {\n    console.log(\"Bokeh: ERROR: autoload.js configured with elementid '38fbed4e-261b-4b89-b054-4a83503e5bb3' but no matching script tag was found. \")\n    return false;\n  }\n\n  var js_urls = [\"https://cdn.pydata.org/bokeh/release/bokeh-0.13.0.min.js\", \"https://cdn.pydata.org/bokeh/release/bokeh-widgets-0.13.0.min.js\", \"https://cdn.pydata.org/bokeh/release/bokeh-tables-0.13.0.min.js\", \"https://cdn.pydata.org/bokeh/release/bokeh-gl-0.13.0.min.js\"];\n\n  var inline_js = [\n    function(Bokeh) {\n      Bokeh.set_log_level(\"info\");\n    },\n    \n    function(Bokeh) {\n      \n    },\n    function(Bokeh) {\n      console.log(\"Bokeh: injecting CSS: https://cdn.pydata.org/bokeh/release/bokeh-0.13.0.min.css\");\n      Bokeh.embed.inject_css(\"https://cdn.pydata.org/bokeh/release/bokeh-0.13.0.min.css\");\n      console.log(\"Bokeh: injecting CSS: https://cdn.pydata.org/bokeh/release/bokeh-widgets-0.13.0.min.css\");\n      Bokeh.embed.inject_css(\"https://cdn.pydata.org/bokeh/release/bokeh-widgets-0.13.0.min.css\");\n      console.log(\"Bokeh: injecting CSS: https://cdn.pydata.org/bokeh/release/bokeh-tables-0.13.0.min.css\");\n      Bokeh.embed.inject_css(\"https://cdn.pydata.org/bokeh/release/bokeh-tables-0.13.0.min.css\");\n    }\n  ];\n\n  function run_inline_js() {\n    \n    if ((root.Bokeh !== undefined) || (force === true)) {\n      for (var i = 0; i < inline_js.length; i++) {\n        inline_js[i].call(root, root.Bokeh);\n      }if (force === true) {\n        display_loaded();\n      }} else if (Date.now() < root._bokeh_timeout) {\n      setTimeout(run_inline_js, 100);\n    } else if (!root._bokeh_failed_load) {\n      console.log(\"Bokeh: BokehJS failed to load within specified timeout.\");\n      root._bokeh_failed_load = true;\n    } else if (force !== true) {\n      var cell = $(document.getElementById(\"38fbed4e-261b-4b89-b054-4a83503e5bb3\")).parents('.cell').data().cell;\n      cell.output_area.append_execute_result(NB_LOAD_WARNING)\n    }\n\n  }\n\n  if (root._bokeh_is_loading === 0) {\n    console.log(\"Bokeh: BokehJS loaded, going straight to plotting\");\n    run_inline_js();\n  } else {\n    load_libs(js_urls, function() {\n      console.log(\"Bokeh: BokehJS plotting callback run at\", now());\n      run_inline_js();\n    });\n  }\n}(window));"
     },
     "metadata": {},
     "output_type": "display_data"
    }
   ],
   "source": [
    "import numpy as np\n",
    "import scipy.stats as st\n",
    "import scipy.special\n",
    "\n",
    "import bokeh.io\n",
    "import bokeh.plotting\n",
    "import bokeh.application\n",
    "import bokeh.application.handlers\n",
    "bokeh.io.output_notebook()"
   ]
  },
  {
   "cell_type": "markdown",
   "metadata": {},
   "source": [
    "Because this tutorial consists mainly of a list of probability distributions and their stories and properties, it is useful to have a little index of them up front.\n",
    "\n",
    "* [Discrete distributions](#Discrete-distributions)\n",
    "    - [Bernoulli distribution](#Bernoulli-distribution)\n",
    "    - [Geometric distribution](#Geometric-distribution)\n",
    "    - [Negative Binomial distribution](#Negative-Binomial-distribution)\n",
    "    - [Binomial distribution](#Binomial-distribution)\n",
    "    - [Hypergeometric distribution](#Hypergeometric-distribution)\n",
    "    - [Categorical distribution](#Categorical-distribution)\n",
    "    - [Discrete Uniform distribution](#Discrete-Uniform-distribution)\n",
    "* [Continuous distributions](#Continuous-distributions)\n",
    "    - [Uniform distribution](#Uniform-distribution)\n",
    "    - [Gaussian (a.k.a. Normal) distribution](#Gaussian,-a.k.a.-Normal,-distribution)\n",
    "    - [Log-Normal distribution](#Log-Normal-distribution)\n",
    "    - [Chi-square distribution](#Chi-square-distribution)\n",
    "    - [Student-t distribution](#Student-t-distribution)\n",
    "    - [Cauchy distribution](#Cauchy-distribution)\n",
    "    - [Exponential distribution](#Exponential-distribution)\n",
    "    - [Gamma distribution](#Gamma-distribution)\n",
    "    - [Weibull distribution](#Weibull-distribution)\n",
    "    - [Beta distribution](#Beta-distribution)\n",
    "* [Discrete multivariate distributions](#Discrete-multivariate-distributions)\n",
    "    - [Multinomial distribution](#Multinomial-distribution)\n",
    "* [Continuous multivariate distributions](#Continuous-Multivariate-distributions)\n",
    "    - [Multivariate Gaussian (a.k.a. Multivariate Normal) distribution](#Multivariate-Gaussian,-a.k.a.-Multivariate-Normal,-distribution)\n",
    "    - [Lewandowski-Kurowicka-Joe (LKJ) distribution](#Lewandowski-Kurowicka-Joe-%28LKJ%29-distribution)\n",
    "    - [Dirichlet distribution](#Dirichlet-distribution)\n",
    "\n",
    "This tutorial also features interactive plotting, which needs a running Jupyter notebook to utilize. You should therefore download and run the notebook. When you launch your notebook, take note of the URL. You can find this at the top of your browser. It will be something like `localhost:8888`. Before you work through the notebook, define your notebook_url in the code cell below."
   ]
  },
  {
   "cell_type": "code",
   "execution_count": 30,
   "metadata": {
    "collapsed": true
   },
   "outputs": [],
   "source": [
    "notebook_url = 'localhost:8890'"
   ]
  },
  {
   "cell_type": "markdown",
   "metadata": {},
   "source": [
    "### Motivation\n",
    "\n",
    "In this class, we have talked about the three levels of building a model in the\n",
    "biological sciences.\n",
    "* **Cartoon model**: A cartoon or verbal phenomenological\n",
    "  description of the system of interest.\n",
    "* **Mathematical model**: A mathematization of a cartoon model. This gives quantitative predictions on how a biological system should behave.\n",
    "* **Statistical model**: A description of what we expect from an\n",
    "  experiment, given our mathematical model.  In the Bayesian context, this is\n",
    "  specification of the likelihood and prior.\n",
    "\n",
    "Take together, these models comprise a **generative model**, which describes how the data were generated. Specifying your model amounts to choosing a probability distributions that describe the process of data generation. In some cases, you need to derive the likelihood (or even numerically compute it when it cannot be written in closed form). In most practical cases, though, your model is composed of standard probability distributions.  These distributions all have **stories** associated with them.  Importantly, *if your data and model match the story of a distribution, you know that this is the distribution to choose for your likelihood.*"
   ]
  },
  {
   "cell_type": "markdown",
   "metadata": {},
   "source": [
    "## Review of probability distributions, PMFs, PDFs, and CDFs\n",
    "\n",
    "Before we begin talking about distributions, let's remind ourselves\n",
    "what probability distributions are.  We cut some corners in our\n",
    "definitions here, but these definitions are functional for most of our\n",
    "data analysis purposes.\n",
    "\n",
    "A **probability mass function** (PMF), $f(x)$, describes the\n",
    "probability of a discrete variable obtaining value $x$.  The variable\n",
    "$x$ takes on discrete values, so the **normalization condition**\n",
    "is\n",
    "\n",
    "\\begin{align}\n",
    "\\sum_x f(x) = 1.\n",
    "\\end{align}\n",
    "\n",
    "A **probability density function** (PDF), which we shall\n",
    "call $f(x)$, is defined such that the probability that the value of a\n",
    "continuous variable $x$ is $a \\le x \\le b$ is\n",
    "\n",
    "\\begin{align}\n",
    "\\int_a^b \\mathrm{d}x\\,f(x).\n",
    "\\end{align}\n",
    "\n",
    "A **cumulative distribution function** (CDF), denoted $F(x)$ is defined such that $F(x)$ is the probability that the value of a variable $X$ is less than or equal to $x$. For a discrete distribution\n",
    "\n",
    "\\begin{align}\n",
    "F(k) = \\sum_{k'=k_\\mathrm{min}}^k f(k'),\n",
    "\\end{align}\n",
    "\n",
    "where $k_\\mathrm{min}$ is the minimal value the variable can take, and for a continuous distribution,\n",
    "\n",
    "\\begin{align}\n",
    "F(x) = \\int_{-\\infty}^x \\mathrm{d}x'\\,f(x').\n",
    "\\end{align}\n",
    "\n",
    "<br />\n",
    "\n",
    "If a probability mass or density function depends on parameters, say $n$ and $\\theta$, we write it as $f(x;n, \\theta)$. There does not seem to be consensus on the best notation, and you may see this same quantity written as $P(x\\mid n, \\theta)$, for example."
   ]
  },
  {
   "cell_type": "markdown",
   "metadata": {},
   "source": [
    "### Sampling\n",
    "\n",
    "Given that we know a probability distribution, we can take\n",
    "*samples* out of it.  This means that we can randomly draw\n",
    "numbers and the probability that we draw a certain number $x$ is\n",
    "proportional to the PMF or PDF, $f(x)$. Sampling\n",
    "out of a distribution is often easier than computing the distribution\n",
    "over a range of values because many of those values are zero. \n",
    "\n",
    "The `numpy.random` module and [Stan](http://mc-stan.org/) are power tools for sampling out of distributions. For each distribution I describe, I show how to specify them using NumPy and Stan (and also with the `scipy.stats` module)."
   ]
  },
  {
   "cell_type": "markdown",
   "metadata": {},
   "source": [
    "## Distributions and their stories\n",
    "\n",
    "In what follows, I will present some commonly used probability distributions and their associated stories. I give the following.\n",
    "- Name of the distribution.\n",
    "- Its story.\n",
    "- An example.\n",
    "- The parameters of the distribution.\n",
    "- The **support**, or the domain for which the probability is nonzero.\n",
    "- The probability mass function (for discrete distributions) or probability density function (for continuous distributions). **I use the parametrization that Stan uses.**\n",
    "- Syntax for how to use the distribution using `numpy.random`, `scipy.stats`, and Stan.\n",
    "- Description of relations to other distributions.\n",
    "- Miscellaneous notes.\n",
    "- Interactive plots of the PMF/PDF and CDF of the distribution.\n",
    "\n",
    "I omit analytical expression for the CDF because CDFs are often expressed as special functions, such as regularized incomplete beta functions or error functions. They can also be easily looked up. We mainly use them for comparing ECDFs in plots, and we can use the `scipy.stats` module to just compute them. \n",
    "\n",
    "Along the way, we'll define other terms, such as **Bernoulli trial** and **Poisson process**. I will use the `scipy.stats` module (imported as `st`) to compute the PDF/PMF and CDF. The API for this module will be apparent as I use it.\n",
    "\n",
    "Finally, there is often more than one way to define the parameters of a distribution. I will be using the definitions and variable names that are used in [Stan](http://mc-stan.org/)."
   ]
  },
  {
   "cell_type": "markdown",
   "metadata": {},
   "source": [
    "## Visualization of PDF/PMF's and CDFs\n",
    "\n",
    "I use [Bokeh](https://bokeh.pydata.org/) to construct interactive visualizations of the distribution. The `bebi103.viz` module has a function to create Bokeh apps to visualize the distributions, but I include the function here in this notebook to avoid dependencies. Please excuse the long code block. "
   ]
  },
  {
   "cell_type": "code",
   "execution_count": 31,
   "metadata": {},
   "outputs": [],
   "source": [
    "def distribution_plot_app(x_min=None, x_max=None, scipy_dist=None,\n",
    "    transform=None, custom_pdf=None, custom_pmf=None, custom_cdf=None, \n",
    "    params=None, n=400, plot_height=200, plot_width=300, x_axis_label='x', \n",
    "    title=None):\n",
    "    \"\"\"\n",
    "    Build interactive Bokeh app displaying a univariate\n",
    "    probability distribution.\n",
    "\n",
    "    Parameters\n",
    "    ----------\n",
    "    x_min : float\n",
    "        Minimum value that the random variable can take in plots.\n",
    "    x_max : float\n",
    "        Maximum value that the random variable can take in plots.\n",
    "    scipy_dist : scipy.stats distribution\n",
    "        Distribution to use in plotting.\n",
    "    transform : function or None (default)\n",
    "        A function of call signature `transform(*params)` that takes\n",
    "        a tuple or Numpy array of parameters and returns a tuple of\n",
    "        the same length with transformed parameters.\n",
    "    custom_pdf : function\n",
    "        Function with call signature f(x, *params) that computes the\n",
    "        PDF of a distribution.\n",
    "    custom_pmf : function    \n",
    "        Function with call signature f(x, *params) that computes the\n",
    "        PDF of a distribution.\n",
    "    custom_cdf : function\n",
    "        Function with call signature F(x, *params) that computes the\n",
    "        CDF of a distribution.\n",
    "    params : list of dicts\n",
    "        A list of parameter specifications. Each entry in the list gives\n",
    "        specifications for a parameter of the distribution stored as a\n",
    "        dictionary. Each dictionary must have the following keys.\n",
    "            name : str, name of the parameter\n",
    "            start : float, starting point of slider for parameter (the\n",
    "                smallest allowed value of the parameter)\n",
    "            end : float, ending point of slider for parameter (the\n",
    "                largest allowed value of the parameter)\n",
    "            value : float, the value of the parameter that the slider\n",
    "                takes initially. Must be between start and end.\n",
    "            step : float, the step size for the slider\n",
    "    n : int, default 400\n",
    "        Number of points to use in making plots of PDF and CDF for \n",
    "        continuous distributions. This should be large enough to give\n",
    "        smooth plots.\n",
    "    plot_height : int, default 200\n",
    "        Height of plots.\n",
    "    plot_width : int, default 300\n",
    "        Width of plots.\n",
    "    x_axis_label : str, default 'x'\n",
    "        Label for x-axis.\n",
    "    title : str, default None\n",
    "        Title to be displayed above the PDF or PMF plot.\n",
    "\n",
    "    Returns\n",
    "    -------\n",
    "    output : Bokeh app\n",
    "        An app to visualize the PDF/PMF and CDF. It can be displayed\n",
    "        with bokeh.io.show(). If it is displayed in a notebook, the\n",
    "        notebook_url kwarg should be specified.\n",
    "    \"\"\"\n",
    "    if None in [x_min, x_max]:\n",
    "        raise RuntimeError('`x_min` and `x_max` must be specified.')\n",
    "\n",
    "    if scipy_dist is None:\n",
    "        fun_c = custom_cdf\n",
    "        if (custom_pdf is None and custom_pmf is None) or custom_cdf is None:\n",
    "            raise RuntimeError('For custom distributions, both PDF/PMF and'\n",
    "                                + ' CDF must be specified.')\n",
    "        if custom_pdf is not None and custom_pmf is not None:\n",
    "            raise RuntimeError('Can only specify custom PMF or PDF.')\n",
    "        if custom_pmf is None:\n",
    "            discrete = False\n",
    "            fun_p = custom_pdf\n",
    "        else:\n",
    "            discrete = True\n",
    "            fun_p = custom_pmf\n",
    "    elif (   custom_pdf is not None \n",
    "          or custom_pmf is not None\n",
    "          or custom_cdf is not None):\n",
    "        raise RuntimeError(\n",
    "            'Can only specify either custom or scipy distribution.')\n",
    "    else:\n",
    "        fun_c = scipy_dist.cdf\n",
    "        if hasattr(scipy_dist, 'pmf'):\n",
    "            discrete = True\n",
    "            fun_p = scipy_dist.pmf\n",
    "        else:\n",
    "            discrete = False\n",
    "            fun_p = scipy_dist.pdf\n",
    "                \n",
    "    if discrete:\n",
    "        p_y_axis_label = 'PMF'\n",
    "    else:\n",
    "        p_y_axis_label = 'PDF'\n",
    "\n",
    "    if params is None:\n",
    "        raise RuntimeError('`params` must be specified.')\n",
    "        \n",
    "\n",
    "    def _plot_app(doc):\n",
    "        p_p = bokeh.plotting.figure(plot_height=plot_height,\n",
    "                                    plot_width=plot_width,\n",
    "                                    x_axis_label=x_axis_label,\n",
    "                                    y_axis_label=p_y_axis_label,\n",
    "                                    title=title)\n",
    "        p_c = bokeh.plotting.figure(plot_height=plot_height,\n",
    "                                    plot_width=plot_width,\n",
    "                                    x_axis_label=x_axis_label,\n",
    "                                    y_axis_label='CDF')\n",
    "\n",
    "        # Link the axes\n",
    "        p_c.x_range = p_p.x_range\n",
    "\n",
    "        # Make sure CDF y_range is zero to one\n",
    "        p_c.y_range = bokeh.models.Range1d(-0.05, 1.05)\n",
    "\n",
    "        # Make array of parameter values\n",
    "        param_vals = np.array([param['value'] for param in params])\n",
    "        if transform is not None:\n",
    "            param_vals = transform(*param_vals)\n",
    "\n",
    "        # Set up data for plot\n",
    "        if discrete:\n",
    "            x = np.arange(int(np.ceil(x_min)), \n",
    "                          int(np.floor(x_max))+1)\n",
    "            x_size = x[-1] - x[0]\n",
    "            x_c = np.empty(2*len(x))\n",
    "            x_c[::2] = x\n",
    "            x_c[1::2] = x\n",
    "            x_c = np.concatenate(((max(x[0] - 0.05*x_size, x[0] - 0.95),), \n",
    "                                  x_c,\n",
    "                                  (min(x[-1] + 0.05*x_size, x[-1] + 0.95),)))\n",
    "            x_cdf = np.concatenate(((x_c[0],), x))\n",
    "        else:\n",
    "            x = np.linspace(x_min, x_max, n)\n",
    "            x_c = x_cdf = x\n",
    "\n",
    "        # Compute PDF and CDF\n",
    "        y_p = fun_p(x, *param_vals)\n",
    "        y_c = fun_c(x_cdf, *param_vals)\n",
    "        if discrete:\n",
    "            y_c_plot = np.empty_like(x_c)\n",
    "            y_c_plot[::2] = y_c\n",
    "            y_c_plot[1::2] = y_c\n",
    "            y_c = y_c_plot\n",
    "\n",
    "        # Set up data sources\n",
    "        source_p = bokeh.models.ColumnDataSource(data={'x': x,\n",
    "                                                       'y_p': y_p})\n",
    "        source_c = bokeh.models.ColumnDataSource(data={'x': x_c, \n",
    "                                                       'y_c': y_c})\n",
    "\n",
    "        # Plot PDF and CDF\n",
    "        p_c.line('x', 'y_c', source=source_c, line_width=2)\n",
    "        if discrete:\n",
    "            p_p.circle('x', 'y_p', source=source_p, size=5)\n",
    "            p_p.segment(x0='x',\n",
    "                        x1='x',\n",
    "                        y0=0, \n",
    "                        y1='y_p', \n",
    "                        source=source_p, \n",
    "                        line_width=2)\n",
    "        else:\n",
    "            p_p.line('x', 'y_p', source=source_p, line_width=2)\n",
    "            \n",
    "        \n",
    "        def _callback(attr, old, new):\n",
    "            param_vals = tuple([slider.value for slider in sliders])\n",
    "            if transform is not None:\n",
    "                param_vals = transform(*param_vals)\n",
    "            \n",
    "            # Compute PDF and CDF\n",
    "            source_p.data['y_p'] = fun_p(x, *param_vals)\n",
    "            y_c = fun_c(x_cdf, *param_vals)\n",
    "            if discrete:\n",
    "                y_c_plot = np.empty_like(x_c)\n",
    "                y_c_plot[::2] = y_c\n",
    "                y_c_plot[1::2] = y_c\n",
    "                y_c = y_c_plot\n",
    "            source_c.data['y_c'] = y_c\n",
    "\n",
    "        sliders = [bokeh.models.Slider(start=param['start'],\n",
    "                                       end=param['end'],\n",
    "                                       value=param['value'],\n",
    "                                       step=param['step'],\n",
    "                                       title=param['name'])\n",
    "                            for param in params]\n",
    "        for slider in sliders:\n",
    "            slider.on_change('value', _callback)\n",
    "\n",
    "        # Add the plot to the app\n",
    "        widgets = bokeh.layouts.widgetbox(sliders)\n",
    "        grid = bokeh.layouts.gridplot([p_p, p_c], ncols=2)\n",
    "        doc.add_root(bokeh.layouts.column(widgets, grid))\n",
    "\n",
    "    handler = bokeh.application.handlers.FunctionHandler(_plot_app)\n",
    "    return bokeh.application.Application(handler)"
   ]
  },
  {
   "cell_type": "markdown",
   "metadata": {},
   "source": [
    "### A note about CDFs for discrete distributions\n",
    "\n",
    "I plot the CDFs for discrete distributions as \"staircases.\" As an example, here is a plot of the CDF of the [Binomial distribution](#Binomial-distribution) with parameters $N=10$ and $\\theta = 0.5$."
   ]
  },
  {
   "cell_type": "code",
   "execution_count": 32,
   "metadata": {},
   "outputs": [
    {
     "data": {
      "text/html": [
       "\n",
       "\n",
       "\n",
       "\n",
       "\n",
       "\n",
       "  <div class=\"bk-root\" id=\"94ac97bf-365f-4ac5-8bae-a0dfb1ed2f36\"></div>\n"
      ]
     },
     "metadata": {},
     "output_type": "display_data"
    },
    {
     "data": {
      "application/javascript": [
       "(function(root) {\n",
       "  function embed_document(root) {\n",
       "    \n",
       "  var docs_json = {\"5eebf9b2-27d9-4398-a88b-95358886b5ad\":{\"roots\":{\"references\":[{\"attributes\":{},\"id\":\"5f086957-6360-4218-91ef-26cdb094e347\",\"type\":\"BasicTickFormatter\"},{\"attributes\":{},\"id\":\"b34963f7-24fa-4e06-a88d-678f6eb8dc8d\",\"type\":\"BasicTickFormatter\"},{\"attributes\":{},\"id\":\"6a1178ff-b2b4-4d52-b957-7e37041a0680\",\"type\":\"LinearScale\"},{\"attributes\":{},\"id\":\"b9f9b148-c18c-429b-a257-655100d531cd\",\"type\":\"HelpTool\"},{\"attributes\":{},\"id\":\"3a2455b7-8169-4ec4-ae8b-87c67f8eed94\",\"type\":\"BasicTicker\"},{\"attributes\":{\"callback\":null},\"id\":\"601d22f7-6dfd-498a-9470-e653b9d1fe99\",\"type\":\"DataRange1d\"},{\"attributes\":{\"dimension\":1,\"plot\":{\"id\":\"036194ff-8448-49c3-bdc1-abf1e9b4a6d3\",\"subtype\":\"Figure\",\"type\":\"Plot\"},\"ticker\":{\"id\":\"3a2455b7-8169-4ec4-ae8b-87c67f8eed94\",\"type\":\"BasicTicker\"}},\"id\":\"06b4a301-ac47-4085-bd4e-8a827293f7d5\",\"type\":\"Grid\"},{\"attributes\":{},\"id\":\"59636839-47f7-451e-a968-4a685acf7478\",\"type\":\"Selection\"},{\"attributes\":{\"active_drag\":\"auto\",\"active_inspect\":\"auto\",\"active_multi\":null,\"active_scroll\":\"auto\",\"active_tap\":\"auto\",\"tools\":[{\"id\":\"a575d0a2-d2e1-4676-965a-3764c07fe2cd\",\"type\":\"PanTool\"},{\"id\":\"0ad9fef7-e133-4637-9b95-fecc75dcfb8d\",\"type\":\"WheelZoomTool\"},{\"id\":\"1f275a5d-ff23-4143-8f06-77827a7b23f1\",\"type\":\"BoxZoomTool\"},{\"id\":\"dc30f105-6825-4241-9a07-f77641fce8ef\",\"type\":\"SaveTool\"},{\"id\":\"ac52b773-4226-4f96-800b-7f7f13b104c8\",\"type\":\"ResetTool\"},{\"id\":\"b9f9b148-c18c-429b-a257-655100d531cd\",\"type\":\"HelpTool\"}]},\"id\":\"1fcfe4bb-b72a-4229-8a85-47aaab988768\",\"type\":\"Toolbar\"},{\"attributes\":{\"bottom_units\":\"screen\",\"fill_alpha\":{\"value\":0.5},\"fill_color\":{\"value\":\"lightgrey\"},\"left_units\":\"screen\",\"level\":\"overlay\",\"line_alpha\":{\"value\":1.0},\"line_color\":{\"value\":\"black\"},\"line_dash\":[4,4],\"line_width\":{\"value\":2},\"plot\":null,\"render_mode\":\"css\",\"right_units\":\"screen\",\"top_units\":\"screen\"},\"id\":\"05fc6ece-05f7-41d6-9189-8af040924fd1\",\"type\":\"BoxAnnotation\"},{\"attributes\":{\"plot\":null,\"text\":\"\"},\"id\":\"8fca7a97-16b4-4f3e-bf6c-cf3d066876ea\",\"type\":\"Title\"},{\"attributes\":{\"callback\":null},\"id\":\"db1c1928-1668-40ed-95e9-996694ee934b\",\"type\":\"DataRange1d\"},{\"attributes\":{},\"id\":\"0ad9fef7-e133-4637-9b95-fecc75dcfb8d\",\"type\":\"WheelZoomTool\"},{\"attributes\":{},\"id\":\"a575d0a2-d2e1-4676-965a-3764c07fe2cd\",\"type\":\"PanTool\"},{\"attributes\":{\"axis_label\":\"n\",\"formatter\":{\"id\":\"b34963f7-24fa-4e06-a88d-678f6eb8dc8d\",\"type\":\"BasicTickFormatter\"},\"plot\":{\"id\":\"036194ff-8448-49c3-bdc1-abf1e9b4a6d3\",\"subtype\":\"Figure\",\"type\":\"Plot\"},\"ticker\":{\"id\":\"e67e26b6-80cd-4be0-80c9-aef6e847f882\",\"type\":\"BasicTicker\"}},\"id\":\"d1160278-5c2f-4524-9fa2-4ad84942a0b6\",\"type\":\"LinearAxis\"},{\"attributes\":{\"line_alpha\":0.1,\"line_color\":\"#1f77b4\",\"line_width\":2,\"x\":{\"field\":\"x\"},\"y\":{\"field\":\"y\"}},\"id\":\"cebd2558-0360-4016-8544-ea87cc7b7cc7\",\"type\":\"Line\"},{\"attributes\":{\"plot\":{\"id\":\"036194ff-8448-49c3-bdc1-abf1e9b4a6d3\",\"subtype\":\"Figure\",\"type\":\"Plot\"},\"ticker\":{\"id\":\"e67e26b6-80cd-4be0-80c9-aef6e847f882\",\"type\":\"BasicTicker\"}},\"id\":\"bdb163ad-5f4b-4b7c-829b-8b55cfef8653\",\"type\":\"Grid\"},{\"attributes\":{\"source\":{\"id\":\"15058e9d-2f84-4f44-8e6b-f590dab48209\",\"type\":\"ColumnDataSource\"}},\"id\":\"01192845-ab66-4a4b-bf73-79f45977360a\",\"type\":\"CDSView\"},{\"attributes\":{\"callback\":null,\"data\":{\"x\":{\"__ndarray__\":\"AAAAAAAA4L8AAAAAAAAAAAAAAAAAAAAAAAAAAAAA8D8AAAAAAADwPwAAAAAAAABAAAAAAAAAAEAAAAAAAAAIQAAAAAAAAAhAAAAAAAAAEEAAAAAAAAAQQAAAAAAAABRAAAAAAAAAFEAAAAAAAAAYQAAAAAAAABhAAAAAAAAAHEAAAAAAAAAcQAAAAAAAACBAAAAAAAAAIEAAAAAAAAAiQAAAAAAAACJAAAAAAAAAJEAAAAAAAAAkQAAAAAAAACVA\",\"dtype\":\"float64\",\"shape\":[24]},\"y\":{\"__ndarray__\":\"AAAAAAAAAAAAAAAAAAAAAAAAAAAAAFA/AAAAAAAAUD////////+FP////////4U/AgAAAAAArD8CAAAAAACsP/7//////8U//v//////xT8CAAAAACDYPwIAAAAAINg////////v4z///////+/jPwAAAAAAgOo/AAAAAACA6j8AAAAAAEDuPwAAAAAAQO4/AAAAAACo7z8AAAAAAKjvPwAAAAAA+O8/AAAAAAD47z8AAAAAAADwPwAAAAAAAPA/\",\"dtype\":\"float64\",\"shape\":[24]}},\"selected\":{\"id\":\"59636839-47f7-451e-a968-4a685acf7478\",\"type\":\"Selection\"},\"selection_policy\":{\"id\":\"8632b287-f641-4e43-832e-5b670c4200f9\",\"type\":\"UnionRenderers\"}},\"id\":\"15058e9d-2f84-4f44-8e6b-f590dab48209\",\"type\":\"ColumnDataSource\"},{\"attributes\":{\"below\":[{\"id\":\"d1160278-5c2f-4524-9fa2-4ad84942a0b6\",\"type\":\"LinearAxis\"}],\"left\":[{\"id\":\"9ba01a67-8a44-4091-b358-ac55663606cf\",\"type\":\"LinearAxis\"}],\"plot_height\":250,\"plot_width\":350,\"renderers\":[{\"id\":\"d1160278-5c2f-4524-9fa2-4ad84942a0b6\",\"type\":\"LinearAxis\"},{\"id\":\"bdb163ad-5f4b-4b7c-829b-8b55cfef8653\",\"type\":\"Grid\"},{\"id\":\"9ba01a67-8a44-4091-b358-ac55663606cf\",\"type\":\"LinearAxis\"},{\"id\":\"06b4a301-ac47-4085-bd4e-8a827293f7d5\",\"type\":\"Grid\"},{\"id\":\"05fc6ece-05f7-41d6-9189-8af040924fd1\",\"type\":\"BoxAnnotation\"},{\"id\":\"8f354465-02ac-4e34-982e-37de3a7b2a99\",\"type\":\"GlyphRenderer\"}],\"title\":{\"id\":\"8fca7a97-16b4-4f3e-bf6c-cf3d066876ea\",\"type\":\"Title\"},\"toolbar\":{\"id\":\"1fcfe4bb-b72a-4229-8a85-47aaab988768\",\"type\":\"Toolbar\"},\"x_range\":{\"id\":\"db1c1928-1668-40ed-95e9-996694ee934b\",\"type\":\"DataRange1d\"},\"x_scale\":{\"id\":\"6a1178ff-b2b4-4d52-b957-7e37041a0680\",\"type\":\"LinearScale\"},\"y_range\":{\"id\":\"601d22f7-6dfd-498a-9470-e653b9d1fe99\",\"type\":\"DataRange1d\"},\"y_scale\":{\"id\":\"aab9a004-74d6-490f-8e4b-0ad478193f9c\",\"type\":\"LinearScale\"}},\"id\":\"036194ff-8448-49c3-bdc1-abf1e9b4a6d3\",\"subtype\":\"Figure\",\"type\":\"Plot\"},{\"attributes\":{\"line_color\":\"#1f77b4\",\"line_width\":2,\"x\":{\"field\":\"x\"},\"y\":{\"field\":\"y\"}},\"id\":\"8528883e-652c-4f7e-b63f-12787c04dbd3\",\"type\":\"Line\"},{\"attributes\":{},\"id\":\"8632b287-f641-4e43-832e-5b670c4200f9\",\"type\":\"UnionRenderers\"},{\"attributes\":{},\"id\":\"aab9a004-74d6-490f-8e4b-0ad478193f9c\",\"type\":\"LinearScale\"},{\"attributes\":{\"axis_label\":\"F(n; 10, 0.5)\",\"formatter\":{\"id\":\"5f086957-6360-4218-91ef-26cdb094e347\",\"type\":\"BasicTickFormatter\"},\"plot\":{\"id\":\"036194ff-8448-49c3-bdc1-abf1e9b4a6d3\",\"subtype\":\"Figure\",\"type\":\"Plot\"},\"ticker\":{\"id\":\"3a2455b7-8169-4ec4-ae8b-87c67f8eed94\",\"type\":\"BasicTicker\"}},\"id\":\"9ba01a67-8a44-4091-b358-ac55663606cf\",\"type\":\"LinearAxis\"},{\"attributes\":{\"overlay\":{\"id\":\"05fc6ece-05f7-41d6-9189-8af040924fd1\",\"type\":\"BoxAnnotation\"}},\"id\":\"1f275a5d-ff23-4143-8f06-77827a7b23f1\",\"type\":\"BoxZoomTool\"},{\"attributes\":{},\"id\":\"dc30f105-6825-4241-9a07-f77641fce8ef\",\"type\":\"SaveTool\"},{\"attributes\":{},\"id\":\"e67e26b6-80cd-4be0-80c9-aef6e847f882\",\"type\":\"BasicTicker\"},{\"attributes\":{},\"id\":\"ac52b773-4226-4f96-800b-7f7f13b104c8\",\"type\":\"ResetTool\"},{\"attributes\":{\"data_source\":{\"id\":\"15058e9d-2f84-4f44-8e6b-f590dab48209\",\"type\":\"ColumnDataSource\"},\"glyph\":{\"id\":\"8528883e-652c-4f7e-b63f-12787c04dbd3\",\"type\":\"Line\"},\"hover_glyph\":null,\"muted_glyph\":null,\"nonselection_glyph\":{\"id\":\"cebd2558-0360-4016-8544-ea87cc7b7cc7\",\"type\":\"Line\"},\"selection_glyph\":null,\"view\":{\"id\":\"01192845-ab66-4a4b-bf73-79f45977360a\",\"type\":\"CDSView\"}},\"id\":\"8f354465-02ac-4e34-982e-37de3a7b2a99\",\"type\":\"GlyphRenderer\"}],\"root_ids\":[\"036194ff-8448-49c3-bdc1-abf1e9b4a6d3\"]},\"title\":\"Bokeh Application\",\"version\":\"0.13.0\"}};\n",
       "  var render_items = [{\"docid\":\"5eebf9b2-27d9-4398-a88b-95358886b5ad\",\"roots\":{\"036194ff-8448-49c3-bdc1-abf1e9b4a6d3\":\"94ac97bf-365f-4ac5-8bae-a0dfb1ed2f36\"}}];\n",
       "  root.Bokeh.embed.embed_items_notebook(docs_json, render_items);\n",
       "\n",
       "  }\n",
       "  if (root.Bokeh !== undefined) {\n",
       "    embed_document(root);\n",
       "  } else {\n",
       "    var attempts = 0;\n",
       "    var timer = setInterval(function(root) {\n",
       "      if (root.Bokeh !== undefined) {\n",
       "        embed_document(root);\n",
       "        clearInterval(timer);\n",
       "      }\n",
       "      attempts++;\n",
       "      if (attempts > 100) {\n",
       "        console.log(\"Bokeh: ERROR: Unable to run BokehJS code because BokehJS library is missing\")\n",
       "        clearInterval(timer);\n",
       "      }\n",
       "    }, 10, root)\n",
       "  }\n",
       "})(window);"
      ],
      "application/vnd.bokehjs_exec.v0+json": ""
     },
     "metadata": {
      "application/vnd.bokehjs_exec.v0+json": {
       "id": "036194ff-8448-49c3-bdc1-abf1e9b4a6d3"
      }
     },
     "output_type": "display_data"
    }
   ],
   "source": [
    "x = np.arange(0, 11)\n",
    "x_size = x[-1] - x[0]\n",
    "x_c = np.empty(2*len(x))\n",
    "x_c[::2] = x\n",
    "x_c[1::2] = x\n",
    "x_c = np.concatenate(((max(x[0] - 0.05*x_size, x[0] - 0.95),), \n",
    "                      x_c,\n",
    "                      (min(x[-1] + 0.05*x_size, x[-1] + 0.95),)))\n",
    "x_cdf = np.concatenate(((x_c[0],), x))\n",
    "\n",
    "y = st.binom.cdf(x_cdf, 10, 0.5)\n",
    "y_c = np.empty_like(x_c)\n",
    "y_c[::2] = y\n",
    "y_c[1::2] = y\n",
    "\n",
    "p = bokeh.plotting.figure(plot_height=250,\n",
    "                          plot_width=350,\n",
    "                          x_axis_label='n',\n",
    "                          y_axis_label='F(n; 10, 0.5)')\n",
    "p.line(x_c, y_c, line_width=2)\n",
    "bokeh.io.show(p)"
   ]
  },
  {
   "cell_type": "markdown",
   "metadata": {},
   "source": [
    "The CDF appears to be multivalued at the vertical lines of the staircase. It is not. Furthermore, the lines at zero and one on the CDF axis should extend out to $-\\infty$ and $\\infty$, respectively along the horizontal axis. Strictly speaking, it should be plotted as follows."
   ]
  },
  {
   "cell_type": "code",
   "execution_count": 33,
   "metadata": {},
   "outputs": [
    {
     "data": {
      "text/html": [
       "\n",
       "\n",
       "\n",
       "\n",
       "\n",
       "\n",
       "  <div class=\"bk-root\" id=\"c7a97e48-6094-46e1-ab9c-cf034562239f\"></div>\n"
      ]
     },
     "metadata": {},
     "output_type": "display_data"
    },
    {
     "data": {
      "application/javascript": [
       "(function(root) {\n",
       "  function embed_document(root) {\n",
       "    \n",
       "  var docs_json = {\"70d4ebc3-49dd-4ffe-ba2f-0c0f479000b8\":{\"roots\":{\"references\":[{\"attributes\":{\"angle\":{\"units\":\"rad\",\"value\":3.141592653589793},\"length\":{\"units\":\"data\",\"value\":0},\"line_color\":{\"value\":\"#1f77b4\"},\"line_width\":{\"value\":2},\"x\":{\"value\":0},\"y\":{\"value\":0}},\"id\":\"ebc627b8-bef5-44d7-bd91-d27f5fc4351d\",\"type\":\"Ray\"},{\"attributes\":{\"data_source\":{\"id\":\"da02880d-e345-4a57-8263-dd7fe4eaa9a4\",\"type\":\"ColumnDataSource\"},\"glyph\":{\"id\":\"aa3e3148-fac0-4a76-8357-45f6992b201c\",\"type\":\"Segment\"},\"hover_glyph\":null,\"muted_glyph\":null,\"nonselection_glyph\":{\"id\":\"84d87bea-e59a-47c3-9ec1-c4fa5159549f\",\"type\":\"Segment\"},\"selection_glyph\":null,\"view\":{\"id\":\"a7aeadbb-a88b-4d18-8e68-09ff52042376\",\"type\":\"CDSView\"}},\"id\":\"a893afb7-6858-4e73-8f85-40c5ee96f014\",\"type\":\"GlyphRenderer\"},{\"attributes\":{\"source\":{\"id\":\"da02880d-e345-4a57-8263-dd7fe4eaa9a4\",\"type\":\"ColumnDataSource\"}},\"id\":\"a7aeadbb-a88b-4d18-8e68-09ff52042376\",\"type\":\"CDSView\"},{\"attributes\":{\"angle\":{\"units\":\"rad\",\"value\":3.141592653589793},\"length\":{\"units\":\"data\",\"value\":0},\"line_alpha\":{\"value\":0.1},\"line_color\":{\"value\":\"#1f77b4\"},\"line_width\":{\"value\":2},\"x\":{\"value\":0},\"y\":{\"value\":0}},\"id\":\"1dea60cb-f3f5-4b73-94fd-3135b268519c\",\"type\":\"Ray\"},{\"attributes\":{},\"id\":\"7c7f0cb3-ef12-4d05-b102-e42a5631affb\",\"type\":\"WheelZoomTool\"},{\"attributes\":{},\"id\":\"79144570-c35c-4ebc-8907-5c3f85c2fde0\",\"type\":\"HelpTool\"},{\"attributes\":{\"angle\":{\"units\":\"rad\",\"value\":0},\"length\":{\"units\":\"data\",\"value\":0},\"line_color\":{\"value\":\"#1f77b4\"},\"line_width\":{\"value\":2},\"x\":{\"value\":10},\"y\":{\"value\":1}},\"id\":\"2e3773c3-1b0f-40c1-b593-44bf29ea1ee6\",\"type\":\"Ray\"},{\"attributes\":{},\"id\":\"07b350ad-330e-493d-b114-49897f27cb67\",\"type\":\"Selection\"},{\"attributes\":{\"data_source\":{\"id\":\"9dbcfdd8-c5cc-4923-ac35-a4a3f8b687ed\",\"type\":\"ColumnDataSource\"},\"glyph\":{\"id\":\"ebc627b8-bef5-44d7-bd91-d27f5fc4351d\",\"type\":\"Ray\"},\"hover_glyph\":null,\"muted_glyph\":null,\"nonselection_glyph\":{\"id\":\"1dea60cb-f3f5-4b73-94fd-3135b268519c\",\"type\":\"Ray\"},\"selection_glyph\":null,\"view\":{\"id\":\"825e71ad-8e2d-41a3-999b-4f03fbb4e13f\",\"type\":\"CDSView\"}},\"id\":\"465e1b45-8766-4db5-a16b-ba4babe21c7e\",\"type\":\"GlyphRenderer\"},{\"attributes\":{\"overlay\":{\"id\":\"d7fa4382-037c-41cb-8e5b-90eff2db9e9f\",\"type\":\"BoxAnnotation\"}},\"id\":\"5e2b2890-8133-4459-b6ac-fe7b19cb8c1e\",\"type\":\"BoxZoomTool\"},{\"attributes\":{\"axis_label\":\"F(n; 10, 0.5)\",\"formatter\":{\"id\":\"e8344855-6bbb-4cab-bd7a-6a0b67b27d05\",\"type\":\"BasicTickFormatter\"},\"plot\":{\"id\":\"2868ae1e-de4b-410c-9bcc-b43c616d2bf5\",\"subtype\":\"Figure\",\"type\":\"Plot\"},\"ticker\":{\"id\":\"a6a7e344-0651-453b-af83-ed212e08b438\",\"type\":\"BasicTicker\"}},\"id\":\"5c8d7ea1-3a10-4658-8726-84d9e90cab6e\",\"type\":\"LinearAxis\"},{\"attributes\":{\"data_source\":{\"id\":\"37f24c1d-9e0f-49af-8498-03d88aa9a1ac\",\"type\":\"ColumnDataSource\"},\"glyph\":{\"id\":\"af13f765-2d14-4e84-b0b1-7bfd2414b5b7\",\"type\":\"Circle\"},\"hover_glyph\":null,\"muted_glyph\":null,\"nonselection_glyph\":{\"id\":\"28464d2d-3472-4409-a8f6-245bf5bd261e\",\"type\":\"Circle\"},\"selection_glyph\":null,\"view\":{\"id\":\"aa99a38e-1b3f-4c8f-8069-366127d41b9e\",\"type\":\"CDSView\"}},\"id\":\"48bf4c1d-2c7b-4c55-933b-14e27dc0ca62\",\"type\":\"GlyphRenderer\"},{\"attributes\":{\"bottom_units\":\"screen\",\"fill_alpha\":{\"value\":0.5},\"fill_color\":{\"value\":\"lightgrey\"},\"left_units\":\"screen\",\"level\":\"overlay\",\"line_alpha\":{\"value\":1.0},\"line_color\":{\"value\":\"black\"},\"line_dash\":[4,4],\"line_width\":{\"value\":2},\"plot\":null,\"render_mode\":\"css\",\"right_units\":\"screen\",\"top_units\":\"screen\"},\"id\":\"d7fa4382-037c-41cb-8e5b-90eff2db9e9f\",\"type\":\"BoxAnnotation\"},{\"attributes\":{\"axis_label\":\"n\",\"formatter\":{\"id\":\"cac289e3-21c0-4a2c-9084-1d6b86d93fed\",\"type\":\"BasicTickFormatter\"},\"plot\":{\"id\":\"2868ae1e-de4b-410c-9bcc-b43c616d2bf5\",\"subtype\":\"Figure\",\"type\":\"Plot\"},\"ticker\":{\"id\":\"84bb8ca7-f38f-4cfe-9345-751a2f17cb43\",\"type\":\"BasicTicker\"}},\"id\":\"999c530c-0004-453e-af05-addcd50ad7b6\",\"type\":\"LinearAxis\"},{\"attributes\":{\"callback\":null,\"data\":{\"x\":[0],\"y\":[0]},\"selected\":{\"id\":\"bb06904e-8962-41d0-91de-d2d3dcc77df8\",\"type\":\"Selection\"},\"selection_policy\":{\"id\":\"4f4326ac-77cc-43b7-9ce8-fabef7414a3b\",\"type\":\"UnionRenderers\"}},\"id\":\"c6b29b31-d604-4aec-b458-31b360e06e55\",\"type\":\"ColumnDataSource\"},{\"attributes\":{},\"id\":\"bb4572b8-497b-4a8a-a74d-3b417fe3eff1\",\"type\":\"UnionRenderers\"},{\"attributes\":{},\"id\":\"56cae2d1-5153-40dd-bbde-5edf47d8956e\",\"type\":\"LinearScale\"},{\"attributes\":{},\"id\":\"5b9559cc-35ca-4dce-ae4a-aec3bfe520d1\",\"type\":\"UnionRenderers\"},{\"attributes\":{},\"id\":\"89a37027-bec1-4389-8f19-368294898378\",\"type\":\"Selection\"},{\"attributes\":{\"line_color\":{\"value\":\"#1f77b4\"},\"line_width\":{\"value\":2},\"x0\":{\"field\":\"x0\"},\"x1\":{\"field\":\"x1\"},\"y0\":{\"field\":\"y0\"},\"y1\":{\"field\":\"y1\"}},\"id\":\"aa3e3148-fac0-4a76-8357-45f6992b201c\",\"type\":\"Segment\"},{\"attributes\":{},\"id\":\"9db37215-6066-4835-b809-c69fa110fd37\",\"type\":\"Selection\"},{\"attributes\":{},\"id\":\"cf523b75-f86e-4adb-aed9-ea315eabdccc\",\"type\":\"UnionRenderers\"},{\"attributes\":{\"callback\":null},\"id\":\"1c017887-733c-4da1-b797-c1e31eaa3d63\",\"type\":\"DataRange1d\"},{\"attributes\":{\"source\":{\"id\":\"37f24c1d-9e0f-49af-8498-03d88aa9a1ac\",\"type\":\"ColumnDataSource\"}},\"id\":\"aa99a38e-1b3f-4c8f-8069-366127d41b9e\",\"type\":\"CDSView\"},{\"attributes\":{\"callback\":null,\"data\":{\"x0\":[0,1,2,3,4,5,6,7,8,9],\"x1\":[1,2,3,4,5,6,7,8,9,10],\"y0\":{\"__ndarray__\":\"AAAAAAAAUD////////+FPwIAAAAAAKw//v//////xT8CAAAAACDYP///////7+M/AAAAAACA6j8AAAAAAEDuPwAAAAAAqO8/AAAAAAD47z8=\",\"dtype\":\"float64\",\"shape\":[10]},\"y1\":{\"__ndarray__\":\"AAAAAAAAUD////////+FPwIAAAAAAKw//v//////xT8CAAAAACDYP///////7+M/AAAAAACA6j8AAAAAAEDuPwAAAAAAqO8/AAAAAAD47z8=\",\"dtype\":\"float64\",\"shape\":[10]}},\"selected\":{\"id\":\"15dfee58-160f-4020-a615-b88e5f1dd3fd\",\"type\":\"Selection\"},\"selection_policy\":{\"id\":\"e5ddc4d7-277d-438c-890a-fb095a8613ea\",\"type\":\"UnionRenderers\"}},\"id\":\"da02880d-e345-4a57-8263-dd7fe4eaa9a4\",\"type\":\"ColumnDataSource\"},{\"attributes\":{\"active_drag\":\"auto\",\"active_inspect\":\"auto\",\"active_multi\":null,\"active_scroll\":\"auto\",\"active_tap\":\"auto\",\"tools\":[{\"id\":\"314153a5-937f-44f0-a5d7-8e58364295a1\",\"type\":\"PanTool\"},{\"id\":\"7c7f0cb3-ef12-4d05-b102-e42a5631affb\",\"type\":\"WheelZoomTool\"},{\"id\":\"5e2b2890-8133-4459-b6ac-fe7b19cb8c1e\",\"type\":\"BoxZoomTool\"},{\"id\":\"196a3ba9-b4fc-4597-a686-4c6f2877ad7f\",\"type\":\"SaveTool\"},{\"id\":\"3e9ede36-9585-4a76-8023-b6e2f6e5eaf2\",\"type\":\"ResetTool\"},{\"id\":\"79144570-c35c-4ebc-8907-5c3f85c2fde0\",\"type\":\"HelpTool\"}]},\"id\":\"25c74733-abc1-4f2a-82d7-e48b0c421181\",\"type\":\"Toolbar\"},{\"attributes\":{},\"id\":\"e5ddc4d7-277d-438c-890a-fb095a8613ea\",\"type\":\"UnionRenderers\"},{\"attributes\":{},\"id\":\"7120b198-2a6b-44d9-9a74-8dc604826bae\",\"type\":\"UnionRenderers\"},{\"attributes\":{},\"id\":\"84bb8ca7-f38f-4cfe-9345-751a2f17cb43\",\"type\":\"BasicTicker\"},{\"attributes\":{},\"id\":\"e8344855-6bbb-4cab-bd7a-6a0b67b27d05\",\"type\":\"BasicTickFormatter\"},{\"attributes\":{},\"id\":\"3e9ede36-9585-4a76-8023-b6e2f6e5eaf2\",\"type\":\"ResetTool\"},{\"attributes\":{\"dimension\":1,\"plot\":{\"id\":\"2868ae1e-de4b-410c-9bcc-b43c616d2bf5\",\"subtype\":\"Figure\",\"type\":\"Plot\"},\"ticker\":{\"id\":\"a6a7e344-0651-453b-af83-ed212e08b438\",\"type\":\"BasicTicker\"}},\"id\":\"83a4a274-ec30-4897-95ca-d48ae268c9e5\",\"type\":\"Grid\"},{\"attributes\":{\"callback\":null,\"data\":{\"x\":[0,1,2,3,4,5,6,7,8,9,10],\"y\":{\"__ndarray__\":\"AAAAAAAAUD////////+FPwIAAAAAAKw//v//////xT8CAAAAACDYP///////7+M/AAAAAACA6j8AAAAAAEDuPwAAAAAAqO8/AAAAAAD47z8AAAAAAADwPw==\",\"dtype\":\"float64\",\"shape\":[11]}},\"selected\":{\"id\":\"89a37027-bec1-4389-8f19-368294898378\",\"type\":\"Selection\"},\"selection_policy\":{\"id\":\"cf523b75-f86e-4adb-aed9-ea315eabdccc\",\"type\":\"UnionRenderers\"}},\"id\":\"37f24c1d-9e0f-49af-8498-03d88aa9a1ac\",\"type\":\"ColumnDataSource\"},{\"attributes\":{},\"id\":\"3769d58f-0b0b-4af4-ada2-e38ea85a9810\",\"type\":\"LinearScale\"},{\"attributes\":{},\"id\":\"bb06904e-8962-41d0-91de-d2d3dcc77df8\",\"type\":\"Selection\"},{\"attributes\":{},\"id\":\"a6a7e344-0651-453b-af83-ed212e08b438\",\"type\":\"BasicTicker\"},{\"attributes\":{},\"id\":\"cac289e3-21c0-4a2c-9084-1d6b86d93fed\",\"type\":\"BasicTickFormatter\"},{\"attributes\":{\"callback\":null},\"id\":\"03598938-e306-44bb-b178-14133499f650\",\"type\":\"DataRange1d\"},{\"attributes\":{\"source\":{\"id\":\"b2dbccbc-d48c-4e03-9413-b9650b9c7104\",\"type\":\"ColumnDataSource\"}},\"id\":\"b5184cf3-0183-4a67-9181-950eec089e1d\",\"type\":\"CDSView\"},{\"attributes\":{\"fill_color\":{\"value\":\"#1f77b4\"},\"line_color\":{\"value\":\"#1f77b4\"},\"x\":{\"field\":\"x\"},\"y\":{\"field\":\"y\"}},\"id\":\"af13f765-2d14-4e84-b0b1-7bfd2414b5b7\",\"type\":\"Circle\"},{\"attributes\":{\"below\":[{\"id\":\"999c530c-0004-453e-af05-addcd50ad7b6\",\"type\":\"LinearAxis\"}],\"left\":[{\"id\":\"5c8d7ea1-3a10-4658-8726-84d9e90cab6e\",\"type\":\"LinearAxis\"}],\"plot_height\":250,\"plot_width\":350,\"renderers\":[{\"id\":\"999c530c-0004-453e-af05-addcd50ad7b6\",\"type\":\"LinearAxis\"},{\"id\":\"6f7c5f51-acca-4e6c-b559-d4aea80fc887\",\"type\":\"Grid\"},{\"id\":\"5c8d7ea1-3a10-4658-8726-84d9e90cab6e\",\"type\":\"LinearAxis\"},{\"id\":\"83a4a274-ec30-4897-95ca-d48ae268c9e5\",\"type\":\"Grid\"},{\"id\":\"d7fa4382-037c-41cb-8e5b-90eff2db9e9f\",\"type\":\"BoxAnnotation\"},{\"id\":\"a893afb7-6858-4e73-8f85-40c5ee96f014\",\"type\":\"GlyphRenderer\"},{\"id\":\"465e1b45-8766-4db5-a16b-ba4babe21c7e\",\"type\":\"GlyphRenderer\"},{\"id\":\"e00c85df-f96f-41dc-a27e-00c43d8667eb\",\"type\":\"GlyphRenderer\"},{\"id\":\"4e509c31-2c27-47ac-87be-3ded15d1d473\",\"type\":\"GlyphRenderer\"},{\"id\":\"403bd222-4812-4ee7-b46e-9fb3deeb4ff7\",\"type\":\"GlyphRenderer\"},{\"id\":\"48bf4c1d-2c7b-4c55-933b-14e27dc0ca62\",\"type\":\"GlyphRenderer\"}],\"title\":{\"id\":\"40cb700d-5b6b-44ff-b55f-30ffd7019334\",\"type\":\"Title\"},\"toolbar\":{\"id\":\"25c74733-abc1-4f2a-82d7-e48b0c421181\",\"type\":\"Toolbar\"},\"x_range\":{\"id\":\"03598938-e306-44bb-b178-14133499f650\",\"type\":\"DataRange1d\"},\"x_scale\":{\"id\":\"56cae2d1-5153-40dd-bbde-5edf47d8956e\",\"type\":\"LinearScale\"},\"y_range\":{\"id\":\"1c017887-733c-4da1-b797-c1e31eaa3d63\",\"type\":\"DataRange1d\"},\"y_scale\":{\"id\":\"3769d58f-0b0b-4af4-ada2-e38ea85a9810\",\"type\":\"LinearScale\"}},\"id\":\"2868ae1e-de4b-410c-9bcc-b43c616d2bf5\",\"subtype\":\"Figure\",\"type\":\"Plot\"},{\"attributes\":{\"plot\":null,\"text\":\"\"},\"id\":\"40cb700d-5b6b-44ff-b55f-30ffd7019334\",\"type\":\"Title\"},{\"attributes\":{\"fill_alpha\":{\"value\":0.1},\"fill_color\":{\"value\":\"#1f77b4\"},\"line_alpha\":{\"value\":0.1},\"line_color\":{\"value\":\"#1f77b4\"},\"x\":{\"field\":\"x\"},\"y\":{\"field\":\"y\"}},\"id\":\"28464d2d-3472-4409-a8f6-245bf5bd261e\",\"type\":\"Circle\"},{\"attributes\":{\"callback\":null,\"data\":{\"x\":[1,2,3,4,5,6,7,8,9,10],\"y\":{\"__ndarray__\":\"AAAAAAAAUD////////+FPwIAAAAAAKw//v//////xT8CAAAAACDYP///////7+M/AAAAAACA6j8AAAAAAEDuPwAAAAAAqO8/AAAAAAD47z8=\",\"dtype\":\"float64\",\"shape\":[10]}},\"selected\":{\"id\":\"9db37215-6066-4835-b809-c69fa110fd37\",\"type\":\"Selection\"},\"selection_policy\":{\"id\":\"bb4572b8-497b-4a8a-a74d-3b417fe3eff1\",\"type\":\"UnionRenderers\"}},\"id\":\"615779c6-f7ff-444e-a669-f5011e264e46\",\"type\":\"ColumnDataSource\"},{\"attributes\":{\"data_source\":{\"id\":\"b2dbccbc-d48c-4e03-9413-b9650b9c7104\",\"type\":\"ColumnDataSource\"},\"glyph\":{\"id\":\"2e3773c3-1b0f-40c1-b593-44bf29ea1ee6\",\"type\":\"Ray\"},\"hover_glyph\":null,\"muted_glyph\":null,\"nonselection_glyph\":{\"id\":\"dcf7bff0-7dcc-47c4-8b47-01565b6ade75\",\"type\":\"Ray\"},\"selection_glyph\":null,\"view\":{\"id\":\"b5184cf3-0183-4a67-9181-950eec089e1d\",\"type\":\"CDSView\"}},\"id\":\"e00c85df-f96f-41dc-a27e-00c43d8667eb\",\"type\":\"GlyphRenderer\"},{\"attributes\":{\"fill_alpha\":{\"value\":0.1},\"fill_color\":{\"value\":\"#1f77b4\"},\"line_alpha\":{\"value\":0.1},\"line_color\":{\"value\":\"#1f77b4\"},\"x\":{\"field\":\"x\"},\"y\":{\"field\":\"y\"}},\"id\":\"30ebf766-a1a1-487a-b3e1-e616f63903ef\",\"type\":\"Circle\"},{\"attributes\":{\"line_alpha\":{\"value\":0.1},\"line_color\":{\"value\":\"#1f77b4\"},\"line_width\":{\"value\":2},\"x0\":{\"field\":\"x0\"},\"x1\":{\"field\":\"x1\"},\"y0\":{\"field\":\"y0\"},\"y1\":{\"field\":\"y1\"}},\"id\":\"84d87bea-e59a-47c3-9ec1-c4fa5159549f\",\"type\":\"Segment\"},{\"attributes\":{\"fill_color\":{\"value\":\"white\"},\"line_color\":{\"value\":\"#1f77b4\"},\"x\":{\"field\":\"x\"},\"y\":{\"field\":\"y\"}},\"id\":\"cf83133a-8d83-450b-8962-e3614cf89027\",\"type\":\"Circle\"},{\"attributes\":{\"data_source\":{\"id\":\"c6b29b31-d604-4aec-b458-31b360e06e55\",\"type\":\"ColumnDataSource\"},\"glyph\":{\"id\":\"cf83133a-8d83-450b-8962-e3614cf89027\",\"type\":\"Circle\"},\"hover_glyph\":null,\"muted_glyph\":null,\"nonselection_glyph\":{\"id\":\"30ebf766-a1a1-487a-b3e1-e616f63903ef\",\"type\":\"Circle\"},\"selection_glyph\":null,\"view\":{\"id\":\"1c6aa0ee-1b5f-48f7-bc03-c1f90ea0076e\",\"type\":\"CDSView\"}},\"id\":\"4e509c31-2c27-47ac-87be-3ded15d1d473\",\"type\":\"GlyphRenderer\"},{\"attributes\":{},\"id\":\"15dfee58-160f-4020-a615-b88e5f1dd3fd\",\"type\":\"Selection\"},{\"attributes\":{\"angle\":{\"units\":\"rad\",\"value\":0},\"length\":{\"units\":\"data\",\"value\":0},\"line_alpha\":{\"value\":0.1},\"line_color\":{\"value\":\"#1f77b4\"},\"line_width\":{\"value\":2},\"x\":{\"value\":10},\"y\":{\"value\":1}},\"id\":\"dcf7bff0-7dcc-47c4-8b47-01565b6ade75\",\"type\":\"Ray\"},{\"attributes\":{\"plot\":{\"id\":\"2868ae1e-de4b-410c-9bcc-b43c616d2bf5\",\"subtype\":\"Figure\",\"type\":\"Plot\"},\"ticker\":{\"id\":\"84bb8ca7-f38f-4cfe-9345-751a2f17cb43\",\"type\":\"BasicTicker\"}},\"id\":\"6f7c5f51-acca-4e6c-b559-d4aea80fc887\",\"type\":\"Grid\"},{\"attributes\":{\"data_source\":{\"id\":\"615779c6-f7ff-444e-a669-f5011e264e46\",\"type\":\"ColumnDataSource\"},\"glyph\":{\"id\":\"27557e5b-c545-4557-81e5-e2ffbc4ea621\",\"type\":\"Circle\"},\"hover_glyph\":null,\"muted_glyph\":null,\"nonselection_glyph\":{\"id\":\"f0cd5fc9-f39b-4415-a88b-9c7cb47859dd\",\"type\":\"Circle\"},\"selection_glyph\":null,\"view\":{\"id\":\"b53e6070-098c-46ea-a007-38bbad5cfc86\",\"type\":\"CDSView\"}},\"id\":\"403bd222-4812-4ee7-b46e-9fb3deeb4ff7\",\"type\":\"GlyphRenderer\"},{\"attributes\":{\"callback\":null,\"data\":{},\"selected\":{\"id\":\"2279d349-a12d-486a-8bee-deda42ef920a\",\"type\":\"Selection\"},\"selection_policy\":{\"id\":\"7120b198-2a6b-44d9-9a74-8dc604826bae\",\"type\":\"UnionRenderers\"}},\"id\":\"9dbcfdd8-c5cc-4923-ac35-a4a3f8b687ed\",\"type\":\"ColumnDataSource\"},{\"attributes\":{\"fill_alpha\":{\"value\":0.1},\"fill_color\":{\"value\":\"#1f77b4\"},\"line_alpha\":{\"value\":0.1},\"line_color\":{\"value\":\"#1f77b4\"},\"x\":{\"field\":\"x\"},\"y\":{\"field\":\"y\"}},\"id\":\"f0cd5fc9-f39b-4415-a88b-9c7cb47859dd\",\"type\":\"Circle\"},{\"attributes\":{},\"id\":\"196a3ba9-b4fc-4597-a686-4c6f2877ad7f\",\"type\":\"SaveTool\"},{\"attributes\":{},\"id\":\"2279d349-a12d-486a-8bee-deda42ef920a\",\"type\":\"Selection\"},{\"attributes\":{\"source\":{\"id\":\"615779c6-f7ff-444e-a669-f5011e264e46\",\"type\":\"ColumnDataSource\"}},\"id\":\"b53e6070-098c-46ea-a007-38bbad5cfc86\",\"type\":\"CDSView\"},{\"attributes\":{},\"id\":\"314153a5-937f-44f0-a5d7-8e58364295a1\",\"type\":\"PanTool\"},{\"attributes\":{},\"id\":\"4f4326ac-77cc-43b7-9ce8-fabef7414a3b\",\"type\":\"UnionRenderers\"},{\"attributes\":{\"fill_color\":{\"value\":\"white\"},\"line_color\":{\"value\":\"#1f77b4\"},\"x\":{\"field\":\"x\"},\"y\":{\"field\":\"y\"}},\"id\":\"27557e5b-c545-4557-81e5-e2ffbc4ea621\",\"type\":\"Circle\"},{\"attributes\":{\"callback\":null,\"data\":{},\"selected\":{\"id\":\"07b350ad-330e-493d-b114-49897f27cb67\",\"type\":\"Selection\"},\"selection_policy\":{\"id\":\"5b9559cc-35ca-4dce-ae4a-aec3bfe520d1\",\"type\":\"UnionRenderers\"}},\"id\":\"b2dbccbc-d48c-4e03-9413-b9650b9c7104\",\"type\":\"ColumnDataSource\"},{\"attributes\":{\"source\":{\"id\":\"c6b29b31-d604-4aec-b458-31b360e06e55\",\"type\":\"ColumnDataSource\"}},\"id\":\"1c6aa0ee-1b5f-48f7-bc03-c1f90ea0076e\",\"type\":\"CDSView\"},{\"attributes\":{\"source\":{\"id\":\"9dbcfdd8-c5cc-4923-ac35-a4a3f8b687ed\",\"type\":\"ColumnDataSource\"}},\"id\":\"825e71ad-8e2d-41a3-999b-4f03fbb4e13f\",\"type\":\"CDSView\"}],\"root_ids\":[\"2868ae1e-de4b-410c-9bcc-b43c616d2bf5\"]},\"title\":\"Bokeh Application\",\"version\":\"0.13.0\"}};\n",
       "  var render_items = [{\"docid\":\"70d4ebc3-49dd-4ffe-ba2f-0c0f479000b8\",\"roots\":{\"2868ae1e-de4b-410c-9bcc-b43c616d2bf5\":\"c7a97e48-6094-46e1-ab9c-cf034562239f\"}}];\n",
       "  root.Bokeh.embed.embed_items_notebook(docs_json, render_items);\n",
       "\n",
       "  }\n",
       "  if (root.Bokeh !== undefined) {\n",
       "    embed_document(root);\n",
       "  } else {\n",
       "    var attempts = 0;\n",
       "    var timer = setInterval(function(root) {\n",
       "      if (root.Bokeh !== undefined) {\n",
       "        embed_document(root);\n",
       "        clearInterval(timer);\n",
       "      }\n",
       "      attempts++;\n",
       "      if (attempts > 100) {\n",
       "        console.log(\"Bokeh: ERROR: Unable to run BokehJS code because BokehJS library is missing\")\n",
       "        clearInterval(timer);\n",
       "      }\n",
       "    }, 10, root)\n",
       "  }\n",
       "})(window);"
      ],
      "application/vnd.bokehjs_exec.v0+json": ""
     },
     "metadata": {
      "application/vnd.bokehjs_exec.v0+json": {
       "id": "2868ae1e-de4b-410c-9bcc-b43c616d2bf5"
      }
     },
     "output_type": "display_data"
    }
   ],
   "source": [
    "x = np.arange(0, 11)\n",
    "y = st.binom.cdf(x, 10, 0.5)\n",
    "\n",
    "p = bokeh.plotting.figure(plot_height=250,\n",
    "                          plot_width=350,\n",
    "                          x_axis_label='n',\n",
    "                          y_axis_label='F(n; 10, 0.5)')\n",
    "p.segment(x[:-1], y[:-1], x[1:], y[:-1], line_width=2)\n",
    "p.ray(0, 0, angle=np.pi, length=0, line_width=2)\n",
    "p.ray(x[-1], 1, angle=0, length=0, line_width=2)\n",
    "p.circle([0], [0], fill_color='white')\n",
    "p.circle(x[1:], y[:-1], fill_color='white')\n",
    "p.circle(x, y)\n",
    "bokeh.io.show(p)"
   ]
  },
  {
   "cell_type": "markdown",
   "metadata": {},
   "source": [
    "However, since it is understood that the CDF is not multivalued, there should be no ambiguity in plotting the staircase, and indeed staircase style CDFs are commonly used. The staircase has less clutter and I find it is easier to look at and interpret. Furthemore, we know that all CDFs extend toward $x=-\\infty$ with a value of zero and toward $x=\\infty$ with a value of one. So, again, there is no ambiguity in cutting off the infinitely long tails of the CDF."
   ]
  },
  {
   "cell_type": "markdown",
   "metadata": {},
   "source": [
    "## Discrete distributions"
   ]
  },
  {
   "cell_type": "markdown",
   "metadata": {},
   "source": [
    "### Bernoulli distribution\n",
    "\n",
    "* **Story.** A *Bernoulli trial* is an experiment that has two outcomes that can be encoded as success ($y=1$) or failure ($y = 0$). The result $y$ of a Bernoulli trial is Bernoulli distributed.\n",
    "\n",
    "* **Example.** Check to see if a given bacterium is competent, given that it has probability $\\theta$ of being competent.\n",
    "\n",
    "* **Parameter.** The Bernoulli distribution is parametrized by a\n",
    "single value, $\\theta$, the probability that the trial is successful.\n",
    "\n",
    "* **Support.**\n",
    "The Bernoulli distribution may be nonzero only for zero and one.\n",
    "\n",
    "* **Probability mass function.**\n",
    "\\begin{align}\n",
    "f(y;\\theta) = \\left\\{ \\begin{array}{ccc}\n",
    "1-\\theta & & y = 0 \\\\[0.5em]\n",
    "\\theta & & y = 1.\n",
    "\\end{array}\n",
    "\\right.\n",
    "\\end{align}\n",
    "\n",
    "* **Usage**\n",
    "\n",
    "| Package        | Syntax           |\n",
    "|: ------------- | :------------- |\n",
    "|**NumPy** | `np.random.choice([0, 1], p=[1-theta, theta])` |\n",
    "|**SciPy** | `scipy.stats.bernoulli(theta)` |\n",
    "|**Stan** | `bernoulli(theta)` |\n",
    "\n",
    "* **Related distributions.** \n",
    "    - The Bernoulli distribution is a special case of the [Binomial distribution](#Binomial-distribution) with $N=1$."
   ]
  },
  {
   "cell_type": "code",
   "execution_count": 34,
   "metadata": {},
   "outputs": [
    {
     "data": {
      "application/vnd.bokehjs_exec.v0+json": "",
      "text/html": [
       "\n",
       "<script src=\"http://localhost:59913/autoload.js?bokeh-autoload-element=f418add6-179e-4397-b098-72e25c6a57dd&bokeh-absolute-url=http://localhost:59913&resources=none\" id=\"f418add6-179e-4397-b098-72e25c6a57dd\"></script>"
      ]
     },
     "metadata": {
      "application/vnd.bokehjs_exec.v0+json": {
       "server_id": "9867ab8a80634db5885d42e0d957a155"
      }
     },
     "output_type": "display_data"
    }
   ],
   "source": [
    "params = [dict(name='θ', start=0, end=1, value=0.5, step=0.01)]\n",
    "app = distribution_plot_app(x_min=0,\n",
    "                            x_max=1,\n",
    "                            scipy_dist=st.bernoulli,\n",
    "                            params=params,\n",
    "                            x_axis_label='y',\n",
    "                            title='Bernoulli')\n",
    "bokeh.io.show(app, notebook_url=notebook_url)"
   ]
  },
  {
   "cell_type": "markdown",
   "metadata": {},
   "source": [
    "### Geometric distribution\n",
    "\n",
    "* **Story.** We perform a series of Bernoulli trials with probability of success $\\theta$ until we\n",
    "get a success.  The number of failures $y$ before the success is Geometrically distributed.\n",
    "\n",
    "* **Example.** Consider actin polymerization.  At each time\n",
    "step, an actin monomer may add to the filament (\"failure\"), or an\n",
    "actin monomer may fall off (\"success\") with (usually very low)\n",
    "probability $\\theta$.  The length of actin filaments are Geometrically\n",
    "distributed.\n",
    "\n",
    "* **Parameter.** The Geometric distribution is parametrized by a\n",
    "single value, $\\theta$, the probability that the Bernoulli trial is\n",
    "successful.\n",
    "\n",
    "* **Support.** The Geometric distribution, as defined here, is has support on the nonnegative integers.\n",
    "\n",
    "* **Probability mass function.**\n",
    "\n",
    "\\begin{align}\n",
    "f(y;\\theta) = (1-\\theta)^y \\, \\theta.\n",
    "\\end{align}\n",
    "\n",
    "* **Usage**\n",
    "\n",
    "| Package        | Syntax           |\n",
    "|: ------------- | :------------- |\n",
    "|**NumPy** | `np.random.geometric(theta)` |\n",
    "|**SciPy** | `scipy.stats.geom(theta, loc=-1)` |\n",
    "|**Stan** | `neg_binomial(1, theta/(1-theta))` |\n",
    "\n",
    "\n",
    "\n",
    "* **Related distributions.**\n",
    "    - The Geometric distribution is a special case of the [Negative Binomial distribution](#Negative-Binomial-distribution) in which $\\alpha=1$ and $\\theta = \\beta/(1+\\beta)$.\n",
    "    - The continuous analog of the Geometric distribution is the [Exponential distribution](#Exponential-distribution). \n",
    "\n",
    "* **Notes.** \n",
    "    - The Geometric distribution is supported on non-negative integer $y$.\n",
    "    - The Geometric distribution is not implemented in Stan. You can instead use a Negative Binomial distribution fixing the parameter $\\alpha$ to be unity and relating the parameter $\\beta$ of the Negative Binomial distribution to $\\theta$ as $\\theta = \\beta/(1+\\beta)$.\n",
    "    - The Geometric distribution is defined differently in SciPy, instead replacing $y$ with $y-1$. In SciPy's parametrization the Geometric distribution describes the number of successive Bernoulli *trials* (not just the failures; the success is included) necessary to get a success. To adjust for this, we use the `loc=-1` kwarg."
   ]
  },
  {
   "cell_type": "code",
   "execution_count": 36,
   "metadata": {},
   "outputs": [
    {
     "data": {
      "application/vnd.bokehjs_exec.v0+json": "",
      "text/html": [
       "\n",
       "<script src=\"http://localhost:59918/autoload.js?bokeh-autoload-element=e8396186-fb65-4b82-b934-97c0bb78e8e2&bokeh-absolute-url=http://localhost:59918&resources=none\" id=\"e8396186-fb65-4b82-b934-97c0bb78e8e2\"></script>"
      ]
     },
     "metadata": {
      "application/vnd.bokehjs_exec.v0+json": {
       "server_id": "7e055497dc0c443f92cae97868d3ee29"
      }
     },
     "output_type": "display_data"
    }
   ],
   "source": [
    "params = [dict(name='θ', start=0, end=1, value=0.5, step=0.01)]\n",
    "app = distribution_plot_app(x_min=0,\n",
    "                            x_max=20,\n",
    "                            scipy_dist=st.geom,\n",
    "                            params=params,\n",
    "                            transform=lambda theta: (theta, -1),\n",
    "                            x_axis_label='y',\n",
    "                            title='Geometric')\n",
    "bokeh.io.show(app, notebook_url=notebook_url)"
   ]
  },
  {
   "cell_type": "markdown",
   "metadata": {},
   "source": [
    "### Negative Binomial distribution\n",
    "\n",
    "* **Story.** We perform a series of Bernoulli trials. The number of failures, $y$, before we get $\\alpha$\n",
    "successes is Negative Binomially distributed. An equivalent story is that the sum of $\\alpha$ independent and identically Gamma distributed variables is Negative Binomial distributed.\n",
    "\n",
    "* **Example.** Bursty gene expression can give mRNA count\n",
    "distributions that are Negative Binomially distributed.  Here,\n",
    "\"success\" is that a burst in gene expression stops. So, the\n",
    "parameter $\\beta$ is the mean length of a burst in expression.  The parameter $\\alpha$ is related to the\n",
    "frequency of the bursts.  If multiple bursts are possible within the\n",
    "lifetime of mRNA, then $\\alpha > 1$.  Then, the number of \"failures\" is\n",
    "the number of mRNA transcripts that are made in the characteristic\n",
    "lifetime of mRNA.\n",
    "\n",
    "* **Parameters.** There are two parameters: $\\alpha$, the desired number of\n",
    "successes, and $\\beta$, which is the mean of the $\\alpha$ identical Gamma distributions that give the Negative Binomial. The probability of success of each Bernoulli trial is given by $\\beta/(1+\\beta)$.\n",
    "\n",
    "* **Support.** The Negative-Binomial distribution is supported on the set of nonnegative integers.\n",
    "\n",
    "* **Probability mass function.**\n",
    "\\begin{align}\n",
    "\\\\ \\phantom{blah}\n",
    "f(y;\\alpha,\\beta) = \\begin{pmatrix}\n",
    "y+\\alpha-1 \\\\\n",
    "\\alpha-1\n",
    "\\end{pmatrix}\n",
    "\\left(\\frac{\\beta}{1+\\beta}\\right)^\\alpha \\left(\\frac{1}{1+\\beta}\\right)^y.\n",
    "\\\\ \\phantom{blah}\n",
    "\\end{align}\n",
    "Here, we use a combinatorial notation;\n",
    "\\begin{align}\n",
    "\\\\ \\phantom{blah}\n",
    "  \\begin{pmatrix}\n",
    "y+\\alpha-1 \\\\\n",
    "\\alpha-1\n",
    "\\end{pmatrix} = \\frac{(y+\\alpha-1)!}{(\\alpha-1)!\\,y!}.\n",
    "\\\\ \\phantom{blah}\n",
    "\\end{align}\n",
    "Generally speaking, $\\alpha$ need not be an integer, so we may write the PMF as\n",
    "\\begin{align}\n",
    "\\\\ \\phantom{blah}\n",
    "f(y;\\alpha,\\beta) = \\frac{\\Gamma(y+\\alpha)}{\\Gamma(\\alpha) \\, y!}\\,\\left(\\frac{\\beta}{1+\\beta}\\right)^\\alpha \\left(\\frac{1}{1+\\beta}\\right)^y.\n",
    "\\end{align}\n",
    "\n",
    "* **Usage**\n",
    "\n",
    "| Package        | Syntax           |\n",
    "|: ------------- | :------------- |\n",
    "|**NumPy** | `np.random.negative_binomial(alpha, beta/(1+beta))` |\n",
    "|**SciPy** | `scipy.stats.nbinom(alpha, beta/(1+beta))` |\n",
    "|**Stan** | `neg_binomial(alpha, beta)` |\n",
    "|**Stan with $(\\mu, \\phi)$ parametrization** | `neg_binomial_2(mu, phi)` |\n",
    "\n",
    "* **Related distributions.**\n",
    "    - The [Geometric distribution](#Geometric-distribution) is a special case of the Negative Binomial distribution in which $\\alpha=1$ and $\\theta = \\beta/(1+\\beta)$.\n",
    "    - The continuous analog of the Negative Binomial distribution is the [Gamma distribution](#Gamma-distribution). \n",
    "    - In a certain limit, which is easier implemented using the $(\\mu,\\phi)$ parametrization below, the Negative Binomial distribution becomes a [Poisson distribution](#Poisson-distribution).\n",
    "\n",
    "* **Notes.** \n",
    "    - The Negative Binomial distribution may be parametrized such that the probability mass function is\n",
    "    \\begin{align}\n",
    "    \\\\ \\phantom{blah}\n",
    "       f(y;\\mu,\\phi) = \\frac{\\Gamma(y+\\phi)}{\\Gamma(\\phi) \\, y!}\\,\\left(\\frac{\\phi}{\\mu+\\phi}\\right)^\\phi\\left(\\frac{\\mu}{\\mu+\\phi}\\right)^y. \n",
    "    \\\\ \\phantom{blah}\n",
    "    \\end{align}\n",
    "    These parameters are related to the parametrization above by $\\phi = \\alpha$ and $\\mu = \\alpha/\\beta$. In the limit of $\\phi\\to\\infty$, which can be taken for the PMF, the Negative Binomial distribution becomes Poisson with parameter $\\mu$. This also gives meaning to the parameters $\\mu$ and $\\phi$. $\\mu$ is the mean of the Negative Binomial, and $\\phi$ controls extra width of the distribution beyond Poisson. The smaller $\\phi$ is, the broader the distribution.\n",
    "    - In Stan, the Negative Binomial distribution using the $(\\mu,\\phi)$ parametrization is called `neg_binomial_2`.\n",
    "    - SciPy and NumPy use yet another parametrization. The PMF for SciPy is\n",
    "    \\begin{align}\n",
    "    \\\\ \\phantom{blah}\n",
    "       f(y;n, p) = \\frac{\\Gamma(y+n)}{\\Gamma(n) \\, y!}\\,p^n \\left(1-p\\right)^y. \n",
    "    \\\\ \\phantom{blah}\n",
    "    \\end{align}\n",
    "    The parameter $p$ is the probability of success of a Bernoulli trial. The parameters are related to the others we have defined by $n=\\alpha=\\phi$ and $p=\\beta/(1+\\beta) = \\phi/(\\mu+\\phi)$."
   ]
  },
  {
   "cell_type": "code",
   "execution_count": 38,
   "metadata": {},
   "outputs": [
    {
     "data": {
      "application/vnd.bokehjs_exec.v0+json": "",
      "text/html": [
       "\n",
       "<script src=\"http://localhost:59921/autoload.js?bokeh-autoload-element=a6b58f53-4a03-4c9b-9caf-ebd8f4ec5f53&bokeh-absolute-url=http://localhost:59921&resources=none\" id=\"a6b58f53-4a03-4c9b-9caf-ebd8f4ec5f53\"></script>"
      ]
     },
     "metadata": {
      "application/vnd.bokehjs_exec.v0+json": {
       "server_id": "116a509551284fa1bcbf3c10c8755b8d"
      }
     },
     "output_type": "display_data"
    }
   ],
   "source": [
    "params = [dict(name='α', start=1, end=20, value=5, step=1),\n",
    "          dict(name='β', start=0, end=5, value=1, step=0.01)]\n",
    "\n",
    "app = distribution_plot_app(x_min=0,\n",
    "                            x_max=50,\n",
    "                            scipy_dist=st.nbinom,\n",
    "                            params=params,\n",
    "                            transform=lambda alpha, beta: (alpha, beta/(1+beta)),\n",
    "                            x_axis_label='y',\n",
    "                            title='Negative Binomial')\n",
    "bokeh.io.show(app, notebook_url=notebook_url)"
   ]
  },
  {
   "cell_type": "markdown",
   "metadata": {},
   "source": [
    "### Binomial distribution\n",
    "\n",
    "* **Story.** We perform $N$ Bernoulli trials, each with probability $\\theta$ of success.  The number of successes, $n$, is Binomially distributed.\n",
    "\n",
    "* **Example.** Distribution of plasmids between daughter cells\n",
    "in cell division.  Each of the $N$ plasmids as a chance $\\theta$ of being\n",
    "in daughter cell 1 (\"success\").  The number of plasmids, $n$, in\n",
    "daughter cell 1 is binomially distributed.\n",
    "\n",
    "* **Parameters.** There are two parameters: the probability $\\theta$ of success for each Bernoulli trial, and the number of trials, $N$.\n",
    "\n",
    "* **Support.** The Binomial distribution is supported on the set of nonnegative integers.\n",
    "\n",
    "* **Probability mass function.**\n",
    "\n",
    "\\begin{align}\n",
    "f(n;N,\\theta) = \\begin{pmatrix}\n",
    "N \\\\\n",
    "n\n",
    "\\end{pmatrix}\n",
    "\\theta^n (1-\\theta)^{N-n}.\n",
    "\\end{align}\n",
    "\n",
    "* **Usage**\n",
    "\n",
    "| Package        | Syntax           |\n",
    "|: ------------- | :------------- |\n",
    "|**NumPy** | `np.random.binomial(N, theta)` |\n",
    "|**SciPy** | `scipy.stats.binom(N, theta)` |\n",
    "|**Stan** | `binomial(N, theta)` |\n",
    "\n",
    "\n",
    "* **Related distributions.**\n",
    "    - The [Bernoulli distribution](#Bernoulli-distribution) is a special case of the Binomial distribution where $N=1$.\n",
    "    - In the limit of $N\\to\\infty$ and $\\theta\\to 0$ such that the quantity $N\\theta$ is fixed, the Binomial distribution becomes a [Poisson distribution](#Poisson-distribution) with parameter $N\\theta$.\n",
    "    - The Binomial distribution is a limit of the [Hypergeometric distribution](#Hypergeometric-distribution). Considering the Hypergeometric distribution and taking the limit of $a+b\\to\\infty$ such that $a/(a+b)$ is fixed, we get a [Binomial distribution](#Binomial-distribution) with parameters $N=N$ and $\\theta = a/(a+b)$."
   ]
  },
  {
   "cell_type": "code",
   "execution_count": 40,
   "metadata": {},
   "outputs": [
    {
     "data": {
      "application/vnd.bokehjs_exec.v0+json": "",
      "text/html": [
       "\n",
       "<script src=\"http://localhost:59924/autoload.js?bokeh-autoload-element=68e64ebc-4e73-47c5-826e-aa0333de17bf&bokeh-absolute-url=http://localhost:59924&resources=none\" id=\"68e64ebc-4e73-47c5-826e-aa0333de17bf\"></script>"
      ]
     },
     "metadata": {
      "application/vnd.bokehjs_exec.v0+json": {
       "server_id": "03520a6b676e4082a8dd308167021f4b"
      }
     },
     "output_type": "display_data"
    }
   ],
   "source": [
    "params = [dict(name='N', start=1, end=20, value=5, step=1),\n",
    "          dict(name='θ', start=0, end=1, value=0.5, step=0.01)]\n",
    "app = distribution_plot_app(x_min=0,\n",
    "                            x_max=20,\n",
    "                            scipy_dist=st.binom,\n",
    "                            params=params,\n",
    "                            x_axis_label='n',\n",
    "                            title='Binomial')\n",
    "bokeh.io.show(app, notebook_url=notebook_url)"
   ]
  },
  {
   "cell_type": "markdown",
   "metadata": {},
   "source": [
    "### Poisson distribution\n",
    "\n",
    "* **Story.**  Rare events occur with a rate $\\lambda$ per unit\n",
    "time.  There is no \"memory\" of previous events; i.e., that rate is\n",
    "independent of time. A process that generates such events is called a *Poisson process*. The occurrence of a rare event in this context is referred to as an *arrival*. The number $n$ of arrivals in unit time is Poisson distributed.\n",
    "\n",
    "* **Example.** The number of mutations in a strand of DNA per\n",
    "unit length (since mutations are rare) are Poisson distributed.\n",
    "\n",
    "* **Parameter.** The single parameter is the rate $\\lambda$ of\n",
    "the rare events occurring.\n",
    "\n",
    "* **Support.** The Poisson distribution is supported on the set of nonnegative integers.\n",
    "\n",
    "* **Probability mass function.**\n",
    "\\begin{align}\n",
    "f(n;\\lambda) = \\frac{\\lambda^n}{n!}\\,\\mathrm{e}^{-\\lambda}.\n",
    "\\end{align}\n",
    "\n",
    "* **Usage**\n",
    "\n",
    "| Package        | Syntax           |\n",
    "|: ------------- | :------------- |\n",
    "|**NumPy** | `np.random.poisson(lam)` |\n",
    "|**SciPy** | `scipy.stats.poisson(lam)` |\n",
    "|**Stan** | `poisson(lam)` |\n",
    "\n",
    "\n",
    "* **Related distributions.**\n",
    "    - In the limit of $N\\to\\infty$ and $\\theta\\to 0$ such that the quantity $N\\theta$ is fixed, the [Binomial distribution](#Binomial-distribution) becomes a Poisson distribution with parameter $N\\theta$. Thus, for large $N$ and small $\\theta$,\n",
    "    \\begin{align}\n",
    "    \\\\ \\phantom{blah}\n",
    "    f_\\mathrm{Poisson}(n;\\lambda) \\approx f_\\mathrm{Binomial}(n;N, \\theta),\n",
    "    \\\\ \\phantom{blah}\n",
    "    \\end{align}\n",
    "    with $\\lambda = N\\theta$. Considering the biological example of mutations,\n",
    "    this is Binomially distributed: There are $N$ bases, each with a\n",
    "    probability $\\theta$ of mutation, so the number of mutations, $n$ is\n",
    "    binomially distributed.  Since $\\theta$ is small and $N$ is large, it is approximately\n",
    "    Poisson distributed.\n",
    "    - Under the ($\\mu, \\phi$) parametrization of the [Negative Binomial distribution](#Negative-Binomial-distribution), taking the limit of large $\\phi$ yields the Poisson distribution."
   ]
  },
  {
   "cell_type": "code",
   "execution_count": 42,
   "metadata": {},
   "outputs": [
    {
     "data": {
      "application/vnd.bokehjs_exec.v0+json": "",
      "text/html": [
       "\n",
       "<script src=\"http://localhost:59928/autoload.js?bokeh-autoload-element=762489bd-11a4-42d3-9fb0-9c6b53c29236&bokeh-absolute-url=http://localhost:59928&resources=none\" id=\"762489bd-11a4-42d3-9fb0-9c6b53c29236\"></script>"
      ]
     },
     "metadata": {
      "application/vnd.bokehjs_exec.v0+json": {
       "server_id": "d0534c3b83c24d2c8681bff33ebd6dcd"
      }
     },
     "output_type": "display_data"
    }
   ],
   "source": [
    "params = [dict(name='λ', start=1, end=20, value=5, step=0.1)]\n",
    "app = distribution_plot_app(x_min=0,\n",
    "                            x_max=40,\n",
    "                            scipy_dist=st.poisson,\n",
    "                            params=params,\n",
    "                            x_axis_label='n',\n",
    "                            title='Poisson')\n",
    "bokeh.io.show(app, notebook_url=notebook_url)"
   ]
  },
  {
   "cell_type": "markdown",
   "metadata": {},
   "source": [
    "### Hypergeometric distribution\n",
    "\n",
    "* **Story.** Consider an urn with $a$ white balls and $b$ black\n",
    "balls.  Draw $N$ balls from this urn without replacement.  The number\n",
    "white balls drawn, $n$, is Hypergeometrically distributed.\n",
    "\n",
    "* **Example.** There are $a+b$ finches on an island, and $a$ of\n",
    "them are tagged (and therefore $b$ of them are untagged).  You capture $N$ finches.  The number of tagged\n",
    "finches $n$ is Hypergeometrically distributed, $f(n;N, a, b)$,\n",
    "as defined below.\n",
    "\n",
    "* **Parameters.** There are three parameters: the number of\n",
    "draws $N$, the number of white balls $a$, and the number of black\n",
    "balls $b$.\n",
    "\n",
    "* **Support.** The Hypergeometric distribution is supported on the set of integers between $\\max(0, N-b)$ and $\\min(N, a)$, inclusive.\n",
    "\n",
    "* **Probability mass function.**\n",
    "\\begin{align}\n",
    "f(n;N, a, b) = \\frac{\\begin{pmatrix}a\\\\n\\end{pmatrix}\\begin{pmatrix}b\\\\N-n\\end{pmatrix}}\n",
    "{\\begin{pmatrix}a+b\\\\N\\end{pmatrix}}.\n",
    "\\end{align}\n",
    "\n",
    "* **Usage**\n",
    "\n",
    "| Package        | Syntax           |\n",
    "|: ------------- | :------------- |\n",
    "|**NumPy** | `np.random.hypergeometric(a, b, N)` |\n",
    "|**SciPy** | `scipy.stats.hypergeom(a+b, a, N)` |\n",
    "|**Stan** | `hypergeometric(N, a, b)` |\n",
    "\n",
    "\n",
    "* **Related distributions.** \n",
    "    - In the limit of $a+b\\to\\infty$ such that $a/(a+b)$ is fixed, we get a [Binomial distribution](#Binomial-distribution) with parameters $N=N$ and $\\theta = a/(a+b)$.\n",
    "\n",
    "* **Notes.** \n",
    "    - This distribution is analogous to the [Binomial distribution](#Binomial-distribution), except that the Binomial distribution describes draws from an urn *with* replacement.  In the analogy, $p = a/(a+b)$.\n",
    "    - SciPy uses a different parametrization. Let $M = a+b$ be the total number of balls in the urn. Then, noting the order of the parameters, since this is what `scipy.stats.hypergeom` expects,\n",
    "    \\begin{align}\n",
    "    \\\\ \\phantom{blah}\n",
    "    f(n;M, a, N) = \\frac{\\begin{pmatrix}a\\\\n\\end{pmatrix}\\begin{pmatrix}M-a\\\\N-n\\end{pmatrix}}\n",
    "    {\\begin{pmatrix}M\\\\n\\end{pmatrix}}.\n",
    "        \\\\ \\phantom{blah}\n",
    "    \\end{align}\n",
    "    - The random number generator in `numpy.random` has a different parametrization than in the `scipy.stats` module. The `numpy.random.hypergeom()` function uses the same parametrization as Stan, except the parameters are given in the order `a, b, N`, not `N, a, b`, as in Stan.    \n",
    "    - When using the sliders below, you will only get a plot if $N \\le a+b$ because you cannot draw more balls out of the urn than are actually in there."
   ]
  },
  {
   "cell_type": "code",
   "execution_count": 44,
   "metadata": {},
   "outputs": [
    {
     "data": {
      "application/vnd.bokehjs_exec.v0+json": "",
      "text/html": [
       "\n",
       "<script src=\"http://localhost:59931/autoload.js?bokeh-autoload-element=2f759479-7986-411e-b477-17924706d396&bokeh-absolute-url=http://localhost:59931&resources=none\" id=\"2f759479-7986-411e-b477-17924706d396\"></script>"
      ]
     },
     "metadata": {
      "application/vnd.bokehjs_exec.v0+json": {
       "server_id": "76de7105948e4c6486afad19506f9b52"
      }
     },
     "output_type": "display_data"
    }
   ],
   "source": [
    "params = [dict(name='N', start=1, end=20, value=10, step=1),\n",
    "          dict(name='a', start=1, end=20, value=10, step=1),\n",
    "          dict(name='b', start=1, end=20, value=10, step=1)]\n",
    "app = distribution_plot_app(x_min=0,\n",
    "                            x_max=40,\n",
    "                            scipy_dist=st.hypergeom,\n",
    "                            params=params,\n",
    "                            transform=lambda N, a, b: (a+b, a, N),\n",
    "                            x_axis_label='n',\n",
    "                            title='Hypergeometric')\n",
    "bokeh.io.show(app, notebook_url=notebook_url)"
   ]
  },
  {
   "cell_type": "markdown",
   "metadata": {},
   "source": [
    "### Categorical distribution\n",
    "\n",
    "* **Story.** A probability is assigned to each of a set of discrete outcomes.\n",
    "\n",
    "* **Example.** A hen will peck at grain A with probability $\\theta_A$, grain B with probability $\\theta_B$, and grain C with probability $\\theta_C$.\n",
    "\n",
    "* **Parameters.** The distribution is parametrized by the probabilities assigned to each event. We define $\\theta_y$ to be the probability assigned to outcome $y$. The set of $\\theta_y$'s are the parameters, and are constrained by\n",
    "\n",
    "\\begin{align}\n",
    "\\sum_y \\theta_y = 1.\n",
    "\\end{align}\n",
    "\n",
    "* **Support.** If we index the categories with sequential integers from 1 to *N*, the distribution is supported for integers 1 to _N_, inclusive.\n",
    "\n",
    "* **Probability mass function.**\n",
    "\\begin{align}\n",
    "f(y;\\{\\theta_y\\}) = \\theta_y.\n",
    "\\end{align}\n",
    "\n",
    "* **Usage (with `theta` length `n`)**\n",
    "\n",
    "| Package        | Syntax           |\n",
    "|: -------------: | :------------- |\n",
    "|**NumPy** | `np.random.choice(len(theta), p=theta)` |\n",
    "|**SciPy** | `scipy.stats.rv_discrete(values=(range(len(theta)), theta)).rvs()` |\n",
    "|**Stan** | `categorical(theta)` |\n",
    "\n",
    "* **Related distributions.** \n",
    "    - The [Discrete Uniform distribution](#Discrete-Uniform-distribution) is a special case where all $\\theta_y$ are equal.\n",
    "    - The Bernoulli distribution is a special case where there are two categories that can be encoded as having outcomes of zero or one. In this case, the parameter for the Bernoulli distribution is $\\theta = \\theta_0 = 1-\\theta_1$.\n",
    "\n",
    "\n",
    "* **Notes.** \n",
    "    - This distribution must be manually constructed if you are using the `scipy.stats` module using `scipy.stats.rv_discrete()`. The categories need to be encoded by an index. For interactive plotting purposes, below, we need to specify a custom PMF and CDF.\n",
    "    - To sample out of a Categorical distribution, use `numpy.random.choice()`, specifying the values of $\\theta$ using the `p` kwarg."
   ]
  },
  {
   "cell_type": "code",
   "execution_count": 46,
   "metadata": {},
   "outputs": [
    {
     "data": {
      "application/vnd.bokehjs_exec.v0+json": "",
      "text/html": [
       "\n",
       "<script src=\"http://localhost:59934/autoload.js?bokeh-autoload-element=21c2abe7-0c49-4c4b-9099-665a7205647e&bokeh-absolute-url=http://localhost:59934&resources=none\" id=\"21c2abe7-0c49-4c4b-9099-665a7205647e\"></script>"
      ]
     },
     "metadata": {
      "application/vnd.bokehjs_exec.v0+json": {
       "server_id": "7c8d9a5378874abb866c65370736720b"
      }
     },
     "output_type": "display_data"
    }
   ],
   "source": [
    "def categorical_pmf(x, θ1, θ2, θ3):\n",
    "    thetas = np.array([θ1, θ2, θ3, 1-θ1-θ2-θ3])\n",
    "    if (thetas < 0).any():\n",
    "        return np.array([np.nan]*len(x))\n",
    "    return thetas[x-1]\n",
    "\n",
    "def categorical_cdf_indiv(x, thetas):\n",
    "    if x < 1:\n",
    "        return 0\n",
    "    elif x >= 4:\n",
    "        return 1\n",
    "    else:\n",
    "        return np.sum(thetas[:int(x)])\n",
    "    \n",
    "def categorical_cdf(x, θ1, θ2, θ3):\n",
    "    thetas = np.array([θ1, θ2, θ3, 1-θ1-θ2-θ3])\n",
    "    if (thetas < 0).any():\n",
    "        return np.array([np.nan]*len(x))\n",
    "\n",
    "    return np.array([categorical_cdf_indiv(x_val, thetas) for x_val in x])\n",
    "\n",
    "params = [dict(name='θ1', start=0, end=1, value=0.2, step=0.01),\n",
    "          dict(name='θ2', start=0, end=1, value=0.3, step=0.01),\n",
    "          dict(name='θ3', start=0, end=1, value=0.1, step=0.01)]\n",
    "app = distribution_plot_app(x_min=1,\n",
    "                            x_max=4,\n",
    "                            custom_pmf=categorical_pmf,\n",
    "                            custom_cdf=categorical_cdf,\n",
    "                            params=params,\n",
    "                            x_axis_label='category',\n",
    "                            title='Discrete categorical')\n",
    "bokeh.io.show(app, notebook_url=notebook_url)"
   ]
  },
  {
   "cell_type": "markdown",
   "metadata": {},
   "source": [
    "### Discrete Uniform distribution\n",
    "\n",
    "* **Story.** A set of discrete outcomes that can be indexed with sequential integers each has equal probability, like rolling a fair die.\n",
    "\n",
    "* **Example.** A monkey can choose from any of $n$ bananas with equal probability.\n",
    "\n",
    "* **Parameters.** The distribution is parametrized by the high and low allowed values.\n",
    "\n",
    "* **Support.** The Discrete Uniform distribution is supported on the set of integers ranging from $y_\\mathrm{low}$ to $y_\\mathrm{high}$, inclusive.\n",
    "\n",
    "* **Probability mass function.**\n",
    "\\begin{align}\n",
    "f(y;y_\\mathrm{low}, y_\\mathrm{high}) = \\frac{1}{y_\\mathrm{high} - y_\\mathrm{low} + 1}\n",
    "\\end{align}\n",
    "\n",
    "* **Usage**\n",
    "\n",
    "| Package        | Syntax           |\n",
    "|: -------------: | :------------- |\n",
    "|**NumPy** | `np.random.randint(low, high+1)` |\n",
    "|**SciPy** | `scipy.stats.randint(low, high+1)` |\n",
    "|**Stan** | `categorical(theta)`, `theta` array with all equal values |\n",
    "\n",
    "* **Related distributions.** \n",
    "    - The [Discrete Uniform distribution](#Discrete-Uniform-distribution) is a special case of the [Categorical distribution](#Categorical-distribution) where all $\\theta_y$ are equal.\n",
    "\n",
    "* **Notes.** \n",
    "    - This distribution is not included in Stan. Instead, use a [Categorical distribution](#Categorical-distribution) with equal probailities.\n",
    "    - In SciPy, this distribution is know as `scipy.stats.randint`. The `high` parameter is not inclusive; i.e., the set of allowed values includes the `low` parameter, but not the `high`. The same is true for `numpy.random.randint()`, which is used for sampling out of this distribution."
   ]
  },
  {
   "cell_type": "code",
   "execution_count": 48,
   "metadata": {},
   "outputs": [
    {
     "data": {
      "application/vnd.bokehjs_exec.v0+json": "",
      "text/html": [
       "\n",
       "<script src=\"http://localhost:59938/autoload.js?bokeh-autoload-element=65077415-3a4e-4b26-9744-af01efdf5520&bokeh-absolute-url=http://localhost:59938&resources=none\" id=\"65077415-3a4e-4b26-9744-af01efdf5520\"></script>"
      ]
     },
     "metadata": {
      "application/vnd.bokehjs_exec.v0+json": {
       "server_id": "83b67abd69774ba6898130d9f9b67dbe"
      }
     },
     "output_type": "display_data"
    }
   ],
   "source": [
    "params = [dict(name='low', start=0, end=10, value=0, step=1),\n",
    "          dict(name='high', start=0, end=10, value=10, step=1)]\n",
    "app = distribution_plot_app(x_min=0,\n",
    "                            x_max=10,\n",
    "                            scipy_dist=st.randint,\n",
    "                            params=params,\n",
    "                            transform=lambda low, high: (low, high+1),\n",
    "                            x_axis_label='y',\n",
    "                            title='Discrete continuous')\n",
    "bokeh.io.show(app, notebook_url=notebook_url)"
   ]
  },
  {
   "cell_type": "markdown",
   "metadata": {},
   "source": [
    "## Continuous distributions"
   ]
  },
  {
   "cell_type": "markdown",
   "metadata": {},
   "source": [
    "### Uniform distribution\n",
    "\n",
    "* **Story.** Any outcome in a given range has equal probability.\n",
    "\n",
    "* **Example.** Anything in which all possibilities are equally\n",
    "likely. This is, perhaps surprisingly, rarely encountered.\n",
    "\n",
    "* **Parameters.** The Uniform distribution is not defined on an\n",
    "infinite or semi-infinite domain, so lower and upper bounds, $\\alpha$ and\n",
    "$\\beta$, respectively, are necessary parameters.\n",
    "\n",
    "* **Support.** The Uniform distribution is supported on the interval $[\\alpha, \\beta]$.\n",
    "\n",
    "* **Probability density function.**\n",
    "\n",
    "\\begin{align}\n",
    "f(y;\\alpha, \\beta) = \\left\\{ \\begin{array}{ccc}\n",
    "\\frac{1}{\\beta - \\alpha} & & \\alpha \\le y \\le \\beta \\\\[0.5em]\n",
    "0 & & \\text{otherwise.}\n",
    "\\end{array}\n",
    "\\right.\n",
    "\\end{align}\n",
    "\n",
    "* **Usage**\n",
    "\n",
    "| Package        | Syntax           |\n",
    "|: -------------: | :------------- |\n",
    "|**NumPy** | `np.random.uniform(alpha, beta)` |\n",
    "|**SciPy** | `scipy.stats.uniform(alpha, beta)` |\n",
    "|**Stan** | `uniform(alpha, beta)` |\n",
    "\n",
    "\n",
    "\n",
    "* **Related distributions.** \n",
    "    - The Uniform distribution on the interval [0, 1] (i.e., $\\alpha=0$ and $\\beta=1$) is a special case of the [Beta distribution](#Beta-distribution) where the parameters for the Beta distribution are $\\alpha=\\beta=1$ (not to be confused with the $\\alpha$ and $\\beta$ used to parametrize the Uniform distribution)."
   ]
  },
  {
   "cell_type": "code",
   "execution_count": 50,
   "metadata": {},
   "outputs": [
    {
     "data": {
      "application/vnd.bokehjs_exec.v0+json": "",
      "text/html": [
       "\n",
       "<script src=\"http://localhost:59941/autoload.js?bokeh-autoload-element=2df27085-5a36-4f0f-bc33-23a90ea5aee5&bokeh-absolute-url=http://localhost:59941&resources=none\" id=\"2df27085-5a36-4f0f-bc33-23a90ea5aee5\"></script>"
      ]
     },
     "metadata": {
      "application/vnd.bokehjs_exec.v0+json": {
       "server_id": "f1a605edf02b45bdb164aaea103868e0"
      }
     },
     "output_type": "display_data"
    }
   ],
   "source": [
    "params = [dict(name='α', start=-2, end=3, value=0, step=0.01),\n",
    "          dict(name='β', start=-2, end=3, value=1, step=0.01)]\n",
    "app = distribution_plot_app(x_min=-2,\n",
    "                            x_max=3,\n",
    "                            scipy_dist=st.uniform,\n",
    "                            params=params,\n",
    "                            title='Uniform')\n",
    "bokeh.io.show(app, notebook_url=notebook_url)"
   ]
  },
  {
   "cell_type": "markdown",
   "metadata": {},
   "source": [
    "### Gaussian, a.k.a. Normal, distribution\n",
    "\n",
    "* **Story.** Any quantity that emerges as the sum of a large number of\n",
    "subprocesses tends to be Gaussian distributed provided none of the\n",
    "subprocesses is very broadly distributed.\n",
    "\n",
    "* **Example.** We measure the length of many *C. elegans*\n",
    "eggs.  The lengths are Gaussian distributed. Many biological measurements, like the height of people, are (approximately) Gaussian distributed. Many processes contribute to setting the length of an egg or the height of a person.\n",
    "\n",
    "* **Parameters.** The Gaussian distribution has two parameters,\n",
    "the mean $\\mu$, which determines the location of its peak, and the\n",
    "standard deviation $\\sigma$, which is strictly positive (the\n",
    "$\\sigma\\to 0$ limit defines a Dirac delta function) and determines the\n",
    "width of the peak.\n",
    "\n",
    "* **Support.** The Gaussian distribution is supported on the set of real numbers.\n",
    "\n",
    "* **Probability density function.**\n",
    "\n",
    "\\begin{align}\n",
    "f(y;\\mu, \\sigma) = \\frac{1}{\\sqrt{2\\pi \\sigma^2}}\\,\\mathrm{e}^{-(y-\\mu)^2/2\\sigma^2}.\n",
    "\\end{align}\n",
    "\n",
    "* **Usage**\n",
    "\n",
    "| Package        | Syntax           |\n",
    "|: -------------: | :------------- |\n",
    "|**NumPy** | `np.random.normal(mu, sigma)` |\n",
    "|**SciPy** | `scipy.stats.norm(mu, sigma)` |\n",
    "|**Stan** | `normal(mu, sigma)` |\n",
    "\n",
    "* **Related distributions.** The Gaussian distribution is a limiting distribution in the sense of the\n",
    "central limit theorem, but also in that many distributions have a\n",
    "Gaussian distribution as a limit.  This is seen by formally taking\n",
    "limits of, e.g., the Gamma, Student-t, Binomial distributions, which\n",
    "allows direct comparison of parameters.\n",
    "\n",
    "* **Notes.** \n",
    "    - SciPy, NumPy, and Stan all refer to the Gaussian distribution as the Normal distribution."
   ]
  },
  {
   "cell_type": "code",
   "execution_count": 52,
   "metadata": {},
   "outputs": [
    {
     "data": {
      "application/vnd.bokehjs_exec.v0+json": "",
      "text/html": [
       "\n",
       "<script src=\"http://localhost:59945/autoload.js?bokeh-autoload-element=24cf4d29-8c2f-4988-8053-f4b72aee0272&bokeh-absolute-url=http://localhost:59945&resources=none\" id=\"24cf4d29-8c2f-4988-8053-f4b72aee0272\"></script>"
      ]
     },
     "metadata": {
      "application/vnd.bokehjs_exec.v0+json": {
       "server_id": "6af06877c0b9490794d6f61b3a80c3df"
      }
     },
     "output_type": "display_data"
    }
   ],
   "source": [
    "params = [dict(name='µ', start=-0.5, end=0.5, value=0, step=0.01),\n",
    "          dict(name='σ', start=0.1, end=1.0, value=0.2, step=0.01)]\n",
    "app = distribution_plot_app(x_min=-2,\n",
    "                            x_max=2,\n",
    "                            scipy_dist=st.norm,\n",
    "                            params=params, \n",
    "                            x_axis_label='y',\n",
    "                            title='Gaussian, a.k.a. Normal')\n",
    "bokeh.io.show(app, notebook_url=notebook_url)"
   ]
  },
  {
   "cell_type": "markdown",
   "metadata": {},
   "source": [
    "### Half-Normal distribution\n",
    "\n",
    "* **Story.** The Half-Normal distribution is a [Gaussian distribution](#Gaussian-distribution) with zero mean truncated to only have nonzero probability for positive real numbers.\n",
    "\n",
    "* **Parameters.** Strictly speaking, the Half-Normal is parametrized by a single positive parameter $\\sigma$. We could, however, translate it so that the truncated Gaussian has a maximum at $\\mu$ and only values greater than or equal to $\\mu$ have nonzero probability.\n",
    "\n",
    "* **Probability density function.**\n",
    "\n",
    "\\begin{align}\n",
    "f(y;\\mu, \\sigma) = \\left\\{\\begin{array}{ccc}\n",
    "\\frac{2}{\\sqrt{2\\pi \\sigma^2}}\\,\\mathrm{e}^{-(y-\\mu)^2/2\\sigma^2} & & y \\ge \\mu\\\\\n",
    "0 && \\text{otherwise.}\n",
    "\\end{array}\\right.\n",
    "\\end{align}\n",
    "\n",
    "* **Support.** The Half-Normal distribution is supported on the set $[\\mu, \\infty)$. Usually, we have $\\mu = 0$, in which case the Half-Normal distribution is supported on the set of nonnegative real numbers.\n",
    "\n",
    "* **Usage**\n",
    "\n",
    "| Package        | Syntax           |\n",
    "|: -------------: | :------------- |\n",
    "|**NumPy** | `np.random.normal(mu, sigma)` |\n",
    "|**SciPy** | `scipy.stats.halfnorm(mu, sigma)` |\n",
    "|**Stan** | `real<lower=mu> y; y ~ normal(mu, sigma)` |\n",
    "\n",
    "\n",
    "\n",
    "* **Notes.** \n",
    "    - In Stan, a Half-Normal is defined by putting bounds on the variable and then using a Normal distribution.\n",
    "    - The Half-Normal distibution is a useful prior for nonnegative parameters that should not be too large and may be very close to zero."
   ]
  },
  {
   "cell_type": "code",
   "execution_count": 54,
   "metadata": {},
   "outputs": [
    {
     "data": {
      "application/vnd.bokehjs_exec.v0+json": "",
      "text/html": [
       "\n",
       "<script src=\"http://localhost:59948/autoload.js?bokeh-autoload-element=5e26eeb9-1f49-4173-a023-9d99215ba884&bokeh-absolute-url=http://localhost:59948&resources=none\" id=\"5e26eeb9-1f49-4173-a023-9d99215ba884\"></script>"
      ]
     },
     "metadata": {
      "application/vnd.bokehjs_exec.v0+json": {
       "server_id": "b1f91c084fe646adb38820e176eba886"
      }
     },
     "output_type": "display_data"
    }
   ],
   "source": [
    "params = [dict(name='µ', start=-0.5, end=0.5, value=0, step=0.01),\n",
    "          dict(name='σ', start=0.1, end=1.0, value=0.2, step=0.01)]\n",
    "app = distribution_plot_app(x_min=-0.5,\n",
    "                            x_max=2,\n",
    "                            scipy_dist=st.halfnorm,\n",
    "                            params=params, \n",
    "                            x_axis_label='y',\n",
    "                            title='Half-Normal')\n",
    "bokeh.io.show(app, notebook_url=notebook_url)"
   ]
  },
  {
   "cell_type": "markdown",
   "metadata": {},
   "source": [
    "### Log-Normal distribution\n",
    "\n",
    "* **Story.** If $\\ln y$ is Gaussian distributed, $y$ is\n",
    "Log-Normally distributed.\n",
    "\n",
    "* **Example.** A measure of fold change in gene expression can\n",
    "be Log-Normally distributed.\n",
    "\n",
    "* **Parameters.** As for a Gaussian, there are two parameters,\n",
    "the mean, $\\mu$, and the variance $\\sigma^2$.\n",
    "\n",
    "* **Support.** The Log-Normal distribution is supported on the set of positive real numbers.\n",
    "\n",
    "* **Probability density function.**\n",
    "\n",
    "\\begin{align}\n",
    "f(y;\\mu, \\sigma) = \\frac{1}{y\\sqrt{2\\pi \\sigma^2}}\\,\\mathrm{e}^{-(\\ln y - \\mu)^2/2\\sigma^2}.\n",
    "\\end{align}\n",
    "\n",
    "* **Usage**\n",
    "\n",
    "| Package        | Syntax           |\n",
    "|: -------------: | :------------- |\n",
    "|**NumPy** | `np.random.lognormal(mu, sigma)` |\n",
    "|**SciPy** | `scipy.stats.lognorm(x, sigma, loc=0, scale=np.exp(mu))` |\n",
    "|**Stan** | `lognormal(mu, sigma)` |\n",
    "\n",
    "* **Notes.** \n",
    "    - Be careful not to get confused. The Log-Normal distribution describes the distribution of $y$ given that $\\ln y$ is Gaussian distributed. It does not describe the distribution of $\\ln y$.\n",
    "    - The way location, scale, and shape parameters work in SciPy for the Log-Normal distribution is confusing. If you want to specify a Log-Normal distribution as we have defined it using `scipy.stats`, use a shape parameter equal to $\\sigma$, a location parameter of zero, and a scale parameter given by $\\mathrm{e}^\\mu$. For example, to compute the PDF, you would use `scipy.stats.lognorm(x, sigma, loc=0, scale=np.exp(mu))`.\n",
    "    - The definition of the Log_Normal in the `numpy.random` module matches what we have defined above and what is defined in Stan."
   ]
  },
  {
   "cell_type": "code",
   "execution_count": 56,
   "metadata": {},
   "outputs": [
    {
     "data": {
      "application/vnd.bokehjs_exec.v0+json": "",
      "text/html": [
       "\n",
       "<script src=\"http://localhost:59963/autoload.js?bokeh-autoload-element=cbf696b7-eead-48d8-8f34-bafba1f1b4e9&bokeh-absolute-url=http://localhost:59963&resources=none\" id=\"cbf696b7-eead-48d8-8f34-bafba1f1b4e9\"></script>"
      ]
     },
     "metadata": {
      "application/vnd.bokehjs_exec.v0+json": {
       "server_id": "e30d98a0e9ed4681b78fce49e8228429"
      }
     },
     "output_type": "display_data"
    }
   ],
   "source": [
    "params = [dict(name='µ', start=0.01, end=0.5, value=0.1, step=0.01),\n",
    "          dict(name='σ', start=0.1, end=1.0, value=0.2, step=0.01)]\n",
    "app = distribution_plot_app(x_min=0,\n",
    "                            x_max=4,\n",
    "                            scipy_dist=st.lognorm,\n",
    "                            params=params, \n",
    "                            transform=lambda mu, sigma: (sigma, 0, np.exp(mu)),\n",
    "                            x_axis_label='y',\n",
    "                            title='Log-Normal')\n",
    "\n",
    "bokeh.io.show(app, notebook_url=notebook_url)"
   ]
  },
  {
   "cell_type": "markdown",
   "metadata": {},
   "source": [
    "### Chi-square distribution\n",
    "\n",
    "* **Story.** If $X_1$,\n",
    "$X_2$, $\\ldots$, $X_n$ are Gaussian distributed,\n",
    "$X_1^2 + X_2^2 + \\cdots + X_n^2$ is $\\chi^2$-distributed. See also the story of the [Gamma distribution](#Gamma-distribution), below.\n",
    "\n",
    "* **Example.** The sample variance of $\\nu-1$ independent and identically distributed Gaussian random variables, after scaling, is Chi-square distributed. This is the most common use case of the Chi-square distribution.\n",
    "\n",
    "* **Parameters.** There is only one parameter, the degrees of freedom $\\nu$.\n",
    "\n",
    "* **Support.** The Chi-square distribution is supported on the positive real numbers.\n",
    "\n",
    "* **Probability density function.**\n",
    "\\begin{align}\n",
    "  f(y;\\nu) \\equiv \\chi^2_n(x;\\nu) = \\frac{1}{2^{\\nu/2}\\,\\Gamma\\left(\\frac{\\nu}{2}\\right)}\\,\n",
    "x^{\\frac{\\nu}{2}-1}\\,\\mathrm{e}^{-y/2}.\n",
    "\\end{align}\n",
    "\n",
    "* **Usage**\n",
    "\n",
    "| Package        | Syntax           |\n",
    "|: -------------: | :------------- |\n",
    "|**NumPy** | `np.random.chisquare(nu)` |\n",
    "|**SciPy** | `scipy.stats.chi2(nu)` |\n",
    "|**Stan** | `chi_square(nu)` |\n",
    "\n",
    "\n",
    "* **Related distributions.** The Chi-square distribution is a special case of the [Gamma distribution](#Gamma-distribution) with $\\alpha = \\nu/2$ and $\\beta = 1/2$."
   ]
  },
  {
   "cell_type": "code",
   "execution_count": 58,
   "metadata": {},
   "outputs": [
    {
     "data": {
      "application/vnd.bokehjs_exec.v0+json": "",
      "text/html": [
       "\n",
       "<script src=\"http://localhost:59969/autoload.js?bokeh-autoload-element=ad1b6bf1-6112-498b-8379-c40de44c0472&bokeh-absolute-url=http://localhost:59969&resources=none\" id=\"ad1b6bf1-6112-498b-8379-c40de44c0472\"></script>"
      ]
     },
     "metadata": {
      "application/vnd.bokehjs_exec.v0+json": {
       "server_id": "7f7c2a594a7a41a2a4de78e4f1ae55e2"
      }
     },
     "output_type": "display_data"
    }
   ],
   "source": [
    "params = [dict(name='ν', start=1, end=20, value=10, step=0.01)]\n",
    "app = distribution_plot_app(x_min=0,\n",
    "                            x_max=40,\n",
    "                            scipy_dist=st.chi2,\n",
    "                            params=params, \n",
    "                            x_axis_label='y',\n",
    "                            title='Chi-square')\n",
    "bokeh.io.show(app, notebook_url=notebook_url)"
   ]
  },
  {
   "cell_type": "markdown",
   "metadata": {},
   "source": [
    "### Student-t distribution\n",
    "\n",
    "* **Story.** The story of the Student-t distribution largely derives from its relationships with other distributions. One way to think about it is as a Gaussian-like distribution with heavier tails.\n",
    "\n",
    "* **Parameters.** The Student-t distribution is peaked, and its peak is located at $\\mu$.  The peak's width is dictated by parameter $\\sigma$. Finally, we define the \"degrees of freedom\" as $\\nu$. This last parameter imparts the distribution with heavy tails.\n",
    "\n",
    "* **Support.** The Student-t distribution is supported on the set of real numbers.\n",
    "\n",
    "* **Probability density function.**\n",
    "\n",
    "\\begin{align}\n",
    "f(y;\\mu, \\sigma, \\nu) = \\frac{\\Gamma\\left(\\frac{\\nu+1}{2}\\right)}{\\Gamma\\left(\\frac{\\nu}{2}\\right)\\sqrt{\\pi \\nu \\sigma^2}}\\,\n",
    "\\left(1 + \\frac{(y-\\mu)^2}{\\nu\\sigma^2}\\right)^{-\\frac{\\nu+1}{2}}.\n",
    "\\end{align}\n",
    "\n",
    "* **Usage**\n",
    "\n",
    "| Package        | Syntax           |\n",
    "|: -------------: | :------------- |\n",
    "|**NumPy** | `mu + sigma * np.random.standard_t(nu)` |\n",
    "|**SciPy** | `scipy.stats.t(nu, mu, sigma)` |\n",
    "|**Stan** | `student_t(nu, mu, sigma)` |\n",
    "\n",
    "\n",
    "\n",
    "* **Related distributions.**\n",
    "    - In the $n\\to \\infty$ limit, the Student-t distribution becomes as [Gaussian distribution](#Gaussian-distribution).\n",
    "    - The [Cauchy distibution](#Cauchy-distribution) is a special case of the Student-t distribution in which $\\nu = 1$.\n",
    "    - Only the standard Student-t distribution ($\\mu=0$ and $\\sigma = 1$) is available in the `numpy.random` module. You can still draw out of the Student-t distribution by performing a transformation on the samples out of the standard Student-t distribution, as shown in the usage, above.\n",
    "    - We get this distribution whenever we marginalize an unknown $\\sigma$ out of a Gaussian distribution with an improper prior on $\\sigma$ of $1/\\sigma$."
   ]
  },
  {
   "cell_type": "code",
   "execution_count": 60,
   "metadata": {},
   "outputs": [
    {
     "data": {
      "application/vnd.bokehjs_exec.v0+json": "",
      "text/html": [
       "\n",
       "<script src=\"http://localhost:59972/autoload.js?bokeh-autoload-element=2c6997cd-1651-4b06-a0f0-d990cf815593&bokeh-absolute-url=http://localhost:59972&resources=none\" id=\"2c6997cd-1651-4b06-a0f0-d990cf815593\"></script>"
      ]
     },
     "metadata": {
      "application/vnd.bokehjs_exec.v0+json": {
       "server_id": "79ff79c096b041ebb9bfc02a1a8cae5b"
      }
     },
     "output_type": "display_data"
    }
   ],
   "source": [
    "params = [dict(name='ν', start=1, end=50, value=10, step=0.01),\n",
    "          dict(name='µ', start=-0.5, end=0.5, value=0, step=0.01),\n",
    "          dict(name='σ', start=0.1, end=1.0, value=0.2, step=0.01)]\n",
    "app = distribution_plot_app(x_min=-2,\n",
    "                            x_max=2,\n",
    "                            scipy_dist=st.t,\n",
    "                            params=params,  \n",
    "                            x_axis_label='y',\n",
    "                            title='Student-t')\n",
    "bokeh.io.show(app, notebook_url=notebook_url)"
   ]
  },
  {
   "cell_type": "markdown",
   "metadata": {},
   "source": [
    "### Cauchy distribution\n",
    "\n",
    "* **Story.** The intercept on the *x*-axis of a beam of light coming from the point $(\\mu, \\sigma)$ is Cauchy distributed. This story is popular in physics (and is one of the first examples of Bayesian inference in [Sivia's book](https://global.oup.com/academic/product/data-analysis-9780198568322)), but is not particularly useful. You can think of it as a peaked distribution with enormously heavy tails.\n",
    "\n",
    "* **Parameters.** The Cauchy distribution is peaked, and its peak is located at $\\mu$.  The peak's width is dictated by parameter $\\sigma$.\n",
    "\n",
    "* **Support.** The Cauchy distribution is supported on the set of real numbers.\n",
    "\n",
    "* **Probability density function.**\n",
    "\n",
    "\\begin{align}\n",
    "f(y;\\mu, \\sigma) = \\frac{1}{\\pi \\sigma}\\,\n",
    "\\frac{1}{1 + (y-\\mu)^2/\\sigma^2}.\n",
    "\\end{align}\n",
    "\n",
    "* **Usage**\n",
    "\n",
    "| Package        | Syntax           |\n",
    "|: -------------: | :------------- |\n",
    "|**NumPy** | `mu + sigma * np.random.standard_cauchy()` |\n",
    "|**SciPy** | `scipy.stats.cauchy(mu, sigma)` |\n",
    "|**Stan** | `cauchy(mu, sigma)` |\n",
    "\n",
    "* **Related distributions.**\n",
    "    - The Cauchy distribution is a special case of the [Student-t distribution](Student-t-distribution) in which the degrees of freedom *ν* = 1.\n",
    "    - The `numpy.random` module only has the Standard Cauchy distribution ($\\mu = 0$ and $\\sigma = 1$), but you can draw out of a Cauchy distribution using the transformation shown in the NumPy usage above."
   ]
  },
  {
   "cell_type": "code",
   "execution_count": 62,
   "metadata": {},
   "outputs": [
    {
     "data": {
      "application/vnd.bokehjs_exec.v0+json": "",
      "text/html": [
       "\n",
       "<script src=\"http://localhost:59977/autoload.js?bokeh-autoload-element=47b201d9-8041-4dd4-a42c-cd8bc901ac94&bokeh-absolute-url=http://localhost:59977&resources=none\" id=\"47b201d9-8041-4dd4-a42c-cd8bc901ac94\"></script>"
      ]
     },
     "metadata": {
      "application/vnd.bokehjs_exec.v0+json": {
       "server_id": "607d773de27e41d6adeb80d7ed999d45"
      }
     },
     "output_type": "display_data"
    }
   ],
   "source": [
    "params = [dict(name='µ', start=-0.5, end=0.5, value=0, step=0.01),\n",
    "          dict(name='σ', start=0.1, end=1.0, value=0.2, step=0.01)]\n",
    "app = distribution_plot_app(x_min=-2,\n",
    "                            x_max=2,\n",
    "                            scipy_dist=st.cauchy,\n",
    "                            params=params,  \n",
    "                            x_axis_label='y',\n",
    "                            title='Cauchy')\n",
    "bokeh.io.show(app, notebook_url=notebook_url)"
   ]
  },
  {
   "cell_type": "markdown",
   "metadata": {},
   "source": [
    "### Exponential distribution\n",
    "\n",
    "* **Story.** This is the waiting time for an arrival from a\n",
    "Poisson process.  I.e., the inter-arrival time of a Poisson process is\n",
    "Exponentially distributed.\n",
    "\n",
    "* **Example.** The time between conformational switches in a\n",
    "protein is Exponentially distributed (under simple mass action\n",
    "kinetics).\n",
    "\n",
    "* **Parameter.** The single parameter is the average arrival\n",
    "*rate*, $\\beta$. Alternatively, we can use $\\tau=1/r$ as the parameter, in this case a characteristic arrival *time*.\n",
    "\n",
    "* **Support.** The Exponential distribution is supported on the set of nonnegative real numbers.\n",
    "\n",
    "* **Probability density function.**\n",
    "\\begin{align}\n",
    "f(y;\\beta) = \\beta\\, \\mathrm{e}^{-\\beta y}.\n",
    "\\end{align}\n",
    "\n",
    "\n",
    "* **Related distributions.**\n",
    "    - The Exponential distribution is the continuous analog of the [Geometric distribution](#Geometric-distribution).  The \"rate\" in the Exponential distribution is analogous to the probability of success of the Bernoulli trial. Note also that because they are uncorrelated, the amount of time between any two arrivals is independent of all other inter-arrival times.\n",
    "    - The Exponential distribution is a special case of the [Gamma distribution](#Gamma-distribution) with parameter $\\alpha = 1$.\n",
    "    \n",
    "* **Usage**\n",
    "\n",
    "| Package        | Syntax           |\n",
    "|: -------------: | :------------- |\n",
    "|**NumPy** | `np.random.exponential(1/beta)` |\n",
    "|**SciPy** | `scipy.stats.expon(loc=0, scale=1/beta)` |\n",
    "|**Stan** | `exponential(beta)` |\n",
    "\n",
    "* **Notes.** \n",
    "    - Alternatively, we could parametrize the Exponential distribution in terms of an average time between arrivals of a Poisson process, $\\tau$, as\n",
    "    \\begin{align}\n",
    "    \\\\\\phantom{blah}\n",
    "    f(y;\\tau) = \\frac{1}{\\tau}\\, \\mathrm{e}^{-y/\\tau}.\n",
    "    \\\\\\phantom{blah}\n",
    "    \\end{align}\n",
    "    - The implementation in the `scipy.stats` module also has a location parameter, which shifts the distribution left and right. For our purposes, you can ignore that parameter, but be aware that `scipy.stats` requires it. The `scipy.stats` Exponential distribution is parametrized in terms of the interarrival time, $\\tau$, and not $\\beta$.\n",
    "    - The `numpy.random.exponential()` function does not need nor accept a location parameter.  It is also parametrized in terms of $\\tau$."
   ]
  },
  {
   "cell_type": "code",
   "execution_count": 64,
   "metadata": {},
   "outputs": [
    {
     "data": {
      "application/vnd.bokehjs_exec.v0+json": "",
      "text/html": [
       "\n",
       "<script src=\"http://localhost:59980/autoload.js?bokeh-autoload-element=12cb20d5-80a6-4107-a404-da44af0233e8&bokeh-absolute-url=http://localhost:59980&resources=none\" id=\"12cb20d5-80a6-4107-a404-da44af0233e8\"></script>"
      ]
     },
     "metadata": {
      "application/vnd.bokehjs_exec.v0+json": {
       "server_id": "b44b5f6e564e4960bab31d506de5bdf9"
      }
     },
     "output_type": "display_data"
    }
   ],
   "source": [
    "params = [dict(name='β', start=0.1, end=1, value=0.25, step=0.01)]\n",
    "app = distribution_plot_app(0,\n",
    "                            30,\n",
    "                            st.expon,\n",
    "                            params=params,\n",
    "                            transform=lambda x: (0, 1/x), \n",
    "                            x_axis_label='y',\n",
    "                            title='Exponential')\n",
    "bokeh.io.show(app, notebook_url=notebook_url)"
   ]
  },
  {
   "cell_type": "markdown",
   "metadata": {},
   "source": [
    "### Gamma distribution\n",
    "\n",
    "* **Story.** The amount of time we have to wait for $\\alpha$ arrivals\n",
    "of a Poisson process. More concretely, if we have events, $X_1$,\n",
    "$X_2$, $\\ldots$, $X_\\alpha$ that are exponentially distributed,\n",
    "$X_1 + X_2 + \\cdots + X_\\alpha$ is Gamma distributed.\n",
    "\n",
    "* **Example.** Any multistep process where each step happens at\n",
    "the same rate.  This is common in molecular rearrangements.\n",
    "\n",
    "* **Parameters.** The number of arrivals, $\\alpha$, and the rate of\n",
    "arrivals, $\\beta$.\n",
    "\n",
    "* **Support.** The Gamma distribution is supported on the set of positive real numbers.\n",
    "\n",
    "* **Probability density function.**\n",
    "\n",
    "\\begin{align}\n",
    "f(y;\\alpha, \\beta) = \\frac{1}{\\Gamma(\\alpha)}\\,\\frac{(\\beta y)^\\alpha}{y}\\,\\mathrm{e}^{-\\beta y}.\n",
    "\\end{align}\n",
    "\n",
    "\n",
    "* **Related distributions.** \n",
    "    - The Gamma distribution is the continuous\n",
    "analog of the [Negative Binomial distribution](#Negative-Binomial-distribution).\n",
    "    - The special case where $\\alpha=1$ is an [Exponential distribution](#Exponential-distribution).\n",
    "    - The special case where $\\alpha = \\nu/2$ and $\\beta = 1/2$ is a [Chi-square distribution](#Chi-square-distribution) parametrized by $\\nu$.\n",
    "    \n",
    "* **Usage**\n",
    "\n",
    "| Package        | Syntax           |\n",
    "|: -------------: | :------------- |\n",
    "|**NumPy** | `np.random.gamma(alpha, beta)` |\n",
    "|**SciPy** | `scipy.stats.gamma(alpha, loc=0, scale=beta)` |\n",
    "|**Stan** | `gamma(alpha, beta)` |\n",
    "\n",
    "\n",
    "* **Notes.**\n",
    "    - The Gamma distribution is useful as a prior for positive parameters. It imparts a heavier tail than the [Half-Normal distribution](#Half-Normal-distribution) (but not too heavy; it keeps parameters from growing too large), and allows the parameter value to come close to zero.\n",
    "    - SciPy has a location parameter, which should be set to zero, with $\\beta$ being the scale parameter."
   ]
  },
  {
   "cell_type": "code",
   "execution_count": 22,
   "metadata": {},
   "outputs": [
    {
     "data": {
      "application/vnd.bokehjs_exec.v0+json": "",
      "text/html": [
       "\n",
       "<script src=\"http://localhost:59747/autoload.js?bokeh-autoload-element=c00b6306-be4e-4ce4-865d-6b59865ed4ba&bokeh-absolute-url=http://localhost:59747&resources=none\" id=\"c00b6306-be4e-4ce4-865d-6b59865ed4ba\"></script>"
      ]
     },
     "metadata": {
      "application/vnd.bokehjs_exec.v0+json": {
       "server_id": "ea384a273597462aa02b144c3c1ed63e"
      }
     },
     "output_type": "display_data"
    }
   ],
   "source": [
    "params = [dict(name='α', start=1, end=5, value=2, step=0.01),\n",
    "          dict(name='β', start=0.1, end=5, value=2, step=0.01)]\n",
    "app = distribution_plot_app(x_min=0,\n",
    "                            x_max=50,\n",
    "                            scipy_dist=st.gamma,\n",
    "                            params=params,\n",
    "                            transform=lambda a, b: (a, 0, b),\n",
    "                            x_axis_label='y',\n",
    "                            title='Gamma')\n",
    "bokeh.io.show(app, notebook_url=notebook_url)"
   ]
  },
  {
   "cell_type": "markdown",
   "metadata": {},
   "source": [
    "### Inverse Gamma distribution\n",
    "\n",
    "* **Story.** If $x$ is [Gamma distributed](#Gamma-distribution), then $1/x$ is Inverse Gamma distributed.\n",
    "\n",
    "* **Parameters.** The number of arrivals, $\\alpha$, and the rate of\n",
    "arrivals, $\\beta$.\n",
    "\n",
    "* **Support.** The Inverse Gamma distribution is supported on the set of positive real numbers.\n",
    "\n",
    "* **Probability density function.**\n",
    "\n",
    "\\begin{align}\n",
    "f(y;\\alpha, \\beta) = \\frac{1}{\\Gamma(\\alpha)}\\,\\frac{\\beta^\\alpha}{y^{(\\alpha+1)}}\\,\\mathrm{e}^{-\\beta/ y}.\n",
    "\\end{align}\n",
    "\n",
    "* **Usage**\n",
    "\n",
    "| Package        | Syntax           |\n",
    "|: -------------: | :------------- |\n",
    "|**NumPy** | `1 / np.random.gamma(alpha, 1/beta)` |\n",
    "|**SciPy** | `scipy.stats.invgamma(alpha, loc=0, scale=beta) |\n",
    "|**Stan** | `inv_gamma(alpha, beta)` |\n",
    "\n",
    "\n",
    "* **Notes.**\n",
    "    - The Inverse Gamma distribution is useful as a prior for positive parmeters. It imparts a quite heavy tail and keeps probability further from zero than the [Gamma distribution](#Gamma-distribution).\n",
    "    - The `numpy.random` module does not have a function to sample directly from the Inverse Gamma distribution, but it can be achieved by sampling out of a Gamma distribution as shown in the NumPy usage above."
   ]
  },
  {
   "cell_type": "code",
   "execution_count": 23,
   "metadata": {},
   "outputs": [
    {
     "data": {
      "application/vnd.bokehjs_exec.v0+json": "",
      "text/html": [
       "\n",
       "<script src=\"http://localhost:59748/autoload.js?bokeh-autoload-element=d97a9d90-4539-4994-af55-e7ab314a568f&bokeh-absolute-url=http://localhost:59748&resources=none\" id=\"d97a9d90-4539-4994-af55-e7ab314a568f\"></script>"
      ]
     },
     "metadata": {
      "application/vnd.bokehjs_exec.v0+json": {
       "server_id": "0b85b9528f4941d28b2023da5cdc8a6b"
      }
     },
     "output_type": "display_data"
    }
   ],
   "source": [
    "params = [dict(name='α', start=0.01, end=2, value=0.5, step=0.01),\n",
    "          dict(name='β', start=0.1, end=2, value=1, step=0.01)]\n",
    "app = distribution_plot_app(x_min=0,\n",
    "                            x_max=20,\n",
    "                            scipy_dist=st.invgamma,\n",
    "                            params=params, \n",
    "                            transform=lambda alpha, beta: (alpha, 0, beta),\n",
    "                            x_axis_label='y',\n",
    "                            title='Inverse Gamma')\n",
    "\n",
    "bokeh.io.show(app, notebook_url=notebook_url)"
   ]
  },
  {
   "cell_type": "markdown",
   "metadata": {},
   "source": [
    "### Weibull distribution\n",
    "\n",
    "* **Story.** Distribution of $x = y^\\beta$ if $y$ is\n",
    "exponentially distributed.  For $\\beta > 1$, the longer we have\n",
    "waited, the more likely the event is to come, and vice versa for\n",
    "$\\beta < 1$.\n",
    "\n",
    "* **Example.** This is a model for aging.  The longer an\n",
    "organism lives, the more likely it is to die.\n",
    "\n",
    "* **Parameters.** There are two parameters, both strictly\n",
    "positive: the shape parameter $\\beta$, which dictates the shape of the\n",
    "curve, and the scale parameter $\\tau$, which dictates the rate of\n",
    "arrivals of the event.\n",
    "\n",
    "* **Support.**\n",
    "The Weibull distribution has support on the positive real numbers.\n",
    "\n",
    "* **Probability density function.**\n",
    "\n",
    "\\begin{align}\n",
    "f(y;\\alpha, \\sigma) = \\frac{\\alpha}{\\sigma}\\left(\\frac{y}{\\sigma}\\right)^{\\alpha - 1}\\,\n",
    "\\mathrm{e}^{-(y/\\sigma)^\\alpha}.\n",
    "\\end{align}\n",
    "\n",
    "* **Usage**\n",
    "\n",
    "| Package        | Syntax           |\n",
    "|: -------------: | :------------- |\n",
    "|**NumPy** | `np.random.weibull(alpha) * sigma` |\n",
    "|**SciPy** | `scipy.stats.weibull_min(alpha, loc=0, scale=sigma) |\n",
    "|**Stan** | `weibull(alpha, sigma)` |\n",
    "\n",
    "* **Related distributions.**\n",
    "    - The special case where $\\alpha = 0$ is the [Exponential distribution](#Exponential-distribution) with parameter $\\beta = 1/\\sigma$.\n",
    "    \n",
    "* **Notes.**\n",
    "    - SciPy has a location parameter, which should be set to zero, with $\\beta$ being the scale parameter.\n",
    "    - NumPy only provides a version of the Weibull distribution with $\\sigma = 1$. Sampling out of the Weibull distribution may be accomplished by multiplying the resulting samples by $\\sigma$."
   ]
  },
  {
   "cell_type": "code",
   "execution_count": 24,
   "metadata": {
    "scrolled": true
   },
   "outputs": [
    {
     "data": {
      "application/vnd.bokehjs_exec.v0+json": "",
      "text/html": [
       "\n",
       "<script src=\"http://localhost:59749/autoload.js?bokeh-autoload-element=002a9eee-0a05-464e-b2bf-658cc2f5cb38&bokeh-absolute-url=http://localhost:59749&resources=none\" id=\"002a9eee-0a05-464e-b2bf-658cc2f5cb38\"></script>"
      ]
     },
     "metadata": {
      "application/vnd.bokehjs_exec.v0+json": {
       "server_id": "1724c6560f64472ca3a4a4818f0bed17"
      }
     },
     "output_type": "display_data"
    }
   ],
   "source": [
    "params = [dict(name='α', start=0.1, end=5, value=1, step=0.01),\n",
    "          dict(name='σ', start=0.1, end=3, value=1.5, step=0.01)]\n",
    "app = distribution_plot_app(x_min=0,\n",
    "                            x_max=8,\n",
    "                            scipy_dist=st.weibull_min,\n",
    "                            params=params,\n",
    "                            transform=lambda a, s: (a, 0, s),\n",
    "                            x_axis_label='y',\n",
    "                            title='Weibull')\n",
    "bokeh.io.show(app, notebook_url=notebook_url)"
   ]
  },
  {
   "cell_type": "markdown",
   "metadata": {},
   "source": [
    "### Beta distribution\n",
    "\n",
    "* **Story.** Say you wait for two multistep processes to happen. The individual steps of each process happen at the same rate, but the first multistep process requires $\\alpha$ steps and the second requires $\\beta$ steps. The fraction of the total waiting time take by the first process is Beta distributed.\n",
    "\n",
    "* **Example.**\n",
    "\n",
    "* **Parameters.** There are two parameters, both strictly\n",
    "positive: $\\alpha$ and $\\beta$, defined in the above story.\n",
    "\n",
    "* **Support.**\n",
    "The Beta distribution has support on the interval [0, 1].\n",
    "\n",
    "* **Probability density function.**\n",
    "\\begin{align}\n",
    "f(\\theta;\\alpha, \\beta) = \\frac{\\theta^{\\alpha-1}(1-\\theta)^{\\beta-1}}{B(\\alpha,\\beta)},\n",
    "\\end{align}\n",
    "where\n",
    "\\begin{align}\n",
    "B(\\alpha,\\beta) = \\frac{\\Gamma(\\alpha)\\,\\Gamma(\\beta)}{\\Gamma(\\alpha + \\beta)}\n",
    "\\end{align}\n",
    "is the Beta function.\n",
    "\n",
    "* **Usage**\n",
    "\n",
    "| Package        | Syntax           |\n",
    "|: -------------: | :------------- |\n",
    "|**NumPy** | `np.random.beta(alpha, beta)` |\n",
    "|**SciPy** | `scipy.stats.beta(alpha, beta) |\n",
    "|**Stan** | `weibull(alpha, sigma)` |\n",
    "\n",
    "* **Related distributions.**\n",
    "    - The [Uniform distribution](#Uniform-distribution) on the interval [0, 1] is a special case of the Beta distribution with $\\alpha=\\beta=1$.\n",
    "\n",
    "* **Notes.** \n",
    "    - The story of the Beta distribution is difficult to parse. Most importantly for our purposes, the Beta distribution allows us to put probabilities on unknown probabilities. It is only defined on $0\\le x\\le 1$, and $x$ here can be interpreted as a probability, say of a Bernoulli trial.\n",
    "    - The case where $a = b = 0$ is not technically a probability distribution because the PDF cannot be normalized. Nonetheless, it can be used as an improper prior, and this prior is known a Haldane prior, names after biologist J. B. S. Haldane. The case where $a = b = 1/2$ is sometimes called a Jeffreys prior."
   ]
  },
  {
   "cell_type": "code",
   "execution_count": 25,
   "metadata": {},
   "outputs": [
    {
     "data": {
      "application/vnd.bokehjs_exec.v0+json": "",
      "text/html": [
       "\n",
       "<script src=\"http://localhost:59750/autoload.js?bokeh-autoload-element=2826739e-79a0-488e-a893-d87413ae21a6&bokeh-absolute-url=http://localhost:59750&resources=none\" id=\"2826739e-79a0-488e-a893-d87413ae21a6\"></script>"
      ]
     },
     "metadata": {
      "application/vnd.bokehjs_exec.v0+json": {
       "server_id": "431c2853a5f4427f874806c597b067fa"
      }
     },
     "output_type": "display_data"
    }
   ],
   "source": [
    "params = [dict(name='α', start=0.01, end=10, value=1, step=0.01),\n",
    "          dict(name='β', start=0.01, end=10, value=1, step=0.01)]\n",
    "app = distribution_plot_app(x_min=0,\n",
    "                            x_max=1,\n",
    "                            scipy_dist=st.beta,\n",
    "                            params=params,\n",
    "                            x_axis_label='θ',\n",
    "                            title='Beta')\n",
    "bokeh.io.show(app, notebook_url=notebook_url)"
   ]
  },
  {
   "cell_type": "markdown",
   "metadata": {},
   "source": [
    "## Discrete multivariate distributions\n",
    "\n",
    "So far, we have looked a univariate distributions, but we will consider multivariate distributions in class, and you will encounter them in your research. First, we consider a discrete multivariate distribution, the Multinomial."
   ]
  },
  {
   "cell_type": "markdown",
   "metadata": {},
   "source": [
    "### Multinomial distribution\n",
    "\n",
    "* **Story.** This is a generalization of the Binomial distribution. Instead of a Bernoulli trial consisting of two outcomes, each trial has $K$ outcomes. The probability of getting $n_1$ of outcome 1, $n_2$ of outcome 2, ..., and $y_K$ of outcome $K$ out of a total of $N$ trials is Multinomially distributed.\n",
    "\n",
    "* **Example.** There are two alleles in a population, A and a. Each individual may have genotype AA, Aa, or aa. The probability distribution describing having $y_1$ AA individuals, $y_2$ Aa individuals, and $n_3$ aa individuals in a population of $N$ total individuals is Multinomially distributed.\n",
    "\n",
    "* **Parameters.** $N$, the total number of trials, and $\\boldsymbol{\\theta} = \\{\\theta_1, \\theta_2, \\ldots \\theta_k\\}$, the probabilities of each outcome. Note that $\\sum_i \\theta_i = 1$ and there is a further restriction that $\\sum_i y_i = N$.\n",
    "\n",
    "* **Support.** The _K_-nomial distribution is supported on $\\mathbb{N}^K$.\n",
    "\n",
    "* **Usage**\n",
    "The usage below assumes that `theta` is a length _K_ array.\n",
    "\n",
    "| Package        | Syntax           |\n",
    "|: -------------: | :------------- |\n",
    "|**NumPy** | `np.random.multinomial(N, theta)` |\n",
    "|**SciPy** | `scipy.stats.multinomial(N, theta)` |\n",
    "|**Stan sampling** | `multinomial(theta)` |\n",
    "|**Stan rng** | `multinomial_rng(theta, N)` |\n",
    "\n",
    "\n",
    "* **Probability density function.**\n",
    "\n",
    "\\begin{align}\n",
    "f(\\mathbf{y};\\mathbf{\\theta}, N) = \\frac{N!}{y_1!\\,y_2!\\cdots y_k!}\\,\\theta_1^{y_1}\\,\\theta_2^{y_2}\\cdots \\theta_K^{y_K}.\n",
    "\\end{align}\n",
    "\n",
    "* **Related distributions.**\n",
    "    - The Multinomial distribution generalizes the [Binomial distribution](#Binomial-distribution) to multiple dimensions.\n",
    "    \n",
    "* **Notes.**\n",
    "    - For a sampling statement in Stan, the value of `N` is implied."
   ]
  },
  {
   "cell_type": "markdown",
   "metadata": {},
   "source": [
    "## Continuous Multivariate distributions\n",
    "\n",
    "We will consider two continuous multivariate distributions here, the multivariate Gaussian and the Dirichlet. Generally plotting multivariate PDFs is difficult, but bivariate PDFs may be conveniently plotted as **contour plots**. In our investigation of the multivariate Gaussian distribution, I will also demonstrate how to make plots of bivariate PDFs."
   ]
  },
  {
   "cell_type": "markdown",
   "metadata": {},
   "source": [
    "### Multivariate Gaussian, a.k.a. Multivariate Normal, distribution\n",
    "\n",
    "* **Story.** This is a generalization of the [univariate Gaussian](#Gaussian,-a.k.a.-Normal,-distribution).\n",
    "\n",
    "* **Example.** Finch beaks are measured for beak depth and beak length. The resulting distribution of depths and length is Gaussian distributed. In this case, the Gaussian is bivariate, with $\\mu = (\\mu_\\mathrm{d}, \\mu_\\mathrm{l})$ and\n",
    "\\begin{align}\n",
    "\\mathsf{\\Sigma} = \\begin{pmatrix}\n",
    "\\sigma_\\mathrm{d}^2 & \\sigma_\\mathrm{dl} \\\\\n",
    "\\sigma_\\mathrm{dl} & \\sigma_\\mathrm{l}^2\n",
    "\\end{pmatrix}.\n",
    "\\end{align}\n",
    "\n",
    "\n",
    "* **Parameters.** There is one vector-valued parameter, $\\boldsymbol{\\mu}$, and a matrix-valued parameter, $\\mathsf{\\Sigma}$, referred to respectively as the mean and covariance matrix. The covariance matrix is symmetric and strictly positive definite.\n",
    "\n",
    "* **Support.** The _K_-variate Gaussian distribution is supported on $\\mathbb{R}^K$.\n",
    "\n",
    "* **Probability density function.**\n",
    "\n",
    "\\begin{align}\n",
    "f(\\mathbf{y};\\boldsymbol{\\mu}, \\mathsf{\\Sigma}) = \\frac{1}{\\sqrt{(2\\pi)^K \\det \\mathsf{\\Sigma}}}\\,\\mathrm{exp}\\left[-\\frac{1}{2}(\\mathbf{y} - \\boldsymbol{\\mu})^T \\cdot \\mathsf{\\Sigma}^{-1}\\cdot (\\mathbf{y} - \\boldsymbol{\\mu})\\right].\n",
    "\\end{align}\n",
    "\n",
    "* **Usage**\n",
    "The usage below assumes that `mu` is a length _K_ array, `Sigma` is a _K_×_K_ symmetric positive definite matrix, and `L` is a _K_×_K_ lower-triangular matrix with strictly positive values on teh diagonal that is a Cholesky factor.\n",
    "\n",
    "| Package        | Syntax           |\n",
    "|: -------------: | :------------- |\n",
    "|**NumPy** | `np.random.multivariate_normal(mu, Sigma)` |\n",
    "|**SciPy** | `scipy.stats.multivariate_normal(mu, Sigma)` |\n",
    "|**Stan** | `multi_normal(mu, Sigma)` |\n",
    "|**NumPy Cholesky**| `np.random.multivariate_normal(mu, np.dot(L, L.T))` |\n",
    "|**SciPy Cholesky**| `scipy.stats.multivariate_normal(mu, np.dot(L, L.T))` |\n",
    "|**Stan Cholesky**| `multi_normal_cholesky(mu, L)` |\n",
    "\n",
    "\n",
    "* **Related distributions.**\n",
    "    - The Multivariate Gaussian is a generalization of the [univariate Gaussian](#Gaussian,-a.k.a.-Normal,-distribution).\n",
    "\n",
    "* **Notes.** \n",
    "    - The covariance matrix may also be written as\n",
    "\\begin{align}\n",
    "\\\\\\phantom{blah}\n",
    "\\mathsf{\\Sigma} = \\mathsf{S}\\cdot \\mathsf{C} \\cdot \\mathsf{S},\n",
    "\\\\\\phantom{blah}\n",
    "\\end{align}\n",
    "where \n",
    "\\begin{align}\n",
    "\\\\\\phantom{blah}\n",
    "\\mathsf{S} = \\sqrt{\\text{diag}(\\mathsf{\\Sigma})},\n",
    "\\\\\\phantom{blah}\n",
    "\\end{align}\n",
    "and entry $i, j$ in the **correlation matrix** $\\mathsf{C}$ is\n",
    "\\begin{align}\n",
    "\\\\\\phantom{blah}\n",
    "C_{ij} = \\sigma_{ij} / \\sigma_i \\sigma_j.\n",
    "\\\\\\phantom{blah}\n",
    "\\end{align}\n",
    "    - Furthermore, because $\\mathsf{\\Sigma}$ is symmetric and strictly positive definite, it can be uniquely defined in terms of its [Cholesky decomposition](https://en.wikipedia.org/wiki/Cholesky_decomposition), $\\mathsf{L}$, which satisfies $\\mathsf{\\Sigma} = \\mathsf{L}\\cdot\\mathsf{L}^T$. In practice, you will almost always use the Cholesky representation of the Multivariate Gaussian distribution in Stan."
   ]
  },
  {
   "cell_type": "markdown",
   "metadata": {},
   "source": [
    "### Lewandowski-Kurowicka-Joe (LKJ) distribution\n",
    "\n",
    "* **Story.** Probability distribution for positive definite correlation matrices, or equivalanently for their Cholesky factors (which is what we use in practice).\n",
    "\n",
    "* **Parameter.** There is one positive scalar parameter, $\\eta$, which tunes the strength of the correlations. If $\\eta = 1$, the density is uniform over all correlation matrix. If $\\eta > 1$, matrices with a stronger diagonal (and therefore smaller correlations) are favored. If $\\eta < 1$, the diagonal is weak and correlations are favored.\n",
    "\n",
    "* **Support.** The LKJ distribution is supported over the set of $K\\times K$ Cholesky factors of real symmetric positive definite matrices.\n",
    "\n",
    "* **Probability density function.**\n",
    "We cannot write the PDF in closed form. \n",
    "\n",
    "* **Usage**\n",
    "\n",
    "| Package        | Syntax           |\n",
    "|: -------------: | :------------- |\n",
    "|**NumPy** | not available |\n",
    "|**SciPy** | not available |\n",
    "|**Stan** | lkj_corr_cholesky(eta) |\n",
    "\n",
    "* **Notes.** \n",
    "    - The most common use case is as a prior for a covariance matrix. Note that LKJ distribution gives Cholesky factors for *correlation* matrices, not covariance matrices. To get the covariance Cholesky factor from the correlation Cholesky factor, you need to multiply the correlation Cholesky factor by a diagonal constructed from the variances of the individual variates. Here is an example for a multivariate Gaussian in Stan.\n",
    "\n",
    "    ```\n",
    "    parameters {\n",
    "        // Vector of means\n",
    "        vector[K] mu;\n",
    "\n",
    "        // Cholesky factor for the correlation matrix\n",
    "        cholesky_factor_corr[K] L_Omega;\n",
    "        \n",
    "        // Sqrt of variances for each variate\n",
    "        vector<lower=0>[K] L_std;\n",
    "    } \n",
    "    model {\n",
    "        // Cholesky factor for covariance matrix\n",
    "        matrix[K, K] L_Sigma = diag_pre_multiply(L_std, L_Omega);\n",
    "\n",
    "        // Prior on Cholesky decomposition of correlation matrix\n",
    "        L_Omega ~ lkj_corr_cholesky(1);\n",
    "        \n",
    "        // Prior on standard deviations for each variate\n",
    "        L_std ~ normal(0, 2.5);\n",
    "\n",
    "        // Likelihood\n",
    "        y ~ multi_normal_cholesky(mu, L_Sigma);\n",
    "    }\n",
    "    ```"
   ]
  },
  {
   "cell_type": "markdown",
   "metadata": {},
   "source": [
    "### Dirichlet distribution\n",
    "\n",
    "* **Story.** The Dirichlet distribution is a generalization of the [Beta distribution](#Beta-distribution). It is a probability distribution describing probabilities of outcomes. Instead of describing probability of one of two outcomes of a Bernoulli trial, like the Beta distribution does, it describes probability of $K-1$ of $K$ outcomes. The Beta distribution is the special case of $K = 2$.\n",
    "\n",
    "* **Parameters.** The parameters are $\\alpha_1, \\alpha_2, \\ldots \\alpha_K$, all strictly positive, defined analogously to $\\alpha$ and $\\beta$ of the Beta distribution.\n",
    "\n",
    "* **Support.** The Dirichlet distribution has support on the interval [0, 1] such that $\\sum_{i=1}^K y_i = 1$.\n",
    "\n",
    "* **Probability density function.**\n",
    "\\begin{align}\n",
    "f(\\boldsymbol{\\theta};\\boldsymbol{\\alpha}) = \\frac{1}{B(\\boldsymbol{\\alpha})}\\,\\prod_{i=1}^K y_i^{\\alpha_i-1},\n",
    "\\end{align}\n",
    "where\n",
    "\\begin{align}\n",
    "B(\\boldsymbol{\\alpha}) = \\frac{\\prod_{i=1}^K\\Gamma(\\alpha_i)}{\\Gamma\\left(\\sum_{i=1}^K \\alpha_i\\right)}\n",
    "\\end{align}\n",
    "is the multivariate Beta function.\n",
    "\n",
    "* **Related distributions.**\n",
    "    - The special case where $K = 2$ is a [Beta distribution](#Beta-distribution) with parameters $\\alpha = \\alpha_1$ and $\\beta = \\alpha_2$."
   ]
  },
  {
   "cell_type": "markdown",
   "metadata": {},
   "source": [
    "## Conclusions\n",
    "\n",
    "This document serves as a catalog of probability distributions that will be useful for you in your statistical modeling. As we will see, the mathematical expression of the PDF is not often needed. What is most important in your modeling is that you know the story of the distribution."
   ]
  },
  {
   "cell_type": "markdown",
   "metadata": {},
   "source": [
    "## Computing environment"
   ]
  },
  {
   "cell_type": "code",
   "execution_count": 26,
   "metadata": {},
   "outputs": [],
   "source": [
    "%load_ext watermark"
   ]
  },
  {
   "cell_type": "code",
   "execution_count": 27,
   "metadata": {},
   "outputs": [
    {
     "name": "stdout",
     "output_type": "stream",
     "text": [
      "CPython 3.6.6\n",
      "IPython 7.0.1\n",
      "\n",
      "numpy 1.15.2\n",
      "scipy 1.1.0\n",
      "bokeh 0.13.0\n",
      "jupyterlab 0.34.12\n"
     ]
    },
    {
     "name": "stderr",
     "output_type": "stream",
     "text": [
      "ERROR:bokeh.server.views.ws:Refusing websocket connection from Origin 'http://localhost:8890';                       use --allow-websocket-origin=localhost:8890 to permit this; currently we allow origins {'localhost:8888'}\n",
      "WARNING:tornado.access:403 GET /ws?bokeh-protocol-version=1.0&bokeh-session-id=PlboV8QxzyIspgs8QndBRSCp0Hgnp28oKWMpV5Uontps (::1) 3.66ms\n",
      "ERROR:bokeh.server.views.ws:Refusing websocket connection from Origin 'http://localhost:8890';                       use --allow-websocket-origin=localhost:8890 to permit this; currently we allow origins {'localhost:8888'}\n",
      "WARNING:tornado.access:403 GET /ws?bokeh-protocol-version=1.0&bokeh-session-id=pmWuYXz5ppZhhJGnXRTI9v8UjoAJCKI5U0BDw58mK3Gb (::1) 1.71ms\n",
      "ERROR:bokeh.server.views.ws:Refusing websocket connection from Origin 'http://localhost:8890';                       use --allow-websocket-origin=localhost:8890 to permit this; currently we allow origins {'localhost:8888'}\n",
      "WARNING:tornado.access:403 GET /ws?bokeh-protocol-version=1.0&bokeh-session-id=PoKjtlHjwkUnXOFrk4cerI7etXPPEezo1g8pcDvJyl5T (::1) 2.64ms\n",
      "ERROR:bokeh.server.views.ws:Refusing websocket connection from Origin 'http://localhost:8890';                       use --allow-websocket-origin=localhost:8890 to permit this; currently we allow origins {'localhost:8888'}\n",
      "WARNING:tornado.access:403 GET /ws?bokeh-protocol-version=1.0&bokeh-session-id=yp9WGOwU0IDxY0V9gHLKcRllcXgsFNuHh3nA4MnS1Adp (::1) 2.95ms\n",
      "ERROR:bokeh.server.views.ws:Refusing websocket connection from Origin 'http://localhost:8890';                       use --allow-websocket-origin=localhost:8890 to permit this; currently we allow origins {'localhost:8888'}\n",
      "WARNING:tornado.access:403 GET /ws?bokeh-protocol-version=1.0&bokeh-session-id=R13D1qO4RZvdEIEEd6urRSbDCPoqhinWCsKAOgCRhQom (::1) 2.41ms\n",
      "ERROR:bokeh.server.views.ws:Refusing websocket connection from Origin 'http://localhost:8890';                       use --allow-websocket-origin=localhost:8890 to permit this; currently we allow origins {'localhost:8888'}\n",
      "WARNING:tornado.access:403 GET /ws?bokeh-protocol-version=1.0&bokeh-session-id=7zbhTqqkFc2T016SVfqULWjpUYbHev3F3OiIFKKKJ3fm (::1) 1.84ms\n",
      "ERROR:bokeh.server.views.ws:Refusing websocket connection from Origin 'http://localhost:8890';                       use --allow-websocket-origin=localhost:8890 to permit this; currently we allow origins {'localhost:8888'}\n",
      "WARNING:tornado.access:403 GET /ws?bokeh-protocol-version=1.0&bokeh-session-id=B4a5aft8l7JdRHme8apWSXAh5UZYpfToZTI9xBMwS1It (::1) 2.13ms\n",
      "ERROR:bokeh.server.views.ws:Refusing websocket connection from Origin 'http://localhost:8890';                       use --allow-websocket-origin=localhost:8890 to permit this; currently we allow origins {'localhost:8888'}\n",
      "WARNING:tornado.access:403 GET /ws?bokeh-protocol-version=1.0&bokeh-session-id=wE1PbDkD93DSTunrq9Y4LW4fOFdlUajdVlmTVXK3MEBz (::1) 2.31ms\n",
      "ERROR:bokeh.server.views.ws:Refusing websocket connection from Origin 'http://localhost:8890';                       use --allow-websocket-origin=localhost:8890 to permit this; currently we allow origins {'localhost:8888'}\n",
      "WARNING:tornado.access:403 GET /ws?bokeh-protocol-version=1.0&bokeh-session-id=CJoWZ6RJIZf9J8hkzux3JZ9r7AoK3038EKdF9hhI1aGE (::1) 1.98ms\n",
      "ERROR:bokeh.server.views.ws:Refusing websocket connection from Origin 'http://localhost:8890';                       use --allow-websocket-origin=localhost:8890 to permit this; currently we allow origins {'localhost:8888'}\n",
      "WARNING:tornado.access:403 GET /ws?bokeh-protocol-version=1.0&bokeh-session-id=u9xeC2wZufN1Gv85Dq3picirsXVrUwMRJ95oJwEIqTWo (::1) 6.76ms\n",
      "ERROR:bokeh.server.views.ws:Refusing websocket connection from Origin 'http://localhost:8890';                       use --allow-websocket-origin=localhost:8890 to permit this; currently we allow origins {'localhost:8888'}\n",
      "WARNING:tornado.access:403 GET /ws?bokeh-protocol-version=1.0&bokeh-session-id=cY4zfdOtyRMHAAuRwV8bGuE7EVJQozyXNzZOj0G0pVHN (::1) 1.90ms\n",
      "ERROR:bokeh.server.views.ws:Refusing websocket connection from Origin 'http://localhost:8890';                       use --allow-websocket-origin=localhost:8890 to permit this; currently we allow origins {'localhost:8888'}\n",
      "WARNING:tornado.access:403 GET /ws?bokeh-protocol-version=1.0&bokeh-session-id=fhQc0uJsxgi6aSPze7Bi3IKizlrPWyZYgIKMwDI4J7hV (::1) 1.82ms\n",
      "ERROR:bokeh.server.views.ws:Refusing websocket connection from Origin 'http://localhost:8890';                       use --allow-websocket-origin=localhost:8890 to permit this; currently we allow origins {'localhost:8888'}\n",
      "WARNING:tornado.access:403 GET /ws?bokeh-protocol-version=1.0&bokeh-session-id=WEzRuM4toacAM7PGbufywNvDDKH0b8dmYkh7utzfx4vO (::1) 3.58ms\n",
      "ERROR:bokeh.server.views.ws:Refusing websocket connection from Origin 'http://localhost:8890';                       use --allow-websocket-origin=localhost:8890 to permit this; currently we allow origins {'localhost:8888'}\n",
      "WARNING:tornado.access:403 GET /ws?bokeh-protocol-version=1.0&bokeh-session-id=mYAWP9J710A0miLtj8RAUOyRBTY8tHsmYeMve1fx2XVR (::1) 2.57ms\n",
      "ERROR:bokeh.server.views.ws:Refusing websocket connection from Origin 'http://localhost:8890';                       use --allow-websocket-origin=localhost:8890 to permit this; currently we allow origins {'localhost:8888'}\n",
      "WARNING:tornado.access:403 GET /ws?bokeh-protocol-version=1.0&bokeh-session-id=ri9BfTB3zacLs39pqhFQQSdAeWC9EPM6qcWkYR3nszSw (::1) 2.44ms\n",
      "ERROR:bokeh.server.views.ws:Refusing websocket connection from Origin 'http://localhost:8890';                       use --allow-websocket-origin=localhost:8890 to permit this; currently we allow origins {'localhost:8888'}\n",
      "WARNING:tornado.access:403 GET /ws?bokeh-protocol-version=1.0&bokeh-session-id=TCI5QnE5diZdxFcZGmkdxak5guyBJxvFBN0X9Db2xYET (::1) 3.89ms\n",
      "ERROR:bokeh.server.views.ws:Refusing websocket connection from Origin 'http://localhost:8890';                       use --allow-websocket-origin=localhost:8890 to permit this; currently we allow origins {'localhost:8888'}\n",
      "WARNING:tornado.access:403 GET /ws?bokeh-protocol-version=1.0&bokeh-session-id=r1Ymu1cYxATIo1A7Zp0Y3CjwpAB6dPwB94F4Vi5FOyIp (::1) 1.81ms\n",
      "ERROR:bokeh.server.views.ws:Refusing websocket connection from Origin 'http://localhost:8890';                       use --allow-websocket-origin=localhost:8890 to permit this; currently we allow origins {'localhost:8888'}\n",
      "WARNING:tornado.access:403 GET /ws?bokeh-protocol-version=1.0&bokeh-session-id=AH31kfjXCL3I2oUu6gTKlVKLTpNWReBaO7yTFLmG7bGR (::1) 1.42ms\n",
      "ERROR:bokeh.server.views.ws:Refusing websocket connection from Origin 'http://localhost:8890';                       use --allow-websocket-origin=localhost:8890 to permit this; currently we allow origins {'localhost:8888'}\n",
      "WARNING:tornado.access:403 GET /ws?bokeh-protocol-version=1.0&bokeh-session-id=1JuXYjenraSTxKYcHJYv6mhMVtpdFMl5jUZEZuKMl0hR (::1) 2.00ms\n",
      "ERROR:bokeh.server.views.ws:Refusing websocket connection from Origin 'http://localhost:8890';                       use --allow-websocket-origin=localhost:8890 to permit this; currently we allow origins {'localhost:8888'}\n",
      "WARNING:tornado.access:403 GET /ws?bokeh-protocol-version=1.0&bokeh-session-id=fKSWdUUxjzU64BIn69r8hEIBoddseQvAnp4uyBCjdvOb (::1) 1.26ms\n"
     ]
    }
   ],
   "source": [
    "%watermark -v -p numpy,scipy,bokeh,jupyterlab"
   ]
  }
 ],
 "metadata": {
  "anaconda-cloud": {},
  "kernelspec": {
   "display_name": "Python 3",
   "language": "python",
   "name": "python3"
  },
  "language_info": {
   "codemirror_mode": {
    "name": "ipython",
    "version": 3
   },
   "file_extension": ".py",
   "mimetype": "text/x-python",
   "name": "python",
   "nbconvert_exporter": "python",
   "pygments_lexer": "ipython3",
   "version": "3.6.6"
  }
 },
 "nbformat": 4,
 "nbformat_minor": 2
}
