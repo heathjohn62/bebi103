{
 "cells": [
  {
   "cell_type": "code",
   "execution_count": 1,
   "metadata": {},
   "outputs": [
    {
     "ename": "NameError",
     "evalue": "name 'df' is not defined",
     "output_type": "error",
     "traceback": [
      "\u001b[0;31m---------------------------------------------------------------------------\u001b[0m",
      "\u001b[0;31mNameError\u001b[0m                                 Traceback (most recent call last)",
      "\u001b[0;32m<ipython-input-1-9fb5ccd0f3e1>\u001b[0m in \u001b[0;36m<module>\u001b[0;34m\u001b[0m\n\u001b[0;32m----> 1\u001b[0;31m \u001b[0mdf2\u001b[0m \u001b[0;34m=\u001b[0m \u001b[0mdf\u001b[0m\u001b[0;34m[\u001b[0m\u001b[0mdf\u001b[0m\u001b[0;34m[\u001b[0m\u001b[0;34m'bodypart'\u001b[0m\u001b[0;34m]\u001b[0m \u001b[0;34m==\u001b[0m \u001b[0;34m'thorax'\u001b[0m\u001b[0;34m]\u001b[0m\u001b[0;34m\u001b[0m\u001b[0m\n\u001b[0m\u001b[1;32m      2\u001b[0m \u001b[0;34m\u001b[0m\u001b[0m\n\u001b[1;32m      3\u001b[0m \u001b[0mdf_dalotia\u001b[0m \u001b[0;34m=\u001b[0m \u001b[0mdf2\u001b[0m\u001b[0;34m[\u001b[0m\u001b[0mdf2\u001b[0m\u001b[0;34m[\u001b[0m\u001b[0;34m'beetle_treatment'\u001b[0m\u001b[0;34m]\u001b[0m \u001b[0;34m==\u001b[0m \u001b[0;34m'dalotia'\u001b[0m\u001b[0;34m]\u001b[0m\u001b[0;34m\u001b[0m\u001b[0m\n\u001b[1;32m      4\u001b[0m \u001b[0mdf_sceptobius\u001b[0m \u001b[0;34m=\u001b[0m \u001b[0mdf2\u001b[0m\u001b[0;34m[\u001b[0m\u001b[0mdf2\u001b[0m\u001b[0;34m[\u001b[0m\u001b[0;34m'beetle_treatment'\u001b[0m\u001b[0;34m]\u001b[0m \u001b[0;34m==\u001b[0m \u001b[0;34m'sceptobius'\u001b[0m\u001b[0;34m]\u001b[0m\u001b[0;34m\u001b[0m\u001b[0m\n\u001b[1;32m      5\u001b[0m \u001b[0;34m\u001b[0m\u001b[0m\n",
      "\u001b[0;31mNameError\u001b[0m: name 'df' is not defined"
     ]
    }
   ],
   "source": [
    "df2 = df[df['bodypart'] == 'thorax']\n",
    "\n",
    "df_dalotia = df2[df2['beetle_treatment'] == 'dalotia']\n",
    "df_sceptobius = df2[df2['beetle_treatment'] == 'sceptobius']\n",
    "\n",
    "df_dalotia1 = df_dalotia[df_dalotia['ID'] == 0]\n",
    "\n",
    "alt.Chart(df_dalotia1.head(5000)).mark_point().encode(\n",
    "    x='x (mm)',\n",
    "    y='y (mm)',\n",
    "    color = 'time'\n",
    ").interactive()\n",
    "\n",
    "\n",
    "\n",
    "df2 = df[df['bodypart'] == 'thorax']\n",
    "\n",
    "df_dalotia = df2[df2['beetle_treatment'] == 'dalotia']\n",
    "df_sceptobius = df2[df2['beetle_treatment'] == 'sceptobius']\n",
    "\n",
    "df_dalotia1 = df_dalotia[df_dalotia['ID'] == 0]\n",
    "\n",
    "distances = np.array([])\n",
    "\n",
    "x_prev = df_dalotia1['x_coord'].values[0]\n",
    "y_prev = df_dalotia1['y_coord'].values[0]\n",
    "time_prev = df_dalotia1['time'].values[0]\n",
    "for index, row in df_dalotia1.iterrows():\n",
    "    if index != 0:\n",
    "        distances = np.array([])\n",
    "        x = row['x_coord']\n",
    "        y = row['y_coord']\n",
    "        time = row['time']\n",
    "        distances = numpy.append(distances, index)\n",
    "        x_prev = x\n",
    "        y_prev = y\n",
    "        time_prev = time\n",
    "\n",
    "alt.Chart(df_dalotia1.head(5000)).mark_line().encode(\n",
    "    x='time_elapsed',\n",
    "    y='distance'\n",
    ")\n",
    "\n",
    "\n"
   ]
  },
  {
   "cell_type": "code",
   "execution_count": null,
   "metadata": {},
   "outputs": [],
   "source": []
  }
 ],
 "metadata": {
  "kernelspec": {
   "display_name": "Python 3",
   "language": "python",
   "name": "python3"
  },
  "language_info": {
   "codemirror_mode": {
    "name": "ipython",
    "version": 3
   },
   "file_extension": ".py",
   "mimetype": "text/x-python",
   "name": "python",
   "nbconvert_exporter": "python",
   "pygments_lexer": "ipython3",
   "version": "3.6.6"
  }
 },
 "nbformat": 4,
 "nbformat_minor": 2
}
