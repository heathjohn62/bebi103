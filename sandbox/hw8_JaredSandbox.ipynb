{
 "cells": [
  {
   "cell_type": "markdown",
   "metadata": {},
   "source": [
    "## Problem 8.2: Microtubule catastrophe, 40 pts\n",
    "\n",
    "_Note: This problem is best done after the lecture November 22._\n",
    "\n",
    "In this problem, we use data from [Gardner, Zanic, et al., Depolymerizing kinesins Kip3 and MCAK shape cellular microtubule architecture by differential control of catastrophe, *Cell*, **147**, 1092-1103, 2011](https://doi.org/10.1016/j.cell.2011.10.037). The authors investigated the dynamics of microtubule catastrophe, the switching of a microtubule from a growing to a shrinking state.  In particular, they were interested in the time between the start of growth of a microtubule and the catastrophe event. They monitored microtubules in a single-molecule [TIRF assay](https://en.wikipedia.org/wiki/Total_internal_reflection_fluorescence_microscope) by using tubulin (the monomer that comprises a microtubule) that was labeled with a fluorescent marker. As a control to make sure that fluorescent labels and exposure to laser light did not affect the microtubule dynamics, they performed a similar experiment using differential interference contrast (DIC) microscopy. They measured the time until catastrophe with labeled and unlabeled tubulin. We will carefully analyze the data and make some conclusions about the processes underlying microtubule catastrophe.\n",
    "\n",
    "In the file `gardner_mt_catastrophe_only_tubulin.csv` (which you can download [here](../data/gardner_mt_catastrophe_only_tubulin.csv)), we have observed catastrophe times of microtubules with different concentrations of tubulin. To start with, we will consider the experiment run with a tubulin concentration of 12 µM. So, our data set consists of a set of measurements of the amount of time to catastrophe. We will consider three models for microtubule catastrophe.\n",
    "\n",
    "- Model 1: The time to catastrophe is Exponentially distributed.\n",
    "- Model 2: The time to catastrophe is Gamma distributed.\n",
    "- Model 3: The time to catastrophe is Weibull distributed.\n",
    "\n",
    "Note that these descriptions are for the likelihood; we have not specified priors.\n",
    "\n",
    "\n",
    "**a)**  Describe the three models in words. Give physical descriptions of the meanings of their parameters. Describe how these models are related to each other. Tutorial 3c will be useful. \n",
    "\n",
    "<br />\n",
    "\n"
   ]
  },
  {
   "cell_type": "markdown",
   "metadata": {},
   "source": [
    "- Model 1: The time to catastrophe is Exponentially distributed.\n",
    "\n",
    "This suggests that the occurance of catastrophe is a Poisson process, so it is a \"rare event\" that requires multiple subprocesses to lead it it. The parameter for the process, if it is exponential, $\\beta$, represents the characteristic rate of catastrophe, that is how often catastrophe happens in a certain amount of time. It can also be parametrized as $\\tau=1/\\beta$, the characteristic catastrophe time, which fits what we are given in our data. The Exponential distribution is a special case of the Gamma distribution where $\\alpha = 1$ and a special case of the Weibull distribution where $\\alpha = 1$ and $\\sigma=1/\\beta$\n",
    "\n"
   ]
  },
  {
   "cell_type": "markdown",
   "metadata": {},
   "source": [
    "- Model 2: The time to catastrophe is Gamma distributed.\n",
    "\n",
    "This suggests that the occurance of catastrophe represents a specific number of occurances of a Poisson process, that is a discrete number of steps that occur at the same rate must occur for catastrophe to occur. There are two parameters for this distribution, $\\alpha$ and $\\beta$, where $\\alpha$ is the number of arrivals (or \"steps\") required to trigger catastrophe, and $\\beta$ is the rate of the arrivals. Thus, the characteristic catastrophe time is given by $\\alpha/\\beta$. \n"
   ]
  },
  {
   "cell_type": "markdown",
   "metadata": {},
   "source": [
    "- Model 3: The time to catastrophe is Weibull distributed.\n",
    "\n",
    "This suggests that the likelihood of catastrophe is dependent on the amount of time it has been since the last catastrophe, so if $\\alpha$ > the longer it has been since the last catastrophe, the more likely it is that catastrophe will occur. There are two parameters for this distribution, $\\alpha$ which defines how the probability changes over time, and $\\sigma$ which is the characteristic catastrophe time."
   ]
  },
  {
   "cell_type": "markdown",
   "metadata": {},
   "source": [
    "**b)** Perform parameter estimates for the respective models and make model comparisons. Comment on what this means with respect to our understanding of how microtubule catastrophe works.\n",
    "\n",
    "<br />\n",
    "\n",
    "Exponential(t)\n",
    "\n",
    "t = LogNorm(20, 10)\n",
    "\n",
    "Gamma($\\alpha$, $\\beta$)\n",
    "\n",
    "$\\alpha$/$\\beta$ = logNorm(20,10)\n",
    "\n",
    "$\\alpha$= Geometric(.1)\n",
    "\n",
    "Weibull($\\alpha$, $\\sigma$)\n",
    "\n",
    "$\\sigma$ = LogNorm(20, 10)\n",
    "$\\alpha$ = LogNorm(1, 10)\n",
    "\n",
    "\n"
   ]
  },
  {
   "cell_type": "markdown",
   "metadata": {},
   "source": [
    "**c)** Using whichever model you favor based on your work in part (b), obtain parameter estimates for the other tubulin concentrations. Given that microtubules polymerize faster with higher tubulin concentrations, is there anything you can say about the occurrence of catastrophe by looking at the values of the parameters versus tubulin concentration?\n"
   ]
  },
  {
   "cell_type": "code",
   "execution_count": null,
   "metadata": {},
   "outputs": [],
   "source": []
  }
 ],
 "metadata": {
  "kernelspec": {
   "display_name": "Python 3",
   "language": "python",
   "name": "python3"
  },
  "language_info": {
   "codemirror_mode": {
    "name": "ipython",
    "version": 3
   },
   "file_extension": ".py",
   "mimetype": "text/x-python",
   "name": "python",
   "nbconvert_exporter": "python",
   "pygments_lexer": "ipython3",
   "version": "3.6.6"
  }
 },
 "nbformat": 4,
 "nbformat_minor": 2
}
