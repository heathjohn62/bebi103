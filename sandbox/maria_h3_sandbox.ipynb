{
 "cells": [
  {
   "cell_type": "code",
   "execution_count": null,
   "metadata": {},
   "outputs": [],
   "source": [
    "import itertools\n",
    "\n",
    "# Our numerical workhorses\n",
    "import numpy as np\n",
    "import pandas as pd\n",
    "import scipy.integrate\n",
    "\n",
    "# Import Altair for high level plotting\n",
    "import altair as alt\n",
    "import altair_catplot as altcat\n",
    "\n",
    "# Import Bokeh modules for interactive plotting\n",
    "import bokeh.io\n",
    "import bokeh.plotting\n",
    "\n",
    "# Set up Bokeh for inline viewing\n",
    "bokeh.io.output_notebook()\n",
    "\n",
    "# Pevent bulky altair plots\n",
    "alt.data_transformers.enable('json')"
   ]
  },
  {
   "cell_type": "code",
   "execution_count": null,
   "metadata": {},
   "outputs": [],
   "source": [
    "# Load in the genotype file, call it df_gt for genotype DataFrame\n",
    "df_gt = pd.read_csv(\"../data/fish_activity_for_validation/150717_2A_genotype_3.txt\", \n",
    "                  delimiter='\\t', comment ='#')"
   ]
  },
  {
   "cell_type": "code",
   "execution_count": null,
   "metadata": {},
   "outputs": [],
   "source": [
    "# Tidy the DataFrame\n",
    "df_gt = pd.melt(df_gt, var_name='genotype', value_name='location')\n",
    "\n",
    "# Drop all rows that have a NaN in them\n",
    "df_gt = df_gt.dropna()\n",
    "\n",
    "df_gt = df_gt.reset_index(drop=True)\n",
    "\n",
    "df_gt.loc[:,'location'] = df_gt.loc[:, 'location'].astype(int)"
   ]
  },
  {
   "cell_type": "code",
   "execution_count": null,
   "metadata": {},
   "outputs": [],
   "source": [
    "df_gt.head(10)"
   ]
  },
  {
   "cell_type": "code",
   "execution_count": null,
   "metadata": {},
   "outputs": [],
   "source": [
    "# Now, load in the CSV file\n",
    "fname = '../data/fish_activity_for_validation/150717_2A_2B.csv'\n",
    "df = pd.read_csv(fname, comment='#')"
   ]
  },
  {
   "cell_type": "markdown",
   "metadata": {},
   "source": [
    "First, we want to test that all the columns are what we excpect them to be before we start tidying the data."
   ]
  },
  {
   "cell_type": "code",
   "execution_count": null,
   "metadata": {},
   "outputs": [],
   "source": [
    "def test_column_names(df, fname):\n",
    "    \"\"\"Ensure DataFrame has proper columns.\"\"\"\n",
    "    column_names = ['location','animal','user','sn','an','datatype','start','end','startreason',\n",
    "                    'endreason','frect', 'fredur', 'midct', 'middur', 'burct', 'burdur', 'stdate',\n",
    "                    'sttime']\n",
    "\n",
    "    assert list(df.columns) == column_names, fname + ' has wrong column names.'"
   ]
  },
  {
   "cell_type": "code",
   "execution_count": null,
   "metadata": {},
   "outputs": [],
   "source": [
    "test_column_names(df, fname)"
   ]
  },
  {
   "cell_type": "code",
   "execution_count": null,
   "metadata": {},
   "outputs": [],
   "source": [
    "df.head()"
   ]
  },
  {
   "cell_type": "markdown",
   "metadata": {},
   "source": [
    "Now, we get rid of the c from location column, and convert to an integer type so we can merge this dataframe with the genotype dataframe."
   ]
  },
  {
   "cell_type": "code",
   "execution_count": null,
   "metadata": {},
   "outputs": [],
   "source": [
    "sanititize_loc = lambda x: int(x.replace(\"c\", \"\"))\n",
    "\n",
    "df['location'] = df['location'].apply(sanititize_loc)"
   ]
  },
  {
   "cell_type": "code",
   "execution_count": null,
   "metadata": {},
   "outputs": [],
   "source": [
    "# We perform the merge.\n",
    "df = pd.merge(df, df_gt)"
   ]
  },
  {
   "cell_type": "markdown",
   "metadata": {},
   "source": [
    "We are only looking for fish in instrument 2A, numbered 1 through 96 in the activity data file, so we can get rid of fish in instrument 2B, numbered 97 and above, as they are not used."
   ]
  },
  {
   "cell_type": "code",
   "execution_count": null,
   "metadata": {},
   "outputs": [],
   "source": [
    "df[\"location\"] = df[df[\"location\"] < 97]\n",
    "df.tail()"
   ]
  },
  {
   "cell_type": "markdown",
   "metadata": {},
   "source": [
    "We don't want any of our numerical columns to be negative; we'll write a general function for it and apply it to all the numerical columns later on."
   ]
  },
  {
   "cell_type": "code",
   "execution_count": null,
   "metadata": {},
   "outputs": [],
   "source": [
    "def num_negative_col(df, col):\n",
    "    \"\"\"Return number of negative entries for the given column\"\"\"\n",
    "    negatives = (df[df[col] < 0]).sum()\n",
    "    return negatives\n",
    "\n",
    "# use .all"
   ]
  },
  {
   "cell_type": "markdown",
   "metadata": {},
   "source": [
    "Now, we get into the more *creative* data validation. We will first check the activity column middur. Activity must be a non-negative double from 1-60 (as a fish cannot be active more than 60 seconds in a minute).\n"
   ]
  },
  {
   "cell_type": "code",
   "execution_count": null,
   "metadata": {},
   "outputs": [],
   "source": [
    "def test_middur(df):\n",
    "    df_t = df[df[\"middur\"] > 60].shape[0]\n",
    "    df_f = df[df[isinstance(y, float)].shape[0]\n",
    "    return df_f"
   ]
  },
  {
   "cell_type": "code",
   "execution_count": null,
   "metadata": {},
   "outputs": [],
   "source": [
    "# Make sure that all the time intervals are equal\n",
    "def test_time_intervals(df):\n",
    "    df_temp = df\n",
    "    df_temp[\"length\"] = df[\"end\"] - df[\"end\"]\n",
    "    return df_temp\n",
    "        \n",
    "    "
   ]
  },
  {
   "cell_type": "code",
   "execution_count": null,
   "metadata": {},
   "outputs": [],
   "source": [
    "test_time_intervals(df).head()"
   ]
  },
  {
   "cell_type": "code",
   "execution_count": null,
   "metadata": {},
   "outputs": [],
   "source": [
    "df_t = df[df[\"middur\"] > 60]\n",
    "df_t.head()"
   ]
  },
  {
   "cell_type": "code",
   "execution_count": null,
   "metadata": {},
   "outputs": [],
   "source": []
  },
  {
   "cell_type": "markdown",
   "metadata": {},
   "source": [
    "Notes: \n",
    "1. middur columns is what we use for computing activity.\n",
    "2. Only the fish in instrument 2A, numbered 1 through 96 in the activity data file 150717_2A_2B.csv, were genotyped. The fish in instrument 2B, numbered 97 and above, are not used in the assay. **does this mean we filter them out?**\n",
    "\n",
    "Enforce that fish 1-96 are here\n",
    "\n",
    "Dates and times need to be in a specific format\n",
    "\n",
    "Fish have equal # data points\n",
    "\n",
    "Numbers need to be non negative\n",
    "\n",
    "intervals 60 sec and cont. -> fail silently\n",
    "\n",
    "sn and an are binary -> what do they mean! They are always the same\n",
    "\n",
    "check datatype all quant\n",
    "\n",
    "middur is a double bw 0-60\n",
    "\n",
    "\n",
    "Get rid of the c's in location combine with the other data frame and get rid of the NaNs\n",
    "\n",
    "\n",
    "start and end excpet for the exception (max and min)\n",
    "\n",
    "\n",
    "\n",
    "-----------\n",
    "check for what the time interval is and then remove all the extraneous things. Only then can you really know what activity values to get rid of."
   ]
  },
  {
   "cell_type": "markdown",
   "metadata": {},
   "source": [
    "- calculate freq with fancy max function\n",
    "\n",
    "- fit distribution to frequncy data \n",
    "\n",
    "- "
   ]
  },
  {
   "cell_type": "code",
   "execution_count": null,
   "metadata": {},
   "outputs": [],
   "source": []
  }
 ],
 "metadata": {
  "kernelspec": {
   "display_name": "Python 3",
   "language": "python",
   "name": "python3"
  },
  "language_info": {
   "codemirror_mode": {
    "name": "ipython",
    "version": 3
   },
   "file_extension": ".py",
   "mimetype": "text/x-python",
   "name": "python",
   "nbconvert_exporter": "python",
   "pygments_lexer": "ipython3",
   "version": "3.6.0"
  }
 },
 "nbformat": 4,
 "nbformat_minor": 2
}
