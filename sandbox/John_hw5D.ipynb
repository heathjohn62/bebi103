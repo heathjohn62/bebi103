{
 "cells": [
  {
   "cell_type": "markdown",
   "metadata": {},
   "source": [
    "# BE/Bi 103, Fall 2018: Homework 5\n",
    "## Due 1pm or 7pm, Sunday, November 4\n",
    "\n",
    "(c) 2018 Justin Bois. With the exception of pasted graphics, where the source is noted, this work is licensed under a [Creative Commons Attribution License CC-BY 4.0](https://creativecommons.org/licenses/by/4.0/). All code contained herein is licensed under an [MIT license](https://opensource.org/licenses/MIT).\n",
    "\n",
    "This document was prepared at [Caltech](http://www.caltech.edu) with financial support from the [Donna and Benjamin M. Rosen Bioengineering Center](http://rosen.caltech.edu).\n",
    "\n",
    "<img src=\"caltech_rosen.png\">\n",
    "\n",
    "*This homework was generated from an Jupyter notebook.  You can download the notebook [here](hw5.ipynb).*"
   ]
  },
  {
   "cell_type": "code",
   "execution_count": 51,
   "metadata": {},
   "outputs": [
    {
     "ename": "NameError",
     "evalue": "name 'numba' is not defined",
     "output_type": "error",
     "traceback": [
      "\u001b[0;31m---------------------------------------------------------------------------\u001b[0m",
      "\u001b[0;31mNameError\u001b[0m                                 Traceback (most recent call last)",
      "\u001b[0;32m<ipython-input-51-9d0799b4d8fe>\u001b[0m in \u001b[0;36m<module>\u001b[0;34m\u001b[0m\n\u001b[0;32m----> 1\u001b[0;31m \u001b[0;34m@\u001b[0m\u001b[0mnumba\u001b[0m\u001b[0;34m.\u001b[0m\u001b[0mjit\u001b[0m\u001b[0;34m(\u001b[0m\u001b[0mnopython\u001b[0m\u001b[0;34m=\u001b[0m\u001b[0;32mTrue\u001b[0m\u001b[0;34m)\u001b[0m\u001b[0;34m\u001b[0m\u001b[0m\n\u001b[0m\u001b[1;32m      2\u001b[0m \u001b[0;32mdef\u001b[0m \u001b[0mdraw_bs_sample\u001b[0m\u001b[0;34m(\u001b[0m\u001b[0mdata\u001b[0m\u001b[0;34m)\u001b[0m\u001b[0;34m:\u001b[0m\u001b[0;34m\u001b[0m\u001b[0m\n\u001b[1;32m      3\u001b[0m     \"\"\"\n\u001b[1;32m      4\u001b[0m     \u001b[0mDraw\u001b[0m \u001b[0ma\u001b[0m \u001b[0mbootstrap\u001b[0m \u001b[0msample\u001b[0m \u001b[0;32mfrom\u001b[0m \u001b[0ma\u001b[0m \u001b[0;36m1\u001b[0m\u001b[0mD\u001b[0m \u001b[0mdata\u001b[0m \u001b[0mset\u001b[0m\u001b[0;34m.\u001b[0m\u001b[0;34m\u001b[0m\u001b[0m\n\u001b[1;32m      5\u001b[0m     \"\"\"\n",
      "\u001b[0;31mNameError\u001b[0m: name 'numba' is not defined"
     ]
    }
   ],
   "source": []
  },
  {
   "cell_type": "markdown",
   "metadata": {},
   "source": [
    "<br />"
   ]
  },
  {
   "cell_type": "markdown",
   "metadata": {},
   "source": [
    "## Problem 5.1: Hacker stats and Darwin's finches (100 pts)\n",
    "\n",
    "Peter and Rosemary Grant of Princeton University have visited the island of Daphne Major on the Galápagos every year for over forty years and have been taking a careful inventory of the finches there. The Grants recently published a wonderful book,  [40 years of evolution: Darwin's finches on Daphne Major Island](http://www.worldcat.org/oclc/854285415). They were generous and made their data publicly available on the [Dryad data repository](http://dx.doi.org/10.5061/dryad.g6g3h). (In general, it is a very good idea to put your published data in public data repositories, both to preserve the data and also to make your findings public.) We will be using this data set to learn about evolution of Darwin's finches and use your hacker statistics skills. Up until part (f), all of your analyses will use nonparametric frequentist hacker stats.\n",
    "\n",
    "We will focus on the primary two species of ground finch on Daphne Major, *Geospiza fortis* and *Geospiza scandens*. In this [data set](../data/finch_beaks.csv), you will find measurements of the beak length (tip to base) and beak depth (top to bottom) of these finches in the years 1973, 1975, 1987, 1991, and 2012. Also included in that data set is the band number for the bird, which gives a unique identifier."
   ]
  },
  {
   "cell_type": "code",
   "execution_count": 52,
   "metadata": {},
   "outputs": [
    {
     "data": {
      "text/html": [
       "\n",
       "    <div class=\"bk-root\">\n",
       "        <a href=\"https://bokeh.pydata.org\" target=\"_blank\" class=\"bk-logo bk-logo-small bk-logo-notebook\"></a>\n",
       "        <span id=\"3edbfb0c-6a7b-4829-948a-3d97da0cb3e3\">Loading BokehJS ...</span>\n",
       "    </div>"
      ]
     },
     "metadata": {},
     "output_type": "display_data"
    },
    {
     "data": {
      "application/javascript": [
       "\n",
       "(function(root) {\n",
       "  function now() {\n",
       "    return new Date();\n",
       "  }\n",
       "\n",
       "  var force = true;\n",
       "\n",
       "  if (typeof (root._bokeh_onload_callbacks) === \"undefined\" || force === true) {\n",
       "    root._bokeh_onload_callbacks = [];\n",
       "    root._bokeh_is_loading = undefined;\n",
       "  }\n",
       "\n",
       "  var JS_MIME_TYPE = 'application/javascript';\n",
       "  var HTML_MIME_TYPE = 'text/html';\n",
       "  var EXEC_MIME_TYPE = 'application/vnd.bokehjs_exec.v0+json';\n",
       "  var CLASS_NAME = 'output_bokeh rendered_html';\n",
       "\n",
       "  /**\n",
       "   * Render data to the DOM node\n",
       "   */\n",
       "  function render(props, node) {\n",
       "    var script = document.createElement(\"script\");\n",
       "    node.appendChild(script);\n",
       "  }\n",
       "\n",
       "  /**\n",
       "   * Handle when an output is cleared or removed\n",
       "   */\n",
       "  function handleClearOutput(event, handle) {\n",
       "    var cell = handle.cell;\n",
       "\n",
       "    var id = cell.output_area._bokeh_element_id;\n",
       "    var server_id = cell.output_area._bokeh_server_id;\n",
       "    // Clean up Bokeh references\n",
       "    if (id != null && id in Bokeh.index) {\n",
       "      Bokeh.index[id].model.document.clear();\n",
       "      delete Bokeh.index[id];\n",
       "    }\n",
       "\n",
       "    if (server_id !== undefined) {\n",
       "      // Clean up Bokeh references\n",
       "      var cmd = \"from bokeh.io.state import curstate; print(curstate().uuid_to_server['\" + server_id + \"'].get_sessions()[0].document.roots[0]._id)\";\n",
       "      cell.notebook.kernel.execute(cmd, {\n",
       "        iopub: {\n",
       "          output: function(msg) {\n",
       "            var id = msg.content.text.trim();\n",
       "            if (id in Bokeh.index) {\n",
       "              Bokeh.index[id].model.document.clear();\n",
       "              delete Bokeh.index[id];\n",
       "            }\n",
       "          }\n",
       "        }\n",
       "      });\n",
       "      // Destroy server and session\n",
       "      var cmd = \"import bokeh.io.notebook as ion; ion.destroy_server('\" + server_id + \"')\";\n",
       "      cell.notebook.kernel.execute(cmd);\n",
       "    }\n",
       "  }\n",
       "\n",
       "  /**\n",
       "   * Handle when a new output is added\n",
       "   */\n",
       "  function handleAddOutput(event, handle) {\n",
       "    var output_area = handle.output_area;\n",
       "    var output = handle.output;\n",
       "\n",
       "    // limit handleAddOutput to display_data with EXEC_MIME_TYPE content only\n",
       "    if ((output.output_type != \"display_data\") || (!output.data.hasOwnProperty(EXEC_MIME_TYPE))) {\n",
       "      return\n",
       "    }\n",
       "\n",
       "    var toinsert = output_area.element.find(\".\" + CLASS_NAME.split(' ')[0]);\n",
       "\n",
       "    if (output.metadata[EXEC_MIME_TYPE][\"id\"] !== undefined) {\n",
       "      toinsert[toinsert.length - 1].firstChild.textContent = output.data[JS_MIME_TYPE];\n",
       "      // store reference to embed id on output_area\n",
       "      output_area._bokeh_element_id = output.metadata[EXEC_MIME_TYPE][\"id\"];\n",
       "    }\n",
       "    if (output.metadata[EXEC_MIME_TYPE][\"server_id\"] !== undefined) {\n",
       "      var bk_div = document.createElement(\"div\");\n",
       "      bk_div.innerHTML = output.data[HTML_MIME_TYPE];\n",
       "      var script_attrs = bk_div.children[0].attributes;\n",
       "      for (var i = 0; i < script_attrs.length; i++) {\n",
       "        toinsert[toinsert.length - 1].firstChild.setAttribute(script_attrs[i].name, script_attrs[i].value);\n",
       "      }\n",
       "      // store reference to server id on output_area\n",
       "      output_area._bokeh_server_id = output.metadata[EXEC_MIME_TYPE][\"server_id\"];\n",
       "    }\n",
       "  }\n",
       "\n",
       "  function register_renderer(events, OutputArea) {\n",
       "\n",
       "    function append_mime(data, metadata, element) {\n",
       "      // create a DOM node to render to\n",
       "      var toinsert = this.create_output_subarea(\n",
       "        metadata,\n",
       "        CLASS_NAME,\n",
       "        EXEC_MIME_TYPE\n",
       "      );\n",
       "      this.keyboard_manager.register_events(toinsert);\n",
       "      // Render to node\n",
       "      var props = {data: data, metadata: metadata[EXEC_MIME_TYPE]};\n",
       "      render(props, toinsert[toinsert.length - 1]);\n",
       "      element.append(toinsert);\n",
       "      return toinsert\n",
       "    }\n",
       "\n",
       "    /* Handle when an output is cleared or removed */\n",
       "    events.on('clear_output.CodeCell', handleClearOutput);\n",
       "    events.on('delete.Cell', handleClearOutput);\n",
       "\n",
       "    /* Handle when a new output is added */\n",
       "    events.on('output_added.OutputArea', handleAddOutput);\n",
       "\n",
       "    /**\n",
       "     * Register the mime type and append_mime function with output_area\n",
       "     */\n",
       "    OutputArea.prototype.register_mime_type(EXEC_MIME_TYPE, append_mime, {\n",
       "      /* Is output safe? */\n",
       "      safe: true,\n",
       "      /* Index of renderer in `output_area.display_order` */\n",
       "      index: 0\n",
       "    });\n",
       "  }\n",
       "\n",
       "  // register the mime type if in Jupyter Notebook environment and previously unregistered\n",
       "  if (root.Jupyter !== undefined) {\n",
       "    var events = require('base/js/events');\n",
       "    var OutputArea = require('notebook/js/outputarea').OutputArea;\n",
       "\n",
       "    if (OutputArea.prototype.mime_types().indexOf(EXEC_MIME_TYPE) == -1) {\n",
       "      register_renderer(events, OutputArea);\n",
       "    }\n",
       "  }\n",
       "\n",
       "  \n",
       "  if (typeof (root._bokeh_timeout) === \"undefined\" || force === true) {\n",
       "    root._bokeh_timeout = Date.now() + 5000;\n",
       "    root._bokeh_failed_load = false;\n",
       "  }\n",
       "\n",
       "  var NB_LOAD_WARNING = {'data': {'text/html':\n",
       "     \"<div style='background-color: #fdd'>\\n\"+\n",
       "     \"<p>\\n\"+\n",
       "     \"BokehJS does not appear to have successfully loaded. If loading BokehJS from CDN, this \\n\"+\n",
       "     \"may be due to a slow or bad network connection. Possible fixes:\\n\"+\n",
       "     \"</p>\\n\"+\n",
       "     \"<ul>\\n\"+\n",
       "     \"<li>re-rerun `output_notebook()` to attempt to load from CDN again, or</li>\\n\"+\n",
       "     \"<li>use INLINE resources instead, as so:</li>\\n\"+\n",
       "     \"</ul>\\n\"+\n",
       "     \"<code>\\n\"+\n",
       "     \"from bokeh.resources import INLINE\\n\"+\n",
       "     \"output_notebook(resources=INLINE)\\n\"+\n",
       "     \"</code>\\n\"+\n",
       "     \"</div>\"}};\n",
       "\n",
       "  function display_loaded() {\n",
       "    var el = document.getElementById(\"3edbfb0c-6a7b-4829-948a-3d97da0cb3e3\");\n",
       "    if (el != null) {\n",
       "      el.textContent = \"BokehJS is loading...\";\n",
       "    }\n",
       "    if (root.Bokeh !== undefined) {\n",
       "      if (el != null) {\n",
       "        el.textContent = \"BokehJS \" + root.Bokeh.version + \" successfully loaded.\";\n",
       "      }\n",
       "    } else if (Date.now() < root._bokeh_timeout) {\n",
       "      setTimeout(display_loaded, 100)\n",
       "    }\n",
       "  }\n",
       "\n",
       "\n",
       "  function run_callbacks() {\n",
       "    try {\n",
       "      root._bokeh_onload_callbacks.forEach(function(callback) { callback() });\n",
       "    }\n",
       "    finally {\n",
       "      delete root._bokeh_onload_callbacks\n",
       "    }\n",
       "    console.info(\"Bokeh: all callbacks have finished\");\n",
       "  }\n",
       "\n",
       "  function load_libs(js_urls, callback) {\n",
       "    root._bokeh_onload_callbacks.push(callback);\n",
       "    if (root._bokeh_is_loading > 0) {\n",
       "      console.log(\"Bokeh: BokehJS is being loaded, scheduling callback at\", now());\n",
       "      return null;\n",
       "    }\n",
       "    if (js_urls == null || js_urls.length === 0) {\n",
       "      run_callbacks();\n",
       "      return null;\n",
       "    }\n",
       "    console.log(\"Bokeh: BokehJS not loaded, scheduling load and callback at\", now());\n",
       "    root._bokeh_is_loading = js_urls.length;\n",
       "    for (var i = 0; i < js_urls.length; i++) {\n",
       "      var url = js_urls[i];\n",
       "      var s = document.createElement('script');\n",
       "      s.src = url;\n",
       "      s.async = false;\n",
       "      s.onreadystatechange = s.onload = function() {\n",
       "        root._bokeh_is_loading--;\n",
       "        if (root._bokeh_is_loading === 0) {\n",
       "          console.log(\"Bokeh: all BokehJS libraries loaded\");\n",
       "          run_callbacks()\n",
       "        }\n",
       "      };\n",
       "      s.onerror = function() {\n",
       "        console.warn(\"failed to load library \" + url);\n",
       "      };\n",
       "      console.log(\"Bokeh: injecting script tag for BokehJS library: \", url);\n",
       "      document.getElementsByTagName(\"head\")[0].appendChild(s);\n",
       "    }\n",
       "  };var element = document.getElementById(\"3edbfb0c-6a7b-4829-948a-3d97da0cb3e3\");\n",
       "  if (element == null) {\n",
       "    console.log(\"Bokeh: ERROR: autoload.js configured with elementid '3edbfb0c-6a7b-4829-948a-3d97da0cb3e3' but no matching script tag was found. \")\n",
       "    return false;\n",
       "  }\n",
       "\n",
       "  var js_urls = [\"https://cdn.pydata.org/bokeh/release/bokeh-0.13.0.min.js\", \"https://cdn.pydata.org/bokeh/release/bokeh-widgets-0.13.0.min.js\", \"https://cdn.pydata.org/bokeh/release/bokeh-tables-0.13.0.min.js\", \"https://cdn.pydata.org/bokeh/release/bokeh-gl-0.13.0.min.js\"];\n",
       "\n",
       "  var inline_js = [\n",
       "    function(Bokeh) {\n",
       "      Bokeh.set_log_level(\"info\");\n",
       "    },\n",
       "    \n",
       "    function(Bokeh) {\n",
       "      \n",
       "    },\n",
       "    function(Bokeh) {\n",
       "      console.log(\"Bokeh: injecting CSS: https://cdn.pydata.org/bokeh/release/bokeh-0.13.0.min.css\");\n",
       "      Bokeh.embed.inject_css(\"https://cdn.pydata.org/bokeh/release/bokeh-0.13.0.min.css\");\n",
       "      console.log(\"Bokeh: injecting CSS: https://cdn.pydata.org/bokeh/release/bokeh-widgets-0.13.0.min.css\");\n",
       "      Bokeh.embed.inject_css(\"https://cdn.pydata.org/bokeh/release/bokeh-widgets-0.13.0.min.css\");\n",
       "      console.log(\"Bokeh: injecting CSS: https://cdn.pydata.org/bokeh/release/bokeh-tables-0.13.0.min.css\");\n",
       "      Bokeh.embed.inject_css(\"https://cdn.pydata.org/bokeh/release/bokeh-tables-0.13.0.min.css\");\n",
       "    }\n",
       "  ];\n",
       "\n",
       "  function run_inline_js() {\n",
       "    \n",
       "    if ((root.Bokeh !== undefined) || (force === true)) {\n",
       "      for (var i = 0; i < inline_js.length; i++) {\n",
       "        inline_js[i].call(root, root.Bokeh);\n",
       "      }if (force === true) {\n",
       "        display_loaded();\n",
       "      }} else if (Date.now() < root._bokeh_timeout) {\n",
       "      setTimeout(run_inline_js, 100);\n",
       "    } else if (!root._bokeh_failed_load) {\n",
       "      console.log(\"Bokeh: BokehJS failed to load within specified timeout.\");\n",
       "      root._bokeh_failed_load = true;\n",
       "    } else if (force !== true) {\n",
       "      var cell = $(document.getElementById(\"3edbfb0c-6a7b-4829-948a-3d97da0cb3e3\")).parents('.cell').data().cell;\n",
       "      cell.output_area.append_execute_result(NB_LOAD_WARNING)\n",
       "    }\n",
       "\n",
       "  }\n",
       "\n",
       "  if (root._bokeh_is_loading === 0) {\n",
       "    console.log(\"Bokeh: BokehJS loaded, going straight to plotting\");\n",
       "    run_inline_js();\n",
       "  } else {\n",
       "    load_libs(js_urls, function() {\n",
       "      console.log(\"Bokeh: BokehJS plotting callback run at\", now());\n",
       "      run_inline_js();\n",
       "    });\n",
       "  }\n",
       "}(window));"
      ],
      "application/vnd.bokehjs_load.v0+json": "\n(function(root) {\n  function now() {\n    return new Date();\n  }\n\n  var force = true;\n\n  if (typeof (root._bokeh_onload_callbacks) === \"undefined\" || force === true) {\n    root._bokeh_onload_callbacks = [];\n    root._bokeh_is_loading = undefined;\n  }\n\n  \n\n  \n  if (typeof (root._bokeh_timeout) === \"undefined\" || force === true) {\n    root._bokeh_timeout = Date.now() + 5000;\n    root._bokeh_failed_load = false;\n  }\n\n  var NB_LOAD_WARNING = {'data': {'text/html':\n     \"<div style='background-color: #fdd'>\\n\"+\n     \"<p>\\n\"+\n     \"BokehJS does not appear to have successfully loaded. If loading BokehJS from CDN, this \\n\"+\n     \"may be due to a slow or bad network connection. Possible fixes:\\n\"+\n     \"</p>\\n\"+\n     \"<ul>\\n\"+\n     \"<li>re-rerun `output_notebook()` to attempt to load from CDN again, or</li>\\n\"+\n     \"<li>use INLINE resources instead, as so:</li>\\n\"+\n     \"</ul>\\n\"+\n     \"<code>\\n\"+\n     \"from bokeh.resources import INLINE\\n\"+\n     \"output_notebook(resources=INLINE)\\n\"+\n     \"</code>\\n\"+\n     \"</div>\"}};\n\n  function display_loaded() {\n    var el = document.getElementById(\"3edbfb0c-6a7b-4829-948a-3d97da0cb3e3\");\n    if (el != null) {\n      el.textContent = \"BokehJS is loading...\";\n    }\n    if (root.Bokeh !== undefined) {\n      if (el != null) {\n        el.textContent = \"BokehJS \" + root.Bokeh.version + \" successfully loaded.\";\n      }\n    } else if (Date.now() < root._bokeh_timeout) {\n      setTimeout(display_loaded, 100)\n    }\n  }\n\n\n  function run_callbacks() {\n    try {\n      root._bokeh_onload_callbacks.forEach(function(callback) { callback() });\n    }\n    finally {\n      delete root._bokeh_onload_callbacks\n    }\n    console.info(\"Bokeh: all callbacks have finished\");\n  }\n\n  function load_libs(js_urls, callback) {\n    root._bokeh_onload_callbacks.push(callback);\n    if (root._bokeh_is_loading > 0) {\n      console.log(\"Bokeh: BokehJS is being loaded, scheduling callback at\", now());\n      return null;\n    }\n    if (js_urls == null || js_urls.length === 0) {\n      run_callbacks();\n      return null;\n    }\n    console.log(\"Bokeh: BokehJS not loaded, scheduling load and callback at\", now());\n    root._bokeh_is_loading = js_urls.length;\n    for (var i = 0; i < js_urls.length; i++) {\n      var url = js_urls[i];\n      var s = document.createElement('script');\n      s.src = url;\n      s.async = false;\n      s.onreadystatechange = s.onload = function() {\n        root._bokeh_is_loading--;\n        if (root._bokeh_is_loading === 0) {\n          console.log(\"Bokeh: all BokehJS libraries loaded\");\n          run_callbacks()\n        }\n      };\n      s.onerror = function() {\n        console.warn(\"failed to load library \" + url);\n      };\n      console.log(\"Bokeh: injecting script tag for BokehJS library: \", url);\n      document.getElementsByTagName(\"head\")[0].appendChild(s);\n    }\n  };var element = document.getElementById(\"3edbfb0c-6a7b-4829-948a-3d97da0cb3e3\");\n  if (element == null) {\n    console.log(\"Bokeh: ERROR: autoload.js configured with elementid '3edbfb0c-6a7b-4829-948a-3d97da0cb3e3' but no matching script tag was found. \")\n    return false;\n  }\n\n  var js_urls = [\"https://cdn.pydata.org/bokeh/release/bokeh-0.13.0.min.js\", \"https://cdn.pydata.org/bokeh/release/bokeh-widgets-0.13.0.min.js\", \"https://cdn.pydata.org/bokeh/release/bokeh-tables-0.13.0.min.js\", \"https://cdn.pydata.org/bokeh/release/bokeh-gl-0.13.0.min.js\"];\n\n  var inline_js = [\n    function(Bokeh) {\n      Bokeh.set_log_level(\"info\");\n    },\n    \n    function(Bokeh) {\n      \n    },\n    function(Bokeh) {\n      console.log(\"Bokeh: injecting CSS: https://cdn.pydata.org/bokeh/release/bokeh-0.13.0.min.css\");\n      Bokeh.embed.inject_css(\"https://cdn.pydata.org/bokeh/release/bokeh-0.13.0.min.css\");\n      console.log(\"Bokeh: injecting CSS: https://cdn.pydata.org/bokeh/release/bokeh-widgets-0.13.0.min.css\");\n      Bokeh.embed.inject_css(\"https://cdn.pydata.org/bokeh/release/bokeh-widgets-0.13.0.min.css\");\n      console.log(\"Bokeh: injecting CSS: https://cdn.pydata.org/bokeh/release/bokeh-tables-0.13.0.min.css\");\n      Bokeh.embed.inject_css(\"https://cdn.pydata.org/bokeh/release/bokeh-tables-0.13.0.min.css\");\n    }\n  ];\n\n  function run_inline_js() {\n    \n    if ((root.Bokeh !== undefined) || (force === true)) {\n      for (var i = 0; i < inline_js.length; i++) {\n        inline_js[i].call(root, root.Bokeh);\n      }if (force === true) {\n        display_loaded();\n      }} else if (Date.now() < root._bokeh_timeout) {\n      setTimeout(run_inline_js, 100);\n    } else if (!root._bokeh_failed_load) {\n      console.log(\"Bokeh: BokehJS failed to load within specified timeout.\");\n      root._bokeh_failed_load = true;\n    } else if (force !== true) {\n      var cell = $(document.getElementById(\"3edbfb0c-6a7b-4829-948a-3d97da0cb3e3\")).parents('.cell').data().cell;\n      cell.output_area.append_execute_result(NB_LOAD_WARNING)\n    }\n\n  }\n\n  if (root._bokeh_is_loading === 0) {\n    console.log(\"Bokeh: BokehJS loaded, going straight to plotting\");\n    run_inline_js();\n  } else {\n    load_libs(js_urls, function() {\n      console.log(\"Bokeh: BokehJS plotting callback run at\", now());\n      run_inline_js();\n    });\n  }\n}(window));"
     },
     "metadata": {},
     "output_type": "display_data"
    }
   ],
   "source": [
    "import sys\n",
    "\n",
    "import numpy as np\n",
    "import pandas as pd \n",
    "import numba\n",
    "\n",
    "# Import Altair for high level plotting\n",
    "import altair as alt\n",
    "import altair_catplot as altcat\n",
    "\n",
    "# Pevent bulky altair plots\n",
    "alt.data_transformers.enable('json')\n",
    "\n",
    "import bebi103\n",
    "import bokeh\n",
    "import bokeh.plotting\n",
    "import bokeh.io\n",
    "from bokeh.palettes import all_palettes \n",
    "from bokeh.models import Legend, LegendItem\n",
    "import itertools\n",
    "bokeh.io.output_notebook()"
   ]
  },
  {
   "cell_type": "markdown",
   "metadata": {},
   "source": [
    "**a)** We start with a little tidying of the data. Think about how you will deal with duplicate measurements of the same bird and make a decision on how those data are to be treated."
   ]
  },
  {
   "cell_type": "code",
   "execution_count": 2,
   "metadata": {},
   "outputs": [
    {
     "data": {
      "text/html": [
       "<div>\n",
       "<style scoped>\n",
       "    .dataframe tbody tr th:only-of-type {\n",
       "        vertical-align: middle;\n",
       "    }\n",
       "\n",
       "    .dataframe tbody tr th {\n",
       "        vertical-align: top;\n",
       "    }\n",
       "\n",
       "    .dataframe thead th {\n",
       "        text-align: right;\n",
       "    }\n",
       "</style>\n",
       "<table border=\"1\" class=\"dataframe\">\n",
       "  <thead>\n",
       "    <tr style=\"text-align: right;\">\n",
       "      <th></th>\n",
       "      <th>band</th>\n",
       "      <th>year</th>\n",
       "      <th>species</th>\n",
       "      <th>beak length (mm)</th>\n",
       "      <th>beak depth (mm)</th>\n",
       "    </tr>\n",
       "  </thead>\n",
       "  <tbody>\n",
       "    <tr>\n",
       "      <th>0</th>\n",
       "      <td>20123</td>\n",
       "      <td>1973</td>\n",
       "      <td>fortis</td>\n",
       "      <td>9.25</td>\n",
       "      <td>8.05</td>\n",
       "    </tr>\n",
       "    <tr>\n",
       "      <th>1</th>\n",
       "      <td>20126</td>\n",
       "      <td>1973</td>\n",
       "      <td>fortis</td>\n",
       "      <td>11.35</td>\n",
       "      <td>10.45</td>\n",
       "    </tr>\n",
       "    <tr>\n",
       "      <th>2</th>\n",
       "      <td>20128</td>\n",
       "      <td>1973</td>\n",
       "      <td>fortis</td>\n",
       "      <td>10.15</td>\n",
       "      <td>9.55</td>\n",
       "    </tr>\n",
       "    <tr>\n",
       "      <th>3</th>\n",
       "      <td>20129</td>\n",
       "      <td>1973</td>\n",
       "      <td>fortis</td>\n",
       "      <td>9.95</td>\n",
       "      <td>8.75</td>\n",
       "    </tr>\n",
       "    <tr>\n",
       "      <th>4</th>\n",
       "      <td>20133</td>\n",
       "      <td>1973</td>\n",
       "      <td>fortis</td>\n",
       "      <td>11.55</td>\n",
       "      <td>10.15</td>\n",
       "    </tr>\n",
       "  </tbody>\n",
       "</table>\n",
       "</div>"
      ],
      "text/plain": [
       "    band  year species  beak length (mm)  beak depth (mm)\n",
       "0  20123  1973  fortis              9.25             8.05\n",
       "1  20126  1973  fortis             11.35            10.45\n",
       "2  20128  1973  fortis             10.15             9.55\n",
       "3  20129  1973  fortis              9.95             8.75\n",
       "4  20133  1973  fortis             11.55            10.15"
      ]
     },
     "execution_count": 2,
     "metadata": {},
     "output_type": "execute_result"
    }
   ],
   "source": [
    "# Load the data into DataFrame df\n",
    "df = pd.read_csv('../data/finch_beaks.csv', comment = \"#\")\n",
    "\n",
    "# Check for duplicates\n",
    "df[\"Duplicates\"] = df.duplicated()\n",
    "\n",
    "# Remove the three that were found\n",
    "df = df[df[\"Duplicates\"] == False]\n",
    "df = df.reset_index()\n",
    "df = df.drop(columns = [\"index\"])\n",
    "\n",
    "# Check for duplicates where a different measurement was found for the same bird\n",
    "df[\"Duplicates\"] = df.duplicated(subset = [\"band\", \"year\"], keep = False)\n",
    "\n",
    "# Throw out the ones that were different species, and average the one with 2 values.\n",
    "df = df.drop(df.index[[103, 2054, 2175]])\n",
    "df.at[102, \"beak depth (mm)\"] = 9.77\n",
    "df = df.reset_index()\n",
    "df = df.drop(columns = [\"index\", \"Duplicates\"])\n",
    "\n",
    "# Finalize Tidy Dataframe\n",
    "df_tidy = df[['band',\n",
    "              'year',\n",
    "              'species',\n",
    "              'beak length (mm)', \n",
    "              'beak depth (mm)']]\n",
    "df_tidy.head()"
   ]
  },
  {
   "cell_type": "code",
   "execution_count": 53,
   "metadata": {},
   "outputs": [],
   "source": [
    "@numba.jit(nopython=True)\n",
    "def draw_bs_sample(data):\n",
    "    \"\"\"\n",
    "    Draw a bootstrap sample from a 1D data set.\n",
    "    \"\"\"\n",
    "    return np.random.choice(data, size=len(data))\n",
    "\n",
    "@numba.jit(nopython=True)\n",
    "def draw_bs_reps_mean(data, size=1):\n",
    "    \"\"\"\n",
    "    Draw boostrap replicates of the mean from 1D data set.\n",
    "    \"\"\"\n",
    "    out = np.empty(size)\n",
    "    for i in range(size):\n",
    "        out[i] = np.mean(draw_bs_sample(data))\n",
    "    return out"
   ]
  },
  {
   "cell_type": "markdown",
   "metadata": {},
   "source": [
    "**d)** Devise a measure for the *shape* of a beak. That is, invent some scalar measure that combines both the length and depth of the beak. Compare this measure between species and through time. (This is very open-ended. It is up to you to define the measure, make relevant plots, compute confidence intervals, and possibly do hypothesis tests to see how shape changes over time and between the two species.)"
   ]
  },
  {
   "cell_type": "markdown",
   "metadata": {},
   "source": [
    "I think that an interesting measure of beak shape would be constant for any given organism over time, but perhaps would be variable for a population or across species. To this end, I want to look at the relationship between the two measurements on the same bird over time, and see if beak growth (or decay) is common among each bird. "
   ]
  },
  {
   "cell_type": "code",
   "execution_count": 3,
   "metadata": {},
   "outputs": [
    {
     "name": "stdout",
     "output_type": "stream",
     "text": [
      "There are 1953 different birds in the study.\n",
      "Average bird lifespan: 0.71           Standard Dev: 1.56\n",
      "Average number of measurements: 1.18  Standard Dev: 0.38\n"
     ]
    }
   ],
   "source": [
    "bird_ids = np.unique(df_tidy[\"band\"].values)\n",
    "print(\"There are %i different birds in the study.\" %len(bird_ids))\n",
    "\n",
    "# Array of the form (lifespan, num_measurements)\n",
    "lifespans = np.zeros([len(bird_ids), 2])\n",
    "\n",
    "for i, id_num in zip(range(0, len(bird_ids)), bird_ids):\n",
    "    df_single_bird = df_tidy[df_tidy[\"band\"] == id_num]\n",
    "    arr_single_bird = df_single_bird[\"year\"].values\n",
    "    lifespans[i][0] = np.max(arr_single_bird) - np.min(arr_single_bird)\n",
    "    lifespans[i][1] = len(arr_single_bird)\n",
    "print(\"Average bird lifespan: %.2f           Standard Dev: %.2f\" \n",
    "      % (np.average(lifespans[...,0]), np.std(lifespans[...,0])))\n",
    "print(\"Average number of measurements: %.2f  Standard Dev: %.2f\" \n",
    "      % (np.average(lifespans[...,1]), np.std(lifespans[...,1])))"
   ]
  },
  {
   "cell_type": "markdown",
   "metadata": {},
   "source": [
    "It seems like most of our birds did not survive to the second measurement, but finches should live longer than a year. What happened?"
   ]
  },
  {
   "cell_type": "code",
   "execution_count": 4,
   "metadata": {},
   "outputs": [
    {
     "name": "stdout",
     "output_type": "stream",
     "text": [
      "Years we have measurements for: 5\n",
      "Duration of experiment: 40\n"
     ]
    }
   ],
   "source": [
    "bird_years = np.unique(df_tidy[\"year\"].values)\n",
    "print(\"Years we have measurements for: %i\" %len(bird_years))\n",
    "print(\"Duration of experiment: %i\" %(2012 - 1973 + 1))"
   ]
  },
  {
   "cell_type": "markdown",
   "metadata": {},
   "source": [
    "At best, we only have measurements that were taken every 8 years. This will make developing a shape independent of the growth of individual finches very difficult, given that we are unlikely to have more than 2 datapoints for any finch. Furthermore, this reveals that our above calculation for the average finch lifespan is roughly nonsense. "
   ]
  },
  {
   "cell_type": "markdown",
   "metadata": {},
   "source": [
    "At this point, it seems better to try and find an intuitive measure of beak shape, rather than struggle against limited data to find a more complex model. We will take a simple ratio, because we would like the shape to be independent of size. We expect that beak depth will have slightly less variability, so this shall be the denominator. Thus:\n",
    "$$\\text{Shape } = s = \\frac{\\text{beak length}}{\\text{beak depth}}$$\n",
    "I will add this parameter to the dataframe. "
   ]
  },
  {
   "cell_type": "code",
   "execution_count": 5,
   "metadata": {},
   "outputs": [
    {
     "name": "stderr",
     "output_type": "stream",
     "text": [
      "/Users/jaredlivingston/anaconda3/lib/python3.6/site-packages/pandas/core/indexing.py:362: SettingWithCopyWarning: \n",
      "A value is trying to be set on a copy of a slice from a DataFrame.\n",
      "Try using .loc[row_indexer,col_indexer] = value instead\n",
      "\n",
      "See the caveats in the documentation: http://pandas.pydata.org/pandas-docs/stable/indexing.html#indexing-view-versus-copy\n",
      "  self.obj[key] = _infer_fill_value(value)\n",
      "/Users/jaredlivingston/anaconda3/lib/python3.6/site-packages/pandas/core/indexing.py:543: SettingWithCopyWarning: \n",
      "A value is trying to be set on a copy of a slice from a DataFrame.\n",
      "Try using .loc[row_indexer,col_indexer] = value instead\n",
      "\n",
      "See the caveats in the documentation: http://pandas.pydata.org/pandas-docs/stable/indexing.html#indexing-view-versus-copy\n",
      "  self.obj[item] = s\n"
     ]
    },
    {
     "data": {
      "text/html": [
       "<div>\n",
       "<style scoped>\n",
       "    .dataframe tbody tr th:only-of-type {\n",
       "        vertical-align: middle;\n",
       "    }\n",
       "\n",
       "    .dataframe tbody tr th {\n",
       "        vertical-align: top;\n",
       "    }\n",
       "\n",
       "    .dataframe thead th {\n",
       "        text-align: right;\n",
       "    }\n",
       "</style>\n",
       "<table border=\"1\" class=\"dataframe\">\n",
       "  <thead>\n",
       "    <tr style=\"text-align: right;\">\n",
       "      <th></th>\n",
       "      <th>band</th>\n",
       "      <th>year</th>\n",
       "      <th>species</th>\n",
       "      <th>beak length (mm)</th>\n",
       "      <th>beak depth (mm)</th>\n",
       "      <th>Shape</th>\n",
       "    </tr>\n",
       "  </thead>\n",
       "  <tbody>\n",
       "    <tr>\n",
       "      <th>0</th>\n",
       "      <td>20123</td>\n",
       "      <td>1973</td>\n",
       "      <td>fortis</td>\n",
       "      <td>9.25</td>\n",
       "      <td>8.05</td>\n",
       "      <td>1.149068</td>\n",
       "    </tr>\n",
       "    <tr>\n",
       "      <th>1</th>\n",
       "      <td>20126</td>\n",
       "      <td>1973</td>\n",
       "      <td>fortis</td>\n",
       "      <td>11.35</td>\n",
       "      <td>10.45</td>\n",
       "      <td>1.086124</td>\n",
       "    </tr>\n",
       "    <tr>\n",
       "      <th>2</th>\n",
       "      <td>20128</td>\n",
       "      <td>1973</td>\n",
       "      <td>fortis</td>\n",
       "      <td>10.15</td>\n",
       "      <td>9.55</td>\n",
       "      <td>1.062827</td>\n",
       "    </tr>\n",
       "    <tr>\n",
       "      <th>3</th>\n",
       "      <td>20129</td>\n",
       "      <td>1973</td>\n",
       "      <td>fortis</td>\n",
       "      <td>9.95</td>\n",
       "      <td>8.75</td>\n",
       "      <td>1.137143</td>\n",
       "    </tr>\n",
       "    <tr>\n",
       "      <th>4</th>\n",
       "      <td>20133</td>\n",
       "      <td>1973</td>\n",
       "      <td>fortis</td>\n",
       "      <td>11.55</td>\n",
       "      <td>10.15</td>\n",
       "      <td>1.137931</td>\n",
       "    </tr>\n",
       "  </tbody>\n",
       "</table>\n",
       "</div>"
      ],
      "text/plain": [
       "    band  year species  beak length (mm)  beak depth (mm)     Shape\n",
       "0  20123  1973  fortis              9.25             8.05  1.149068\n",
       "1  20126  1973  fortis             11.35            10.45  1.086124\n",
       "2  20128  1973  fortis             10.15             9.55  1.062827\n",
       "3  20129  1973  fortis              9.95             8.75  1.137143\n",
       "4  20133  1973  fortis             11.55            10.15  1.137931"
      ]
     },
     "execution_count": 5,
     "metadata": {},
     "output_type": "execute_result"
    }
   ],
   "source": [
    "df_tidy.loc[:,\"Shape\"] = (df_tidy[\"beak length (mm)\"] / df_tidy[\"beak depth (mm)\"])\n",
    "df_tidy.head()"
   ]
  },
  {
   "cell_type": "code",
   "execution_count": null,
   "metadata": {},
   "outputs": [],
   "source": [
    "\n"
   ]
  },
  {
   "cell_type": "code",
   "execution_count": 6,
   "metadata": {},
   "outputs": [
    {
     "data": {
      "text/html": [
       "\n",
       "\n",
       "\n",
       "\n",
       "\n",
       "\n",
       "  <div class=\"bk-root\" id=\"18f20394-4f61-44e6-ac91-da608b5183f5\"></div>\n"
      ]
     },
     "metadata": {},
     "output_type": "display_data"
    },
    {
     "data": {
      "application/javascript": [
       "(function(root) {\n",
       "  function embed_document(root) {\n",
       "    \n",
       "  var docs_json = {\"eb4a05d9-a97c-49e8-9ad7-6c741d29d04f\":{\"roots\":{\"references\":[{\"attributes\":{\"data_source\":{\"id\":\"606436ab-457c-4c67-becb-5cd7a708798d\",\"type\":\"ColumnDataSource\"},\"glyph\":{\"id\":\"ee2df983-b7e4-4e1b-b056-57b4a62367d4\",\"type\":\"Circle\"},\"hover_glyph\":null,\"muted_glyph\":null,\"nonselection_glyph\":{\"id\":\"a865af43-19ed-4be2-befc-f09f69c775d3\",\"type\":\"Circle\"},\"selection_glyph\":null,\"view\":{\"id\":\"d4e9fab1-d31b-47a0-a659-f88e8d366304\",\"type\":\"CDSView\"},\"visible\":false},\"id\":\"53d4472e-79aa-4f58-9f93-e3cbf94a0585\",\"type\":\"GlyphRenderer\"},{\"attributes\":{},\"id\":\"8a4d0c03-162a-4275-81e9-6a43d6ab47aa\",\"type\":\"Selection\"},{\"attributes\":{\"source\":{\"id\":\"99379338-1103-4959-8866-14f0d4bd11d1\",\"type\":\"ColumnDataSource\"}},\"id\":\"c407be7b-f104-4ae4-946d-3d202af58767\",\"type\":\"CDSView\"},{\"attributes\":{\"plot\":null,\"text\":\"Beak shape across time and species\"},\"id\":\"42b6dcc2-dab2-46ed-b6bc-8eaf3a8cb01b\",\"type\":\"Title\"},{\"attributes\":{\"fill_color\":{\"value\":\"#440154\"},\"line_color\":{\"value\":\"#440154\"},\"x\":{\"field\":\"x\"},\"y\":{\"field\":\"y\"}},\"id\":\"f9894caf-7b8e-44dd-8008-b100f105cc45\",\"type\":\"Circle\"},{\"attributes\":{\"fill_color\":{\"value\":\"#35B778\"},\"line_color\":{\"value\":\"#35B778\"},\"x\":{\"field\":\"x\"},\"y\":{\"field\":\"y\"}},\"id\":\"ee2df983-b7e4-4e1b-b056-57b4a62367d4\",\"type\":\"Circle\"},{\"attributes\":{},\"id\":\"ef654a1b-9630-483e-9c29-09e524914ac9\",\"type\":\"Selection\"},{\"attributes\":{\"source\":{\"id\":\"606436ab-457c-4c67-becb-5cd7a708798d\",\"type\":\"ColumnDataSource\"}},\"id\":\"d4e9fab1-d31b-47a0-a659-f88e8d366304\",\"type\":\"CDSView\"},{\"attributes\":{\"label\":{\"value\":\"1975 scandens\"},\"renderers\":[{\"id\":\"53d4472e-79aa-4f58-9f93-e3cbf94a0585\",\"type\":\"GlyphRenderer\"}]},\"id\":\"716cb82b-1530-4724-8d21-ea9b9ca4baf9\",\"type\":\"LegendItem\"},{\"attributes\":{\"fill_color\":{\"value\":\"#472777\"},\"line_color\":{\"value\":\"#472777\"},\"x\":{\"field\":\"x\"},\"y\":{\"field\":\"y\"}},\"id\":\"206ca309-8d98-49d1-93aa-8e5c7ecd9ab2\",\"type\":\"Circle\"},{\"attributes\":{},\"id\":\"ff27e573-d190-4eef-8ace-15aa83cc15f4\",\"type\":\"Selection\"},{\"attributes\":{},\"id\":\"0327a194-c540-49f1-8cd6-d9790b0a6e07\",\"type\":\"LinearScale\"},{\"attributes\":{\"callback\":null,\"data\":{\"x\":{\"__ndarray__\":\"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\",\"dtype\":\"float64\",\"shape\":[787]},\"y\":{\"__ndarray__\":\"TssV73vRVD9OyxXve9FkP/WwoOY5Om8/TssV73vRdD8hPtvq2gV6P/WwoOY5On8/5BEzcUw3gj9OyxXve9GEP7eE+Gyra4c/IT7b6toFij+L971oCqCMP/WwoOY5Oo8/L7VBsjTqkD/kETNxTDeSP5luJDBkhJM/TssV73vRlD8DKAeukx6WP7eE+Gyra5c/bOHpK8O4mD8hPtvq2gWaP9aazKnyUps/i/e9aAqgnD9AVK8nIu2dP/WwoOY5Op8/1QbJ0qhDoD8vtUGyNOqgP4pjupHAkKE/5BEzcUw3oj8+wKtQ2N2iP5luJDBkhKM/8xydD/AqpD9OyxXve9GkP6h5js4HeKU/AygHrpMepj9d1n+NH8WmP7eE+Gyra6c/EjNxTDcSqD9s4ekrw7ioP8ePYgtPX6k/IT7b6toFqj987FPKZqyqP9aazKnyUqs/MElFiX75qz+L971oCqCsP+WlNkiWRq0/QFSvJyLtrT+aAigHrpOuP/WwoOY5Oq8/T18ZxsXgrz/VBsnSqEOwPwJehcLulrA/L7VBsjTqsD9cDP6hej2xP4pjupHAkLE/t7p2gQbksT/kETNxTDeyPxFp72CSirI/PsCrUNjdsj9sF2hAHjGzP5luJDBkhLM/xsXgH6rXsz/zHJ0P8Cq0PyF0Wf81frQ/TssV73vRtD97ItLewSS1P6h5js4HeLU/1dBKvk3LtT8DKAeukx62PzB/w53ZcbY/XdZ/jR/Ftj+KLTx9ZRi3P7eE+Gyra7c/5du0XPG+tz8SM3FMNxK4Pz+KLTx9Zbg/bOHpK8O4uD+aOKYbCQy5P8ePYgtPX7k/9OYe+5SyuT8hPtvq2gW6P06Vl9ogWbo/fOxTymasuj+pQxC6rP+6P9aazKnyUrs/A/KImTimuz8wSUWJfvm7P16gAXnETLw/i/e9aAqgvD+4TnpYUPO8P+WlNkiWRr0/E/3yN9yZvT9AVK8nIu29P22raxdoQL4/mgIoB66Tvj/HWeT28+a+P/WwoOY5Or8/Ighd1n+Nvz9PXxnGxeC/Pz7b6toFGsA/1QbJ0qhDwD9rMqfKS23APwJehcLulsA/mYljupHAwD8vtUGyNOrAP8bgH6rXE8E/XAz+oXo9wT/zN9yZHWfBP4pjupHAkME/II+YiWO6wT+3unaBBuTBP03mVHmpDcI/5BEzcUw3wj97PRFp72DCPxFp72CSisI/qJTNWDW0wj8+wKtQ2N3CP9XriUh7B8M/bBdoQB4xwz8CQ0Y4wVrDP5luJDBkhMM/L5oCKAeuwz/GxeAfqtfDP13xvhdNAcQ/8xydD/AqxD+KSHsHk1TEPyF0Wf81fsQ/t58399inxD9OyxXve9HEP+T28+Ye+8Q/eyLS3sEkxT8STrDWZE7FP6h5js4HeMU/P6VsxqqhxT/V0Eq+TcvFP2z8KLbw9MU/AygHrpMexj+ZU+WlNkjGPzB/w53ZccY/xqqhlXybxj9d1n+NH8XGP/QBXoXC7sY/ii08fWUYxz8hWRp1CELHP7eE+Gyra8c/TrDWZE6Vxz/l27Rc8b7HP3sHk1SU6Mc/EjNxTDcSyD+oXk9E2jvIPz+KLTx9Zcg/1rULNCCPyD9s4ekrw7jIPwMNyCNm4sg/mjimGwkMyT8wZIQTrDXJP8ePYgtPX8k/XbtAA/KIyT/05h77lLLJP4sS/fI33Mk/IT7b6toFyj+4abnifS/KP06Vl9ogWco/5cB10sOCyj987FPKZqzKPxIYMsIJ1so/qUMQuqz/yj8/b+6xTynLP9aazKnyUss/bcaqoZV8yz8D8oiZOKbLP5odZ5Hbz8s/MElFiX75yz/HdCOBISPMP16gAXnETMw/9MvfcGd2zD+L971oCqDMPyIjnGCtycw/uE56WFDzzD9PelhQ8xzNP+WlNkiWRs0/fNEUQDlwzT8T/fI33JnNP6ko0S9/w80/QFSvJyLtzT/Wf40fxRbOP22raxdoQM4/BNdJDwtqzj+aAigHrpPOPzEuBv9Qvc4/x1nk9vPmzj9ehcLulhDPP/WwoOY5Os8/i9x+3txjzz8iCF3Wf43PP7gzO84it88/T18ZxsXgzz9zxfteNAXQPz7b6toFGtA/CfHZVtcu0D/VBsnSqEPQP6AcuE56WNA/azKnyktt0D83SJZGHYLQPwJehcLultA/zXN0PsCr0D+ZiWO6kcDQP2SfUjZj1dA/L7VBsjTq0D/6yjAuBv/QP8bgH6rXE9E/kfYOJqko0T9cDP6hej3RPygi7R1MUtE/8zfcmR1n0T++TcsV73vRP4pjupHAkNE/VXmpDZKl0T8gj5iJY7rRP+ykhwU1z9E/t7p2gQbk0T+C0GX91/jRP03mVHmpDdI/GfxD9Xoi0j/kETNxTDfSP68nIu0dTNI/ez0Rae9g0j9GUwDlwHXSPxFp72CSitI/3X7e3GOf0j+olM1YNbTSP3OqvNQGydI/PsCrUNjd0j8K1prMqfLSP9XriUh7B9M/oAF5xEwc0z9sF2hAHjHTPzctV7zvRdM/AkNGOMFa0z/OWDW0km/TP5luJDBkhNM/ZIQTrDWZ0z8vmgIoB67TP/uv8aPYwtM/xsXgH6rX0z+R28+be+zTP13xvhdNAdQ/KAeukx4W1D/zHJ0P8CrUP78yjIvBP9Q/ikh7B5NU1D9VXmqDZGnUPyF0Wf81ftQ/7IlIeweT1D+3nzf32KfUP4K1JnOqvNQ/TssV73vR1D8Z4QRrTebUP+T28+Ye+9Q/sAzjYvAP1T97ItLewSTVP0Y4wVqTOdU/Ek6w1mRO1T/dY59SNmPVP6h5js4HeNU/c499StmM1T8/pWzGqqHVPwq7W0J8ttU/1dBKvk3L1T+h5jk6H+DVP2z8KLbw9NU/NxIYMsIJ1j8DKAeukx7WP8499illM9Y/mVPlpTZI1j9ladQhCF3WPzB/w53ZcdY/+5SyGauG1j/GqqGVfJvWP5LAkBFOsNY/XdZ/jR/F1j8o7G4J8dnWP/QBXoXC7tY/vxdNAZQD1z+KLTx9ZRjXP1ZDK/k2Ldc/IVkadQhC1z/sbgnx2VbXP7eE+Gyra9c/g5rn6HyA1z9OsNZkTpXXPxnGxeAfqtc/5du0XPG+1z+w8aPYwtPXP3sHk1SU6Nc/Rx2C0GX91z8SM3FMNxLYP91IYMgIJ9g/qF5PRNo72D90dD7Aq1DYPz+KLTx9Zdg/CqAcuE562D/WtQs0II/YP6HL+q/xo9g/bOHpK8O42D8499inlM3YPwMNyCNm4tg/ziK3nzf32D+aOKYbCQzZP2VOlZfaINk/MGSEE6w12T/7eXOPfUrZP8ePYgtPX9k/kqVRhyB02T9du0AD8ojZPynRL3/Dndk/9OYe+5Sy2T+//A13ZsfZP4sS/fI33Nk/Vijsbgnx2T8hPtvq2gXaP+xTymasGto/uGm54n0v2j+Df6heT0TaP06Vl9ogWdo/GquGVvJt2j/lwHXSw4LaP7DWZE6Vl9o/fOxTymas2j9HAkNGOMHaPxIYMsIJ1to/3i0hPtvq2j+pQxC6rP/aP3RZ/zV+FNs/P2/usU8p2z8Lhd0tIT7bP9aazKnyUts/obC7JcRn2z9txqqhlXzbPzjcmR1nkds/A/KImTim2z/PB3gVCrvbP5odZ5Hbz9s/ZTNWDa3k2z8wSUWJfvnbP/xeNAVQDtw/x3QjgSEj3D+SihL98jfcP16gAXnETNw/Kbbw9JVh3D/0y99wZ3bcP8Dhzuw4i9w/i/e9aAqg3D9WDa3k27TcPyIjnGCtydw/7TiL3H7e3D+4TnpYUPPcP4NkadQhCN0/T3pYUPMc3T8akEfMxDHdP+WlNkiWRt0/sbslxGdb3T980RRAOXDdP0fnA7wKhd0/E/3yN9yZ3T/eEuKzra7dP6ko0S9/w90/dD7Aq1DY3T9AVK8nIu3dPwtqnqPzAd4/1n+NH8UW3j+ilXybliveP22raxdoQN4/OMFakzlV3j8E10kPC2reP8/sOIvcft4/mgIoB66T3j9lGBeDf6jePzEuBv9Qvd4//EP1eiLS3j/HWeT28+beP5Nv03LF+94/XoXC7pYQ3z8pm7FqaCXfP/WwoOY5Ot8/wMaPYgtP3z+L3H7e3GPfP1fybVqueN8/Ighd1n+N3z/tHUxSUaLfP7gzO84it98/hEkqSvTL3z9PXxnGxeDfPxp1CEKX9d8/c8X7XjQF4D9YUPMcnQ/gPz7b6toFGuA/JGbimG4k4D8J8dlW1y7gP+970RRAOeA/1QbJ0qhD4D+6kcCQEU7gP6AcuE56WOA/hqevDONi4D9rMqfKS23gP1G9noi0d+A/N0iWRh2C4D8c040EhozgPwJehcLuluA/6Oh8gFeh4D/Nc3Q+wKvgP7P+a/wotuA/mYljupHA4D9+FFt4+srgP2SfUjZj1eA/SipK9Mvf4D8vtUGyNOrgPxVAOXCd9OA/+sowLgb/4D/gVSjsbgnhP8bgH6rXE+E/q2sXaEAe4T+R9g4mqSjhP3eBBuQRM+E/XAz+oXo94T9Cl/Vf40fhPygi7R1MUuE/Da3k27Rc4T/zN9yZHWfhP9nC01eGceE/vk3LFe974T+k2MLTV4bhP4pjupHAkOE/b+6xTymb4T9VeakNkqXhPzsEocv6r+E/II+YiWO64T8GGpBHzMThP+ykhwU1z+E/0S9/w53Z4T+3unaBBuThP5xFbj9v7uE/gtBl/df44T9oW127QAPiP03mVHmpDeI/M3FMNxIY4j8Z/EP1eiLiP/6GO7PjLOI/5BEzcUw34j/KnCovtUHiP68nIu0dTOI/lbIZq4ZW4j97PRFp72DiP2DICCdYa+I/RlMA5cB14j8s3veiKYDiPxFp72CSiuI/9/PmHvuU4j/dft7cY5/iP8IJ1prMqeI/qJTNWDW04j+NH8UWnr7iP3OqvNQGyeI/WTW0km/T4j8+wKtQ2N3iPyRLow5B6OI/CtaazKny4j/vYJKKEv3iP9XriUh7B+M/u3aBBuQR4z+gAXnETBzjP4aMcIK1JuM/bBdoQB4x4z9Rol/+hjvjPzctV7zvReM/HbhOelhQ4z8CQ0Y4wVrjP+jNPfYpZeM/zlg1tJJv4z+z4yxy+3njP5luJDBkhOM/f/kb7syO4z9khBOsNZnjP0oPC2qeo+M/L5oCKAeu4z8VJfrlb7jjP/uv8aPYwuM/4DrpYUHN4z/GxeAfqtfjP6xQ2N0S4uM/kdvPm3vs4z93ZsdZ5PbjP13xvhdNAeQ/Qny21bUL5D8oB66THhbkPw6SpVGHIOQ/8xydD/Aq5D/Zp5TNWDXkP78yjIvBP+Q/pL2DSSpK5D+KSHsHk1TkP3DTcsX7XuQ/VV5qg2Rp5D876WFBzXPkPyF0Wf81fuQ/Bv9QvZ6I5D/siUh7B5PkP9EUQDlwneQ/t58399in5D+dKi+1QbLkP4K1JnOqvOQ/aEAeMRPH5D9OyxXve9HkPzNWDa3k2+Q/GeEEa03m5D//a/wotvDkP+T28+Ye++Q/yoHrpIcF5T+wDONi8A/lP5WX2iBZGuU/eyLS3sEk5T9hrcmcKi/lP0Y4wVqTOeU/LMO4GPxD5T8STrDWZE7lP/fYp5TNWOU/3WOfUjZj5T/D7pYQn23lP6h5js4HeOU/jgSGjHCC5T9zj31K2YzlP1kadQhCl+U/P6Vsxqqh5T8kMGSEE6zlPwq7W0J8tuU/8EVTAOXA5T/V0Eq+TcvlP7tbQny21eU/oeY5Oh/g5T+GcTH4h+rlP2z8KLbw9OU/UocgdFn/5T83EhgywgnmPx2dD/AqFOY/AygHrpMe5j/osv5r/CjmP8499illM+Y/tMjt58095j+ZU+WlNkjmP3/e3GOfUuY/ZWnUIQhd5j9K9MvfcGfmPzB/w53ZceY/FQq7W0J85j/7lLIZq4bmP+EfqtcTkeY/xqqhlXyb5j+sNZlT5aXmP5LAkBFOsOY/d0uIz7a65j9d1n+NH8XmP0Nhd0uIz+Y/KOxuCfHZ5j8Od2bHWeTmP/QBXoXC7uY/2YxVQyv55j+/F00BlAPnP6WiRL/8Dec/ii08fWUY5z9wuDM7ziLnP1ZDK/k2Lec/O84it5835z8hWRp1CELnPwfkETNxTOc/7G4J8dlW5z/S+QCvQmHnP7eE+Gyra+c/nQ/wKhR25z+DmufofIDnP2gl36bliuc/TrDWZE6V5z80O84it5/nPxnGxeAfquc//1C9noi05z/l27Rc8b7nP8pmrBpayec/sPGj2MLT5z+WfJuWK97nP3sHk1SU6Oc/YZKKEv3y5z9HHYLQZf3nPyyoeY7OB+g/EjNxTDcS6D/4vWgKoBzoP91IYMgIJ+g/w9NXhnEx6D+oXk9E2jvoP47pRgJDRug/dHQ+wKtQ6D9Z/zV+FFvoPz+KLTx9Zeg/JRUl+uVv6D8KoBy4TnroP/AqFHa3hOg/1rULNCCP6D+7QAPyiJnoP6HL+q/xo+g/h1bybVqu6D9s4ekrw7joP1Js4ekrw+g/OPfYp5TN6D8dgtBl/dfoPwMNyCNm4ug/6Ze/4c7s6D/OIrefN/foP7Strl2gAek/mjimGwkM6T9/w53ZcRbpP2VOlZfaIOk/StmMVUMr6T8wZIQTrDXpPxbve9EUQOk/+3lzj31K6T/hBGtN5lTpP8ePYgtPX+k/rBpaybdp6T+SpVGHIHTpP3gwSUWJfuk/XbtAA/KI6T9DRjjBWpPpPynRL3/Dnek/DlwnPSyo6T/05h77lLLpP9pxFrn9vOk/v/wNd2bH6T+lhwU1z9HpP4sS/fI33Ok/cJ30sKDm6T9WKOxuCfHpPzyz4yxy++k/IT7b6toF6j8HydKoQxDqP+xTymasGuo/0t7BJBUl6j+4abnifS/qP530sKDmOeo/g3+oXk9E6j9pCqAcuE7qP06Vl9ogWeo/NCCPmIlj6j8aq4ZW8m3qP/81fhRbeOo/5cB10sOC6j/LS22QLI3qP7DWZE6Vl+o/lmFcDP6h6j987FPKZqzqP2F3S4jPtuo/RwJDRjjB6j8tjToEocvqPxIYMsIJ1uo/+KIpgHLg6j/eLSE+2+rqP8O4GPxD9eo/qUMQuqz/6j+Ozgd4FQrrP3RZ/zV+FOs/WuT28+Ye6z8/b+6xTynrPyX65W+4M+s/C4XdLSE+6z/wD9XriUjrP9aazKnyUus/vCXEZ1td6z+hsLslxGfrP4c7s+Mscus/bcaqoZV86z9SUaJf/obrPzjcmR1nkes/HmeR28+b6z8D8oiZOKbrP+l8gFehsOs/zwd4FQq76z+0km/TcsXrP5odZ5Hbz+s/gKheT0Ta6z9lM1YNreTrP0u+TcsV7+s/MElFiX756z8W1DxH5wPsP/xeNAVQDuw/4ekrw7gY7D/HdCOBISPsP63/Gj+KLew/kooS/fI37D94FQq7W0LsP16gAXnETOw/Qyv5Ni1X7D8ptvD0lWHsPw9B6LL+a+w/9MvfcGd27D/aVtcu0IDsP8Dhzuw4i+w/pWzGqqGV7D+L971oCqDsP3GCtSZzquw/Vg2t5Nu07D88mKSiRL/sPyIjnGCtyew/B66THhbU7D/tOIvcft7sP9LDgprn6Ow/uE56WFDz7D+e2XEWuf3sP4NkadQhCO0/ae9gkooS7T9PelhQ8xztPzQFUA5cJ+0/GpBHzMQx7T8AGz+KLTztP+WlNkiWRu0/yzAuBv9Q7T+xuyXEZ1vtP5ZGHYLQZe0/fNEUQDlw7T9iXAz+oXrtP0fnA7wKhe0/LXL7eXOP7T8T/fI33JntP/iH6vVEpO0/3hLis62u7T/DndlxFrntP6ko0S9/w+0/j7PI7efN7T90PsCrUNjtP1rJt2m54u0/QFSvJyLt7T8l36blivftPwtqnqPzAe4/8fSVYVwM7j/Wf40fxRbuP7wKhd0tIe4/opV8m5Yr7j+HIHRZ/zXuP22raxdoQO4/UzZj1dBK7j84wVqTOVXuPx5MUlGiX+4/BNdJDwtq7j/pYUHNc3TuP8/sOIvcfu4/tXcwSUWJ7j+aAigHrpPuP4CNH8UWnu4/ZRgXg3+o7j9Low5B6LLuPzEuBv9Qve4/Frn9vLnH7j/8Q/V6ItLuP+LO7DiL3O4/x1nk9vPm7j+t5Nu0XPHuP5Nv03LF++4/ePrKMC4G7z9ehcLulhDvP0QQuqz/Gu8/KZuxamgl7z8PJqko0S/vP/WwoOY5Ou8/2juYpKJE7z/Axo9iC0/vP6ZRhyB0We8/i9x+3txj7z9xZ3acRW7vP1fybVqueO8/PH1lGBeD7z8iCF3Wf43vPweTVJTol+8/7R1MUlGi7z/TqEMQuqzvP7gzO84it+8/nr4yjIvB7z+ESSpK9MvvP2nUIQhd1u8/T18ZxsXg7z816hCELuvvPxp1CEKX9e8/AAAAAAAA8D8=\",\"dtype\":\"float64\",\"shape\":[787]}},\"selected\":{\"id\":\"ff27e573-d190-4eef-8ace-15aa83cc15f4\",\"type\":\"Selection\"},\"selection_policy\":{\"id\":\"c5a0274c-6865-421b-84c3-2a4493bac78d\",\"type\":\"UnionRenderers\"}},\"id\":\"ef27f98d-0281-405b-8733-68ecf16d9fb8\",\"type\":\"ColumnDataSource\"},{\"attributes\":{},\"id\":\"40dde2b0-3c0e-479d-a8e1-223fad0dacbc\",\"type\":\"LinearScale\"},{\"attributes\":{},\"id\":\"121a093f-cc1a-4b26-9e77-03c902b0e2c3\",\"type\":\"BasicTicker\"},{\"attributes\":{\"fill_alpha\":{\"value\":0.1},\"fill_color\":{\"value\":\"#1f77b4\"},\"line_alpha\":{\"value\":0.1},\"line_color\":{\"value\":\"#1f77b4\"},\"x\":{\"field\":\"x\"},\"y\":{\"field\":\"y\"}},\"id\":\"11de00ed-1101-426e-9e85-6f931214bf44\",\"type\":\"Circle\"},{\"attributes\":{\"fill_alpha\":{\"value\":0.1},\"fill_color\":{\"value\":\"#1f77b4\"},\"line_alpha\":{\"value\":0.1},\"line_color\":{\"value\":\"#1f77b4\"},\"x\":{\"field\":\"x\"},\"y\":{\"field\":\"y\"}},\"id\":\"a865af43-19ed-4be2-befc-f09f69c775d3\",\"type\":\"Circle\"},{\"attributes\":{},\"id\":\"bb8f9394-1e8c-4173-ac2c-2f5f38fb265a\",\"type\":\"UnionRenderers\"},{\"attributes\":{\"active_drag\":\"auto\",\"active_inspect\":\"auto\",\"active_multi\":null,\"active_scroll\":\"auto\",\"active_tap\":\"auto\",\"tools\":[{\"id\":\"a0210f0b-bb13-4969-ac92-f971f74d4e05\",\"type\":\"PanTool\"},{\"id\":\"8bb71334-da4d-4287-86ad-30e42b58195d\",\"type\":\"WheelZoomTool\"},{\"id\":\"80fb7213-0b57-4752-bad5-72941b99f987\",\"type\":\"BoxZoomTool\"},{\"id\":\"35a385f6-5434-44d7-b5e1-df97c99e85f0\",\"type\":\"SaveTool\"},{\"id\":\"3bf235d7-2b78-4024-a972-1012bdf21d8d\",\"type\":\"ResetTool\"},{\"id\":\"8658a940-a2a1-4850-ad17-e75d446ab70f\",\"type\":\"HelpTool\"}]},\"id\":\"37700c15-9f00-41ec-b7ea-e88c272dcb66\",\"type\":\"Toolbar\"},{\"attributes\":{\"fill_color\":{\"value\":\"#1E9C89\"},\"line_color\":{\"value\":\"#1E9C89\"},\"x\":{\"field\":\"x\"},\"y\":{\"field\":\"y\"}},\"id\":\"28781c4d-8756-4990-9778-b5c56bf3fa42\",\"type\":\"Circle\"},{\"attributes\":{\"axis_label\":\"Beak Shape\",\"formatter\":{\"id\":\"c896d1d8-ac13-48c1-aabe-c95e39a3621b\",\"type\":\"BasicTickFormatter\"},\"plot\":{\"id\":\"57bb5001-0254-44a9-9803-ad115842d22b\",\"subtype\":\"Figure\",\"type\":\"Plot\"},\"ticker\":{\"id\":\"121a093f-cc1a-4b26-9e77-03c902b0e2c3\",\"type\":\"BasicTicker\"}},\"id\":\"ccd26569-f516-4cb2-ad07-28e283007256\",\"type\":\"LinearAxis\"},{\"attributes\":{\"fill_alpha\":{\"value\":0.1},\"fill_color\":{\"value\":\"#1f77b4\"},\"line_alpha\":{\"value\":0.1},\"line_color\":{\"value\":\"#1f77b4\"},\"x\":{\"field\":\"x\"},\"y\":{\"field\":\"y\"}},\"id\":\"9cd6db24-e698-4ebe-816a-5dbf55c89657\",\"type\":\"Circle\"},{\"attributes\":{\"source\":{\"id\":\"17fadfb6-f077-41b9-b286-f9365c79515d\",\"type\":\"ColumnDataSource\"}},\"id\":\"0985bda1-b39c-4572-9562-176efd918451\",\"type\":\"CDSView\"},{\"attributes\":{\"label\":{\"value\":\"1973 scandens\"},\"renderers\":[{\"id\":\"fd12dafd-87f7-4eb0-8f56-9ad6cb6bff36\",\"type\":\"GlyphRenderer\"}]},\"id\":\"36688af6-3a56-4aa5-964f-57b78a79d1cd\",\"type\":\"LegendItem\"},{\"attributes\":{\"callback\":null,\"data\":{\"x\":{\"__ndarray__\":\"7LfaGJru8D8+gVRyXhbxP0mSJEmSJPE/q6qqqqoq8T9eGdvv6JXxP5Z7GmG5p/E/urm5ubm58T9Kn/RJn/TxPx/96Ec/+vE/iMkVxOQK8j8iIiIiIiLyP6jvbNR3NvI/PPLII4888j+nN73pTW/yP2MndmIndvI/0yd90id98j/TJ33SJ33yP4OCgoKCgvI/BjIpXiCT8j+VUkoppZTyP+pNb3rTm/I/q6qqqqqq8j/T0tLS0tLyP9PS0tLS0vI/09LS0tLS8j9WVVVVVdXyP1ZVVVVV1fI/gy3Ygi3Y8j+DLdiCLdjyPy5wgQtc4PI/6KKLLrro8j/tStSuRO3yP2gvob2E9vI/AwMDAwMD8z8K16NwPQrzP8MwDMMwDPM/wzAMwzAM8z/DMAzDMAzzP3V+7SGXFfM/F1100UUX8z8XXXTRRRfzP7B3TA3sHfM/IIPzMTgf8z/jBTIpXiDzP7OQhSxkIfM/h/Iaymso8z883ZofFinzPzzdmh8WKfM/pDIqozIq8z8zMzMzMzPzP8/zPM/zPPM/RRdddNFF8z9cVgyU8EbzP1xWDJTwRvM/UrsStStR8z/lNZTXUF7zP2ZmZmZmZvM/27Zt27Zt8z9DLisGSnjzP0MuKwZKePM/dug3W4d+8z+E8zE4H4PzP4XrUbgehfM/6Hme53me8z+/2Tr0m63zPxQ7sRM7sfM/tStRuxK18z+1K1G7ErXzP2LezpCYt/M/7og74o648z/uiDvijrjzPwf2jqmBvfM/xMPDw8PD8z/Ew8PDw8PzP83MzMzMzPM/9DzP8zzP8z/Xo3A9CtfzP0U+6wZT5PM/XL7lW77l8z/6gr6gL+jzP/qCvqAv6PM/9PPz8/Pz8z/6tYdcVgz0Pwd9QV/QF/Q/IIQQQggh9D8uuuiiiy70PzMzMzMzM/Q/MzMzMzMz9D+EQziEQzj0P4GodGTPQPQ/EnfEHXFH9D8z8HRrflj0P1100UUXXfQ/XXTRRRdd9D97FK5H4Xr0PyVJkiRJkvQ/mpmZmZmZ9D+lSZMmTZr0P0WmYbtZnvQ/rz3ksmKg9D9LVrKSlaz0P7HkF0t+sfQ/MQzDMAzD9D/MzMzMzMz0P9lkk0022fQ/2WSTTTbZ9D/hfAzOx+D0P7PyE+Ks/PQ/s/IT4qz89D8gKh3ZMxD1P4GnW/PDIvU/Re1K1K5E9T9F7UrUrkT1P1ZVVVVVVfU/KgNPt+aH9T/jOI7jOI71PzR1fu0hl/U/0V5Cewnt9T8gFikDT7f2P3+zdeg3W/c/\",\"dtype\":\"float64\",\"shape\":[120]},\"y\":{\"__ndarray__\":\"ERERERERgT8RERERERGRP5qZmZmZmZk/ERERERERoT9VVVVVVVWlP5qZmZmZmak/3t3d3d3drT8RERERERGxPzMzMzMzM7M/VVVVVVVVtT93d3d3d3e3P5qZmZmZmbk/vLu7u7u7uz/e3d3d3d29PwAAAAAAAMA/ERERERERwT8iIiIiIiLCPzMzMzMzM8M/RERERERExD9VVVVVVVXFP2ZmZmZmZsY/d3d3d3d3xz+JiIiIiIjIP5qZmZmZmck/q6qqqqqqyj+8u7u7u7vLP83MzMzMzMw/3t3d3d3dzT/v7u7u7u7OPwAAAAAAANA/iYiIiIiI0D8RERERERHRP5qZmZmZmdE/IiIiIiIi0j+rqqqqqqrSPzMzMzMzM9M/vLu7u7u70z9ERERERETUP83MzMzMzNQ/VVVVVVVV1T/e3d3d3d3VP2ZmZmZmZtY/7+7u7u7u1j93d3d3d3fXPwAAAAAAANg/iYiIiIiI2D8RERERERHZP5qZmZmZmdk/IiIiIiIi2j+rqqqqqqraPzMzMzMzM9s/vLu7u7u72z9ERERERETcP83MzMzMzNw/VVVVVVVV3T/e3d3d3d3dP2ZmZmZmZt4/7+7u7u7u3j93d3d3d3ffPwAAAAAAAOA/RERERERE4D+JiIiIiIjgP83MzMzMzOA/ERERERER4T9VVVVVVVXhP5qZmZmZmeE/3t3d3d3d4T8iIiIiIiLiP2ZmZmZmZuI/q6qqqqqq4j/v7u7u7u7iPzMzMzMzM+M/d3d3d3d34z+8u7u7u7vjPwAAAAAAAOQ/RERERERE5D+JiIiIiIjkP83MzMzMzOQ/ERERERER5T9VVVVVVVXlP5qZmZmZmeU/3t3d3d3d5T8iIiIiIiLmP2ZmZmZmZuY/q6qqqqqq5j/v7u7u7u7mPzMzMzMzM+c/d3d3d3d35z+8u7u7u7vnPwAAAAAAAOg/RERERERE6D+JiIiIiIjoP83MzMzMzOg/ERERERER6T9VVVVVVVXpP5qZmZmZmek/3t3d3d3d6T8iIiIiIiLqP2ZmZmZmZuo/q6qqqqqq6j/v7u7u7u7qPzMzMzMzM+s/d3d3d3d36z+8u7u7u7vrPwAAAAAAAOw/RERERERE7D+JiIiIiIjsP83MzMzMzOw/ERERERER7T9VVVVVVVXtP5qZmZmZme0/3t3d3d3d7T8iIiIiIiLuP2ZmZmZmZu4/q6qqqqqq7j/v7u7u7u7uPzMzMzMzM+8/d3d3d3d37z+8u7u7u7vvPwAAAAAAAPA/\",\"dtype\":\"float64\",\"shape\":[120]}},\"selected\":{\"id\":\"8b0796c9-337c-4785-8ebf-c017bf10bd4c\",\"type\":\"Selection\"},\"selection_policy\":{\"id\":\"2a64e04c-3fd6-4aca-ab3a-91d6e7e81c4b\",\"type\":\"UnionRenderers\"}},\"id\":\"17fadfb6-f077-41b9-b286-f9365c79515d\",\"type\":\"ColumnDataSource\"},{\"attributes\":{\"fill_color\":{\"value\":\"#25828E\"},\"line_color\":{\"value\":\"#25828E\"},\"x\":{\"field\":\"x\"},\"y\":{\"field\":\"y\"}},\"id\":\"90d42112-3c87-47f2-923c-ccdd51845196\",\"type\":\"Circle\"},{\"attributes\":{},\"id\":\"86940fc7-aa1a-44a2-83d1-8c4691706f47\",\"type\":\"UnionRenderers\"},{\"attributes\":{},\"id\":\"c2086413-851c-4c96-b554-fa65a7806dc1\",\"type\":\"Selection\"},{\"attributes\":{\"data_source\":{\"id\":\"bf229851-14fc-4eb0-a731-6e98939290f8\",\"type\":\"ColumnDataSource\"},\"glyph\":{\"id\":\"0c69c4bc-64e4-439f-ade2-3cd172658f87\",\"type\":\"Circle\"},\"hover_glyph\":null,\"muted_glyph\":null,\"nonselection_glyph\":{\"id\":\"07ce6934-63d8-41bb-aca0-3d116c3604b3\",\"type\":\"Circle\"},\"selection_glyph\":null,\"view\":{\"id\":\"09a65c2b-4d29-42b9-bc23-9874ca174ca9\",\"type\":\"CDSView\"},\"visible\":false},\"id\":\"1025fb05-4864-45cd-9fd8-0f87f3c388d2\",\"type\":\"GlyphRenderer\"},{\"attributes\":{\"bottom_units\":\"screen\",\"fill_alpha\":{\"value\":0.5},\"fill_color\":{\"value\":\"lightgrey\"},\"left_units\":\"screen\",\"level\":\"overlay\",\"line_alpha\":{\"value\":1.0},\"line_color\":{\"value\":\"black\"},\"line_dash\":[4,4],\"line_width\":{\"value\":2},\"plot\":null,\"render_mode\":\"css\",\"right_units\":\"screen\",\"top_units\":\"screen\"},\"id\":\"05031830-5120-4fe8-8df4-f64b3e982910\",\"type\":\"BoxAnnotation\"},{\"attributes\":{\"label\":{\"value\":\"1975 fortis\"},\"renderers\":[{\"id\":\"a1f48ede-4678-42df-ad6f-0dea345584a7\",\"type\":\"GlyphRenderer\"}]},\"id\":\"b260e879-7aea-40e9-9af3-294e16d327c8\",\"type\":\"LegendItem\"},{\"attributes\":{\"fill_alpha\":{\"value\":0.1},\"fill_color\":{\"value\":\"#1f77b4\"},\"line_alpha\":{\"value\":0.1},\"line_color\":{\"value\":\"#1f77b4\"},\"x\":{\"field\":\"x\"},\"y\":{\"field\":\"y\"}},\"id\":\"07ce6934-63d8-41bb-aca0-3d116c3604b3\",\"type\":\"Circle\"},{\"attributes\":{},\"id\":\"a0210f0b-bb13-4969-ac92-f971f74d4e05\",\"type\":\"PanTool\"},{\"attributes\":{\"source\":{\"id\":\"ef27f98d-0281-405b-8733-68ecf16d9fb8\",\"type\":\"ColumnDataSource\"}},\"id\":\"ab7a430d-03fa-4378-99e0-5b4308b5ac4f\",\"type\":\"CDSView\"},{\"attributes\":{\"callback\":null,\"data\":{\"x\":{\"__ndarray__\":\"vpYc4ipT8D/qJAeWTnLwP5gEhBPxkvA/BVwCLgGX8D868J5vTJvwP8KYlUaPqPA/MOgL+oK+8D9fbZHrTMDwPznEVaaA+fA/B8XTHlcB8T8HwalM2AbxP91lTPk6LPE/6W/Q7Vo58T9AAfsTsD/xP/hRXWLWQvE/9RTWU1hP8T/1uBn7w2DxPzj8qC4xa/E/mEgPVM5u8T+iF3qhF3rxP8wOjiDSevE/X9AX9AV98T++2iLXmYDxP2IYhmEYhvE/iqH+ckSK8T/pGF6ch47xP3a0eZ/ikvE/ODSf64+X8T+4Gd5meJvxP0j4yYWom/E/tfGOataf8T9CGqRBGqTxP0IapEEapPE/N4rZnw+n8T8+EbO5dKjxP2BItojmrPE/FxtcbHCx8T+1UEDH5rvxP7VQQMfmu/E/1x8vg1HA8T836S5jytfxP/EdxHcQ3/E/34H4HYjf8T9ziKtMAfPxP6tRxKGT9vE/gh/4gR/48T9p/mDj0fzxP0eb9ykuGfI/0tO5vZYc8j+90p+zHR/yP8tIrIaLH/I/IiIiIiIi8j/ipO7LYyvyP+jvZLW8MfI/c08jLPc08j/CJEzCJEzyPyV+RomfUfI/nzLtHKxZ8j/tJbSX0F7yP0oxQXeVYvI/j2rWn8Fv8j8ZgnW0eZ/yP6keNPLO3/I/3FdW75IH8z8JdhW+3BDzPxVD/eWIFPM/5jKay2gu8z9T9+WxFUHzP1P35bEVQfM/as32iepB8z/jOI7jOI7zP1WINnz+mPM/5u+1EevS8z8=\",\"dtype\":\"float64\",\"shape\":[73]},\"y\":{\"__ndarray__\":\"4MCBAwcOjD/gwIEDBw6cP6hQoUKFCqU/4MCBAwcOrD+MGDFixIixP6hQoUKFCrU/xIgRI0aMuD/gwIEDBw68P/z48ePHj78/jBgxYsSIwT+aNGnSpEnDP6hQoUKFCsU/tmzZsmXLxj/EiBEjRozIP9KkSZMmTco/4MCBAwcOzD/u3Llz587NP/z48ePHj88/hQoVKlSo0D+MGDFixIjRP5MmTZo0adI/mjRp0qRJ0z+hQoUKFSrUP6hQoUKFCtU/r169evXq1T+2bNmyZcvWP7169erVq9c/xIgRI0aM2D/Lli1btmzZP9KkSZMmTdo/2bJly5Yt2z/gwIEDBw7cP+fOnTt37tw/7ty5c+fO3T/16tWrV6/eP/z48ePHj98/ggMHDhw44D+FChUqVKjgP4kRI0aMGOE/jBgxYsSI4T+QHz9+/PjhP5MmTZo0aeI/ly1btmzZ4j+aNGnSpEnjP547d+7cueM/oUKFChUq5D+lSZMmTZrkP6hQoUKFCuU/rFevXr165T+vXr169erlP7Nly5YtW+Y/tmzZsmXL5j+6c+fOnTvnP7169erVq+c/wYEDBw4c6D/EiBEjRozoP8iPHz9+/Og/y5YtW7Zs6T/PnTt37tzpP9KkSZMmTeo/1qtXr1696j/ZsmXLli3rP925c+fOnes/4MCBAwcO7D/kx48fP37sP+fOnTt37uw/69WrV69e7T/u3Llz587tP/Ljx48fP+4/9erVq1ev7j/58ePHjx/vP/z48ePHj+8/AAAAAAAA8D8=\",\"dtype\":\"float64\",\"shape\":[73]}},\"selected\":{\"id\":\"5e9b9949-0477-45ba-b51f-604317e27699\",\"type\":\"Selection\"},\"selection_policy\":{\"id\":\"bb8f9394-1e8c-4173-ac2c-2f5f38fb265a\",\"type\":\"UnionRenderers\"}},\"id\":\"bbeed863-dc12-48fb-a804-062b9cd50f28\",\"type\":\"ColumnDataSource\"},{\"attributes\":{\"callback\":null,\"data\":{\"x\":{\"__ndarray__\":\"HSsQRtqx8j+aFC+QSfHyP0000UQTTfQ/6KKLLrro9D+3bdu2bTv1P/gbZfcbZfU/IGSo7DB19T8f4ggZdRv2Py9ipo/sIvY/YR/UhjBp9j+ghDeaOr/2P8VO7MRO7PY/Gp+v8fka9z+iwKRT8yD3P0mSJEmSJPc/RhdddNFF9z+f9Emf9En3P9wRd8Qdcfc/dNFFF1109z8Mi5FQ2nj3P8mkeIFMivc/kUceeeSR9z/oC/qCvqD3PyF+AlI9rvc/ctfPFivD9z/f2ajvbNT3P1ZVVVVV1fc/oKL8S2HV9z/M72pxE+b3P+qnn3766fc/WH/1V3/19z/d0wjLPQ34PxEBvvsHEfg/FlhggQUW+D+leIFMihf4Py666KKLLvg/jigw6dQ8+D85hEM4hEP4P27M00erSfg/2ISg7H1N+D9Ea/fhFlD4P7AFW7AFW/g/EWAQWm9k+D9tIrJUumb4P4c5zGEOc/g/eHh4eHh4+D+NWMyIxYz4P/6IBdzpj/g/JEmSJEmS+D/JNGw3y5P4P4lQhCIUofg/LRXuXTqn+D8LWchCFrL4P4ca7M5ktPg/YQu2YAu2+D+66KKLLrr4PzDoC/qCvvg/xi3jlnHL+D+NZzzjGc/4PzPWh8b60Pg/5IUqhFza+D8Oc5jDHOb4P+d4eY6X5/g/044VCCPt+D/TjhUII+34P9OOFQgj7fg/YjESShvv+D9wetOb3vT4P3mP93iP9/g/UhjP+lr7+D/DMAzDMAz5P3ijqfNrD/k/spCFLGQh+T9KkiRJkiT5P5KVrGQlK/k/SOF6FK5H+T8EmRQvkEn5PwtuM9dJTfk/U9aUNWVN+T9T1pQ1ZU35P1VVVVVVVfk/BTG5gphc+T9ggQUWWGD5P8IWbMEWbPk/7IxN0edu+T9VxCnJDHf5P5jDHOYwh/k/wEHo3e+M+T+amZmZmZn5P7qaq7maq/k/bMqasqas+T/8mhCUva/5P1igwmDf1Pk/nvGMZzzj+T9Kn/RJn/T5P/////////k/semxbgMM+j87KvDF1Q/6P4VhGIZhGPo/vMHfk8wg+j+8pdCfZCz6P6ukUW25Svo/+6Vf+qVf+j+rqqqqqqr6P6uqqqqqqvo/Po2w3NMI+z8XXXTRRRf7P3Plg0ELL/s/xEW1/2R++z/viDvijrj7P70rMl+aOPw/r0TtStSu/D8=\",\"dtype\":\"float64\",\"shape\":[112]},\"y\":{\"__ndarray__\":\"kiRJkiRJgj+SJEmSJEmSP9u2bdu2bZs/kiRJkiRJoj+3bdu2bdumP9u2bdu2bas/AAAAAAAAsD+SJEmSJEmyPyVJkiRJkrQ/t23btm3btj9JkiRJkiS5P9u2bdu2bbs/btu2bdu2vT8AAAAAAADAP0mSJEmSJME/kiRJkiRJwj/btm3btm3DPyVJkiRJksQ/btu2bdu2xT+3bdu2bdvGPwAAAAAAAMg/SZIkSZIkyT+SJEmSJEnKP9u2bdu2bcs/JUmSJEmSzD9u27Zt27bNP7dt27Zt284/AAAAAAAA0D8lSZIkSZLQP0mSJEmSJNE/btu2bdu20T+SJEmSJEnSP7dt27Zt29I/27Zt27Zt0z8AAAAAAADUPyVJkiRJktQ/SZIkSZIk1T9u27Zt27bVP5IkSZIkSdY/t23btm3b1j/btm3btm3XPwAAAAAAANg/JUmSJEmS2D9JkiRJkiTZP27btm3bttk/kiRJkiRJ2j+3bdu2bdvaP9u2bdu2bds/AAAAAAAA3D8lSZIkSZLcP0mSJEmSJN0/btu2bdu23T+SJEmSJEneP7dt27Zt294/27Zt27Zt3z8AAAAAAADgP5IkSZIkSeA/JUmSJEmS4D+3bdu2bdvgP0mSJEmSJOE/27Zt27Zt4T9u27Zt27bhPwAAAAAAAOI/kiRJkiRJ4j8lSZIkSZLiP7dt27Zt2+I/SZIkSZIk4z/btm3btm3jP27btm3btuM/AAAAAAAA5D+SJEmSJEnkPyVJkiRJkuQ/t23btm3b5D9JkiRJkiTlP9u2bdu2beU/btu2bdu25T8AAAAAAADmP5IkSZIkSeY/JUmSJEmS5j+3bdu2bdvmP0mSJEmSJOc/27Zt27Zt5z9u27Zt27bnPwAAAAAAAOg/kiRJkiRJ6D8lSZIkSZLoP7dt27Zt2+g/SZIkSZIk6T/btm3btm3pP27btm3btuk/AAAAAAAA6j+SJEmSJEnqPyVJkiRJkuo/t23btm3b6j9JkiRJkiTrP9u2bdu2bes/btu2bdu26z8AAAAAAADsP5IkSZIkSew/JUmSJEmS7D+3bdu2bdvsP0mSJEmSJO0/27Zt27Zt7T9u27Zt27btPwAAAAAAAO4/kiRJkiRJ7j8lSZIkSZLuP7dt27Zt2+4/SZIkSZIk7z/btm3btm3vP27btm3btu8/AAAAAAAA8D8=\",\"dtype\":\"float64\",\"shape\":[112]}},\"selected\":{\"id\":\"fe1a0986-d492-45c2-9eb2-e6485fd7e257\",\"type\":\"Selection\"},\"selection_policy\":{\"id\":\"c7138833-e8b3-49cb-befb-5b55f2ef0c22\",\"type\":\"UnionRenderers\"}},\"id\":\"c5485ec7-93be-4d6e-a541-98cf61cad513\",\"type\":\"ColumnDataSource\"},{\"attributes\":{},\"id\":\"c7138833-e8b3-49cb-befb-5b55f2ef0c22\",\"type\":\"UnionRenderers\"},{\"attributes\":{\"source\":{\"id\":\"bbeed863-dc12-48fb-a804-062b9cd50f28\",\"type\":\"ColumnDataSource\"}},\"id\":\"ee25cb47-82a9-4163-bb43-ed4e2a137967\",\"type\":\"CDSView\"},{\"attributes\":{\"callback\":null},\"id\":\"7fd96fa3-ae64-44c5-a562-830672033fea\",\"type\":\"DataRange1d\"},{\"attributes\":{\"label\":{\"value\":\"1991 fortis\"},\"renderers\":[{\"id\":\"1025fb05-4864-45cd-9fd8-0f87f3c388d2\",\"type\":\"GlyphRenderer\"}]},\"id\":\"3073be11-9181-4287-b79c-f76adb2bf995\",\"type\":\"LegendItem\"},{\"attributes\":{\"fill_alpha\":{\"value\":0.1},\"fill_color\":{\"value\":\"#1f77b4\"},\"line_alpha\":{\"value\":0.1},\"line_color\":{\"value\":\"#1f77b4\"},\"x\":{\"field\":\"x\"},\"y\":{\"field\":\"y\"}},\"id\":\"364cd652-db2a-4a6b-ab0d-c9dcfc8e457e\",\"type\":\"Circle\"},{\"attributes\":{},\"id\":\"8658a940-a2a1-4850-ad17-e75d446ab70f\",\"type\":\"HelpTool\"},{\"attributes\":{\"fill_alpha\":{\"value\":0.1},\"fill_color\":{\"value\":\"#1f77b4\"},\"line_alpha\":{\"value\":0.1},\"line_color\":{\"value\":\"#1f77b4\"},\"x\":{\"field\":\"x\"},\"y\":{\"field\":\"y\"}},\"id\":\"7e32bb71-7ed1-4b76-8c31-696c643b6689\",\"type\":\"Circle\"},{\"attributes\":{},\"id\":\"3bf235d7-2b78-4024-a972-1012bdf21d8d\",\"type\":\"ResetTool\"},{\"attributes\":{},\"id\":\"76d88ad9-cd05-423d-848f-c0213993d2a1\",\"type\":\"UnionRenderers\"},{\"attributes\":{\"fill_color\":{\"value\":\"#3E4989\"},\"line_color\":{\"value\":\"#3E4989\"},\"x\":{\"field\":\"x\"},\"y\":{\"field\":\"y\"}},\"id\":\"3b8b4926-99aa-4c86-b612-7c110a2641ed\",\"type\":\"Circle\"},{\"attributes\":{\"data_source\":{\"id\":\"c5485ec7-93be-4d6e-a541-98cf61cad513\",\"type\":\"ColumnDataSource\"},\"glyph\":{\"id\":\"14fc77b8-c535-45d6-8f86-587dc11b3545\",\"type\":\"Circle\"},\"hover_glyph\":null,\"muted_glyph\":null,\"nonselection_glyph\":{\"id\":\"364cd652-db2a-4a6b-ab0d-c9dcfc8e457e\",\"type\":\"Circle\"},\"selection_glyph\":null,\"view\":{\"id\":\"d79a4296-d6d1-4e2b-a9f6-941c348204b9\",\"type\":\"CDSView\"},\"visible\":false},\"id\":\"768bda64-5013-4756-aaf9-36e5bede5f51\",\"type\":\"GlyphRenderer\"},{\"attributes\":{\"label\":{\"value\":\"1973 fortis\"},\"renderers\":[{\"id\":\"0ba3d5eb-77a5-4ae1-b7ed-2c822baa2f77\",\"type\":\"GlyphRenderer\"}]},\"id\":\"2ef8da23-68f5-4cfa-9d83-0267fe9abe5f\",\"type\":\"LegendItem\"},{\"attributes\":{\"fill_color\":{\"value\":\"#B2DD2C\"},\"line_color\":{\"value\":\"#B2DD2C\"},\"x\":{\"field\":\"x\"},\"y\":{\"field\":\"y\"}},\"id\":\"14fc77b8-c535-45d6-8f86-587dc11b3545\",\"type\":\"Circle\"},{\"attributes\":{},\"id\":\"9b36b9b2-7f32-4d37-a196-d4167a753a7f\",\"type\":\"Selection\"},{\"attributes\":{},\"id\":\"b604b775-7df2-4f3d-8101-86a2b5a4ac54\",\"type\":\"Selection\"},{\"attributes\":{\"source\":{\"id\":\"c5485ec7-93be-4d6e-a541-98cf61cad513\",\"type\":\"ColumnDataSource\"}},\"id\":\"d79a4296-d6d1-4e2b-a9f6-941c348204b9\",\"type\":\"CDSView\"},{\"attributes\":{},\"id\":\"5e9b9949-0477-45ba-b51f-604317e27699\",\"type\":\"Selection\"},{\"attributes\":{\"callback\":null,\"data\":{\"x\":{\"__ndarray__\":\"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\",\"dtype\":\"float64\",\"shape\":[312]},\"y\":{\"__ndarray__\":\"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\",\"dtype\":\"float64\",\"shape\":[312]}},\"selected\":{\"id\":\"ef654a1b-9630-483e-9c29-09e524914ac9\",\"type\":\"Selection\"},\"selection_policy\":{\"id\":\"86940fc7-aa1a-44a2-83d1-8c4691706f47\",\"type\":\"UnionRenderers\"}},\"id\":\"42b3ae4d-ffbf-4266-8e0a-7877d6ad72e5\",\"type\":\"ColumnDataSource\"},{\"attributes\":{\"source\":{\"id\":\"bf229851-14fc-4eb0-a731-6e98939290f8\",\"type\":\"ColumnDataSource\"}},\"id\":\"09a65c2b-4d29-42b9-bc23-9874ca174ca9\",\"type\":\"CDSView\"},{\"attributes\":{},\"id\":\"e2e0ff87-c436-4eb6-825e-7b49bb3309f8\",\"type\":\"UnionRenderers\"},{\"attributes\":{\"fill_alpha\":{\"value\":0.1},\"fill_color\":{\"value\":\"#1f77b4\"},\"line_alpha\":{\"value\":0.1},\"line_color\":{\"value\":\"#1f77b4\"},\"x\":{\"field\":\"x\"},\"y\":{\"field\":\"y\"}},\"id\":\"ac900b78-dd8c-4958-8f5c-4126e219b871\",\"type\":\"Circle\"},{\"attributes\":{\"dimension\":1,\"plot\":{\"id\":\"57bb5001-0254-44a9-9803-ad115842d22b\",\"subtype\":\"Figure\",\"type\":\"Plot\"},\"ticker\":{\"id\":\"63358f75-06d6-4de7-ba7f-224dffbb85bf\",\"type\":\"BasicTicker\"}},\"id\":\"a55f85b6-77a8-4b9e-83b2-0d69293d9ef6\",\"type\":\"Grid\"},{\"attributes\":{\"label\":{\"value\":\"1991 scandens\"},\"renderers\":[{\"id\":\"768bda64-5013-4756-aaf9-36e5bede5f51\",\"type\":\"GlyphRenderer\"}]},\"id\":\"bc125572-6685-4a0b-a2f2-888a63e5ea93\",\"type\":\"LegendItem\"},{\"attributes\":{\"callback\":null,\"data\":{\"x\":{\"__ndarray__\":\"c9Sj48/J8T/ooosuuuj0P5PzsohPIPU/t23btm079T/4G2X3G2X1PyBkqOwwdfU/H+IIGXUb9j/qnjQYNCL2Py9ipo/sIvY/kaWIcjRB9j9hH9SGMGn2P0jM2xkS8/Y/UnFkDUb49j/s0G+2Dv32Pxqfr/H5Gvc/yS0puSUl9z9cQUyuICb3P1U7OpNqR/c/YoEKg31T9z/f/JG4Wnb3PwyLkVDaePc/mRujMwt/9z+RRx555JH3P6uqqqqqqvc/IX4CUj2u9z8796/lD7H3Px+ckV2CuPc/jTXcSj689z+govxLYdX3P2qE5Z5G2Pc/1ESxUkXk9z/d0wjLPQ34P+E5AkVbDfg/EQG++wcR+D8WWGCBBRb4P4gyOf0YH/g/3/0h4P0h+D+OKDDp1Dz4P27M00erSfg/mk4EkF9L+D9Ea/fhFlD4P1hggQUWWPg/Byzp5U9b+D8RYBBab2T4P20islS6Zvg/hznMYQ5z+D8NY4u0VnT4P2JyBTG5gvg/iy666KKL+D+NWMyIxYz4P8L946Fnj/g//ogF3OmP+D/JNGw3y5P4P3f5EtXFnPg/2Imd2Imd+D8tFe5dOqf4P1kDrlgDrvg/C1nIQhay+D+HGuzOZLT4P2ELtmALtvg/uuiiiy66+D/GLeOWccv4P9+MeDPizfg/jWc84xnP+D8z1ofG+tD4Px5TA3vH1Pg/5IUqhFza+D9lTPk6LOH4PzpSrvYK5Pg/DnOYwxzm+D/neHmOl+f4P9OOFQgj7fg/YjESShvv+D9wetOb3vT4P3mP93iP9/g/UhjP+lr7+D+QfvSjH/34PwAAAAAAAPk/wzAMwzAM+T94o6nzaw/5PxEREREREfk/FglQkQAV+T+ykIUsZCH5P0qSJEmSJPk/BKS0GwEp+T+XdaDt3ir5P55p3MCoM/k/N6x9w9o3+T/8MpXybDn5P+SzbjBFPvk/P7xTupk/+T9I4XoUrkf5PwSZFC+QSfk/C24z10lN+T9T1pQ1ZU35P1VVVVVVVfk/M82xEcJY+T+VrGQlK1n5P5WsZCUrWfk/3H/qZk1a+T8FMbmCmFz5PwUxuYKYXPk/b42sLsNe+T9ggQUWWGD5P47vqc79a/k/whZswRZs+T/sjE3R5275P1XEKckMd/k/6pd+6Zd++T/ql37pl375P5jDHOYwh/k/JlcQkyuI+T/AQejd74z5P6KJJppoovk/q9mTfB+r+T+6mqu5mqv5P+QjgEdxrPk/bMqasqas+T/8mhCUva/5P5va1KY2tfk/O/SbrUO/+T96fBcOosf5P84555xzzvk/WKDCYN/U+T96nud5nuf5P/////////k/n0ZY7mkE+j84/FzACgv6P7HpsW4DDPo/OyrwxdUP+j+FYRiGYRj6P+ehY3hxHvo/h8b60Fgf+j+8wd+TzCD6P+nP2Y4PQfo/TSX/gOlE+j+rpFFtuUr6P1paWlpaWvo/+6Vf+qVf+j8+6ZM+6ZP6P6qqqqqqqvo/q6qqqqqq+j+rqqqqqqr6P+poFXKPr/o/rGQlK1nJ+j9OvmzQ5Mv6PyivobyG8vo/Po2w3NMI+z8XXXTRRRf7P3Plg0ELL/s/ZPqQJ75U+z/ERbX/ZH77Pzt5VLHhqvs/74g74o64+z8MDAwMDAz8P70rMl+aOPw/\",\"dtype\":\"float64\",\"shape\":[156]},\"y\":{\"__ndarray__\":\"GqRBGqRBej8apEEapEGKPxQ7sRM7sZM/GqRBGqRBmj+QBmmQBmmgPxQ7sRM7saM/l2/5lm/5pj8apEEapEGqP57YiZ3Yia0/kAZpkAZpsD/SIA3SIA2yPxQ7sRM7sbM/VVVVVVVVtT+Xb/mWb/m2P9mJndiJnbg/GqRBGqRBuj9cvuVbvuW7P57YiZ3Yib0/3/It3/Itvz+QBmmQBmnAP7ETO7ETO8E/0iAN0iANwj/zLd/yLd/CPxQ7sRM7scM/NUiDNEiDxD9VVVVVVVXFP3ZiJ3ZiJ8Y/l2/5lm/5xj+4fMu3fMvHP9mJndiJncg/+ZZv+ZZvyT8apEEapEHKPzuxEzuxE8s/XL7lW77lyz99y7d8y7fMP57YiZ3Yic0/vuVbvuVbzj/f8i3f8i3PPwAAAAAAANA/kAZpkAZp0D8hDdIgDdLQP7ETO7ETO9E/QhqkQRqk0T/SIA3SIA3SP2IndmIndtI/8y3f8i3f0j+DNEiDNEjTPxQ7sRM7sdM/pEEapEEa1D81SIM0SIPUP8VO7MRO7NQ/VVVVVVVV1T/mW77lW77VP3ZiJ3ZiJ9Y/B2mQBmmQ1j+Xb/mWb/nWPyd2Yid2Ytc/uHzLt3zL1z9IgzRIgzTYP9mJndiJndg/aZAGaZAG2T/5lm/5lm/ZP4qd2Imd2Nk/GqRBGqRB2j+rqqqqqqraPzuxEzuxE9s/y7d8y7d82z9cvuVbvuXbP+zETuzETtw/fcu3fMu33D8N0iAN0iDdP57YiZ3Yid0/Lt/yLd/y3T++5Vu+5VveP0/sxE7sxN4/3/It3/It3z9w+ZZv+ZbfPwAAAAAAAOA/SIM0SIM04D+QBmmQBmngP9mJndiJneA/IQ3SIA3S4D9pkAZpkAbhP7ETO7ETO+E/+ZZv+ZZv4T9CGqRBGqThP4qd2Imd2OE/0iAN0iAN4j8apEEapEHiP2IndmInduI/q6qqqqqq4j/zLd/yLd/iPzuxEzuxE+M/gzRIgzRI4z/Lt3zLt3zjPxQ7sRM7seM/XL7lW77l4z+kQRqkQRrkP+zETuzETuQ/NUiDNEiD5D99y7d8y7fkP8VO7MRO7OQ/DdIgDdIg5T9VVVVVVVXlP57YiZ3YieU/5lu+5Vu+5T8u3/It3/LlP3ZiJ3ZiJ+Y/vuVbvuVb5j8HaZAGaZDmP0/sxE7sxOY/l2/5lm/55j/f8i3f8i3nPyd2Yid2Yuc/cPmWb/mW5z+4fMu3fMvnPwAAAAAAAOg/SIM0SIM06D+QBmmQBmnoP9mJndiJneg/IQ3SIA3S6D9pkAZpkAbpP7ETO7ETO+k/+ZZv+ZZv6T9CGqRBGqTpP4qd2Imd2Ok/0iAN0iAN6j8apEEapEHqP2IndmInduo/q6qqqqqq6j/zLd/yLd/qPzuxEzuxE+s/gzRIgzRI6z/Lt3zLt3zrPxQ7sRM7ses/XL7lW77l6z+kQRqkQRrsP+zETuzETuw/NUiDNEiD7D99y7d8y7fsP8VO7MRO7Ow/DdIgDdIg7T9VVVVVVVXtP57YiZ3Yie0/5lu+5Vu+7T8u3/It3/LtP3ZiJ3ZiJ+4/vuVbvuVb7j8HaZAGaZDuP0/sxE7sxO4/l2/5lm/57j/f8i3f8i3vPyd2Yid2Yu8/cPmWb/mW7z+4fMu3fMvvPwAAAAAAAPA/\",\"dtype\":\"float64\",\"shape\":[156]}},\"selected\":{\"id\":\"c2086413-851c-4c96-b554-fa65a7806dc1\",\"type\":\"Selection\"},\"selection_policy\":{\"id\":\"e2e0ff87-c436-4eb6-825e-7b49bb3309f8\",\"type\":\"UnionRenderers\"}},\"id\":\"9c679ae7-640c-48cc-9d33-cbf8b31aabaa\",\"type\":\"ColumnDataSource\"},{\"attributes\":{\"label\":{\"value\":\"1987 fortis\"},\"renderers\":[{\"id\":\"bc09f3bd-c442-441f-b74c-d4962439d533\",\"type\":\"GlyphRenderer\"}]},\"id\":\"a06d5273-ca69-4d27-80f6-d94b63868018\",\"type\":\"LegendItem\"},{\"attributes\":{},\"id\":\"a4396659-f856-4595-957a-51495212a95d\",\"type\":\"UnionRenderers\"},{\"attributes\":{\"data_source\":{\"id\":\"ef27f98d-0281-405b-8733-68ecf16d9fb8\",\"type\":\"ColumnDataSource\"},\"glyph\":{\"id\":\"3b8b4926-99aa-4c86-b612-7c110a2641ed\",\"type\":\"Circle\"},\"hover_glyph\":null,\"muted_glyph\":null,\"nonselection_glyph\":{\"id\":\"d7df0a81-44f3-4248-91d3-42b288a098bf\",\"type\":\"Circle\"},\"selection_glyph\":null,\"view\":{\"id\":\"ab7a430d-03fa-4378-99e0-5b4308b5ac4f\",\"type\":\"CDSView\"},\"visible\":false},\"id\":\"bc09f3bd-c442-441f-b74c-d4962439d533\",\"type\":\"GlyphRenderer\"},{\"attributes\":{\"callback\":null},\"id\":\"0f9c760e-a8c1-456a-8818-c157d95d7f76\",\"type\":\"DataRange1d\"},{\"attributes\":{\"source\":{\"id\":\"9c679ae7-640c-48cc-9d33-cbf8b31aabaa\",\"type\":\"ColumnDataSource\"}},\"id\":\"6404419a-0b47-4a9e-8c3b-647fc9fb458d\",\"type\":\"CDSView\"},{\"attributes\":{},\"id\":\"28f5a9cd-d592-4712-a140-b23785c7255a\",\"type\":\"UnionRenderers\"},{\"attributes\":{\"callback\":null,\"data\":{\"x\":{\"__ndarray__\":\"M3wjCkw69T9GRkZGRkb2PznnnHPOOfc/sRM7sRM79z9WVVVVVVX3P3ave93rXvc/ZZdddtll9z+efHTy0cn3P9idyWjxyvc/9QV9QV/Q9z8ofdInfdL3PwAAAAAAAPg/AAAAAAAA+D82HDHtiQz4PxZYYIEFFvg/gQtc4AIX+D8YGBgYGBj4Pwz6gr6gL/g/MzMzMzMz+D8++OCDDz74P4YsZCELWfg/GPQFfUFf+D/ZbpYnkWn4PwmHcAiHcPg/JEmSJEmS+D/JNGw3y5P4P9mJndiJnfg/KYqiKIqi+D8peDkFL6f4P6p5kLt+tvg/ueiiiy66+D+NZzzjGc/4P8w9jbDc0/g/wJjEwfvW+D95j/d4j/f4P3mP93iP9/g/pT9nOz4E+T+RhSxkIQv5P6uqqqqqKvk/kpWsZCUr+T/3BxkqO0z5P/+U+lPqT/k/Xonalahd+T+pEZZ7GmH5P6kRlnsaYfk/fLkhBqRj+T9paWlpaWn5P3TRRRdddPk/dNFFF110+T900UUXXXT5P3TRRRdddPk/tZfQXkJ7+T+eXtS0GIf5P5qZmZmZmfk/mpmZmZmZ+T9sypqypqz5P5IbuZEbufk/CCKtF7DN+T8VAyW80dT5P1zzwyJl4Pk/3/SmN73p+T/yHu/xHu/5P0qf9Emf9Pk/g76gL+gL+j9BVDqyZyD6PyZqV6J2Jfo/K6MyKqMy+j8rozIqozL6P6Mf/ehHP/o/ZSELWchC+j9YonYlalf6P8uKgRLeaPo/kHOfXUBs+j+e53me53n6P9MnfdInffo/qqqqqqqq+j+bq7maq7n6P7q6urq6uvo/urq6urq6+j+aOr/2kMv6P06+bNDky/o/AAAAAAAA+z9K3ZfHVgT7P2ZmZmZmZvs/e3t7e3t7+z8arHcChJb8P0mSJEmSJP0/\",\"dtype\":\"float64\",\"shape\":[87]},\"y\":{\"__ndarray__\":\"yKR4gUyKhz/IpHiBTIqXP5Z7GmG5p6E/yKR4gUyKpz/6zdah32ytP5Z7GmG5p7E/L5BJ8QKZtD/IpHiBTIq3P2G5pxGWe7o/+s3Wod9svT9K8QKZFC/AP5Z7GmG5p8E/4wUyKV4gwz8vkEnxApnEP3waYbmnEcY/yKR4gUyKxz8VL5BJ8QLJP2G5pxGWe8o/rkO/2Tr0yz/6zdah32zNP0dY7mmE5c4/SvECmRQv0D9wtg79ZuvQP5Z7GmG5p9E/vEAmxQtk0j/jBTIpXiDTPwnLPY2w3NM/L5BJ8QKZ1D9VVVVVVVXVP3waYbmnEdY/ot9sHfrN1j/IpHiBTIrXP+5phOWeRtg/FS+QSfEC2T879JutQ7/ZP2G5pxGWe9o/h36zdeg32z+uQ7/ZOvTbP9QIyz2NsNw/+s3Wod9s3T8gk+IFMineP0dY7mmE5d4/bR36zdah3z9K8QKZFC/gP93TCMs9jeA/cLYO/Wbr4D8DmRQvkEnhP5Z7GmG5p+E/KV4gk+IF4j+8QCbFC2TiP08jLPc0wuI/4wUyKV4g4z926Ddbh37jPwnLPY2w3OM/nK1Dv9k65D8vkEnxApnkP8JyTyMs9+Q/VVVVVVVV5T/oN1uHfrPlP3waYbmnEeY/D/1m69Bv5j+i32wd+s3mPzXCck8jLOc/yKR4gUyK5z9bh36zdejnP+5phOWeRug/gUyKF8ik6D8VL5BJ8QLpP6gRlnsaYek/O/SbrUO/6T/O1qHfbB3qP2G5pxGWe+o/9JutQ7/Z6j+HfrN16DfrPxphuacRlus/rkO/2Tr06z9BJsULZFLsP9QIyz2NsOw/Z+vQb7YO7T/6zdah32ztP42w3NMIy+0/IJPiBTIp7j+zdeg3W4fuP0dY7mmE5e4/2jr0m61D7z9tHfrN1qHvPwAAAAAAAPA/\",\"dtype\":\"float64\",\"shape\":[87]}},\"selected\":{\"id\":\"8a4d0c03-162a-4275-81e9-6a43d6ab47aa\",\"type\":\"Selection\"},\"selection_policy\":{\"id\":\"a4396659-f856-4595-957a-51495212a95d\",\"type\":\"UnionRenderers\"}},\"id\":\"606436ab-457c-4c67-becb-5cd7a708798d\",\"type\":\"ColumnDataSource\"},{\"attributes\":{\"source\":{\"id\":\"42b3ae4d-ffbf-4266-8e0a-7877d6ad72e5\",\"type\":\"ColumnDataSource\"}},\"id\":\"8f12a114-6eeb-4050-9ab6-bc80f64e024a\",\"type\":\"CDSView\"},{\"attributes\":{\"plot\":{\"id\":\"57bb5001-0254-44a9-9803-ad115842d22b\",\"subtype\":\"Figure\",\"type\":\"Plot\"},\"ticker\":{\"id\":\"121a093f-cc1a-4b26-9e77-03c902b0e2c3\",\"type\":\"BasicTicker\"}},\"id\":\"7b93dce9-cce3-4af0-ad3a-ab60144d71e8\",\"type\":\"Grid\"},{\"attributes\":{\"fill_alpha\":{\"value\":0.1},\"fill_color\":{\"value\":\"#1f77b4\"},\"line_alpha\":{\"value\":0.1},\"line_color\":{\"value\":\"#1f77b4\"},\"x\":{\"field\":\"x\"},\"y\":{\"field\":\"y\"}},\"id\":\"04b8a469-8e17-4d8f-804f-bd8d7c9c233b\",\"type\":\"Circle\"},{\"attributes\":{\"data_source\":{\"id\":\"9c679ae7-640c-48cc-9d33-cbf8b31aabaa\",\"type\":\"ColumnDataSource\"},\"glyph\":{\"id\":\"d8319611-aa03-4331-ae92-599f02abf212\",\"type\":\"Circle\"},\"hover_glyph\":null,\"muted_glyph\":null,\"nonselection_glyph\":{\"id\":\"ac900b78-dd8c-4958-8f5c-4126e219b871\",\"type\":\"Circle\"},\"selection_glyph\":null,\"view\":{\"id\":\"6404419a-0b47-4a9e-8c3b-647fc9fb458d\",\"type\":\"CDSView\"},\"visible\":false},\"id\":\"096175fb-5c28-4160-a0ed-8a2aaa8453f9\",\"type\":\"GlyphRenderer\"},{\"attributes\":{\"fill_color\":{\"value\":\"#30678D\"},\"line_color\":{\"value\":\"#30678D\"},\"x\":{\"field\":\"x\"},\"y\":{\"field\":\"y\"}},\"id\":\"0c69c4bc-64e4-439f-ade2-3cd172658f87\",\"type\":\"Circle\"},{\"attributes\":{\"fill_alpha\":{\"value\":0.1},\"fill_color\":{\"value\":\"#1f77b4\"},\"line_alpha\":{\"value\":0.1},\"line_color\":{\"value\":\"#1f77b4\"},\"x\":{\"field\":\"x\"},\"y\":{\"field\":\"y\"}},\"id\":\"d7df0a81-44f3-4248-91d3-42b288a098bf\",\"type\":\"Circle\"},{\"attributes\":{\"data_source\":{\"id\":\"17fadfb6-f077-41b9-b286-f9365c79515d\",\"type\":\"ColumnDataSource\"},\"glyph\":{\"id\":\"90d42112-3c87-47f2-923c-ccdd51845196\",\"type\":\"Circle\"},\"hover_glyph\":null,\"muted_glyph\":null,\"nonselection_glyph\":{\"id\":\"04b8a469-8e17-4d8f-804f-bd8d7c9c233b\",\"type\":\"Circle\"},\"selection_glyph\":null,\"view\":{\"id\":\"0985bda1-b39c-4572-9562-176efd918451\",\"type\":\"CDSView\"},\"visible\":false},\"id\":\"c4636c2b-a879-4d53-ae29-36d50a0ce860\",\"type\":\"GlyphRenderer\"},{\"attributes\":{\"overlay\":{\"id\":\"05031830-5120-4fe8-8df4-f64b3e982910\",\"type\":\"BoxAnnotation\"}},\"id\":\"80fb7213-0b57-4752-bad5-72941b99f987\",\"type\":\"BoxZoomTool\"},{\"attributes\":{\"callback\":null,\"data\":{\"x\":{\"__ndarray__\":\"E+QpQZ4S9D8VFBQUFBT0Pz+H1ATjrfQ/tbS0tLS09D+VS7mUS7n0P83MzMzMzPQ/dVAHdVAH9T8UjLeyzyH1P9avFKj1K/U/Li0tLS0t9T9OwcspeDn1P1gfGutDY/U/dNFFF1109T+BBRZYYIH1PwVbsAVbsPU/zs3Nzc3N9T/Ozc3Nzc31P97d3d3d3fU/3t3d3d3d9T94OQUvp+D1P3g5BS+n4PU/fBphuacR9j+O4ziO4zj2P47jOI7jOPY/VlVVVVVV9j95pL+eq1j2P8zbGRLzdvY/orE+NNaH9j+PwvUoXI/2P4/C9Shcj/Y/GGnHCoSR9j8YaccKhJH2P+pNb3rTm/Y/+85GfWej9j/7zkZ9Z6P2P6uqqqqqqvY/52qu5mqu9j+11lprrbX2P7XWWmuttfY/tdZaa6219j/Kayivobz2P3izPIlMw/Y/tm3btm3b9j+2bdu2bdv2P7dt27Zt2/Y/4noUrkfh9j/v7u7u7u72Pzwb9Z2N+vY/PBv1nY369j8BAAAAAAD3P3CBC1zgAvc/wcspeDkF9z+HcAiHcAj3Py1x6vfcEvc/LXHq99wS9z8tcer33BL3PxCso837FPc/c5jDHOYw9z9zmMMc5jD3P+BzS5z6Pfc/0Rf0BX1B9z9GF1100UX3P/amN73pTfc/fWejvrNR9z9WVVVVVVX3P1ZVVVVVVfc/WFdXV1dX9z92r3vd6173P3ave93rXvc/KHZiJ3Zi9z+SdqxAGGn3P1izxPiUafc/3LZt27Zt9z+ejfrORn33P0N5DeU1lPc/6Hme53me9z/Ie7zHe7z3P/V7bolTv/c/0UUXXXTR9z/Xo3A9Ctf3P+qnn3766fc/6qeffvrp9z8AAAAAAAD4PwAAAAAAAPg/AAAAAAAA+D8BAAAAAAD4P2iBFmiBFvg/gQtc4AIX+D+leIFMihf4P0MWspCFLPg/DPqCvqAv+D8zMzMzMzP4P0EIIYQQQvg/QUyuICZX+D9tuOGGG274P3h4eHh4ePg/wRtNnV97+D+LLrrooov4P8k0bDfLk/g/bolTv+eW+D+oqKioqKj4P6/AAgsssPg/MAzDMAzD+D8wDMMwDMP4P8jgfAzOx/g/jWc84xnP+D/MPY2w3NP4PxUvkEnxAvk/SJIkSZIk+T8XspCFLGT5P7WX0F5Ce/k/8gKZFC+Q+T+2KIKzA8b5P57xjGc84/k/Sp/0SZ/0+T8AAAAAAAD6PwAAAAAAAPo/IiIiIiIi+j+jH/3oRz/6P6h0ZM9AVPo/WlpaWlpa+j+mNrWpTW36P6uqqqqqqvo/m6u5mqu5+j8U4qz8hDj7PxTirPyEOPs/\",\"dtype\":\"float64\",\"shape\":[126]},\"y\":{\"__ndarray__\":\"EARBEARBgD8QBEEQBEGQPxiGYRiGYZg/EARBEARBoD8URVEURVGkPxiGYRiGYag/HMdxHMdxrD8QBEEQBEGwP5IkSZIkSbI/FEVRFEVRtD+WZVmWZVm2PxiGYRiGYbg/mqZpmqZpuj8cx3Ecx3G8P57neZ7neb4/EARBEARBwD9RFEVRFEXBP5IkSZIkScI/0zRN0zRNwz8URVEURVHEP1VVVVVVVcU/lmVZlmVZxj/XdV3XdV3HPxiGYRiGYcg/WZZlWZZlyT+apmmapmnKP9u2bdu2bcs/HMdxHMdxzD9d13Vd13XNP57neZ7nec4/3/d93/d9zz8QBEEQBEHQPzEMwzAMw9A/URRFURRF0T9yHMdxHMfRP5IkSZIkSdI/syzLsizL0j/TNE3TNE3TP/Q8z/M8z9M/FEVRFEVR1D81TdM0TdPUP1VVVVVVVdU/dl3XdV3X1T+WZVmWZVnWP7dt27Zt29Y/13Vd13Vd1z/4fd/3fd/XPxiGYRiGYdg/OY7jOI7j2D9ZlmVZlmXZP3qe53me59k/mqZpmqZp2j+7ruu6ruvaP9u2bdu2bds//L7v+77v2z8cx3Ecx3HcPz3P8zzP89w/Xdd1Xdd13T9+3/d93/fdP57neZ7ned4/v+/7vu/73j/f933f933fPwAAAAAAAOA/EARBEARB4D8hCIIgCILgPzEMwzAMw+A/QRAEQRAE4T9RFEVRFEXhP2IYhmEYhuE/chzHcRzH4T+CIAiCIAjiP5IkSZIkSeI/oyiKoiiK4j+zLMuyLMviP8MwDMMwDOM/0zRN0zRN4z/kOI7jOI7jP/Q8z/M8z+M/BEEQBEEQ5D8URVEURVHkPyVJkiRJkuQ/NU3TNE3T5D9FURRFURTlP1VVVVVVVeU/ZlmWZVmW5T92Xdd1XdflP4ZhGIZhGOY/lmVZlmVZ5j+naZqmaZrmP7dt27Zt2+Y/x3Ecx3Ec5z/XdV3XdV3nP+h5nud5nuc/+H3f933f5z8IgiAIgiDoPxiGYRiGYeg/KYqiKIqi6D85juM4juPoP0mSJEmSJOk/WZZlWZZl6T9qmqZpmqbpP3qe53me5+k/iqIoiqIo6j+apmmapmnqP6uqqqqqquo/u67ruq7r6j/LsizLsizrP9u2bdu2bes/7Lqu67qu6z/8vu/7vu/rPwzDMAzDMOw/HMdxHMdx7D8ty7Isy7LsPz3P8zzP8+w/TdM0TdM07T9d13Vd13XtP27btm3btu0/ft/3fd/37T+O4ziO4zjuP57neZ7nee4/r+u6ruu67j+/7/u+7/vuP8/zPM/zPO8/3/d93/d97z/w+77v+77vPwAAAAAAAPA/\",\"dtype\":\"float64\",\"shape\":[126]}},\"selected\":{\"id\":\"79900769-db25-401f-8aae-cefd6440b5aa\",\"type\":\"Selection\"},\"selection_policy\":{\"id\":\"42dd02f8-1736-4902-bf62-355082159a05\",\"type\":\"UnionRenderers\"}},\"id\":\"bc6ba2f6-8731-4651-b147-18d1c9a37fd9\",\"type\":\"ColumnDataSource\"},{\"attributes\":{\"label\":{\"value\":\"1987 scandens\"},\"renderers\":[{\"id\":\"096175fb-5c28-4160-a0ed-8a2aaa8453f9\",\"type\":\"GlyphRenderer\"}]},\"id\":\"036d6f1e-c3bc-4286-9d66-74dc7b0756d2\",\"type\":\"LegendItem\"},{\"attributes\":{},\"id\":\"8bb71334-da4d-4287-86ad-30e42b58195d\",\"type\":\"WheelZoomTool\"},{\"attributes\":{},\"id\":\"fe1a0986-d492-45c2-9eb2-e6485fd7e257\",\"type\":\"Selection\"},{\"attributes\":{\"label\":{\"value\":\"2012 fortis\"},\"renderers\":[{\"id\":\"c4636c2b-a879-4d53-ae29-36d50a0ce860\",\"type\":\"GlyphRenderer\"}]},\"id\":\"239b677c-0d78-401a-a576-ffbb92fcb28c\",\"type\":\"LegendItem\"},{\"attributes\":{\"callback\":null,\"data\":{\"x\":{\"__ndarray__\":\"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\",\"dtype\":\"float64\",\"shape\":[509]},\"y\":{\"__ndarray__\":\"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\",\"dtype\":\"float64\",\"shape\":[509]}},\"selected\":{\"id\":\"9b36b9b2-7f32-4d37-a196-d4167a753a7f\",\"type\":\"Selection\"},\"selection_policy\":{\"id\":\"76d88ad9-cd05-423d-848f-c0213993d2a1\",\"type\":\"UnionRenderers\"}},\"id\":\"bf229851-14fc-4eb0-a731-6e98939290f8\",\"type\":\"ColumnDataSource\"},{\"attributes\":{},\"id\":\"c896d1d8-ac13-48c1-aabe-c95e39a3621b\",\"type\":\"BasicTickFormatter\"},{\"attributes\":{\"click_policy\":\"hide\",\"items\":[{\"id\":\"2ef8da23-68f5-4cfa-9d83-0267fe9abe5f\",\"type\":\"LegendItem\"},{\"id\":\"36688af6-3a56-4aa5-964f-57b78a79d1cd\",\"type\":\"LegendItem\"},{\"id\":\"b260e879-7aea-40e9-9af3-294e16d327c8\",\"type\":\"LegendItem\"},{\"id\":\"716cb82b-1530-4724-8d21-ea9b9ca4baf9\",\"type\":\"LegendItem\"},{\"id\":\"a06d5273-ca69-4d27-80f6-d94b63868018\",\"type\":\"LegendItem\"},{\"id\":\"036d6f1e-c3bc-4286-9d66-74dc7b0756d2\",\"type\":\"LegendItem\"},{\"id\":\"3073be11-9181-4287-b79c-f76adb2bf995\",\"type\":\"LegendItem\"},{\"id\":\"bc125572-6685-4a0b-a2f2-888a63e5ea93\",\"type\":\"LegendItem\"},{\"id\":\"239b677c-0d78-401a-a576-ffbb92fcb28c\",\"type\":\"LegendItem\"},{\"id\":\"7f83a75a-e96c-44b5-87d9-0ba5f5b75c3c\",\"type\":\"LegendItem\"}],\"location\":\"bottom_right\",\"plot\":{\"id\":\"57bb5001-0254-44a9-9803-ad115842d22b\",\"subtype\":\"Figure\",\"type\":\"Plot\"}},\"id\":\"dad9638d-ff07-4140-8cc0-46083400e6c0\",\"type\":\"Legend\"},{\"attributes\":{\"formatter\":{\"id\":\"d126eb7e-9d92-4179-a6c5-44bcbb3512b3\",\"type\":\"BasicTickFormatter\"},\"plot\":{\"id\":\"57bb5001-0254-44a9-9803-ad115842d22b\",\"subtype\":\"Figure\",\"type\":\"Plot\"},\"ticker\":{\"id\":\"63358f75-06d6-4de7-ba7f-224dffbb85bf\",\"type\":\"BasicTicker\"}},\"id\":\"e1616697-b231-4f1b-9a10-07a64b7b8ef8\",\"type\":\"LinearAxis\"},{\"attributes\":{\"fill_color\":{\"value\":\"#FDE724\"},\"line_color\":{\"value\":\"#FDE724\"},\"x\":{\"field\":\"x\"},\"y\":{\"field\":\"y\"}},\"id\":\"65beb100-5b39-440e-a979-7c360e826c55\",\"type\":\"Circle\"},{\"attributes\":{\"data_source\":{\"id\":\"99379338-1103-4959-8866-14f0d4bd11d1\",\"type\":\"ColumnDataSource\"},\"glyph\":{\"id\":\"28781c4d-8756-4990-9778-b5c56bf3fa42\",\"type\":\"Circle\"},\"hover_glyph\":null,\"muted_glyph\":null,\"nonselection_glyph\":{\"id\":\"7e32bb71-7ed1-4b76-8c31-696c643b6689\",\"type\":\"Circle\"},\"selection_glyph\":null,\"view\":{\"id\":\"c407be7b-f104-4ae4-946d-3d202af58767\",\"type\":\"CDSView\"}},\"id\":\"fd12dafd-87f7-4eb0-8f56-9ad6cb6bff36\",\"type\":\"GlyphRenderer\"},{\"attributes\":{},\"id\":\"2a64e04c-3fd6-4aca-ab3a-91d6e7e81c4b\",\"type\":\"UnionRenderers\"},{\"attributes\":{\"data_source\":{\"id\":\"bc6ba2f6-8731-4651-b147-18d1c9a37fd9\",\"type\":\"ColumnDataSource\"},\"glyph\":{\"id\":\"65beb100-5b39-440e-a979-7c360e826c55\",\"type\":\"Circle\"},\"hover_glyph\":null,\"muted_glyph\":null,\"nonselection_glyph\":{\"id\":\"ee0dc540-8382-4882-8f3b-05c20509be2f\",\"type\":\"Circle\"},\"selection_glyph\":null,\"view\":{\"id\":\"52608add-3a65-4169-94e2-47f2797d36d3\",\"type\":\"CDSView\"},\"visible\":false},\"id\":\"9a2e0c45-af7b-456e-9b6c-8dc53b62416f\",\"type\":\"GlyphRenderer\"},{\"attributes\":{\"below\":[{\"id\":\"ccd26569-f516-4cb2-ad07-28e283007256\",\"type\":\"LinearAxis\"}],\"left\":[{\"id\":\"e1616697-b231-4f1b-9a10-07a64b7b8ef8\",\"type\":\"LinearAxis\"}],\"plot_height\":500,\"plot_width\":800,\"renderers\":[{\"id\":\"ccd26569-f516-4cb2-ad07-28e283007256\",\"type\":\"LinearAxis\"},{\"id\":\"7b93dce9-cce3-4af0-ad3a-ab60144d71e8\",\"type\":\"Grid\"},{\"id\":\"e1616697-b231-4f1b-9a10-07a64b7b8ef8\",\"type\":\"LinearAxis\"},{\"id\":\"a55f85b6-77a8-4b9e-83b2-0d69293d9ef6\",\"type\":\"Grid\"},{\"id\":\"05031830-5120-4fe8-8df4-f64b3e982910\",\"type\":\"BoxAnnotation\"},{\"id\":\"dad9638d-ff07-4140-8cc0-46083400e6c0\",\"type\":\"Legend\"},{\"id\":\"0ba3d5eb-77a5-4ae1-b7ed-2c822baa2f77\",\"type\":\"GlyphRenderer\"},{\"id\":\"fd12dafd-87f7-4eb0-8f56-9ad6cb6bff36\",\"type\":\"GlyphRenderer\"},{\"id\":\"a1f48ede-4678-42df-ad6f-0dea345584a7\",\"type\":\"GlyphRenderer\"},{\"id\":\"53d4472e-79aa-4f58-9f93-e3cbf94a0585\",\"type\":\"GlyphRenderer\"},{\"id\":\"bc09f3bd-c442-441f-b74c-d4962439d533\",\"type\":\"GlyphRenderer\"},{\"id\":\"096175fb-5c28-4160-a0ed-8a2aaa8453f9\",\"type\":\"GlyphRenderer\"},{\"id\":\"1025fb05-4864-45cd-9fd8-0f87f3c388d2\",\"type\":\"GlyphRenderer\"},{\"id\":\"768bda64-5013-4756-aaf9-36e5bede5f51\",\"type\":\"GlyphRenderer\"},{\"id\":\"c4636c2b-a879-4d53-ae29-36d50a0ce860\",\"type\":\"GlyphRenderer\"},{\"id\":\"9a2e0c45-af7b-456e-9b6c-8dc53b62416f\",\"type\":\"GlyphRenderer\"}],\"title\":{\"id\":\"42b6dcc2-dab2-46ed-b6bc-8eaf3a8cb01b\",\"type\":\"Title\"},\"toolbar\":{\"id\":\"37700c15-9f00-41ec-b7ea-e88c272dcb66\",\"type\":\"Toolbar\"},\"x_range\":{\"id\":\"0f9c760e-a8c1-456a-8818-c157d95d7f76\",\"type\":\"DataRange1d\"},\"x_scale\":{\"id\":\"0327a194-c540-49f1-8cd6-d9790b0a6e07\",\"type\":\"LinearScale\"},\"y_range\":{\"id\":\"7fd96fa3-ae64-44c5-a562-830672033fea\",\"type\":\"DataRange1d\"},\"y_scale\":{\"id\":\"40dde2b0-3c0e-479d-a8e1-223fad0dacbc\",\"type\":\"LinearScale\"}},\"id\":\"57bb5001-0254-44a9-9803-ad115842d22b\",\"subtype\":\"Figure\",\"type\":\"Plot\"},{\"attributes\":{\"fill_alpha\":{\"value\":0.1},\"fill_color\":{\"value\":\"#1f77b4\"},\"line_alpha\":{\"value\":0.1},\"line_color\":{\"value\":\"#1f77b4\"},\"x\":{\"field\":\"x\"},\"y\":{\"field\":\"y\"}},\"id\":\"ee0dc540-8382-4882-8f3b-05c20509be2f\",\"type\":\"Circle\"},{\"attributes\":{},\"id\":\"d126eb7e-9d92-4179-a6c5-44bcbb3512b3\",\"type\":\"BasicTickFormatter\"},{\"attributes\":{\"source\":{\"id\":\"bc6ba2f6-8731-4651-b147-18d1c9a37fd9\",\"type\":\"ColumnDataSource\"}},\"id\":\"52608add-3a65-4169-94e2-47f2797d36d3\",\"type\":\"CDSView\"},{\"attributes\":{},\"id\":\"8b0796c9-337c-4785-8ebf-c017bf10bd4c\",\"type\":\"Selection\"},{\"attributes\":{\"fill_color\":{\"value\":\"#6BCD59\"},\"line_color\":{\"value\":\"#6BCD59\"},\"x\":{\"field\":\"x\"},\"y\":{\"field\":\"y\"}},\"id\":\"d8319611-aa03-4331-ae92-599f02abf212\",\"type\":\"Circle\"},{\"attributes\":{\"label\":{\"value\":\"2012 scandens\"},\"renderers\":[{\"id\":\"9a2e0c45-af7b-456e-9b6c-8dc53b62416f\",\"type\":\"GlyphRenderer\"}]},\"id\":\"7f83a75a-e96c-44b5-87d9-0ba5f5b75c3c\",\"type\":\"LegendItem\"},{\"attributes\":{\"data_source\":{\"id\":\"42b3ae4d-ffbf-4266-8e0a-7877d6ad72e5\",\"type\":\"ColumnDataSource\"},\"glyph\":{\"id\":\"206ca309-8d98-49d1-93aa-8e5c7ecd9ab2\",\"type\":\"Circle\"},\"hover_glyph\":null,\"muted_glyph\":null,\"nonselection_glyph\":{\"id\":\"11de00ed-1101-426e-9e85-6f931214bf44\",\"type\":\"Circle\"},\"selection_glyph\":null,\"view\":{\"id\":\"8f12a114-6eeb-4050-9ab6-bc80f64e024a\",\"type\":\"CDSView\"},\"visible\":false},\"id\":\"a1f48ede-4678-42df-ad6f-0dea345584a7\",\"type\":\"GlyphRenderer\"},{\"attributes\":{},\"id\":\"35a385f6-5434-44d7-b5e1-df97c99e85f0\",\"type\":\"SaveTool\"},{\"attributes\":{},\"id\":\"79900769-db25-401f-8aae-cefd6440b5aa\",\"type\":\"Selection\"},{\"attributes\":{},\"id\":\"42dd02f8-1736-4902-bf62-355082159a05\",\"type\":\"UnionRenderers\"},{\"attributes\":{\"data_source\":{\"id\":\"bbeed863-dc12-48fb-a804-062b9cd50f28\",\"type\":\"ColumnDataSource\"},\"glyph\":{\"id\":\"f9894caf-7b8e-44dd-8008-b100f105cc45\",\"type\":\"Circle\"},\"hover_glyph\":null,\"muted_glyph\":null,\"nonselection_glyph\":{\"id\":\"9cd6db24-e698-4ebe-816a-5dbf55c89657\",\"type\":\"Circle\"},\"selection_glyph\":null,\"view\":{\"id\":\"ee25cb47-82a9-4163-bb43-ed4e2a137967\",\"type\":\"CDSView\"}},\"id\":\"0ba3d5eb-77a5-4ae1-b7ed-2c822baa2f77\",\"type\":\"GlyphRenderer\"},{\"attributes\":{},\"id\":\"63358f75-06d6-4de7-ba7f-224dffbb85bf\",\"type\":\"BasicTicker\"},{\"attributes\":{},\"id\":\"c5a0274c-6865-421b-84c3-2a4493bac78d\",\"type\":\"UnionRenderers\"},{\"attributes\":{\"callback\":null,\"data\":{\"x\":{\"__ndarray__\":\"Z2ZmZmZm9j/JnIDn0+P2P+5aOeGZ/vY/wuZAohU29z+yRTRnDYr3P7JFNGcNivc/yiGuMgXM9z/XygnP9Df4P+YD2YXFSPg/KYuyKIuy+D/OoGXHcyr5P+kuY8rXYfk/7Um+j9Xs+T+qqqqqqqr6PwPSsZRJsPs/R6xLj/l7/T8=\",\"dtype\":\"float64\",\"shape\":[16]},\"y\":{\"__ndarray__\":\"AAAAAAAAsD8AAAAAAADAPwAAAAAAAMg/AAAAAAAA0D8AAAAAAADUPwAAAAAAANg/AAAAAAAA3D8AAAAAAADgPwAAAAAAAOI/AAAAAAAA5D8AAAAAAADmPwAAAAAAAOg/AAAAAAAA6j8AAAAAAADsPwAAAAAAAO4/AAAAAAAA8D8=\",\"dtype\":\"float64\",\"shape\":[16]}},\"selected\":{\"id\":\"b604b775-7df2-4f3d-8101-86a2b5a4ac54\",\"type\":\"Selection\"},\"selection_policy\":{\"id\":\"28f5a9cd-d592-4712-a140-b23785c7255a\",\"type\":\"UnionRenderers\"}},\"id\":\"99379338-1103-4959-8866-14f0d4bd11d1\",\"type\":\"ColumnDataSource\"}],\"root_ids\":[\"57bb5001-0254-44a9-9803-ad115842d22b\"]},\"title\":\"Bokeh Application\",\"version\":\"0.13.0\"}};\n",
       "  var render_items = [{\"docid\":\"eb4a05d9-a97c-49e8-9ad7-6c741d29d04f\",\"roots\":{\"57bb5001-0254-44a9-9803-ad115842d22b\":\"18f20394-4f61-44e6-ac91-da608b5183f5\"}}];\n",
       "  root.Bokeh.embed.embed_items_notebook(docs_json, render_items);\n",
       "\n",
       "  }\n",
       "  if (root.Bokeh !== undefined) {\n",
       "    embed_document(root);\n",
       "  } else {\n",
       "    var attempts = 0;\n",
       "    var timer = setInterval(function(root) {\n",
       "      if (root.Bokeh !== undefined) {\n",
       "        embed_document(root);\n",
       "        clearInterval(timer);\n",
       "      }\n",
       "      attempts++;\n",
       "      if (attempts > 100) {\n",
       "        console.log(\"Bokeh: ERROR: Unable to run BokehJS code because BokehJS library is missing\")\n",
       "        clearInterval(timer);\n",
       "      }\n",
       "    }, 10, root)\n",
       "  }\n",
       "})(window);"
      ],
      "application/vnd.bokehjs_exec.v0+json": ""
     },
     "metadata": {
      "application/vnd.bokehjs_exec.v0+json": {
       "id": "57bb5001-0254-44a9-9803-ad115842d22b"
      }
     },
     "output_type": "display_data"
    }
   ],
   "source": [
    "bird_species = np.unique(df_tidy[\"species\"].values)\n",
    "# Deals with coloring of different lines\n",
    "colors = all_palettes['Viridis'][10]\n",
    "\n",
    "first = True # used to only show the first plot. \n",
    "\n",
    "p = bokeh.plotting.Figure(width = 800, \n",
    "                          height = 500,\n",
    "                          title = \"Beak shape across time and species\",\n",
    "                          x_axis_label = \"Beak Shape\")\n",
    "\n",
    "plots = [0] * len(bird_years)\n",
    "\n",
    "for year, index in zip(bird_years, range(0, len(bird_years))):\n",
    "    \n",
    "    name = str(year)\n",
    "    \n",
    "    df_temp = df_tidy[df_tidy[\"year\"] == year]\n",
    "    df_temp_1 = df_temp[df_temp[\"species\"] == bird_species[0]]\n",
    "    df_temp_2 = df_temp[df_temp[\"species\"] == bird_species[1]]\n",
    "    p = bebi103.viz.ecdf(df_temp_1[\"Shape\"].values, p=p, \n",
    "                         color=colors[index], visible = first, \n",
    "                         legend = name +\" \"+ bird_species[0])\n",
    "    p = bebi103.viz.ecdf(df_temp_2[\"Shape\"].values, p=p, \n",
    "                         color=colors[index + 5], visible = first, \n",
    "                         legend = name +\" \"+ bird_species[1])\n",
    "    \n",
    "    p.legend.click_policy = 'hide'\n",
    "    p.legend.location = \"bottom_right\"\n",
    "    first = False # used to only show the first plot. \n",
    "\n",
    "bokeh.io.show(p)"
   ]
  },
  {
   "cell_type": "code",
   "execution_count": 7,
   "metadata": {},
   "outputs": [
    {
     "name": "stdout",
     "output_type": "stream",
     "text": [
      "10\n"
     ]
    }
   ],
   "source": [
    "print (len(colors))"
   ]
  },
  {
   "cell_type": "code",
   "execution_count": 8,
   "metadata": {},
   "outputs": [
    {
     "data": {
      "text/plain": [
       "'1'"
      ]
     },
     "execution_count": 8,
     "metadata": {},
     "output_type": "execute_result"
    }
   ],
   "source": [
    "str(1)"
   ]
  },
  {
   "cell_type": "markdown",
   "metadata": {},
   "source": [
    "We will compute the mean beak shape for every year and species. Since we are working on a larger number of datasets than in part b, let's define a function that can take as its arguments the dataframe, the year, and the species and return a print statement describing the mean beak length for that slice. We can also include the confidence interval using our bootstrapping methods"
   ]
  },
  {
   "cell_type": "code",
   "execution_count": 80,
   "metadata": {},
   "outputs": [],
   "source": [
    "def mean_beak_shape(df, year, species):\n",
    "    # Make our datasets\n",
    "    df_year = df.loc[df[\"year\"] == year]\n",
    "    dataset_species = df_year.loc[df_year[\"species\"] == species, \n",
    "                      \"Shape\"].values\n",
    "    mean = np.mean(dataset_species)\n",
    "    bs_mean_shape = draw_bs_reps_mean(dataset_species, size=10000)\n",
    "    mean_shape_conf_int = np.percentile(bs_mean_shape, [2.5, 97.5])\n",
    "    \n",
    "    print(\"The mean beak shape for {0:.8s} in {1:.0f} is {2:.2f},\".format(*(species, year, mean)))\n",
    "    print(\"with a 95% confidence interval of: [{0:.2f}, {1:.2f}]\".format(*(tuple(mean_shape_conf_int))))"
   ]
  },
  {
   "cell_type": "markdown",
   "metadata": {},
   "source": [
    "Now let's execute that on our dataset to see the mean beak shape for each species in each year:"
   ]
  },
  {
   "cell_type": "code",
   "execution_count": 81,
   "metadata": {},
   "outputs": [
    {
     "name": "stdout",
     "output_type": "stream",
     "text": [
      "The mean beak shape for fortis in 1973 is 1.12,\n",
      "with a 95% confidence interval of: [1.10, 1.13]\n",
      "The mean beak shape for fortis in 1975 is 1.15,\n",
      "with a 95% confidence interval of: [1.15, 1.16]\n",
      "The mean beak shape for fortis in 1987 is 1.18,\n",
      "with a 95% confidence interval of: [1.17, 1.18]\n",
      "The mean beak shape for fortis in 1991 is 1.18,\n",
      "with a 95% confidence interval of: [1.17, 1.18]\n",
      "The mean beak shape for fortis in 2012 is 1.22,\n",
      "with a 95% confidence interval of: [1.21, 1.24]\n",
      "The mean beak shape for scandens in 1973 is 1.55,\n",
      "with a 95% confidence interval of: [1.49, 1.61]\n",
      "The mean beak shape for scandens in 1975 is 1.58,\n",
      "with a 95% confidence interval of: [1.56, 1.60]\n",
      "The mean beak shape for scandens in 1987 is 1.56,\n",
      "with a 95% confidence interval of: [1.54, 1.57]\n",
      "The mean beak shape for scandens in 1991 is 1.54,\n",
      "with a 95% confidence interval of: [1.52, 1.55]\n",
      "The mean beak shape for scandens in 2012 is 1.47,\n",
      "with a 95% confidence interval of: [1.45, 1.48]\n"
     ]
    }
   ],
   "source": [
    "names = [\"fortis\", \"scandens\"]\n",
    "years = [1973, 1975, 1987, 1991, 2012]\n",
    "\n",
    "for species in names:\n",
    "    for year in years:\n",
    "        mean_beak_shape(df_tidy, year, species)"
   ]
  },
  {
   "cell_type": "code",
   "execution_count": null,
   "metadata": {},
   "outputs": [],
   "source": []
  }
 ],
 "metadata": {
  "anaconda-cloud": {},
  "kernelspec": {
   "display_name": "Python 3",
   "language": "python",
   "name": "python3"
  },
  "language_info": {
   "codemirror_mode": {
    "name": "ipython",
    "version": 3
   },
   "file_extension": ".py",
   "mimetype": "text/x-python",
   "name": "python",
   "nbconvert_exporter": "python",
   "pygments_lexer": "ipython3",
   "version": "3.6.6"
  }
 },
 "nbformat": 4,
 "nbformat_minor": 2
}
