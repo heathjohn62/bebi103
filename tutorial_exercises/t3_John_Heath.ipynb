{
 "cells": [
  {
   "cell_type": "markdown",
   "metadata": {},
   "source": [
    "# Tutorial 3: exercise\n",
    "\n",
    "(c) 2018 Justin Bois. With the exception of pasted graphics, where the source is noted, this work is licensed under a [Creative Commons Attribution License CC-BY 4.0](https://creativecommons.org/licenses/by/4.0/). All code contained herein is licensed under an [MIT license](https://opensource.org/licenses/MIT).\n",
    "\n",
    "This document was prepared at [Caltech](http://www.caltech.edu) with financial support from the [Donna and Benjamin M. Rosen Bioengineering Center](http://rosen.caltech.edu).\n",
    "\n",
    "<img src=\"caltech_rosen.png\">\n",
    "\n",
    "*This tutorial exercise was generated from an Jupyter notebook.  You can download the notebook [here](t3_exercise.ipynb). Use this downloaded Jupyter notebook to fill out your responses.*"
   ]
  },
  {
   "cell_type": "markdown",
   "metadata": {},
   "source": [
    "### Exercise 1\n",
    "\n",
    "What is an ROI, and why is it an important concept in digital image processing?\n",
    "\n",
    "An ROI is a region of interest. In digital image processing, the images one obtains from scientific instrumentation frequently have an excess of unnecessary information. For example, the jellyfish image had a large area of background space. Isolating only an area with a single jellyfish sped up the computation time required for the analysis of many images, and also allowed us to focus on the frequency of a single jellyfish using total summed intensity of the ROI. "
   ]
  },
  {
   "cell_type": "markdown",
   "metadata": {},
   "source": [
    "## Exercise 2\n",
    "How would you expect each of the following to be distributed?\n",
    "\n",
    "**a)** The amount of time between repressor-operator binding events.\n",
    "\n",
    "This distribution would likely be about half-normally. It is likely that lots of repressor-operator binding events occur very frequently, so times must be positive, and must be allowed to approach zero.\n",
    "\n",
    "**b)** The number of times a repressor binds its operator in a given hour.\n",
    "\n",
    "I would guess that this is normally distributed. I justify this by suggesting that there are many competing factors that contribute to this, such as a possibly variable repressor concentration. \n",
    "\n",
    "However, I worry about my interpretation of **a** and **b**. I don't really know how frequently repressors bind to operators; it seems to me that this might be very frequently if there is a moderate affinity and high concentration, or it could be considered a rare event if there is extremely low (never really binds) or extremely high affinity(never lets go of the DNA), or in the case of low concentration (never finds the DNA). If binding is rare, then a poisson and exponential distributions might be better choices, but the question is so general that it's really hard for me to guess. \n",
    "\n",
    "**c)** The amount of time (in total minutes of baseball played) between no-hitters in Major League Baseball.\n",
    "\n",
    "This will be exponentially distributed. This is because the time between processes that are poisson distributed are exponentially distributed, and the occurances of no-hitters will have a poisson distribution because it is a rare event. \n",
    "\n",
    "**d)** The number of no-hitters in a Major League Baseball season.\n",
    "\n",
    "This will fit a poisson distribution. A no-hitter is an exceedingly rare event, but having one no-hitter does not effect the probability of having another no-hitter. Thus, this situation perfectly fits the story of a Poisson distribution.\n",
    "\n",
    "**e)** The winning times of the Belmont Stakes.\n",
    "\n",
    "Is there a distribution for taking the min of N randomly distributed variables? It seems to me like the time of a given horse might be normally distributed, but I'm unsure as to whether the minimum of a set of horses would also be. Let's see:"
   ]
  },
  {
   "cell_type": "code",
   "execution_count": 16,
   "metadata": {},
   "outputs": [
    {
     "data": {
      "application/vnd.vegalite.v2+json": {
       "$schema": "https://vega.github.io/schema/vega-lite/v2.6.0.json",
       "config": {
        "view": {
         "height": 300,
         "width": 400
        }
       },
       "hconcat": [
        {
         "data": {
          "format": {
           "type": "json"
          },
          "url": "altair-data-80bc6d4eb9a2b440924c934189ea0c60.json"
         },
         "encoding": {
          "order": {
           "field": "times",
           "sort": "ascending",
           "type": "quantitative"
          },
          "x": {
           "field": "times",
           "type": "quantitative"
          },
          "y": {
           "field": "__ECDF",
           "title": "ECDF",
           "type": "quantitative"
          }
         },
         "height": 100,
         "mark": {
          "type": "line"
         },
         "title": "Winning Horses",
         "width": 300
        },
        {
         "data": {
          "format": {
           "type": "json"
          },
          "url": "altair-data-808c3c2be70ab9d48e8f9f8ff146c505.json"
         },
         "encoding": {
          "order": {
           "field": "times",
           "sort": "ascending",
           "type": "quantitative"
          },
          "x": {
           "field": "times",
           "type": "quantitative"
          },
          "y": {
           "field": "__ECDF",
           "title": "ECDF",
           "type": "quantitative"
          }
         },
         "height": 100,
         "mark": {
          "type": "line"
         },
         "title": "Arbitrary Horses",
         "width": 300
        }
       ]
      },
      "image/png": "[encoded data removed]",
      "text/plain": [
       "<VegaLite 2 object>\n",
       "\n",
       "If you see this message, it means the renderer has not been properly enabled\n",
       "for the frontend that you are using. For more information, see\n",
       "https://altair-viz.github.io/user_guide/troubleshooting.html\n"
      ]
     },
     "execution_count": 16,
     "metadata": {},
     "output_type": "execute_result"
    }
   ],
   "source": [
    "import numpy as np\n",
    "import altair as alt\n",
    "import altair_catplot as altcat\n",
    "import pandas as pd\n",
    "alt.data_transformers.enable('json')\n",
    "winning_times = np.empty([100000])\n",
    "rand_times = np.empty([100000])\n",
    "for i in range(0, 100000):\n",
    "    # Ten horses race. Std_dev of 1min, mean of ten min\n",
    "    race = np.random.randn(10) + 10\n",
    "    winning_times[i] = np.min(race)\n",
    "    rand_times[i] = race[0]\n",
    "df_win = pd.DataFrame(winning_times, columns = [\"times\"])\n",
    "df_rand = pd.DataFrame(rand_times, columns = [\"times\"])\n",
    "p1= altcat.catplot(data=df_win,\n",
    "               height=100,\n",
    "               width = 300,\n",
    "               mark='line',\n",
    "               encoding=dict(x=alt.X('times:Q')),\n",
    "               title = \"Winning Horses\",\n",
    "               transform='ecdf')\n",
    "p2 = altcat.catplot(data=df_rand,\n",
    "               height=100,\n",
    "               width = 300,\n",
    "               mark='line',\n",
    "               encoding=dict(x=alt.X('times:Q')),\n",
    "               title = \"Arbitrary Horses\",\n",
    "               transform='ecdf')\n",
    "p1 | p2"
   ]
  },
  {
   "cell_type": "markdown",
   "metadata": {},
   "source": [
    "Meh. I guess it still looks normally distributed, just with a smaller mean and variance. Normal distribution it is!"
   ]
  },
  {
   "cell_type": "markdown",
   "metadata": {},
   "source": [
    "### Exercise 3\n",
    "\n",
    "Say I have three distributions:\n",
    "\n",
    "- Exponential, β=1\n",
    "- Gaussian, μ=1, σ=1\n",
    "- Cauchy, µ=1, σ=1\n",
    "\n",
    "Say I draw numbers out of each of these distributions. Rank order the distributions, lowest to highest, in terms of how likely I am do draw a number greater than 10. You do not need to calculate anything to answer this question.\n",
    "\n",
    "Judging from the interactive plots:\n",
    "\n",
    "Exponential: **very** unlikely. $e^{-10}$\n",
    "\n",
    "Gaussian: **VERY** unlikely. ~$e^{-80}$\n",
    "\n",
    "Cauchy: This one has a big ol' tail. Could happen. \n",
    "\n",
    "Cauchy $>$ Exponential $>$ Normal"
   ]
  },
  {
   "cell_type": "markdown",
   "metadata": {},
   "source": [
    "<br />"
   ]
  },
  {
   "cell_type": "markdown",
   "metadata": {},
   "source": [
    "### Exercise 4\n",
    "\n",
    "This is not really an exercise, but a point of curiosity for me. Tell me of an instance, if any, where you were burned by a data set not being what you thought it was that you could have avoided if you did data validation.\n",
    "\n",
    "Not sure that this has happened to me. That said, my scientific career is only a few years in, so it's probably a matter of time. "
   ]
  }
 ],
 "metadata": {
  "anaconda-cloud": {},
  "kernelspec": {
   "display_name": "Python 3",
   "language": "python",
   "name": "python3"
  },
  "language_info": {
   "codemirror_mode": {
    "name": "ipython",
    "version": 3
   },
   "file_extension": ".py",
   "mimetype": "text/x-python",
   "name": "python",
   "nbconvert_exporter": "python",
   "pygments_lexer": "ipython3",
   "version": "3.7.0"
  }
 },
 "nbformat": 4,
 "nbformat_minor": 2
}
