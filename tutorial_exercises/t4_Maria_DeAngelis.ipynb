{
 "cells": [
  {
   "cell_type": "markdown",
   "metadata": {},
   "source": [
    "# Tutorial 4: exercise\n",
    "\n",
    "(c) 2018 Justin Bois. With the exception of pasted graphics, where the source is noted, this work is licensed under a [Creative Commons Attribution License CC-BY 4.0](https://creativecommons.org/licenses/by/4.0/). All code contained herein is licensed under an [MIT license](https://opensource.org/licenses/MIT).\n",
    "\n",
    "This document was prepared at [Caltech](http://www.caltech.edu) with financial support from the [Donna and Benjamin M. Rosen Bioengineering Center](http://rosen.caltech.edu).\n",
    "\n",
    "*This tutorial exercise was generated from an Jupyter notebook.  You can download the notebook [here](t4_exercise.ipynb). Use this downloaded Jupyter notebook to fill out your responses.*"
   ]
  },
  {
   "cell_type": "markdown",
   "metadata": {},
   "source": [
    "### Exercise 1\n",
    "\n",
    "What is **segmentation** in the context of image processing?"
   ]
  },
  {
   "cell_type": "markdown",
   "metadata": {},
   "source": [
    "In tutorial 4a, we seperated bacteria from the background using thresholding, but we did not seperate various bacteria from each other. Segmentation in general just means seperating different parts of an image so it can be analyzed analytically. "
   ]
  },
  {
   "cell_type": "markdown",
   "metadata": {},
   "source": [
    "### Exercise 2\n",
    "\n",
    "What is **thresholding**, and what is it used for?"
   ]
  },
  {
   "cell_type": "markdown",
   "metadata": {},
   "source": [
    "Thresholding is the process of converting an image to a binary representation of that image. For example, in tutorial 4a, we wanted to label pixels containing bacteria as 1 and pixels not containing bacteria as 0. There are many techniques to increase the accuracy of thresholding, such as thresholding based on pixel values being below 85% of the local mean. Thresholding is an important first step in segmentation."
   ]
  },
  {
   "cell_type": "markdown",
   "metadata": {},
   "source": [
    "### Exercise 3\n",
    "\n",
    "What is a **structuring element** and what is it used for?"
   ]
  },
  {
   "cell_type": "markdown",
   "metadata": {},
   "source": [
    "A structuring element is a datastructure that organizes the data we have collected. For example, identifies the pixels representing bacteria and the neighboring pixels. It is usually the same shape as what you are trying to collect. \n",
    "\n",
    "Note: After reading through the tutorials, I still wasn't clear on what this was."
   ]
  },
  {
   "cell_type": "markdown",
   "metadata": {},
   "source": [
    "### Exercise 4\n",
    "\n",
    "How would you define an **edge** in an image? Describe how a Laplacian of Gaussian filter can be used to find edges in an image. Why can't we just use a Laplacian filter without the Gaussian?"
   ]
  },
  {
   "cell_type": "markdown",
   "metadata": {},
   "source": [
    "An edge in an image demarkates the end of an area. The points at which image brightness changes sharply are typically organized into a set of curved line segments termed edges. The Laplacian filter is susceptible to noise (and actually introduces a lot of extra noise) so it helps to first blur the image with the Guassian blur filter. \n",
    "\n",
    "The Laplacian of Gaussian filter takes the gradient of the pixel values of the image to find sudden peaks or valleys that could indicate an edge (means there is a zero-crossing in the second derivative)."
   ]
  }
 ],
 "metadata": {
  "anaconda-cloud": {},
  "kernelspec": {
   "display_name": "Python 3",
   "language": "python",
   "name": "python3"
  },
  "language_info": {
   "codemirror_mode": {
    "name": "ipython",
    "version": 3
   },
   "file_extension": ".py",
   "mimetype": "text/x-python",
   "name": "python",
   "nbconvert_exporter": "python",
   "pygments_lexer": "ipython3",
   "version": "3.6.0"
  }
 },
 "nbformat": 4,
 "nbformat_minor": 2
}
