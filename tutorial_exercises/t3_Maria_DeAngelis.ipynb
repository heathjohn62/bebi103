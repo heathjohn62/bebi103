{
 "cells": [
  {
   "cell_type": "markdown",
   "metadata": {},
   "source": [
    "# Tutorial 3: exercise\n",
    "\n",
    "(c) 2018 Justin Bois. With the exception of pasted graphics, where the source is noted, this work is licensed under a [Creative Commons Attribution License CC-BY 4.0](https://creativecommons.org/licenses/by/4.0/). All code contained herein is licensed under an [MIT license](https://opensource.org/licenses/MIT).\n",
    "\n",
    "This document was prepared at [Caltech](http://www.caltech.edu) with financial support from the [Donna and Benjamin M. Rosen Bioengineering Center](http://rosen.caltech.edu).\n",
    "\n",
    "<img src=\"caltech_rosen.png\">\n",
    "\n",
    "*This tutorial exercise was generated from an Jupyter notebook.  You can download the notebook [here](t3_exercise.ipynb). Use this downloaded Jupyter notebook to fill out your responses.*"
   ]
  },
  {
   "cell_type": "markdown",
   "metadata": {},
   "source": [
    "### Exercise 1\n",
    "\n",
    "What is an ROI, and why is it an important concept in digital image processing?"
   ]
  },
  {
   "cell_type": "markdown",
   "metadata": {},
   "source": [
    "ROI stands for region of interest and is the part of an image or stack of images that we want to study. The rest of the image is ignored. This is important becuase we often only want to analyze a specific part of an image, and automation is much easier and more efficient when calculations only have to be done on a small, standardized area."
   ]
  },
  {
   "cell_type": "markdown",
   "metadata": {},
   "source": [
    "## Exercise 2\n",
    "How would you expect each of the following to be distributed?\n",
    "\n",
    "**a)** The amount of time between repressor-operator binding events.\n",
    "\n",
    "I don't know much about repressor-operator events, but judging from Google results, they are pretty frequent when a certain conditions are met and obviouly the time between them can't be negative. I would guess exponential or half normal.\n",
    "\n",
    "**b)** The number of times a repressor binds its operator in a given hour.\n",
    "\n",
    "Hm, I'm not sure. I assume that the specific conditions needed to trigger repressor-operator binding events are pretty rare and so an exponential distribution would be a good estimate.\n",
    "\n",
    "**c)** The amount of time (in total minutes of baseball played) between no-hitters in Major League Baseball.\n",
    "\n",
    "This is also rare, exponential distribution\n",
    "\n",
    "**d)** The number of no-hitters in a Major League Baseball season.\n",
    "\n",
    "Poisson\n",
    "\n",
    "**e)** The winning times of the Belmont Stakes.\n",
    "\n",
    "I assume that technological/medical advances have led to faster horses over time, but that doesn't factor into the representation of the data. Gaussian.\n",
    "\n",
    "To answer this question, try to match these stories to the stories of named distributions. For those of you not familiar with baseball, a no-hitter is a game in which a team concedes no hits to the opposing team. There have only been a few hundred no-hitters in over 200,000 MLB games. The Belmont Stakes is a major horse race that has been run each year for over 150 years."
   ]
  },
  {
   "cell_type": "markdown",
   "metadata": {},
   "source": [
    "<br />"
   ]
  },
  {
   "cell_type": "markdown",
   "metadata": {},
   "source": [
    "### Exercise 3\n",
    "\n",
    "Say I have three distributions:\n",
    "\n",
    "- Exponential, β=1\n",
    "- Gaussian, μ=1, σ=1\n",
    "- Cauchy, µ=1, σ=1\n",
    "\n",
    "Say I draw numbers out of each of these distributions. Rank order the distributions, lowest to highest, in terms of how likely I am do draw a number greater than 10. You do not need to calculate anything to answer this question."
   ]
  },
  {
   "cell_type": "markdown",
   "metadata": {},
   "source": [
    "I plotted the three distributions and looked at the positive tail of the graph. Cauchy has a bigger tail than Gaussian, so you have a higher probability of getting a number >1. Exponential is also very unlikely as it drops off very quickly, but not as bad as Gaussian.\n",
    "\n",
    "1. Gaussian\n",
    "2. Exponential\n",
    "3. Cauchy "
   ]
  },
  {
   "cell_type": "markdown",
   "metadata": {},
   "source": [
    "<br />"
   ]
  },
  {
   "cell_type": "markdown",
   "metadata": {},
   "source": [
    "### Exercise 4\n",
    "\n",
    "This is not really an exercise, but a point of curiosity for me. Tell me of an instance, if any, where you were burned by a data set not being what you thought it was that you could have avoided if you did data validation.\n",
    "\n",
    "Not that I can think of. I've had an approach totally not work (the data made me sad and I had to reconsider my entire project) in my internship last summer, but that couldn't have been solved by data validation."
   ]
  }
 ],
 "metadata": {
  "anaconda-cloud": {},
  "kernelspec": {
   "display_name": "Python 3",
   "language": "python",
   "name": "python3"
  },
  "language_info": {
   "codemirror_mode": {
    "name": "ipython",
    "version": 3
   },
   "file_extension": ".py",
   "mimetype": "text/x-python",
   "name": "python",
   "nbconvert_exporter": "python",
   "pygments_lexer": "ipython3",
   "version": "3.6.0"
  }
 },
 "nbformat": 4,
 "nbformat_minor": 2
}
