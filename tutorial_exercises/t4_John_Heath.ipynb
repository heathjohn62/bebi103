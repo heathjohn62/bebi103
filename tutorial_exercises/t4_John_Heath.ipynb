{
 "cells": [
  {
   "cell_type": "markdown",
   "metadata": {},
   "source": [
    "# Tutorial 4: exercise\n",
    "\n",
    "(c) 2018 Justin Bois. With the exception of pasted graphics, where the source is noted, this work is licensed under a [Creative Commons Attribution License CC-BY 4.0](https://creativecommons.org/licenses/by/4.0/). All code contained herein is licensed under an [MIT license](https://opensource.org/licenses/MIT).\n",
    "\n",
    "This document was prepared at [Caltech](http://www.caltech.edu) with financial support from the [Donna and Benjamin M. Rosen Bioengineering Center](http://rosen.caltech.edu).\n",
    "\n",
    "<img src=\"caltech_rosen.png\">\n",
    "\n",
    "*This tutorial exercise was generated from an Jupyter notebook.  You can download the notebook [here](t4_exercise.ipynb). Use this downloaded Jupyter notebook to fill out your responses.*"
   ]
  },
  {
   "cell_type": "markdown",
   "metadata": {},
   "source": [
    "### Exercise 1\n",
    "\n",
    "What is **segmentation** in the context of image processing?\n",
    "\n",
    "Segmentation is the process of isolating structures within an image. For example, in the tutorials we desired to separate the bacteria from each other, and also from the backround. "
   ]
  },
  {
   "cell_type": "markdown",
   "metadata": {},
   "source": [
    "### Exercise 2\n",
    "\n",
    "What is **thresholding**, and what is it used for?\n",
    "\n",
    "Thresholding is the process of of focusing on only a specific range of pixel intensities within an image. We could threshold the image to only include values greater the background intensity, and this would isolate the features of an image (assuming that their intensity was higher). I suppose you could also threshold things other than intensity, like the laplacian of a guassian-filtered image, which is a form of edge detection. Then, you would get an array of pixels that represent regions where pixels were changing (across space) some amount past a threshold. "
   ]
  },
  {
   "cell_type": "markdown",
   "metadata": {},
   "source": [
    "### Exercise 3\n",
    "\n",
    "What is a **structuring element** and what is it used for?\n",
    "\n",
    "A structuring element is essentially just a shape, and it can be used for filtering. For example, we could use a 3x3 box as a structuring element for a median filter, and then the value at the center of the 3x3 box would become the median value in the entire 3x3 box. "
   ]
  },
  {
   "cell_type": "markdown",
   "metadata": {},
   "source": [
    "### Exercise 4\n",
    "\n",
    "How would you define an **edge** in an image? Describe how a Laplacian of Gaussian filter can be used to find edges in an image. Why can't we just use a Laplacian filter without the Gaussian?\n",
    "\n",
    "An edge is a region in the image where there are continuous, sharp changes in intensity. The laplacian operator, $\\nabla\\cdot\\nabla$, essentially describes how fast pixel intesity is changing. The problem with directly applying the laplacian is that pixel intensity can change quickly from pixel to pixel in background regions, even without real features, and the laplacian operator greatly amplifies this noise. Applying a guassian filter smooths the image so that small changes in pixel intensity are removed, and only continuous, larger changes remain for detection by the laplacian. "
   ]
  }
 ],
 "metadata": {
  "anaconda-cloud": {},
  "kernelspec": {
   "display_name": "Python 3",
   "language": "python",
   "name": "python3"
  },
  "language_info": {
   "codemirror_mode": {
    "name": "ipython",
    "version": 3
   },
   "file_extension": ".py",
   "mimetype": "text/x-python",
   "name": "python",
   "nbconvert_exporter": "python",
   "pygments_lexer": "ipython3",
   "version": "3.7.0"
  }
 },
 "nbformat": 4,
 "nbformat_minor": 2
}
