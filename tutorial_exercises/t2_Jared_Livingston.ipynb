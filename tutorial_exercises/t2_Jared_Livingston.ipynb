{
 "cells": [
  {
   "cell_type": "markdown",
   "metadata": {},
   "source": [
    "# Tutorial 2: exercise\n",
    "\n",
    "(c) 2018 Justin Bois. With the exception of pasted graphics, where the source is noted, this work is licensed under a [Creative Commons Attribution License CC-BY 4.0](https://creativecommons.org/licenses/by/4.0/). All code contained herein is licensed under an [MIT license](https://opensource.org/licenses/MIT).\n",
    "\n",
    "This document was prepared at [Caltech](http://www.caltech.edu) with financial support from the [Donna and Benjamin M. Rosen Bioengineering Center](http://rosen.caltech.edu).\n",
    "\n",
    "<img src=\"caltech_rosen.png\">\n",
    "\n",
    "*This tutorial exercise was generated from an Jupyter notebook.  You can download the notebook [here](t2_exercise.ipynb). Use this downloaded Jupyter notebook to fill out your responses.*"
   ]
  },
  {
   "cell_type": "markdown",
   "metadata": {},
   "source": [
    "### Exercise 1\n",
    "\n",
    "The [Anderson-Fisher iris data set](https://en.wikipedia.org/wiki/Iris_flower_data_set) is a classic data set used in statistical and machine learning applications. Edgar Anderson carefully measured the lengths and widths of the petals and sepals of 50 irises in each of three species, *I. setosa*, *I. versicolor*, and *I. virginica*. Ronald Fisher then used this data set to distinguish the three species from each other.\n",
    "\n",
    "**a)** Load the data set, which you can download [here](../data/anderson-fisher-iris.csv) into a Pandas `DataFrame` called `df`. Be sure to check out the structure of the data set before loading. You will need to use the `header=[0,1]` kwarg of `pd.read_csv()` to load the data set in properly."
   ]
  },
  {
   "cell_type": "code",
   "execution_count": 1,
   "metadata": {},
   "outputs": [
    {
     "name": "stderr",
     "output_type": "stream",
     "text": [
      "/anaconda3/lib/python3.6/site-packages/bebi103/viz.py:30: UserWarning: DataShader import failed with error \"No module named 'datashader'\".\n",
      "Features requiring DataShader will not work and you will get exceptions.\n",
      "  Features requiring DataShader will not work and you will get exceptions.\"\"\")\n"
     ]
    },
    {
     "data": {
      "text/html": [
       "\n",
       "    <div class=\"bk-root\">\n",
       "        <a href=\"https://bokeh.pydata.org\" target=\"_blank\" class=\"bk-logo bk-logo-small bk-logo-notebook\"></a>\n",
       "        <span id=\"c44d1626-e34a-4a24-91ac-e4872316dc11\">Loading BokehJS ...</span>\n",
       "    </div>"
      ]
     },
     "metadata": {},
     "output_type": "display_data"
    },
    {
     "data": {
      "application/javascript": [
       "\n",
       "(function(root) {\n",
       "  function now() {\n",
       "    return new Date();\n",
       "  }\n",
       "\n",
       "  var force = true;\n",
       "\n",
       "  if (typeof (root._bokeh_onload_callbacks) === \"undefined\" || force === true) {\n",
       "    root._bokeh_onload_callbacks = [];\n",
       "    root._bokeh_is_loading = undefined;\n",
       "  }\n",
       "\n",
       "  var JS_MIME_TYPE = 'application/javascript';\n",
       "  var HTML_MIME_TYPE = 'text/html';\n",
       "  var EXEC_MIME_TYPE = 'application/vnd.bokehjs_exec.v0+json';\n",
       "  var CLASS_NAME = 'output_bokeh rendered_html';\n",
       "\n",
       "  /**\n",
       "   * Render data to the DOM node\n",
       "   */\n",
       "  function render(props, node) {\n",
       "    var script = document.createElement(\"script\");\n",
       "    node.appendChild(script);\n",
       "  }\n",
       "\n",
       "  /**\n",
       "   * Handle when an output is cleared or removed\n",
       "   */\n",
       "  function handleClearOutput(event, handle) {\n",
       "    var cell = handle.cell;\n",
       "\n",
       "    var id = cell.output_area._bokeh_element_id;\n",
       "    var server_id = cell.output_area._bokeh_server_id;\n",
       "    // Clean up Bokeh references\n",
       "    if (id != null && id in Bokeh.index) {\n",
       "      Bokeh.index[id].model.document.clear();\n",
       "      delete Bokeh.index[id];\n",
       "    }\n",
       "\n",
       "    if (server_id !== undefined) {\n",
       "      // Clean up Bokeh references\n",
       "      var cmd = \"from bokeh.io.state import curstate; print(curstate().uuid_to_server['\" + server_id + \"'].get_sessions()[0].document.roots[0]._id)\";\n",
       "      cell.notebook.kernel.execute(cmd, {\n",
       "        iopub: {\n",
       "          output: function(msg) {\n",
       "            var id = msg.content.text.trim();\n",
       "            if (id in Bokeh.index) {\n",
       "              Bokeh.index[id].model.document.clear();\n",
       "              delete Bokeh.index[id];\n",
       "            }\n",
       "          }\n",
       "        }\n",
       "      });\n",
       "      // Destroy server and session\n",
       "      var cmd = \"import bokeh.io.notebook as ion; ion.destroy_server('\" + server_id + \"')\";\n",
       "      cell.notebook.kernel.execute(cmd);\n",
       "    }\n",
       "  }\n",
       "\n",
       "  /**\n",
       "   * Handle when a new output is added\n",
       "   */\n",
       "  function handleAddOutput(event, handle) {\n",
       "    var output_area = handle.output_area;\n",
       "    var output = handle.output;\n",
       "\n",
       "    // limit handleAddOutput to display_data with EXEC_MIME_TYPE content only\n",
       "    if ((output.output_type != \"display_data\") || (!output.data.hasOwnProperty(EXEC_MIME_TYPE))) {\n",
       "      return\n",
       "    }\n",
       "\n",
       "    var toinsert = output_area.element.find(\".\" + CLASS_NAME.split(' ')[0]);\n",
       "\n",
       "    if (output.metadata[EXEC_MIME_TYPE][\"id\"] !== undefined) {\n",
       "      toinsert[toinsert.length - 1].firstChild.textContent = output.data[JS_MIME_TYPE];\n",
       "      // store reference to embed id on output_area\n",
       "      output_area._bokeh_element_id = output.metadata[EXEC_MIME_TYPE][\"id\"];\n",
       "    }\n",
       "    if (output.metadata[EXEC_MIME_TYPE][\"server_id\"] !== undefined) {\n",
       "      var bk_div = document.createElement(\"div\");\n",
       "      bk_div.innerHTML = output.data[HTML_MIME_TYPE];\n",
       "      var script_attrs = bk_div.children[0].attributes;\n",
       "      for (var i = 0; i < script_attrs.length; i++) {\n",
       "        toinsert[toinsert.length - 1].firstChild.setAttribute(script_attrs[i].name, script_attrs[i].value);\n",
       "      }\n",
       "      // store reference to server id on output_area\n",
       "      output_area._bokeh_server_id = output.metadata[EXEC_MIME_TYPE][\"server_id\"];\n",
       "    }\n",
       "  }\n",
       "\n",
       "  function register_renderer(events, OutputArea) {\n",
       "\n",
       "    function append_mime(data, metadata, element) {\n",
       "      // create a DOM node to render to\n",
       "      var toinsert = this.create_output_subarea(\n",
       "        metadata,\n",
       "        CLASS_NAME,\n",
       "        EXEC_MIME_TYPE\n",
       "      );\n",
       "      this.keyboard_manager.register_events(toinsert);\n",
       "      // Render to node\n",
       "      var props = {data: data, metadata: metadata[EXEC_MIME_TYPE]};\n",
       "      render(props, toinsert[toinsert.length - 1]);\n",
       "      element.append(toinsert);\n",
       "      return toinsert\n",
       "    }\n",
       "\n",
       "    /* Handle when an output is cleared or removed */\n",
       "    events.on('clear_output.CodeCell', handleClearOutput);\n",
       "    events.on('delete.Cell', handleClearOutput);\n",
       "\n",
       "    /* Handle when a new output is added */\n",
       "    events.on('output_added.OutputArea', handleAddOutput);\n",
       "\n",
       "    /**\n",
       "     * Register the mime type and append_mime function with output_area\n",
       "     */\n",
       "    OutputArea.prototype.register_mime_type(EXEC_MIME_TYPE, append_mime, {\n",
       "      /* Is output safe? */\n",
       "      safe: true,\n",
       "      /* Index of renderer in `output_area.display_order` */\n",
       "      index: 0\n",
       "    });\n",
       "  }\n",
       "\n",
       "  // register the mime type if in Jupyter Notebook environment and previously unregistered\n",
       "  if (root.Jupyter !== undefined) {\n",
       "    var events = require('base/js/events');\n",
       "    var OutputArea = require('notebook/js/outputarea').OutputArea;\n",
       "\n",
       "    if (OutputArea.prototype.mime_types().indexOf(EXEC_MIME_TYPE) == -1) {\n",
       "      register_renderer(events, OutputArea);\n",
       "    }\n",
       "  }\n",
       "\n",
       "  \n",
       "  if (typeof (root._bokeh_timeout) === \"undefined\" || force === true) {\n",
       "    root._bokeh_timeout = Date.now() + 5000;\n",
       "    root._bokeh_failed_load = false;\n",
       "  }\n",
       "\n",
       "  var NB_LOAD_WARNING = {'data': {'text/html':\n",
       "     \"<div style='background-color: #fdd'>\\n\"+\n",
       "     \"<p>\\n\"+\n",
       "     \"BokehJS does not appear to have successfully loaded. If loading BokehJS from CDN, this \\n\"+\n",
       "     \"may be due to a slow or bad network connection. Possible fixes:\\n\"+\n",
       "     \"</p>\\n\"+\n",
       "     \"<ul>\\n\"+\n",
       "     \"<li>re-rerun `output_notebook()` to attempt to load from CDN again, or</li>\\n\"+\n",
       "     \"<li>use INLINE resources instead, as so:</li>\\n\"+\n",
       "     \"</ul>\\n\"+\n",
       "     \"<code>\\n\"+\n",
       "     \"from bokeh.resources import INLINE\\n\"+\n",
       "     \"output_notebook(resources=INLINE)\\n\"+\n",
       "     \"</code>\\n\"+\n",
       "     \"</div>\"}};\n",
       "\n",
       "  function display_loaded() {\n",
       "    var el = document.getElementById(\"c44d1626-e34a-4a24-91ac-e4872316dc11\");\n",
       "    if (el != null) {\n",
       "      el.textContent = \"BokehJS is loading...\";\n",
       "    }\n",
       "    if (root.Bokeh !== undefined) {\n",
       "      if (el != null) {\n",
       "        el.textContent = \"BokehJS \" + root.Bokeh.version + \" successfully loaded.\";\n",
       "      }\n",
       "    } else if (Date.now() < root._bokeh_timeout) {\n",
       "      setTimeout(display_loaded, 100)\n",
       "    }\n",
       "  }\n",
       "\n",
       "\n",
       "  function run_callbacks() {\n",
       "    try {\n",
       "      root._bokeh_onload_callbacks.forEach(function(callback) { callback() });\n",
       "    }\n",
       "    finally {\n",
       "      delete root._bokeh_onload_callbacks\n",
       "    }\n",
       "    console.info(\"Bokeh: all callbacks have finished\");\n",
       "  }\n",
       "\n",
       "  function load_libs(js_urls, callback) {\n",
       "    root._bokeh_onload_callbacks.push(callback);\n",
       "    if (root._bokeh_is_loading > 0) {\n",
       "      console.log(\"Bokeh: BokehJS is being loaded, scheduling callback at\", now());\n",
       "      return null;\n",
       "    }\n",
       "    if (js_urls == null || js_urls.length === 0) {\n",
       "      run_callbacks();\n",
       "      return null;\n",
       "    }\n",
       "    console.log(\"Bokeh: BokehJS not loaded, scheduling load and callback at\", now());\n",
       "    root._bokeh_is_loading = js_urls.length;\n",
       "    for (var i = 0; i < js_urls.length; i++) {\n",
       "      var url = js_urls[i];\n",
       "      var s = document.createElement('script');\n",
       "      s.src = url;\n",
       "      s.async = false;\n",
       "      s.onreadystatechange = s.onload = function() {\n",
       "        root._bokeh_is_loading--;\n",
       "        if (root._bokeh_is_loading === 0) {\n",
       "          console.log(\"Bokeh: all BokehJS libraries loaded\");\n",
       "          run_callbacks()\n",
       "        }\n",
       "      };\n",
       "      s.onerror = function() {\n",
       "        console.warn(\"failed to load library \" + url);\n",
       "      };\n",
       "      console.log(\"Bokeh: injecting script tag for BokehJS library: \", url);\n",
       "      document.getElementsByTagName(\"head\")[0].appendChild(s);\n",
       "    }\n",
       "  };var element = document.getElementById(\"c44d1626-e34a-4a24-91ac-e4872316dc11\");\n",
       "  if (element == null) {\n",
       "    console.log(\"Bokeh: ERROR: autoload.js configured with elementid 'c44d1626-e34a-4a24-91ac-e4872316dc11' but no matching script tag was found. \")\n",
       "    return false;\n",
       "  }\n",
       "\n",
       "  var js_urls = [\"https://cdn.pydata.org/bokeh/release/bokeh-0.13.0.min.js\", \"https://cdn.pydata.org/bokeh/release/bokeh-widgets-0.13.0.min.js\", \"https://cdn.pydata.org/bokeh/release/bokeh-tables-0.13.0.min.js\", \"https://cdn.pydata.org/bokeh/release/bokeh-gl-0.13.0.min.js\"];\n",
       "\n",
       "  var inline_js = [\n",
       "    function(Bokeh) {\n",
       "      Bokeh.set_log_level(\"info\");\n",
       "    },\n",
       "    \n",
       "    function(Bokeh) {\n",
       "      \n",
       "    },\n",
       "    function(Bokeh) {\n",
       "      console.log(\"Bokeh: injecting CSS: https://cdn.pydata.org/bokeh/release/bokeh-0.13.0.min.css\");\n",
       "      Bokeh.embed.inject_css(\"https://cdn.pydata.org/bokeh/release/bokeh-0.13.0.min.css\");\n",
       "      console.log(\"Bokeh: injecting CSS: https://cdn.pydata.org/bokeh/release/bokeh-widgets-0.13.0.min.css\");\n",
       "      Bokeh.embed.inject_css(\"https://cdn.pydata.org/bokeh/release/bokeh-widgets-0.13.0.min.css\");\n",
       "      console.log(\"Bokeh: injecting CSS: https://cdn.pydata.org/bokeh/release/bokeh-tables-0.13.0.min.css\");\n",
       "      Bokeh.embed.inject_css(\"https://cdn.pydata.org/bokeh/release/bokeh-tables-0.13.0.min.css\");\n",
       "    }\n",
       "  ];\n",
       "\n",
       "  function run_inline_js() {\n",
       "    \n",
       "    if ((root.Bokeh !== undefined) || (force === true)) {\n",
       "      for (var i = 0; i < inline_js.length; i++) {\n",
       "        inline_js[i].call(root, root.Bokeh);\n",
       "      }if (force === true) {\n",
       "        display_loaded();\n",
       "      }} else if (Date.now() < root._bokeh_timeout) {\n",
       "      setTimeout(run_inline_js, 100);\n",
       "    } else if (!root._bokeh_failed_load) {\n",
       "      console.log(\"Bokeh: BokehJS failed to load within specified timeout.\");\n",
       "      root._bokeh_failed_load = true;\n",
       "    } else if (force !== true) {\n",
       "      var cell = $(document.getElementById(\"c44d1626-e34a-4a24-91ac-e4872316dc11\")).parents('.cell').data().cell;\n",
       "      cell.output_area.append_execute_result(NB_LOAD_WARNING)\n",
       "    }\n",
       "\n",
       "  }\n",
       "\n",
       "  if (root._bokeh_is_loading === 0) {\n",
       "    console.log(\"Bokeh: BokehJS loaded, going straight to plotting\");\n",
       "    run_inline_js();\n",
       "  } else {\n",
       "    load_libs(js_urls, function() {\n",
       "      console.log(\"Bokeh: BokehJS plotting callback run at\", now());\n",
       "      run_inline_js();\n",
       "    });\n",
       "  }\n",
       "}(window));"
      ],
      "application/vnd.bokehjs_load.v0+json": "\n(function(root) {\n  function now() {\n    return new Date();\n  }\n\n  var force = true;\n\n  if (typeof (root._bokeh_onload_callbacks) === \"undefined\" || force === true) {\n    root._bokeh_onload_callbacks = [];\n    root._bokeh_is_loading = undefined;\n  }\n\n  \n\n  \n  if (typeof (root._bokeh_timeout) === \"undefined\" || force === true) {\n    root._bokeh_timeout = Date.now() + 5000;\n    root._bokeh_failed_load = false;\n  }\n\n  var NB_LOAD_WARNING = {'data': {'text/html':\n     \"<div style='background-color: #fdd'>\\n\"+\n     \"<p>\\n\"+\n     \"BokehJS does not appear to have successfully loaded. If loading BokehJS from CDN, this \\n\"+\n     \"may be due to a slow or bad network connection. Possible fixes:\\n\"+\n     \"</p>\\n\"+\n     \"<ul>\\n\"+\n     \"<li>re-rerun `output_notebook()` to attempt to load from CDN again, or</li>\\n\"+\n     \"<li>use INLINE resources instead, as so:</li>\\n\"+\n     \"</ul>\\n\"+\n     \"<code>\\n\"+\n     \"from bokeh.resources import INLINE\\n\"+\n     \"output_notebook(resources=INLINE)\\n\"+\n     \"</code>\\n\"+\n     \"</div>\"}};\n\n  function display_loaded() {\n    var el = document.getElementById(\"c44d1626-e34a-4a24-91ac-e4872316dc11\");\n    if (el != null) {\n      el.textContent = \"BokehJS is loading...\";\n    }\n    if (root.Bokeh !== undefined) {\n      if (el != null) {\n        el.textContent = \"BokehJS \" + root.Bokeh.version + \" successfully loaded.\";\n      }\n    } else if (Date.now() < root._bokeh_timeout) {\n      setTimeout(display_loaded, 100)\n    }\n  }\n\n\n  function run_callbacks() {\n    try {\n      root._bokeh_onload_callbacks.forEach(function(callback) { callback() });\n    }\n    finally {\n      delete root._bokeh_onload_callbacks\n    }\n    console.info(\"Bokeh: all callbacks have finished\");\n  }\n\n  function load_libs(js_urls, callback) {\n    root._bokeh_onload_callbacks.push(callback);\n    if (root._bokeh_is_loading > 0) {\n      console.log(\"Bokeh: BokehJS is being loaded, scheduling callback at\", now());\n      return null;\n    }\n    if (js_urls == null || js_urls.length === 0) {\n      run_callbacks();\n      return null;\n    }\n    console.log(\"Bokeh: BokehJS not loaded, scheduling load and callback at\", now());\n    root._bokeh_is_loading = js_urls.length;\n    for (var i = 0; i < js_urls.length; i++) {\n      var url = js_urls[i];\n      var s = document.createElement('script');\n      s.src = url;\n      s.async = false;\n      s.onreadystatechange = s.onload = function() {\n        root._bokeh_is_loading--;\n        if (root._bokeh_is_loading === 0) {\n          console.log(\"Bokeh: all BokehJS libraries loaded\");\n          run_callbacks()\n        }\n      };\n      s.onerror = function() {\n        console.warn(\"failed to load library \" + url);\n      };\n      console.log(\"Bokeh: injecting script tag for BokehJS library: \", url);\n      document.getElementsByTagName(\"head\")[0].appendChild(s);\n    }\n  };var element = document.getElementById(\"c44d1626-e34a-4a24-91ac-e4872316dc11\");\n  if (element == null) {\n    console.log(\"Bokeh: ERROR: autoload.js configured with elementid 'c44d1626-e34a-4a24-91ac-e4872316dc11' but no matching script tag was found. \")\n    return false;\n  }\n\n  var js_urls = [\"https://cdn.pydata.org/bokeh/release/bokeh-0.13.0.min.js\", \"https://cdn.pydata.org/bokeh/release/bokeh-widgets-0.13.0.min.js\", \"https://cdn.pydata.org/bokeh/release/bokeh-tables-0.13.0.min.js\", \"https://cdn.pydata.org/bokeh/release/bokeh-gl-0.13.0.min.js\"];\n\n  var inline_js = [\n    function(Bokeh) {\n      Bokeh.set_log_level(\"info\");\n    },\n    \n    function(Bokeh) {\n      \n    },\n    function(Bokeh) {\n      console.log(\"Bokeh: injecting CSS: https://cdn.pydata.org/bokeh/release/bokeh-0.13.0.min.css\");\n      Bokeh.embed.inject_css(\"https://cdn.pydata.org/bokeh/release/bokeh-0.13.0.min.css\");\n      console.log(\"Bokeh: injecting CSS: https://cdn.pydata.org/bokeh/release/bokeh-widgets-0.13.0.min.css\");\n      Bokeh.embed.inject_css(\"https://cdn.pydata.org/bokeh/release/bokeh-widgets-0.13.0.min.css\");\n      console.log(\"Bokeh: injecting CSS: https://cdn.pydata.org/bokeh/release/bokeh-tables-0.13.0.min.css\");\n      Bokeh.embed.inject_css(\"https://cdn.pydata.org/bokeh/release/bokeh-tables-0.13.0.min.css\");\n    }\n  ];\n\n  function run_inline_js() {\n    \n    if ((root.Bokeh !== undefined) || (force === true)) {\n      for (var i = 0; i < inline_js.length; i++) {\n        inline_js[i].call(root, root.Bokeh);\n      }if (force === true) {\n        display_loaded();\n      }} else if (Date.now() < root._bokeh_timeout) {\n      setTimeout(run_inline_js, 100);\n    } else if (!root._bokeh_failed_load) {\n      console.log(\"Bokeh: BokehJS failed to load within specified timeout.\");\n      root._bokeh_failed_load = true;\n    } else if (force !== true) {\n      var cell = $(document.getElementById(\"c44d1626-e34a-4a24-91ac-e4872316dc11\")).parents('.cell').data().cell;\n      cell.output_area.append_execute_result(NB_LOAD_WARNING)\n    }\n\n  }\n\n  if (root._bokeh_is_loading === 0) {\n    console.log(\"Bokeh: BokehJS loaded, going straight to plotting\");\n    run_inline_js();\n  } else {\n    load_libs(js_urls, function() {\n      console.log(\"Bokeh: BokehJS plotting callback run at\", now());\n      run_inline_js();\n    });\n  }\n}(window));"
     },
     "metadata": {},
     "output_type": "display_data"
    }
   ],
   "source": [
    "import itertools\n",
    "\n",
    "# Our numerical workhorses\n",
    "import numpy as np\n",
    "import pandas as pd\n",
    "import scipy.integrate\n",
    "\n",
    "# Import Altair for high level plotting\n",
    "import altair as alt\n",
    "import altair_catplot as altcat\n",
    "\n",
    "# Import Bokeh modules for interactive plotting\n",
    "import bokeh.io\n",
    "import bokeh.plotting\n",
    "import bebi103\n",
    "\n",
    "# Set up Bokeh for inline viewing\n",
    "bokeh.io.output_notebook()"
   ]
  },
  {
   "cell_type": "code",
   "execution_count": 2,
   "metadata": {},
   "outputs": [],
   "source": [
    "# Use pd.read_csv() to load the data set\n",
    "df = pd.read_csv('../data/anderson-fisher-iris.csv', header=[0,1], comment ='#')"
   ]
  },
  {
   "cell_type": "markdown",
   "metadata": {},
   "source": [
    "**b)** Take a look `df`. Is it tidy? Why or why not?"
   ]
  },
  {
   "cell_type": "code",
   "execution_count": 3,
   "metadata": {},
   "outputs": [
    {
     "data": {
      "text/html": [
       "<div>\n",
       "<style scoped>\n",
       "    .dataframe tbody tr th:only-of-type {\n",
       "        vertical-align: middle;\n",
       "    }\n",
       "\n",
       "    .dataframe tbody tr th {\n",
       "        vertical-align: top;\n",
       "    }\n",
       "\n",
       "    .dataframe thead tr th {\n",
       "        text-align: left;\n",
       "    }\n",
       "</style>\n",
       "<table border=\"1\" class=\"dataframe\">\n",
       "  <thead>\n",
       "    <tr>\n",
       "      <th></th>\n",
       "      <th colspan=\"4\" halign=\"left\">setosa</th>\n",
       "      <th colspan=\"4\" halign=\"left\">versicolor</th>\n",
       "      <th colspan=\"4\" halign=\"left\">virginica</th>\n",
       "    </tr>\n",
       "    <tr>\n",
       "      <th></th>\n",
       "      <th>sepal length (cm)</th>\n",
       "      <th>sepal width (cm)</th>\n",
       "      <th>petal length (cm)</th>\n",
       "      <th>petal width (cm)</th>\n",
       "      <th>sepal length (cm)</th>\n",
       "      <th>sepal width (cm)</th>\n",
       "      <th>petal length (cm)</th>\n",
       "      <th>petal width (cm)</th>\n",
       "      <th>sepal length (cm)</th>\n",
       "      <th>sepal width (cm)</th>\n",
       "      <th>petal length (cm)</th>\n",
       "      <th>petal width (cm)</th>\n",
       "    </tr>\n",
       "  </thead>\n",
       "  <tbody>\n",
       "    <tr>\n",
       "      <th>0</th>\n",
       "      <td>5.1</td>\n",
       "      <td>3.5</td>\n",
       "      <td>1.4</td>\n",
       "      <td>0.2</td>\n",
       "      <td>7.0</td>\n",
       "      <td>3.2</td>\n",
       "      <td>4.7</td>\n",
       "      <td>1.4</td>\n",
       "      <td>6.3</td>\n",
       "      <td>3.3</td>\n",
       "      <td>6.0</td>\n",
       "      <td>2.5</td>\n",
       "    </tr>\n",
       "    <tr>\n",
       "      <th>1</th>\n",
       "      <td>4.9</td>\n",
       "      <td>3.0</td>\n",
       "      <td>1.4</td>\n",
       "      <td>0.2</td>\n",
       "      <td>6.4</td>\n",
       "      <td>3.2</td>\n",
       "      <td>4.5</td>\n",
       "      <td>1.5</td>\n",
       "      <td>5.8</td>\n",
       "      <td>2.7</td>\n",
       "      <td>5.1</td>\n",
       "      <td>1.9</td>\n",
       "    </tr>\n",
       "    <tr>\n",
       "      <th>2</th>\n",
       "      <td>4.7</td>\n",
       "      <td>3.2</td>\n",
       "      <td>1.3</td>\n",
       "      <td>0.2</td>\n",
       "      <td>6.9</td>\n",
       "      <td>3.1</td>\n",
       "      <td>4.9</td>\n",
       "      <td>1.5</td>\n",
       "      <td>7.1</td>\n",
       "      <td>3.0</td>\n",
       "      <td>5.9</td>\n",
       "      <td>2.1</td>\n",
       "    </tr>\n",
       "    <tr>\n",
       "      <th>3</th>\n",
       "      <td>4.6</td>\n",
       "      <td>3.1</td>\n",
       "      <td>1.5</td>\n",
       "      <td>0.2</td>\n",
       "      <td>5.5</td>\n",
       "      <td>2.3</td>\n",
       "      <td>4.0</td>\n",
       "      <td>1.3</td>\n",
       "      <td>6.3</td>\n",
       "      <td>2.9</td>\n",
       "      <td>5.6</td>\n",
       "      <td>1.8</td>\n",
       "    </tr>\n",
       "    <tr>\n",
       "      <th>4</th>\n",
       "      <td>5.0</td>\n",
       "      <td>3.6</td>\n",
       "      <td>1.4</td>\n",
       "      <td>0.2</td>\n",
       "      <td>6.5</td>\n",
       "      <td>2.8</td>\n",
       "      <td>4.6</td>\n",
       "      <td>1.5</td>\n",
       "      <td>6.5</td>\n",
       "      <td>3.0</td>\n",
       "      <td>5.8</td>\n",
       "      <td>2.2</td>\n",
       "    </tr>\n",
       "  </tbody>\n",
       "</table>\n",
       "</div>"
      ],
      "text/plain": [
       "             setosa                                                      \\\n",
       "  sepal length (cm) sepal width (cm) petal length (cm) petal width (cm)   \n",
       "0               5.1              3.5               1.4              0.2   \n",
       "1               4.9              3.0               1.4              0.2   \n",
       "2               4.7              3.2               1.3              0.2   \n",
       "3               4.6              3.1               1.5              0.2   \n",
       "4               5.0              3.6               1.4              0.2   \n",
       "\n",
       "         versicolor                                                      \\\n",
       "  sepal length (cm) sepal width (cm) petal length (cm) petal width (cm)   \n",
       "0               7.0              3.2               4.7              1.4   \n",
       "1               6.4              3.2               4.5              1.5   \n",
       "2               6.9              3.1               4.9              1.5   \n",
       "3               5.5              2.3               4.0              1.3   \n",
       "4               6.5              2.8               4.6              1.5   \n",
       "\n",
       "          virginica                                                      \n",
       "  sepal length (cm) sepal width (cm) petal length (cm) petal width (cm)  \n",
       "0               6.3              3.3               6.0              2.5  \n",
       "1               5.8              2.7               5.1              1.9  \n",
       "2               7.1              3.0               5.9              2.1  \n",
       "3               6.3              2.9               5.6              1.8  \n",
       "4               6.5              3.0               5.8              2.2  "
      ]
     },
     "execution_count": 3,
     "metadata": {},
     "output_type": "execute_result"
    }
   ],
   "source": [
    "# Look at the contents\n",
    "df.head()"
   ]
  },
  {
   "cell_type": "markdown",
   "metadata": {},
   "source": [
    "This data set is not tidy because every observation unit doesn't form a separate  "
   ]
  },
  {
   "cell_type": "markdown",
   "metadata": {},
   "source": [
    "**c)** Perform the following operations to make a new `DataFrame` from the original one you loaded in exercise 1 to generate a new `DataFrame`. Do these operations one-by-one and explain what you are doing to the `DataFrame` in each one. The Pandas documentation might help."
   ]
  },
  {
   "cell_type": "code",
   "execution_count": 4,
   "metadata": {
    "collapsed": true
   },
   "outputs": [],
   "source": [
    "df_tidy = df.stack(level=0)"
   ]
  },
  {
   "cell_type": "code",
   "execution_count": 5,
   "metadata": {},
   "outputs": [
    {
     "data": {
      "text/html": [
       "<div>\n",
       "<style scoped>\n",
       "    .dataframe tbody tr th:only-of-type {\n",
       "        vertical-align: middle;\n",
       "    }\n",
       "\n",
       "    .dataframe tbody tr th {\n",
       "        vertical-align: top;\n",
       "    }\n",
       "\n",
       "    .dataframe thead th {\n",
       "        text-align: right;\n",
       "    }\n",
       "</style>\n",
       "<table border=\"1\" class=\"dataframe\">\n",
       "  <thead>\n",
       "    <tr style=\"text-align: right;\">\n",
       "      <th></th>\n",
       "      <th></th>\n",
       "      <th>petal length (cm)</th>\n",
       "      <th>petal width (cm)</th>\n",
       "      <th>sepal length (cm)</th>\n",
       "      <th>sepal width (cm)</th>\n",
       "    </tr>\n",
       "  </thead>\n",
       "  <tbody>\n",
       "    <tr>\n",
       "      <th rowspan=\"3\" valign=\"top\">0</th>\n",
       "      <th>setosa</th>\n",
       "      <td>1.4</td>\n",
       "      <td>0.2</td>\n",
       "      <td>5.1</td>\n",
       "      <td>3.5</td>\n",
       "    </tr>\n",
       "    <tr>\n",
       "      <th>versicolor</th>\n",
       "      <td>4.7</td>\n",
       "      <td>1.4</td>\n",
       "      <td>7.0</td>\n",
       "      <td>3.2</td>\n",
       "    </tr>\n",
       "    <tr>\n",
       "      <th>virginica</th>\n",
       "      <td>6.0</td>\n",
       "      <td>2.5</td>\n",
       "      <td>6.3</td>\n",
       "      <td>3.3</td>\n",
       "    </tr>\n",
       "    <tr>\n",
       "      <th rowspan=\"2\" valign=\"top\">1</th>\n",
       "      <th>setosa</th>\n",
       "      <td>1.4</td>\n",
       "      <td>0.2</td>\n",
       "      <td>4.9</td>\n",
       "      <td>3.0</td>\n",
       "    </tr>\n",
       "    <tr>\n",
       "      <th>versicolor</th>\n",
       "      <td>4.5</td>\n",
       "      <td>1.5</td>\n",
       "      <td>6.4</td>\n",
       "      <td>3.2</td>\n",
       "    </tr>\n",
       "  </tbody>\n",
       "</table>\n",
       "</div>"
      ],
      "text/plain": [
       "              petal length (cm)  petal width (cm)  sepal length (cm)  \\\n",
       "0 setosa                    1.4               0.2                5.1   \n",
       "  versicolor                4.7               1.4                7.0   \n",
       "  virginica                 6.0               2.5                6.3   \n",
       "1 setosa                    1.4               0.2                4.9   \n",
       "  versicolor                4.5               1.5                6.4   \n",
       "\n",
       "              sepal width (cm)  \n",
       "0 setosa                   3.5  \n",
       "  versicolor               3.2  \n",
       "  virginica                3.3  \n",
       "1 setosa                   3.0  \n",
       "  versicolor               3.2  "
      ]
     },
     "execution_count": 5,
     "metadata": {},
     "output_type": "execute_result"
    }
   ],
   "source": [
    "df_tidy.head()"
   ]
  },
  {
   "cell_type": "markdown",
   "metadata": {},
   "source": [
    "The stack command compresses a level into the dataframe's columns, in this case taking the level describing species and making it into a column."
   ]
  },
  {
   "cell_type": "code",
   "execution_count": 6,
   "metadata": {
    "collapsed": true
   },
   "outputs": [],
   "source": [
    "df_tidy = df_tidy.sort_index(level=1)"
   ]
  },
  {
   "cell_type": "code",
   "execution_count": 7,
   "metadata": {},
   "outputs": [
    {
     "data": {
      "text/html": [
       "<div>\n",
       "<style scoped>\n",
       "    .dataframe tbody tr th:only-of-type {\n",
       "        vertical-align: middle;\n",
       "    }\n",
       "\n",
       "    .dataframe tbody tr th {\n",
       "        vertical-align: top;\n",
       "    }\n",
       "\n",
       "    .dataframe thead th {\n",
       "        text-align: right;\n",
       "    }\n",
       "</style>\n",
       "<table border=\"1\" class=\"dataframe\">\n",
       "  <thead>\n",
       "    <tr style=\"text-align: right;\">\n",
       "      <th></th>\n",
       "      <th></th>\n",
       "      <th>petal length (cm)</th>\n",
       "      <th>petal width (cm)</th>\n",
       "      <th>sepal length (cm)</th>\n",
       "      <th>sepal width (cm)</th>\n",
       "    </tr>\n",
       "  </thead>\n",
       "  <tbody>\n",
       "    <tr>\n",
       "      <th>0</th>\n",
       "      <th>setosa</th>\n",
       "      <td>1.4</td>\n",
       "      <td>0.2</td>\n",
       "      <td>5.1</td>\n",
       "      <td>3.5</td>\n",
       "    </tr>\n",
       "    <tr>\n",
       "      <th>1</th>\n",
       "      <th>setosa</th>\n",
       "      <td>1.4</td>\n",
       "      <td>0.2</td>\n",
       "      <td>4.9</td>\n",
       "      <td>3.0</td>\n",
       "    </tr>\n",
       "    <tr>\n",
       "      <th>2</th>\n",
       "      <th>setosa</th>\n",
       "      <td>1.3</td>\n",
       "      <td>0.2</td>\n",
       "      <td>4.7</td>\n",
       "      <td>3.2</td>\n",
       "    </tr>\n",
       "    <tr>\n",
       "      <th>3</th>\n",
       "      <th>setosa</th>\n",
       "      <td>1.5</td>\n",
       "      <td>0.2</td>\n",
       "      <td>4.6</td>\n",
       "      <td>3.1</td>\n",
       "    </tr>\n",
       "    <tr>\n",
       "      <th>4</th>\n",
       "      <th>setosa</th>\n",
       "      <td>1.4</td>\n",
       "      <td>0.2</td>\n",
       "      <td>5.0</td>\n",
       "      <td>3.6</td>\n",
       "    </tr>\n",
       "  </tbody>\n",
       "</table>\n",
       "</div>"
      ],
      "text/plain": [
       "          petal length (cm)  petal width (cm)  sepal length (cm)  \\\n",
       "0 setosa                1.4               0.2                5.1   \n",
       "1 setosa                1.4               0.2                4.9   \n",
       "2 setosa                1.3               0.2                4.7   \n",
       "3 setosa                1.5               0.2                4.6   \n",
       "4 setosa                1.4               0.2                5.0   \n",
       "\n",
       "          sepal width (cm)  \n",
       "0 setosa               3.5  \n",
       "1 setosa               3.0  \n",
       "2 setosa               3.2  \n",
       "3 setosa               3.1  \n",
       "4 setosa               3.6  "
      ]
     },
     "execution_count": 7,
     "metadata": {},
     "output_type": "execute_result"
    }
   ],
   "source": [
    "df_tidy.head()"
   ]
  },
  {
   "cell_type": "markdown",
   "metadata": {},
   "source": [
    "The sort_index command sorts the dataframe along one of the indices, in this case taking level 1, the species name, and sorting along that."
   ]
  },
  {
   "cell_type": "code",
   "execution_count": 8,
   "metadata": {
    "collapsed": true
   },
   "outputs": [],
   "source": [
    "df_tidy = df_tidy.reset_index(level=1)"
   ]
  },
  {
   "cell_type": "code",
   "execution_count": 9,
   "metadata": {},
   "outputs": [
    {
     "data": {
      "text/html": [
       "<div>\n",
       "<style scoped>\n",
       "    .dataframe tbody tr th:only-of-type {\n",
       "        vertical-align: middle;\n",
       "    }\n",
       "\n",
       "    .dataframe tbody tr th {\n",
       "        vertical-align: top;\n",
       "    }\n",
       "\n",
       "    .dataframe thead th {\n",
       "        text-align: right;\n",
       "    }\n",
       "</style>\n",
       "<table border=\"1\" class=\"dataframe\">\n",
       "  <thead>\n",
       "    <tr style=\"text-align: right;\">\n",
       "      <th></th>\n",
       "      <th>level_1</th>\n",
       "      <th>petal length (cm)</th>\n",
       "      <th>petal width (cm)</th>\n",
       "      <th>sepal length (cm)</th>\n",
       "      <th>sepal width (cm)</th>\n",
       "    </tr>\n",
       "  </thead>\n",
       "  <tbody>\n",
       "    <tr>\n",
       "      <th>0</th>\n",
       "      <td>setosa</td>\n",
       "      <td>1.4</td>\n",
       "      <td>0.2</td>\n",
       "      <td>5.1</td>\n",
       "      <td>3.5</td>\n",
       "    </tr>\n",
       "    <tr>\n",
       "      <th>1</th>\n",
       "      <td>setosa</td>\n",
       "      <td>1.4</td>\n",
       "      <td>0.2</td>\n",
       "      <td>4.9</td>\n",
       "      <td>3.0</td>\n",
       "    </tr>\n",
       "    <tr>\n",
       "      <th>2</th>\n",
       "      <td>setosa</td>\n",
       "      <td>1.3</td>\n",
       "      <td>0.2</td>\n",
       "      <td>4.7</td>\n",
       "      <td>3.2</td>\n",
       "    </tr>\n",
       "    <tr>\n",
       "      <th>3</th>\n",
       "      <td>setosa</td>\n",
       "      <td>1.5</td>\n",
       "      <td>0.2</td>\n",
       "      <td>4.6</td>\n",
       "      <td>3.1</td>\n",
       "    </tr>\n",
       "    <tr>\n",
       "      <th>4</th>\n",
       "      <td>setosa</td>\n",
       "      <td>1.4</td>\n",
       "      <td>0.2</td>\n",
       "      <td>5.0</td>\n",
       "      <td>3.6</td>\n",
       "    </tr>\n",
       "  </tbody>\n",
       "</table>\n",
       "</div>"
      ],
      "text/plain": [
       "  level_1  petal length (cm)  petal width (cm)  sepal length (cm)  \\\n",
       "0  setosa                1.4               0.2                5.1   \n",
       "1  setosa                1.4               0.2                4.9   \n",
       "2  setosa                1.3               0.2                4.7   \n",
       "3  setosa                1.5               0.2                4.6   \n",
       "4  setosa                1.4               0.2                5.0   \n",
       "\n",
       "   sepal width (cm)  \n",
       "0               3.5  \n",
       "1               3.0  \n",
       "2               3.2  \n",
       "3               3.1  \n",
       "4               3.6  "
      ]
     },
     "execution_count": 9,
     "metadata": {},
     "output_type": "execute_result"
    }
   ],
   "source": [
    "df_tidy.head()"
   ]
  },
  {
   "cell_type": "markdown",
   "metadata": {},
   "source": [
    "The reset_index command removes an index and adds it as a column, and names the new column level_1 by default."
   ]
  },
  {
   "cell_type": "code",
   "execution_count": 10,
   "metadata": {
    "collapsed": true
   },
   "outputs": [],
   "source": [
    "df_tidy = df_tidy.rename(columns={'level_1': 'species'})"
   ]
  },
  {
   "cell_type": "code",
   "execution_count": 11,
   "metadata": {},
   "outputs": [
    {
     "data": {
      "text/html": [
       "<div>\n",
       "<style scoped>\n",
       "    .dataframe tbody tr th:only-of-type {\n",
       "        vertical-align: middle;\n",
       "    }\n",
       "\n",
       "    .dataframe tbody tr th {\n",
       "        vertical-align: top;\n",
       "    }\n",
       "\n",
       "    .dataframe thead th {\n",
       "        text-align: right;\n",
       "    }\n",
       "</style>\n",
       "<table border=\"1\" class=\"dataframe\">\n",
       "  <thead>\n",
       "    <tr style=\"text-align: right;\">\n",
       "      <th></th>\n",
       "      <th>species</th>\n",
       "      <th>petal length (cm)</th>\n",
       "      <th>petal width (cm)</th>\n",
       "      <th>sepal length (cm)</th>\n",
       "      <th>sepal width (cm)</th>\n",
       "    </tr>\n",
       "  </thead>\n",
       "  <tbody>\n",
       "    <tr>\n",
       "      <th>0</th>\n",
       "      <td>setosa</td>\n",
       "      <td>1.4</td>\n",
       "      <td>0.2</td>\n",
       "      <td>5.1</td>\n",
       "      <td>3.5</td>\n",
       "    </tr>\n",
       "    <tr>\n",
       "      <th>1</th>\n",
       "      <td>setosa</td>\n",
       "      <td>1.4</td>\n",
       "      <td>0.2</td>\n",
       "      <td>4.9</td>\n",
       "      <td>3.0</td>\n",
       "    </tr>\n",
       "    <tr>\n",
       "      <th>2</th>\n",
       "      <td>setosa</td>\n",
       "      <td>1.3</td>\n",
       "      <td>0.2</td>\n",
       "      <td>4.7</td>\n",
       "      <td>3.2</td>\n",
       "    </tr>\n",
       "    <tr>\n",
       "      <th>3</th>\n",
       "      <td>setosa</td>\n",
       "      <td>1.5</td>\n",
       "      <td>0.2</td>\n",
       "      <td>4.6</td>\n",
       "      <td>3.1</td>\n",
       "    </tr>\n",
       "    <tr>\n",
       "      <th>4</th>\n",
       "      <td>setosa</td>\n",
       "      <td>1.4</td>\n",
       "      <td>0.2</td>\n",
       "      <td>5.0</td>\n",
       "      <td>3.6</td>\n",
       "    </tr>\n",
       "  </tbody>\n",
       "</table>\n",
       "</div>"
      ],
      "text/plain": [
       "  species  petal length (cm)  petal width (cm)  sepal length (cm)  \\\n",
       "0  setosa                1.4               0.2                5.1   \n",
       "1  setosa                1.4               0.2                4.9   \n",
       "2  setosa                1.3               0.2                4.7   \n",
       "3  setosa                1.5               0.2                4.6   \n",
       "4  setosa                1.4               0.2                5.0   \n",
       "\n",
       "   sepal width (cm)  \n",
       "0               3.5  \n",
       "1               3.0  \n",
       "2               3.2  \n",
       "3               3.1  \n",
       "4               3.6  "
      ]
     },
     "execution_count": 11,
     "metadata": {},
     "output_type": "execute_result"
    }
   ],
   "source": [
    "df_tidy.head()"
   ]
  },
  {
   "cell_type": "markdown",
   "metadata": {},
   "source": [
    "This command simply renames the column labeled level_1 by default to \"species.\""
   ]
  },
  {
   "cell_type": "markdown",
   "metadata": {},
   "source": [
    "**d)** Is the resulting `DataFrame` tidy? Why or why not?"
   ]
  },
  {
   "cell_type": "markdown",
   "metadata": {},
   "source": [
    "This DataFrame is tidy because it fulfills the requirements of tidy data, where each variable forms a column, each observation forms a row, and each type of observation unit forms a separate table. This table has one type of observational unit, and has each observation in a different row, with each variable as a different column. "
   ]
  },
  {
   "cell_type": "markdown",
   "metadata": {},
   "source": [
    "**e)** Using `df_tidy`, slice out all of the sepal lengths for I. versicolor as a Numpy array. "
   ]
  },
  {
   "cell_type": "code",
   "execution_count": 12,
   "metadata": {},
   "outputs": [
    {
     "data": {
      "text/html": [
       "<div>\n",
       "<style scoped>\n",
       "    .dataframe tbody tr th:only-of-type {\n",
       "        vertical-align: middle;\n",
       "    }\n",
       "\n",
       "    .dataframe tbody tr th {\n",
       "        vertical-align: top;\n",
       "    }\n",
       "\n",
       "    .dataframe thead th {\n",
       "        text-align: right;\n",
       "    }\n",
       "</style>\n",
       "<table border=\"1\" class=\"dataframe\">\n",
       "  <thead>\n",
       "    <tr style=\"text-align: right;\">\n",
       "      <th></th>\n",
       "      <th>sepal length (cm)</th>\n",
       "    </tr>\n",
       "  </thead>\n",
       "  <tbody>\n",
       "    <tr>\n",
       "      <th>0</th>\n",
       "      <td>7.0</td>\n",
       "    </tr>\n",
       "    <tr>\n",
       "      <th>1</th>\n",
       "      <td>6.4</td>\n",
       "    </tr>\n",
       "    <tr>\n",
       "      <th>2</th>\n",
       "      <td>6.9</td>\n",
       "    </tr>\n",
       "    <tr>\n",
       "      <th>3</th>\n",
       "      <td>5.5</td>\n",
       "    </tr>\n",
       "    <tr>\n",
       "      <th>4</th>\n",
       "      <td>6.5</td>\n",
       "    </tr>\n",
       "    <tr>\n",
       "      <th>5</th>\n",
       "      <td>5.7</td>\n",
       "    </tr>\n",
       "    <tr>\n",
       "      <th>6</th>\n",
       "      <td>6.3</td>\n",
       "    </tr>\n",
       "    <tr>\n",
       "      <th>7</th>\n",
       "      <td>4.9</td>\n",
       "    </tr>\n",
       "    <tr>\n",
       "      <th>8</th>\n",
       "      <td>6.6</td>\n",
       "    </tr>\n",
       "    <tr>\n",
       "      <th>9</th>\n",
       "      <td>5.2</td>\n",
       "    </tr>\n",
       "    <tr>\n",
       "      <th>10</th>\n",
       "      <td>5.0</td>\n",
       "    </tr>\n",
       "    <tr>\n",
       "      <th>11</th>\n",
       "      <td>5.9</td>\n",
       "    </tr>\n",
       "    <tr>\n",
       "      <th>12</th>\n",
       "      <td>6.0</td>\n",
       "    </tr>\n",
       "    <tr>\n",
       "      <th>13</th>\n",
       "      <td>6.1</td>\n",
       "    </tr>\n",
       "    <tr>\n",
       "      <th>14</th>\n",
       "      <td>5.6</td>\n",
       "    </tr>\n",
       "    <tr>\n",
       "      <th>15</th>\n",
       "      <td>6.7</td>\n",
       "    </tr>\n",
       "    <tr>\n",
       "      <th>16</th>\n",
       "      <td>5.6</td>\n",
       "    </tr>\n",
       "    <tr>\n",
       "      <th>17</th>\n",
       "      <td>5.8</td>\n",
       "    </tr>\n",
       "    <tr>\n",
       "      <th>18</th>\n",
       "      <td>6.2</td>\n",
       "    </tr>\n",
       "    <tr>\n",
       "      <th>19</th>\n",
       "      <td>5.6</td>\n",
       "    </tr>\n",
       "    <tr>\n",
       "      <th>20</th>\n",
       "      <td>5.9</td>\n",
       "    </tr>\n",
       "    <tr>\n",
       "      <th>21</th>\n",
       "      <td>6.1</td>\n",
       "    </tr>\n",
       "    <tr>\n",
       "      <th>22</th>\n",
       "      <td>6.3</td>\n",
       "    </tr>\n",
       "    <tr>\n",
       "      <th>23</th>\n",
       "      <td>6.1</td>\n",
       "    </tr>\n",
       "    <tr>\n",
       "      <th>24</th>\n",
       "      <td>6.4</td>\n",
       "    </tr>\n",
       "    <tr>\n",
       "      <th>25</th>\n",
       "      <td>6.6</td>\n",
       "    </tr>\n",
       "    <tr>\n",
       "      <th>26</th>\n",
       "      <td>6.8</td>\n",
       "    </tr>\n",
       "    <tr>\n",
       "      <th>27</th>\n",
       "      <td>6.7</td>\n",
       "    </tr>\n",
       "    <tr>\n",
       "      <th>28</th>\n",
       "      <td>6.0</td>\n",
       "    </tr>\n",
       "    <tr>\n",
       "      <th>29</th>\n",
       "      <td>5.7</td>\n",
       "    </tr>\n",
       "    <tr>\n",
       "      <th>30</th>\n",
       "      <td>5.5</td>\n",
       "    </tr>\n",
       "    <tr>\n",
       "      <th>31</th>\n",
       "      <td>5.5</td>\n",
       "    </tr>\n",
       "    <tr>\n",
       "      <th>32</th>\n",
       "      <td>5.8</td>\n",
       "    </tr>\n",
       "    <tr>\n",
       "      <th>33</th>\n",
       "      <td>6.0</td>\n",
       "    </tr>\n",
       "    <tr>\n",
       "      <th>34</th>\n",
       "      <td>5.4</td>\n",
       "    </tr>\n",
       "    <tr>\n",
       "      <th>35</th>\n",
       "      <td>6.0</td>\n",
       "    </tr>\n",
       "    <tr>\n",
       "      <th>36</th>\n",
       "      <td>6.7</td>\n",
       "    </tr>\n",
       "    <tr>\n",
       "      <th>37</th>\n",
       "      <td>6.3</td>\n",
       "    </tr>\n",
       "    <tr>\n",
       "      <th>38</th>\n",
       "      <td>5.6</td>\n",
       "    </tr>\n",
       "    <tr>\n",
       "      <th>39</th>\n",
       "      <td>5.5</td>\n",
       "    </tr>\n",
       "    <tr>\n",
       "      <th>40</th>\n",
       "      <td>5.5</td>\n",
       "    </tr>\n",
       "    <tr>\n",
       "      <th>41</th>\n",
       "      <td>6.1</td>\n",
       "    </tr>\n",
       "    <tr>\n",
       "      <th>42</th>\n",
       "      <td>5.8</td>\n",
       "    </tr>\n",
       "    <tr>\n",
       "      <th>43</th>\n",
       "      <td>5.0</td>\n",
       "    </tr>\n",
       "    <tr>\n",
       "      <th>44</th>\n",
       "      <td>5.6</td>\n",
       "    </tr>\n",
       "    <tr>\n",
       "      <th>45</th>\n",
       "      <td>5.7</td>\n",
       "    </tr>\n",
       "    <tr>\n",
       "      <th>46</th>\n",
       "      <td>5.7</td>\n",
       "    </tr>\n",
       "    <tr>\n",
       "      <th>47</th>\n",
       "      <td>6.2</td>\n",
       "    </tr>\n",
       "    <tr>\n",
       "      <th>48</th>\n",
       "      <td>5.1</td>\n",
       "    </tr>\n",
       "    <tr>\n",
       "      <th>49</th>\n",
       "      <td>5.7</td>\n",
       "    </tr>\n",
       "  </tbody>\n",
       "</table>\n",
       "</div>"
      ],
      "text/plain": [
       "    sepal length (cm)\n",
       "0                 7.0\n",
       "1                 6.4\n",
       "2                 6.9\n",
       "3                 5.5\n",
       "4                 6.5\n",
       "5                 5.7\n",
       "6                 6.3\n",
       "7                 4.9\n",
       "8                 6.6\n",
       "9                 5.2\n",
       "10                5.0\n",
       "11                5.9\n",
       "12                6.0\n",
       "13                6.1\n",
       "14                5.6\n",
       "15                6.7\n",
       "16                5.6\n",
       "17                5.8\n",
       "18                6.2\n",
       "19                5.6\n",
       "20                5.9\n",
       "21                6.1\n",
       "22                6.3\n",
       "23                6.1\n",
       "24                6.4\n",
       "25                6.6\n",
       "26                6.8\n",
       "27                6.7\n",
       "28                6.0\n",
       "29                5.7\n",
       "30                5.5\n",
       "31                5.5\n",
       "32                5.8\n",
       "33                6.0\n",
       "34                5.4\n",
       "35                6.0\n",
       "36                6.7\n",
       "37                6.3\n",
       "38                5.6\n",
       "39                5.5\n",
       "40                5.5\n",
       "41                6.1\n",
       "42                5.8\n",
       "43                5.0\n",
       "44                5.6\n",
       "45                5.7\n",
       "46                5.7\n",
       "47                6.2\n",
       "48                5.1\n",
       "49                5.7"
      ]
     },
     "execution_count": 12,
     "metadata": {},
     "output_type": "execute_result"
    }
   ],
   "source": [
    "species = df_tidy['species'] == 'versicolor'\n",
    "df_tidy[['sepal length (cm)']].loc[species,:]"
   ]
  },
  {
   "cell_type": "markdown",
   "metadata": {},
   "source": [
    "<br />"
   ]
  },
  {
   "cell_type": "markdown",
   "metadata": {},
   "source": [
    "### Exercise 2\n",
    "\n",
    "**a)** Make a scatter plot of sepal width versus petal length with the glyphs colored by species."
   ]
  },
  {
   "cell_type": "code",
   "execution_count": 13,
   "metadata": {},
   "outputs": [
    {
     "data": {
      "application/vnd.vegalite.v2+json": {
       "$schema": "https://vega.github.io/schema/vega-lite/v2.6.0.json",
       "config": {
        "view": {
         "height": 300,
         "width": 400
        }
       },
       "data": {
        "name": "data-f50ba617f8f217538f0b067a42802046"
       },
       "datasets": {
        "data-f50ba617f8f217538f0b067a42802046": [
         {
          "petal length (cm)": 1.4,
          "petal width (cm)": 0.2,
          "sepal length (cm)": 5.1,
          "sepal width (cm)": 3.5,
          "species": "setosa"
         },
         {
          "petal length (cm)": 1.4,
          "petal width (cm)": 0.2,
          "sepal length (cm)": 4.9,
          "sepal width (cm)": 3,
          "species": "setosa"
         },
         {
          "petal length (cm)": 1.3,
          "petal width (cm)": 0.2,
          "sepal length (cm)": 4.7,
          "sepal width (cm)": 3.2,
          "species": "setosa"
         },
         {
          "petal length (cm)": 1.5,
          "petal width (cm)": 0.2,
          "sepal length (cm)": 4.6,
          "sepal width (cm)": 3.1,
          "species": "setosa"
         },
         {
          "petal length (cm)": 1.4,
          "petal width (cm)": 0.2,
          "sepal length (cm)": 5,
          "sepal width (cm)": 3.6,
          "species": "setosa"
         },
         {
          "petal length (cm)": 1.7,
          "petal width (cm)": 0.4,
          "sepal length (cm)": 5.4,
          "sepal width (cm)": 3.9,
          "species": "setosa"
         },
         {
          "petal length (cm)": 1.4,
          "petal width (cm)": 0.3,
          "sepal length (cm)": 4.6,
          "sepal width (cm)": 3.4,
          "species": "setosa"
         },
         {
          "petal length (cm)": 1.5,
          "petal width (cm)": 0.2,
          "sepal length (cm)": 5,
          "sepal width (cm)": 3.4,
          "species": "setosa"
         },
         {
          "petal length (cm)": 1.4,
          "petal width (cm)": 0.2,
          "sepal length (cm)": 4.4,
          "sepal width (cm)": 2.9,
          "species": "setosa"
         },
         {
          "petal length (cm)": 1.5,
          "petal width (cm)": 0.1,
          "sepal length (cm)": 4.9,
          "sepal width (cm)": 3.1,
          "species": "setosa"
         },
         {
          "petal length (cm)": 1.5,
          "petal width (cm)": 0.2,
          "sepal length (cm)": 5.4,
          "sepal width (cm)": 3.7,
          "species": "setosa"
         },
         {
          "petal length (cm)": 1.6,
          "petal width (cm)": 0.2,
          "sepal length (cm)": 4.8,
          "sepal width (cm)": 3.4,
          "species": "setosa"
         },
         {
          "petal length (cm)": 1.4,
          "petal width (cm)": 0.1,
          "sepal length (cm)": 4.8,
          "sepal width (cm)": 3,
          "species": "setosa"
         },
         {
          "petal length (cm)": 1.1,
          "petal width (cm)": 0.1,
          "sepal length (cm)": 4.3,
          "sepal width (cm)": 3,
          "species": "setosa"
         },
         {
          "petal length (cm)": 1.2,
          "petal width (cm)": 0.2,
          "sepal length (cm)": 5.8,
          "sepal width (cm)": 4,
          "species": "setosa"
         },
         {
          "petal length (cm)": 1.5,
          "petal width (cm)": 0.4,
          "sepal length (cm)": 5.7,
          "sepal width (cm)": 4.4,
          "species": "setosa"
         },
         {
          "petal length (cm)": 1.3,
          "petal width (cm)": 0.4,
          "sepal length (cm)": 5.4,
          "sepal width (cm)": 3.9,
          "species": "setosa"
         },
         {
          "petal length (cm)": 1.4,
          "petal width (cm)": 0.3,
          "sepal length (cm)": 5.1,
          "sepal width (cm)": 3.5,
          "species": "setosa"
         },
         {
          "petal length (cm)": 1.7,
          "petal width (cm)": 0.3,
          "sepal length (cm)": 5.7,
          "sepal width (cm)": 3.8,
          "species": "setosa"
         },
         {
          "petal length (cm)": 1.5,
          "petal width (cm)": 0.3,
          "sepal length (cm)": 5.1,
          "sepal width (cm)": 3.8,
          "species": "setosa"
         },
         {
          "petal length (cm)": 1.7,
          "petal width (cm)": 0.2,
          "sepal length (cm)": 5.4,
          "sepal width (cm)": 3.4,
          "species": "setosa"
         },
         {
          "petal length (cm)": 1.5,
          "petal width (cm)": 0.4,
          "sepal length (cm)": 5.1,
          "sepal width (cm)": 3.7,
          "species": "setosa"
         },
         {
          "petal length (cm)": 1,
          "petal width (cm)": 0.2,
          "sepal length (cm)": 4.6,
          "sepal width (cm)": 3.6,
          "species": "setosa"
         },
         {
          "petal length (cm)": 1.7,
          "petal width (cm)": 0.5,
          "sepal length (cm)": 5.1,
          "sepal width (cm)": 3.3,
          "species": "setosa"
         },
         {
          "petal length (cm)": 1.9,
          "petal width (cm)": 0.2,
          "sepal length (cm)": 4.8,
          "sepal width (cm)": 3.4,
          "species": "setosa"
         },
         {
          "petal length (cm)": 1.6,
          "petal width (cm)": 0.2,
          "sepal length (cm)": 5,
          "sepal width (cm)": 3,
          "species": "setosa"
         },
         {
          "petal length (cm)": 1.6,
          "petal width (cm)": 0.4,
          "sepal length (cm)": 5,
          "sepal width (cm)": 3.4,
          "species": "setosa"
         },
         {
          "petal length (cm)": 1.5,
          "petal width (cm)": 0.2,
          "sepal length (cm)": 5.2,
          "sepal width (cm)": 3.5,
          "species": "setosa"
         },
         {
          "petal length (cm)": 1.4,
          "petal width (cm)": 0.2,
          "sepal length (cm)": 5.2,
          "sepal width (cm)": 3.4,
          "species": "setosa"
         },
         {
          "petal length (cm)": 1.6,
          "petal width (cm)": 0.2,
          "sepal length (cm)": 4.7,
          "sepal width (cm)": 3.2,
          "species": "setosa"
         },
         {
          "petal length (cm)": 1.6,
          "petal width (cm)": 0.2,
          "sepal length (cm)": 4.8,
          "sepal width (cm)": 3.1,
          "species": "setosa"
         },
         {
          "petal length (cm)": 1.5,
          "petal width (cm)": 0.4,
          "sepal length (cm)": 5.4,
          "sepal width (cm)": 3.4,
          "species": "setosa"
         },
         {
          "petal length (cm)": 1.5,
          "petal width (cm)": 0.1,
          "sepal length (cm)": 5.2,
          "sepal width (cm)": 4.1,
          "species": "setosa"
         },
         {
          "petal length (cm)": 1.4,
          "petal width (cm)": 0.2,
          "sepal length (cm)": 5.5,
          "sepal width (cm)": 4.2,
          "species": "setosa"
         },
         {
          "petal length (cm)": 1.5,
          "petal width (cm)": 0.1,
          "sepal length (cm)": 4.9,
          "sepal width (cm)": 3.1,
          "species": "setosa"
         },
         {
          "petal length (cm)": 1.2,
          "petal width (cm)": 0.2,
          "sepal length (cm)": 5,
          "sepal width (cm)": 3.2,
          "species": "setosa"
         },
         {
          "petal length (cm)": 1.3,
          "petal width (cm)": 0.2,
          "sepal length (cm)": 5.5,
          "sepal width (cm)": 3.5,
          "species": "setosa"
         },
         {
          "petal length (cm)": 1.5,
          "petal width (cm)": 0.1,
          "sepal length (cm)": 4.9,
          "sepal width (cm)": 3.1,
          "species": "setosa"
         },
         {
          "petal length (cm)": 1.3,
          "petal width (cm)": 0.2,
          "sepal length (cm)": 4.4,
          "sepal width (cm)": 3,
          "species": "setosa"
         },
         {
          "petal length (cm)": 1.5,
          "petal width (cm)": 0.2,
          "sepal length (cm)": 5.1,
          "sepal width (cm)": 3.4,
          "species": "setosa"
         },
         {
          "petal length (cm)": 1.3,
          "petal width (cm)": 0.3,
          "sepal length (cm)": 5,
          "sepal width (cm)": 3.5,
          "species": "setosa"
         },
         {
          "petal length (cm)": 1.3,
          "petal width (cm)": 0.3,
          "sepal length (cm)": 4.5,
          "sepal width (cm)": 2.3,
          "species": "setosa"
         },
         {
          "petal length (cm)": 1.3,
          "petal width (cm)": 0.2,
          "sepal length (cm)": 4.4,
          "sepal width (cm)": 3.2,
          "species": "setosa"
         },
         {
          "petal length (cm)": 1.6,
          "petal width (cm)": 0.6,
          "sepal length (cm)": 5,
          "sepal width (cm)": 3.5,
          "species": "setosa"
         },
         {
          "petal length (cm)": 1.9,
          "petal width (cm)": 0.4,
          "sepal length (cm)": 5.1,
          "sepal width (cm)": 3.8,
          "species": "setosa"
         },
         {
          "petal length (cm)": 1.4,
          "petal width (cm)": 0.3,
          "sepal length (cm)": 4.8,
          "sepal width (cm)": 3,
          "species": "setosa"
         },
         {
          "petal length (cm)": 1.6,
          "petal width (cm)": 0.2,
          "sepal length (cm)": 5.1,
          "sepal width (cm)": 3.8,
          "species": "setosa"
         },
         {
          "petal length (cm)": 1.4,
          "petal width (cm)": 0.2,
          "sepal length (cm)": 4.6,
          "sepal width (cm)": 3.2,
          "species": "setosa"
         },
         {
          "petal length (cm)": 1.5,
          "petal width (cm)": 0.2,
          "sepal length (cm)": 5.3,
          "sepal width (cm)": 3.7,
          "species": "setosa"
         },
         {
          "petal length (cm)": 1.4,
          "petal width (cm)": 0.2,
          "sepal length (cm)": 5,
          "sepal width (cm)": 3.3,
          "species": "setosa"
         },
         {
          "petal length (cm)": 4.7,
          "petal width (cm)": 1.4,
          "sepal length (cm)": 7,
          "sepal width (cm)": 3.2,
          "species": "versicolor"
         },
         {
          "petal length (cm)": 4.5,
          "petal width (cm)": 1.5,
          "sepal length (cm)": 6.4,
          "sepal width (cm)": 3.2,
          "species": "versicolor"
         },
         {
          "petal length (cm)": 4.9,
          "petal width (cm)": 1.5,
          "sepal length (cm)": 6.9,
          "sepal width (cm)": 3.1,
          "species": "versicolor"
         },
         {
          "petal length (cm)": 4,
          "petal width (cm)": 1.3,
          "sepal length (cm)": 5.5,
          "sepal width (cm)": 2.3,
          "species": "versicolor"
         },
         {
          "petal length (cm)": 4.6,
          "petal width (cm)": 1.5,
          "sepal length (cm)": 6.5,
          "sepal width (cm)": 2.8,
          "species": "versicolor"
         },
         {
          "petal length (cm)": 4.5,
          "petal width (cm)": 1.3,
          "sepal length (cm)": 5.7,
          "sepal width (cm)": 2.8,
          "species": "versicolor"
         },
         {
          "petal length (cm)": 4.7,
          "petal width (cm)": 1.6,
          "sepal length (cm)": 6.3,
          "sepal width (cm)": 3.3,
          "species": "versicolor"
         },
         {
          "petal length (cm)": 3.3,
          "petal width (cm)": 1,
          "sepal length (cm)": 4.9,
          "sepal width (cm)": 2.4,
          "species": "versicolor"
         },
         {
          "petal length (cm)": 4.6,
          "petal width (cm)": 1.3,
          "sepal length (cm)": 6.6,
          "sepal width (cm)": 2.9,
          "species": "versicolor"
         },
         {
          "petal length (cm)": 3.9,
          "petal width (cm)": 1.4,
          "sepal length (cm)": 5.2,
          "sepal width (cm)": 2.7,
          "species": "versicolor"
         },
         {
          "petal length (cm)": 3.5,
          "petal width (cm)": 1,
          "sepal length (cm)": 5,
          "sepal width (cm)": 2,
          "species": "versicolor"
         },
         {
          "petal length (cm)": 4.2,
          "petal width (cm)": 1.5,
          "sepal length (cm)": 5.9,
          "sepal width (cm)": 3,
          "species": "versicolor"
         },
         {
          "petal length (cm)": 4,
          "petal width (cm)": 1,
          "sepal length (cm)": 6,
          "sepal width (cm)": 2.2,
          "species": "versicolor"
         },
         {
          "petal length (cm)": 4.7,
          "petal width (cm)": 1.4,
          "sepal length (cm)": 6.1,
          "sepal width (cm)": 2.9,
          "species": "versicolor"
         },
         {
          "petal length (cm)": 3.6,
          "petal width (cm)": 1.3,
          "sepal length (cm)": 5.6,
          "sepal width (cm)": 2.9,
          "species": "versicolor"
         },
         {
          "petal length (cm)": 4.4,
          "petal width (cm)": 1.4,
          "sepal length (cm)": 6.7,
          "sepal width (cm)": 3.1,
          "species": "versicolor"
         },
         {
          "petal length (cm)": 4.5,
          "petal width (cm)": 1.5,
          "sepal length (cm)": 5.6,
          "sepal width (cm)": 3,
          "species": "versicolor"
         },
         {
          "petal length (cm)": 4.1,
          "petal width (cm)": 1,
          "sepal length (cm)": 5.8,
          "sepal width (cm)": 2.7,
          "species": "versicolor"
         },
         {
          "petal length (cm)": 4.5,
          "petal width (cm)": 1.5,
          "sepal length (cm)": 6.2,
          "sepal width (cm)": 2.2,
          "species": "versicolor"
         },
         {
          "petal length (cm)": 3.9,
          "petal width (cm)": 1.1,
          "sepal length (cm)": 5.6,
          "sepal width (cm)": 2.5,
          "species": "versicolor"
         },
         {
          "petal length (cm)": 4.8,
          "petal width (cm)": 1.8,
          "sepal length (cm)": 5.9,
          "sepal width (cm)": 3.2,
          "species": "versicolor"
         },
         {
          "petal length (cm)": 4,
          "petal width (cm)": 1.3,
          "sepal length (cm)": 6.1,
          "sepal width (cm)": 2.8,
          "species": "versicolor"
         },
         {
          "petal length (cm)": 4.9,
          "petal width (cm)": 1.5,
          "sepal length (cm)": 6.3,
          "sepal width (cm)": 2.5,
          "species": "versicolor"
         },
         {
          "petal length (cm)": 4.7,
          "petal width (cm)": 1.2,
          "sepal length (cm)": 6.1,
          "sepal width (cm)": 2.8,
          "species": "versicolor"
         },
         {
          "petal length (cm)": 4.3,
          "petal width (cm)": 1.3,
          "sepal length (cm)": 6.4,
          "sepal width (cm)": 2.9,
          "species": "versicolor"
         },
         {
          "petal length (cm)": 4.4,
          "petal width (cm)": 1.4,
          "sepal length (cm)": 6.6,
          "sepal width (cm)": 3,
          "species": "versicolor"
         },
         {
          "petal length (cm)": 4.8,
          "petal width (cm)": 1.4,
          "sepal length (cm)": 6.8,
          "sepal width (cm)": 2.8,
          "species": "versicolor"
         },
         {
          "petal length (cm)": 5,
          "petal width (cm)": 1.7,
          "sepal length (cm)": 6.7,
          "sepal width (cm)": 3,
          "species": "versicolor"
         },
         {
          "petal length (cm)": 4.5,
          "petal width (cm)": 1.5,
          "sepal length (cm)": 6,
          "sepal width (cm)": 2.9,
          "species": "versicolor"
         },
         {
          "petal length (cm)": 3.5,
          "petal width (cm)": 1,
          "sepal length (cm)": 5.7,
          "sepal width (cm)": 2.6,
          "species": "versicolor"
         },
         {
          "petal length (cm)": 3.8,
          "petal width (cm)": 1.1,
          "sepal length (cm)": 5.5,
          "sepal width (cm)": 2.4,
          "species": "versicolor"
         },
         {
          "petal length (cm)": 3.7,
          "petal width (cm)": 1,
          "sepal length (cm)": 5.5,
          "sepal width (cm)": 2.4,
          "species": "versicolor"
         },
         {
          "petal length (cm)": 3.9,
          "petal width (cm)": 1.2,
          "sepal length (cm)": 5.8,
          "sepal width (cm)": 2.7,
          "species": "versicolor"
         },
         {
          "petal length (cm)": 5.1,
          "petal width (cm)": 1.6,
          "sepal length (cm)": 6,
          "sepal width (cm)": 2.7,
          "species": "versicolor"
         },
         {
          "petal length (cm)": 4.5,
          "petal width (cm)": 1.5,
          "sepal length (cm)": 5.4,
          "sepal width (cm)": 3,
          "species": "versicolor"
         },
         {
          "petal length (cm)": 4.5,
          "petal width (cm)": 1.6,
          "sepal length (cm)": 6,
          "sepal width (cm)": 3.4,
          "species": "versicolor"
         },
         {
          "petal length (cm)": 4.7,
          "petal width (cm)": 1.5,
          "sepal length (cm)": 6.7,
          "sepal width (cm)": 3.1,
          "species": "versicolor"
         },
         {
          "petal length (cm)": 4.4,
          "petal width (cm)": 1.3,
          "sepal length (cm)": 6.3,
          "sepal width (cm)": 2.3,
          "species": "versicolor"
         },
         {
          "petal length (cm)": 4.1,
          "petal width (cm)": 1.3,
          "sepal length (cm)": 5.6,
          "sepal width (cm)": 3,
          "species": "versicolor"
         },
         {
          "petal length (cm)": 4,
          "petal width (cm)": 1.3,
          "sepal length (cm)": 5.5,
          "sepal width (cm)": 2.5,
          "species": "versicolor"
         },
         {
          "petal length (cm)": 4.4,
          "petal width (cm)": 1.2,
          "sepal length (cm)": 5.5,
          "sepal width (cm)": 2.6,
          "species": "versicolor"
         },
         {
          "petal length (cm)": 4.6,
          "petal width (cm)": 1.4,
          "sepal length (cm)": 6.1,
          "sepal width (cm)": 3,
          "species": "versicolor"
         },
         {
          "petal length (cm)": 4,
          "petal width (cm)": 1.2,
          "sepal length (cm)": 5.8,
          "sepal width (cm)": 2.6,
          "species": "versicolor"
         },
         {
          "petal length (cm)": 3.3,
          "petal width (cm)": 1,
          "sepal length (cm)": 5,
          "sepal width (cm)": 2.3,
          "species": "versicolor"
         },
         {
          "petal length (cm)": 4.2,
          "petal width (cm)": 1.3,
          "sepal length (cm)": 5.6,
          "sepal width (cm)": 2.7,
          "species": "versicolor"
         },
         {
          "petal length (cm)": 4.2,
          "petal width (cm)": 1.2,
          "sepal length (cm)": 5.7,
          "sepal width (cm)": 3,
          "species": "versicolor"
         },
         {
          "petal length (cm)": 4.2,
          "petal width (cm)": 1.3,
          "sepal length (cm)": 5.7,
          "sepal width (cm)": 2.9,
          "species": "versicolor"
         },
         {
          "petal length (cm)": 4.3,
          "petal width (cm)": 1.3,
          "sepal length (cm)": 6.2,
          "sepal width (cm)": 2.9,
          "species": "versicolor"
         },
         {
          "petal length (cm)": 3,
          "petal width (cm)": 1.1,
          "sepal length (cm)": 5.1,
          "sepal width (cm)": 2.5,
          "species": "versicolor"
         },
         {
          "petal length (cm)": 4.1,
          "petal width (cm)": 1.3,
          "sepal length (cm)": 5.7,
          "sepal width (cm)": 2.8,
          "species": "versicolor"
         },
         {
          "petal length (cm)": 6,
          "petal width (cm)": 2.5,
          "sepal length (cm)": 6.3,
          "sepal width (cm)": 3.3,
          "species": "virginica"
         },
         {
          "petal length (cm)": 5.1,
          "petal width (cm)": 1.9,
          "sepal length (cm)": 5.8,
          "sepal width (cm)": 2.7,
          "species": "virginica"
         },
         {
          "petal length (cm)": 5.9,
          "petal width (cm)": 2.1,
          "sepal length (cm)": 7.1,
          "sepal width (cm)": 3,
          "species": "virginica"
         },
         {
          "petal length (cm)": 5.6,
          "petal width (cm)": 1.8,
          "sepal length (cm)": 6.3,
          "sepal width (cm)": 2.9,
          "species": "virginica"
         },
         {
          "petal length (cm)": 5.8,
          "petal width (cm)": 2.2,
          "sepal length (cm)": 6.5,
          "sepal width (cm)": 3,
          "species": "virginica"
         },
         {
          "petal length (cm)": 6.6,
          "petal width (cm)": 2.1,
          "sepal length (cm)": 7.6,
          "sepal width (cm)": 3,
          "species": "virginica"
         },
         {
          "petal length (cm)": 4.5,
          "petal width (cm)": 1.7,
          "sepal length (cm)": 4.9,
          "sepal width (cm)": 2.5,
          "species": "virginica"
         },
         {
          "petal length (cm)": 6.3,
          "petal width (cm)": 1.8,
          "sepal length (cm)": 7.3,
          "sepal width (cm)": 2.9,
          "species": "virginica"
         },
         {
          "petal length (cm)": 5.8,
          "petal width (cm)": 1.8,
          "sepal length (cm)": 6.7,
          "sepal width (cm)": 2.5,
          "species": "virginica"
         },
         {
          "petal length (cm)": 6.1,
          "petal width (cm)": 2.5,
          "sepal length (cm)": 7.2,
          "sepal width (cm)": 3.6,
          "species": "virginica"
         },
         {
          "petal length (cm)": 5.1,
          "petal width (cm)": 2,
          "sepal length (cm)": 6.5,
          "sepal width (cm)": 3.2,
          "species": "virginica"
         },
         {
          "petal length (cm)": 5.3,
          "petal width (cm)": 1.9,
          "sepal length (cm)": 6.4,
          "sepal width (cm)": 2.7,
          "species": "virginica"
         },
         {
          "petal length (cm)": 5.5,
          "petal width (cm)": 2.1,
          "sepal length (cm)": 6.8,
          "sepal width (cm)": 3,
          "species": "virginica"
         },
         {
          "petal length (cm)": 5,
          "petal width (cm)": 2,
          "sepal length (cm)": 5.7,
          "sepal width (cm)": 2.5,
          "species": "virginica"
         },
         {
          "petal length (cm)": 5.1,
          "petal width (cm)": 2.4,
          "sepal length (cm)": 5.8,
          "sepal width (cm)": 2.8,
          "species": "virginica"
         },
         {
          "petal length (cm)": 5.3,
          "petal width (cm)": 2.3,
          "sepal length (cm)": 6.4,
          "sepal width (cm)": 3.2,
          "species": "virginica"
         },
         {
          "petal length (cm)": 5.5,
          "petal width (cm)": 1.8,
          "sepal length (cm)": 6.5,
          "sepal width (cm)": 3,
          "species": "virginica"
         },
         {
          "petal length (cm)": 6.7,
          "petal width (cm)": 2.2,
          "sepal length (cm)": 7.7,
          "sepal width (cm)": 3.8,
          "species": "virginica"
         },
         {
          "petal length (cm)": 6.9,
          "petal width (cm)": 2.3,
          "sepal length (cm)": 7.7,
          "sepal width (cm)": 2.6,
          "species": "virginica"
         },
         {
          "petal length (cm)": 5,
          "petal width (cm)": 1.5,
          "sepal length (cm)": 6,
          "sepal width (cm)": 2.2,
          "species": "virginica"
         },
         {
          "petal length (cm)": 5.7,
          "petal width (cm)": 2.3,
          "sepal length (cm)": 6.9,
          "sepal width (cm)": 3.2,
          "species": "virginica"
         },
         {
          "petal length (cm)": 4.9,
          "petal width (cm)": 2,
          "sepal length (cm)": 5.6,
          "sepal width (cm)": 2.8,
          "species": "virginica"
         },
         {
          "petal length (cm)": 6.7,
          "petal width (cm)": 2,
          "sepal length (cm)": 7.7,
          "sepal width (cm)": 2.8,
          "species": "virginica"
         },
         {
          "petal length (cm)": 4.9,
          "petal width (cm)": 1.8,
          "sepal length (cm)": 6.3,
          "sepal width (cm)": 2.7,
          "species": "virginica"
         },
         {
          "petal length (cm)": 5.7,
          "petal width (cm)": 2.1,
          "sepal length (cm)": 6.7,
          "sepal width (cm)": 3.3,
          "species": "virginica"
         },
         {
          "petal length (cm)": 6,
          "petal width (cm)": 1.8,
          "sepal length (cm)": 7.2,
          "sepal width (cm)": 3.2,
          "species": "virginica"
         },
         {
          "petal length (cm)": 4.8,
          "petal width (cm)": 1.8,
          "sepal length (cm)": 6.2,
          "sepal width (cm)": 2.8,
          "species": "virginica"
         },
         {
          "petal length (cm)": 4.9,
          "petal width (cm)": 1.8,
          "sepal length (cm)": 6.1,
          "sepal width (cm)": 3,
          "species": "virginica"
         },
         {
          "petal length (cm)": 5.6,
          "petal width (cm)": 2.1,
          "sepal length (cm)": 6.4,
          "sepal width (cm)": 2.8,
          "species": "virginica"
         },
         {
          "petal length (cm)": 5.8,
          "petal width (cm)": 1.6,
          "sepal length (cm)": 7.2,
          "sepal width (cm)": 3,
          "species": "virginica"
         },
         {
          "petal length (cm)": 6.1,
          "petal width (cm)": 1.9,
          "sepal length (cm)": 7.4,
          "sepal width (cm)": 2.8,
          "species": "virginica"
         },
         {
          "petal length (cm)": 6.4,
          "petal width (cm)": 2,
          "sepal length (cm)": 7.9,
          "sepal width (cm)": 3.8,
          "species": "virginica"
         },
         {
          "petal length (cm)": 5.6,
          "petal width (cm)": 2.2,
          "sepal length (cm)": 6.4,
          "sepal width (cm)": 2.8,
          "species": "virginica"
         },
         {
          "petal length (cm)": 5.1,
          "petal width (cm)": 1.5,
          "sepal length (cm)": 6.3,
          "sepal width (cm)": 2.8,
          "species": "virginica"
         },
         {
          "petal length (cm)": 5.6,
          "petal width (cm)": 1.4,
          "sepal length (cm)": 6.1,
          "sepal width (cm)": 2.6,
          "species": "virginica"
         },
         {
          "petal length (cm)": 6.1,
          "petal width (cm)": 2.3,
          "sepal length (cm)": 7.7,
          "sepal width (cm)": 3,
          "species": "virginica"
         },
         {
          "petal length (cm)": 5.6,
          "petal width (cm)": 2.4,
          "sepal length (cm)": 6.3,
          "sepal width (cm)": 3.4,
          "species": "virginica"
         },
         {
          "petal length (cm)": 5.5,
          "petal width (cm)": 1.8,
          "sepal length (cm)": 6.4,
          "sepal width (cm)": 3.1,
          "species": "virginica"
         },
         {
          "petal length (cm)": 4.8,
          "petal width (cm)": 1.8,
          "sepal length (cm)": 6,
          "sepal width (cm)": 3,
          "species": "virginica"
         },
         {
          "petal length (cm)": 5.4,
          "petal width (cm)": 2.1,
          "sepal length (cm)": 6.9,
          "sepal width (cm)": 3.1,
          "species": "virginica"
         },
         {
          "petal length (cm)": 5.6,
          "petal width (cm)": 2.4,
          "sepal length (cm)": 6.7,
          "sepal width (cm)": 3.1,
          "species": "virginica"
         },
         {
          "petal length (cm)": 5.1,
          "petal width (cm)": 2.3,
          "sepal length (cm)": 6.9,
          "sepal width (cm)": 3.1,
          "species": "virginica"
         },
         {
          "petal length (cm)": 5.1,
          "petal width (cm)": 1.9,
          "sepal length (cm)": 5.8,
          "sepal width (cm)": 2.7,
          "species": "virginica"
         },
         {
          "petal length (cm)": 5.9,
          "petal width (cm)": 2.3,
          "sepal length (cm)": 6.8,
          "sepal width (cm)": 3.2,
          "species": "virginica"
         },
         {
          "petal length (cm)": 5.7,
          "petal width (cm)": 2.5,
          "sepal length (cm)": 6.7,
          "sepal width (cm)": 3.3,
          "species": "virginica"
         },
         {
          "petal length (cm)": 5.2,
          "petal width (cm)": 2.3,
          "sepal length (cm)": 6.7,
          "sepal width (cm)": 3,
          "species": "virginica"
         },
         {
          "petal length (cm)": 5,
          "petal width (cm)": 1.9,
          "sepal length (cm)": 6.3,
          "sepal width (cm)": 2.5,
          "species": "virginica"
         },
         {
          "petal length (cm)": 5.2,
          "petal width (cm)": 2,
          "sepal length (cm)": 6.5,
          "sepal width (cm)": 3,
          "species": "virginica"
         },
         {
          "petal length (cm)": 5.4,
          "petal width (cm)": 2.3,
          "sepal length (cm)": 6.2,
          "sepal width (cm)": 3.4,
          "species": "virginica"
         },
         {
          "petal length (cm)": 5.1,
          "petal width (cm)": 1.8,
          "sepal length (cm)": 5.9,
          "sepal width (cm)": 3,
          "species": "virginica"
         }
        ]
       },
       "encoding": {
        "color": {
         "field": "species",
         "title": "species",
         "type": "nominal"
        },
        "x": {
         "field": "sepal width (cm)",
         "type": "quantitative"
        },
        "y": {
         "field": "petal length (cm)",
         "type": "quantitative"
        }
       },
       "mark": "point",
       "selection": {
        "selector001": {
         "bind": "scales",
         "encodings": [
          "x",
          "y"
         ],
         "mark": {
          "fill": "#333",
          "fillOpacity": 0.125,
          "stroke": "white"
         },
         "on": "[mousedown, window:mouseup] > window:mousemove!",
         "resolve": "global",
         "translate": "[mousedown, window:mouseup] > window:mousemove!",
         "type": "interval",
         "zoom": "wheel!"
        }
       }
      },
      "image/png": "[encoded data removed]",
      "text/plain": [
       "<VegaLite 2 object>\n",
       "\n",
       "If you see this message, it means the renderer has not been properly enabled\n",
       "for the frontend that you are using. For more information, see\n",
       "https://altair-viz.github.io/user_guide/troubleshooting.html\n"
      ]
     },
     "execution_count": 13,
     "metadata": {},
     "output_type": "execute_result"
    }
   ],
   "source": [
    "alt.Chart(df_tidy\n",
    "    ).mark_point(\n",
    "    ).encode(\n",
    "        x = 'sepal width (cm)',\n",
    "        y = 'petal length (cm)',\n",
    "        color=alt.Color('species', title = 'species')\n",
    "    ).interactive()"
   ]
  },
  {
   "cell_type": "markdown",
   "metadata": {},
   "source": [
    "**b)** Make a plot comparing the petal widths of the respective species. Comment on why you chose the plot you chose."
   ]
  },
  {
   "cell_type": "code",
   "execution_count": 19,
   "metadata": {},
   "outputs": [
    {
     "ename": "TypeError",
     "evalue": "'in <string>' requires string as left operand, not type",
     "output_type": "error",
     "traceback": [
      "\u001b[0;31m---------------------------------------------------------------------------\u001b[0m",
      "\u001b[0;31mTypeError\u001b[0m                                 Traceback (most recent call last)",
      "\u001b[0;32m<ipython-input-19-d77fe596347a>\u001b[0m in \u001b[0;36m<module>\u001b[0;34m()\u001b[0m\n\u001b[1;32m      3\u001b[0m                              \u001b[0my\u001b[0m\u001b[0;34m=\u001b[0m\u001b[0;34m'sepal width (cm)'\u001b[0m\u001b[0;34m,\u001b[0m\u001b[0;34m\u001b[0m\u001b[0m\n\u001b[1;32m      4\u001b[0m                              color=alt.Color('species', legend=None)),\n\u001b[0;32m----> 5\u001b[0;31m                \u001b[0mtransform\u001b[0m \u001b[0;34m=\u001b[0m \u001b[0;34m\"box\"\u001b[0m\u001b[0;34m\u001b[0m\u001b[0m\n\u001b[0m\u001b[1;32m      6\u001b[0m               \u001b[0;34m)\u001b[0m\u001b[0;34m.\u001b[0m\u001b[0mconfigure_bar\u001b[0m\u001b[0;34m(\u001b[0m\u001b[0;34m\u001b[0m\u001b[0m\n\u001b[1;32m      7\u001b[0m                     \u001b[0mfillOpacity\u001b[0m\u001b[0;34m=\u001b[0m\u001b[0;36m0.75\u001b[0m\u001b[0;34m\u001b[0m\u001b[0m\n",
      "\u001b[0;32m/anaconda3/lib/python3.6/site-packages/altair_catplot/catplot.py\u001b[0m in \u001b[0;36mcatplot\u001b[0;34m(data, height, width, mark, encoding, transform, sort, jitter_width, box_mark, whisker_mark, box_overlay, **kwargs)\u001b[0m\n\u001b[1;32m    130\u001b[0m                          \u001b[0mencoding\u001b[0m\u001b[0;34m,\u001b[0m\u001b[0;34m\u001b[0m\u001b[0m\n\u001b[1;32m    131\u001b[0m                          \u001b[0msort\u001b[0m\u001b[0;34m,\u001b[0m\u001b[0;34m\u001b[0m\u001b[0m\n\u001b[0;32m--> 132\u001b[0;31m                          **kwargs)\n\u001b[0m\u001b[1;32m    133\u001b[0m     \u001b[0;32melif\u001b[0m \u001b[0mtransform\u001b[0m \u001b[0;34m==\u001b[0m \u001b[0;34m'jitter'\u001b[0m\u001b[0;34m:\u001b[0m\u001b[0;34m\u001b[0m\u001b[0m\n\u001b[1;32m    134\u001b[0m         return _jitter_plot(data, \n",
      "\u001b[0;32m/anaconda3/lib/python3.6/site-packages/altair_catplot/box.py\u001b[0m in \u001b[0;36m_box_plot\u001b[0;34m(data, height, width, mark, box_mark, whisker_mark, encoding, sort, **kwargs)\u001b[0m\n\u001b[1;32m     20\u001b[0m      \u001b[0mencoding_top_whisker\u001b[0m\u001b[0;34m,\u001b[0m \u001b[0mencoding_bottom_cap\u001b[0m\u001b[0;34m,\u001b[0m \u001b[0mencoding_top_cap\u001b[0m\u001b[0;34m,\u001b[0m\u001b[0;34m\u001b[0m\u001b[0m\n\u001b[1;32m     21\u001b[0m      \u001b[0mencoding_outliers\u001b[0m\u001b[0;34m,\u001b[0m \u001b[0mcat\u001b[0m\u001b[0;34m,\u001b[0m \u001b[0mval\u001b[0m\u001b[0;34m,\u001b[0m\u001b[0;34m\u001b[0m\u001b[0m\n\u001b[0;32m---> 22\u001b[0;31m      horizontal) = _parse_encoding_box(encoding, sort)\n\u001b[0m\u001b[1;32m     23\u001b[0m \u001b[0;34m\u001b[0m\u001b[0m\n\u001b[1;32m     24\u001b[0m     \u001b[0m_check_catplot_sort\u001b[0m\u001b[0;34m(\u001b[0m\u001b[0mdata\u001b[0m\u001b[0;34m,\u001b[0m \u001b[0mcat\u001b[0m\u001b[0;34m,\u001b[0m \u001b[0msort\u001b[0m\u001b[0;34m)\u001b[0m\u001b[0;34m\u001b[0m\u001b[0m\n",
      "\u001b[0;32m/anaconda3/lib/python3.6/site-packages/altair_catplot/box.py\u001b[0m in \u001b[0;36m_parse_encoding_box\u001b[0;34m(encoding, sort)\u001b[0m\n\u001b[1;32m    243\u001b[0m                             if key not in ['x', 'y', 'x2', 'y2', 'color']}\n\u001b[1;32m    244\u001b[0m \u001b[0;34m\u001b[0m\u001b[0m\n\u001b[0;32m--> 245\u001b[0;31m     \u001b[0;32mif\u001b[0m \u001b[0m_get_data_type\u001b[0m\u001b[0;34m(\u001b[0m\u001b[0mx\u001b[0m\u001b[0;34m)\u001b[0m \u001b[0;32min\u001b[0m \u001b[0;34m'NO'\u001b[0m\u001b[0;34m:\u001b[0m\u001b[0;34m\u001b[0m\u001b[0m\n\u001b[0m\u001b[1;32m    246\u001b[0m         \u001b[0;32mif\u001b[0m \u001b[0m_get_data_type\u001b[0m\u001b[0;34m(\u001b[0m\u001b[0my\u001b[0m\u001b[0;34m)\u001b[0m \u001b[0;34m!=\u001b[0m \u001b[0;34m'Q'\u001b[0m\u001b[0;34m:\u001b[0m\u001b[0;34m\u001b[0m\u001b[0m\n\u001b[1;32m    247\u001b[0m             \u001b[0;32mraise\u001b[0m \u001b[0mRuntimeError\u001b[0m\u001b[0;34m(\u001b[0m\u001b[0merr\u001b[0m\u001b[0;34m)\u001b[0m\u001b[0;34m\u001b[0m\u001b[0m\n",
      "\u001b[0;31mTypeError\u001b[0m: 'in <string>' requires string as left operand, not type"
     ]
    }
   ],
   "source": [
    "altcat.catplot(data=df_tidy,\n",
    "               encoding=dict(x=alt.X('species', title=None),\n",
    "                             y='petal width (cm)',\n",
    "                             color=alt.Color('species', legend=None)),\n",
    "               transform = 'box'\n",
    "              ).configure_bar(\n",
    "                    fillOpacity=0.75\n",
    "              ).configure_axisX(\n",
    "                  labelAngle=0,\n",
    "              )"
   ]
  },
  {
   "cell_type": "markdown",
   "metadata": {},
   "source": [
    "I would like to make a box-and-whisker plot to summarize the data and compare the petal width across species, as this plot would show the range of the data in each species while also allowing us to easily compare the data between species. Unfortunately I'm running into a strange error that I don't know how to deal with, where the function calls for transform to be set as a string, but returns an error if transform is set as a string. I thought I might be able to solve this error by reinstalling anaconda with the newer version, but reinstalling all the packages is taking longer than anticipated."
   ]
  },
  {
   "cell_type": "code",
   "execution_count": null,
   "metadata": {},
   "outputs": [],
   "source": []
  },
  {
   "cell_type": "code",
   "execution_count": null,
   "metadata": {},
   "outputs": [],
   "source": []
  }
 ],
 "metadata": {
  "anaconda-cloud": {},
  "kernelspec": {
   "display_name": "Python 3",
   "language": "python",
   "name": "python3"
  },
  "language_info": {
   "codemirror_mode": {
    "name": "ipython",
    "version": 3
   },
   "file_extension": ".py",
   "mimetype": "text/x-python",
   "name": "python",
   "nbconvert_exporter": "python",
   "pygments_lexer": "ipython3",
   "version": "3.7.0"
  }
 },
 "nbformat": 4,
 "nbformat_minor": 2
}
