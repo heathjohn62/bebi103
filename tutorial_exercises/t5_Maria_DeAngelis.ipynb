{
 "cells": [
  {
   "cell_type": "markdown",
   "metadata": {},
   "source": [
    "# Tutorial 5: exercise\n",
    "\n",
    "(c) 2018 Justin Bois. With the exception of pasted graphics, where the source is noted, this work is licensed under a [Creative Commons Attribution License CC-BY 4.0](https://creativecommons.org/licenses/by/4.0/). All code contained herein is licensed under an [MIT license](https://opensource.org/licenses/MIT).\n",
    "\n",
    "This document was prepared at [Caltech](http://www.caltech.edu) with financial support from the [Donna and Benjamin M. Rosen Bioengineering Center](http://rosen.caltech.edu).\n",
    "\n",
    "*This tutorial exercise was generated from an Jupyter notebook.  You can download the notebook [here](t5_exercise.ipynb). Use this downloaded Jupyter notebook to fill out your responses.*"
   ]
  },
  {
   "cell_type": "markdown",
   "metadata": {},
   "source": [
    "### Exercise 1\n",
    "\n",
    "What is the plug-in principle and how is it used in non-parametric statistics?"
   ]
  },
  {
   "cell_type": "markdown",
   "metadata": {},
   "source": [
    "The plug-in principle is the method of estimation of functionals of distribution functions by evaluating the same functionals at the empirical distribution based on a collected sample.\n",
    "\n",
    "For example, when you are trying to approximate the population mean of a distribution function, you use a sample mean in your calculations. This is useful in generative functions (i.e. generated from a Gaussian distribution)"
   ]
  },
  {
   "cell_type": "markdown",
   "metadata": {},
   "source": [
    "### Exercise 2\n",
    "\n",
    "What is a bootstrap sample and what is a bootstrap replicate?"
   ]
  },
  {
   "cell_type": "markdown",
   "metadata": {},
   "source": [
    "A bootstrap sample is a set of n 'x' values drawn\n",
    "from the empirical cumulative distribution function.\n",
    "\n",
    "A bootstrap replicate is the estimate obtained from the bootstrap sample."
   ]
  },
  {
   "cell_type": "markdown",
   "metadata": {},
   "source": [
    "### Exercise 3\n",
    "\n",
    "Consider the following data set for waiting times in minutes for nuclear localization events of the gene MSN-2 in yeast (these are real measurements done by Yihan Lin in Michael Elowitz's lab)."
   ]
  },
  {
   "cell_type": "code",
   "execution_count": 1,
   "metadata": {},
   "outputs": [],
   "source": [
    "t = [3, 6, 11, 5, 5, 4, 73, 31, 7, 6, \n",
    "     30, 4, 32, 30, 5, 53, 2, 15, 18, \n",
    "     14, 3, 49, 7, 4, 4, 2, 9, 11, 8, \n",
    "     5, 14, 6, 32, 40, 3, 5, 24]"
   ]
  },
  {
   "cell_type": "markdown",
   "metadata": {},
   "source": [
    "You suspect that MSN-2 localization may be a Poisson process and therefore that these waiting times are Exponentially distributed with a characteristic wait time of 20 minutes. Do a quick graphical analysis to check out this idea."
   ]
  },
  {
   "cell_type": "markdown",
   "metadata": {},
   "source": [
    "I'm having issues installing the package and looking online for troubleshooting isn't helping. I'm going to ask a TA in lab tonight and complet this part of the tutorial after tonight."
   ]
  },
  {
   "cell_type": "markdown",
   "metadata": {},
   "source": [
    "Marias-MacBook-Pro:~ maria$ conda install pystan=2.17.1.0\n",
    "Fetching package metadata .........\n",
    "\n",
    "\n",
    "PackageNotFoundError: Package missing in current osx-64 channels: \n",
    "  - pystan 2.17.1.0*"
   ]
  }
 ],
 "metadata": {
  "anaconda-cloud": {},
  "kernelspec": {
   "display_name": "Python 3",
   "language": "python",
   "name": "python3"
  },
  "language_info": {
   "codemirror_mode": {
    "name": "ipython",
    "version": 3
   },
   "file_extension": ".py",
   "mimetype": "text/x-python",
   "name": "python",
   "nbconvert_exporter": "python",
   "pygments_lexer": "ipython3",
   "version": "3.6.0"
  }
 },
 "nbformat": 4,
 "nbformat_minor": 2
}
