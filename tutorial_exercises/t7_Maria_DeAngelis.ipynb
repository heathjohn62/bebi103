{
 "cells": [
  {
   "cell_type": "markdown",
   "metadata": {},
   "source": [
    "# Tutorial 7: exercise\n",
    "\n",
    "(c) 2018 Justin Bois. With the exception of pasted graphics, where the source is noted, this work is licensed under a [Creative Commons Attribution License CC-BY 4.0](https://creativecommons.org/licenses/by/4.0/). All code contained herein is licensed under an [MIT license](https://opensource.org/licenses/MIT).\n",
    "\n",
    "This document was prepared at [Caltech](http://www.caltech.edu) with financial support from the [Donna and Benjamin M. Rosen Bioengineering Center](http://rosen.caltech.edu).\n",
    "\n",
    "*This tutorial exercise was generated from an Jupyter notebook.  You can download the notebook [here](t7_exercise.ipynb). Use this downloaded Jupyter notebook to fill out your responses.*"
   ]
  },
  {
   "cell_type": "markdown",
   "metadata": {},
   "source": [
    "### Exercise 1\n",
    "\n",
    "**a)** Explain in words why being able to sample out of a probability distribution is useful.\n",
    "\n",
    "We we draw a LOT of samples out of probability distribution, we could reconstruct the posterior from the samples, by making histograms. This would allow us to create properly weighted samples.\n",
    "\n",
    "**b)** Explain in words the basic idea behind Markov chain Monte Carlo.\n",
    "\n",
    "Markov chain Monte Carlo algorithms provide a way to sample out of a probability distribution.\n",
    "\n",
    "More simply, they are just a way of estimating a fixed parameter by repeatedly generating random numbers. You can perform some computation on the numbers generated, you can provide an approximation of a parameter where calculating it directly is computational infeasible."
   ]
  },
  {
   "cell_type": "markdown",
   "metadata": {},
   "source": [
    "### Exercise 2\n",
    "\n",
    "Why is it important to warm up a sampler?\n",
    "\n",
    "The sampler jumps around a bit before it settles into accurately sampling the posterior so we disregard the warmup noise. This is important to stop noise from contaminating our data."
   ]
  },
  {
   "cell_type": "markdown",
   "metadata": {},
   "source": [
    "### Exercise 3\n",
    "\n",
    "Say we used MCMC to sample a posterior distribution that had 6 parameters, $g(a_1,a_2,a_3,a_4,a_5,a_6\\mid y)$\n",
    ". From the MCMC samples, how can we get samples for the marginalized distribution $g(a_3 \\mid y)$?\n",
    "\n",
    "We con do this by directly plotting the ECDF of the samples for a3 (we first need to isolate it). I could apply this easily, but am not sure I understand it conceptually."
   ]
  },
  {
   "cell_type": "markdown",
   "metadata": {},
   "source": [
    "### Exercise 4\n",
    "\n",
    "What does it mean for a model to be nonidentifiable?\n",
    "\n",
    "A nonidentifiable model is a model for which we cannot unambiguously determine the parameter values, meaning two or more parametrizations are observationally equivalent."
   ]
  }
 ],
 "metadata": {
  "anaconda-cloud": {},
  "kernelspec": {
   "display_name": "Python 3",
   "language": "python",
   "name": "python3"
  },
  "language_info": {
   "codemirror_mode": {
    "name": "ipython",
    "version": 3
   },
   "file_extension": ".py",
   "mimetype": "text/x-python",
   "name": "python",
   "nbconvert_exporter": "python",
   "pygments_lexer": "ipython3",
   "version": "3.6.0"
  }
 },
 "nbformat": 4,
 "nbformat_minor": 2
}
