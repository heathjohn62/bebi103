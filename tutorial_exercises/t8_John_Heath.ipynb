{
 "cells": [
  {
   "cell_type": "markdown",
   "metadata": {},
   "source": [
    "# Tutorial 8: exercise\n",
    "\n",
    "(c) 2018 Justin Bois. With the exception of pasted graphics, where the source is noted, this work is licensed under a [Creative Commons Attribution License CC-BY 4.0](https://creativecommons.org/licenses/by/4.0/). All code contained herein is licensed under an [MIT license](https://opensource.org/licenses/MIT).\n",
    "\n",
    "This document was prepared at [Caltech](http://www.caltech.edu) with financial support from the [Donna and Benjamin M. Rosen Bioengineering Center](http://rosen.caltech.edu).\n",
    "\n",
    "<img src=\"caltech_rosen.png\">\n",
    "\n",
    "*This tutorial exercise was generated from an Jupyter notebook.  You can download the notebook [here](t8_exercise.ipynb). Use this downloaded Jupyter notebook to fill out your responses.*"
   ]
  },
  {
   "cell_type": "markdown",
   "metadata": {},
   "source": [
    "### Exercise 1\n",
    "\n",
    "Why is the number of effective independent samples made by a MCMC chain less than the total number of MCMC samples? How can you boost the number of effective independent samples?\n",
    "\n",
    "Samples are taken along a random walk, so each sample is dependent on the last (and thus the samples prior). One way to boost the number of effective samples is to perform thinning, where multple steps are taken, but steps are only stored after a set interval of steps. However, this can be computationally expensive. "
   ]
  },
  {
   "cell_type": "markdown",
   "metadata": {},
   "source": [
    "### Exercise 2\n",
    "\n",
    "How can locations of divergences be used to diagnose potential problems with the sampler?\n",
    "\n",
    "Divergences indicate locations where there is high curvature, and thus most steps the sampler attempts are rejeted. Noting these regions can show where in the distribution the sampler might be under-sampling, and thus inform us of the shape that is causing trouble. In the case of a funnel, we know that a transform to a posterior with a higher variance will help, but other solutions might be necessary for other shapes. "
   ]
  },
  {
   "cell_type": "markdown",
   "metadata": {},
   "source": [
    "### Exercise 3\n",
    "\n",
    "Why do posterior distributions in hierarchical models often have a funnel shape?\n",
    "\n",
    "I'm guessing that this is the case because extreme behavior can occur within a very small range of values for specific parameters. For example, extreme behavior occured for small tau in the example in tutorial 8b. \n",
    "\n",
    "This is not a very good answer, and I could honestly use clarification on why this particular shape appears. "
   ]
  },
  {
   "cell_type": "markdown",
   "metadata": {},
   "source": [
    "### Exercise 4\n",
    "\n",
    "Are you ever guaranteed to properly sample a distribution with a finite number of MCMC steps? If you answered yes, you can stop. If you answered no, explain how this underscores the need for extensive diagnostics.\n",
    "\n",
    "Not unless you have done it before and you're using the same seed :)\n",
    "\n",
    "This is pretty self-explanatory. Since you are not garanteed to properly sample a distribution, it is important to check that you have actually sampled the distribution. Otherswise, your samples will not be representative of the posterior. "
   ]
  },
  {
   "cell_type": "markdown",
   "metadata": {},
   "source": [
    "## Comment\n",
    "When you performed the change of variables, it felt a little like you were taking formulas out of thin air. How do we make intelligent guesses about what change of variables to make\""
   ]
  }
 ],
 "metadata": {
  "anaconda-cloud": {},
  "kernelspec": {
   "display_name": "Python 3",
   "language": "python",
   "name": "python3"
  },
  "language_info": {
   "codemirror_mode": {
    "name": "ipython",
    "version": 3
   },
   "file_extension": ".py",
   "mimetype": "text/x-python",
   "name": "python",
   "nbconvert_exporter": "python",
   "pygments_lexer": "ipython3",
   "version": "3.7.0"
  }
 },
 "nbformat": 4,
 "nbformat_minor": 2
}
