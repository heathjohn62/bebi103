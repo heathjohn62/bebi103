{
 "cells": [
  {
   "cell_type": "markdown",
   "metadata": {},
   "source": [
    "# Tutorial 8: exercise\n",
    "\n",
    "(c) 2018 Justin Bois. With the exception of pasted graphics, where the source is noted, this work is licensed under a [Creative Commons Attribution License CC-BY 4.0](https://creativecommons.org/licenses/by/4.0/). All code contained herein is licensed under an [MIT license](https://opensource.org/licenses/MIT).\n",
    "\n",
    "This document was prepared at [Caltech](http://www.caltech.edu) with financial support from the [Donna and Benjamin M. Rosen Bioengineering Center](http://rosen.caltech.edu).\n"
   ]
  },
  {
   "cell_type": "markdown",
   "metadata": {},
   "source": [
    "### Exercise 1\n",
    "\n",
    "Why is the number of effective independent samples made by a MCMC chain less than the total number of MCMC samples? How can you boost the number of effective independent samples?\n",
    "\n",
    "The samples are correlated but we only want to consider independent samples.\n",
    "\n",
    "You can boost the number of effective independent samples by thining the samples. For example, if you MCMC has an autocorrelation of 5, we can only consider each 5th point to increase the independence of each point."
   ]
  },
  {
   "cell_type": "markdown",
   "metadata": {},
   "source": [
    "### Exercise 2\n",
    "\n",
    "How can locations of divergences be used to diagnose potential problems with the sampler?\n",
    "\n",
    "If there is no pattern between the locations of divergences, we can assume that they are just false positives and we can just accept them."
   ]
  },
  {
   "cell_type": "markdown",
   "metadata": {},
   "source": [
    "### Exercise 3\n",
    "\n",
    "Why do posterior distributions in hierarchical models often have a funnel shape?\n",
    "\n",
    "This means that the probability distribution is difficult to sample out of using MCMC."
   ]
  },
  {
   "cell_type": "markdown",
   "metadata": {},
   "source": [
    "### Exercise 4\n",
    "\n",
    "Are you ever guaranteed to properly sample a distribution with a finite number of MCMC steps? If you answered yes, you can stop. If you answered no, explain how this underscores the need for extensive diagnostics.\n",
    "\n",
    "No, it is never guaranteed. This is why it is important to confirm that the results you have converged to make sense after you have sampled."
   ]
  }
 ],
 "metadata": {
  "anaconda-cloud": {},
  "kernelspec": {
   "display_name": "Python 3",
   "language": "python",
   "name": "python3"
  },
  "language_info": {
   "codemirror_mode": {
    "name": "ipython",
    "version": 3
   },
   "file_extension": ".py",
   "mimetype": "text/x-python",
   "name": "python",
   "nbconvert_exporter": "python",
   "pygments_lexer": "ipython3",
   "version": "3.6.0"
  }
 },
 "nbformat": 4,
 "nbformat_minor": 2
}
