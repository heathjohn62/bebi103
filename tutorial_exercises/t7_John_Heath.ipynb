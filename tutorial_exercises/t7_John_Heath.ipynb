{
 "cells": [
  {
   "cell_type": "markdown",
   "metadata": {},
   "source": [
    "# Tutorial 7: exercise\n",
    "\n",
    "(c) 2018 Justin Bois. With the exception of pasted graphics, where the source is noted, this work is licensed under a [Creative Commons Attribution License CC-BY 4.0](https://creativecommons.org/licenses/by/4.0/). All code contained herein is licensed under an [MIT license](https://opensource.org/licenses/MIT).\n",
    "\n",
    "This document was prepared at [Caltech](http://www.caltech.edu) with financial support from the [Donna and Benjamin M. Rosen Bioengineering Center](http://rosen.caltech.edu).\n",
    "\n",
    "<img src=\"caltech_rosen.png\">\n",
    "\n",
    "*This tutorial exercise was generated from an Jupyter notebook.  You can download the notebook [here](t7_exercise.ipynb). Use this downloaded Jupyter notebook to fill out your responses.*"
   ]
  },
  {
   "cell_type": "markdown",
   "metadata": {},
   "source": [
    "### Exercise 1\n",
    "\n",
    "**a)** Explain in words why being able to sample out of a probability distribution is useful.\n",
    "\n",
    "The analytic formula for a probability distribution can be non-informative, and costly to plot over a large range of values if prior information about the distribution is unknown. Sampling out of the distribution provides an accurate description of the model that is easy to plot and interpret. Furthermore, parameter estimation can be easily done by using the plug-in principal for the data that was sampled from the distribution. Tricky integration to marginalize over parameters is no longer necessary, because all parameters are actually taken into account when a single parameter is isolated from the sampled data. \n",
    "\n",
    "**b)** Explain in words the basic idea behind Markov chain Monte Carlo.\n",
    "\n",
    "Probability distributions are sampled via a semi-random walk. A random point is chosen for sampling, and then in the majority of cases, the next point sampled will have a higher posterior probability value. Thus, on a long-enough time average the walk will iterate over points in the distribution a number of times that is porportional to the value of the distribution at that point. "
   ]
  },
  {
   "cell_type": "markdown",
   "metadata": {},
   "source": [
    "### Exercise 2\n",
    "\n",
    "Why is it important to warm up a sampler?\n",
    "\n",
    "The first point chosen for sampling will be random. This means that the sampler will wander initially until it finds a peak in the posterior, and once it finds the peak it is unlikely to ever leave. Thus, the initial points that were sampled will be overrepresented in the distribution. A warm-up is done with the intention that the sampler will be able to find the peak before begining to record samples. "
   ]
  },
  {
   "cell_type": "markdown",
   "metadata": {},
   "source": [
    "### Exercise 3\n",
    "\n",
    "Say we used MCMC to sample a posterior distribution that had 6 parameters, $g(a_1,a_2,a_3,a_4,a_5,a_6\\mid y)$\n",
    ". From the MCMC samples, how can we get samples for the marginalized distribution $g(a_3 \\mid y)$?\n",
    "\n",
    "We have them! We could just plot an ECDF of the $a_3$ values for each sample obtained from MCMC, and since the sampler has taken into account all parameter values in obtaining these samples, this is the marginalized distribution. "
   ]
  },
  {
   "cell_type": "markdown",
   "metadata": {},
   "source": [
    "### Exercise 4\n",
    "\n",
    "What does it mean for a model to be nonidentifiable?\n",
    "\n",
    "It means that unique parameter values cannot be determined for a given model. This might be due to the fact that the same model can describe the given data in multiple ways, such that the parameter distributions will each be multi-modal. "
   ]
  }
 ],
 "metadata": {
  "anaconda-cloud": {},
  "kernelspec": {
   "display_name": "Python 3",
   "language": "python",
   "name": "python3"
  },
  "language_info": {
   "codemirror_mode": {
    "name": "ipython",
    "version": 3
   },
   "file_extension": ".py",
   "mimetype": "text/x-python",
   "name": "python",
   "nbconvert_exporter": "python",
   "pygments_lexer": "ipython3",
   "version": "3.7.0"
  }
 },
 "nbformat": 4,
 "nbformat_minor": 2
}
