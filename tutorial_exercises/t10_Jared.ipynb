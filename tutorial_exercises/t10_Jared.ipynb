{
 "cells": [
  {
   "cell_type": "markdown",
   "metadata": {},
   "source": [
    "# Tutorial 10: exercise\n",
    "\n",
    "(c) 2018 Justin Bois. With the exception of pasted graphics, where the source is noted, this work is licensed under a [Creative Commons Attribution License CC-BY 4.0](https://creativecommons.org/licenses/by/4.0/). All code contained herein is licensed under an [MIT license](https://opensource.org/licenses/MIT).\n",
    "\n",
    "This document was prepared at [Caltech](http://www.caltech.edu) with financial support from the [Donna and Benjamin M. Rosen Bioengineering Center](http://rosen.caltech.edu).\n",
    "\n",
    "<img src=\"caltech_rosen.png\">\n",
    "\n",
    "*This tutorial exercise was generated from an Jupyter notebook.  You can download the notebook [here](t10_exercise.ipynb). Use this downloaded Jupyter notebook to fill out your responses.*"
   ]
  },
  {
   "cell_type": "markdown",
   "metadata": {},
   "source": [
    "### Exercise 1\n",
    "\n",
    "Give an example of a situation where it is ok to throw out data you acquired.\n",
    "\n",
    "It is ok to throw out data we acquired if something went wrong with the measurement. It is not ok to throw out data because it is extreme without knowing or strongly suspecting something is wrong with the measurement, unless it is so extremem that the measurement is unphysical. Thus, for an example with microbiology, if we realize that we spiked a bacterial culture with the wrong substrate or we forgot an ingredient in the media, we can throw out the bacterial growth data. However, if we believe that we made the culture correctly, that our innoculation went correctly, that our culture was uncontaminated, and that our measurement devices worked properly, we should not throw out extreme data."
   ]
  },
  {
   "cell_type": "markdown",
   "metadata": {},
   "source": [
    "<br />"
   ]
  },
  {
   "cell_type": "markdown",
   "metadata": {},
   "source": [
    "### Exercise 2\n",
    "\n",
    "If you were to summarize the posterior with a MAP/error bar using optimization (not MCMC), would it be easier to use the Student-t method of dealing with outliers or the good/bad data model? Why?"
   ]
  },
  {
   "cell_type": "markdown",
   "metadata": {},
   "source": [
    "Using the MAP/error bar optimization method to summarize the posterior reduces the posterior to a Gaussian approximation, effectively undoing what is done in the Student-t method of dealing with outliers because the heavy tails of the distribution will be lost in the approximation. Using the good/bad data model does not run into this issue because the probability of being good or bad for each data point is written into the posterior in such a way that will survive the approximation. I'm not certain that this is how it works, but it seems to make sense."
   ]
  },
  {
   "cell_type": "markdown",
   "metadata": {},
   "source": [
    "<br />"
   ]
  },
  {
   "cell_type": "markdown",
   "metadata": {},
   "source": [
    "### Exercise 3\n",
    "\n",
    "Describe in words the generative model behind the use of all three outlier methods discussed in the tutorial (median plugin estimate, Student-t likelihood, good-bad data model)."
   ]
  },
  {
   "cell_type": "markdown",
   "metadata": {},
   "source": [
    "The median plugin estimate assumes that the data generative process is Gaussian, so that the median and mean are equal. The median is immune to rare outliers in a way that the mean is not, so simply estimating the median instead of the mean as a statistic can provide a good estimate of the mean.\n",
    "\n",
    "The student-t likelihood also assumes that the data generative process is Gaussian, but it allows for larger tails depending on the number of outliers, so the parameter $v$ represents the level of strong outliers in the data set.\n",
    "\n",
    "The good-bad model works as a mixture model where data are defined as having a probability $w_i$ of being good and we specify error bars for good and and bad data, along with our standard statistical modeling."
   ]
  },
  {
   "cell_type": "markdown",
   "metadata": {},
   "source": [
    "<br />"
   ]
  }
 ],
 "metadata": {
  "anaconda-cloud": {},
  "kernelspec": {
   "display_name": "Python 3",
   "language": "python",
   "name": "python3"
  },
  "language_info": {
   "codemirror_mode": {
    "name": "ipython",
    "version": 3
   },
   "file_extension": ".py",
   "mimetype": "text/x-python",
   "name": "python",
   "nbconvert_exporter": "python",
   "pygments_lexer": "ipython3",
   "version": "3.6.6"
  }
 },
 "nbformat": 4,
 "nbformat_minor": 2
}
