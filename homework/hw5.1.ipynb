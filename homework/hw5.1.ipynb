{
 "cells": [
  {
   "cell_type": "markdown",
   "metadata": {},
   "source": [
    "## Credits: \n",
    "A: Jared\n",
    "\n",
    "B: Jared\n",
    "\n",
    "C: Jared\n",
    "\n",
    "D: Almost all John, Jared calculated means and confidence intervals\n",
    "\n",
    "E: Almost all Maria, John made the plot at the very end."
   ]
  },
  {
   "cell_type": "markdown",
   "metadata": {},
   "source": [
    "## Problem 5.1: Hacker stats and Darwin's finches (100 pts)\n",
    "\n",
    "Peter and Rosemary Grant of Princeton University have visited the island of Daphne Major on the Galápagos every year for over forty years and have been taking a careful inventory of the finches there. The Grants recently published a wonderful book,  [40 years of evolution: Darwin's finches on Daphne Major Island](http://www.worldcat.org/oclc/854285415). They were generous and made their data publicly available on the [Dryad data repository](http://dx.doi.org/10.5061/dryad.g6g3h). (In general, it is a very good idea to put your published data in public data repositories, both to preserve the data and also to make your findings public.) We will be using this data set to learn about evolution of Darwin's finches and use your hacker statistics skills. Up until part (f), all of your analyses will use nonparametric frequentist hacker stats.\n",
    "\n",
    "We will focus on the primary two species of ground finch on Daphne Major, *Geospiza fortis* and *Geospiza scandens*. In this [data set](../data/finch_beaks.csv), you will find measurements of the beak length (tip to base) and beak depth (top to bottom) of these finches in the years 1973, 1975, 1987, 1991, and 2012. Also included in that data set is the band number for the bird, which gives a unique identifier.\n",
    "\n",
    "**a)** We start with a little tidying of the data. Think about how you will deal with duplicate measurements of the same bird and make a decision on how those data are to be treated.\n",
    "\n"
   ]
  },
  {
   "cell_type": "code",
   "execution_count": 1,
   "metadata": {},
   "outputs": [
    {
     "name": "stderr",
     "output_type": "stream",
     "text": [
      "C:\\Users\\Christina\\Anaconda3\\envs\\be103\\lib\\site-packages\\bebi103\\viz.py:30: UserWarning: DataShader import failed with error \"No module named 'datashader'\".\n",
      "Features requiring DataShader will not work and you will get exceptions.\n",
      "  Features requiring DataShader will not work and you will get exceptions.\"\"\")\n"
     ]
    },
    {
     "data": {
      "text/html": [
       "\n",
       "    <div class=\"bk-root\">\n",
       "        <a href=\"https://bokeh.pydata.org\" target=\"_blank\" class=\"bk-logo bk-logo-small bk-logo-notebook\"></a>\n",
       "        <span id=\"82015c3d-13f3-437c-b369-8b9e41b3e33a\">Loading BokehJS ...</span>\n",
       "    </div>"
      ]
     },
     "metadata": {},
     "output_type": "display_data"
    },
    {
     "data": {
      "application/javascript": [
       "\n",
       "(function(root) {\n",
       "  function now() {\n",
       "    return new Date();\n",
       "  }\n",
       "\n",
       "  var force = true;\n",
       "\n",
       "  if (typeof (root._bokeh_onload_callbacks) === \"undefined\" || force === true) {\n",
       "    root._bokeh_onload_callbacks = [];\n",
       "    root._bokeh_is_loading = undefined;\n",
       "  }\n",
       "\n",
       "  var JS_MIME_TYPE = 'application/javascript';\n",
       "  var HTML_MIME_TYPE = 'text/html';\n",
       "  var EXEC_MIME_TYPE = 'application/vnd.bokehjs_exec.v0+json';\n",
       "  var CLASS_NAME = 'output_bokeh rendered_html';\n",
       "\n",
       "  /**\n",
       "   * Render data to the DOM node\n",
       "   */\n",
       "  function render(props, node) {\n",
       "    var script = document.createElement(\"script\");\n",
       "    node.appendChild(script);\n",
       "  }\n",
       "\n",
       "  /**\n",
       "   * Handle when an output is cleared or removed\n",
       "   */\n",
       "  function handleClearOutput(event, handle) {\n",
       "    var cell = handle.cell;\n",
       "\n",
       "    var id = cell.output_area._bokeh_element_id;\n",
       "    var server_id = cell.output_area._bokeh_server_id;\n",
       "    // Clean up Bokeh references\n",
       "    if (id != null && id in Bokeh.index) {\n",
       "      Bokeh.index[id].model.document.clear();\n",
       "      delete Bokeh.index[id];\n",
       "    }\n",
       "\n",
       "    if (server_id !== undefined) {\n",
       "      // Clean up Bokeh references\n",
       "      var cmd = \"from bokeh.io.state import curstate; print(curstate().uuid_to_server['\" + server_id + \"'].get_sessions()[0].document.roots[0]._id)\";\n",
       "      cell.notebook.kernel.execute(cmd, {\n",
       "        iopub: {\n",
       "          output: function(msg) {\n",
       "            var id = msg.content.text.trim();\n",
       "            if (id in Bokeh.index) {\n",
       "              Bokeh.index[id].model.document.clear();\n",
       "              delete Bokeh.index[id];\n",
       "            }\n",
       "          }\n",
       "        }\n",
       "      });\n",
       "      // Destroy server and session\n",
       "      var cmd = \"import bokeh.io.notebook as ion; ion.destroy_server('\" + server_id + \"')\";\n",
       "      cell.notebook.kernel.execute(cmd);\n",
       "    }\n",
       "  }\n",
       "\n",
       "  /**\n",
       "   * Handle when a new output is added\n",
       "   */\n",
       "  function handleAddOutput(event, handle) {\n",
       "    var output_area = handle.output_area;\n",
       "    var output = handle.output;\n",
       "\n",
       "    // limit handleAddOutput to display_data with EXEC_MIME_TYPE content only\n",
       "    if ((output.output_type != \"display_data\") || (!output.data.hasOwnProperty(EXEC_MIME_TYPE))) {\n",
       "      return\n",
       "    }\n",
       "\n",
       "    var toinsert = output_area.element.find(\".\" + CLASS_NAME.split(' ')[0]);\n",
       "\n",
       "    if (output.metadata[EXEC_MIME_TYPE][\"id\"] !== undefined) {\n",
       "      toinsert[toinsert.length - 1].firstChild.textContent = output.data[JS_MIME_TYPE];\n",
       "      // store reference to embed id on output_area\n",
       "      output_area._bokeh_element_id = output.metadata[EXEC_MIME_TYPE][\"id\"];\n",
       "    }\n",
       "    if (output.metadata[EXEC_MIME_TYPE][\"server_id\"] !== undefined) {\n",
       "      var bk_div = document.createElement(\"div\");\n",
       "      bk_div.innerHTML = output.data[HTML_MIME_TYPE];\n",
       "      var script_attrs = bk_div.children[0].attributes;\n",
       "      for (var i = 0; i < script_attrs.length; i++) {\n",
       "        toinsert[toinsert.length - 1].firstChild.setAttribute(script_attrs[i].name, script_attrs[i].value);\n",
       "      }\n",
       "      // store reference to server id on output_area\n",
       "      output_area._bokeh_server_id = output.metadata[EXEC_MIME_TYPE][\"server_id\"];\n",
       "    }\n",
       "  }\n",
       "\n",
       "  function register_renderer(events, OutputArea) {\n",
       "\n",
       "    function append_mime(data, metadata, element) {\n",
       "      // create a DOM node to render to\n",
       "      var toinsert = this.create_output_subarea(\n",
       "        metadata,\n",
       "        CLASS_NAME,\n",
       "        EXEC_MIME_TYPE\n",
       "      );\n",
       "      this.keyboard_manager.register_events(toinsert);\n",
       "      // Render to node\n",
       "      var props = {data: data, metadata: metadata[EXEC_MIME_TYPE]};\n",
       "      render(props, toinsert[toinsert.length - 1]);\n",
       "      element.append(toinsert);\n",
       "      return toinsert\n",
       "    }\n",
       "\n",
       "    /* Handle when an output is cleared or removed */\n",
       "    events.on('clear_output.CodeCell', handleClearOutput);\n",
       "    events.on('delete.Cell', handleClearOutput);\n",
       "\n",
       "    /* Handle when a new output is added */\n",
       "    events.on('output_added.OutputArea', handleAddOutput);\n",
       "\n",
       "    /**\n",
       "     * Register the mime type and append_mime function with output_area\n",
       "     */\n",
       "    OutputArea.prototype.register_mime_type(EXEC_MIME_TYPE, append_mime, {\n",
       "      /* Is output safe? */\n",
       "      safe: true,\n",
       "      /* Index of renderer in `output_area.display_order` */\n",
       "      index: 0\n",
       "    });\n",
       "  }\n",
       "\n",
       "  // register the mime type if in Jupyter Notebook environment and previously unregistered\n",
       "  if (root.Jupyter !== undefined) {\n",
       "    var events = require('base/js/events');\n",
       "    var OutputArea = require('notebook/js/outputarea').OutputArea;\n",
       "\n",
       "    if (OutputArea.prototype.mime_types().indexOf(EXEC_MIME_TYPE) == -1) {\n",
       "      register_renderer(events, OutputArea);\n",
       "    }\n",
       "  }\n",
       "\n",
       "  \n",
       "  if (typeof (root._bokeh_timeout) === \"undefined\" || force === true) {\n",
       "    root._bokeh_timeout = Date.now() + 5000;\n",
       "    root._bokeh_failed_load = false;\n",
       "  }\n",
       "\n",
       "  var NB_LOAD_WARNING = {'data': {'text/html':\n",
       "     \"<div style='background-color: #fdd'>\\n\"+\n",
       "     \"<p>\\n\"+\n",
       "     \"BokehJS does not appear to have successfully loaded. If loading BokehJS from CDN, this \\n\"+\n",
       "     \"may be due to a slow or bad network connection. Possible fixes:\\n\"+\n",
       "     \"</p>\\n\"+\n",
       "     \"<ul>\\n\"+\n",
       "     \"<li>re-rerun `output_notebook()` to attempt to load from CDN again, or</li>\\n\"+\n",
       "     \"<li>use INLINE resources instead, as so:</li>\\n\"+\n",
       "     \"</ul>\\n\"+\n",
       "     \"<code>\\n\"+\n",
       "     \"from bokeh.resources import INLINE\\n\"+\n",
       "     \"output_notebook(resources=INLINE)\\n\"+\n",
       "     \"</code>\\n\"+\n",
       "     \"</div>\"}};\n",
       "\n",
       "  function display_loaded() {\n",
       "    var el = document.getElementById(\"82015c3d-13f3-437c-b369-8b9e41b3e33a\");\n",
       "    if (el != null) {\n",
       "      el.textContent = \"BokehJS is loading...\";\n",
       "    }\n",
       "    if (root.Bokeh !== undefined) {\n",
       "      if (el != null) {\n",
       "        el.textContent = \"BokehJS \" + root.Bokeh.version + \" successfully loaded.\";\n",
       "      }\n",
       "    } else if (Date.now() < root._bokeh_timeout) {\n",
       "      setTimeout(display_loaded, 100)\n",
       "    }\n",
       "  }\n",
       "\n",
       "\n",
       "  function run_callbacks() {\n",
       "    try {\n",
       "      root._bokeh_onload_callbacks.forEach(function(callback) { callback() });\n",
       "    }\n",
       "    finally {\n",
       "      delete root._bokeh_onload_callbacks\n",
       "    }\n",
       "    console.info(\"Bokeh: all callbacks have finished\");\n",
       "  }\n",
       "\n",
       "  function load_libs(js_urls, callback) {\n",
       "    root._bokeh_onload_callbacks.push(callback);\n",
       "    if (root._bokeh_is_loading > 0) {\n",
       "      console.log(\"Bokeh: BokehJS is being loaded, scheduling callback at\", now());\n",
       "      return null;\n",
       "    }\n",
       "    if (js_urls == null || js_urls.length === 0) {\n",
       "      run_callbacks();\n",
       "      return null;\n",
       "    }\n",
       "    console.log(\"Bokeh: BokehJS not loaded, scheduling load and callback at\", now());\n",
       "    root._bokeh_is_loading = js_urls.length;\n",
       "    for (var i = 0; i < js_urls.length; i++) {\n",
       "      var url = js_urls[i];\n",
       "      var s = document.createElement('script');\n",
       "      s.src = url;\n",
       "      s.async = false;\n",
       "      s.onreadystatechange = s.onload = function() {\n",
       "        root._bokeh_is_loading--;\n",
       "        if (root._bokeh_is_loading === 0) {\n",
       "          console.log(\"Bokeh: all BokehJS libraries loaded\");\n",
       "          run_callbacks()\n",
       "        }\n",
       "      };\n",
       "      s.onerror = function() {\n",
       "        console.warn(\"failed to load library \" + url);\n",
       "      };\n",
       "      console.log(\"Bokeh: injecting script tag for BokehJS library: \", url);\n",
       "      document.getElementsByTagName(\"head\")[0].appendChild(s);\n",
       "    }\n",
       "  };var element = document.getElementById(\"82015c3d-13f3-437c-b369-8b9e41b3e33a\");\n",
       "  if (element == null) {\n",
       "    console.log(\"Bokeh: ERROR: autoload.js configured with elementid '82015c3d-13f3-437c-b369-8b9e41b3e33a' but no matching script tag was found. \")\n",
       "    return false;\n",
       "  }\n",
       "\n",
       "  var js_urls = [\"https://cdn.pydata.org/bokeh/release/bokeh-0.13.0.min.js\", \"https://cdn.pydata.org/bokeh/release/bokeh-widgets-0.13.0.min.js\", \"https://cdn.pydata.org/bokeh/release/bokeh-tables-0.13.0.min.js\", \"https://cdn.pydata.org/bokeh/release/bokeh-gl-0.13.0.min.js\"];\n",
       "\n",
       "  var inline_js = [\n",
       "    function(Bokeh) {\n",
       "      Bokeh.set_log_level(\"info\");\n",
       "    },\n",
       "    \n",
       "    function(Bokeh) {\n",
       "      \n",
       "    },\n",
       "    function(Bokeh) {\n",
       "      console.log(\"Bokeh: injecting CSS: https://cdn.pydata.org/bokeh/release/bokeh-0.13.0.min.css\");\n",
       "      Bokeh.embed.inject_css(\"https://cdn.pydata.org/bokeh/release/bokeh-0.13.0.min.css\");\n",
       "      console.log(\"Bokeh: injecting CSS: https://cdn.pydata.org/bokeh/release/bokeh-widgets-0.13.0.min.css\");\n",
       "      Bokeh.embed.inject_css(\"https://cdn.pydata.org/bokeh/release/bokeh-widgets-0.13.0.min.css\");\n",
       "      console.log(\"Bokeh: injecting CSS: https://cdn.pydata.org/bokeh/release/bokeh-tables-0.13.0.min.css\");\n",
       "      Bokeh.embed.inject_css(\"https://cdn.pydata.org/bokeh/release/bokeh-tables-0.13.0.min.css\");\n",
       "    }\n",
       "  ];\n",
       "\n",
       "  function run_inline_js() {\n",
       "    \n",
       "    if ((root.Bokeh !== undefined) || (force === true)) {\n",
       "      for (var i = 0; i < inline_js.length; i++) {\n",
       "        inline_js[i].call(root, root.Bokeh);\n",
       "      }if (force === true) {\n",
       "        display_loaded();\n",
       "      }} else if (Date.now() < root._bokeh_timeout) {\n",
       "      setTimeout(run_inline_js, 100);\n",
       "    } else if (!root._bokeh_failed_load) {\n",
       "      console.log(\"Bokeh: BokehJS failed to load within specified timeout.\");\n",
       "      root._bokeh_failed_load = true;\n",
       "    } else if (force !== true) {\n",
       "      var cell = $(document.getElementById(\"82015c3d-13f3-437c-b369-8b9e41b3e33a\")).parents('.cell').data().cell;\n",
       "      cell.output_area.append_execute_result(NB_LOAD_WARNING)\n",
       "    }\n",
       "\n",
       "  }\n",
       "\n",
       "  if (root._bokeh_is_loading === 0) {\n",
       "    console.log(\"Bokeh: BokehJS loaded, going straight to plotting\");\n",
       "    run_inline_js();\n",
       "  } else {\n",
       "    load_libs(js_urls, function() {\n",
       "      console.log(\"Bokeh: BokehJS plotting callback run at\", now());\n",
       "      run_inline_js();\n",
       "    });\n",
       "  }\n",
       "}(window));"
      ],
      "application/vnd.bokehjs_load.v0+json": "\n(function(root) {\n  function now() {\n    return new Date();\n  }\n\n  var force = true;\n\n  if (typeof (root._bokeh_onload_callbacks) === \"undefined\" || force === true) {\n    root._bokeh_onload_callbacks = [];\n    root._bokeh_is_loading = undefined;\n  }\n\n  \n\n  \n  if (typeof (root._bokeh_timeout) === \"undefined\" || force === true) {\n    root._bokeh_timeout = Date.now() + 5000;\n    root._bokeh_failed_load = false;\n  }\n\n  var NB_LOAD_WARNING = {'data': {'text/html':\n     \"<div style='background-color: #fdd'>\\n\"+\n     \"<p>\\n\"+\n     \"BokehJS does not appear to have successfully loaded. If loading BokehJS from CDN, this \\n\"+\n     \"may be due to a slow or bad network connection. Possible fixes:\\n\"+\n     \"</p>\\n\"+\n     \"<ul>\\n\"+\n     \"<li>re-rerun `output_notebook()` to attempt to load from CDN again, or</li>\\n\"+\n     \"<li>use INLINE resources instead, as so:</li>\\n\"+\n     \"</ul>\\n\"+\n     \"<code>\\n\"+\n     \"from bokeh.resources import INLINE\\n\"+\n     \"output_notebook(resources=INLINE)\\n\"+\n     \"</code>\\n\"+\n     \"</div>\"}};\n\n  function display_loaded() {\n    var el = document.getElementById(\"82015c3d-13f3-437c-b369-8b9e41b3e33a\");\n    if (el != null) {\n      el.textContent = \"BokehJS is loading...\";\n    }\n    if (root.Bokeh !== undefined) {\n      if (el != null) {\n        el.textContent = \"BokehJS \" + root.Bokeh.version + \" successfully loaded.\";\n      }\n    } else if (Date.now() < root._bokeh_timeout) {\n      setTimeout(display_loaded, 100)\n    }\n  }\n\n\n  function run_callbacks() {\n    try {\n      root._bokeh_onload_callbacks.forEach(function(callback) { callback() });\n    }\n    finally {\n      delete root._bokeh_onload_callbacks\n    }\n    console.info(\"Bokeh: all callbacks have finished\");\n  }\n\n  function load_libs(js_urls, callback) {\n    root._bokeh_onload_callbacks.push(callback);\n    if (root._bokeh_is_loading > 0) {\n      console.log(\"Bokeh: BokehJS is being loaded, scheduling callback at\", now());\n      return null;\n    }\n    if (js_urls == null || js_urls.length === 0) {\n      run_callbacks();\n      return null;\n    }\n    console.log(\"Bokeh: BokehJS not loaded, scheduling load and callback at\", now());\n    root._bokeh_is_loading = js_urls.length;\n    for (var i = 0; i < js_urls.length; i++) {\n      var url = js_urls[i];\n      var s = document.createElement('script');\n      s.src = url;\n      s.async = false;\n      s.onreadystatechange = s.onload = function() {\n        root._bokeh_is_loading--;\n        if (root._bokeh_is_loading === 0) {\n          console.log(\"Bokeh: all BokehJS libraries loaded\");\n          run_callbacks()\n        }\n      };\n      s.onerror = function() {\n        console.warn(\"failed to load library \" + url);\n      };\n      console.log(\"Bokeh: injecting script tag for BokehJS library: \", url);\n      document.getElementsByTagName(\"head\")[0].appendChild(s);\n    }\n  };var element = document.getElementById(\"82015c3d-13f3-437c-b369-8b9e41b3e33a\");\n  if (element == null) {\n    console.log(\"Bokeh: ERROR: autoload.js configured with elementid '82015c3d-13f3-437c-b369-8b9e41b3e33a' but no matching script tag was found. \")\n    return false;\n  }\n\n  var js_urls = [\"https://cdn.pydata.org/bokeh/release/bokeh-0.13.0.min.js\", \"https://cdn.pydata.org/bokeh/release/bokeh-widgets-0.13.0.min.js\", \"https://cdn.pydata.org/bokeh/release/bokeh-tables-0.13.0.min.js\", \"https://cdn.pydata.org/bokeh/release/bokeh-gl-0.13.0.min.js\"];\n\n  var inline_js = [\n    function(Bokeh) {\n      Bokeh.set_log_level(\"info\");\n    },\n    \n    function(Bokeh) {\n      \n    },\n    function(Bokeh) {\n      console.log(\"Bokeh: injecting CSS: https://cdn.pydata.org/bokeh/release/bokeh-0.13.0.min.css\");\n      Bokeh.embed.inject_css(\"https://cdn.pydata.org/bokeh/release/bokeh-0.13.0.min.css\");\n      console.log(\"Bokeh: injecting CSS: https://cdn.pydata.org/bokeh/release/bokeh-widgets-0.13.0.min.css\");\n      Bokeh.embed.inject_css(\"https://cdn.pydata.org/bokeh/release/bokeh-widgets-0.13.0.min.css\");\n      console.log(\"Bokeh: injecting CSS: https://cdn.pydata.org/bokeh/release/bokeh-tables-0.13.0.min.css\");\n      Bokeh.embed.inject_css(\"https://cdn.pydata.org/bokeh/release/bokeh-tables-0.13.0.min.css\");\n    }\n  ];\n\n  function run_inline_js() {\n    \n    if ((root.Bokeh !== undefined) || (force === true)) {\n      for (var i = 0; i < inline_js.length; i++) {\n        inline_js[i].call(root, root.Bokeh);\n      }if (force === true) {\n        display_loaded();\n      }} else if (Date.now() < root._bokeh_timeout) {\n      setTimeout(run_inline_js, 100);\n    } else if (!root._bokeh_failed_load) {\n      console.log(\"Bokeh: BokehJS failed to load within specified timeout.\");\n      root._bokeh_failed_load = true;\n    } else if (force !== true) {\n      var cell = $(document.getElementById(\"82015c3d-13f3-437c-b369-8b9e41b3e33a\")).parents('.cell').data().cell;\n      cell.output_area.append_execute_result(NB_LOAD_WARNING)\n    }\n\n  }\n\n  if (root._bokeh_is_loading === 0) {\n    console.log(\"Bokeh: BokehJS loaded, going straight to plotting\");\n    run_inline_js();\n  } else {\n    load_libs(js_urls, function() {\n      console.log(\"Bokeh: BokehJS plotting callback run at\", now());\n      run_inline_js();\n    });\n  }\n}(window));"
     },
     "metadata": {},
     "output_type": "display_data"
    }
   ],
   "source": [
    "import glob\n",
    "import os\n",
    "import sys\n",
    "\n",
    "import numpy as np\n",
    "import pandas as pd\n",
    "import scipy.signal\n",
    "import numba\n",
    "\n",
    "\n",
    "# Import Altair for high level plotting\n",
    "import altair as alt\n",
    "import altair_catplot as altcat\n",
    "\n",
    "# Pevent bulky altair plots\n",
    "alt.data_transformers.enable('json')\n",
    "\n",
    "import bebi103\n",
    "import bokeh\n",
    "import bokeh.plotting\n",
    "import bokeh.io\n",
    "from bokeh.palettes import all_palettes \n",
    "import itertools\n",
    "from bokeh.models import Legend, LegendItem\n",
    "bokeh.io.output_notebook()"
   ]
  },
  {
   "cell_type": "code",
   "execution_count": 2,
   "metadata": {},
   "outputs": [],
   "source": [
    "# Load the data into DataFrame df\n",
    "df = pd.read_csv('../data/finch_beaks.csv', comment = \"#\")"
   ]
  },
  {
   "cell_type": "code",
   "execution_count": 3,
   "metadata": {},
   "outputs": [
    {
     "data": {
      "text/html": [
       "<div>\n",
       "<style scoped>\n",
       "    .dataframe tbody tr th:only-of-type {\n",
       "        vertical-align: middle;\n",
       "    }\n",
       "\n",
       "    .dataframe tbody tr th {\n",
       "        vertical-align: top;\n",
       "    }\n",
       "\n",
       "    .dataframe thead th {\n",
       "        text-align: right;\n",
       "    }\n",
       "</style>\n",
       "<table border=\"1\" class=\"dataframe\">\n",
       "  <thead>\n",
       "    <tr style=\"text-align: right;\">\n",
       "      <th></th>\n",
       "      <th>band</th>\n",
       "      <th>species</th>\n",
       "      <th>beak length (mm)</th>\n",
       "      <th>beak depth (mm)</th>\n",
       "      <th>year</th>\n",
       "    </tr>\n",
       "  </thead>\n",
       "  <tbody>\n",
       "    <tr>\n",
       "      <th>0</th>\n",
       "      <td>20123</td>\n",
       "      <td>fortis</td>\n",
       "      <td>9.25</td>\n",
       "      <td>8.05</td>\n",
       "      <td>1973</td>\n",
       "    </tr>\n",
       "    <tr>\n",
       "      <th>1</th>\n",
       "      <td>20126</td>\n",
       "      <td>fortis</td>\n",
       "      <td>11.35</td>\n",
       "      <td>10.45</td>\n",
       "      <td>1973</td>\n",
       "    </tr>\n",
       "    <tr>\n",
       "      <th>2</th>\n",
       "      <td>20128</td>\n",
       "      <td>fortis</td>\n",
       "      <td>10.15</td>\n",
       "      <td>9.55</td>\n",
       "      <td>1973</td>\n",
       "    </tr>\n",
       "    <tr>\n",
       "      <th>3</th>\n",
       "      <td>20129</td>\n",
       "      <td>fortis</td>\n",
       "      <td>9.95</td>\n",
       "      <td>8.75</td>\n",
       "      <td>1973</td>\n",
       "    </tr>\n",
       "    <tr>\n",
       "      <th>4</th>\n",
       "      <td>20133</td>\n",
       "      <td>fortis</td>\n",
       "      <td>11.55</td>\n",
       "      <td>10.15</td>\n",
       "      <td>1973</td>\n",
       "    </tr>\n",
       "  </tbody>\n",
       "</table>\n",
       "</div>"
      ],
      "text/plain": [
       "    band species  beak length (mm)  beak depth (mm)  year\n",
       "0  20123  fortis              9.25             8.05  1973\n",
       "1  20126  fortis             11.35            10.45  1973\n",
       "2  20128  fortis             10.15             9.55  1973\n",
       "3  20129  fortis              9.95             8.75  1973\n",
       "4  20133  fortis             11.55            10.15  1973"
      ]
     },
     "execution_count": 3,
     "metadata": {},
     "output_type": "execute_result"
    }
   ],
   "source": [
    "# Take a look\n",
    "df.head()"
   ]
  },
  {
   "cell_type": "code",
   "execution_count": 4,
   "metadata": {},
   "outputs": [
    {
     "data": {
      "text/plain": [
       "2304"
      ]
     },
     "execution_count": 4,
     "metadata": {},
     "output_type": "execute_result"
    }
   ],
   "source": [
    "# How long is it?\n",
    "len(df)"
   ]
  },
  {
   "cell_type": "markdown",
   "metadata": {},
   "source": [
    "We now need to go through the dataframe and look for duplicates. We will begin by looking for duplicated rows: if we took the same exact measurement twice, down to the year and measurements, we can throw out all but the first one."
   ]
  },
  {
   "cell_type": "code",
   "execution_count": 5,
   "metadata": {},
   "outputs": [
    {
     "data": {
      "text/html": [
       "<div>\n",
       "<style scoped>\n",
       "    .dataframe tbody tr th:only-of-type {\n",
       "        vertical-align: middle;\n",
       "    }\n",
       "\n",
       "    .dataframe tbody tr th {\n",
       "        vertical-align: top;\n",
       "    }\n",
       "\n",
       "    .dataframe thead th {\n",
       "        text-align: right;\n",
       "    }\n",
       "</style>\n",
       "<table border=\"1\" class=\"dataframe\">\n",
       "  <thead>\n",
       "    <tr style=\"text-align: right;\">\n",
       "      <th></th>\n",
       "      <th>band</th>\n",
       "      <th>species</th>\n",
       "      <th>beak length (mm)</th>\n",
       "      <th>beak depth (mm)</th>\n",
       "      <th>year</th>\n",
       "      <th>Duplicates</th>\n",
       "    </tr>\n",
       "  </thead>\n",
       "  <tbody>\n",
       "    <tr>\n",
       "      <th>305</th>\n",
       "      <td>818</td>\n",
       "      <td>fortis</td>\n",
       "      <td>10.2</td>\n",
       "      <td>9.0</td>\n",
       "      <td>1975</td>\n",
       "      <td>True</td>\n",
       "    </tr>\n",
       "    <tr>\n",
       "      <th>364</th>\n",
       "      <td>944</td>\n",
       "      <td>fortis</td>\n",
       "      <td>10.3</td>\n",
       "      <td>8.3</td>\n",
       "      <td>1975</td>\n",
       "      <td>True</td>\n",
       "    </tr>\n",
       "    <tr>\n",
       "      <th>366</th>\n",
       "      <td>945</td>\n",
       "      <td>fortis</td>\n",
       "      <td>11.6</td>\n",
       "      <td>10.8</td>\n",
       "      <td>1975</td>\n",
       "      <td>True</td>\n",
       "    </tr>\n",
       "  </tbody>\n",
       "</table>\n",
       "</div>"
      ],
      "text/plain": [
       "     band species  beak length (mm)  beak depth (mm)  year  Duplicates\n",
       "305   818  fortis              10.2              9.0  1975        True\n",
       "364   944  fortis              10.3              8.3  1975        True\n",
       "366   945  fortis              11.6             10.8  1975        True"
      ]
     },
     "execution_count": 5,
     "metadata": {},
     "output_type": "execute_result"
    }
   ],
   "source": [
    "# Check for duplicates\n",
    "df[\"Duplicates\"] = df.duplicated()\n",
    "df[df[\"Duplicates\"]]"
   ]
  },
  {
   "cell_type": "markdown",
   "metadata": {},
   "source": [
    "There are only three, we can remove those easily."
   ]
  },
  {
   "cell_type": "code",
   "execution_count": 6,
   "metadata": {},
   "outputs": [
    {
     "data": {
      "text/html": [
       "<div>\n",
       "<style scoped>\n",
       "    .dataframe tbody tr th:only-of-type {\n",
       "        vertical-align: middle;\n",
       "    }\n",
       "\n",
       "    .dataframe tbody tr th {\n",
       "        vertical-align: top;\n",
       "    }\n",
       "\n",
       "    .dataframe thead th {\n",
       "        text-align: right;\n",
       "    }\n",
       "</style>\n",
       "<table border=\"1\" class=\"dataframe\">\n",
       "  <thead>\n",
       "    <tr style=\"text-align: right;\">\n",
       "      <th></th>\n",
       "      <th>band</th>\n",
       "      <th>species</th>\n",
       "      <th>beak length (mm)</th>\n",
       "      <th>beak depth (mm)</th>\n",
       "      <th>year</th>\n",
       "      <th>Duplicates</th>\n",
       "    </tr>\n",
       "  </thead>\n",
       "  <tbody>\n",
       "    <tr>\n",
       "      <th>0</th>\n",
       "      <td>20123</td>\n",
       "      <td>fortis</td>\n",
       "      <td>9.25</td>\n",
       "      <td>8.05</td>\n",
       "      <td>1973</td>\n",
       "      <td>False</td>\n",
       "    </tr>\n",
       "    <tr>\n",
       "      <th>1</th>\n",
       "      <td>20126</td>\n",
       "      <td>fortis</td>\n",
       "      <td>11.35</td>\n",
       "      <td>10.45</td>\n",
       "      <td>1973</td>\n",
       "      <td>False</td>\n",
       "    </tr>\n",
       "    <tr>\n",
       "      <th>2</th>\n",
       "      <td>20128</td>\n",
       "      <td>fortis</td>\n",
       "      <td>10.15</td>\n",
       "      <td>9.55</td>\n",
       "      <td>1973</td>\n",
       "      <td>False</td>\n",
       "    </tr>\n",
       "    <tr>\n",
       "      <th>3</th>\n",
       "      <td>20129</td>\n",
       "      <td>fortis</td>\n",
       "      <td>9.95</td>\n",
       "      <td>8.75</td>\n",
       "      <td>1973</td>\n",
       "      <td>False</td>\n",
       "    </tr>\n",
       "    <tr>\n",
       "      <th>4</th>\n",
       "      <td>20133</td>\n",
       "      <td>fortis</td>\n",
       "      <td>11.55</td>\n",
       "      <td>10.15</td>\n",
       "      <td>1973</td>\n",
       "      <td>False</td>\n",
       "    </tr>\n",
       "  </tbody>\n",
       "</table>\n",
       "</div>"
      ],
      "text/plain": [
       "    band species  beak length (mm)  beak depth (mm)  year  Duplicates\n",
       "0  20123  fortis              9.25             8.05  1973       False\n",
       "1  20126  fortis             11.35            10.45  1973       False\n",
       "2  20128  fortis             10.15             9.55  1973       False\n",
       "3  20129  fortis              9.95             8.75  1973       False\n",
       "4  20133  fortis             11.55            10.15  1973       False"
      ]
     },
     "execution_count": 6,
     "metadata": {},
     "output_type": "execute_result"
    }
   ],
   "source": [
    "df = df[df[\"Duplicates\"] == False]\n",
    "df = df.reset_index()\n",
    "df = df.drop(columns = [\"index\"])\n",
    "df.head()"
   ]
  },
  {
   "cell_type": "markdown",
   "metadata": {},
   "source": [
    "If we measure birds more than once in different years, that information is important, but we don't need to worry about how to deal with that data. The only remaining issue is if we measure the bird more than once in the same year and we take different measurements. Let's check for that:"
   ]
  },
  {
   "cell_type": "code",
   "execution_count": 7,
   "metadata": {},
   "outputs": [
    {
     "data": {
      "text/html": [
       "<div>\n",
       "<style scoped>\n",
       "    .dataframe tbody tr th:only-of-type {\n",
       "        vertical-align: middle;\n",
       "    }\n",
       "\n",
       "    .dataframe tbody tr th {\n",
       "        vertical-align: top;\n",
       "    }\n",
       "\n",
       "    .dataframe thead th {\n",
       "        text-align: right;\n",
       "    }\n",
       "</style>\n",
       "<table border=\"1\" class=\"dataframe\">\n",
       "  <thead>\n",
       "    <tr style=\"text-align: right;\">\n",
       "      <th></th>\n",
       "      <th>band</th>\n",
       "      <th>species</th>\n",
       "      <th>beak length (mm)</th>\n",
       "      <th>beak depth (mm)</th>\n",
       "      <th>year</th>\n",
       "      <th>Duplicates</th>\n",
       "    </tr>\n",
       "  </thead>\n",
       "  <tbody>\n",
       "    <tr>\n",
       "      <th>102</th>\n",
       "      <td>316</td>\n",
       "      <td>fortis</td>\n",
       "      <td>10.9</td>\n",
       "      <td>9.70</td>\n",
       "      <td>1975</td>\n",
       "      <td>True</td>\n",
       "    </tr>\n",
       "    <tr>\n",
       "      <th>103</th>\n",
       "      <td>316</td>\n",
       "      <td>fortis</td>\n",
       "      <td>10.9</td>\n",
       "      <td>9.85</td>\n",
       "      <td>1975</td>\n",
       "      <td>True</td>\n",
       "    </tr>\n",
       "    <tr>\n",
       "      <th>2054</th>\n",
       "      <td>19028</td>\n",
       "      <td>fortis</td>\n",
       "      <td>12.5</td>\n",
       "      <td>8.90</td>\n",
       "      <td>2012</td>\n",
       "      <td>True</td>\n",
       "    </tr>\n",
       "    <tr>\n",
       "      <th>2175</th>\n",
       "      <td>19028</td>\n",
       "      <td>scandens</td>\n",
       "      <td>12.5</td>\n",
       "      <td>8.90</td>\n",
       "      <td>2012</td>\n",
       "      <td>True</td>\n",
       "    </tr>\n",
       "  </tbody>\n",
       "</table>\n",
       "</div>"
      ],
      "text/plain": [
       "       band   species  beak length (mm)  beak depth (mm)  year  Duplicates\n",
       "102     316    fortis              10.9             9.70  1975        True\n",
       "103     316    fortis              10.9             9.85  1975        True\n",
       "2054  19028    fortis              12.5             8.90  2012        True\n",
       "2175  19028  scandens              12.5             8.90  2012        True"
      ]
     },
     "execution_count": 7,
     "metadata": {},
     "output_type": "execute_result"
    }
   ],
   "source": [
    "# Check for duplicates\n",
    "df[\"Duplicates\"] = df.duplicated(subset = [\"band\", \"year\"], keep = False)\n",
    "df[df[\"Duplicates\"]]"
   ]
  },
  {
   "cell_type": "markdown",
   "metadata": {},
   "source": [
    "This only happened twice. The first one (102 and 103) has two different beak depths by .15 mm. This is probably fine, we can just average the two. The second one has two different species. This is bad, and since we don't know which one is real we should just drop this bird from our dataset. Let's do that now"
   ]
  },
  {
   "cell_type": "code",
   "execution_count": 8,
   "metadata": {},
   "outputs": [
    {
     "data": {
      "text/html": [
       "<div>\n",
       "<style scoped>\n",
       "    .dataframe tbody tr th:only-of-type {\n",
       "        vertical-align: middle;\n",
       "    }\n",
       "\n",
       "    .dataframe tbody tr th {\n",
       "        vertical-align: top;\n",
       "    }\n",
       "\n",
       "    .dataframe thead th {\n",
       "        text-align: right;\n",
       "    }\n",
       "</style>\n",
       "<table border=\"1\" class=\"dataframe\">\n",
       "  <thead>\n",
       "    <tr style=\"text-align: right;\">\n",
       "      <th></th>\n",
       "      <th>band</th>\n",
       "      <th>species</th>\n",
       "      <th>beak length (mm)</th>\n",
       "      <th>beak depth (mm)</th>\n",
       "      <th>year</th>\n",
       "    </tr>\n",
       "  </thead>\n",
       "  <tbody>\n",
       "    <tr>\n",
       "      <th>0</th>\n",
       "      <td>20123</td>\n",
       "      <td>fortis</td>\n",
       "      <td>9.25</td>\n",
       "      <td>8.05</td>\n",
       "      <td>1973</td>\n",
       "    </tr>\n",
       "    <tr>\n",
       "      <th>1</th>\n",
       "      <td>20126</td>\n",
       "      <td>fortis</td>\n",
       "      <td>11.35</td>\n",
       "      <td>10.45</td>\n",
       "      <td>1973</td>\n",
       "    </tr>\n",
       "    <tr>\n",
       "      <th>2</th>\n",
       "      <td>20128</td>\n",
       "      <td>fortis</td>\n",
       "      <td>10.15</td>\n",
       "      <td>9.55</td>\n",
       "      <td>1973</td>\n",
       "    </tr>\n",
       "    <tr>\n",
       "      <th>3</th>\n",
       "      <td>20129</td>\n",
       "      <td>fortis</td>\n",
       "      <td>9.95</td>\n",
       "      <td>8.75</td>\n",
       "      <td>1973</td>\n",
       "    </tr>\n",
       "    <tr>\n",
       "      <th>4</th>\n",
       "      <td>20133</td>\n",
       "      <td>fortis</td>\n",
       "      <td>11.55</td>\n",
       "      <td>10.15</td>\n",
       "      <td>1973</td>\n",
       "    </tr>\n",
       "  </tbody>\n",
       "</table>\n",
       "</div>"
      ],
      "text/plain": [
       "    band species  beak length (mm)  beak depth (mm)  year\n",
       "0  20123  fortis              9.25             8.05  1973\n",
       "1  20126  fortis             11.35            10.45  1973\n",
       "2  20128  fortis             10.15             9.55  1973\n",
       "3  20129  fortis              9.95             8.75  1973\n",
       "4  20133  fortis             11.55            10.15  1973"
      ]
     },
     "execution_count": 8,
     "metadata": {},
     "output_type": "execute_result"
    }
   ],
   "source": [
    "df = df.drop(df.index[[103, 2054, 2175]])\n",
    "df.at[102, \"beak depth (mm)\"] = 9.77\n",
    "df = df.reset_index()\n",
    "df = df.drop(columns = [\"index\", \"Duplicates\"])\n",
    "df.head()"
   ]
  },
  {
   "cell_type": "code",
   "execution_count": 9,
   "metadata": {},
   "outputs": [
    {
     "data": {
      "text/html": [
       "<div>\n",
       "<style scoped>\n",
       "    .dataframe tbody tr th:only-of-type {\n",
       "        vertical-align: middle;\n",
       "    }\n",
       "\n",
       "    .dataframe tbody tr th {\n",
       "        vertical-align: top;\n",
       "    }\n",
       "\n",
       "    .dataframe thead th {\n",
       "        text-align: right;\n",
       "    }\n",
       "</style>\n",
       "<table border=\"1\" class=\"dataframe\">\n",
       "  <thead>\n",
       "    <tr style=\"text-align: right;\">\n",
       "      <th></th>\n",
       "      <th>band</th>\n",
       "      <th>year</th>\n",
       "      <th>species</th>\n",
       "      <th>beak length (mm)</th>\n",
       "      <th>beak depth (mm)</th>\n",
       "    </tr>\n",
       "  </thead>\n",
       "  <tbody>\n",
       "    <tr>\n",
       "      <th>0</th>\n",
       "      <td>20123</td>\n",
       "      <td>1973</td>\n",
       "      <td>fortis</td>\n",
       "      <td>9.25</td>\n",
       "      <td>8.05</td>\n",
       "    </tr>\n",
       "    <tr>\n",
       "      <th>1</th>\n",
       "      <td>20126</td>\n",
       "      <td>1973</td>\n",
       "      <td>fortis</td>\n",
       "      <td>11.35</td>\n",
       "      <td>10.45</td>\n",
       "    </tr>\n",
       "    <tr>\n",
       "      <th>2</th>\n",
       "      <td>20128</td>\n",
       "      <td>1973</td>\n",
       "      <td>fortis</td>\n",
       "      <td>10.15</td>\n",
       "      <td>9.55</td>\n",
       "    </tr>\n",
       "    <tr>\n",
       "      <th>3</th>\n",
       "      <td>20129</td>\n",
       "      <td>1973</td>\n",
       "      <td>fortis</td>\n",
       "      <td>9.95</td>\n",
       "      <td>8.75</td>\n",
       "    </tr>\n",
       "    <tr>\n",
       "      <th>4</th>\n",
       "      <td>20133</td>\n",
       "      <td>1973</td>\n",
       "      <td>fortis</td>\n",
       "      <td>11.55</td>\n",
       "      <td>10.15</td>\n",
       "    </tr>\n",
       "  </tbody>\n",
       "</table>\n",
       "</div>"
      ],
      "text/plain": [
       "    band  year species  beak length (mm)  beak depth (mm)\n",
       "0  20123  1973  fortis              9.25             8.05\n",
       "1  20126  1973  fortis             11.35            10.45\n",
       "2  20128  1973  fortis             10.15             9.55\n",
       "3  20129  1973  fortis              9.95             8.75\n",
       "4  20133  1973  fortis             11.55            10.15"
      ]
     },
     "execution_count": 9,
     "metadata": {},
     "output_type": "execute_result"
    }
   ],
   "source": [
    "df_tidy = df[['band',\n",
    "              'year',\n",
    "              'species',\n",
    "              'beak length (mm)', \n",
    "              'beak depth (mm)']]\n",
    "df_tidy.head()"
   ]
  },
  {
   "cell_type": "markdown",
   "metadata": {},
   "source": [
    "<p style=\"background-color:#D9EDF7\">\n",
    "    Excellent job validating your data and explaining your rationale for each step!<br>\n",
    "</p>"
   ]
  },
  {
   "cell_type": "markdown",
   "metadata": {},
   "source": [
    "**b)** Plot ECDFs of the beak depths of *Geospiza scandens* in 1975 and in 2012. Then, estimate the mean beak depth for each of these years with confidence intervals.\n"
   ]
  },
  {
   "cell_type": "code",
   "execution_count": 10,
   "metadata": {},
   "outputs": [
    {
     "data": {
      "text/html": [
       "<div>\n",
       "<style scoped>\n",
       "    .dataframe tbody tr th:only-of-type {\n",
       "        vertical-align: middle;\n",
       "    }\n",
       "\n",
       "    .dataframe tbody tr th {\n",
       "        vertical-align: top;\n",
       "    }\n",
       "\n",
       "    .dataframe thead th {\n",
       "        text-align: right;\n",
       "    }\n",
       "</style>\n",
       "<table border=\"1\" class=\"dataframe\">\n",
       "  <thead>\n",
       "    <tr style=\"text-align: right;\">\n",
       "      <th></th>\n",
       "      <th>band</th>\n",
       "      <th>year</th>\n",
       "      <th>species</th>\n",
       "      <th>beak length (mm)</th>\n",
       "      <th>beak depth (mm)</th>\n",
       "    </tr>\n",
       "  </thead>\n",
       "  <tbody>\n",
       "    <tr>\n",
       "      <th>401</th>\n",
       "      <td>302</td>\n",
       "      <td>1975</td>\n",
       "      <td>scandens</td>\n",
       "      <td>13.9</td>\n",
       "      <td>8.4</td>\n",
       "    </tr>\n",
       "    <tr>\n",
       "      <th>402</th>\n",
       "      <td>304</td>\n",
       "      <td>1975</td>\n",
       "      <td>scandens</td>\n",
       "      <td>14.0</td>\n",
       "      <td>8.8</td>\n",
       "    </tr>\n",
       "    <tr>\n",
       "      <th>403</th>\n",
       "      <td>306</td>\n",
       "      <td>1975</td>\n",
       "      <td>scandens</td>\n",
       "      <td>12.9</td>\n",
       "      <td>8.4</td>\n",
       "    </tr>\n",
       "    <tr>\n",
       "      <th>404</th>\n",
       "      <td>310</td>\n",
       "      <td>1975</td>\n",
       "      <td>scandens</td>\n",
       "      <td>13.5</td>\n",
       "      <td>8.0</td>\n",
       "    </tr>\n",
       "    <tr>\n",
       "      <th>405</th>\n",
       "      <td>317</td>\n",
       "      <td>1975</td>\n",
       "      <td>scandens</td>\n",
       "      <td>12.9</td>\n",
       "      <td>7.9</td>\n",
       "    </tr>\n",
       "  </tbody>\n",
       "</table>\n",
       "</div>"
      ],
      "text/plain": [
       "     band  year   species  beak length (mm)  beak depth (mm)\n",
       "401   302  1975  scandens              13.9              8.4\n",
       "402   304  1975  scandens              14.0              8.8\n",
       "403   306  1975  scandens              12.9              8.4\n",
       "404   310  1975  scandens              13.5              8.0\n",
       "405   317  1975  scandens              12.9              7.9"
      ]
     },
     "execution_count": 10,
     "metadata": {},
     "output_type": "execute_result"
    }
   ],
   "source": [
    "scandens = df_tidy[\"species\"] == 'scandens'\n",
    "yr1975 = df_tidy[\"year\"] == 1975\n",
    "yr2012 = df_tidy[\"year\"] == 2012\n",
    "df_depths = df_tidy[scandens & (yr1975 | yr2012)].copy()\n",
    "df_depths.head()"
   ]
  },
  {
   "cell_type": "code",
   "execution_count": 11,
   "metadata": {},
   "outputs": [
    {
     "data": {
      "text/plain": [
       "1975"
      ]
     },
     "execution_count": 11,
     "metadata": {},
     "output_type": "execute_result"
    }
   ],
   "source": [
    "df_depths.loc[404][\"year\"]"
   ]
  },
  {
   "cell_type": "code",
   "execution_count": 12,
   "metadata": {},
   "outputs": [
    {
     "data": {
      "application/vnd.vegalite.v2+json": {
       "$schema": "https://vega.github.io/schema/vega-lite/v2.6.0.json",
       "config": {
        "view": {
         "height": 300,
         "width": 400
        }
       },
       "data": {
        "format": {
         "type": "json"
        },
        "url": "altair-data-3fbf49ce79b7369c8bbc68a365565fbf.json"
       },
       "encoding": {
        "color": {
         "field": "year",
         "scale": {},
         "title": "Year",
         "type": "nominal"
        },
        "order": {
         "field": "beak depth (mm)",
         "sort": "ascending",
         "type": "quantitative"
        },
        "x": {
         "axis": {
          "title": "beak depth (mm)"
         },
         "field": "beak depth (mm)",
         "type": "quantitative"
        },
        "y": {
         "field": "__ECDF",
         "title": "ECDF",
         "type": "quantitative"
        }
       },
       "height": 300,
       "mark": {
        "type": "line"
       },
       "width": 500
      },
      "image/png": "[encoded data removed]",
      "text/plain": [
       "<VegaLite 2 object>\n",
       "\n",
       "If you see this message, it means the renderer has not been properly enabled\n",
       "for the frontend that you are using. For more information, see\n",
       "https://altair-viz.github.io/user_guide/troubleshooting.html\n"
      ]
     },
     "execution_count": 12,
     "metadata": {},
     "output_type": "execute_result"
    }
   ],
   "source": [
    "altcat.catplot(data=df_depths,\n",
    "               height=300,\n",
    "               width = 500,\n",
    "               mark='line',\n",
    "               encoding=dict(x=alt.X('beak depth (mm):Q', \n",
    "                                      axis = alt.Axis(title='beak depth (mm)')),\n",
    "                             color=alt.Color('year:N', title='Year')),\n",
    "               transform='ecdf')"
   ]
  },
  {
   "cell_type": "markdown",
   "metadata": {},
   "source": [
    "To estimate the mean we can simply use the numpy mean function:"
   ]
  },
  {
   "cell_type": "code",
   "execution_count": 13,
   "metadata": {},
   "outputs": [
    {
     "name": "stdout",
     "output_type": "stream",
     "text": [
      "The mean beak depth in 1975 is 8.96 mm.\n",
      "The mean beak depth in 2012 is 9.19 mm.\n"
     ]
    }
   ],
   "source": [
    "# Make our datasets\n",
    "d1975 = df_depths.loc[df_depths[\"year\"] == 1975,\n",
    "                      \"beak depth (mm)\"].values\n",
    "d2012 = df_depths.loc[df_depths[\"year\"] == 2012,\n",
    "                      \"beak depth (mm)\"].values\n",
    "\n",
    "mean_1975 = np.mean(d1975)\n",
    "mean_2012 = np.mean(d2012)\n",
    "print(\"The mean beak depth in 1975 is %.2f mm.\" \n",
    "      % mean_1975)\n",
    "print(\"The mean beak depth in 2012 is %.2f mm.\" \n",
    "      % mean_2012)"
   ]
  },
  {
   "cell_type": "markdown",
   "metadata": {},
   "source": [
    "To estimate the confidence intervals, we will draw bootstrap replicates of the mean from the dataset. We will use functions using numba to do this."
   ]
  },
  {
   "cell_type": "code",
   "execution_count": 14,
   "metadata": {},
   "outputs": [],
   "source": [
    "@numba.jit(nopython=True)\n",
    "def draw_bs_sample(data):\n",
    "    \"\"\"\n",
    "    Draw a bootstrap sample from a 1D data set.\n",
    "    \"\"\"\n",
    "    return np.random.choice(data, size=len(data))\n",
    "\n",
    "@numba.jit(nopython=True)\n",
    "def draw_bs_reps_mean(data, size=1):\n",
    "    \"\"\"\n",
    "    Draw boostrap replicates of the mean from 1D data set.\n",
    "    \"\"\"\n",
    "    out = np.empty(size)\n",
    "    for i in range(size):\n",
    "        out[i] = np.mean(draw_bs_sample(data))\n",
    "    return out"
   ]
  },
  {
   "cell_type": "markdown",
   "metadata": {},
   "source": [
    "Now lets perform this on the datasets of beak depth for each year:"
   ]
  },
  {
   "cell_type": "code",
   "execution_count": 15,
   "metadata": {},
   "outputs": [],
   "source": [
    "# Do our bootstrapping\n",
    "bs_mean_1975_depths = draw_bs_reps_mean(d1975, size=10000)\n",
    "bs_mean_2012_depths = draw_bs_reps_mean(d2012, size=10000)"
   ]
  },
  {
   "cell_type": "markdown",
   "metadata": {},
   "source": [
    "Now let's compute the confidence intervals:"
   ]
  },
  {
   "cell_type": "code",
   "execution_count": 16,
   "metadata": {},
   "outputs": [
    {
     "name": "stdout",
     "output_type": "stream",
     "text": [
      "\n",
      "Mean beak depth 95% conf int 1975 (mm):   [8.84, 9.08]\n",
      "Mean beak depth 95% conf int 2012 (mm): [9.07, 9.31]\n",
      "\n"
     ]
    }
   ],
   "source": [
    "# 95% confidence intervals\n",
    "mean_1975_conf_int = np.percentile(bs_mean_1975_depths, [2.5, 97.5])\n",
    "mean_2012_conf_int = np.percentile(bs_mean_2012_depths, [2.5, 97.5])\n",
    "\n",
    "print(\"\"\"\n",
    "Mean beak depth 95% conf int 1975 (mm):   [{0:.2f}, {1:.2f}]\n",
    "Mean beak depth 95% conf int 2012 (mm): [{2:.2f}, {3:.2f}]\n",
    "\"\"\".format(*(tuple(mean_1975_conf_int) + tuple(mean_2012_conf_int))))"
   ]
  },
  {
   "cell_type": "markdown",
   "metadata": {},
   "source": [
    "Let's graph these bootstraps because we can:"
   ]
  },
  {
   "cell_type": "code",
   "execution_count": 17,
   "metadata": {},
   "outputs": [
    {
     "data": {
      "text/html": [
       "\n",
       "\n",
       "\n",
       "\n",
       "\n",
       "\n",
       "  <div class=\"bk-root\" id=\"6510b7d9-962f-4157-bccc-d1735898de2a\"></div>\n"
      ]
     },
     "metadata": {},
     "output_type": "display_data"
    },
    {
     "data": {
      "application/javascript": [
       "(function(root) {\n",
       "  function embed_document(root) {\n",
       "    \n",
       "  var docs_json = {\"0ee39b9e-9ced-43b5-9219-404414f936de\":{\"roots\":{\"references\":[{\"attributes\":{},\"id\":\"43f5155c-8a77-45bd-ac21-a8a6c49c217b\",\"type\":\"BasicTickFormatter\"},{\"attributes\":{\"axis_label\":\"Beak Depth (mm)\",\"formatter\":{\"id\":\"1c4fa3de-0480-4686-be8d-a83ab301f7c8\",\"type\":\"BasicTickFormatter\"},\"plot\":{\"id\":\"ed68d8a0-cae5-4e14-9f6c-d9bbfcc6f147\",\"subtype\":\"Figure\",\"type\":\"Plot\"},\"ticker\":{\"id\":\"14333d9c-b8ea-4d55-a82d-b73f181a38aa\",\"type\":\"BasicTicker\"}},\"id\":\"e70e8712-3c62-4b8d-96fd-7567a63d385b\",\"type\":\"LinearAxis\"},{\"attributes\":{},\"id\":\"14333d9c-b8ea-4d55-a82d-b73f181a38aa\",\"type\":\"BasicTicker\"},{\"attributes\":{\"plot\":{\"id\":\"ed68d8a0-cae5-4e14-9f6c-d9bbfcc6f147\",\"subtype\":\"Figure\",\"type\":\"Plot\"},\"ticker\":{\"id\":\"14333d9c-b8ea-4d55-a82d-b73f181a38aa\",\"type\":\"BasicTicker\"}},\"id\":\"c9dc157a-01ca-467f-9ca7-38fe1ea4c2a7\",\"type\":\"Grid\"},{\"attributes\":{\"axis_label\":\"ECDF\",\"formatter\":{\"id\":\"43f5155c-8a77-45bd-ac21-a8a6c49c217b\",\"type\":\"BasicTickFormatter\"},\"plot\":{\"id\":\"ed68d8a0-cae5-4e14-9f6c-d9bbfcc6f147\",\"subtype\":\"Figure\",\"type\":\"Plot\"},\"ticker\":{\"id\":\"0d9a51bd-6c59-4fe4-bc77-c1340225a88e\",\"type\":\"BasicTicker\"}},\"id\":\"54df2a16-c4be-4577-bb69-bcc8e2ccdedd\",\"type\":\"LinearAxis\"},{\"attributes\":{},\"id\":\"0d9a51bd-6c59-4fe4-bc77-c1340225a88e\",\"type\":\"BasicTicker\"},{\"attributes\":{\"dimension\":1,\"plot\":{\"id\":\"ed68d8a0-cae5-4e14-9f6c-d9bbfcc6f147\",\"subtype\":\"Figure\",\"type\":\"Plot\"},\"ticker\":{\"id\":\"0d9a51bd-6c59-4fe4-bc77-c1340225a88e\",\"type\":\"BasicTicker\"}},\"id\":\"3a4b7b0d-bdc0-48c8-a452-a3a0bf4b8487\",\"type\":\"Grid\"},{\"attributes\":{\"bottom_units\":\"screen\",\"fill_alpha\":{\"value\":0.5},\"fill_color\":{\"value\":\"lightgrey\"},\"left_units\":\"screen\",\"level\":\"overlay\",\"line_alpha\":{\"value\":1.0},\"line_color\":{\"value\":\"black\"},\"line_dash\":[4,4],\"line_width\":{\"value\":2},\"plot\":null,\"render_mode\":\"css\",\"right_units\":\"screen\",\"top_units\":\"screen\"},\"id\":\"c1d2b2f8-6f39-4d02-9551-9b1926fd96b2\",\"type\":\"BoxAnnotation\"},{\"attributes\":{\"items\":[{\"id\":\"da0f900f-be17-4a9e-9b0d-4ac371ae7d00\",\"type\":\"LegendItem\"},{\"id\":\"c3579eb7-a5f5-499e-9c04-03935fc3d983\",\"type\":\"LegendItem\"}],\"location\":\"bottom_right\",\"plot\":{\"id\":\"ed68d8a0-cae5-4e14-9f6c-d9bbfcc6f147\",\"subtype\":\"Figure\",\"type\":\"Plot\"}},\"id\":\"a9c90376-26d8-46eb-9b34-b3ce88d7cac8\",\"type\":\"Legend\"},{\"attributes\":{\"callback\":null,\"data\":{\"x\":{\"__ndarray__\":\"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\",\"dtype\":\"float64\",\"shape\":[10000]},\"y\":{\"__ndarray__\":\"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\",\"dtype\":\"float64\",\"shape\":[10000]}},\"selected\":{\"id\":\"fd19a02b-fdd2-4bc5-a497-fe1a08c25ee6\",\"type\":\"Selection\"},\"selection_policy\":{\"id\":\"d1ff3cb3-1cbd-43f3-b639-ac7abc3899a5\",\"type\":\"UnionRenderers\"}},\"id\":\"62f08c25-b435-4872-9a79-afa46516a282\",\"type\":\"ColumnDataSource\"},{\"attributes\":{},\"id\":\"eb544fe4-0fb2-4f11-a65b-f794ee2e9965\",\"type\":\"PanTool\"},{\"attributes\":{\"data_source\":{\"id\":\"62f08c25-b435-4872-9a79-afa46516a282\",\"type\":\"ColumnDataSource\"},\"glyph\":{\"id\":\"ed4aaad0-0660-4dd4-86e3-a3cbb127a288\",\"type\":\"Circle\"},\"hover_glyph\":null,\"muted_glyph\":null,\"nonselection_glyph\":{\"id\":\"af666b39-0cab-4b76-98fb-2741231f9ca1\",\"type\":\"Circle\"},\"selection_glyph\":null,\"view\":{\"id\":\"927afa69-e914-40dc-9de9-ac72f16259b0\",\"type\":\"CDSView\"}},\"id\":\"b3ee17d6-9988-478f-87fe-6c3b3fa7246d\",\"type\":\"GlyphRenderer\"},{\"attributes\":{},\"id\":\"85e44cbc-cf33-4d02-a6c2-2977247bd645\",\"type\":\"WheelZoomTool\"},{\"attributes\":{\"overlay\":{\"id\":\"c1d2b2f8-6f39-4d02-9551-9b1926fd96b2\",\"type\":\"BoxAnnotation\"}},\"id\":\"dc2759c3-0615-4b97-8dcd-25ebd22fdaa0\",\"type\":\"BoxZoomTool\"},{\"attributes\":{},\"id\":\"94bb6909-4c80-4f6d-8e80-de84ee1ca50c\",\"type\":\"SaveTool\"},{\"attributes\":{\"fill_color\":{\"value\":\"#4e79a7\"},\"line_color\":{\"value\":\"#4e79a7\"},\"x\":{\"field\":\"x\"},\"y\":{\"field\":\"y\"}},\"id\":\"ed4aaad0-0660-4dd4-86e3-a3cbb127a288\",\"type\":\"Circle\"},{\"attributes\":{},\"id\":\"07e87eee-f2ff-43b0-a45f-b4cac0fc25c4\",\"type\":\"ResetTool\"},{\"attributes\":{},\"id\":\"39f27844-00e7-457a-bc7c-e655f2bc8f2b\",\"type\":\"HelpTool\"},{\"attributes\":{\"fill_alpha\":{\"value\":0.1},\"fill_color\":{\"value\":\"#1f77b4\"},\"line_alpha\":{\"value\":0.1},\"line_color\":{\"value\":\"#1f77b4\"},\"x\":{\"field\":\"x\"},\"y\":{\"field\":\"y\"}},\"id\":\"e689c6a4-031e-455f-86b5-aa1b6afde13a\",\"type\":\"Circle\"},{\"attributes\":{\"fill_color\":{\"value\":\"#f28e2b\"},\"line_color\":{\"value\":\"#f28e2b\"},\"x\":{\"field\":\"x\"},\"y\":{\"field\":\"y\"}},\"id\":\"0a071577-9752-4422-b5e4-812c0da19888\",\"type\":\"Circle\"},{\"attributes\":{\"data_source\":{\"id\":\"026c1662-f7f6-4e3a-b0d8-78d8e7a64bbf\",\"type\":\"ColumnDataSource\"},\"glyph\":{\"id\":\"0a071577-9752-4422-b5e4-812c0da19888\",\"type\":\"Circle\"},\"hover_glyph\":null,\"muted_glyph\":null,\"nonselection_glyph\":{\"id\":\"e689c6a4-031e-455f-86b5-aa1b6afde13a\",\"type\":\"Circle\"},\"selection_glyph\":null,\"view\":{\"id\":\"3c467817-9e0f-4b96-9d0b-c4d455a066b2\",\"type\":\"CDSView\"}},\"id\":\"f12d115d-912e-4eb8-9518-86d6f3cb3b22\",\"type\":\"GlyphRenderer\"},{\"attributes\":{\"source\":{\"id\":\"026c1662-f7f6-4e3a-b0d8-78d8e7a64bbf\",\"type\":\"ColumnDataSource\"}},\"id\":\"3c467817-9e0f-4b96-9d0b-c4d455a066b2\",\"type\":\"CDSView\"},{\"attributes\":{},\"id\":\"d1ff3cb3-1cbd-43f3-b639-ac7abc3899a5\",\"type\":\"UnionRenderers\"},{\"attributes\":{},\"id\":\"fd19a02b-fdd2-4bc5-a497-fe1a08c25ee6\",\"type\":\"Selection\"},{\"attributes\":{\"fill_alpha\":{\"value\":0.1},\"fill_color\":{\"value\":\"#1f77b4\"},\"line_alpha\":{\"value\":0.1},\"line_color\":{\"value\":\"#1f77b4\"},\"x\":{\"field\":\"x\"},\"y\":{\"field\":\"y\"}},\"id\":\"af666b39-0cab-4b76-98fb-2741231f9ca1\",\"type\":\"Circle\"},{\"attributes\":{\"label\":{\"value\":\"2012\"},\"renderers\":[{\"id\":\"f12d115d-912e-4eb8-9518-86d6f3cb3b22\",\"type\":\"GlyphRenderer\"}]},\"id\":\"c3579eb7-a5f5-499e-9c04-03935fc3d983\",\"type\":\"LegendItem\"},{\"attributes\":{\"callback\":null,\"data\":{\"x\":{\"__ndarray__\":\"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\",\"dtype\":\"float64\",\"shape\":[10000]},\"y\":{\"__ndarray__\":\"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\",\"dtype\":\"float64\",\"shape\":[10000]}},\"selected\":{\"id\":\"dd52b4ca-e8cd-41bb-a64b-293b665f908d\",\"type\":\"Selection\"},\"selection_policy\":{\"id\":\"9fed2a71-fcad-4706-84d3-eec8e9559ee2\",\"type\":\"UnionRenderers\"}},\"id\":\"026c1662-f7f6-4e3a-b0d8-78d8e7a64bbf\",\"type\":\"ColumnDataSource\"},{\"attributes\":{\"source\":{\"id\":\"62f08c25-b435-4872-9a79-afa46516a282\",\"type\":\"ColumnDataSource\"}},\"id\":\"927afa69-e914-40dc-9de9-ac72f16259b0\",\"type\":\"CDSView\"},{\"attributes\":{},\"id\":\"9fed2a71-fcad-4706-84d3-eec8e9559ee2\",\"type\":\"UnionRenderers\"},{\"attributes\":{},\"id\":\"1c4fa3de-0480-4686-be8d-a83ab301f7c8\",\"type\":\"BasicTickFormatter\"},{\"attributes\":{\"below\":[{\"id\":\"e70e8712-3c62-4b8d-96fd-7567a63d385b\",\"type\":\"LinearAxis\"}],\"left\":[{\"id\":\"54df2a16-c4be-4577-bb69-bcc8e2ccdedd\",\"type\":\"LinearAxis\"}],\"plot_height\":300,\"plot_width\":450,\"renderers\":[{\"id\":\"e70e8712-3c62-4b8d-96fd-7567a63d385b\",\"type\":\"LinearAxis\"},{\"id\":\"c9dc157a-01ca-467f-9ca7-38fe1ea4c2a7\",\"type\":\"Grid\"},{\"id\":\"54df2a16-c4be-4577-bb69-bcc8e2ccdedd\",\"type\":\"LinearAxis\"},{\"id\":\"3a4b7b0d-bdc0-48c8-a452-a3a0bf4b8487\",\"type\":\"Grid\"},{\"id\":\"c1d2b2f8-6f39-4d02-9551-9b1926fd96b2\",\"type\":\"BoxAnnotation\"},{\"id\":\"a9c90376-26d8-46eb-9b34-b3ce88d7cac8\",\"type\":\"Legend\"},{\"id\":\"b3ee17d6-9988-478f-87fe-6c3b3fa7246d\",\"type\":\"GlyphRenderer\"},{\"id\":\"f12d115d-912e-4eb8-9518-86d6f3cb3b22\",\"type\":\"GlyphRenderer\"}],\"title\":null,\"toolbar\":{\"id\":\"90997898-fbc0-49ca-be56-e6169cdb7a03\",\"type\":\"Toolbar\"},\"x_range\":{\"id\":\"3611a6b1-9b32-4e47-85f2-20ab428bd3db\",\"type\":\"DataRange1d\"},\"x_scale\":{\"id\":\"deccf5c1-7aca-4b46-bb79-dc3b71c4bd4c\",\"type\":\"LinearScale\"},\"y_range\":{\"id\":\"e464354f-baac-42e2-bb19-933957c9cbed\",\"type\":\"DataRange1d\"},\"y_scale\":{\"id\":\"2bec0a2d-4108-409e-acf6-a3ebf88dd0ee\",\"type\":\"LinearScale\"}},\"id\":\"ed68d8a0-cae5-4e14-9f6c-d9bbfcc6f147\",\"subtype\":\"Figure\",\"type\":\"Plot\"},{\"attributes\":{},\"id\":\"dd52b4ca-e8cd-41bb-a64b-293b665f908d\",\"type\":\"Selection\"},{\"attributes\":{\"label\":{\"value\":\"1975\"},\"renderers\":[{\"id\":\"b3ee17d6-9988-478f-87fe-6c3b3fa7246d\",\"type\":\"GlyphRenderer\"}]},\"id\":\"da0f900f-be17-4a9e-9b0d-4ac371ae7d00\",\"type\":\"LegendItem\"},{\"attributes\":{\"active_drag\":\"auto\",\"active_inspect\":\"auto\",\"active_multi\":null,\"active_scroll\":\"auto\",\"active_tap\":\"auto\",\"tools\":[{\"id\":\"eb544fe4-0fb2-4f11-a65b-f794ee2e9965\",\"type\":\"PanTool\"},{\"id\":\"85e44cbc-cf33-4d02-a6c2-2977247bd645\",\"type\":\"WheelZoomTool\"},{\"id\":\"dc2759c3-0615-4b97-8dcd-25ebd22fdaa0\",\"type\":\"BoxZoomTool\"},{\"id\":\"94bb6909-4c80-4f6d-8e80-de84ee1ca50c\",\"type\":\"SaveTool\"},{\"id\":\"07e87eee-f2ff-43b0-a45f-b4cac0fc25c4\",\"type\":\"ResetTool\"},{\"id\":\"39f27844-00e7-457a-bc7c-e655f2bc8f2b\",\"type\":\"HelpTool\"}]},\"id\":\"90997898-fbc0-49ca-be56-e6169cdb7a03\",\"type\":\"Toolbar\"},{\"attributes\":{\"callback\":null},\"id\":\"3611a6b1-9b32-4e47-85f2-20ab428bd3db\",\"type\":\"DataRange1d\"},{\"attributes\":{},\"id\":\"deccf5c1-7aca-4b46-bb79-dc3b71c4bd4c\",\"type\":\"LinearScale\"},{\"attributes\":{\"callback\":null},\"id\":\"e464354f-baac-42e2-bb19-933957c9cbed\",\"type\":\"DataRange1d\"},{\"attributes\":{},\"id\":\"2bec0a2d-4108-409e-acf6-a3ebf88dd0ee\",\"type\":\"LinearScale\"}],\"root_ids\":[\"ed68d8a0-cae5-4e14-9f6c-d9bbfcc6f147\"]},\"title\":\"Bokeh Application\",\"version\":\"0.13.0\"}};\n",
       "  var render_items = [{\"docid\":\"0ee39b9e-9ced-43b5-9219-404414f936de\",\"roots\":{\"ed68d8a0-cae5-4e14-9f6c-d9bbfcc6f147\":\"6510b7d9-962f-4157-bccc-d1735898de2a\"}}];\n",
       "  root.Bokeh.embed.embed_items_notebook(docs_json, render_items);\n",
       "\n",
       "  }\n",
       "  if (root.Bokeh !== undefined) {\n",
       "    embed_document(root);\n",
       "  } else {\n",
       "    var attempts = 0;\n",
       "    var timer = setInterval(function(root) {\n",
       "      if (root.Bokeh !== undefined) {\n",
       "        embed_document(root);\n",
       "        clearInterval(timer);\n",
       "      }\n",
       "      attempts++;\n",
       "      if (attempts > 100) {\n",
       "        console.log(\"Bokeh: ERROR: Unable to run BokehJS code because BokehJS library is missing\")\n",
       "        clearInterval(timer);\n",
       "      }\n",
       "    }, 10, root)\n",
       "  }\n",
       "})(window);"
      ],
      "application/vnd.bokehjs_exec.v0+json": ""
     },
     "metadata": {
      "application/vnd.bokehjs_exec.v0+json": {
       "id": "ed68d8a0-cae5-4e14-9f6c-d9bbfcc6f147"
      }
     },
     "output_type": "display_data"
    }
   ],
   "source": [
    "p = bebi103.viz.ecdf(bs_mean_1975_depths,\n",
    "                     x_axis_label='Beak Depth (mm)',\n",
    "                     color='#4e79a7',\n",
    "                     legend='1975')\n",
    "p = bebi103.viz.ecdf(bs_mean_2012_depths, color='#f28e2b', legend='2012', p=p)\n",
    "\n",
    "p.legend.location = 'bottom_right'\n",
    "\n",
    "bokeh.io.show(p)"
   ]
  },
  {
   "cell_type": "markdown",
   "metadata": {},
   "source": [
    "**c)** Perform a hypothesis test comparing the *G. scandens* beak depths in 1975 and 2012. Carefully state your null hypothesis, your test statistic, and your definition of what it means to be at least as extreme as the observed test statistic. Comment on the results. It might be interesting to know that a severe drought in 1976 and 1977  resulted in the death of the plants that produce small seeds on the island."
   ]
  },
  {
   "cell_type": "markdown",
   "metadata": {},
   "source": [
    "Our null hypothesis is that the distribution of beak depths in 2012 is the same as the distribution of the beak depths in 1975."
   ]
  },
  {
   "cell_type": "markdown",
   "metadata": {},
   "source": [
    "Our test statistic is the difference in the mean of the two distributions."
   ]
  },
  {
   "cell_type": "markdown",
   "metadata": {},
   "source": [
    "We will use a permutation test to test this null hypothesis. Thus, we will define that to be at least as extreme as the observed test statistics the difference between the means of the two new data sets in the permutation sample must be greater than or equal to the difference in the mean of the empirical distributions."
   ]
  },
  {
   "cell_type": "markdown",
   "metadata": {},
   "source": [
    "To start, we will define some functions to generate permutation samples and to generate an array of permutation replicates using our test statistic as defined above:"
   ]
  },
  {
   "cell_type": "code",
   "execution_count": 18,
   "metadata": {},
   "outputs": [],
   "source": [
    "@numba.jit(nopython=True)\n",
    "def draw_perm_sample(x, y):\n",
    "    \"\"\"Generate a permutation sample.\"\"\"\n",
    "    concat_data = np.concatenate((x, y))\n",
    "    np.random.shuffle(concat_data)\n",
    "    return concat_data[:len(x)], concat_data[len(x):]\n",
    "\n",
    "@numba.jit(nopython=True)\n",
    "def draw_perm_reps_diff_mean(x, y, size=1):\n",
    "    \"\"\"\n",
    "    Generate array of permuation replicates.\n",
    "    \"\"\"\n",
    "    out = np.empty(size)\n",
    "    for i in range(size):\n",
    "        x_perm, y_perm = draw_perm_sample(x, y)\n",
    "        out[i] = np.mean(x_perm) - np.mean(y_perm)\n",
    "    return out\n"
   ]
  },
  {
   "cell_type": "markdown",
   "metadata": {},
   "source": [
    "Now let's compute!"
   ]
  },
  {
   "cell_type": "code",
   "execution_count": 19,
   "metadata": {},
   "outputs": [
    {
     "name": "stdout",
     "output_type": "stream",
     "text": [
      "p-value = 0.00476\n"
     ]
    }
   ],
   "source": [
    "# Compute test statistic for original data set\n",
    "diff_mean = np.mean(d2012) - np.mean(d1975)\n",
    "\n",
    "# Draw replicates\n",
    "perm_reps = draw_perm_reps_diff_mean(d2012, d1975, size=1000000)\n",
    "\n",
    "# Compute p-value\n",
    "p_val = np.sum(perm_reps >= diff_mean) / len(perm_reps)\n",
    "\n",
    "print('p-value =', p_val)"
   ]
  },
  {
   "cell_type": "markdown",
   "metadata": {},
   "source": [
    "Our p-value < .005, thus the probability of getting a difference of means as extreme as the observed one under the null hypothesis is small, so we can reject the null hypothesis. This suggests there is a statistically significant difference in the beak depths of finches between 1975 and 2012, suggesting that the size of the finch beaks changed. From part B we can see that the observed change in size was an increase. In light of the drought in 1976 and 1977 resulted in the death of the plants that produce small seeds on the island, we can hypothesize that the finches have evolved deeper beaks allowing them to eat larger seeds more easily in this time period, due to the selective pressure to be better able to eat larger seeds due to the lack of small seeds.\n"
   ]
  },
  {
   "cell_type": "markdown",
   "metadata": {},
   "source": [
    "<p style=\"background-color:#D9EDF7\">\n",
    "    Just as a note, your hypothesis test is specifically testing for a statistically significant <i>increase</i> in beak depths between 1975 and 2012 (since you look for values greater than your observed difference in means).<br>\n",
    "</p>"
   ]
  },
  {
   "cell_type": "markdown",
   "metadata": {},
   "source": [
    "**d)** Devise a measure for the *shape* of a beak. That is, invent some scalar measure that combines both the length and depth of the beak. Compare this measure between species and through time. (This is very open-ended. It is up to you to define the measure, make relevant plots, compute confidence intervals, and possibly do hypothesis tests to see how shape changes over time and between the two species.)"
   ]
  },
  {
   "cell_type": "markdown",
   "metadata": {},
   "source": [
    "I think that an interesting measure of beak shape would be constant for any given organism over time, but perhaps would be variable for a population or across species. To this end, I want to look at the relationship between the two measurements on the same bird over time, and see if beak growth (or decay) is common among each bird. "
   ]
  },
  {
   "cell_type": "code",
   "execution_count": 20,
   "metadata": {},
   "outputs": [
    {
     "name": "stdout",
     "output_type": "stream",
     "text": [
      "There are 1953 different birds in the study.\n",
      "Average bird lifespan: 0.71           Standard Dev: 1.56\n",
      "Average number of measurements: 1.18  Standard Dev: 0.38\n"
     ]
    }
   ],
   "source": [
    "bird_ids = np.unique(df_tidy[\"band\"].values)\n",
    "print(\"There are %i different birds in the study.\" %len(bird_ids))\n",
    "\n",
    "# Array of the form (lifespan, num_measurements)\n",
    "lifespans = np.zeros([len(bird_ids), 2])\n",
    "\n",
    "for i, id_num in zip(range(0, len(bird_ids)), bird_ids):\n",
    "    df_single_bird = df_tidy[df_tidy[\"band\"] == id_num]\n",
    "    arr_single_bird = df_single_bird[\"year\"].values\n",
    "    lifespans[i][0] = np.max(arr_single_bird) - np.min(arr_single_bird)\n",
    "    lifespans[i][1] = len(arr_single_bird)\n",
    "print(\"Average bird lifespan: %.2f           Standard Dev: %.2f\" \n",
    "      % (np.average(lifespans[...,0]), np.std(lifespans[...,0])))\n",
    "print(\"Average number of measurements: %.2f  Standard Dev: %.2f\" \n",
    "      % (np.average(lifespans[...,1]), np.std(lifespans[...,1])))"
   ]
  },
  {
   "cell_type": "markdown",
   "metadata": {},
   "source": [
    "It seems like most of our birds did not survive to the second measurement, but finches should live longer than a year. What happened?"
   ]
  },
  {
   "cell_type": "code",
   "execution_count": 21,
   "metadata": {},
   "outputs": [
    {
     "name": "stdout",
     "output_type": "stream",
     "text": [
      "Years we have measurements for: 5\n",
      "Duration of experiment: 40\n"
     ]
    }
   ],
   "source": [
    "bird_years = np.unique(df_tidy[\"year\"].values)\n",
    "print(\"Years we have measurements for: %i\" %len(bird_years))\n",
    "print(\"Duration of experiment: %i\" %(2012 - 1973 + 1))"
   ]
  },
  {
   "cell_type": "markdown",
   "metadata": {},
   "source": [
    "At best, we only have measurements that were taken every 8 years. This will make developing a shape independent of the growth of individual finches very difficult, given that we are unlikely to have more than 2 datapoints for any finch. Furthermore, this reveals that our above calculation for the average finch lifespan is roughly nonsense. "
   ]
  },
  {
   "cell_type": "markdown",
   "metadata": {},
   "source": [
    "At this point, it seems better to try and find an intuitive measure of beak shape, rather than struggle against limited data to find a more complex model. We will take a simple ratio, because we would like the shape to be independent of size. We expect that beak depth will have slightly less variability, so this shall be the denominator. Thus:\n",
    "$$\\text{Shape } = s = \\frac{\\text{beak length}}{\\text{beak depth}}$$\n",
    "I will add this parameter to the dataframe. "
   ]
  },
  {
   "cell_type": "code",
   "execution_count": 22,
   "metadata": {},
   "outputs": [
    {
     "name": "stderr",
     "output_type": "stream",
     "text": [
      "C:\\Users\\Christina\\Anaconda3\\envs\\be103\\lib\\site-packages\\pandas\\core\\indexing.py:362: SettingWithCopyWarning: \n",
      "A value is trying to be set on a copy of a slice from a DataFrame.\n",
      "Try using .loc[row_indexer,col_indexer] = value instead\n",
      "\n",
      "See the caveats in the documentation: http://pandas.pydata.org/pandas-docs/stable/indexing.html#indexing-view-versus-copy\n",
      "  self.obj[key] = _infer_fill_value(value)\n",
      "C:\\Users\\Christina\\Anaconda3\\envs\\be103\\lib\\site-packages\\pandas\\core\\indexing.py:543: SettingWithCopyWarning: \n",
      "A value is trying to be set on a copy of a slice from a DataFrame.\n",
      "Try using .loc[row_indexer,col_indexer] = value instead\n",
      "\n",
      "See the caveats in the documentation: http://pandas.pydata.org/pandas-docs/stable/indexing.html#indexing-view-versus-copy\n",
      "  self.obj[item] = s\n"
     ]
    },
    {
     "data": {
      "text/html": [
       "<div>\n",
       "<style scoped>\n",
       "    .dataframe tbody tr th:only-of-type {\n",
       "        vertical-align: middle;\n",
       "    }\n",
       "\n",
       "    .dataframe tbody tr th {\n",
       "        vertical-align: top;\n",
       "    }\n",
       "\n",
       "    .dataframe thead th {\n",
       "        text-align: right;\n",
       "    }\n",
       "</style>\n",
       "<table border=\"1\" class=\"dataframe\">\n",
       "  <thead>\n",
       "    <tr style=\"text-align: right;\">\n",
       "      <th></th>\n",
       "      <th>band</th>\n",
       "      <th>year</th>\n",
       "      <th>species</th>\n",
       "      <th>beak length (mm)</th>\n",
       "      <th>beak depth (mm)</th>\n",
       "      <th>Shape</th>\n",
       "    </tr>\n",
       "  </thead>\n",
       "  <tbody>\n",
       "    <tr>\n",
       "      <th>0</th>\n",
       "      <td>20123</td>\n",
       "      <td>1973</td>\n",
       "      <td>fortis</td>\n",
       "      <td>9.25</td>\n",
       "      <td>8.05</td>\n",
       "      <td>1.149068</td>\n",
       "    </tr>\n",
       "    <tr>\n",
       "      <th>1</th>\n",
       "      <td>20126</td>\n",
       "      <td>1973</td>\n",
       "      <td>fortis</td>\n",
       "      <td>11.35</td>\n",
       "      <td>10.45</td>\n",
       "      <td>1.086124</td>\n",
       "    </tr>\n",
       "    <tr>\n",
       "      <th>2</th>\n",
       "      <td>20128</td>\n",
       "      <td>1973</td>\n",
       "      <td>fortis</td>\n",
       "      <td>10.15</td>\n",
       "      <td>9.55</td>\n",
       "      <td>1.062827</td>\n",
       "    </tr>\n",
       "    <tr>\n",
       "      <th>3</th>\n",
       "      <td>20129</td>\n",
       "      <td>1973</td>\n",
       "      <td>fortis</td>\n",
       "      <td>9.95</td>\n",
       "      <td>8.75</td>\n",
       "      <td>1.137143</td>\n",
       "    </tr>\n",
       "    <tr>\n",
       "      <th>4</th>\n",
       "      <td>20133</td>\n",
       "      <td>1973</td>\n",
       "      <td>fortis</td>\n",
       "      <td>11.55</td>\n",
       "      <td>10.15</td>\n",
       "      <td>1.137931</td>\n",
       "    </tr>\n",
       "  </tbody>\n",
       "</table>\n",
       "</div>"
      ],
      "text/plain": [
       "    band  year species  beak length (mm)  beak depth (mm)     Shape\n",
       "0  20123  1973  fortis              9.25             8.05  1.149068\n",
       "1  20126  1973  fortis             11.35            10.45  1.086124\n",
       "2  20128  1973  fortis             10.15             9.55  1.062827\n",
       "3  20129  1973  fortis              9.95             8.75  1.137143\n",
       "4  20133  1973  fortis             11.55            10.15  1.137931"
      ]
     },
     "execution_count": 22,
     "metadata": {},
     "output_type": "execute_result"
    }
   ],
   "source": [
    "df_tidy.loc[:,\"Shape\"] = (df_tidy.loc[:,\"beak length (mm)\"] / df_tidy.loc[:,\"beak depth (mm)\"])\n",
    "df_tidy.head()"
   ]
  },
  {
   "cell_type": "markdown",
   "metadata": {},
   "source": [
    "Now I will make a plot that displays the distribution of beak shape across species and time. "
   ]
  },
  {
   "cell_type": "code",
   "execution_count": 23,
   "metadata": {},
   "outputs": [
    {
     "data": {
      "text/html": [
       "\n",
       "\n",
       "\n",
       "\n",
       "\n",
       "\n",
       "  <div class=\"bk-root\" id=\"4d11978e-5c2f-428c-8c9f-ce271a015b46\"></div>\n"
      ]
     },
     "metadata": {},
     "output_type": "display_data"
    },
    {
     "data": {
      "application/javascript": [
       "(function(root) {\n",
       "  function embed_document(root) {\n",
       "    \n",
       "  var docs_json = {\"af67e98b-df1e-4d1b-822f-d8111214bab7\":{\"roots\":{\"references\":[{\"attributes\":{\"plot\":null,\"text\":\"Beak shape across time and species\"},\"id\":\"84e83ca3-4d9d-4481-9bda-429f61e95dfd\",\"type\":\"Title\"},{\"attributes\":{\"source\":{\"id\":\"88b7aabc-6f60-4ec2-bdbe-d62ec6fdc248\",\"type\":\"ColumnDataSource\"}},\"id\":\"c5367ca2-2960-4805-8ccf-974fc30674ef\",\"type\":\"CDSView\"},{\"attributes\":{\"label\":{\"value\":\"1975 scandens\"},\"renderers\":[{\"id\":\"993730dd-6ffa-49e9-84d0-510ba6001afa\",\"type\":\"GlyphRenderer\"}]},\"id\":\"d1341889-9ed3-4764-9a18-8ae88e46630c\",\"type\":\"LegendItem\"},{\"attributes\":{},\"id\":\"10861003-8326-4703-af74-43dfd02af9ec\",\"type\":\"ResetTool\"},{\"attributes\":{},\"id\":\"dd902a07-4fdd-41f6-b61f-b9cf548ed88d\",\"type\":\"UnionRenderers\"},{\"attributes\":{},\"id\":\"0393ca93-64e1-4845-b9a4-e0ee38bc1621\",\"type\":\"SaveTool\"},{\"attributes\":{},\"id\":\"165214b7-1b9c-4de1-84e3-07b4ec91f0b9\",\"type\":\"Selection\"},{\"attributes\":{},\"id\":\"9a01025a-195d-4219-a599-ac761b93a257\",\"type\":\"HelpTool\"},{\"attributes\":{\"fill_color\":{\"value\":\"#472777\"},\"line_color\":{\"value\":\"#472777\"},\"x\":{\"field\":\"x\"},\"y\":{\"field\":\"y\"}},\"id\":\"4e012d06-0569-47b6-bace-5a56ef04e448\",\"type\":\"Circle\"},{\"attributes\":{\"label\":{\"value\":\"1973 scandens\"},\"renderers\":[{\"id\":\"e93856f3-3452-49ab-b733-d6633046bf20\",\"type\":\"GlyphRenderer\"}]},\"id\":\"453b2859-50c9-4e09-b7ba-49e99d9e929c\",\"type\":\"LegendItem\"},{\"attributes\":{},\"id\":\"08c2caea-a635-495d-837b-79214ac8c73d\",\"type\":\"Selection\"},{\"attributes\":{\"fill_color\":{\"value\":\"#3E4989\"},\"line_color\":{\"value\":\"#3E4989\"},\"x\":{\"field\":\"x\"},\"y\":{\"field\":\"y\"}},\"id\":\"d9577766-19b3-42f7-a5ec-ec3dbd909ad6\",\"type\":\"Circle\"},{\"attributes\":{\"callback\":null,\"data\":{\"x\":{\"__ndarray__\":\"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\",\"dtype\":\"float64\",\"shape\":[787]},\"y\":{\"__ndarray__\":\"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\",\"dtype\":\"float64\",\"shape\":[787]}},\"selected\":{\"id\":\"e0741995-76e2-456e-b96d-2393eacd46fa\",\"type\":\"Selection\"},\"selection_policy\":{\"id\":\"e4e9e390-4579-4f7f-880d-5f042c0cd2b0\",\"type\":\"UnionRenderers\"}},\"id\":\"aead5963-6525-43b6-93e5-a9274545966d\",\"type\":\"ColumnDataSource\"},{\"attributes\":{\"fill_alpha\":{\"value\":0.1},\"fill_color\":{\"value\":\"#1f77b4\"},\"line_alpha\":{\"value\":0.1},\"line_color\":{\"value\":\"#1f77b4\"},\"x\":{\"field\":\"x\"},\"y\":{\"field\":\"y\"}},\"id\":\"f54cd7d1-83fd-431c-95fd-5d359ff6eb84\",\"type\":\"Circle\"},{\"attributes\":{\"callback\":null,\"data\":{\"x\":{\"__ndarray__\":\"M3wjCkw69T9GRkZGRkb2PznnnHPOOfc/sRM7sRM79z9WVVVVVVX3P3ave93rXvc/ZZdddtll9z+efHTy0cn3P9idyWjxyvc/9QV9QV/Q9z8ofdInfdL3PwAAAAAAAPg/AAAAAAAA+D82HDHtiQz4PxZYYIEFFvg/gQtc4AIX+D8YGBgYGBj4Pwz6gr6gL/g/MzMzMzMz+D8++OCDDz74P4YsZCELWfg/GPQFfUFf+D/ZbpYnkWn4PwmHcAiHcPg/JEmSJEmS+D/JNGw3y5P4P9mJndiJnfg/KYqiKIqi+D8peDkFL6f4P6p5kLt+tvg/ueiiiy66+D+NZzzjGc/4P8w9jbDc0/g/wJjEwfvW+D95j/d4j/f4P3mP93iP9/g/pT9nOz4E+T+RhSxkIQv5P6uqqqqqKvk/kpWsZCUr+T/3BxkqO0z5P/+U+lPqT/k/Xonalahd+T+pEZZ7GmH5P6kRlnsaYfk/fLkhBqRj+T9paWlpaWn5P3TRRRdddPk/dNFFF110+T900UUXXXT5P3TRRRdddPk/tZfQXkJ7+T+eXtS0GIf5P5qZmZmZmfk/mpmZmZmZ+T9sypqypqz5P5IbuZEbufk/CCKtF7DN+T8VAyW80dT5P1zzwyJl4Pk/3/SmN73p+T/yHu/xHu/5P0qf9Emf9Pk/g76gL+gL+j9BVDqyZyD6PyZqV6J2Jfo/K6MyKqMy+j8rozIqozL6P6Mf/ehHP/o/ZSELWchC+j9YonYlalf6P8uKgRLeaPo/kHOfXUBs+j+e53me53n6P9MnfdInffo/qqqqqqqq+j+bq7maq7n6P7q6urq6uvo/urq6urq6+j+aOr/2kMv6P06+bNDky/o/AAAAAAAA+z9K3ZfHVgT7P2ZmZmZmZvs/e3t7e3t7+z8arHcChJb8P0mSJEmSJP0/\",\"dtype\":\"float64\",\"shape\":[87]},\"y\":{\"__ndarray__\":\"yKR4gUyKhz/IpHiBTIqXP5Z7GmG5p6E/yKR4gUyKpz/6zdah32ytP5Z7GmG5p7E/L5BJ8QKZtD/IpHiBTIq3P2G5pxGWe7o/+s3Wod9svT9K8QKZFC/AP5Z7GmG5p8E/4wUyKV4gwz8vkEnxApnEP3waYbmnEcY/yKR4gUyKxz8VL5BJ8QLJP2G5pxGWe8o/rkO/2Tr0yz/6zdah32zNP0dY7mmE5c4/SvECmRQv0D9wtg79ZuvQP5Z7GmG5p9E/vEAmxQtk0j/jBTIpXiDTPwnLPY2w3NM/L5BJ8QKZ1D9VVVVVVVXVP3waYbmnEdY/ot9sHfrN1j/IpHiBTIrXP+5phOWeRtg/FS+QSfEC2T879JutQ7/ZP2G5pxGWe9o/h36zdeg32z+uQ7/ZOvTbP9QIyz2NsNw/+s3Wod9s3T8gk+IFMineP0dY7mmE5d4/bR36zdah3z9K8QKZFC/gP93TCMs9jeA/cLYO/Wbr4D8DmRQvkEnhP5Z7GmG5p+E/KV4gk+IF4j+8QCbFC2TiP08jLPc0wuI/4wUyKV4g4z926Ddbh37jPwnLPY2w3OM/nK1Dv9k65D8vkEnxApnkP8JyTyMs9+Q/VVVVVVVV5T/oN1uHfrPlP3waYbmnEeY/D/1m69Bv5j+i32wd+s3mPzXCck8jLOc/yKR4gUyK5z9bh36zdejnP+5phOWeRug/gUyKF8ik6D8VL5BJ8QLpP6gRlnsaYek/O/SbrUO/6T/O1qHfbB3qP2G5pxGWe+o/9JutQ7/Z6j+HfrN16DfrPxphuacRlus/rkO/2Tr06z9BJsULZFLsP9QIyz2NsOw/Z+vQb7YO7T/6zdah32ztP42w3NMIy+0/IJPiBTIp7j+zdeg3W4fuP0dY7mmE5e4/2jr0m61D7z9tHfrN1qHvPwAAAAAAAPA/\",\"dtype\":\"float64\",\"shape\":[87]}},\"selected\":{\"id\":\"08f6927f-9c02-4d1c-b01a-2405cd582598\",\"type\":\"Selection\"},\"selection_policy\":{\"id\":\"6f06543a-b33f-4a02-a0d3-6492e8758cb4\",\"type\":\"UnionRenderers\"}},\"id\":\"88b7aabc-6f60-4ec2-bdbe-d62ec6fdc248\",\"type\":\"ColumnDataSource\"},{\"attributes\":{},\"id\":\"b475efeb-3c57-4410-99cf-1ec92f592040\",\"type\":\"Selection\"},{\"attributes\":{\"fill_alpha\":{\"value\":0.1},\"fill_color\":{\"value\":\"#1f77b4\"},\"line_alpha\":{\"value\":0.1},\"line_color\":{\"value\":\"#1f77b4\"},\"x\":{\"field\":\"x\"},\"y\":{\"field\":\"y\"}},\"id\":\"d33b97b8-5df2-490c-bb11-efa0f0f17471\",\"type\":\"Circle\"},{\"attributes\":{\"fill_alpha\":{\"value\":0.1},\"fill_color\":{\"value\":\"#1f77b4\"},\"line_alpha\":{\"value\":0.1},\"line_color\":{\"value\":\"#1f77b4\"},\"x\":{\"field\":\"x\"},\"y\":{\"field\":\"y\"}},\"id\":\"82740020-b28a-4308-af86-66742468ecea\",\"type\":\"Circle\"},{\"attributes\":{\"fill_color\":{\"value\":\"#30678D\"},\"line_color\":{\"value\":\"#30678D\"},\"x\":{\"field\":\"x\"},\"y\":{\"field\":\"y\"}},\"id\":\"a268dc6d-6fb4-490b-acac-c5f295fd9d0f\",\"type\":\"Circle\"},{\"attributes\":{\"fill_color\":{\"value\":\"#35B778\"},\"line_color\":{\"value\":\"#35B778\"},\"x\":{\"field\":\"x\"},\"y\":{\"field\":\"y\"}},\"id\":\"8a67e933-f02e-46fa-a17a-5d11c3c15899\",\"type\":\"Circle\"},{\"attributes\":{\"source\":{\"id\":\"aead5963-6525-43b6-93e5-a9274545966d\",\"type\":\"ColumnDataSource\"}},\"id\":\"f8daf580-6e5c-427d-861e-82d8ca9a76b2\",\"type\":\"CDSView\"},{\"attributes\":{\"label\":{\"value\":\"1975 fortis\"},\"renderers\":[{\"id\":\"c5a12997-8e14-4037-ba90-29f076d8a0f6\",\"type\":\"GlyphRenderer\"}]},\"id\":\"ada42634-07bb-4d96-a05e-6572c827f148\",\"type\":\"LegendItem\"},{\"attributes\":{},\"id\":\"6f06543a-b33f-4a02-a0d3-6492e8758cb4\",\"type\":\"UnionRenderers\"},{\"attributes\":{\"callback\":null,\"data\":{\"x\":{\"__ndarray__\":\"vpYc4ipT8D/qJAeWTnLwP5gEhBPxkvA/BVwCLgGX8D868J5vTJvwP8KYlUaPqPA/MOgL+oK+8D9fbZHrTMDwPznEVaaA+fA/B8XTHlcB8T8HwalM2AbxP91lTPk6LPE/6W/Q7Vo58T9AAfsTsD/xP/hRXWLWQvE/9RTWU1hP8T/1uBn7w2DxPzj8qC4xa/E/mEgPVM5u8T+iF3qhF3rxP8wOjiDSevE/X9AX9AV98T++2iLXmYDxP2IYhmEYhvE/iqH+ckSK8T/pGF6ch47xP3a0eZ/ikvE/ODSf64+X8T+4Gd5meJvxP0j4yYWom/E/tfGOataf8T9CGqRBGqTxP0IapEEapPE/N4rZnw+n8T8+EbO5dKjxP2BItojmrPE/FxtcbHCx8T+1UEDH5rvxP7VQQMfmu/E/1x8vg1HA8T836S5jytfxP/EdxHcQ3/E/34H4HYjf8T9ziKtMAfPxP6tRxKGT9vE/gh/4gR/48T9p/mDj0fzxP0eb9ykuGfI/0tO5vZYc8j+90p+zHR/yP8tIrIaLH/I/IiIiIiIi8j/ipO7LYyvyP+jvZLW8MfI/c08jLPc08j/CJEzCJEzyPyV+RomfUfI/nzLtHKxZ8j/tJbSX0F7yP0oxQXeVYvI/j2rWn8Fv8j8ZgnW0eZ/yP6keNPLO3/I/3FdW75IH8z8JdhW+3BDzPxVD/eWIFPM/5jKay2gu8z9T9+WxFUHzP1P35bEVQfM/as32iepB8z/jOI7jOI7zP1WINnz+mPM/5u+1EevS8z8=\",\"dtype\":\"float64\",\"shape\":[73]},\"y\":{\"__ndarray__\":\"4MCBAwcOjD/gwIEDBw6cP6hQoUKFCqU/4MCBAwcOrD+MGDFixIixP6hQoUKFCrU/xIgRI0aMuD/gwIEDBw68P/z48ePHj78/jBgxYsSIwT+aNGnSpEnDP6hQoUKFCsU/tmzZsmXLxj/EiBEjRozIP9KkSZMmTco/4MCBAwcOzD/u3Llz587NP/z48ePHj88/hQoVKlSo0D+MGDFixIjRP5MmTZo0adI/mjRp0qRJ0z+hQoUKFSrUP6hQoUKFCtU/r169evXq1T+2bNmyZcvWP7169erVq9c/xIgRI0aM2D/Lli1btmzZP9KkSZMmTdo/2bJly5Yt2z/gwIEDBw7cP+fOnTt37tw/7ty5c+fO3T/16tWrV6/eP/z48ePHj98/ggMHDhw44D+FChUqVKjgP4kRI0aMGOE/jBgxYsSI4T+QHz9+/PjhP5MmTZo0aeI/ly1btmzZ4j+aNGnSpEnjP547d+7cueM/oUKFChUq5D+lSZMmTZrkP6hQoUKFCuU/rFevXr165T+vXr169erlP7Nly5YtW+Y/tmzZsmXL5j+6c+fOnTvnP7169erVq+c/wYEDBw4c6D/EiBEjRozoP8iPHz9+/Og/y5YtW7Zs6T/PnTt37tzpP9KkSZMmTeo/1qtXr1696j/ZsmXLli3rP925c+fOnes/4MCBAwcO7D/kx48fP37sP+fOnTt37uw/69WrV69e7T/u3Llz587tP/Ljx48fP+4/9erVq1ev7j/58ePHjx/vP/z48ePHj+8/AAAAAAAA8D8=\",\"dtype\":\"float64\",\"shape\":[73]}},\"selected\":{\"id\":\"08c2caea-a635-495d-837b-79214ac8c73d\",\"type\":\"Selection\"},\"selection_policy\":{\"id\":\"3ecea39a-4ca1-4a07-a1b7-bf206ab1a07c\",\"type\":\"UnionRenderers\"}},\"id\":\"f3e610f7-c217-49e7-877a-5eeeff6e2b6c\",\"type\":\"ColumnDataSource\"},{\"attributes\":{},\"id\":\"08f6927f-9c02-4d1c-b01a-2405cd582598\",\"type\":\"Selection\"},{\"attributes\":{\"label\":{\"value\":\"1987 fortis\"},\"renderers\":[{\"id\":\"817efecf-c5f4-4972-85e4-9264806c3f28\",\"type\":\"GlyphRenderer\"}]},\"id\":\"cb7c0402-ea25-4bf9-9c51-9b10165cef61\",\"type\":\"LegendItem\"},{\"attributes\":{\"callback\":null,\"data\":{\"x\":{\"__ndarray__\":\"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\",\"dtype\":\"float64\",\"shape\":[509]},\"y\":{\"__ndarray__\":\"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\",\"dtype\":\"float64\",\"shape\":[509]}},\"selected\":{\"id\":\"6c0aebbe-2da0-4ed6-9b74-c560d72eb884\",\"type\":\"Selection\"},\"selection_policy\":{\"id\":\"a70117f7-275a-4895-b6b0-04b14b1637f7\",\"type\":\"UnionRenderers\"}},\"id\":\"0e51d4da-eb2d-4ea6-a3c6-5cbde550d741\",\"type\":\"ColumnDataSource\"},{\"attributes\":{\"data_source\":{\"id\":\"0e51d4da-eb2d-4ea6-a3c6-5cbde550d741\",\"type\":\"ColumnDataSource\"},\"glyph\":{\"id\":\"a268dc6d-6fb4-490b-acac-c5f295fd9d0f\",\"type\":\"Circle\"},\"hover_glyph\":null,\"muted_glyph\":null,\"nonselection_glyph\":{\"id\":\"f54cd7d1-83fd-431c-95fd-5d359ff6eb84\",\"type\":\"Circle\"},\"selection_glyph\":null,\"view\":{\"id\":\"ba8de0db-bfb3-4467-acf3-7b6c3b310f24\",\"type\":\"CDSView\"},\"visible\":false},\"id\":\"de2f88ac-f361-4b6b-9fbb-bb71358891cf\",\"type\":\"GlyphRenderer\"},{\"attributes\":{\"fill_color\":{\"value\":\"#440154\"},\"line_color\":{\"value\":\"#440154\"},\"x\":{\"field\":\"x\"},\"y\":{\"field\":\"y\"}},\"id\":\"39a8dab0-9acf-431b-a0d9-3f73fa2c65e5\",\"type\":\"Circle\"},{\"attributes\":{},\"id\":\"f2e92725-1d0e-46c7-8530-1bdcb8de0f1d\",\"type\":\"BasicTickFormatter\"},{\"attributes\":{\"fill_alpha\":{\"value\":0.1},\"fill_color\":{\"value\":\"#1f77b4\"},\"line_alpha\":{\"value\":0.1},\"line_color\":{\"value\":\"#1f77b4\"},\"x\":{\"field\":\"x\"},\"y\":{\"field\":\"y\"}},\"id\":\"05d6b568-7ad2-4a6d-859a-e37807417fd8\",\"type\":\"Circle\"},{\"attributes\":{\"fill_alpha\":{\"value\":0.1},\"fill_color\":{\"value\":\"#1f77b4\"},\"line_alpha\":{\"value\":0.1},\"line_color\":{\"value\":\"#1f77b4\"},\"x\":{\"field\":\"x\"},\"y\":{\"field\":\"y\"}},\"id\":\"87d3efd5-493a-40f5-979e-2f07c1656174\",\"type\":\"Circle\"},{\"attributes\":{},\"id\":\"e0741995-76e2-456e-b96d-2393eacd46fa\",\"type\":\"Selection\"},{\"attributes\":{\"data_source\":{\"id\":\"88b7aabc-6f60-4ec2-bdbe-d62ec6fdc248\",\"type\":\"ColumnDataSource\"},\"glyph\":{\"id\":\"8a67e933-f02e-46fa-a17a-5d11c3c15899\",\"type\":\"Circle\"},\"hover_glyph\":null,\"muted_glyph\":null,\"nonselection_glyph\":{\"id\":\"d33b97b8-5df2-490c-bb11-efa0f0f17471\",\"type\":\"Circle\"},\"selection_glyph\":null,\"view\":{\"id\":\"c5367ca2-2960-4805-8ccf-974fc30674ef\",\"type\":\"CDSView\"},\"visible\":false},\"id\":\"993730dd-6ffa-49e9-84d0-510ba6001afa\",\"type\":\"GlyphRenderer\"},{\"attributes\":{\"data_source\":{\"id\":\"f3e610f7-c217-49e7-877a-5eeeff6e2b6c\",\"type\":\"ColumnDataSource\"},\"glyph\":{\"id\":\"39a8dab0-9acf-431b-a0d9-3f73fa2c65e5\",\"type\":\"Circle\"},\"hover_glyph\":null,\"muted_glyph\":null,\"nonselection_glyph\":{\"id\":\"87d3efd5-493a-40f5-979e-2f07c1656174\",\"type\":\"Circle\"},\"selection_glyph\":null,\"view\":{\"id\":\"130dd71e-0f9b-4bc6-8f3c-b9fb23a77d1d\",\"type\":\"CDSView\"}},\"id\":\"6caf8b2e-d789-49c3-9513-2259754f34e4\",\"type\":\"GlyphRenderer\"},{\"attributes\":{},\"id\":\"e4e9e390-4579-4f7f-880d-5f042c0cd2b0\",\"type\":\"UnionRenderers\"},{\"attributes\":{\"fill_color\":{\"value\":\"#6BCD59\"},\"line_color\":{\"value\":\"#6BCD59\"},\"x\":{\"field\":\"x\"},\"y\":{\"field\":\"y\"}},\"id\":\"4d9cd6b3-3b92-4c0a-8e39-f9266ce31b78\",\"type\":\"Circle\"},{\"attributes\":{},\"id\":\"962c9530-8239-45a3-be97-4d25e7f7518d\",\"type\":\"WheelZoomTool\"},{\"attributes\":{\"fill_color\":{\"value\":\"#25828E\"},\"line_color\":{\"value\":\"#25828E\"},\"x\":{\"field\":\"x\"},\"y\":{\"field\":\"y\"}},\"id\":\"9f8f5998-d6d6-4752-ae3f-eb2e73a987ab\",\"type\":\"Circle\"},{\"attributes\":{\"data_source\":{\"id\":\"a5121786-ab4e-469b-8228-2903f7546a9a\",\"type\":\"ColumnDataSource\"},\"glyph\":{\"id\":\"4d9cd6b3-3b92-4c0a-8e39-f9266ce31b78\",\"type\":\"Circle\"},\"hover_glyph\":null,\"muted_glyph\":null,\"nonselection_glyph\":{\"id\":\"82740020-b28a-4308-af86-66742468ecea\",\"type\":\"Circle\"},\"selection_glyph\":null,\"view\":{\"id\":\"e0aa03b7-a20a-455c-8b22-d35a3945c876\",\"type\":\"CDSView\"},\"visible\":false},\"id\":\"90499429-e8c2-4633-9d25-72661bfc7d18\",\"type\":\"GlyphRenderer\"},{\"attributes\":{\"source\":{\"id\":\"a5121786-ab4e-469b-8228-2903f7546a9a\",\"type\":\"ColumnDataSource\"}},\"id\":\"e0aa03b7-a20a-455c-8b22-d35a3945c876\",\"type\":\"CDSView\"},{\"attributes\":{\"data_source\":{\"id\":\"aead5963-6525-43b6-93e5-a9274545966d\",\"type\":\"ColumnDataSource\"},\"glyph\":{\"id\":\"d9577766-19b3-42f7-a5ec-ec3dbd909ad6\",\"type\":\"Circle\"},\"hover_glyph\":null,\"muted_glyph\":null,\"nonselection_glyph\":{\"id\":\"db928a14-4986-4c0b-a6f3-8768ae8a0931\",\"type\":\"Circle\"},\"selection_glyph\":null,\"view\":{\"id\":\"f8daf580-6e5c-427d-861e-82d8ca9a76b2\",\"type\":\"CDSView\"},\"visible\":false},\"id\":\"817efecf-c5f4-4972-85e4-9264806c3f28\",\"type\":\"GlyphRenderer\"},{\"attributes\":{\"label\":{\"value\":\"1987 scandens\"},\"renderers\":[{\"id\":\"90499429-e8c2-4633-9d25-72661bfc7d18\",\"type\":\"GlyphRenderer\"}]},\"id\":\"32e1c30e-67b1-4d36-9861-fec11f017c86\",\"type\":\"LegendItem\"},{\"attributes\":{\"source\":{\"id\":\"f3e610f7-c217-49e7-877a-5eeeff6e2b6c\",\"type\":\"ColumnDataSource\"}},\"id\":\"130dd71e-0f9b-4bc6-8f3c-b9fb23a77d1d\",\"type\":\"CDSView\"},{\"attributes\":{\"source\":{\"id\":\"0e51d4da-eb2d-4ea6-a3c6-5cbde550d741\",\"type\":\"ColumnDataSource\"}},\"id\":\"ba8de0db-bfb3-4467-acf3-7b6c3b310f24\",\"type\":\"CDSView\"},{\"attributes\":{},\"id\":\"e6e4fdf2-fb88-4d0f-9c83-01971c812af7\",\"type\":\"PanTool\"},{\"attributes\":{\"overlay\":{\"id\":\"b7622914-002f-409f-b46f-e295bd965baf\",\"type\":\"BoxAnnotation\"}},\"id\":\"8228e846-6961-4e59-9708-61207156e7c2\",\"type\":\"BoxZoomTool\"},{\"attributes\":{},\"id\":\"cc8e1194-f4db-4a12-a7ca-ef8bce25d6f6\",\"type\":\"BasicTickFormatter\"},{\"attributes\":{\"label\":{\"value\":\"1973 fortis\"},\"renderers\":[{\"id\":\"6caf8b2e-d789-49c3-9513-2259754f34e4\",\"type\":\"GlyphRenderer\"}]},\"id\":\"0f473a71-f4b7-4f40-be17-1a5fa51aa3eb\",\"type\":\"LegendItem\"},{\"attributes\":{},\"id\":\"b8da0767-f963-4ca5-bce5-606edcfeef88\",\"type\":\"UnionRenderers\"},{\"attributes\":{},\"id\":\"1b451f84-b037-4dfa-9292-c1da9a0de7c7\",\"type\":\"Selection\"},{\"attributes\":{\"callback\":null,\"data\":{\"x\":{\"__ndarray__\":\"HSsQRtqx8j+aFC+QSfHyP0000UQTTfQ/6KKLLrro9D+3bdu2bTv1P/gbZfcbZfU/IGSo7DB19T8f4ggZdRv2Py9ipo/sIvY/YR/UhjBp9j+ghDeaOr/2P8VO7MRO7PY/Gp+v8fka9z+iwKRT8yD3P0mSJEmSJPc/RhdddNFF9z+f9Emf9En3P9wRd8Qdcfc/dNFFF1109z8Mi5FQ2nj3P8mkeIFMivc/kUceeeSR9z/oC/qCvqD3PyF+AlI9rvc/ctfPFivD9z/f2ajvbNT3P1ZVVVVV1fc/oKL8S2HV9z/M72pxE+b3P+qnn3766fc/WH/1V3/19z/d0wjLPQ34PxEBvvsHEfg/FlhggQUW+D+leIFMihf4Py666KKLLvg/jigw6dQ8+D85hEM4hEP4P27M00erSfg/2ISg7H1N+D9Ea/fhFlD4P7AFW7AFW/g/EWAQWm9k+D9tIrJUumb4P4c5zGEOc/g/eHh4eHh4+D+NWMyIxYz4P/6IBdzpj/g/JEmSJEmS+D/JNGw3y5P4P4lQhCIUofg/LRXuXTqn+D8LWchCFrL4P4ca7M5ktPg/YQu2YAu2+D+66KKLLrr4PzDoC/qCvvg/xi3jlnHL+D+NZzzjGc/4PzPWh8b60Pg/5IUqhFza+D8Oc5jDHOb4P+d4eY6X5/g/044VCCPt+D/TjhUII+34P9OOFQgj7fg/YjESShvv+D9wetOb3vT4P3mP93iP9/g/UhjP+lr7+D/DMAzDMAz5P3ijqfNrD/k/spCFLGQh+T9KkiRJkiT5P5KVrGQlK/k/SOF6FK5H+T8EmRQvkEn5PwtuM9dJTfk/U9aUNWVN+T9T1pQ1ZU35P1VVVVVVVfk/BTG5gphc+T9ggQUWWGD5P8IWbMEWbPk/7IxN0edu+T9VxCnJDHf5P5jDHOYwh/k/wEHo3e+M+T+amZmZmZn5P7qaq7maq/k/bMqasqas+T/8mhCUva/5P1igwmDf1Pk/nvGMZzzj+T9Kn/RJn/T5P/////////k/semxbgMM+j87KvDF1Q/6P4VhGIZhGPo/vMHfk8wg+j+8pdCfZCz6P6ukUW25Svo/+6Vf+qVf+j+rqqqqqqr6P6uqqqqqqvo/Po2w3NMI+z8XXXTRRRf7P3Plg0ELL/s/xEW1/2R++z/viDvijrj7P70rMl+aOPw/r0TtStSu/D8=\",\"dtype\":\"float64\",\"shape\":[112]},\"y\":{\"__ndarray__\":\"kiRJkiRJgj+SJEmSJEmSP9u2bdu2bZs/kiRJkiRJoj+3bdu2bdumP9u2bdu2bas/AAAAAAAAsD+SJEmSJEmyPyVJkiRJkrQ/t23btm3btj9JkiRJkiS5P9u2bdu2bbs/btu2bdu2vT8AAAAAAADAP0mSJEmSJME/kiRJkiRJwj/btm3btm3DPyVJkiRJksQ/btu2bdu2xT+3bdu2bdvGPwAAAAAAAMg/SZIkSZIkyT+SJEmSJEnKP9u2bdu2bcs/JUmSJEmSzD9u27Zt27bNP7dt27Zt284/AAAAAAAA0D8lSZIkSZLQP0mSJEmSJNE/btu2bdu20T+SJEmSJEnSP7dt27Zt29I/27Zt27Zt0z8AAAAAAADUPyVJkiRJktQ/SZIkSZIk1T9u27Zt27bVP5IkSZIkSdY/t23btm3b1j/btm3btm3XPwAAAAAAANg/JUmSJEmS2D9JkiRJkiTZP27btm3bttk/kiRJkiRJ2j+3bdu2bdvaP9u2bdu2bds/AAAAAAAA3D8lSZIkSZLcP0mSJEmSJN0/btu2bdu23T+SJEmSJEneP7dt27Zt294/27Zt27Zt3z8AAAAAAADgP5IkSZIkSeA/JUmSJEmS4D+3bdu2bdvgP0mSJEmSJOE/27Zt27Zt4T9u27Zt27bhPwAAAAAAAOI/kiRJkiRJ4j8lSZIkSZLiP7dt27Zt2+I/SZIkSZIk4z/btm3btm3jP27btm3btuM/AAAAAAAA5D+SJEmSJEnkPyVJkiRJkuQ/t23btm3b5D9JkiRJkiTlP9u2bdu2beU/btu2bdu25T8AAAAAAADmP5IkSZIkSeY/JUmSJEmS5j+3bdu2bdvmP0mSJEmSJOc/27Zt27Zt5z9u27Zt27bnPwAAAAAAAOg/kiRJkiRJ6D8lSZIkSZLoP7dt27Zt2+g/SZIkSZIk6T/btm3btm3pP27btm3btuk/AAAAAAAA6j+SJEmSJEnqPyVJkiRJkuo/t23btm3b6j9JkiRJkiTrP9u2bdu2bes/btu2bdu26z8AAAAAAADsP5IkSZIkSew/JUmSJEmS7D+3bdu2bdvsP0mSJEmSJO0/27Zt27Zt7T9u27Zt27btPwAAAAAAAO4/kiRJkiRJ7j8lSZIkSZLuP7dt27Zt2+4/SZIkSZIk7z/btm3btm3vP27btm3btu8/AAAAAAAA8D8=\",\"dtype\":\"float64\",\"shape\":[112]}},\"selected\":{\"id\":\"e6cbafd8-4386-4702-8b7c-af94ca27fecf\",\"type\":\"Selection\"},\"selection_policy\":{\"id\":\"f127d068-d042-4365-9992-183d3fbe45ea\",\"type\":\"UnionRenderers\"}},\"id\":\"85f8ce82-7c8c-4542-a816-e89e9c62c08c\",\"type\":\"ColumnDataSource\"},{\"attributes\":{\"bottom_units\":\"screen\",\"fill_alpha\":{\"value\":0.5},\"fill_color\":{\"value\":\"lightgrey\"},\"left_units\":\"screen\",\"level\":\"overlay\",\"line_alpha\":{\"value\":1.0},\"line_color\":{\"value\":\"black\"},\"line_dash\":[4,4],\"line_width\":{\"value\":2},\"plot\":null,\"render_mode\":\"css\",\"right_units\":\"screen\",\"top_units\":\"screen\"},\"id\":\"b7622914-002f-409f-b46f-e295bd965baf\",\"type\":\"BoxAnnotation\"},{\"attributes\":{\"source\":{\"id\":\"4883e832-ed81-41e9-a95d-2631c9c9b8f0\",\"type\":\"ColumnDataSource\"}},\"id\":\"347d2679-aa4d-46f2-b666-53c4a0463807\",\"type\":\"CDSView\"},{\"attributes\":{\"fill_color\":{\"value\":\"#B2DD2C\"},\"line_color\":{\"value\":\"#B2DD2C\"},\"x\":{\"field\":\"x\"},\"y\":{\"field\":\"y\"}},\"id\":\"bf5ead20-269f-4de1-bc26-aeab53c27793\",\"type\":\"Circle\"},{\"attributes\":{\"data_source\":{\"id\":\"4883e832-ed81-41e9-a95d-2631c9c9b8f0\",\"type\":\"ColumnDataSource\"},\"glyph\":{\"id\":\"4e012d06-0569-47b6-bace-5a56ef04e448\",\"type\":\"Circle\"},\"hover_glyph\":null,\"muted_glyph\":null,\"nonselection_glyph\":{\"id\":\"72b7f5d9-f2c9-43f4-9b0d-a865e0e10ab0\",\"type\":\"Circle\"},\"selection_glyph\":null,\"view\":{\"id\":\"347d2679-aa4d-46f2-b666-53c4a0463807\",\"type\":\"CDSView\"},\"visible\":false},\"id\":\"c5a12997-8e14-4037-ba90-29f076d8a0f6\",\"type\":\"GlyphRenderer\"},{\"attributes\":{},\"id\":\"5219ef5e-58be-470c-88c2-887f338814ee\",\"type\":\"Selection\"},{\"attributes\":{},\"id\":\"c758d311-5cb1-4ef6-846e-6602b22d950c\",\"type\":\"UnionRenderers\"},{\"attributes\":{\"click_policy\":\"hide\",\"items\":[{\"id\":\"0f473a71-f4b7-4f40-be17-1a5fa51aa3eb\",\"type\":\"LegendItem\"},{\"id\":\"453b2859-50c9-4e09-b7ba-49e99d9e929c\",\"type\":\"LegendItem\"},{\"id\":\"ada42634-07bb-4d96-a05e-6572c827f148\",\"type\":\"LegendItem\"},{\"id\":\"d1341889-9ed3-4764-9a18-8ae88e46630c\",\"type\":\"LegendItem\"},{\"id\":\"cb7c0402-ea25-4bf9-9c51-9b10165cef61\",\"type\":\"LegendItem\"},{\"id\":\"32e1c30e-67b1-4d36-9861-fec11f017c86\",\"type\":\"LegendItem\"},{\"id\":\"6496f4b3-826e-4d1c-8fc4-763e52c65ea1\",\"type\":\"LegendItem\"},{\"id\":\"55f45d6f-04ce-4601-8efd-3a33940e5007\",\"type\":\"LegendItem\"},{\"id\":\"a380206e-e942-4eab-a62d-e591f0d15e76\",\"type\":\"LegendItem\"},{\"id\":\"5120ef0b-7fd9-4c93-ba5b-e648f48e08af\",\"type\":\"LegendItem\"}],\"location\":\"bottom_right\",\"plot\":{\"id\":\"37fbf4cf-4ef0-4c7a-b7fd-10a10d5ad169\",\"subtype\":\"Figure\",\"type\":\"Plot\"}},\"id\":\"8c1bf8cc-f107-40d6-875e-8df58bd7c92c\",\"type\":\"Legend\"},{\"attributes\":{\"callback\":null,\"data\":{\"x\":{\"__ndarray__\":\"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\",\"dtype\":\"float64\",\"shape\":[312]},\"y\":{\"__ndarray__\":\"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\",\"dtype\":\"float64\",\"shape\":[312]}},\"selected\":{\"id\":\"165214b7-1b9c-4de1-84e3-07b4ec91f0b9\",\"type\":\"Selection\"},\"selection_policy\":{\"id\":\"dd902a07-4fdd-41f6-b61f-b9cf548ed88d\",\"type\":\"UnionRenderers\"}},\"id\":\"4883e832-ed81-41e9-a95d-2631c9c9b8f0\",\"type\":\"ColumnDataSource\"},{\"attributes\":{\"label\":{\"value\":\"1991 fortis\"},\"renderers\":[{\"id\":\"de2f88ac-f361-4b6b-9fbb-bb71358891cf\",\"type\":\"GlyphRenderer\"}]},\"id\":\"6496f4b3-826e-4d1c-8fc4-763e52c65ea1\",\"type\":\"LegendItem\"},{\"attributes\":{\"callback\":null,\"data\":{\"x\":{\"__ndarray__\":\"Z2ZmZmZm9j/JnIDn0+P2P+5aOeGZ/vY/wuZAohU29z+yRTRnDYr3P7JFNGcNivc/yiGuMgXM9z/XygnP9Df4P+YD2YXFSPg/KYuyKIuy+D/OoGXHcyr5P+kuY8rXYfk/7Um+j9Xs+T+qqqqqqqr6PwPSsZRJsPs/R6xLj/l7/T8=\",\"dtype\":\"float64\",\"shape\":[16]},\"y\":{\"__ndarray__\":\"AAAAAAAAsD8AAAAAAADAPwAAAAAAAMg/AAAAAAAA0D8AAAAAAADUPwAAAAAAANg/AAAAAAAA3D8AAAAAAADgPwAAAAAAAOI/AAAAAAAA5D8AAAAAAADmPwAAAAAAAOg/AAAAAAAA6j8AAAAAAADsPwAAAAAAAO4/AAAAAAAA8D8=\",\"dtype\":\"float64\",\"shape\":[16]}},\"selected\":{\"id\":\"5219ef5e-58be-470c-88c2-887f338814ee\",\"type\":\"Selection\"},\"selection_policy\":{\"id\":\"c758d311-5cb1-4ef6-846e-6602b22d950c\",\"type\":\"UnionRenderers\"}},\"id\":\"1824c235-303d-4028-81eb-e425b4add1a2\",\"type\":\"ColumnDataSource\"},{\"attributes\":{\"data_source\":{\"id\":\"85f8ce82-7c8c-4542-a816-e89e9c62c08c\",\"type\":\"ColumnDataSource\"},\"glyph\":{\"id\":\"bf5ead20-269f-4de1-bc26-aeab53c27793\",\"type\":\"Circle\"},\"hover_glyph\":null,\"muted_glyph\":null,\"nonselection_glyph\":{\"id\":\"724ee2b8-53fd-4086-8b93-0942a31419b6\",\"type\":\"Circle\"},\"selection_glyph\":null,\"view\":{\"id\":\"7606cbe1-0f09-4641-aac2-a219d3f735de\",\"type\":\"CDSView\"},\"visible\":false},\"id\":\"01f3fe88-9df5-441a-b20d-6666916a9c82\",\"type\":\"GlyphRenderer\"},{\"attributes\":{\"fill_color\":{\"value\":\"#1E9C89\"},\"line_color\":{\"value\":\"#1E9C89\"},\"x\":{\"field\":\"x\"},\"y\":{\"field\":\"y\"}},\"id\":\"bdac3d60-ff5a-43ea-a5dd-f74cab1e67b5\",\"type\":\"Circle\"},{\"attributes\":{\"fill_alpha\":{\"value\":0.1},\"fill_color\":{\"value\":\"#1f77b4\"},\"line_alpha\":{\"value\":0.1},\"line_color\":{\"value\":\"#1f77b4\"},\"x\":{\"field\":\"x\"},\"y\":{\"field\":\"y\"}},\"id\":\"724ee2b8-53fd-4086-8b93-0942a31419b6\",\"type\":\"Circle\"},{\"attributes\":{\"data_source\":{\"id\":\"1824c235-303d-4028-81eb-e425b4add1a2\",\"type\":\"ColumnDataSource\"},\"glyph\":{\"id\":\"bdac3d60-ff5a-43ea-a5dd-f74cab1e67b5\",\"type\":\"Circle\"},\"hover_glyph\":null,\"muted_glyph\":null,\"nonselection_glyph\":{\"id\":\"04a72faf-98c8-412b-8b6c-fd1f97dfe11f\",\"type\":\"Circle\"},\"selection_glyph\":null,\"view\":{\"id\":\"c9019c8d-4bc8-42cb-9f3d-b3efe54a7453\",\"type\":\"CDSView\"}},\"id\":\"e93856f3-3452-49ab-b733-d6633046bf20\",\"type\":\"GlyphRenderer\"},{\"attributes\":{\"source\":{\"id\":\"85f8ce82-7c8c-4542-a816-e89e9c62c08c\",\"type\":\"ColumnDataSource\"}},\"id\":\"7606cbe1-0f09-4641-aac2-a219d3f735de\",\"type\":\"CDSView\"},{\"attributes\":{\"fill_alpha\":{\"value\":0.1},\"fill_color\":{\"value\":\"#1f77b4\"},\"line_alpha\":{\"value\":0.1},\"line_color\":{\"value\":\"#1f77b4\"},\"x\":{\"field\":\"x\"},\"y\":{\"field\":\"y\"}},\"id\":\"04a72faf-98c8-412b-8b6c-fd1f97dfe11f\",\"type\":\"Circle\"},{\"attributes\":{},\"id\":\"6c0aebbe-2da0-4ed6-9b74-c560d72eb884\",\"type\":\"Selection\"},{\"attributes\":{},\"id\":\"3ecea39a-4ca1-4a07-a1b7-bf206ab1a07c\",\"type\":\"UnionRenderers\"},{\"attributes\":{},\"id\":\"a70117f7-275a-4895-b6b0-04b14b1637f7\",\"type\":\"UnionRenderers\"},{\"attributes\":{\"label\":{\"value\":\"1991 scandens\"},\"renderers\":[{\"id\":\"01f3fe88-9df5-441a-b20d-6666916a9c82\",\"type\":\"GlyphRenderer\"}]},\"id\":\"55f45d6f-04ce-4601-8efd-3a33940e5007\",\"type\":\"LegendItem\"},{\"attributes\":{\"source\":{\"id\":\"1824c235-303d-4028-81eb-e425b4add1a2\",\"type\":\"ColumnDataSource\"}},\"id\":\"c9019c8d-4bc8-42cb-9f3d-b3efe54a7453\",\"type\":\"CDSView\"},{\"attributes\":{\"fill_alpha\":{\"value\":0.1},\"fill_color\":{\"value\":\"#1f77b4\"},\"line_alpha\":{\"value\":0.1},\"line_color\":{\"value\":\"#1f77b4\"},\"x\":{\"field\":\"x\"},\"y\":{\"field\":\"y\"}},\"id\":\"db928a14-4986-4c0b-a6f3-8768ae8a0931\",\"type\":\"Circle\"},{\"attributes\":{\"source\":{\"id\":\"aeebe3e2-3e3a-4044-b6ca-286e9c66b692\",\"type\":\"ColumnDataSource\"}},\"id\":\"9be9914a-06f2-4a1f-9339-67a96bfe7371\",\"type\":\"CDSView\"},{\"attributes\":{\"data_source\":{\"id\":\"aeebe3e2-3e3a-4044-b6ca-286e9c66b692\",\"type\":\"ColumnDataSource\"},\"glyph\":{\"id\":\"9f8f5998-d6d6-4752-ae3f-eb2e73a987ab\",\"type\":\"Circle\"},\"hover_glyph\":null,\"muted_glyph\":null,\"nonselection_glyph\":{\"id\":\"05d6b568-7ad2-4a6d-859a-e37807417fd8\",\"type\":\"Circle\"},\"selection_glyph\":null,\"view\":{\"id\":\"9be9914a-06f2-4a1f-9339-67a96bfe7371\",\"type\":\"CDSView\"},\"visible\":false},\"id\":\"08603ead-f444-4c98-833f-71c05fb395f1\",\"type\":\"GlyphRenderer\"},{\"attributes\":{},\"id\":\"f127d068-d042-4365-9992-183d3fbe45ea\",\"type\":\"UnionRenderers\"},{\"attributes\":{\"label\":{\"value\":\"2012 fortis\"},\"renderers\":[{\"id\":\"08603ead-f444-4c98-833f-71c05fb395f1\",\"type\":\"GlyphRenderer\"}]},\"id\":\"a380206e-e942-4eab-a62d-e591f0d15e76\",\"type\":\"LegendItem\"},{\"attributes\":{\"callback\":null,\"data\":{\"x\":{\"__ndarray__\":\"7LfaGJru8D8+gVRyXhbxP0mSJEmSJPE/q6qqqqoq8T9eGdvv6JXxP5Z7GmG5p/E/urm5ubm58T9Kn/RJn/TxPx/96Ec/+vE/iMkVxOQK8j8iIiIiIiLyP6jvbNR3NvI/PPLII4888j+nN73pTW/yP2MndmIndvI/0yd90id98j/TJ33SJ33yP4OCgoKCgvI/BjIpXiCT8j+VUkoppZTyP+pNb3rTm/I/q6qqqqqq8j/T0tLS0tLyP9PS0tLS0vI/09LS0tLS8j9WVVVVVdXyP1ZVVVVV1fI/gy3Ygi3Y8j+DLdiCLdjyPy5wgQtc4PI/6KKLLrro8j/tStSuRO3yP2gvob2E9vI/AwMDAwMD8z8K16NwPQrzP8MwDMMwDPM/wzAMwzAM8z/DMAzDMAzzP3V+7SGXFfM/F1100UUX8z8XXXTRRRfzP7B3TA3sHfM/IIPzMTgf8z/jBTIpXiDzP7OQhSxkIfM/h/Iaymso8z883ZofFinzPzzdmh8WKfM/pDIqozIq8z8zMzMzMzPzP8/zPM/zPPM/RRdddNFF8z9cVgyU8EbzP1xWDJTwRvM/UrsStStR8z/lNZTXUF7zP2ZmZmZmZvM/27Zt27Zt8z9DLisGSnjzP0MuKwZKePM/dug3W4d+8z+E8zE4H4PzP4XrUbgehfM/6Hme53me8z+/2Tr0m63zPxQ7sRM7sfM/tStRuxK18z+1K1G7ErXzP2LezpCYt/M/7og74o648z/uiDvijrjzPwf2jqmBvfM/xMPDw8PD8z/Ew8PDw8PzP83MzMzMzPM/9DzP8zzP8z/Xo3A9CtfzP0U+6wZT5PM/XL7lW77l8z/6gr6gL+jzP/qCvqAv6PM/9PPz8/Pz8z/6tYdcVgz0Pwd9QV/QF/Q/IIQQQggh9D8uuuiiiy70PzMzMzMzM/Q/MzMzMzMz9D+EQziEQzj0P4GodGTPQPQ/EnfEHXFH9D8z8HRrflj0P1100UUXXfQ/XXTRRRdd9D97FK5H4Xr0PyVJkiRJkvQ/mpmZmZmZ9D+lSZMmTZr0P0WmYbtZnvQ/rz3ksmKg9D9LVrKSlaz0P7HkF0t+sfQ/MQzDMAzD9D/MzMzMzMz0P9lkk0022fQ/2WSTTTbZ9D/hfAzOx+D0P7PyE+Ks/PQ/s/IT4qz89D8gKh3ZMxD1P4GnW/PDIvU/Re1K1K5E9T9F7UrUrkT1P1ZVVVVVVfU/KgNPt+aH9T/jOI7jOI71PzR1fu0hl/U/0V5Cewnt9T8gFikDT7f2P3+zdeg3W/c/\",\"dtype\":\"float64\",\"shape\":[120]},\"y\":{\"__ndarray__\":\"ERERERERgT8RERERERGRP5qZmZmZmZk/ERERERERoT9VVVVVVVWlP5qZmZmZmak/3t3d3d3drT8RERERERGxPzMzMzMzM7M/VVVVVVVVtT93d3d3d3e3P5qZmZmZmbk/vLu7u7u7uz/e3d3d3d29PwAAAAAAAMA/ERERERERwT8iIiIiIiLCPzMzMzMzM8M/RERERERExD9VVVVVVVXFP2ZmZmZmZsY/d3d3d3d3xz+JiIiIiIjIP5qZmZmZmck/q6qqqqqqyj+8u7u7u7vLP83MzMzMzMw/3t3d3d3dzT/v7u7u7u7OPwAAAAAAANA/iYiIiIiI0D8RERERERHRP5qZmZmZmdE/IiIiIiIi0j+rqqqqqqrSPzMzMzMzM9M/vLu7u7u70z9ERERERETUP83MzMzMzNQ/VVVVVVVV1T/e3d3d3d3VP2ZmZmZmZtY/7+7u7u7u1j93d3d3d3fXPwAAAAAAANg/iYiIiIiI2D8RERERERHZP5qZmZmZmdk/IiIiIiIi2j+rqqqqqqraPzMzMzMzM9s/vLu7u7u72z9ERERERETcP83MzMzMzNw/VVVVVVVV3T/e3d3d3d3dP2ZmZmZmZt4/7+7u7u7u3j93d3d3d3ffPwAAAAAAAOA/RERERERE4D+JiIiIiIjgP83MzMzMzOA/ERERERER4T9VVVVVVVXhP5qZmZmZmeE/3t3d3d3d4T8iIiIiIiLiP2ZmZmZmZuI/q6qqqqqq4j/v7u7u7u7iPzMzMzMzM+M/d3d3d3d34z+8u7u7u7vjPwAAAAAAAOQ/RERERERE5D+JiIiIiIjkP83MzMzMzOQ/ERERERER5T9VVVVVVVXlP5qZmZmZmeU/3t3d3d3d5T8iIiIiIiLmP2ZmZmZmZuY/q6qqqqqq5j/v7u7u7u7mPzMzMzMzM+c/d3d3d3d35z+8u7u7u7vnPwAAAAAAAOg/RERERERE6D+JiIiIiIjoP83MzMzMzOg/ERERERER6T9VVVVVVVXpP5qZmZmZmek/3t3d3d3d6T8iIiIiIiLqP2ZmZmZmZuo/q6qqqqqq6j/v7u7u7u7qPzMzMzMzM+s/d3d3d3d36z+8u7u7u7vrPwAAAAAAAOw/RERERERE7D+JiIiIiIjsP83MzMzMzOw/ERERERER7T9VVVVVVVXtP5qZmZmZme0/3t3d3d3d7T8iIiIiIiLuP2ZmZmZmZu4/q6qqqqqq7j/v7u7u7u7uPzMzMzMzM+8/d3d3d3d37z+8u7u7u7vvPwAAAAAAAPA/\",\"dtype\":\"float64\",\"shape\":[120]}},\"selected\":{\"id\":\"81a06d96-2cd4-4587-a28a-ae5cf88ce3ab\",\"type\":\"Selection\"},\"selection_policy\":{\"id\":\"73e114e3-2318-4be0-a941-d2149c522f4f\",\"type\":\"UnionRenderers\"}},\"id\":\"aeebe3e2-3e3a-4044-b6ca-286e9c66b692\",\"type\":\"ColumnDataSource\"},{\"attributes\":{},\"id\":\"e6cbafd8-4386-4702-8b7c-af94ca27fecf\",\"type\":\"Selection\"},{\"attributes\":{\"callback\":null},\"id\":\"f2ebc5d0-9d23-4a9e-bcaf-63fd3ce2f414\",\"type\":\"DataRange1d\"},{\"attributes\":{\"callback\":null,\"data\":{\"x\":{\"__ndarray__\":\"E+QpQZ4S9D8VFBQUFBT0Pz+H1ATjrfQ/tbS0tLS09D+VS7mUS7n0P83MzMzMzPQ/dVAHdVAH9T8UjLeyzyH1P9avFKj1K/U/Li0tLS0t9T9OwcspeDn1P1gfGutDY/U/dNFFF1109T+BBRZYYIH1PwVbsAVbsPU/zs3Nzc3N9T/Ozc3Nzc31P97d3d3d3fU/3t3d3d3d9T94OQUvp+D1P3g5BS+n4PU/fBphuacR9j+O4ziO4zj2P47jOI7jOPY/VlVVVVVV9j95pL+eq1j2P8zbGRLzdvY/orE+NNaH9j+PwvUoXI/2P4/C9Shcj/Y/GGnHCoSR9j8YaccKhJH2P+pNb3rTm/Y/+85GfWej9j/7zkZ9Z6P2P6uqqqqqqvY/52qu5mqu9j+11lprrbX2P7XWWmuttfY/tdZaa6219j/Kayivobz2P3izPIlMw/Y/tm3btm3b9j+2bdu2bdv2P7dt27Zt2/Y/4noUrkfh9j/v7u7u7u72Pzwb9Z2N+vY/PBv1nY369j8BAAAAAAD3P3CBC1zgAvc/wcspeDkF9z+HcAiHcAj3Py1x6vfcEvc/LXHq99wS9z8tcer33BL3PxCso837FPc/c5jDHOYw9z9zmMMc5jD3P+BzS5z6Pfc/0Rf0BX1B9z9GF1100UX3P/amN73pTfc/fWejvrNR9z9WVVVVVVX3P1ZVVVVVVfc/WFdXV1dX9z92r3vd6173P3ave93rXvc/KHZiJ3Zi9z+SdqxAGGn3P1izxPiUafc/3LZt27Zt9z+ejfrORn33P0N5DeU1lPc/6Hme53me9z/Ie7zHe7z3P/V7bolTv/c/0UUXXXTR9z/Xo3A9Ctf3P+qnn3766fc/6qeffvrp9z8AAAAAAAD4PwAAAAAAAPg/AAAAAAAA+D8BAAAAAAD4P2iBFmiBFvg/gQtc4AIX+D+leIFMihf4P0MWspCFLPg/DPqCvqAv+D8zMzMzMzP4P0EIIYQQQvg/QUyuICZX+D9tuOGGG274P3h4eHh4ePg/wRtNnV97+D+LLrrooov4P8k0bDfLk/g/bolTv+eW+D+oqKioqKj4P6/AAgsssPg/MAzDMAzD+D8wDMMwDMP4P8jgfAzOx/g/jWc84xnP+D/MPY2w3NP4PxUvkEnxAvk/SJIkSZIk+T8XspCFLGT5P7WX0F5Ce/k/8gKZFC+Q+T+2KIKzA8b5P57xjGc84/k/Sp/0SZ/0+T8AAAAAAAD6PwAAAAAAAPo/IiIiIiIi+j+jH/3oRz/6P6h0ZM9AVPo/WlpaWlpa+j+mNrWpTW36P6uqqqqqqvo/m6u5mqu5+j8U4qz8hDj7PxTirPyEOPs/\",\"dtype\":\"float64\",\"shape\":[126]},\"y\":{\"__ndarray__\":\"EARBEARBgD8QBEEQBEGQPxiGYRiGYZg/EARBEARBoD8URVEURVGkPxiGYRiGYag/HMdxHMdxrD8QBEEQBEGwP5IkSZIkSbI/FEVRFEVRtD+WZVmWZVm2PxiGYRiGYbg/mqZpmqZpuj8cx3Ecx3G8P57neZ7neb4/EARBEARBwD9RFEVRFEXBP5IkSZIkScI/0zRN0zRNwz8URVEURVHEP1VVVVVVVcU/lmVZlmVZxj/XdV3XdV3HPxiGYRiGYcg/WZZlWZZlyT+apmmapmnKP9u2bdu2bcs/HMdxHMdxzD9d13Vd13XNP57neZ7nec4/3/d93/d9zz8QBEEQBEHQPzEMwzAMw9A/URRFURRF0T9yHMdxHMfRP5IkSZIkSdI/syzLsizL0j/TNE3TNE3TP/Q8z/M8z9M/FEVRFEVR1D81TdM0TdPUP1VVVVVVVdU/dl3XdV3X1T+WZVmWZVnWP7dt27Zt29Y/13Vd13Vd1z/4fd/3fd/XPxiGYRiGYdg/OY7jOI7j2D9ZlmVZlmXZP3qe53me59k/mqZpmqZp2j+7ruu6ruvaP9u2bdu2bds//L7v+77v2z8cx3Ecx3HcPz3P8zzP89w/Xdd1Xdd13T9+3/d93/fdP57neZ7ned4/v+/7vu/73j/f933f933fPwAAAAAAAOA/EARBEARB4D8hCIIgCILgPzEMwzAMw+A/QRAEQRAE4T9RFEVRFEXhP2IYhmEYhuE/chzHcRzH4T+CIAiCIAjiP5IkSZIkSeI/oyiKoiiK4j+zLMuyLMviP8MwDMMwDOM/0zRN0zRN4z/kOI7jOI7jP/Q8z/M8z+M/BEEQBEEQ5D8URVEURVHkPyVJkiRJkuQ/NU3TNE3T5D9FURRFURTlP1VVVVVVVeU/ZlmWZVmW5T92Xdd1XdflP4ZhGIZhGOY/lmVZlmVZ5j+naZqmaZrmP7dt27Zt2+Y/x3Ecx3Ec5z/XdV3XdV3nP+h5nud5nuc/+H3f933f5z8IgiAIgiDoPxiGYRiGYeg/KYqiKIqi6D85juM4juPoP0mSJEmSJOk/WZZlWZZl6T9qmqZpmqbpP3qe53me5+k/iqIoiqIo6j+apmmapmnqP6uqqqqqquo/u67ruq7r6j/LsizLsizrP9u2bdu2bes/7Lqu67qu6z/8vu/7vu/rPwzDMAzDMOw/HMdxHMdx7D8ty7Isy7LsPz3P8zzP8+w/TdM0TdM07T9d13Vd13XtP27btm3btu0/ft/3fd/37T+O4ziO4zjuP57neZ7nee4/r+u6ruu67j+/7/u+7/vuP8/zPM/zPO8/3/d93/d97z/w+77v+77vPwAAAAAAAPA/\",\"dtype\":\"float64\",\"shape\":[126]}},\"selected\":{\"id\":\"b475efeb-3c57-4410-99cf-1ec92f592040\",\"type\":\"Selection\"},\"selection_policy\":{\"id\":\"a861f01d-4e0f-4cf2-99e8-9460425a1dd2\",\"type\":\"UnionRenderers\"}},\"id\":\"f780cde2-a0b4-402b-835f-be546098be33\",\"type\":\"ColumnDataSource\"},{\"attributes\":{\"fill_alpha\":{\"value\":0.1},\"fill_color\":{\"value\":\"#1f77b4\"},\"line_alpha\":{\"value\":0.1},\"line_color\":{\"value\":\"#1f77b4\"},\"x\":{\"field\":\"x\"},\"y\":{\"field\":\"y\"}},\"id\":\"72b7f5d9-f2c9-43f4-9b0d-a865e0e10ab0\",\"type\":\"Circle\"},{\"attributes\":{},\"id\":\"0fbdb745-ab01-4610-8f1b-060de2573a95\",\"type\":\"LinearScale\"},{\"attributes\":{\"fill_color\":{\"value\":\"#FDE724\"},\"line_color\":{\"value\":\"#FDE724\"},\"x\":{\"field\":\"x\"},\"y\":{\"field\":\"y\"}},\"id\":\"503e3b40-33d4-4538-9106-7656131a42f0\",\"type\":\"Circle\"},{\"attributes\":{\"data_source\":{\"id\":\"f780cde2-a0b4-402b-835f-be546098be33\",\"type\":\"ColumnDataSource\"},\"glyph\":{\"id\":\"503e3b40-33d4-4538-9106-7656131a42f0\",\"type\":\"Circle\"},\"hover_glyph\":null,\"muted_glyph\":null,\"nonselection_glyph\":{\"id\":\"63be927d-7587-4b44-a1c8-60127a98bf0c\",\"type\":\"Circle\"},\"selection_glyph\":null,\"view\":{\"id\":\"0e8c104a-a46a-46fc-971f-5d9b1b0895ab\",\"type\":\"CDSView\"},\"visible\":false},\"id\":\"7c0a1c6a-880c-410b-b511-7af455868bda\",\"type\":\"GlyphRenderer\"},{\"attributes\":{\"below\":[{\"id\":\"ca55f49e-94eb-4e9f-8754-07b32ed27cb4\",\"type\":\"LinearAxis\"}],\"left\":[{\"id\":\"31fd50d5-7732-4406-99ee-e5470813485e\",\"type\":\"LinearAxis\"}],\"plot_height\":500,\"plot_width\":800,\"renderers\":[{\"id\":\"ca55f49e-94eb-4e9f-8754-07b32ed27cb4\",\"type\":\"LinearAxis\"},{\"id\":\"192c9cba-dbc4-40d5-bb5c-eae77b6ec146\",\"type\":\"Grid\"},{\"id\":\"31fd50d5-7732-4406-99ee-e5470813485e\",\"type\":\"LinearAxis\"},{\"id\":\"a3f109c6-baa0-4e5b-9aff-765e13917653\",\"type\":\"Grid\"},{\"id\":\"b7622914-002f-409f-b46f-e295bd965baf\",\"type\":\"BoxAnnotation\"},{\"id\":\"8c1bf8cc-f107-40d6-875e-8df58bd7c92c\",\"type\":\"Legend\"},{\"id\":\"6caf8b2e-d789-49c3-9513-2259754f34e4\",\"type\":\"GlyphRenderer\"},{\"id\":\"e93856f3-3452-49ab-b733-d6633046bf20\",\"type\":\"GlyphRenderer\"},{\"id\":\"c5a12997-8e14-4037-ba90-29f076d8a0f6\",\"type\":\"GlyphRenderer\"},{\"id\":\"993730dd-6ffa-49e9-84d0-510ba6001afa\",\"type\":\"GlyphRenderer\"},{\"id\":\"817efecf-c5f4-4972-85e4-9264806c3f28\",\"type\":\"GlyphRenderer\"},{\"id\":\"90499429-e8c2-4633-9d25-72661bfc7d18\",\"type\":\"GlyphRenderer\"},{\"id\":\"de2f88ac-f361-4b6b-9fbb-bb71358891cf\",\"type\":\"GlyphRenderer\"},{\"id\":\"01f3fe88-9df5-441a-b20d-6666916a9c82\",\"type\":\"GlyphRenderer\"},{\"id\":\"08603ead-f444-4c98-833f-71c05fb395f1\",\"type\":\"GlyphRenderer\"},{\"id\":\"7c0a1c6a-880c-410b-b511-7af455868bda\",\"type\":\"GlyphRenderer\"}],\"title\":{\"id\":\"84e83ca3-4d9d-4481-9bda-429f61e95dfd\",\"type\":\"Title\"},\"toolbar\":{\"id\":\"4f26a55a-969b-4332-ba65-9fafe511e741\",\"type\":\"Toolbar\"},\"x_range\":{\"id\":\"f2ebc5d0-9d23-4a9e-bcaf-63fd3ce2f414\",\"type\":\"DataRange1d\"},\"x_scale\":{\"id\":\"1ba1629d-0af5-4409-9bd1-38d6a520b336\",\"type\":\"LinearScale\"},\"y_range\":{\"id\":\"3f1a5a08-1148-4b90-b2bf-050a9b7d67a7\",\"type\":\"DataRange1d\"},\"y_scale\":{\"id\":\"0fbdb745-ab01-4610-8f1b-060de2573a95\",\"type\":\"LinearScale\"}},\"id\":\"37fbf4cf-4ef0-4c7a-b7fd-10a10d5ad169\",\"subtype\":\"Figure\",\"type\":\"Plot\"},{\"attributes\":{\"fill_alpha\":{\"value\":0.1},\"fill_color\":{\"value\":\"#1f77b4\"},\"line_alpha\":{\"value\":0.1},\"line_color\":{\"value\":\"#1f77b4\"},\"x\":{\"field\":\"x\"},\"y\":{\"field\":\"y\"}},\"id\":\"63be927d-7587-4b44-a1c8-60127a98bf0c\",\"type\":\"Circle\"},{\"attributes\":{\"axis_label\":\"Beak Shape\",\"formatter\":{\"id\":\"cc8e1194-f4db-4a12-a7ca-ef8bce25d6f6\",\"type\":\"BasicTickFormatter\"},\"plot\":{\"id\":\"37fbf4cf-4ef0-4c7a-b7fd-10a10d5ad169\",\"subtype\":\"Figure\",\"type\":\"Plot\"},\"ticker\":{\"id\":\"1711b124-42d4-4ad2-ba37-cbd34bc91d8d\",\"type\":\"BasicTicker\"}},\"id\":\"ca55f49e-94eb-4e9f-8754-07b32ed27cb4\",\"type\":\"LinearAxis\"},{\"attributes\":{\"source\":{\"id\":\"f780cde2-a0b4-402b-835f-be546098be33\",\"type\":\"ColumnDataSource\"}},\"id\":\"0e8c104a-a46a-46fc-971f-5d9b1b0895ab\",\"type\":\"CDSView\"},{\"attributes\":{},\"id\":\"81a06d96-2cd4-4587-a28a-ae5cf88ce3ab\",\"type\":\"Selection\"},{\"attributes\":{\"dimension\":1,\"plot\":{\"id\":\"37fbf4cf-4ef0-4c7a-b7fd-10a10d5ad169\",\"subtype\":\"Figure\",\"type\":\"Plot\"},\"ticker\":{\"id\":\"7ce8ec42-fef0-4644-90c3-f63828f25cbf\",\"type\":\"BasicTicker\"}},\"id\":\"a3f109c6-baa0-4e5b-9aff-765e13917653\",\"type\":\"Grid\"},{\"attributes\":{},\"id\":\"73e114e3-2318-4be0-a941-d2149c522f4f\",\"type\":\"UnionRenderers\"},{\"attributes\":{\"active_drag\":\"auto\",\"active_inspect\":\"auto\",\"active_multi\":null,\"active_scroll\":\"auto\",\"active_tap\":\"auto\",\"tools\":[{\"id\":\"e6e4fdf2-fb88-4d0f-9c83-01971c812af7\",\"type\":\"PanTool\"},{\"id\":\"962c9530-8239-45a3-be97-4d25e7f7518d\",\"type\":\"WheelZoomTool\"},{\"id\":\"8228e846-6961-4e59-9708-61207156e7c2\",\"type\":\"BoxZoomTool\"},{\"id\":\"0393ca93-64e1-4845-b9a4-e0ee38bc1621\",\"type\":\"SaveTool\"},{\"id\":\"10861003-8326-4703-af74-43dfd02af9ec\",\"type\":\"ResetTool\"},{\"id\":\"9a01025a-195d-4219-a599-ac761b93a257\",\"type\":\"HelpTool\"}]},\"id\":\"4f26a55a-969b-4332-ba65-9fafe511e741\",\"type\":\"Toolbar\"},{\"attributes\":{\"label\":{\"value\":\"2012 scandens\"},\"renderers\":[{\"id\":\"7c0a1c6a-880c-410b-b511-7af455868bda\",\"type\":\"GlyphRenderer\"}]},\"id\":\"5120ef0b-7fd9-4c93-ba5b-e648f48e08af\",\"type\":\"LegendItem\"},{\"attributes\":{},\"id\":\"7ce8ec42-fef0-4644-90c3-f63828f25cbf\",\"type\":\"BasicTicker\"},{\"attributes\":{},\"id\":\"a861f01d-4e0f-4cf2-99e8-9460425a1dd2\",\"type\":\"UnionRenderers\"},{\"attributes\":{\"callback\":null,\"data\":{\"x\":{\"__ndarray__\":\"c9Sj48/J8T/ooosuuuj0P5PzsohPIPU/t23btm079T/4G2X3G2X1PyBkqOwwdfU/H+IIGXUb9j/qnjQYNCL2Py9ipo/sIvY/kaWIcjRB9j9hH9SGMGn2P0jM2xkS8/Y/UnFkDUb49j/s0G+2Dv32Pxqfr/H5Gvc/yS0puSUl9z9cQUyuICb3P1U7OpNqR/c/YoEKg31T9z/f/JG4Wnb3PwyLkVDaePc/mRujMwt/9z+RRx555JH3P6uqqqqqqvc/IX4CUj2u9z8796/lD7H3Px+ckV2CuPc/jTXcSj689z+govxLYdX3P2qE5Z5G2Pc/1ESxUkXk9z/d0wjLPQ34P+E5AkVbDfg/EQG++wcR+D8WWGCBBRb4P4gyOf0YH/g/3/0h4P0h+D+OKDDp1Dz4P27M00erSfg/mk4EkF9L+D9Ea/fhFlD4P1hggQUWWPg/Byzp5U9b+D8RYBBab2T4P20islS6Zvg/hznMYQ5z+D8NY4u0VnT4P2JyBTG5gvg/iy666KKL+D+NWMyIxYz4P8L946Fnj/g//ogF3OmP+D/JNGw3y5P4P3f5EtXFnPg/2Imd2Imd+D8tFe5dOqf4P1kDrlgDrvg/C1nIQhay+D+HGuzOZLT4P2ELtmALtvg/uuiiiy66+D/GLeOWccv4P9+MeDPizfg/jWc84xnP+D8z1ofG+tD4Px5TA3vH1Pg/5IUqhFza+D9lTPk6LOH4PzpSrvYK5Pg/DnOYwxzm+D/neHmOl+f4P9OOFQgj7fg/YjESShvv+D9wetOb3vT4P3mP93iP9/g/UhjP+lr7+D+QfvSjH/34PwAAAAAAAPk/wzAMwzAM+T94o6nzaw/5PxEREREREfk/FglQkQAV+T+ykIUsZCH5P0qSJEmSJPk/BKS0GwEp+T+XdaDt3ir5P55p3MCoM/k/N6x9w9o3+T/8MpXybDn5P+SzbjBFPvk/P7xTupk/+T9I4XoUrkf5PwSZFC+QSfk/C24z10lN+T9T1pQ1ZU35P1VVVVVVVfk/M82xEcJY+T+VrGQlK1n5P5WsZCUrWfk/3H/qZk1a+T8FMbmCmFz5PwUxuYKYXPk/b42sLsNe+T9ggQUWWGD5P47vqc79a/k/whZswRZs+T/sjE3R5275P1XEKckMd/k/6pd+6Zd++T/ql37pl375P5jDHOYwh/k/JlcQkyuI+T/AQejd74z5P6KJJppoovk/q9mTfB+r+T+6mqu5mqv5P+QjgEdxrPk/bMqasqas+T/8mhCUva/5P5va1KY2tfk/O/SbrUO/+T96fBcOosf5P84555xzzvk/WKDCYN/U+T96nud5nuf5P/////////k/n0ZY7mkE+j84/FzACgv6P7HpsW4DDPo/OyrwxdUP+j+FYRiGYRj6P+ehY3hxHvo/h8b60Fgf+j+8wd+TzCD6P+nP2Y4PQfo/TSX/gOlE+j+rpFFtuUr6P1paWlpaWvo/+6Vf+qVf+j8+6ZM+6ZP6P6qqqqqqqvo/q6qqqqqq+j+rqqqqqqr6P+poFXKPr/o/rGQlK1nJ+j9OvmzQ5Mv6PyivobyG8vo/Po2w3NMI+z8XXXTRRRf7P3Plg0ELL/s/ZPqQJ75U+z/ERbX/ZH77Pzt5VLHhqvs/74g74o64+z8MDAwMDAz8P70rMl+aOPw/\",\"dtype\":\"float64\",\"shape\":[156]},\"y\":{\"__ndarray__\":\"GqRBGqRBej8apEEapEGKPxQ7sRM7sZM/GqRBGqRBmj+QBmmQBmmgPxQ7sRM7saM/l2/5lm/5pj8apEEapEGqP57YiZ3Yia0/kAZpkAZpsD/SIA3SIA2yPxQ7sRM7sbM/VVVVVVVVtT+Xb/mWb/m2P9mJndiJnbg/GqRBGqRBuj9cvuVbvuW7P57YiZ3Yib0/3/It3/Itvz+QBmmQBmnAP7ETO7ETO8E/0iAN0iANwj/zLd/yLd/CPxQ7sRM7scM/NUiDNEiDxD9VVVVVVVXFP3ZiJ3ZiJ8Y/l2/5lm/5xj+4fMu3fMvHP9mJndiJncg/+ZZv+ZZvyT8apEEapEHKPzuxEzuxE8s/XL7lW77lyz99y7d8y7fMP57YiZ3Yic0/vuVbvuVbzj/f8i3f8i3PPwAAAAAAANA/kAZpkAZp0D8hDdIgDdLQP7ETO7ETO9E/QhqkQRqk0T/SIA3SIA3SP2IndmIndtI/8y3f8i3f0j+DNEiDNEjTPxQ7sRM7sdM/pEEapEEa1D81SIM0SIPUP8VO7MRO7NQ/VVVVVVVV1T/mW77lW77VP3ZiJ3ZiJ9Y/B2mQBmmQ1j+Xb/mWb/nWPyd2Yid2Ytc/uHzLt3zL1z9IgzRIgzTYP9mJndiJndg/aZAGaZAG2T/5lm/5lm/ZP4qd2Imd2Nk/GqRBGqRB2j+rqqqqqqraPzuxEzuxE9s/y7d8y7d82z9cvuVbvuXbP+zETuzETtw/fcu3fMu33D8N0iAN0iDdP57YiZ3Yid0/Lt/yLd/y3T++5Vu+5VveP0/sxE7sxN4/3/It3/It3z9w+ZZv+ZbfPwAAAAAAAOA/SIM0SIM04D+QBmmQBmngP9mJndiJneA/IQ3SIA3S4D9pkAZpkAbhP7ETO7ETO+E/+ZZv+ZZv4T9CGqRBGqThP4qd2Imd2OE/0iAN0iAN4j8apEEapEHiP2IndmInduI/q6qqqqqq4j/zLd/yLd/iPzuxEzuxE+M/gzRIgzRI4z/Lt3zLt3zjPxQ7sRM7seM/XL7lW77l4z+kQRqkQRrkP+zETuzETuQ/NUiDNEiD5D99y7d8y7fkP8VO7MRO7OQ/DdIgDdIg5T9VVVVVVVXlP57YiZ3YieU/5lu+5Vu+5T8u3/It3/LlP3ZiJ3ZiJ+Y/vuVbvuVb5j8HaZAGaZDmP0/sxE7sxOY/l2/5lm/55j/f8i3f8i3nPyd2Yid2Yuc/cPmWb/mW5z+4fMu3fMvnPwAAAAAAAOg/SIM0SIM06D+QBmmQBmnoP9mJndiJneg/IQ3SIA3S6D9pkAZpkAbpP7ETO7ETO+k/+ZZv+ZZv6T9CGqRBGqTpP4qd2Imd2Ok/0iAN0iAN6j8apEEapEHqP2IndmInduo/q6qqqqqq6j/zLd/yLd/qPzuxEzuxE+s/gzRIgzRI6z/Lt3zLt3zrPxQ7sRM7ses/XL7lW77l6z+kQRqkQRrsP+zETuzETuw/NUiDNEiD7D99y7d8y7fsP8VO7MRO7Ow/DdIgDdIg7T9VVVVVVVXtP57YiZ3Yie0/5lu+5Vu+7T8u3/It3/LtP3ZiJ3ZiJ+4/vuVbvuVb7j8HaZAGaZDuP0/sxE7sxO4/l2/5lm/57j/f8i3f8i3vPyd2Yid2Yu8/cPmWb/mW7z+4fMu3fMvvPwAAAAAAAPA/\",\"dtype\":\"float64\",\"shape\":[156]}},\"selected\":{\"id\":\"1b451f84-b037-4dfa-9292-c1da9a0de7c7\",\"type\":\"Selection\"},\"selection_policy\":{\"id\":\"b8da0767-f963-4ca5-bce5-606edcfeef88\",\"type\":\"UnionRenderers\"}},\"id\":\"a5121786-ab4e-469b-8228-2903f7546a9a\",\"type\":\"ColumnDataSource\"},{\"attributes\":{},\"id\":\"1711b124-42d4-4ad2-ba37-cbd34bc91d8d\",\"type\":\"BasicTicker\"},{\"attributes\":{},\"id\":\"1ba1629d-0af5-4409-9bd1-38d6a520b336\",\"type\":\"LinearScale\"},{\"attributes\":{\"plot\":{\"id\":\"37fbf4cf-4ef0-4c7a-b7fd-10a10d5ad169\",\"subtype\":\"Figure\",\"type\":\"Plot\"},\"ticker\":{\"id\":\"1711b124-42d4-4ad2-ba37-cbd34bc91d8d\",\"type\":\"BasicTicker\"}},\"id\":\"192c9cba-dbc4-40d5-bb5c-eae77b6ec146\",\"type\":\"Grid\"},{\"attributes\":{\"callback\":null},\"id\":\"3f1a5a08-1148-4b90-b2bf-050a9b7d67a7\",\"type\":\"DataRange1d\"},{\"attributes\":{\"formatter\":{\"id\":\"f2e92725-1d0e-46c7-8530-1bdcb8de0f1d\",\"type\":\"BasicTickFormatter\"},\"plot\":{\"id\":\"37fbf4cf-4ef0-4c7a-b7fd-10a10d5ad169\",\"subtype\":\"Figure\",\"type\":\"Plot\"},\"ticker\":{\"id\":\"7ce8ec42-fef0-4644-90c3-f63828f25cbf\",\"type\":\"BasicTicker\"}},\"id\":\"31fd50d5-7732-4406-99ee-e5470813485e\",\"type\":\"LinearAxis\"}],\"root_ids\":[\"37fbf4cf-4ef0-4c7a-b7fd-10a10d5ad169\"]},\"title\":\"Bokeh Application\",\"version\":\"0.13.0\"}};\n",
       "  var render_items = [{\"docid\":\"af67e98b-df1e-4d1b-822f-d8111214bab7\",\"roots\":{\"37fbf4cf-4ef0-4c7a-b7fd-10a10d5ad169\":\"4d11978e-5c2f-428c-8c9f-ce271a015b46\"}}];\n",
       "  root.Bokeh.embed.embed_items_notebook(docs_json, render_items);\n",
       "\n",
       "  }\n",
       "  if (root.Bokeh !== undefined) {\n",
       "    embed_document(root);\n",
       "  } else {\n",
       "    var attempts = 0;\n",
       "    var timer = setInterval(function(root) {\n",
       "      if (root.Bokeh !== undefined) {\n",
       "        embed_document(root);\n",
       "        clearInterval(timer);\n",
       "      }\n",
       "      attempts++;\n",
       "      if (attempts > 100) {\n",
       "        console.log(\"Bokeh: ERROR: Unable to run BokehJS code because BokehJS library is missing\")\n",
       "        clearInterval(timer);\n",
       "      }\n",
       "    }, 10, root)\n",
       "  }\n",
       "})(window);"
      ],
      "application/vnd.bokehjs_exec.v0+json": ""
     },
     "metadata": {
      "application/vnd.bokehjs_exec.v0+json": {
       "id": "37fbf4cf-4ef0-4c7a-b7fd-10a10d5ad169"
      }
     },
     "output_type": "display_data"
    }
   ],
   "source": [
    "bird_species = np.unique(df_tidy[\"species\"].values)\n",
    "# Deals with coloring of different lines\n",
    "colors = all_palettes['Viridis'][10]\n",
    "\n",
    "first = True # used to only show the first plot. \n",
    "\n",
    "p = bokeh.plotting.Figure(width = 800, \n",
    "                          height = 500,\n",
    "                          title = \"Beak shape across time and species\",\n",
    "                          x_axis_label = \"Beak Shape\")\n",
    "\n",
    "plots = [0] * len(bird_years)\n",
    "\n",
    "for year, index in zip(bird_years, range(0, len(bird_years))):\n",
    "    \n",
    "    name = str(year)\n",
    "    \n",
    "    df_temp = df_tidy[df_tidy[\"year\"] == year]\n",
    "    df_temp_1 = df_temp[df_temp[\"species\"] == bird_species[0]]\n",
    "    df_temp_2 = df_temp[df_temp[\"species\"] == bird_species[1]]\n",
    "    p = bebi103.viz.ecdf(df_temp_1[\"Shape\"].values, p=p, \n",
    "                         color=colors[index], visible = first, \n",
    "                         legend = name +\" \"+ bird_species[0])\n",
    "    p = bebi103.viz.ecdf(df_temp_2[\"Shape\"].values, p=p, \n",
    "                         color=colors[index + 5], visible = first, \n",
    "                         legend = name +\" \"+ bird_species[1])\n",
    "    \n",
    "    p.legend.click_policy = 'hide'\n",
    "    p.legend.location = \"bottom_right\"\n",
    "    first = False # used to only show the first plot. \n",
    "\n",
    "bokeh.io.show(p)"
   ]
  },
  {
   "cell_type": "markdown",
   "metadata": {},
   "source": [
    "We will compute the mean beak shape for every year and species. Since we are working on a larger number of datasets than in part b, let's define a function that can take as its arguments the dataframe, the year, and the species and return a print statement describing the mean beak length for that slice. We can also include the confidence interval using our bootstrapping methods"
   ]
  },
  {
   "cell_type": "code",
   "execution_count": 24,
   "metadata": {},
   "outputs": [],
   "source": [
    "def mean_beak_shape(df, year, species):\n",
    "    \"\"\"Finds the mean beak shape for a given year and species, and\n",
    "       returns it along with a confidence interval.\"\"\"\n",
    "    # Isolate species and year\n",
    "    df_year = df.loc[df[\"year\"] == year]\n",
    "    dataset_species = df_year.loc[df_year[\"species\"] == species, \n",
    "                                  \"Shape\"].values\n",
    "    # Calculate mean\n",
    "    mean = np.mean(dataset_species)\n",
    "    \n",
    "    # Calculate 95% confidence interval for mean. \n",
    "    bs_mean_shape = draw_bs_reps_mean(dataset_species, size=10000)\n",
    "    mean_shape_conf_int = np.percentile(bs_mean_shape, [2.5, 97.5])\n",
    "    return (mean, mean_shape_conf_int)\n",
    "\n",
    "def print_beak_shape(species, year, mean, mean_shape_conf_int):\n",
    "    \"\"\"Helper function to report beak shapes.\"\"\"\n",
    "    print(\"The mean beak shape for {0:.8s} in {1:.0f} is {2:.2f},\".format(*(species, year, mean)))\n",
    "    print(\"with a 95% confidence interval of: [{0:.2f}, {1:.2f}]\".format(*(tuple(mean_shape_conf_int))))"
   ]
  },
  {
   "cell_type": "markdown",
   "metadata": {},
   "source": [
    "Now let's execute that on our dataset to see the mean beak shape for each species in each year:"
   ]
  },
  {
   "cell_type": "code",
   "execution_count": 25,
   "metadata": {},
   "outputs": [
    {
     "name": "stdout",
     "output_type": "stream",
     "text": [
      "The mean beak shape for fortis in 1973 is 1.12,\n",
      "with a 95% confidence interval of: [1.10, 1.13]\n",
      "The mean beak shape for fortis in 1975 is 1.15,\n",
      "with a 95% confidence interval of: [1.15, 1.16]\n",
      "The mean beak shape for fortis in 1987 is 1.18,\n",
      "with a 95% confidence interval of: [1.17, 1.18]\n",
      "The mean beak shape for fortis in 1991 is 1.18,\n",
      "with a 95% confidence interval of: [1.17, 1.18]\n",
      "The mean beak shape for fortis in 2012 is 1.22,\n",
      "with a 95% confidence interval of: [1.21, 1.24]\n",
      "The mean beak shape for scandens in 1973 is 1.55,\n",
      "with a 95% confidence interval of: [1.49, 1.61]\n",
      "The mean beak shape for scandens in 1975 is 1.58,\n",
      "with a 95% confidence interval of: [1.56, 1.60]\n",
      "The mean beak shape for scandens in 1987 is 1.56,\n",
      "with a 95% confidence interval of: [1.54, 1.57]\n",
      "The mean beak shape for scandens in 1991 is 1.54,\n",
      "with a 95% confidence interval of: [1.52, 1.56]\n",
      "The mean beak shape for scandens in 2012 is 1.47,\n",
      "with a 95% confidence interval of: [1.45, 1.48]\n"
     ]
    }
   ],
   "source": [
    "names = [\"fortis\", \"scandens\"]\n",
    "years = [1973, 1975, 1987, 1991, 2012]\n",
    "\n",
    "for species in names:\n",
    "    for year in years:\n",
    "        (mean, mean_shape_conf_int) = mean_beak_shape(df_tidy, year, species)\n",
    "        print_beak_shape(species, year, mean, mean_shape_conf_int)\n",
    "        "
   ]
  },
  {
   "cell_type": "markdown",
   "metadata": {},
   "source": [
    "Let's display this graphically, because why not?"
   ]
  },
  {
   "cell_type": "code",
   "execution_count": 26,
   "metadata": {},
   "outputs": [
    {
     "data": {
      "application/vnd.vegalite.v2+json": {
       "$schema": "https://vega.github.io/schema/vega-lite/v2.6.0.json",
       "config": {
        "view": {
         "height": 300,
         "width": 400
        }
       },
       "layer": [
        {
         "data": {
          "format": {
           "type": "json"
          },
          "url": "altair-data-8df2b46e665a51513db86154f51cf35f.json"
         },
         "encoding": {
          "color": {
           "field": "population",
           "type": "nominal"
          },
          "x": {
           "field": "conf_int",
           "scale": {
            "zero": false
           },
           "type": "quantitative"
          },
          "y": {
           "field": "population",
           "type": "nominal"
          }
         },
         "height": 200,
         "mark": "line",
         "width": 600
        },
        {
         "data": {
          "format": {
           "type": "json"
          },
          "url": "altair-data-12fdf756481b13da4fbc9b5a3440dab1.json"
         },
         "encoding": {
          "color": {
           "field": "population",
           "type": "nominal"
          },
          "x": {
           "field": "mean",
           "scale": {
            "zero": false
           },
           "title": "Mean beak shape with 95% confidence interval",
           "type": "quantitative"
          },
          "y": {
           "field": "population",
           "title": null,
           "type": "nominal"
          }
         },
         "height": 200,
         "mark": "point",
         "width": 600
        },
        {
         "data": {
          "format": {
           "type": "json"
          },
          "url": "altair-data-72486652caf7cfe80352fdb90466b857.json"
         },
         "encoding": {
          "color": {
           "field": "population",
           "type": "nominal"
          },
          "x": {
           "field": "conf_int",
           "scale": {
            "zero": false
           },
           "type": "quantitative"
          },
          "y": {
           "field": "population",
           "type": "nominal"
          }
         },
         "height": 200,
         "mark": "line",
         "width": 600
        },
        {
         "data": {
          "format": {
           "type": "json"
          },
          "url": "altair-data-0f6e2ec353a3f93d8c9a5b8f64f087bb.json"
         },
         "encoding": {
          "color": {
           "field": "population",
           "type": "nominal"
          },
          "x": {
           "field": "mean",
           "scale": {
            "zero": false
           },
           "title": "Mean beak shape with 95% confidence interval",
           "type": "quantitative"
          },
          "y": {
           "field": "population",
           "title": null,
           "type": "nominal"
          }
         },
         "height": 200,
         "mark": "point",
         "width": 600
        },
        {
         "data": {
          "format": {
           "type": "json"
          },
          "url": "altair-data-b510e5e7dd9b6438b9e0df28fd3ab2fd.json"
         },
         "encoding": {
          "color": {
           "field": "population",
           "type": "nominal"
          },
          "x": {
           "field": "conf_int",
           "scale": {
            "zero": false
           },
           "type": "quantitative"
          },
          "y": {
           "field": "population",
           "type": "nominal"
          }
         },
         "height": 200,
         "mark": "line",
         "width": 600
        },
        {
         "data": {
          "format": {
           "type": "json"
          },
          "url": "altair-data-479a94df07448fb38b7379726cafde93.json"
         },
         "encoding": {
          "color": {
           "field": "population",
           "type": "nominal"
          },
          "x": {
           "field": "mean",
           "scale": {
            "zero": false
           },
           "title": "Mean beak shape with 95% confidence interval",
           "type": "quantitative"
          },
          "y": {
           "field": "population",
           "title": null,
           "type": "nominal"
          }
         },
         "height": 200,
         "mark": "point",
         "width": 600
        },
        {
         "data": {
          "format": {
           "type": "json"
          },
          "url": "altair-data-726a7b4ae95f804c120f92d98082f9ed.json"
         },
         "encoding": {
          "color": {
           "field": "population",
           "type": "nominal"
          },
          "x": {
           "field": "conf_int",
           "scale": {
            "zero": false
           },
           "type": "quantitative"
          },
          "y": {
           "field": "population",
           "type": "nominal"
          }
         },
         "height": 200,
         "mark": "line",
         "width": 600
        },
        {
         "data": {
          "format": {
           "type": "json"
          },
          "url": "altair-data-b6918fb42df180f6cc95ccb56089b93b.json"
         },
         "encoding": {
          "color": {
           "field": "population",
           "type": "nominal"
          },
          "x": {
           "field": "mean",
           "scale": {
            "zero": false
           },
           "title": "Mean beak shape with 95% confidence interval",
           "type": "quantitative"
          },
          "y": {
           "field": "population",
           "title": null,
           "type": "nominal"
          }
         },
         "height": 200,
         "mark": "point",
         "width": 600
        },
        {
         "data": {
          "format": {
           "type": "json"
          },
          "url": "altair-data-3d5dc8822342707d0ccfb7efa5bcf9bb.json"
         },
         "encoding": {
          "color": {
           "field": "population",
           "type": "nominal"
          },
          "x": {
           "field": "conf_int",
           "scale": {
            "zero": false
           },
           "type": "quantitative"
          },
          "y": {
           "field": "population",
           "type": "nominal"
          }
         },
         "height": 200,
         "mark": "line",
         "width": 600
        },
        {
         "data": {
          "format": {
           "type": "json"
          },
          "url": "altair-data-27585149b3d451586d1d7db40236026d.json"
         },
         "encoding": {
          "color": {
           "field": "population",
           "type": "nominal"
          },
          "x": {
           "field": "mean",
           "scale": {
            "zero": false
           },
           "title": "Mean beak shape with 95% confidence interval",
           "type": "quantitative"
          },
          "y": {
           "field": "population",
           "title": null,
           "type": "nominal"
          }
         },
         "height": 200,
         "mark": "point",
         "width": 600
        },
        {
         "data": {
          "format": {
           "type": "json"
          },
          "url": "altair-data-488a142aab92eccee2fc940bd48e5c08.json"
         },
         "encoding": {
          "color": {
           "field": "population",
           "type": "nominal"
          },
          "x": {
           "field": "conf_int",
           "scale": {
            "zero": false
           },
           "type": "quantitative"
          },
          "y": {
           "field": "population",
           "type": "nominal"
          }
         },
         "height": 200,
         "mark": "line",
         "width": 600
        },
        {
         "data": {
          "format": {
           "type": "json"
          },
          "url": "altair-data-37d38c6b020b41e891edc12e91cf8a0a.json"
         },
         "encoding": {
          "color": {
           "field": "population",
           "type": "nominal"
          },
          "x": {
           "field": "mean",
           "scale": {
            "zero": false
           },
           "title": "Mean beak shape with 95% confidence interval",
           "type": "quantitative"
          },
          "y": {
           "field": "population",
           "title": null,
           "type": "nominal"
          }
         },
         "height": 200,
         "mark": "point",
         "width": 600
        },
        {
         "data": {
          "format": {
           "type": "json"
          },
          "url": "altair-data-1e64ee4d6028df578d33ca2fe36c23d3.json"
         },
         "encoding": {
          "color": {
           "field": "population",
           "type": "nominal"
          },
          "x": {
           "field": "conf_int",
           "scale": {
            "zero": false
           },
           "type": "quantitative"
          },
          "y": {
           "field": "population",
           "type": "nominal"
          }
         },
         "height": 200,
         "mark": "line",
         "width": 600
        },
        {
         "data": {
          "format": {
           "type": "json"
          },
          "url": "altair-data-c07718abf6b4bd5717675716ce198bd1.json"
         },
         "encoding": {
          "color": {
           "field": "population",
           "type": "nominal"
          },
          "x": {
           "field": "mean",
           "scale": {
            "zero": false
           },
           "title": "Mean beak shape with 95% confidence interval",
           "type": "quantitative"
          },
          "y": {
           "field": "population",
           "title": null,
           "type": "nominal"
          }
         },
         "height": 200,
         "mark": "point",
         "width": 600
        },
        {
         "data": {
          "format": {
           "type": "json"
          },
          "url": "altair-data-da35ccd585aa0cef74d8142b044e5f73.json"
         },
         "encoding": {
          "color": {
           "field": "population",
           "type": "nominal"
          },
          "x": {
           "field": "conf_int",
           "scale": {
            "zero": false
           },
           "type": "quantitative"
          },
          "y": {
           "field": "population",
           "type": "nominal"
          }
         },
         "height": 200,
         "mark": "line",
         "width": 600
        },
        {
         "data": {
          "format": {
           "type": "json"
          },
          "url": "altair-data-9e4ff1b37f74218953a5e6c455ef272c.json"
         },
         "encoding": {
          "color": {
           "field": "population",
           "type": "nominal"
          },
          "x": {
           "field": "mean",
           "scale": {
            "zero": false
           },
           "title": "Mean beak shape with 95% confidence interval",
           "type": "quantitative"
          },
          "y": {
           "field": "population",
           "title": null,
           "type": "nominal"
          }
         },
         "height": 200,
         "mark": "point",
         "width": 600
        },
        {
         "data": {
          "format": {
           "type": "json"
          },
          "url": "altair-data-648a184860056babf89b924437317c56.json"
         },
         "encoding": {
          "color": {
           "field": "population",
           "type": "nominal"
          },
          "x": {
           "field": "conf_int",
           "scale": {
            "zero": false
           },
           "type": "quantitative"
          },
          "y": {
           "field": "population",
           "type": "nominal"
          }
         },
         "height": 200,
         "mark": "line",
         "width": 600
        },
        {
         "data": {
          "format": {
           "type": "json"
          },
          "url": "altair-data-ed99e564d646d50147410abd1f6800e3.json"
         },
         "encoding": {
          "color": {
           "field": "population",
           "type": "nominal"
          },
          "x": {
           "field": "mean",
           "scale": {
            "zero": false
           },
           "title": "Mean beak shape with 95% confidence interval",
           "type": "quantitative"
          },
          "y": {
           "field": "population",
           "title": null,
           "type": "nominal"
          }
         },
         "height": 200,
         "mark": "point",
         "width": 600
        },
        {
         "data": {
          "format": {
           "type": "json"
          },
          "url": "altair-data-26fee8a3d59f5ece8cbe3181475fe09e.json"
         },
         "encoding": {
          "color": {
           "field": "population",
           "type": "nominal"
          },
          "x": {
           "field": "conf_int",
           "scale": {
            "zero": false
           },
           "type": "quantitative"
          },
          "y": {
           "field": "population",
           "type": "nominal"
          }
         },
         "height": 200,
         "mark": "line",
         "width": 600
        },
        {
         "data": {
          "format": {
           "type": "json"
          },
          "url": "altair-data-57ec6e8afc389f26ba7915aa681d4ec4.json"
         },
         "encoding": {
          "color": {
           "field": "population",
           "type": "nominal"
          },
          "x": {
           "field": "mean",
           "scale": {
            "zero": false
           },
           "title": "Mean beak shape with 95% confidence interval",
           "type": "quantitative"
          },
          "y": {
           "field": "population",
           "title": null,
           "type": "nominal"
          }
         },
         "height": 200,
         "mark": "point",
         "width": 600
        }
       ]
      },
      "image/png": "[encoded data removed]",
      "text/plain": [
       "<VegaLite 2 object>\n",
       "\n",
       "If you see this message, it means the renderer has not been properly enabled\n",
       "for the frontend that you are using. For more information, see\n",
       "https://altair-viz.github.io/user_guide/troubleshooting.html\n"
      ]
     },
     "execution_count": 26,
     "metadata": {},
     "output_type": "execute_result"
    }
   ],
   "source": [
    "chart = None\n",
    "for species in names:\n",
    "    for year in years:\n",
    "        # Actually calculate statistics\n",
    "        (mean, mean_shape_conf_int) = mean_beak_shape(df_tidy, year, species)\n",
    "        name = species + \" \" + str(year)\n",
    "        \n",
    "        # Plotting confidence intervals and points at once is tricky, \n",
    "        # so I chose to make several dataframes and several altair \n",
    "        # plots, and then overlay them one by one.\n",
    "        \n",
    "        # Plot confidence intervals!\n",
    "        df = pd.DataFrame(data = {\"population\": [name] * 2, \n",
    "                                  \"conf_int\": mean_shape_conf_int})\n",
    "        \n",
    "        ch = alt.Chart(df, height=200, width=600).mark_line(\n",
    "                         ).encode(x = alt.X(\"conf_int:Q\", \n",
    "                                            scale=alt.Scale(zero=False)), \n",
    "                                  y = \"population:N\",\n",
    "                                  color = alt.Color(\"population:N\"))\n",
    "        # This takes care of the first chart overlay\n",
    "        if type(chart) == type(None):\n",
    "            chart = ch\n",
    "        else:\n",
    "            chart = chart + ch\n",
    "        \n",
    "        # Plot means!\n",
    "        df = pd.DataFrame(data = {\"population\": [name],\n",
    "                                  \"mean\": [mean]})\n",
    "        ch = alt.Chart(df, height=200, width= 600).mark_point(\n",
    "                         ).encode(x = alt.X(\"mean:Q\", \n",
    "                                            scale=alt.Scale(zero=False),\n",
    "                                            title = \"Mean beak shape with 95% confidence interval\"), \n",
    "                                  y = alt.Y(\"population:N\", \n",
    "                                            title = None),\n",
    "                                  color = alt.Color(\"population:N\"))\n",
    "        chart = chart + ch\n",
    "chart"
   ]
  },
  {
   "cell_type": "markdown",
   "metadata": {},
   "source": [
    "<p style=\"background-color:#D9EDF7\">\n",
    "    Nice!  I think it would be better to compare values from the same year together (maybe <i>y</i>-axis for year and color for species), but the results are so striking here that it doesn't really matter.<br>\n",
    "</p>"
   ]
  },
  {
   "cell_type": "markdown",
   "metadata": {},
   "source": [
    "This looks great! The most apparent observation from both plots we have made so far is that the shape of the beak of birds from each poplulation seems to converge over the 40 years of the experiment. We can perform a hypothesis test with the following parameters:\n",
    "\n",
    "Null hypothesis:  There was no convergence in beak shape. Specifically, the mean beak shape for both species has been stationary over time. \n",
    "\n",
    "Test statistic:  initial mean difference in beak shape minus the final mean difference in beak shape.\n",
    "\n",
    "I will start by computing the test statistic for our experiment:"
   ]
  },
  {
   "cell_type": "code",
   "execution_count": 27,
   "metadata": {},
   "outputs": [
    {
     "name": "stdout",
     "output_type": "stream",
     "text": [
      "Convergence of beak shape for our experiment: 0.188\n"
     ]
    }
   ],
   "source": [
    "(mean_f_73, mean_shape_conf_int) = mean_beak_shape(df_tidy, 1973, \"fortis\")\n",
    "(mean_f_12, mean_shape_conf_int) = mean_beak_shape(df_tidy, 2012, \"fortis\")\n",
    "(mean_s_73, mean_shape_conf_int) = mean_beak_shape(df_tidy, 1973, \"scandens\")\n",
    "(mean_s_12, mean_shape_conf_int) = mean_beak_shape(df_tidy, 2012, \"scandens\")\n",
    "convergence = (mean_s_73 - mean_f_73) - (mean_s_12 - mean_f_12)\n",
    "print(\"Convergence of beak shape for our experiment: %.3f\" % convergence)"
   ]
  },
  {
   "cell_type": "markdown",
   "metadata": {},
   "source": [
    "Now I want to isolate the beak shapes for these years and species so that I can perform permutation replicates. "
   ]
  },
  {
   "cell_type": "code",
   "execution_count": 28,
   "metadata": {},
   "outputs": [],
   "source": [
    "df = df_tidy[df_tidy[\"year\"] == 1973]\n",
    "df = df[df[\"species\"] == \"fortis\"]\n",
    "shapes_f_73 = df[\"Shape\"].values\n",
    "\n",
    "df = df_tidy[df_tidy[\"year\"] == 2012]\n",
    "df = df[df[\"species\"] == \"fortis\"]\n",
    "shapes_f_12 = df[\"Shape\"].values\n",
    "\n",
    "df = df_tidy[df_tidy[\"year\"] == 1973]\n",
    "df = df[df[\"species\"] == \"scandens\"]\n",
    "shapes_s_73 = df[\"Shape\"].values\n",
    "\n",
    "df = df_tidy[df_tidy[\"year\"] == 2012]\n",
    "df = df[df[\"species\"] == \"scandens\"]\n",
    "shapes_s_12 = df[\"Shape\"].values"
   ]
  },
  {
   "cell_type": "markdown",
   "metadata": {},
   "source": [
    "Suppose that there was no real convergence in beak shape. In this case, we would be pulling from the same distribution whenever we measured the shape of a bird's beak, regardless of which year it was. This is how I will model the permutation replicates. "
   ]
  },
  {
   "cell_type": "code",
   "execution_count": 29,
   "metadata": {},
   "outputs": [],
   "source": [
    "@numba.jit(nopython=True)\n",
    "def draw_perm_reps_diff_diff_mean(x1, x2, y1, y2, size=1):\n",
    "    out = np.empty(size)\n",
    "    for i in range(0, size):\n",
    "        # s = species, t = time\n",
    "        # Here I draw two randomized samples from the pool of 1793 \n",
    "        # and 2012 beak shapes for each species. \n",
    "        sample_s1_t1, sample_s1_t2 = draw_perm_sample(x1, x2)\n",
    "        sample_s2_t1, sample_s2_t2 = draw_perm_sample(y1, y2)\n",
    "        out[i] = ((np.mean(sample_s1_t1) - np.mean(sample_s2_t1))\n",
    "                   - (np.mean(sample_s1_t2) - np.mean(sample_s2_t2)))\n",
    "    return out"
   ]
  },
  {
   "cell_type": "code",
   "execution_count": 30,
   "metadata": {},
   "outputs": [
    {
     "name": "stdout",
     "output_type": "stream",
     "text": [
      "p-value: 0.00000000\n"
     ]
    }
   ],
   "source": [
    "reps = draw_perm_reps_diff_diff_mean(shapes_s_73,\n",
    "                                     shapes_s_12,\n",
    "                                     shapes_f_73,\n",
    "                                     shapes_f_12,\n",
    "                                     size = 10000000)\n",
    "count = 0\n",
    "for rep in reps:\n",
    "    if rep > convergence:\n",
    "        count += 1\n",
    "print(\"p-value: %.8f\" %(count / len(reps)))"
   ]
  },
  {
   "cell_type": "markdown",
   "metadata": {},
   "source": [
    "The p-value seems to be so low that it is impossible to calculate in a reasonable amount of time. Thus, the null hypothesis is clearly wrong, and we have validated our suspicion that beak shapes have converged over the duration of the experiment. "
   ]
  },
  {
   "cell_type": "markdown",
   "metadata": {},
   "source": [
    "**e)** Introgressive hybridization occurs when a *G. scandens* bird mates with a *G. fortis* bird, and then the offspring mates again with pure *G. scandens*. This brings traits from *G. fortis* into the *G. scandens* genome. As this may be a mode by which beak geometries of *G. scandens* change over time, it is useful to know how *heritable* a trait is. Heritability is defined as the ratio of the covariance between parents and offsprings to the *variance of the parents alone*. To be clear, the heritability is defined as follows.\n",
    "\n",
    "1. Compute the average value of a trait in a pair of parents.\n",
    "2. Compute the average value of that trait among the offspring of those parents.\n",
    "3. Do this for each set of parents/offspring. Using this data set, compute the covariance between the average offspring and average parents and the variance among all average parents.\n",
    "4. The heritability , $h^2$, is the ratio of the covariance between parents and offspring to the variance of the parents, $h^2 = \\sigma_{po}/\\sigma_p^2$.\n",
    "\n",
    "This is a more apt definition than, say, the Pearson correlation, because it is a direct comparison between parents and offspring. \n",
    "\n",
    "Heritability data for beak depth for *G. fortis* and *G. scandens* can be found [here](../data/fortis_beak_depth_heredity.csv) and [here](../data/scandens_beak_depth_heredity.csv), respectively. (Be sure to look at the files before reading them in; they do have different formats.) From these data, compute the heritability of beak depth in the two species, with confidence intervals. How do they differ, and what consequences might this have for introgressive hybridization?"
   ]
  },
  {
   "cell_type": "markdown",
   "metadata": {},
   "source": [
    "We first look at the species scandens.\n",
    "\n",
    "We load in the data and look at it. We are given some useful information about the columns:\n",
    "\n",
    "- mid_parent is the average beak depth of a male and female pair in millimeters.\n",
    "\n",
    "- mid_offspring is the average beak depth of their offspring in millimeters."
   ]
  },
  {
   "cell_type": "code",
   "execution_count": 31,
   "metadata": {},
   "outputs": [
    {
     "data": {
      "text/html": [
       "<div>\n",
       "<style scoped>\n",
       "    .dataframe tbody tr th:only-of-type {\n",
       "        vertical-align: middle;\n",
       "    }\n",
       "\n",
       "    .dataframe tbody tr th {\n",
       "        vertical-align: top;\n",
       "    }\n",
       "\n",
       "    .dataframe thead th {\n",
       "        text-align: right;\n",
       "    }\n",
       "</style>\n",
       "<table border=\"1\" class=\"dataframe\">\n",
       "  <thead>\n",
       "    <tr style=\"text-align: right;\">\n",
       "      <th></th>\n",
       "      <th>mid_parent</th>\n",
       "      <th>mid_offspring</th>\n",
       "    </tr>\n",
       "  </thead>\n",
       "  <tbody>\n",
       "    <tr>\n",
       "      <th>0</th>\n",
       "      <td>8.3318</td>\n",
       "      <td>8.4190</td>\n",
       "    </tr>\n",
       "    <tr>\n",
       "      <th>1</th>\n",
       "      <td>8.4035</td>\n",
       "      <td>9.2468</td>\n",
       "    </tr>\n",
       "    <tr>\n",
       "      <th>2</th>\n",
       "      <td>8.5317</td>\n",
       "      <td>8.1532</td>\n",
       "    </tr>\n",
       "    <tr>\n",
       "      <th>3</th>\n",
       "      <td>8.7202</td>\n",
       "      <td>8.0089</td>\n",
       "    </tr>\n",
       "    <tr>\n",
       "      <th>4</th>\n",
       "      <td>8.7089</td>\n",
       "      <td>8.2215</td>\n",
       "    </tr>\n",
       "  </tbody>\n",
       "</table>\n",
       "</div>"
      ],
      "text/plain": [
       "   mid_parent  mid_offspring\n",
       "0      8.3318         8.4190\n",
       "1      8.4035         9.2468\n",
       "2      8.5317         8.1532\n",
       "3      8.7202         8.0089\n",
       "4      8.7089         8.2215"
      ]
     },
     "execution_count": 31,
     "metadata": {},
     "output_type": "execute_result"
    }
   ],
   "source": [
    "# Load the data into DataFrame df\n",
    "df_scand = pd.read_csv('../data/scandens_beak_depth_heredity.csv', comment = \"#\")\n",
    "\n",
    "df_scand.head()"
   ]
  },
  {
   "cell_type": "markdown",
   "metadata": {},
   "source": [
    "We now calculate the covariance between the averahe offspring and average parents."
   ]
  },
  {
   "cell_type": "code",
   "execution_count": 32,
   "metadata": {},
   "outputs": [
    {
     "name": "stdout",
     "output_type": "stream",
     "text": [
      "The covariance between the average offspring and average parents is 0.05696765903577816\n"
     ]
    }
   ],
   "source": [
    "cov_scand = np.cov(df_scand[\"mid_parent\"], df_scand[\"mid_offspring\"])\n",
    "print(\"The covariance between the average offspring and average parents is {}\".format(cov_scand[0][1]))"
   ]
  },
  {
   "cell_type": "markdown",
   "metadata": {},
   "source": [
    "We calculate the variance between the average parents."
   ]
  },
  {
   "cell_type": "code",
   "execution_count": 33,
   "metadata": {},
   "outputs": [
    {
     "name": "stdout",
     "output_type": "stream",
     "text": [
      "The variance among all average parents is 0.10305548484082841\n"
     ]
    }
   ],
   "source": [
    "var_scand = np.var(df_scand[\"mid_parent\"])\n",
    "print(\"The variance among all average parents is {}\".format(var_scand))"
   ]
  },
  {
   "cell_type": "markdown",
   "metadata": {},
   "source": [
    "We divide the two to get the heritability."
   ]
  },
  {
   "cell_type": "code",
   "execution_count": 34,
   "metadata": {},
   "outputs": [
    {
     "name": "stdout",
     "output_type": "stream",
     "text": [
      "Finally, we conclude that the heritability of scandens is 0.5527862890923858\n"
     ]
    }
   ],
   "source": [
    "heritability_scand = cov_scand[0][1] / var_scand\n",
    "print(\"Finally, we conclude that the heritability of scandens is {}\".format(heritability_scand))"
   ]
  },
  {
   "cell_type": "markdown",
   "metadata": {},
   "source": [
    "Now, we want to compute the confidence interval of the data. We write functions to bootstrap samples. Then, we calculate the heritability of each sample and store it in an np array bs_her_scand."
   ]
  },
  {
   "cell_type": "code",
   "execution_count": 35,
   "metadata": {},
   "outputs": [],
   "source": [
    "def draw_bs_sample(data):\n",
    "    \"\"\"\n",
    "    Draw a bootstrap sample from a 1D data set.\n",
    "    \"\"\"\n",
    "    return np.random.choice(data, size=len(data))\n",
    "\n",
    "def draw_bs_reps_her(parent_array, off_array, size=1):\n",
    "    \"\"\"\n",
    "    Draw boostrap replicates of the mean from 1D data set.\n",
    "    \"\"\"\n",
    "    out = np.empty(size)\n",
    "    for i in range(size):\n",
    "        index = draw_bs_sample(np.arange(len(parent_array)))\n",
    "        parent = parent_array[index]\n",
    "        off = off_array[index]\n",
    "        cov = np.cov(parent, off)[0][1]\n",
    "        var = np.var(parent)\n",
    "        her = cov / var\n",
    "        out[i] = her\n",
    "    return out"
   ]
  },
  {
   "cell_type": "code",
   "execution_count": 36,
   "metadata": {},
   "outputs": [],
   "source": [
    "bs_her_scand = draw_bs_reps_her(df_scand[\"mid_parent\"].values, df_scand[\"mid_offspring\"].values, size=20000)"
   ]
  },
  {
   "cell_type": "markdown",
   "metadata": {},
   "source": [
    "Now, we can actually compute the 95% confidence intervals."
   ]
  },
  {
   "cell_type": "code",
   "execution_count": 37,
   "metadata": {},
   "outputs": [
    {
     "data": {
      "text/plain": [
       "array([0.35115251, 0.75638058])"
      ]
     },
     "execution_count": 37,
     "metadata": {},
     "output_type": "execute_result"
    }
   ],
   "source": [
    "# 95% confidence intervals\n",
    "scand_her_conf_int = np.percentile(bs_her_scand, [2.5, 97.5])\n",
    "scand_her_conf_int"
   ]
  },
  {
   "cell_type": "markdown",
   "metadata": {},
   "source": [
    "We now consider the species fortis.\n",
    "\n",
    "We load in the data and look at it. We are given some useful information about the columns:\n",
    "- Mid-offspr represents the average beak depth in millimeters of the offspring of two parents.\n",
    "- Male BD and Female BD represent the parental beak depths in millimeters."
   ]
  },
  {
   "cell_type": "code",
   "execution_count": 38,
   "metadata": {},
   "outputs": [
    {
     "data": {
      "text/html": [
       "<div>\n",
       "<style scoped>\n",
       "    .dataframe tbody tr th:only-of-type {\n",
       "        vertical-align: middle;\n",
       "    }\n",
       "\n",
       "    .dataframe tbody tr th {\n",
       "        vertical-align: top;\n",
       "    }\n",
       "\n",
       "    .dataframe thead th {\n",
       "        text-align: right;\n",
       "    }\n",
       "</style>\n",
       "<table border=\"1\" class=\"dataframe\">\n",
       "  <thead>\n",
       "    <tr style=\"text-align: right;\">\n",
       "      <th></th>\n",
       "      <th>Mid-offspr</th>\n",
       "      <th>Male BD</th>\n",
       "      <th>Female BD</th>\n",
       "    </tr>\n",
       "  </thead>\n",
       "  <tbody>\n",
       "    <tr>\n",
       "      <th>0</th>\n",
       "      <td>10.70</td>\n",
       "      <td>10.90</td>\n",
       "      <td>9.3</td>\n",
       "    </tr>\n",
       "    <tr>\n",
       "      <th>1</th>\n",
       "      <td>9.78</td>\n",
       "      <td>10.70</td>\n",
       "      <td>8.4</td>\n",
       "    </tr>\n",
       "    <tr>\n",
       "      <th>2</th>\n",
       "      <td>9.48</td>\n",
       "      <td>10.70</td>\n",
       "      <td>8.1</td>\n",
       "    </tr>\n",
       "    <tr>\n",
       "      <th>3</th>\n",
       "      <td>9.60</td>\n",
       "      <td>10.70</td>\n",
       "      <td>9.8</td>\n",
       "    </tr>\n",
       "    <tr>\n",
       "      <th>4</th>\n",
       "      <td>10.27</td>\n",
       "      <td>9.85</td>\n",
       "      <td>10.4</td>\n",
       "    </tr>\n",
       "  </tbody>\n",
       "</table>\n",
       "</div>"
      ],
      "text/plain": [
       "   Mid-offspr  Male BD  Female BD\n",
       "0       10.70    10.90        9.3\n",
       "1        9.78    10.70        8.4\n",
       "2        9.48    10.70        8.1\n",
       "3        9.60    10.70        9.8\n",
       "4       10.27     9.85       10.4"
      ]
     },
     "execution_count": 38,
     "metadata": {},
     "output_type": "execute_result"
    }
   ],
   "source": [
    "df_fort = pd.read_csv('../data/fortis_beak_depth_heredity.csv', comment = '#')\n",
    "df_fort.head()"
   ]
  },
  {
   "cell_type": "markdown",
   "metadata": {},
   "source": [
    "The first step to computing heritability is to compute the average value of that trait among the offspring of those parents, so we store that value in Mid-parent."
   ]
  },
  {
   "cell_type": "code",
   "execution_count": 39,
   "metadata": {},
   "outputs": [
    {
     "data": {
      "text/html": [
       "<div>\n",
       "<style scoped>\n",
       "    .dataframe tbody tr th:only-of-type {\n",
       "        vertical-align: middle;\n",
       "    }\n",
       "\n",
       "    .dataframe tbody tr th {\n",
       "        vertical-align: top;\n",
       "    }\n",
       "\n",
       "    .dataframe thead th {\n",
       "        text-align: right;\n",
       "    }\n",
       "</style>\n",
       "<table border=\"1\" class=\"dataframe\">\n",
       "  <thead>\n",
       "    <tr style=\"text-align: right;\">\n",
       "      <th></th>\n",
       "      <th>Mid-offspr</th>\n",
       "      <th>Male BD</th>\n",
       "      <th>Female BD</th>\n",
       "      <th>Mid-parent</th>\n",
       "    </tr>\n",
       "  </thead>\n",
       "  <tbody>\n",
       "    <tr>\n",
       "      <th>0</th>\n",
       "      <td>10.70</td>\n",
       "      <td>10.90</td>\n",
       "      <td>9.3</td>\n",
       "      <td>10.100</td>\n",
       "    </tr>\n",
       "    <tr>\n",
       "      <th>1</th>\n",
       "      <td>9.78</td>\n",
       "      <td>10.70</td>\n",
       "      <td>8.4</td>\n",
       "      <td>9.550</td>\n",
       "    </tr>\n",
       "    <tr>\n",
       "      <th>2</th>\n",
       "      <td>9.48</td>\n",
       "      <td>10.70</td>\n",
       "      <td>8.1</td>\n",
       "      <td>9.400</td>\n",
       "    </tr>\n",
       "    <tr>\n",
       "      <th>3</th>\n",
       "      <td>9.60</td>\n",
       "      <td>10.70</td>\n",
       "      <td>9.8</td>\n",
       "      <td>10.250</td>\n",
       "    </tr>\n",
       "    <tr>\n",
       "      <th>4</th>\n",
       "      <td>10.27</td>\n",
       "      <td>9.85</td>\n",
       "      <td>10.4</td>\n",
       "      <td>10.125</td>\n",
       "    </tr>\n",
       "  </tbody>\n",
       "</table>\n",
       "</div>"
      ],
      "text/plain": [
       "   Mid-offspr  Male BD  Female BD  Mid-parent\n",
       "0       10.70    10.90        9.3      10.100\n",
       "1        9.78    10.70        8.4       9.550\n",
       "2        9.48    10.70        8.1       9.400\n",
       "3        9.60    10.70        9.8      10.250\n",
       "4       10.27     9.85       10.4      10.125"
      ]
     },
     "execution_count": 39,
     "metadata": {},
     "output_type": "execute_result"
    }
   ],
   "source": [
    "# compute average value of trait for two parents\n",
    "df_fort[\"Mid-parent\"] = (df_fort[\"Male BD\"] + df_fort[\"Female BD\"]) / 2\n",
    "df_fort.head()"
   ]
  },
  {
   "cell_type": "markdown",
   "metadata": {},
   "source": [
    "Now we will compute the covariance between the average offspring and average parents and the variance among all average parents as we've already done above for the other species."
   ]
  },
  {
   "cell_type": "code",
   "execution_count": 40,
   "metadata": {},
   "outputs": [
    {
     "name": "stdout",
     "output_type": "stream",
     "text": [
      "The covariance between the average offspring and average parents is 0.345044283187193\n",
      "The variance among all average parents is 0.47614656678528955\n",
      "Finally, we conclude that the heritability of fortis is 0.7246598153941641\n"
     ]
    }
   ],
   "source": [
    "cov_fort = np.cov(df_fort[\"Mid-offspr\"], df_fort[\"Mid-parent\"])\n",
    "print(\"The covariance between the average offspring and average parents is {}\".format(cov_fort[0][1]))\n",
    "\n",
    "var_fort = np.var(df_fort[\"Mid-parent\"])\n",
    "print(\"The variance among all average parents is {}\".format(var_fort))\n",
    "\n",
    "heritability_fort = cov_fort[0][1] / var_fort\n",
    "print(\"Finally, we conclude that the heritability of fortis is {}\".format(heritability_fort))"
   ]
  },
  {
   "cell_type": "markdown",
   "metadata": {},
   "source": [
    "We repeat the same process as we went through for Scand to find the confidence interval of Fortis. We first bootstrap using our predefined functions."
   ]
  },
  {
   "cell_type": "code",
   "execution_count": 41,
   "metadata": {},
   "outputs": [],
   "source": [
    "bs_her_fort = draw_bs_reps_her(df_fort[\"Mid-parent\"].values, df_fort[\"Mid-offspr\"].values, size=20000)"
   ]
  },
  {
   "cell_type": "markdown",
   "metadata": {},
   "source": [
    "And then we can calculate the confidence interval."
   ]
  },
  {
   "cell_type": "code",
   "execution_count": 42,
   "metadata": {},
   "outputs": [
    {
     "data": {
      "text/plain": [
       "array([0.64711163, 0.79950456])"
      ]
     },
     "execution_count": 42,
     "metadata": {},
     "output_type": "execute_result"
    }
   ],
   "source": [
    "# 95% confidence intervals\n",
    "fort_her_conf_int = np.percentile(bs_her_fort, [2.5, 97.5])\n",
    "fort_her_conf_int"
   ]
  },
  {
   "cell_type": "markdown",
   "metadata": {},
   "source": [
    "We now look at how they differ, and what consequences might this have for introgressive hybridization.\n",
    "\n",
    "Scandens 95% confidence interval: **[0.3524225 , 0.75885995]**\n",
    "\n",
    "Fortis 95% confidence interval: **[0.64786953, 0.80049313]**"
   ]
  },
  {
   "cell_type": "code",
   "execution_count": 43,
   "metadata": {},
   "outputs": [
    {
     "data": {
      "application/vnd.vegalite.v2+json": {
       "$schema": "https://vega.github.io/schema/vega-lite/v2.6.0.json",
       "config": {
        "view": {
         "height": 300,
         "width": 400
        }
       },
       "layer": [
        {
         "data": {
          "format": {
           "type": "json"
          },
          "url": "altair-data-b5825afa77170d61e75082c90391b8c8.json"
         },
         "encoding": {
          "color": {
           "field": "population",
           "type": "nominal"
          },
          "x": {
           "field": "conf_int",
           "scale": {
            "domain": [
             0.2,
             0.9
            ]
           },
           "title": "Heritability",
           "type": "quantitative"
          },
          "y": {
           "field": "population",
           "title": null,
           "type": "nominal"
          }
         },
         "height": 100,
         "mark": "line",
         "width": 300
        },
        {
         "data": {
          "format": {
           "type": "json"
          },
          "url": "altair-data-49f2de89774615416cf04eaecf4dc25a.json"
         },
         "encoding": {
          "color": {
           "field": "population",
           "type": "nominal"
          },
          "x": {
           "field": "conf_int",
           "scale": {
            "domain": [
             0.2,
             0.9
            ]
           },
           "title": "Heritability",
           "type": "quantitative"
          },
          "y": {
           "field": "population",
           "title": null,
           "type": "nominal"
          }
         },
         "height": 100,
         "mark": "line",
         "width": 300
        }
       ]
      },
      "image/png": "[encoded data removed]",
      "text/plain": [
       "<VegaLite 2 object>\n",
       "\n",
       "If you see this message, it means the renderer has not been properly enabled\n",
       "for the frontend that you are using. For more information, see\n",
       "https://altair-viz.github.io/user_guide/troubleshooting.html\n"
      ]
     },
     "execution_count": 43,
     "metadata": {},
     "output_type": "execute_result"
    }
   ],
   "source": [
    "# Make dataframes for each necessary line\n",
    "df = pd.DataFrame(data = {\"population\": [\"Fortis\"] * 2, \n",
    "                          \"conf_int\": fort_her_conf_int})\n",
    "df2 = pd.DataFrame(data = {\"population\": [\"Scandens\"] * 2, \n",
    "                          \"conf_int\": scand_her_conf_int})\n",
    "\n",
    "# Plot confidence intervals!\n",
    "def get_chart(df):\n",
    "    ch = alt.Chart(df, height=100, width=300).mark_line(\n",
    "                     ).encode(x = alt.X(\"conf_int:Q\", \n",
    "                                        scale=alt.Scale(domain = [0.2,0.9]),\n",
    "                                        title = \"Heritability\"), \n",
    "                              y = alt.Y(\"population:N\", title = None),\n",
    "                              color = alt.Color(\"population:N\"))\n",
    "    return ch\n",
    "get_chart(df) + get_chart(df2)"
   ]
  },
  {
   "cell_type": "markdown",
   "metadata": {},
   "source": [
    "We observe that the Fortis heritability is significantly higher and has a much narrower range of potential values. This means that as introgressive hybridization occurs, the beak geometries of G. scandens will start to resemble Fortis beak geometries much more closely."
   ]
  },
  {
   "cell_type": "markdown",
   "metadata": {},
   "source": [
    "<p style=\"background-color:#D9EDF7\">\n",
    "    <b>Total: 100/100</b><br>\n",
    "    Fantastic work!  You thoroughly explained each step of your analysis and discussed the implications of your results.  The extensive analysis of beak shape was particularly impressive.  Keep it up!<br>\n",
    "</p>"
   ]
  }
 ],
 "metadata": {
  "anaconda-cloud": {},
  "kernelspec": {
   "display_name": "Python 3",
   "language": "python",
   "name": "python3"
  },
  "language_info": {
   "codemirror_mode": {
    "name": "ipython",
    "version": 3
   },
   "file_extension": ".py",
   "mimetype": "text/x-python",
   "name": "python",
   "nbconvert_exporter": "python",
   "pygments_lexer": "ipython3",
   "version": "3.6.6"
  }
 },
 "nbformat": 4,
 "nbformat_minor": 2
}
