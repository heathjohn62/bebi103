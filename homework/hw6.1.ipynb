{
 "cells": [
  {
   "cell_type": "markdown",
   "metadata": {},
   "source": [
    "# Credits\n",
    "Almost all Maria, Jared helped with defining priors, displaying ECDFs, and explanations. "
   ]
  },
  {
   "cell_type": "code",
   "execution_count": 2,
   "metadata": {},
   "outputs": [
    {
     "name": "stderr",
     "output_type": "stream",
     "text": [
      "/Users/julianwagner/anaconda3/lib/python3.7/site-packages/bebi103/viz.py:30: UserWarning: DataShader import failed with error \"No module named 'datashader'\".\n",
      "Features requiring DataShader will not work and you will get exceptions.\n",
      "  Features requiring DataShader will not work and you will get exceptions.\"\"\")\n"
     ]
    },
    {
     "data": {
      "text/html": [
       "\n",
       "    <div class=\"bk-root\">\n",
       "        <a href=\"https://bokeh.pydata.org\" target=\"_blank\" class=\"bk-logo bk-logo-small bk-logo-notebook\"></a>\n",
       "        <span id=\"ad819479-4f65-471f-a655-c1a36bfccdb7\">Loading BokehJS ...</span>\n",
       "    </div>"
      ]
     },
     "metadata": {},
     "output_type": "display_data"
    },
    {
     "data": {
      "application/javascript": [
       "\n",
       "(function(root) {\n",
       "  function now() {\n",
       "    return new Date();\n",
       "  }\n",
       "\n",
       "  var force = true;\n",
       "\n",
       "  if (typeof (root._bokeh_onload_callbacks) === \"undefined\" || force === true) {\n",
       "    root._bokeh_onload_callbacks = [];\n",
       "    root._bokeh_is_loading = undefined;\n",
       "  }\n",
       "\n",
       "  var JS_MIME_TYPE = 'application/javascript';\n",
       "  var HTML_MIME_TYPE = 'text/html';\n",
       "  var EXEC_MIME_TYPE = 'application/vnd.bokehjs_exec.v0+json';\n",
       "  var CLASS_NAME = 'output_bokeh rendered_html';\n",
       "\n",
       "  /**\n",
       "   * Render data to the DOM node\n",
       "   */\n",
       "  function render(props, node) {\n",
       "    var script = document.createElement(\"script\");\n",
       "    node.appendChild(script);\n",
       "  }\n",
       "\n",
       "  /**\n",
       "   * Handle when an output is cleared or removed\n",
       "   */\n",
       "  function handleClearOutput(event, handle) {\n",
       "    var cell = handle.cell;\n",
       "\n",
       "    var id = cell.output_area._bokeh_element_id;\n",
       "    var server_id = cell.output_area._bokeh_server_id;\n",
       "    // Clean up Bokeh references\n",
       "    if (id != null && id in Bokeh.index) {\n",
       "      Bokeh.index[id].model.document.clear();\n",
       "      delete Bokeh.index[id];\n",
       "    }\n",
       "\n",
       "    if (server_id !== undefined) {\n",
       "      // Clean up Bokeh references\n",
       "      var cmd = \"from bokeh.io.state import curstate; print(curstate().uuid_to_server['\" + server_id + \"'].get_sessions()[0].document.roots[0]._id)\";\n",
       "      cell.notebook.kernel.execute(cmd, {\n",
       "        iopub: {\n",
       "          output: function(msg) {\n",
       "            var id = msg.content.text.trim();\n",
       "            if (id in Bokeh.index) {\n",
       "              Bokeh.index[id].model.document.clear();\n",
       "              delete Bokeh.index[id];\n",
       "            }\n",
       "          }\n",
       "        }\n",
       "      });\n",
       "      // Destroy server and session\n",
       "      var cmd = \"import bokeh.io.notebook as ion; ion.destroy_server('\" + server_id + \"')\";\n",
       "      cell.notebook.kernel.execute(cmd);\n",
       "    }\n",
       "  }\n",
       "\n",
       "  /**\n",
       "   * Handle when a new output is added\n",
       "   */\n",
       "  function handleAddOutput(event, handle) {\n",
       "    var output_area = handle.output_area;\n",
       "    var output = handle.output;\n",
       "\n",
       "    // limit handleAddOutput to display_data with EXEC_MIME_TYPE content only\n",
       "    if ((output.output_type != \"display_data\") || (!output.data.hasOwnProperty(EXEC_MIME_TYPE))) {\n",
       "      return\n",
       "    }\n",
       "\n",
       "    var toinsert = output_area.element.find(\".\" + CLASS_NAME.split(' ')[0]);\n",
       "\n",
       "    if (output.metadata[EXEC_MIME_TYPE][\"id\"] !== undefined) {\n",
       "      toinsert[toinsert.length - 1].firstChild.textContent = output.data[JS_MIME_TYPE];\n",
       "      // store reference to embed id on output_area\n",
       "      output_area._bokeh_element_id = output.metadata[EXEC_MIME_TYPE][\"id\"];\n",
       "    }\n",
       "    if (output.metadata[EXEC_MIME_TYPE][\"server_id\"] !== undefined) {\n",
       "      var bk_div = document.createElement(\"div\");\n",
       "      bk_div.innerHTML = output.data[HTML_MIME_TYPE];\n",
       "      var script_attrs = bk_div.children[0].attributes;\n",
       "      for (var i = 0; i < script_attrs.length; i++) {\n",
       "        toinsert[toinsert.length - 1].firstChild.setAttribute(script_attrs[i].name, script_attrs[i].value);\n",
       "      }\n",
       "      // store reference to server id on output_area\n",
       "      output_area._bokeh_server_id = output.metadata[EXEC_MIME_TYPE][\"server_id\"];\n",
       "    }\n",
       "  }\n",
       "\n",
       "  function register_renderer(events, OutputArea) {\n",
       "\n",
       "    function append_mime(data, metadata, element) {\n",
       "      // create a DOM node to render to\n",
       "      var toinsert = this.create_output_subarea(\n",
       "        metadata,\n",
       "        CLASS_NAME,\n",
       "        EXEC_MIME_TYPE\n",
       "      );\n",
       "      this.keyboard_manager.register_events(toinsert);\n",
       "      // Render to node\n",
       "      var props = {data: data, metadata: metadata[EXEC_MIME_TYPE]};\n",
       "      render(props, toinsert[toinsert.length - 1]);\n",
       "      element.append(toinsert);\n",
       "      return toinsert\n",
       "    }\n",
       "\n",
       "    /* Handle when an output is cleared or removed */\n",
       "    events.on('clear_output.CodeCell', handleClearOutput);\n",
       "    events.on('delete.Cell', handleClearOutput);\n",
       "\n",
       "    /* Handle when a new output is added */\n",
       "    events.on('output_added.OutputArea', handleAddOutput);\n",
       "\n",
       "    /**\n",
       "     * Register the mime type and append_mime function with output_area\n",
       "     */\n",
       "    OutputArea.prototype.register_mime_type(EXEC_MIME_TYPE, append_mime, {\n",
       "      /* Is output safe? */\n",
       "      safe: true,\n",
       "      /* Index of renderer in `output_area.display_order` */\n",
       "      index: 0\n",
       "    });\n",
       "  }\n",
       "\n",
       "  // register the mime type if in Jupyter Notebook environment and previously unregistered\n",
       "  if (root.Jupyter !== undefined) {\n",
       "    var events = require('base/js/events');\n",
       "    var OutputArea = require('notebook/js/outputarea').OutputArea;\n",
       "\n",
       "    if (OutputArea.prototype.mime_types().indexOf(EXEC_MIME_TYPE) == -1) {\n",
       "      register_renderer(events, OutputArea);\n",
       "    }\n",
       "  }\n",
       "\n",
       "  \n",
       "  if (typeof (root._bokeh_timeout) === \"undefined\" || force === true) {\n",
       "    root._bokeh_timeout = Date.now() + 5000;\n",
       "    root._bokeh_failed_load = false;\n",
       "  }\n",
       "\n",
       "  var NB_LOAD_WARNING = {'data': {'text/html':\n",
       "     \"<div style='background-color: #fdd'>\\n\"+\n",
       "     \"<p>\\n\"+\n",
       "     \"BokehJS does not appear to have successfully loaded. If loading BokehJS from CDN, this \\n\"+\n",
       "     \"may be due to a slow or bad network connection. Possible fixes:\\n\"+\n",
       "     \"</p>\\n\"+\n",
       "     \"<ul>\\n\"+\n",
       "     \"<li>re-rerun `output_notebook()` to attempt to load from CDN again, or</li>\\n\"+\n",
       "     \"<li>use INLINE resources instead, as so:</li>\\n\"+\n",
       "     \"</ul>\\n\"+\n",
       "     \"<code>\\n\"+\n",
       "     \"from bokeh.resources import INLINE\\n\"+\n",
       "     \"output_notebook(resources=INLINE)\\n\"+\n",
       "     \"</code>\\n\"+\n",
       "     \"</div>\"}};\n",
       "\n",
       "  function display_loaded() {\n",
       "    var el = document.getElementById(\"ad819479-4f65-471f-a655-c1a36bfccdb7\");\n",
       "    if (el != null) {\n",
       "      el.textContent = \"BokehJS is loading...\";\n",
       "    }\n",
       "    if (root.Bokeh !== undefined) {\n",
       "      if (el != null) {\n",
       "        el.textContent = \"BokehJS \" + root.Bokeh.version + \" successfully loaded.\";\n",
       "      }\n",
       "    } else if (Date.now() < root._bokeh_timeout) {\n",
       "      setTimeout(display_loaded, 100)\n",
       "    }\n",
       "  }\n",
       "\n",
       "\n",
       "  function run_callbacks() {\n",
       "    try {\n",
       "      root._bokeh_onload_callbacks.forEach(function(callback) { callback() });\n",
       "    }\n",
       "    finally {\n",
       "      delete root._bokeh_onload_callbacks\n",
       "    }\n",
       "    console.info(\"Bokeh: all callbacks have finished\");\n",
       "  }\n",
       "\n",
       "  function load_libs(js_urls, callback) {\n",
       "    root._bokeh_onload_callbacks.push(callback);\n",
       "    if (root._bokeh_is_loading > 0) {\n",
       "      console.log(\"Bokeh: BokehJS is being loaded, scheduling callback at\", now());\n",
       "      return null;\n",
       "    }\n",
       "    if (js_urls == null || js_urls.length === 0) {\n",
       "      run_callbacks();\n",
       "      return null;\n",
       "    }\n",
       "    console.log(\"Bokeh: BokehJS not loaded, scheduling load and callback at\", now());\n",
       "    root._bokeh_is_loading = js_urls.length;\n",
       "    for (var i = 0; i < js_urls.length; i++) {\n",
       "      var url = js_urls[i];\n",
       "      var s = document.createElement('script');\n",
       "      s.src = url;\n",
       "      s.async = false;\n",
       "      s.onreadystatechange = s.onload = function() {\n",
       "        root._bokeh_is_loading--;\n",
       "        if (root._bokeh_is_loading === 0) {\n",
       "          console.log(\"Bokeh: all BokehJS libraries loaded\");\n",
       "          run_callbacks()\n",
       "        }\n",
       "      };\n",
       "      s.onerror = function() {\n",
       "        console.warn(\"failed to load library \" + url);\n",
       "      };\n",
       "      console.log(\"Bokeh: injecting script tag for BokehJS library: \", url);\n",
       "      document.getElementsByTagName(\"head\")[0].appendChild(s);\n",
       "    }\n",
       "  };var element = document.getElementById(\"ad819479-4f65-471f-a655-c1a36bfccdb7\");\n",
       "  if (element == null) {\n",
       "    console.log(\"Bokeh: ERROR: autoload.js configured with elementid 'ad819479-4f65-471f-a655-c1a36bfccdb7' but no matching script tag was found. \")\n",
       "    return false;\n",
       "  }\n",
       "\n",
       "  var js_urls = [\"https://cdn.pydata.org/bokeh/release/bokeh-0.13.0.min.js\", \"https://cdn.pydata.org/bokeh/release/bokeh-widgets-0.13.0.min.js\", \"https://cdn.pydata.org/bokeh/release/bokeh-tables-0.13.0.min.js\", \"https://cdn.pydata.org/bokeh/release/bokeh-gl-0.13.0.min.js\"];\n",
       "\n",
       "  var inline_js = [\n",
       "    function(Bokeh) {\n",
       "      Bokeh.set_log_level(\"info\");\n",
       "    },\n",
       "    \n",
       "    function(Bokeh) {\n",
       "      \n",
       "    },\n",
       "    function(Bokeh) {\n",
       "      console.log(\"Bokeh: injecting CSS: https://cdn.pydata.org/bokeh/release/bokeh-0.13.0.min.css\");\n",
       "      Bokeh.embed.inject_css(\"https://cdn.pydata.org/bokeh/release/bokeh-0.13.0.min.css\");\n",
       "      console.log(\"Bokeh: injecting CSS: https://cdn.pydata.org/bokeh/release/bokeh-widgets-0.13.0.min.css\");\n",
       "      Bokeh.embed.inject_css(\"https://cdn.pydata.org/bokeh/release/bokeh-widgets-0.13.0.min.css\");\n",
       "      console.log(\"Bokeh: injecting CSS: https://cdn.pydata.org/bokeh/release/bokeh-tables-0.13.0.min.css\");\n",
       "      Bokeh.embed.inject_css(\"https://cdn.pydata.org/bokeh/release/bokeh-tables-0.13.0.min.css\");\n",
       "    }\n",
       "  ];\n",
       "\n",
       "  function run_inline_js() {\n",
       "    \n",
       "    if ((root.Bokeh !== undefined) || (force === true)) {\n",
       "      for (var i = 0; i < inline_js.length; i++) {\n",
       "        inline_js[i].call(root, root.Bokeh);\n",
       "      }if (force === true) {\n",
       "        display_loaded();\n",
       "      }} else if (Date.now() < root._bokeh_timeout) {\n",
       "      setTimeout(run_inline_js, 100);\n",
       "    } else if (!root._bokeh_failed_load) {\n",
       "      console.log(\"Bokeh: BokehJS failed to load within specified timeout.\");\n",
       "      root._bokeh_failed_load = true;\n",
       "    } else if (force !== true) {\n",
       "      var cell = $(document.getElementById(\"ad819479-4f65-471f-a655-c1a36bfccdb7\")).parents('.cell').data().cell;\n",
       "      cell.output_area.append_execute_result(NB_LOAD_WARNING)\n",
       "    }\n",
       "\n",
       "  }\n",
       "\n",
       "  if (root._bokeh_is_loading === 0) {\n",
       "    console.log(\"Bokeh: BokehJS loaded, going straight to plotting\");\n",
       "    run_inline_js();\n",
       "  } else {\n",
       "    load_libs(js_urls, function() {\n",
       "      console.log(\"Bokeh: BokehJS plotting callback run at\", now());\n",
       "      run_inline_js();\n",
       "    });\n",
       "  }\n",
       "}(window));"
      ],
      "application/vnd.bokehjs_load.v0+json": "\n(function(root) {\n  function now() {\n    return new Date();\n  }\n\n  var force = true;\n\n  if (typeof (root._bokeh_onload_callbacks) === \"undefined\" || force === true) {\n    root._bokeh_onload_callbacks = [];\n    root._bokeh_is_loading = undefined;\n  }\n\n  \n\n  \n  if (typeof (root._bokeh_timeout) === \"undefined\" || force === true) {\n    root._bokeh_timeout = Date.now() + 5000;\n    root._bokeh_failed_load = false;\n  }\n\n  var NB_LOAD_WARNING = {'data': {'text/html':\n     \"<div style='background-color: #fdd'>\\n\"+\n     \"<p>\\n\"+\n     \"BokehJS does not appear to have successfully loaded. If loading BokehJS from CDN, this \\n\"+\n     \"may be due to a slow or bad network connection. Possible fixes:\\n\"+\n     \"</p>\\n\"+\n     \"<ul>\\n\"+\n     \"<li>re-rerun `output_notebook()` to attempt to load from CDN again, or</li>\\n\"+\n     \"<li>use INLINE resources instead, as so:</li>\\n\"+\n     \"</ul>\\n\"+\n     \"<code>\\n\"+\n     \"from bokeh.resources import INLINE\\n\"+\n     \"output_notebook(resources=INLINE)\\n\"+\n     \"</code>\\n\"+\n     \"</div>\"}};\n\n  function display_loaded() {\n    var el = document.getElementById(\"ad819479-4f65-471f-a655-c1a36bfccdb7\");\n    if (el != null) {\n      el.textContent = \"BokehJS is loading...\";\n    }\n    if (root.Bokeh !== undefined) {\n      if (el != null) {\n        el.textContent = \"BokehJS \" + root.Bokeh.version + \" successfully loaded.\";\n      }\n    } else if (Date.now() < root._bokeh_timeout) {\n      setTimeout(display_loaded, 100)\n    }\n  }\n\n\n  function run_callbacks() {\n    try {\n      root._bokeh_onload_callbacks.forEach(function(callback) { callback() });\n    }\n    finally {\n      delete root._bokeh_onload_callbacks\n    }\n    console.info(\"Bokeh: all callbacks have finished\");\n  }\n\n  function load_libs(js_urls, callback) {\n    root._bokeh_onload_callbacks.push(callback);\n    if (root._bokeh_is_loading > 0) {\n      console.log(\"Bokeh: BokehJS is being loaded, scheduling callback at\", now());\n      return null;\n    }\n    if (js_urls == null || js_urls.length === 0) {\n      run_callbacks();\n      return null;\n    }\n    console.log(\"Bokeh: BokehJS not loaded, scheduling load and callback at\", now());\n    root._bokeh_is_loading = js_urls.length;\n    for (var i = 0; i < js_urls.length; i++) {\n      var url = js_urls[i];\n      var s = document.createElement('script');\n      s.src = url;\n      s.async = false;\n      s.onreadystatechange = s.onload = function() {\n        root._bokeh_is_loading--;\n        if (root._bokeh_is_loading === 0) {\n          console.log(\"Bokeh: all BokehJS libraries loaded\");\n          run_callbacks()\n        }\n      };\n      s.onerror = function() {\n        console.warn(\"failed to load library \" + url);\n      };\n      console.log(\"Bokeh: injecting script tag for BokehJS library: \", url);\n      document.getElementsByTagName(\"head\")[0].appendChild(s);\n    }\n  };var element = document.getElementById(\"ad819479-4f65-471f-a655-c1a36bfccdb7\");\n  if (element == null) {\n    console.log(\"Bokeh: ERROR: autoload.js configured with elementid 'ad819479-4f65-471f-a655-c1a36bfccdb7' but no matching script tag was found. \")\n    return false;\n  }\n\n  var js_urls = [\"https://cdn.pydata.org/bokeh/release/bokeh-0.13.0.min.js\", \"https://cdn.pydata.org/bokeh/release/bokeh-widgets-0.13.0.min.js\", \"https://cdn.pydata.org/bokeh/release/bokeh-tables-0.13.0.min.js\", \"https://cdn.pydata.org/bokeh/release/bokeh-gl-0.13.0.min.js\"];\n\n  var inline_js = [\n    function(Bokeh) {\n      Bokeh.set_log_level(\"info\");\n    },\n    \n    function(Bokeh) {\n      \n    },\n    function(Bokeh) {\n      console.log(\"Bokeh: injecting CSS: https://cdn.pydata.org/bokeh/release/bokeh-0.13.0.min.css\");\n      Bokeh.embed.inject_css(\"https://cdn.pydata.org/bokeh/release/bokeh-0.13.0.min.css\");\n      console.log(\"Bokeh: injecting CSS: https://cdn.pydata.org/bokeh/release/bokeh-widgets-0.13.0.min.css\");\n      Bokeh.embed.inject_css(\"https://cdn.pydata.org/bokeh/release/bokeh-widgets-0.13.0.min.css\");\n      console.log(\"Bokeh: injecting CSS: https://cdn.pydata.org/bokeh/release/bokeh-tables-0.13.0.min.css\");\n      Bokeh.embed.inject_css(\"https://cdn.pydata.org/bokeh/release/bokeh-tables-0.13.0.min.css\");\n    }\n  ];\n\n  function run_inline_js() {\n    \n    if ((root.Bokeh !== undefined) || (force === true)) {\n      for (var i = 0; i < inline_js.length; i++) {\n        inline_js[i].call(root, root.Bokeh);\n      }if (force === true) {\n        display_loaded();\n      }} else if (Date.now() < root._bokeh_timeout) {\n      setTimeout(run_inline_js, 100);\n    } else if (!root._bokeh_failed_load) {\n      console.log(\"Bokeh: BokehJS failed to load within specified timeout.\");\n      root._bokeh_failed_load = true;\n    } else if (force !== true) {\n      var cell = $(document.getElementById(\"ad819479-4f65-471f-a655-c1a36bfccdb7\")).parents('.cell').data().cell;\n      cell.output_area.append_execute_result(NB_LOAD_WARNING)\n    }\n\n  }\n\n  if (root._bokeh_is_loading === 0) {\n    console.log(\"Bokeh: BokehJS loaded, going straight to plotting\");\n    run_inline_js();\n  } else {\n    load_libs(js_urls, function() {\n      console.log(\"Bokeh: BokehJS plotting callback run at\", now());\n      run_inline_js();\n    });\n  }\n}(window));"
     },
     "metadata": {},
     "output_type": "display_data"
    }
   ],
   "source": [
    "import numpy as np\n",
    "import scipy.stats as st\n",
    "import scipy.special\n",
    "\n",
    "import bebi103\n",
    "\n",
    "import pandas as pd\n",
    "import bokeh.io\n",
    "import bokeh.plotting\n",
    "bokeh.io.output_notebook()\n",
    "import pystan"
   ]
  },
  {
   "cell_type": "markdown",
   "metadata": {},
   "source": [
    "## Problem 6.1: Modeling and parameter estimation for Boolean data (40 pts)\n",
    "\n",
    "In this problem, we will work with data of the True/False type. Lots of data sets in the biological sciences are like this. For example, we might look at a certain mutation in *Drosophila* that affects development and we might check whether or not eggs hatch.\n",
    "\n",
    "The data we will use comes from an experiment we have done for the last few years in [Bi 1x](http://bi1x.caltech.edu/) here at Caltech. The experiment was developed by Meaghan Sullivan. We studied a neural circuit in *C. elegans* using optogenetics.\n",
    "\n",
    "A neural circuit is a series of interconnected neurons that create a pathway to transmit a signal from where it is received to where it causes a behavioral response in an animal.  An example is the neural circuit involved in reversals in *C. elegans*.  This circuit consists of three types of neurons: sensory neurons receive stimuli from the environment, command interneurons integrate information from many sensory neurons and pass a signal to the motor neurons, and motor neurons that control worm behavior, such as reversals.\n",
    "\n",
    "There are six non-motor neurons acting in a circuit that responds to environmental cues and triggers a reversal, a shown in the figure below (based on [Schultheis et. al. 2011](https://doi.org/10.1371/journal.pone.0018766)).  These include four sensory neurons (ALM, AVM, ASH, and PLM) and two interneurons (AVD and AVA).  Each sensory neuron is sensitive to a different type of stimulus.  For example, the sensory neuron we are studying (ASH) is sensitive to chemosensory stimuli such as toxins, while another neuron (PLM) is sensitive to mechanical stimuli (touch) in the posterior part of the worm's body.  The sensory neurons send signals that are integrated by the two command interneurons (AVA and AVD).  Each sensory neuron can provide an impulse to the command interneurons at any time.  In order for the command interneuron to fire and activate motor neurons, the sum of the stimuli at any point in time must exceed a certain threshold.  Once the stimuli from one or more sensory neurons has induced an action potential in a command interneuron, that signal is passed to motor neurons which will modulate worm behavior.\n",
    "\n",
    "![Reversal neural network](reversal_neural_network.png)\n",
    "\n",
    "In the experiment, we used optogenetics to dissect the function of individual neurons in this circuit.  We worked with two optogenetic worm strains.  The ASH strain has channelrhodopsin (ChR2, represented by a red barrel in the figure above) expressed only in the ASH sensory neuron.  When we shine blue light on this strain, we should activate the ChR2, which will allow sodium and calcium cations to flow into the neuron, simulating an action potential. We want to quantify how robustly this stimulation will cause the worm to exhibit aversion behavior and reverse.  \n",
    "\n",
    "We also studied an AVA strain that has channelrhodopsin expressed only in the AVA command interneuron.  Our goal is to quantify the effects of stimulating this neuron in terms of reversals compared to the ASH neuron and to wild type.\n",
    "\n",
    "The True/False data here are the whether or not the worms undergo a reversal. Here is what the students observed.\n",
    "\n",
    "|Strain|Year|Trials|Reversals|\n",
    "|:---:|:---:|:---:|:---:|\n",
    "|WT|2017|55|7|\n",
    "|ASH|2017|54|18|\n",
    "|AVA|2017|52|28|\n",
    "|WT|2016|36|6|\n",
    "|ASH|2016|35|12|\n",
    "|AVA|2016|36|30|\n",
    "|WT|2015|35|0|\n",
    "|ASH|2015|35|9|\n",
    "|AVA|2015|36|33|\n",
    "\n",
    "For the purposes of this problem, assume that we can pool the results from the three years to have 13/126 reversals for wild type, 39/124 reversals for ASH, and 91/124 reversals for AVA.\n",
    "\n",
    "Our goal is to estimate $\\theta$, the probability of reversal for each strain. That is to say, we want to compute $g(\\theta\\mid n, N)$, where $n$ is the number of reversals in $N$ trials.\n",
    "\n",
    "\n",
    "**a)** Develop a generative model (that is, specify the joint distribution $\\pi(n, \\theta\\mid N) = f(n,\\mid \\theta, N)\\,g(\\theta)$) for the observed reversals. Be sure to do prior predictive checks and justify why you chose the model you did. *Biological hint*: *C. elegans* have no mode of sensing light at all. So, a wild type worm without and Channelrhodopsin has no means of detecting light. *Modeling hint*: The Beta distribution is very useful for modeling probabilities of probabilities, like *θ* in this problem.\n",
    "\n",
    "<br />\n"
   ]
  },
  {
   "cell_type": "markdown",
   "metadata": {},
   "source": [
    "We will estimate the prior for the parameter θ, the probability of reversal for each strain. We choose the beta distribution to model this as it is useful for modeling rare events and probabilities of probabilities. We will vary the a and b values in the beta distribution based on our estimates of how likely it is for a strain to reverse. \n",
    "\n",
    "\n",
    "We estimate that the AVA strain is twice as likely to reverse as the ASH strain as it is sensitive to the input of ASH and PLM while ASH is only sensitive to chemosensory stimuli such as toxins.\n",
    "\n",
    "We estimate that wild type will reverse very rarely as it is not influenced by light since it has no means of detecting light, so $\\theta_{WT}$ = Beta(1,8), \n",
    "shown graphically as:"
   ]
  },
  {
   "cell_type": "code",
   "execution_count": 3,
   "metadata": {},
   "outputs": [
    {
     "data": {
      "text/html": [
       "\n",
       "\n",
       "\n",
       "\n",
       "\n",
       "\n",
       "  <div class=\"bk-root\" id=\"917a56c1-2d83-43cb-bfc8-159162b04328\"></div>\n"
      ]
     },
     "metadata": {},
     "output_type": "display_data"
    },
    {
     "data": {
      "application/javascript": [
       "(function(root) {\n",
       "  function embed_document(root) {\n",
       "    \n",
       "  var docs_json = {\"2321bf8e-b8ff-499b-8d66-54b38b180da8\":{\"roots\":{\"references\":[{\"attributes\":{\"dimension\":1,\"plot\":{\"id\":\"b1ce9250-2a4a-425d-a058-3e8c9de54f65\",\"subtype\":\"Figure\",\"type\":\"Plot\"},\"ticker\":{\"id\":\"ab962701-6f23-41a3-a6bd-ac908ea4d694\",\"type\":\"BasicTicker\"}},\"id\":\"df8dc814-1888-4224-abec-87f306963c86\",\"type\":\"Grid\"},{\"attributes\":{},\"id\":\"da19ef82-615d-4b25-8616-2308b49defef\",\"type\":\"BasicTickFormatter\"},{\"attributes\":{\"plot\":{\"id\":\"b1ce9250-2a4a-425d-a058-3e8c9de54f65\",\"subtype\":\"Figure\",\"type\":\"Plot\"},\"ticker\":{\"id\":\"d2aa5404-8ad8-4e48-87e7-ef95e91c1ab7\",\"type\":\"BasicTicker\"}},\"id\":\"eb8435c5-4f1b-47aa-9904-6e83b486edb6\",\"type\":\"Grid\"},{\"attributes\":{\"bottom_units\":\"screen\",\"fill_alpha\":{\"value\":0.5},\"fill_color\":{\"value\":\"lightgrey\"},\"left_units\":\"screen\",\"level\":\"overlay\",\"line_alpha\":{\"value\":1.0},\"line_color\":{\"value\":\"black\"},\"line_dash\":[4,4],\"line_width\":{\"value\":2},\"plot\":null,\"render_mode\":\"css\",\"right_units\":\"screen\",\"top_units\":\"screen\"},\"id\":\"20b31535-4319-4d97-8b14-be56b70c704b\",\"type\":\"BoxAnnotation\"},{\"attributes\":{},\"id\":\"f58f421e-25d0-4ff6-99cf-a539bf3a7bbb\",\"type\":\"UnionRenderers\"},{\"attributes\":{\"below\":[{\"id\":\"50dea199-8bef-4695-91d4-52d7cee2bf83\",\"type\":\"LinearAxis\"}],\"left\":[{\"id\":\"4d1c9118-345d-48c1-9811-6d5a5e493f53\",\"type\":\"LinearAxis\"}],\"plot_height\":200,\"plot_width\":300,\"renderers\":[{\"id\":\"50dea199-8bef-4695-91d4-52d7cee2bf83\",\"type\":\"LinearAxis\"},{\"id\":\"eb8435c5-4f1b-47aa-9904-6e83b486edb6\",\"type\":\"Grid\"},{\"id\":\"4d1c9118-345d-48c1-9811-6d5a5e493f53\",\"type\":\"LinearAxis\"},{\"id\":\"df8dc814-1888-4224-abec-87f306963c86\",\"type\":\"Grid\"},{\"id\":\"20b31535-4319-4d97-8b14-be56b70c704b\",\"type\":\"BoxAnnotation\"},{\"id\":\"b3096e4d-30db-4585-86f8-6aaef35c69dd\",\"type\":\"GlyphRenderer\"}],\"title\":{\"id\":\"e1b089f7-1474-462e-b8ad-80aa39b4c4a7\",\"type\":\"Title\"},\"toolbar\":{\"id\":\"fd906012-00c8-4808-bf34-8cb461e8848b\",\"type\":\"Toolbar\"},\"x_range\":{\"id\":\"119202da-72ff-4409-8ffd-30609d008163\",\"type\":\"DataRange1d\"},\"x_scale\":{\"id\":\"68b5bfa3-cc99-412d-b24a-298ded4d0f38\",\"type\":\"LinearScale\"},\"y_range\":{\"id\":\"7b829b11-549d-4270-b50c-007c1bc7f38e\",\"type\":\"DataRange1d\"},\"y_scale\":{\"id\":\"79921420-71d8-448f-80e5-85e949b79b45\",\"type\":\"LinearScale\"}},\"id\":\"b1ce9250-2a4a-425d-a058-3e8c9de54f65\",\"subtype\":\"Figure\",\"type\":\"Plot\"},{\"attributes\":{},\"id\":\"ab962701-6f23-41a3-a6bd-ac908ea4d694\",\"type\":\"BasicTicker\"},{\"attributes\":{\"plot\":null,\"text\":\"\"},\"id\":\"e1b089f7-1474-462e-b8ad-80aa39b4c4a7\",\"type\":\"Title\"},{\"attributes\":{\"data_source\":{\"id\":\"a9bc4ecb-50ae-42ef-901a-c090f83179fb\",\"type\":\"ColumnDataSource\"},\"glyph\":{\"id\":\"89fb57ac-ed50-45ad-a64f-654d56767001\",\"type\":\"Line\"},\"hover_glyph\":null,\"muted_glyph\":null,\"nonselection_glyph\":{\"id\":\"156f9328-175e-4527-9253-69ad75e0fab6\",\"type\":\"Line\"},\"selection_glyph\":null,\"view\":{\"id\":\"56d922ce-b45a-402b-8cad-3162b46bc9dc\",\"type\":\"CDSView\"}},\"id\":\"b3096e4d-30db-4585-86f8-6aaef35c69dd\",\"type\":\"GlyphRenderer\"},{\"attributes\":{},\"id\":\"657679ea-4034-487c-a3d5-c1959befb52e\",\"type\":\"SaveTool\"},{\"attributes\":{\"line_alpha\":0.1,\"line_color\":\"#1f77b4\",\"line_width\":2,\"x\":{\"field\":\"x\"},\"y\":{\"field\":\"y\"}},\"id\":\"156f9328-175e-4527-9253-69ad75e0fab6\",\"type\":\"Line\"},{\"attributes\":{\"callback\":null,\"data\":{\"x\":{\"__ndarray__\":\"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\",\"dtype\":\"float64\",\"shape\":[200]},\"y\":{\"__ndarray__\":\"/v//////H0B0ly2qJeQeQFISzUrE0B1A8uBxqaXFHEAutKyklMIbQAlj0S1dxxpAmczHRMzTGUDup+fzr+cYQJAz30vXAhhAXbakXxIlF0Axw3JAMk4WQDkxz/kIfhVAg7qcjWm0FEBdMjfwJ/ETQE9FmgQZNBNANrSSmBJ9EkA//Plg68sRQF1d/PV6IBFA2DBpz5l6EEBoAxuCQrQPQASxMe7WfQ5Aj1gY5aZRDUBS1GULai8MQOgKTKHZFgtAdQOye7AHCkA40WH9qgEJQNw5ShCHBAhAwfnTHgQQB0CKiUoN4yMGQF9IWDPmPwVAAe6VVdFjBEAhKC2faY8DQDpGjpt1wgJANNc4ML38AUAxHJeWCT4BQLsz7FUlhgBAhcGperip/z8EobW79lP+P66FNAmiCv0/WPDzaVnN+z+3kOpFvpv6P4yL8Fp0dfk/BaCbsSFa+D+s8j6Sbkn3P8hEDnoFQ/Y/lV5kEJNG9T/rciwcxlP0PyFDbnlPavM/q8n8DuKJ8j/kMUfEMrLxP/3jS3f44vA/Smut8usb8D+V+9HHj7nuP+3WXKORSu0/l3eyJFrq6z/xgBWFaZjqP/DGyXdDVOk/x+7KF28d6D8yocPVdvPmP1rbRGbo1eU/8Os8sFTE5D8xqa27T77jP49toaBww+I/5WdedlHT4T9izNdCj+3gP7VzXOrJEeA/meoEP0h/3j8klJ6mhu3cP+IJOEufbds/Llxqq+f+2T/TnGtmuqDYP4xwOh53Utc/XTU+WoIT1j+82FpqRePUPz53d0ouwdM/2eB2hq+s0j+/G6EeQKXRP1oAfWxbqtA/7xEyEAJ3zz/H3oRbabDNP8JlU0j8/8s/NULnRdJkyj9j+GtzCt7IP06xvW7Lasc/fZoLJEMKxj/xHkyeprvEPwQugdgxfsM/AsXKjydRwj9v8EUW0TPBP7F5tiZ+JcA/0+vycQlLvj+S1n2ugWa8PwaCEegonLo/iV7agc7quD/ExzUMTVG3P7EgOvWJzrU//Cy7OnVhtD8wEMcdCQmzP2NdmNdJxLE/oKD5T0WSsD96ly2qJeSuP/Pgcamlxaw/CWPRLV3Hqj/tp+fzr+eoP1u2pF8SJac/PDHP+Qh+pT9cMjfwJ/GjPzK0kpgSfaI/XF389XogoT9eAxuCQrSfP4VYGOWmUZ0/6ApModkWmz830WH9qgGZP8H50x4EEJc/WEhYM+Y/lT8dKC2faY+TPzXXODC9/JE/vTPsVSWGkD//oLW79lOOP1zw82lZzYs/hYvwWnR1iT+s8j6SbkmHP5ReZBCTRoU/H0NueU9qgz/hMUfEMrKBP0prrfLrG4A/+tZco5FKfT/2gBWFaZh6P8DuyhdvHXg/WdtEZujVdT8rqa27T75zP+ZnXnZR03E/tnNc6skRcD8qlJ6mhu1sPyBcaqvn/mk/fHA6HndSZz/D2FpqReNkP+HgdoavrGI/XwB9bFuqYD/N3oRbabBdPzdC50XSZFo/U7G9bstqVz/4HkyeprtUPwbFyo8nUVI/sHm2Jn4lUD+J1n2ugWZMP5pe2oHO6kg/uiA69YnORT80EMcdCQlDP5eg+U9FkkA/4+BxqaXFPD/fp+fzr+c4P0Axz/kIfjU/NrSSmBJ9Mj9tAxuCQrQvP9kKTKHZFis/tPnTHgQQJz8mKC2faY8jP8Mz7FUlhiA/V/DzaVnNGz+o8j6SbkkXPxJDbnlPahM/V2ut8usbED/ygBWFaZgKP2DbRGbo1QU/42dedlHTAT8WlJ6mhu38PpBwOh53Uvc+3uB2hq+s8j7I3oRbabDtPk+xvW7Lauc+8MTKjydR4j6h1n2ugWbcPsIgOvWJztU+nKD5T0WS0D7np+fzr+fIPiq0kpgSfcI+/QpModkWuz4sKC2faY+zPlLw82lZzas+D0NueU9qoz7ggBWFaZiaPulnXnZR05E+l3A6HndShz7R3oRbabB9Pu3Eyo8nUXI+kiA69YnOZT4IqOfzr+dYPusKTKHZFks+TvDzaVnNOz7BgBWFaZgqPk1wOh53Uhc+KsXKjydRAj74p+fzr+foPTvw82lZzcs9VXA6HndSpz1Rp+fzr+d4PUVvOh53Ujc9TXE6HndSxzwAAAAAAAAAAA==\",\"dtype\":\"float64\",\"shape\":[200]}},\"selected\":{\"id\":\"f6ee79a6-764b-4412-856b-52edab472753\",\"type\":\"Selection\"},\"selection_policy\":{\"id\":\"f58f421e-25d0-4ff6-99cf-a539bf3a7bbb\",\"type\":\"UnionRenderers\"}},\"id\":\"a9bc4ecb-50ae-42ef-901a-c090f83179fb\",\"type\":\"ColumnDataSource\"},{\"attributes\":{},\"id\":\"68b5bfa3-cc99-412d-b24a-298ded4d0f38\",\"type\":\"LinearScale\"},{\"attributes\":{},\"id\":\"bb51e4aa-fa02-465f-90f3-39dd47da124a\",\"type\":\"ResetTool\"},{\"attributes\":{\"callback\":null},\"id\":\"119202da-72ff-4409-8ffd-30609d008163\",\"type\":\"DataRange1d\"},{\"attributes\":{},\"id\":\"79921420-71d8-448f-80e5-85e949b79b45\",\"type\":\"LinearScale\"},{\"attributes\":{\"callback\":null},\"id\":\"7b829b11-549d-4270-b50c-007c1bc7f38e\",\"type\":\"DataRange1d\"},{\"attributes\":{\"overlay\":{\"id\":\"20b31535-4319-4d97-8b14-be56b70c704b\",\"type\":\"BoxAnnotation\"}},\"id\":\"f0006d3e-1459-4df2-a0ec-aaa8ee452c51\",\"type\":\"BoxZoomTool\"},{\"attributes\":{},\"id\":\"d2aa5404-8ad8-4e48-87e7-ef95e91c1ab7\",\"type\":\"BasicTicker\"},{\"attributes\":{},\"id\":\"4a3f6ed8-8c28-4832-b867-aea505da8ec7\",\"type\":\"BasicTickFormatter\"},{\"attributes\":{\"axis_label\":\"g(\\u03b8)\",\"formatter\":{\"id\":\"da19ef82-615d-4b25-8616-2308b49defef\",\"type\":\"BasicTickFormatter\"},\"plot\":{\"id\":\"b1ce9250-2a4a-425d-a058-3e8c9de54f65\",\"subtype\":\"Figure\",\"type\":\"Plot\"},\"ticker\":{\"id\":\"ab962701-6f23-41a3-a6bd-ac908ea4d694\",\"type\":\"BasicTicker\"}},\"id\":\"4d1c9118-345d-48c1-9811-6d5a5e493f53\",\"type\":\"LinearAxis\"},{\"attributes\":{\"source\":{\"id\":\"a9bc4ecb-50ae-42ef-901a-c090f83179fb\",\"type\":\"ColumnDataSource\"}},\"id\":\"56d922ce-b45a-402b-8cad-3162b46bc9dc\",\"type\":\"CDSView\"},{\"attributes\":{},\"id\":\"dac0d6db-91ce-4b8f-a09a-db61ea63c942\",\"type\":\"WheelZoomTool\"},{\"attributes\":{},\"id\":\"14bcbdd3-21b5-43da-9cad-cebd446cb81f\",\"type\":\"HelpTool\"},{\"attributes\":{\"axis_label\":\"\\u03b8\",\"formatter\":{\"id\":\"4a3f6ed8-8c28-4832-b867-aea505da8ec7\",\"type\":\"BasicTickFormatter\"},\"plot\":{\"id\":\"b1ce9250-2a4a-425d-a058-3e8c9de54f65\",\"subtype\":\"Figure\",\"type\":\"Plot\"},\"ticker\":{\"id\":\"d2aa5404-8ad8-4e48-87e7-ef95e91c1ab7\",\"type\":\"BasicTicker\"}},\"id\":\"50dea199-8bef-4695-91d4-52d7cee2bf83\",\"type\":\"LinearAxis\"},{\"attributes\":{\"line_color\":\"#1f77b4\",\"line_width\":2,\"x\":{\"field\":\"x\"},\"y\":{\"field\":\"y\"}},\"id\":\"89fb57ac-ed50-45ad-a64f-654d56767001\",\"type\":\"Line\"},{\"attributes\":{},\"id\":\"90a81344-0284-467d-a7f7-34e72464270a\",\"type\":\"PanTool\"},{\"attributes\":{\"active_drag\":\"auto\",\"active_inspect\":\"auto\",\"active_multi\":null,\"active_scroll\":\"auto\",\"active_tap\":\"auto\",\"tools\":[{\"id\":\"90a81344-0284-467d-a7f7-34e72464270a\",\"type\":\"PanTool\"},{\"id\":\"dac0d6db-91ce-4b8f-a09a-db61ea63c942\",\"type\":\"WheelZoomTool\"},{\"id\":\"f0006d3e-1459-4df2-a0ec-aaa8ee452c51\",\"type\":\"BoxZoomTool\"},{\"id\":\"657679ea-4034-487c-a3d5-c1959befb52e\",\"type\":\"SaveTool\"},{\"id\":\"bb51e4aa-fa02-465f-90f3-39dd47da124a\",\"type\":\"ResetTool\"},{\"id\":\"14bcbdd3-21b5-43da-9cad-cebd446cb81f\",\"type\":\"HelpTool\"}]},\"id\":\"fd906012-00c8-4808-bf34-8cb461e8848b\",\"type\":\"Toolbar\"},{\"attributes\":{},\"id\":\"f6ee79a6-764b-4412-856b-52edab472753\",\"type\":\"Selection\"}],\"root_ids\":[\"b1ce9250-2a4a-425d-a058-3e8c9de54f65\"]},\"title\":\"Bokeh Application\",\"version\":\"0.13.0\"}};\n",
       "  var render_items = [{\"docid\":\"2321bf8e-b8ff-499b-8d66-54b38b180da8\",\"roots\":{\"b1ce9250-2a4a-425d-a058-3e8c9de54f65\":\"917a56c1-2d83-43cb-bfc8-159162b04328\"}}];\n",
       "  root.Bokeh.embed.embed_items_notebook(docs_json, render_items);\n",
       "\n",
       "  }\n",
       "  if (root.Bokeh !== undefined) {\n",
       "    embed_document(root);\n",
       "  } else {\n",
       "    var attempts = 0;\n",
       "    var timer = setInterval(function(root) {\n",
       "      if (root.Bokeh !== undefined) {\n",
       "        embed_document(root);\n",
       "        clearInterval(timer);\n",
       "      }\n",
       "      attempts++;\n",
       "      if (attempts > 100) {\n",
       "        console.log(\"Bokeh: ERROR: Unable to run BokehJS code because BokehJS library is missing\")\n",
       "        clearInterval(timer);\n",
       "      }\n",
       "    }, 10, root)\n",
       "  }\n",
       "})(window);"
      ],
      "application/vnd.bokehjs_exec.v0+json": ""
     },
     "metadata": {
      "application/vnd.bokehjs_exec.v0+json": {
       "id": "b1ce9250-2a4a-425d-a058-3e8c9de54f65"
      }
     },
     "output_type": "display_data"
    }
   ],
   "source": [
    "sigma = np.linspace(0, 1, 200) # generate points\n",
    "p = bokeh.plotting.figure(width=300, height=200, \n",
    "                          x_axis_label='θ', \n",
    "                          y_axis_label='g(θ)')\n",
    "p.line(sigma, st.beta.pdf(sigma, 1, 8, loc=0, scale=1), line_width=2)\n",
    "bokeh.io.show(p)"
   ]
  },
  {
   "cell_type": "markdown",
   "metadata": {},
   "source": [
    "<p style=\"background-color:#D9EDF7\">\n",
    "Good! 5/5\n",
    "</p>"
   ]
  },
  {
   "cell_type": "markdown",
   "metadata": {},
   "source": [
    "The ASH strain will still reverse with probability < 0.5,  so $\\theta_{ASH}$ = Beta(2,7), shown graphically as: "
   ]
  },
  {
   "cell_type": "code",
   "execution_count": 4,
   "metadata": {},
   "outputs": [
    {
     "data": {
      "text/html": [
       "\n",
       "\n",
       "\n",
       "\n",
       "\n",
       "\n",
       "  <div class=\"bk-root\" id=\"ff8090b8-635a-400c-905b-88c014342afc\"></div>\n"
      ]
     },
     "metadata": {},
     "output_type": "display_data"
    },
    {
     "data": {
      "application/javascript": [
       "(function(root) {\n",
       "  function embed_document(root) {\n",
       "    \n",
       "  var docs_json = {\"5df0be01-7036-4592-a276-7fee15a73c9e\":{\"roots\":{\"references\":[{\"attributes\":{},\"id\":\"a2b259f5-a3e8-4ea7-b2df-02e2f3da43b3\",\"type\":\"SaveTool\"},{\"attributes\":{\"below\":[{\"id\":\"9a13590f-b55f-4887-889b-00afc9dd94e7\",\"type\":\"LinearAxis\"}],\"left\":[{\"id\":\"f1bcd04d-ac52-48e5-90f3-a32f9745756d\",\"type\":\"LinearAxis\"}],\"plot_height\":200,\"plot_width\":300,\"renderers\":[{\"id\":\"9a13590f-b55f-4887-889b-00afc9dd94e7\",\"type\":\"LinearAxis\"},{\"id\":\"4630c059-b569-4b81-bb75-73529c75248d\",\"type\":\"Grid\"},{\"id\":\"f1bcd04d-ac52-48e5-90f3-a32f9745756d\",\"type\":\"LinearAxis\"},{\"id\":\"ea1a42c0-5a56-48d1-9e93-c5ff553a8693\",\"type\":\"Grid\"},{\"id\":\"d4a34e4a-6d61-4fa9-b5ea-8753cbd8eea0\",\"type\":\"BoxAnnotation\"},{\"id\":\"b8e2c7c9-0efa-4ec7-85a0-fe60bed73f0f\",\"type\":\"GlyphRenderer\"}],\"title\":{\"id\":\"c9df2b1c-5cce-4e26-8ed5-94e56cc817ee\",\"type\":\"Title\"},\"toolbar\":{\"id\":\"41f1f88e-970f-4006-a052-7ffa08b2c8b7\",\"type\":\"Toolbar\"},\"x_range\":{\"id\":\"e3c74b28-9808-4b6e-896b-1ecc10f34499\",\"type\":\"DataRange1d\"},\"x_scale\":{\"id\":\"a0457743-a5b6-40d2-9def-be5a9adeb96b\",\"type\":\"LinearScale\"},\"y_range\":{\"id\":\"81cc885a-6a16-463b-b865-a2bf4f93a495\",\"type\":\"DataRange1d\"},\"y_scale\":{\"id\":\"016ab3b6-b5f3-4e51-bd83-8ac77fd368b8\",\"type\":\"LinearScale\"}},\"id\":\"be7568ff-1a51-4f65-b358-ac795dde5e79\",\"subtype\":\"Figure\",\"type\":\"Plot\"},{\"attributes\":{},\"id\":\"cda2b5d9-dab6-45fa-8ca1-8ebbc862d4e3\",\"type\":\"UnionRenderers\"},{\"attributes\":{},\"id\":\"444458b8-df17-411f-9a34-f43a98a8d270\",\"type\":\"ResetTool\"},{\"attributes\":{\"plot\":null,\"text\":\"\"},\"id\":\"c9df2b1c-5cce-4e26-8ed5-94e56cc817ee\",\"type\":\"Title\"},{\"attributes\":{},\"id\":\"a7de5e4d-337c-4159-bfe9-3ec1b06d4e5a\",\"type\":\"PanTool\"},{\"attributes\":{\"bottom_units\":\"screen\",\"fill_alpha\":{\"value\":0.5},\"fill_color\":{\"value\":\"lightgrey\"},\"left_units\":\"screen\",\"level\":\"overlay\",\"line_alpha\":{\"value\":1.0},\"line_color\":{\"value\":\"black\"},\"line_dash\":[4,4],\"line_width\":{\"value\":2},\"plot\":null,\"render_mode\":\"css\",\"right_units\":\"screen\",\"top_units\":\"screen\"},\"id\":\"d4a34e4a-6d61-4fa9-b5ea-8753cbd8eea0\",\"type\":\"BoxAnnotation\"},{\"attributes\":{},\"id\":\"ef6160b6-3d65-4b1b-be4a-15697ab29aaa\",\"type\":\"BasicTickFormatter\"},{\"attributes\":{},\"id\":\"9548d62c-a3cd-409a-853b-85ea59c55349\",\"type\":\"HelpTool\"},{\"attributes\":{},\"id\":\"898aeda7-e70d-4299-9289-506b6ce460ba\",\"type\":\"BasicTicker\"},{\"attributes\":{},\"id\":\"a0457743-a5b6-40d2-9def-be5a9adeb96b\",\"type\":\"LinearScale\"},{\"attributes\":{},\"id\":\"8b78e7a7-695b-4d0f-a1e8-5d0224ada081\",\"type\":\"Selection\"},{\"attributes\":{\"plot\":{\"id\":\"be7568ff-1a51-4f65-b358-ac795dde5e79\",\"subtype\":\"Figure\",\"type\":\"Plot\"},\"ticker\":{\"id\":\"4afe5c7e-e275-43f0-a7a5-fb295d553175\",\"type\":\"BasicTicker\"}},\"id\":\"4630c059-b569-4b81-bb75-73529c75248d\",\"type\":\"Grid\"},{\"attributes\":{},\"id\":\"016ab3b6-b5f3-4e51-bd83-8ac77fd368b8\",\"type\":\"LinearScale\"},{\"attributes\":{\"dimension\":1,\"plot\":{\"id\":\"be7568ff-1a51-4f65-b358-ac795dde5e79\",\"subtype\":\"Figure\",\"type\":\"Plot\"},\"ticker\":{\"id\":\"898aeda7-e70d-4299-9289-506b6ce460ba\",\"type\":\"BasicTicker\"}},\"id\":\"ea1a42c0-5a56-48d1-9e93-c5ff553a8693\",\"type\":\"Grid\"},{\"attributes\":{\"active_drag\":\"auto\",\"active_inspect\":\"auto\",\"active_multi\":null,\"active_scroll\":\"auto\",\"active_tap\":\"auto\",\"tools\":[{\"id\":\"a7de5e4d-337c-4159-bfe9-3ec1b06d4e5a\",\"type\":\"PanTool\"},{\"id\":\"d789c5ab-712d-48d4-9587-5bf78d47b977\",\"type\":\"WheelZoomTool\"},{\"id\":\"6edf0caf-3f4a-465f-9ec9-464f82e27619\",\"type\":\"BoxZoomTool\"},{\"id\":\"a2b259f5-a3e8-4ea7-b2df-02e2f3da43b3\",\"type\":\"SaveTool\"},{\"id\":\"444458b8-df17-411f-9a34-f43a98a8d270\",\"type\":\"ResetTool\"},{\"id\":\"9548d62c-a3cd-409a-853b-85ea59c55349\",\"type\":\"HelpTool\"}]},\"id\":\"41f1f88e-970f-4006-a052-7ffa08b2c8b7\",\"type\":\"Toolbar\"},{\"attributes\":{\"overlay\":{\"id\":\"d4a34e4a-6d61-4fa9-b5ea-8753cbd8eea0\",\"type\":\"BoxAnnotation\"}},\"id\":\"6edf0caf-3f4a-465f-9ec9-464f82e27619\",\"type\":\"BoxZoomTool\"},{\"attributes\":{\"callback\":null},\"id\":\"81cc885a-6a16-463b-b865-a2bf4f93a495\",\"type\":\"DataRange1d\"},{\"attributes\":{\"callback\":null,\"data\":{\"x\":{\"__ndarray__\":\"AAAAAAAAAABn0LLjOZV0P2fQsuM5lYQ/mjiM1dbfjj9n0LLjOZWUP4GEn1yIupk/mjiM1dbfnj9adjynkgKiP2fQsuM5laQ/dCopIOEnpz+BhJ9ciLqpP47eFZkvTaw/mjiM1dbfrj9USQEJP7mwP1p2PKeSArI/YaN3ReZLsz9n0LLjOZW0P2397YGN3rU/dCopIOEntz96V2S+NHG4P4GEn1yIurk/h7Ha+tsDuz+O3hWZL028P5QLUTeDlr0/mjiM1dbfvj/QsuM5lRTAP1RJAQk/ucA/198e2OhdwT9adjynkgLCP90MWnY8p8I/YaN3ReZLwz/kOZUUkPDDP2fQsuM5lcQ/6mbQsuM5xT9t/e2Bjd7FP/GTC1E3g8Y/dCopIOEnxz/3wEbviszHP3pXZL40ccg//u2Bjd4VyT+BhJ9ciLrJPwQbvSsyX8o/h7Ha+tsDyz8KSPjJhajLP47eFZkvTcw/EXUzaNnxzD+UC1E3g5bNPxeibgYtO84/mjiM1dbfzj8ez6mkgITPP9Cy4zmVFNA/En5yIepm0D9USQEJP7nQP5UUkPCTC9E/198e2Ohd0T8Zq62/PbDRP1p2PKeSAtI/nEHLjudU0j/dDFp2PKfSPx/Y6F2R+dI/YaN3ReZL0z+ibgYtO57TP+Q5lRSQ8NM/JQUk/ORC1D9n0LLjOZXUP6mbQcuO59Q/6mbQsuM51T8sMl+aOIzVP2397YGN3tU/r8h8aeIw1j/xkwtRN4PWPzJfmjiM1dY/dCopIOEn1z+19bcHNnrXP/fARu+KzNc/OYzV1t8e2D96V2S+NHHYP7wi86WJw9g//u2Bjd4V2T8/uRB1M2jZP4GEn1yIutk/wk8uRN0M2j8EG70rMl/aP0bmSxOHsdo/h7Ha+tsD2z/JfGniMFbbPwpI+MmFqNs/TBOHsdr62z+O3hWZL03cP8+ppICEn9w/EXUzaNnx3D9SQMJPLkTdP5QLUTeDlt0/1tbfHtjo3T8Xom4GLTveP1lt/e2Bjd4/mjiM1dbf3j/cAxu9KzLfPx7PqaSAhN8/X5o4jNXW3z/QsuM5lRTgP3EYq62/PeA/En5yIepm4D+z4zmVFJDgP1RJAQk/ueA/9K7IfGni4D+VFJDwkwvhPzZ6V2S+NOE/198e2Ohd4T94ReZLE4fhPxmrrb89sOE/uRB1M2jZ4T9adjynkgLiP/vbAxu9K+I/nEHLjudU4j89p5ICEn7iP90MWnY8p+I/fnIh6mbQ4j8f2OhdkfniP8A9sNG7IuM/YaN3ReZL4z8BCT+5EHXjP6JuBi07nuM/Q9TNoGXH4z/kOZUUkPDjP4WfXIi6GeQ/JQUk/ORC5D/GautvD2zkP2fQsuM5leQ/CDZ6V2S+5D+pm0HLjufkP0kBCT+5EOU/6mbQsuM55T+LzJcmDmPlPywyX5o4jOU/zZcmDmO15T9t/e2Bjd7lPw5jtfW3B+Y/r8h8aeIw5j9QLkTdDFrmP/GTC1E3g+Y/kfnSxGGs5j8yX5o4jNXmP9PEYay2/uY/dCopIOEn5z8VkPCTC1HnP7X1twc2euc/Vlt/e2Cj5z/3wEbvisznP5gmDmO19ec/OYzV1t8e6D/a8ZxKCkjoP3pXZL40ceg/G70rMl+a6D+8IvOlicPoP12Iuhm07Og//u2Bjd4V6T+eU0kBCT/pPz+5EHUzaOk/4B7Y6F2R6T+BhJ9ciLrpPyLqZtCy4+k/wk8uRN0M6j9jtfW3BzbqPwQbvSsyX+o/pYCEn1yI6j9G5ksTh7HqP+ZLE4ex2uo/h7Ha+tsD6z8oF6JuBi3rP8l8aeIwVus/auIwVlt/6z8KSPjJhajrP6utvz2w0es/TBOHsdr66z/teE4lBSTsP47eFZkvTew/LkTdDFp27D/PqaSAhJ/sP3APbPSuyOw/EXUzaNnx7D+y2vrbAxvtP1JAwk8uRO0/86WJw1ht7T+UC1E3g5btPzVxGKutv+0/1tbfHtjo7T92PKeSAhLuPxeibgYtO+4/uAc2eldk7j9Zbf3tgY3uP/rSxGGstu4/mjiM1dbf7j87nlNJAQnvP9wDG70rMu8/fWniMFZb7z8ez6mkgITvP780cRirre8/X5o4jNXW7z8AAAAAAADwPw==\",\"dtype\":\"float64\",\"shape\":[200]},\"y\":{\"__ndarray__\":\"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\",\"dtype\":\"float64\",\"shape\":[200]}},\"selected\":{\"id\":\"8b78e7a7-695b-4d0f-a1e8-5d0224ada081\",\"type\":\"Selection\"},\"selection_policy\":{\"id\":\"cda2b5d9-dab6-45fa-8ca1-8ebbc862d4e3\",\"type\":\"UnionRenderers\"}},\"id\":\"a494e668-a7fc-4dbe-a20e-aa4297c88efc\",\"type\":\"ColumnDataSource\"},{\"attributes\":{\"axis_label\":\"g(\\u03b8)\",\"formatter\":{\"id\":\"715bbd04-b4ef-4e46-959b-72015942712d\",\"type\":\"BasicTickFormatter\"},\"plot\":{\"id\":\"be7568ff-1a51-4f65-b358-ac795dde5e79\",\"subtype\":\"Figure\",\"type\":\"Plot\"},\"ticker\":{\"id\":\"898aeda7-e70d-4299-9289-506b6ce460ba\",\"type\":\"BasicTicker\"}},\"id\":\"f1bcd04d-ac52-48e5-90f3-a32f9745756d\",\"type\":\"LinearAxis\"},{\"attributes\":{\"axis_label\":\"\\u03b8\",\"formatter\":{\"id\":\"ef6160b6-3d65-4b1b-be4a-15697ab29aaa\",\"type\":\"BasicTickFormatter\"},\"plot\":{\"id\":\"be7568ff-1a51-4f65-b358-ac795dde5e79\",\"subtype\":\"Figure\",\"type\":\"Plot\"},\"ticker\":{\"id\":\"4afe5c7e-e275-43f0-a7a5-fb295d553175\",\"type\":\"BasicTicker\"}},\"id\":\"9a13590f-b55f-4887-889b-00afc9dd94e7\",\"type\":\"LinearAxis\"},{\"attributes\":{},\"id\":\"d789c5ab-712d-48d4-9587-5bf78d47b977\",\"type\":\"WheelZoomTool\"},{\"attributes\":{\"source\":{\"id\":\"a494e668-a7fc-4dbe-a20e-aa4297c88efc\",\"type\":\"ColumnDataSource\"}},\"id\":\"620e0a0a-8978-4723-b23f-ad87d3857869\",\"type\":\"CDSView\"},{\"attributes\":{\"line_alpha\":0.1,\"line_color\":\"#1f77b4\",\"line_width\":2,\"x\":{\"field\":\"x\"},\"y\":{\"field\":\"y\"}},\"id\":\"59d336bd-c83f-4bc4-92d5-e1b7cbbc77aa\",\"type\":\"Line\"},{\"attributes\":{},\"id\":\"4afe5c7e-e275-43f0-a7a5-fb295d553175\",\"type\":\"BasicTicker\"},{\"attributes\":{},\"id\":\"715bbd04-b4ef-4e46-959b-72015942712d\",\"type\":\"BasicTickFormatter\"},{\"attributes\":{\"data_source\":{\"id\":\"a494e668-a7fc-4dbe-a20e-aa4297c88efc\",\"type\":\"ColumnDataSource\"},\"glyph\":{\"id\":\"5caca80a-ef72-4ca2-9fa4-b06abc2344be\",\"type\":\"Line\"},\"hover_glyph\":null,\"muted_glyph\":null,\"nonselection_glyph\":{\"id\":\"59d336bd-c83f-4bc4-92d5-e1b7cbbc77aa\",\"type\":\"Line\"},\"selection_glyph\":null,\"view\":{\"id\":\"620e0a0a-8978-4723-b23f-ad87d3857869\",\"type\":\"CDSView\"}},\"id\":\"b8e2c7c9-0efa-4ec7-85a0-fe60bed73f0f\",\"type\":\"GlyphRenderer\"},{\"attributes\":{\"line_color\":\"#1f77b4\",\"line_width\":2,\"x\":{\"field\":\"x\"},\"y\":{\"field\":\"y\"}},\"id\":\"5caca80a-ef72-4ca2-9fa4-b06abc2344be\",\"type\":\"Line\"},{\"attributes\":{\"callback\":null},\"id\":\"e3c74b28-9808-4b6e-896b-1ecc10f34499\",\"type\":\"DataRange1d\"}],\"root_ids\":[\"be7568ff-1a51-4f65-b358-ac795dde5e79\"]},\"title\":\"Bokeh Application\",\"version\":\"0.13.0\"}};\n",
       "  var render_items = [{\"docid\":\"5df0be01-7036-4592-a276-7fee15a73c9e\",\"roots\":{\"be7568ff-1a51-4f65-b358-ac795dde5e79\":\"ff8090b8-635a-400c-905b-88c014342afc\"}}];\n",
       "  root.Bokeh.embed.embed_items_notebook(docs_json, render_items);\n",
       "\n",
       "  }\n",
       "  if (root.Bokeh !== undefined) {\n",
       "    embed_document(root);\n",
       "  } else {\n",
       "    var attempts = 0;\n",
       "    var timer = setInterval(function(root) {\n",
       "      if (root.Bokeh !== undefined) {\n",
       "        embed_document(root);\n",
       "        clearInterval(timer);\n",
       "      }\n",
       "      attempts++;\n",
       "      if (attempts > 100) {\n",
       "        console.log(\"Bokeh: ERROR: Unable to run BokehJS code because BokehJS library is missing\")\n",
       "        clearInterval(timer);\n",
       "      }\n",
       "    }, 10, root)\n",
       "  }\n",
       "})(window);"
      ],
      "application/vnd.bokehjs_exec.v0+json": ""
     },
     "metadata": {
      "application/vnd.bokehjs_exec.v0+json": {
       "id": "be7568ff-1a51-4f65-b358-ac795dde5e79"
      }
     },
     "output_type": "display_data"
    }
   ],
   "source": [
    "sigma = np.linspace(0, 1, 200) # generate points\n",
    "p = bokeh.plotting.figure(width=300, height=200, \n",
    "                          x_axis_label='θ', \n",
    "                          y_axis_label='g(θ)')\n",
    "p.line(sigma, st.beta.pdf(sigma, 2, 7, loc=0, scale=1), line_width=2)\n",
    "bokeh.io.show(p)"
   ]
  },
  {
   "cell_type": "markdown",
   "metadata": {},
   "source": [
    "<p style=\"background-color:#D9EDF7\">\n",
    "Nice! 5/5\n",
    "</p>"
   ]
  },
  {
   "cell_type": "markdown",
   "metadata": {},
   "source": [
    "The AVA strain is twice as likely to reverse so we predict the distribution will be shifted to the right and more widely peaked, so $\\theta_{AVA}$ = Beta(5,6), \n",
    "shown graphically as:"
   ]
  },
  {
   "cell_type": "code",
   "execution_count": 5,
   "metadata": {},
   "outputs": [
    {
     "data": {
      "text/html": [
       "\n",
       "\n",
       "\n",
       "\n",
       "\n",
       "\n",
       "  <div class=\"bk-root\" id=\"b0589fca-660f-4707-a342-e21528be5f24\"></div>\n"
      ]
     },
     "metadata": {},
     "output_type": "display_data"
    },
    {
     "data": {
      "application/javascript": [
       "(function(root) {\n",
       "  function embed_document(root) {\n",
       "    \n",
       "  var docs_json = {\"220aaf54-b199-4155-ab07-9b1fc1c8bb60\":{\"roots\":{\"references\":[{\"attributes\":{},\"id\":\"d9871fd9-94bd-4cdf-9da3-1da55b12b381\",\"type\":\"BasicTickFormatter\"},{\"attributes\":{\"bottom_units\":\"screen\",\"fill_alpha\":{\"value\":0.5},\"fill_color\":{\"value\":\"lightgrey\"},\"left_units\":\"screen\",\"level\":\"overlay\",\"line_alpha\":{\"value\":1.0},\"line_color\":{\"value\":\"black\"},\"line_dash\":[4,4],\"line_width\":{\"value\":2},\"plot\":null,\"render_mode\":\"css\",\"right_units\":\"screen\",\"top_units\":\"screen\"},\"id\":\"6b9921ce-2e57-4385-b7d5-2365707a5557\",\"type\":\"BoxAnnotation\"},{\"attributes\":{\"below\":[{\"id\":\"d2cd15e0-3e3e-437f-84e2-f1bc8acef87e\",\"type\":\"LinearAxis\"}],\"left\":[{\"id\":\"c24e849a-ec9d-447a-a35b-c1ea4c035a8e\",\"type\":\"LinearAxis\"}],\"plot_height\":200,\"plot_width\":300,\"renderers\":[{\"id\":\"d2cd15e0-3e3e-437f-84e2-f1bc8acef87e\",\"type\":\"LinearAxis\"},{\"id\":\"e49d9c76-b944-4e44-a98e-6d43e463d965\",\"type\":\"Grid\"},{\"id\":\"c24e849a-ec9d-447a-a35b-c1ea4c035a8e\",\"type\":\"LinearAxis\"},{\"id\":\"1da5350e-71fd-47f6-8a79-ae760103fd43\",\"type\":\"Grid\"},{\"id\":\"6b9921ce-2e57-4385-b7d5-2365707a5557\",\"type\":\"BoxAnnotation\"},{\"id\":\"73ccdd1d-4115-427a-9dd9-74c7b6ad7f2a\",\"type\":\"GlyphRenderer\"}],\"title\":{\"id\":\"71909369-fd31-49a9-a55e-ddcc3339cb1e\",\"type\":\"Title\"},\"toolbar\":{\"id\":\"936091ec-e7aa-40b8-b571-6083d139c6db\",\"type\":\"Toolbar\"},\"x_range\":{\"id\":\"7a4d6502-66d8-4d03-975e-f7d2e3659063\",\"type\":\"DataRange1d\"},\"x_scale\":{\"id\":\"1d93e412-25ca-4073-b9bb-019516a925d5\",\"type\":\"LinearScale\"},\"y_range\":{\"id\":\"920d328e-18e0-4a0b-bd1e-f8c718f4a9c6\",\"type\":\"DataRange1d\"},\"y_scale\":{\"id\":\"21334591-edb9-45d8-bd13-0434fd231f32\",\"type\":\"LinearScale\"}},\"id\":\"7bfe4845-48a6-48e8-8e7b-b49db4937a6d\",\"subtype\":\"Figure\",\"type\":\"Plot\"},{\"attributes\":{\"active_drag\":\"auto\",\"active_inspect\":\"auto\",\"active_multi\":null,\"active_scroll\":\"auto\",\"active_tap\":\"auto\",\"tools\":[{\"id\":\"1ce8351c-ae5d-4b6d-aeb9-bf86753b311f\",\"type\":\"PanTool\"},{\"id\":\"694c6477-90d0-4adc-beea-47a932f6e236\",\"type\":\"WheelZoomTool\"},{\"id\":\"77baf238-d3af-47f0-92e9-8a5fba9ee114\",\"type\":\"BoxZoomTool\"},{\"id\":\"6e2a431a-0ef9-46a3-b543-3139622bd117\",\"type\":\"SaveTool\"},{\"id\":\"5fa1fb33-d970-4968-80e9-1d61771d0123\",\"type\":\"ResetTool\"},{\"id\":\"62a8d335-4781-4fe8-a26e-7679c265ee45\",\"type\":\"HelpTool\"}]},\"id\":\"936091ec-e7aa-40b8-b571-6083d139c6db\",\"type\":\"Toolbar\"},{\"attributes\":{\"plot\":null,\"text\":\"\"},\"id\":\"71909369-fd31-49a9-a55e-ddcc3339cb1e\",\"type\":\"Title\"},{\"attributes\":{},\"id\":\"e23b033e-5c62-40c8-bd67-74c384d16092\",\"type\":\"Selection\"},{\"attributes\":{},\"id\":\"6e2a431a-0ef9-46a3-b543-3139622bd117\",\"type\":\"SaveTool\"},{\"attributes\":{},\"id\":\"fe85aa41-ea22-42f4-a176-372c14fe235c\",\"type\":\"UnionRenderers\"},{\"attributes\":{},\"id\":\"5fa1fb33-d970-4968-80e9-1d61771d0123\",\"type\":\"ResetTool\"},{\"attributes\":{\"callback\":null},\"id\":\"7a4d6502-66d8-4d03-975e-f7d2e3659063\",\"type\":\"DataRange1d\"},{\"attributes\":{\"line_color\":\"#1f77b4\",\"line_width\":2,\"x\":{\"field\":\"x\"},\"y\":{\"field\":\"y\"}},\"id\":\"4a1f1669-e56b-4956-bba2-0a793b025750\",\"type\":\"Line\"},{\"attributes\":{\"overlay\":{\"id\":\"6b9921ce-2e57-4385-b7d5-2365707a5557\",\"type\":\"BoxAnnotation\"}},\"id\":\"77baf238-d3af-47f0-92e9-8a5fba9ee114\",\"type\":\"BoxZoomTool\"},{\"attributes\":{\"callback\":null},\"id\":\"920d328e-18e0-4a0b-bd1e-f8c718f4a9c6\",\"type\":\"DataRange1d\"},{\"attributes\":{},\"id\":\"1ce8351c-ae5d-4b6d-aeb9-bf86753b311f\",\"type\":\"PanTool\"},{\"attributes\":{\"line_alpha\":0.1,\"line_color\":\"#1f77b4\",\"line_width\":2,\"x\":{\"field\":\"x\"},\"y\":{\"field\":\"y\"}},\"id\":\"0a101dca-8fed-412b-acd2-0bf8308f56ac\",\"type\":\"Line\"},{\"attributes\":{\"source\":{\"id\":\"c1fdb031-0988-45b6-b6bc-1a2d318908f8\",\"type\":\"ColumnDataSource\"}},\"id\":\"1f8a2c86-0b43-4316-a153-ddb2a35967c2\",\"type\":\"CDSView\"},{\"attributes\":{},\"id\":\"fe7fa234-90ce-499d-90c9-3ebc776090b6\",\"type\":\"BasicTicker\"},{\"attributes\":{},\"id\":\"9621b725-e262-4ae7-8776-8a989648e841\",\"type\":\"BasicTickFormatter\"},{\"attributes\":{\"plot\":{\"id\":\"7bfe4845-48a6-48e8-8e7b-b49db4937a6d\",\"subtype\":\"Figure\",\"type\":\"Plot\"},\"ticker\":{\"id\":\"3f151d61-cb9c-4113-b1c1-f20cd6f10ed8\",\"type\":\"BasicTicker\"}},\"id\":\"e49d9c76-b944-4e44-a98e-6d43e463d965\",\"type\":\"Grid\"},{\"attributes\":{\"axis_label\":\"\\u03b8\",\"formatter\":{\"id\":\"d9871fd9-94bd-4cdf-9da3-1da55b12b381\",\"type\":\"BasicTickFormatter\"},\"plot\":{\"id\":\"7bfe4845-48a6-48e8-8e7b-b49db4937a6d\",\"subtype\":\"Figure\",\"type\":\"Plot\"},\"ticker\":{\"id\":\"3f151d61-cb9c-4113-b1c1-f20cd6f10ed8\",\"type\":\"BasicTicker\"}},\"id\":\"d2cd15e0-3e3e-437f-84e2-f1bc8acef87e\",\"type\":\"LinearAxis\"},{\"attributes\":{},\"id\":\"1d93e412-25ca-4073-b9bb-019516a925d5\",\"type\":\"LinearScale\"},{\"attributes\":{},\"id\":\"21334591-edb9-45d8-bd13-0434fd231f32\",\"type\":\"LinearScale\"},{\"attributes\":{\"callback\":null,\"data\":{\"x\":{\"__ndarray__\":\"AAAAAAAAAABn0LLjOZV0P2fQsuM5lYQ/mjiM1dbfjj9n0LLjOZWUP4GEn1yIupk/mjiM1dbfnj9adjynkgKiP2fQsuM5laQ/dCopIOEnpz+BhJ9ciLqpP47eFZkvTaw/mjiM1dbfrj9USQEJP7mwP1p2PKeSArI/YaN3ReZLsz9n0LLjOZW0P2397YGN3rU/dCopIOEntz96V2S+NHG4P4GEn1yIurk/h7Ha+tsDuz+O3hWZL028P5QLUTeDlr0/mjiM1dbfvj/QsuM5lRTAP1RJAQk/ucA/198e2OhdwT9adjynkgLCP90MWnY8p8I/YaN3ReZLwz/kOZUUkPDDP2fQsuM5lcQ/6mbQsuM5xT9t/e2Bjd7FP/GTC1E3g8Y/dCopIOEnxz/3wEbviszHP3pXZL40ccg//u2Bjd4VyT+BhJ9ciLrJPwQbvSsyX8o/h7Ha+tsDyz8KSPjJhajLP47eFZkvTcw/EXUzaNnxzD+UC1E3g5bNPxeibgYtO84/mjiM1dbfzj8ez6mkgITPP9Cy4zmVFNA/En5yIepm0D9USQEJP7nQP5UUkPCTC9E/198e2Ohd0T8Zq62/PbDRP1p2PKeSAtI/nEHLjudU0j/dDFp2PKfSPx/Y6F2R+dI/YaN3ReZL0z+ibgYtO57TP+Q5lRSQ8NM/JQUk/ORC1D9n0LLjOZXUP6mbQcuO59Q/6mbQsuM51T8sMl+aOIzVP2397YGN3tU/r8h8aeIw1j/xkwtRN4PWPzJfmjiM1dY/dCopIOEn1z+19bcHNnrXP/fARu+KzNc/OYzV1t8e2D96V2S+NHHYP7wi86WJw9g//u2Bjd4V2T8/uRB1M2jZP4GEn1yIutk/wk8uRN0M2j8EG70rMl/aP0bmSxOHsdo/h7Ha+tsD2z/JfGniMFbbPwpI+MmFqNs/TBOHsdr62z+O3hWZL03cP8+ppICEn9w/EXUzaNnx3D9SQMJPLkTdP5QLUTeDlt0/1tbfHtjo3T8Xom4GLTveP1lt/e2Bjd4/mjiM1dbf3j/cAxu9KzLfPx7PqaSAhN8/X5o4jNXW3z/QsuM5lRTgP3EYq62/PeA/En5yIepm4D+z4zmVFJDgP1RJAQk/ueA/9K7IfGni4D+VFJDwkwvhPzZ6V2S+NOE/198e2Ohd4T94ReZLE4fhPxmrrb89sOE/uRB1M2jZ4T9adjynkgLiP/vbAxu9K+I/nEHLjudU4j89p5ICEn7iP90MWnY8p+I/fnIh6mbQ4j8f2OhdkfniP8A9sNG7IuM/YaN3ReZL4z8BCT+5EHXjP6JuBi07nuM/Q9TNoGXH4z/kOZUUkPDjP4WfXIi6GeQ/JQUk/ORC5D/GautvD2zkP2fQsuM5leQ/CDZ6V2S+5D+pm0HLjufkP0kBCT+5EOU/6mbQsuM55T+LzJcmDmPlPywyX5o4jOU/zZcmDmO15T9t/e2Bjd7lPw5jtfW3B+Y/r8h8aeIw5j9QLkTdDFrmP/GTC1E3g+Y/kfnSxGGs5j8yX5o4jNXmP9PEYay2/uY/dCopIOEn5z8VkPCTC1HnP7X1twc2euc/Vlt/e2Cj5z/3wEbvisznP5gmDmO19ec/OYzV1t8e6D/a8ZxKCkjoP3pXZL40ceg/G70rMl+a6D+8IvOlicPoP12Iuhm07Og//u2Bjd4V6T+eU0kBCT/pPz+5EHUzaOk/4B7Y6F2R6T+BhJ9ciLrpPyLqZtCy4+k/wk8uRN0M6j9jtfW3BzbqPwQbvSsyX+o/pYCEn1yI6j9G5ksTh7HqP+ZLE4ex2uo/h7Ha+tsD6z8oF6JuBi3rP8l8aeIwVus/auIwVlt/6z8KSPjJhajrP6utvz2w0es/TBOHsdr66z/teE4lBSTsP47eFZkvTew/LkTdDFp27D/PqaSAhJ/sP3APbPSuyOw/EXUzaNnx7D+y2vrbAxvtP1JAwk8uRO0/86WJw1ht7T+UC1E3g5btPzVxGKutv+0/1tbfHtjo7T92PKeSAhLuPxeibgYtO+4/uAc2eldk7j9Zbf3tgY3uP/rSxGGstu4/mjiM1dbf7j87nlNJAQnvP9wDG70rMu8/fWniMFZb7z8ez6mkgITvP780cRirre8/X5o4jNXW7z8AAAAAAADwPw==\",\"dtype\":\"float64\",\"shape\":[200]},\"y\":{\"__ndarray__\":\"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\",\"dtype\":\"float64\",\"shape\":[200]}},\"selected\":{\"id\":\"e23b033e-5c62-40c8-bd67-74c384d16092\",\"type\":\"Selection\"},\"selection_policy\":{\"id\":\"fe85aa41-ea22-42f4-a176-372c14fe235c\",\"type\":\"UnionRenderers\"}},\"id\":\"c1fdb031-0988-45b6-b6bc-1a2d318908f8\",\"type\":\"ColumnDataSource\"},{\"attributes\":{},\"id\":\"62a8d335-4781-4fe8-a26e-7679c265ee45\",\"type\":\"HelpTool\"},{\"attributes\":{\"axis_label\":\"g(\\u03b8)\",\"formatter\":{\"id\":\"9621b725-e262-4ae7-8776-8a989648e841\",\"type\":\"BasicTickFormatter\"},\"plot\":{\"id\":\"7bfe4845-48a6-48e8-8e7b-b49db4937a6d\",\"subtype\":\"Figure\",\"type\":\"Plot\"},\"ticker\":{\"id\":\"fe7fa234-90ce-499d-90c9-3ebc776090b6\",\"type\":\"BasicTicker\"}},\"id\":\"c24e849a-ec9d-447a-a35b-c1ea4c035a8e\",\"type\":\"LinearAxis\"},{\"attributes\":{},\"id\":\"3f151d61-cb9c-4113-b1c1-f20cd6f10ed8\",\"type\":\"BasicTicker\"},{\"attributes\":{\"data_source\":{\"id\":\"c1fdb031-0988-45b6-b6bc-1a2d318908f8\",\"type\":\"ColumnDataSource\"},\"glyph\":{\"id\":\"4a1f1669-e56b-4956-bba2-0a793b025750\",\"type\":\"Line\"},\"hover_glyph\":null,\"muted_glyph\":null,\"nonselection_glyph\":{\"id\":\"0a101dca-8fed-412b-acd2-0bf8308f56ac\",\"type\":\"Line\"},\"selection_glyph\":null,\"view\":{\"id\":\"1f8a2c86-0b43-4316-a153-ddb2a35967c2\",\"type\":\"CDSView\"}},\"id\":\"73ccdd1d-4115-427a-9dd9-74c7b6ad7f2a\",\"type\":\"GlyphRenderer\"},{\"attributes\":{\"dimension\":1,\"plot\":{\"id\":\"7bfe4845-48a6-48e8-8e7b-b49db4937a6d\",\"subtype\":\"Figure\",\"type\":\"Plot\"},\"ticker\":{\"id\":\"fe7fa234-90ce-499d-90c9-3ebc776090b6\",\"type\":\"BasicTicker\"}},\"id\":\"1da5350e-71fd-47f6-8a79-ae760103fd43\",\"type\":\"Grid\"},{\"attributes\":{},\"id\":\"694c6477-90d0-4adc-beea-47a932f6e236\",\"type\":\"WheelZoomTool\"}],\"root_ids\":[\"7bfe4845-48a6-48e8-8e7b-b49db4937a6d\"]},\"title\":\"Bokeh Application\",\"version\":\"0.13.0\"}};\n",
       "  var render_items = [{\"docid\":\"220aaf54-b199-4155-ab07-9b1fc1c8bb60\",\"roots\":{\"7bfe4845-48a6-48e8-8e7b-b49db4937a6d\":\"b0589fca-660f-4707-a342-e21528be5f24\"}}];\n",
       "  root.Bokeh.embed.embed_items_notebook(docs_json, render_items);\n",
       "\n",
       "  }\n",
       "  if (root.Bokeh !== undefined) {\n",
       "    embed_document(root);\n",
       "  } else {\n",
       "    var attempts = 0;\n",
       "    var timer = setInterval(function(root) {\n",
       "      if (root.Bokeh !== undefined) {\n",
       "        embed_document(root);\n",
       "        clearInterval(timer);\n",
       "      }\n",
       "      attempts++;\n",
       "      if (attempts > 100) {\n",
       "        console.log(\"Bokeh: ERROR: Unable to run BokehJS code because BokehJS library is missing\")\n",
       "        clearInterval(timer);\n",
       "      }\n",
       "    }, 10, root)\n",
       "  }\n",
       "})(window);"
      ],
      "application/vnd.bokehjs_exec.v0+json": ""
     },
     "metadata": {
      "application/vnd.bokehjs_exec.v0+json": {
       "id": "7bfe4845-48a6-48e8-8e7b-b49db4937a6d"
      }
     },
     "output_type": "display_data"
    }
   ],
   "source": [
    "sigma = np.linspace(0, 1, 200) # generate points\n",
    "p = bokeh.plotting.figure(width=300, height=200, \n",
    "                          x_axis_label='θ', \n",
    "                          y_axis_label='g(θ)')\n",
    "p.line(sigma, st.beta.pdf(sigma, 5, 6, loc=0, scale=1), line_width=2)\n",
    "bokeh.io.show(p)"
   ]
  },
  {
   "cell_type": "markdown",
   "metadata": {},
   "source": [
    "<p style=\"background-color:#D9EDF7\">\n",
    "Looks reasonable! 5/5\n",
    "</p>"
   ]
  },
  {
   "cell_type": "markdown",
   "metadata": {},
   "source": [
    "Now we plot the posterior probability density function for each of the three strains. We put our priors for a and b and the data points we have for n number of reversals in N trials into arrays to make performing calculations for all three strains easier."
   ]
  },
  {
   "cell_type": "code",
   "execution_count": 6,
   "metadata": {},
   "outputs": [],
   "source": [
    "# arrays for alpha and beta values for our three strains\n",
    "a_array = [1, 2, 5]\n",
    "b_array = [8, 7, 6]\n",
    "\n",
    "# arrays for the datapoints we have for number of reversals for our three strains\n",
    "n_array = [13, 39, 91]\n",
    "N_array = [126, 124, 124]"
   ]
  },
  {
   "cell_type": "markdown",
   "metadata": {},
   "source": [
    "Now we can do our prior predictive check."
   ]
  },
  {
   "cell_type": "code",
   "execution_count": 7,
   "metadata": {},
   "outputs": [
    {
     "data": {
      "text/html": [
       "\n",
       "\n",
       "\n",
       "\n",
       "\n",
       "\n",
       "  <div class=\"bk-root\" id=\"6e3cce8a-9811-4776-bce2-12f8e1fa62b3\"></div>\n"
      ]
     },
     "metadata": {},
     "output_type": "display_data"
    },
    {
     "data": {
      "application/javascript": [
       "(function(root) {\n",
       "  function embed_document(root) {\n",
       "    \n",
       "  var docs_json = {\"c31f5f15-bbc1-4bc0-9f11-325706d339ea\":{\"roots\":{\"references\":[{\"attributes\":{\"label\":{\"value\":\"WT\"},\"renderers\":[{\"id\":\"5f02cfa3-b8ab-45a7-a0f2-0241edb42f25\",\"type\":\"GlyphRenderer\"}]},\"id\":\"b17cc961-c37d-467c-86ce-ab1e568abc57\",\"type\":\"LegendItem\"},{\"attributes\":{},\"id\":\"01004d2d-2204-4cfd-8a00-8eeccbd91048\",\"type\":\"BasicTickFormatter\"},{\"attributes\":{\"label\":{\"value\":\"ASH\"},\"renderers\":[{\"id\":\"ae49eeca-08db-4322-876b-9792bdf19f28\",\"type\":\"GlyphRenderer\"}]},\"id\":\"2dcea4a5-ccd6-4488-b1d6-8ce45de8c2c7\",\"type\":\"LegendItem\"},{\"attributes\":{\"fill_color\":{\"value\":\"#249d43\"},\"line_alpha\":{\"value\":0},\"line_color\":{\"value\":\"#249d43\"},\"x\":{\"field\":\"x\"},\"y\":{\"field\":\"y\"}},\"id\":\"e5253244-f51a-4db3-b208-0c29550ec7b5\",\"type\":\"Circle\"},{\"attributes\":{\"data_source\":{\"id\":\"77092fde-178e-471a-a710-7f165458cf02\",\"type\":\"ColumnDataSource\"},\"glyph\":{\"id\":\"e6ca396f-c567-4a6c-97d9-78fe66199f20\",\"type\":\"Circle\"},\"hover_glyph\":null,\"muted_glyph\":null,\"nonselection_glyph\":{\"id\":\"8b4b7b22-c3c7-4784-bfa3-fa818e4147bf\",\"type\":\"Circle\"},\"selection_glyph\":null,\"view\":{\"id\":\"90845084-a8f1-416a-855d-52a6001a8601\",\"type\":\"CDSView\"}},\"id\":\"5f02cfa3-b8ab-45a7-a0f2-0241edb42f25\",\"type\":\"GlyphRenderer\"},{\"attributes\":{\"fill_alpha\":{\"value\":0.1},\"fill_color\":{\"value\":\"#1f77b4\"},\"line_alpha\":{\"value\":0.1},\"line_color\":{\"value\":\"#1f77b4\"},\"x\":{\"field\":\"x\"},\"y\":{\"field\":\"y\"}},\"id\":\"0a978dcb-8580-4703-9819-d4ca1cfdba4c\",\"type\":\"Circle\"},{\"attributes\":{\"data_source\":{\"id\":\"d64ecc9b-217d-4c58-9cd4-6669669cce04\",\"type\":\"ColumnDataSource\"},\"glyph\":{\"id\":\"e5253244-f51a-4db3-b208-0c29550ec7b5\",\"type\":\"Circle\"},\"hover_glyph\":null,\"muted_glyph\":null,\"nonselection_glyph\":{\"id\":\"0a978dcb-8580-4703-9819-d4ca1cfdba4c\",\"type\":\"Circle\"},\"selection_glyph\":null,\"view\":{\"id\":\"f67513d5-6740-4035-9be0-2c31d898e841\",\"type\":\"CDSView\"}},\"id\":\"ae49eeca-08db-4322-876b-9792bdf19f28\",\"type\":\"GlyphRenderer\"},{\"attributes\":{\"source\":{\"id\":\"d64ecc9b-217d-4c58-9cd4-6669669cce04\",\"type\":\"ColumnDataSource\"}},\"id\":\"f67513d5-6740-4035-9be0-2c31d898e841\",\"type\":\"CDSView\"},{\"attributes\":{\"below\":[{\"id\":\"2d4c92f8-d4cb-4aed-a921-78b1a60f01b2\",\"type\":\"LinearAxis\"}],\"left\":[{\"id\":\"58a30ccb-ef01-4b9e-ba36-6fdf2e67c4fb\",\"type\":\"LinearAxis\"}],\"plot_height\":300,\"plot_width\":450,\"renderers\":[{\"id\":\"2d4c92f8-d4cb-4aed-a921-78b1a60f01b2\",\"type\":\"LinearAxis\"},{\"id\":\"3583773a-97d9-4ffd-ba87-6a65c832670e\",\"type\":\"Grid\"},{\"id\":\"58a30ccb-ef01-4b9e-ba36-6fdf2e67c4fb\",\"type\":\"LinearAxis\"},{\"id\":\"c20a15aa-6513-45df-9eda-07a0c0d95b0e\",\"type\":\"Grid\"},{\"id\":\"29d028af-a302-40ef-93e2-54e650534e0f\",\"type\":\"BoxAnnotation\"},{\"id\":\"a9b4bc8e-3bcf-4a04-880e-fd8928eb2899\",\"type\":\"Legend\"},{\"id\":\"5f02cfa3-b8ab-45a7-a0f2-0241edb42f25\",\"type\":\"GlyphRenderer\"},{\"id\":\"ae49eeca-08db-4322-876b-9792bdf19f28\",\"type\":\"GlyphRenderer\"},{\"id\":\"0082c716-a0c1-4a34-ba53-755b98c6a0f4\",\"type\":\"GlyphRenderer\"}],\"title\":null,\"toolbar\":{\"id\":\"99242fa4-d5b2-4d7b-9655-1d03f7457aac\",\"type\":\"Toolbar\"},\"x_range\":{\"id\":\"a961d5c6-bb02-43bd-ad22-516f7367030e\",\"type\":\"DataRange1d\"},\"x_scale\":{\"id\":\"3e895d93-f97a-4f12-9b93-cb5b3fab55b1\",\"type\":\"LinearScale\"},\"y_range\":{\"id\":\"c0361286-a94b-4ae8-b3b7-11be75798211\",\"type\":\"DataRange1d\"},\"y_scale\":{\"id\":\"a09cff77-8ee3-4421-9e58-7b9f63f8ca56\",\"type\":\"LinearScale\"}},\"id\":\"c5ba0e9a-9f0a-4002-a0cc-9b7983d19c2c\",\"subtype\":\"Figure\",\"type\":\"Plot\"},{\"attributes\":{},\"id\":\"a5c944de-041e-40a3-9f2a-22c06eaafb00\",\"type\":\"UnionRenderers\"},{\"attributes\":{},\"id\":\"3c36b9c5-0d80-461e-b5fc-baebd26dd2db\",\"type\":\"Selection\"},{\"attributes\":{\"callback\":null,\"data\":{\"x\":{\"__ndarray__\":\"11prrbXWuj+llFJKKaXEP6WUUkoppcQ/vvfee++9xz/GGGOMMcbIP++99957780/AAAAAAAA0D8AAAAAAADQP4QQQgghhNA/jDHGGGOM0T8RQgghhBDSP51zzjnnnNM/nXPOOeec0z+dc84555zTPymllFJKKdU/rbXWWmut1T+ttdZaa63VP6211lprrdU/MsYYY4wx1j8yxhhjjDHWPzLGGGOMMdY/ttZaa6211j+21lprrbXWPzrnnHPOOdc/Ouecc8451z++9957773XP0IIIYQQQtg/QgghhBBC2D9CCCGEEELYP8YYY4wxxtg/SimllFJK2T9KKaWUUkrZP0oppZRSStk/zjnnnHPO2T/OOeecc87ZP1NKKaWUUto/U0oppZRS2j9TSimllFLaP1NKKaWUUto/W2uttdZa2z9ba6211lrbP1trrbXWWts/33vvvffe2z/nnHPOOefcP2uttdZaa90/a6211lpr3T9rrbXWWmvdP2uttdZaa90/a6211lpr3T/vvffee+/dP++99957790/77333nvv3T90zjnnnHPeP3TOOeecc94/dM4555xz3j9877333nvfPwAAAAAAAOA/QgghhBBC4D+EEEIIIYTgP4QQQgghhOA/hBBCCCGE4D+EEEIIIYTgP8YYY4wxxuA/xhhjjDHG4D/GGGOMMcbgP8YYY4wxxuA/CCGEEEII4T9KKaWUUkrhP4wxxhhjjOE/EUIIIYQQ4j8RQgghhBDiP1NKKaWUUuI/lVJKKaWU4j+VUkoppZTiP9daa6211uI/11prrbXW4j/XWmuttdbiP9daa6211uI/W2uttdZa4z9ba6211lrjP1trrbXWWuM/W2uttdZa4z/fe++9997jP2OMMcYYY+Q/Y4wxxhhj5D9jjDHGGGPkP2OMMcYYY+Q/55xzzjnn5D/nnHPOOefkPymllFJKKeU/rbXWWmut5T8yxhhjjDHmP7bWWmutteY/+N5777335j8655xzzjnnP7733nvvvec/AAAAAAAA6D/GGGOMMcboP8YYY4wxxug/CCGEEEII6T8=\",\"dtype\":\"float64\",\"shape\":[100]},\"y\":{\"__ndarray__\":\"exSuR+F6hD97FK5H4XqUP7gehetRuJ4/exSuR+F6pD+amZmZmZmpP7gehetRuK4/7FG4HoXrsT97FK5H4Xq0PwrXo3A9Crc/mpmZmZmZuT8pXI/C9Si8P7gehetRuL4/pHA9CtejwD/sUbgehevBPzMzMzMzM8M/exSuR+F6xD/D9Shcj8LFPwrXo3A9Csc/UrgehetRyD+amZmZmZnJP+F6FK5H4co/KVyPwvUozD9xPQrXo3DNP7gehetRuM4/AAAAAAAA0D+kcD0K16PQP0jhehSuR9E/7FG4HoXr0T+PwvUoXI/SPzMzMzMzM9M/16NwPQrX0z97FK5H4XrUPx+F61G4HtU/w/UoXI/C1T9mZmZmZmbWPwrXo3A9Ctc/rkfhehSu1z9SuB6F61HYP/YoXI/C9dg/mpmZmZmZ2T89CtejcD3aP+F6FK5H4do/hetRuB6F2z8pXI/C9SjcP83MzMzMzNw/cT0K16Nw3T8UrkfhehTeP7gehetRuN4/XI/C9Shc3z8AAAAAAADgP1K4HoXrUeA/pHA9Ctej4D/2KFyPwvXgP0jhehSuR+E/mpmZmZmZ4T/sUbgehevhPz0K16NwPeI/j8L1KFyP4j/hehSuR+HiPzMzMzMzM+M/hetRuB6F4z/Xo3A9CtfjPylcj8L1KOQ/exSuR+F65D/NzMzMzMzkPx+F61G4HuU/cT0K16Nw5T/D9Shcj8LlPxSuR+F6FOY/ZmZmZmZm5j+4HoXrUbjmPwrXo3A9Cuc/XI/C9Shc5z+uR+F6FK7nPwAAAAAAAOg/UrgehetR6D+kcD0K16PoP/YoXI/C9eg/SOF6FK5H6T+amZmZmZnpP+xRuB6F6+k/PQrXo3A96j+PwvUoXI/qP+F6FK5H4eo/MzMzMzMz6z+F61G4HoXrP9ejcD0K1+s/KVyPwvUo7D97FK5H4XrsP83MzMzMzOw/H4XrUbge7T9xPQrXo3DtP8P1KFyPwu0/FK5H4XoU7j9mZmZmZmbuP7gehetRuO4/CtejcD0K7z9cj8L1KFzvP65H4XoUru8/AAAAAAAA8D8=\",\"dtype\":\"float64\",\"shape\":[100]}},\"selected\":{\"id\":\"02e0dd06-29c9-4fec-b8e9-ff36aae66f73\",\"type\":\"Selection\"},\"selection_policy\":{\"id\":\"9df933f3-5b94-4b3d-8528-e14082107bc5\",\"type\":\"UnionRenderers\"}},\"id\":\"bc155141-b2cd-47e3-b398-e8504f964225\",\"type\":\"ColumnDataSource\"},{\"attributes\":{\"plot\":{\"id\":\"c5ba0e9a-9f0a-4002-a0cc-9b7983d19c2c\",\"subtype\":\"Figure\",\"type\":\"Plot\"},\"ticker\":{\"id\":\"10ccbf9c-9595-4ccf-b7d3-f47fe0e99ed5\",\"type\":\"BasicTicker\"}},\"id\":\"3583773a-97d9-4ffd-ba87-6a65c832670e\",\"type\":\"Grid\"},{\"attributes\":{\"fill_color\":{\"value\":\"#1f77b4\"},\"line_alpha\":{\"value\":0},\"line_color\":{\"value\":\"#1f77b4\"},\"x\":{\"field\":\"x\"},\"y\":{\"field\":\"y\"}},\"id\":\"3928037c-67ec-4e73-92e0-7af3ec3295d1\",\"type\":\"Circle\"},{\"attributes\":{\"callback\":null,\"data\":{\"x\":{\"__ndarray__\":\"AAAAAAAAAACEEEIIIYSAP4QQQgghhJA/xhhjjDHGmD/GGGOMMcaYP4QQQgghhKA/hBBCCCGEoD+llFJKKaWkP6WUUkoppaQ/xhhjjDHGqD/GGGOMMcaoP8YYY4wxxqg/xhhjjDHGqD/nnHPOOeesP+ecc84556w/55xzzjnnrD+EEEIIIYSwP4QQQgghhLA/hBBCCCGEsD+EEEIIIYSwP4QQQgghhLA/ttZaa621tj+21lprrbW2P8YYY4wxxrg/xhhjjDHGuD/XWmuttda6P9daa6211ro/11prrbXWuj/43nvvvfe+P/jee++9974/hBBCCCGEwD+MMcYYY4zBP5VSSimllMI/lVJKKaWUwj+VUkoppZTCP5VSSimllMI/lVJKKaWUwj+VUkoppZTCP5VSSimllMI/lVJKKaWUwj+llFJKKaXEP6WUUkoppcQ/rbXWWmutxT+ttdZaa63FP6211lprrcU/ttZaa621xj+21lprrbXGP7733nvvvcc/vvfee++9xz++9957773HP8YYY4wxxsg/xhhjjDHGyD/GGGOMMcbIP84555xzzsk/zjnnnHPOyT/OOeecc87JP84555xzzsk/11prrbXWyj/XWmuttdbKP99777333ss/55xzzjnnzD/nnHPOOefMP+ecc84558w/77333nvvzT/43nvvvffOPwAAAAAAANA/AAAAAAAA0D+EEEIIIYTQP4QQQgghhNA/CCGEEEII0T8IIYQQQgjRPxFCCCGEENI/nXPOOeec0z+dc84555zTP51zzjnnnNM/IYQQQggh1D8hhBBCCCHUP6WUUkoppdQ/rbXWWmut1T+ttdZaa63VP6211lprrdU/MsYYY4wx1j8yxhhjjDHWPzLGGGOMMdY/MsYYY4wx1j8655xzzjnXPzrnnHPOOdc/Ouecc8451z9CCCGEEELYP8YYY4wxxtg/W2uttdZa2z9ba6211lrbP2OMMcYYY9w/Y4wxxhhj3D9rrbXWWmvdPxFCCCGEEOI/EUIIIYQQ4j/fe++9997jP2uttdZaa+U/EUIIIYQQ6j8=\",\"dtype\":\"float64\",\"shape\":[100]},\"y\":{\"__ndarray__\":\"exSuR+F6hD97FK5H4XqUP7gehetRuJ4/exSuR+F6pD+amZmZmZmpP7gehetRuK4/7FG4HoXrsT97FK5H4Xq0PwrXo3A9Crc/mpmZmZmZuT8pXI/C9Si8P7gehetRuL4/pHA9CtejwD/sUbgehevBPzMzMzMzM8M/exSuR+F6xD/D9Shcj8LFPwrXo3A9Csc/UrgehetRyD+amZmZmZnJP+F6FK5H4co/KVyPwvUozD9xPQrXo3DNP7gehetRuM4/AAAAAAAA0D+kcD0K16PQP0jhehSuR9E/7FG4HoXr0T+PwvUoXI/SPzMzMzMzM9M/16NwPQrX0z97FK5H4XrUPx+F61G4HtU/w/UoXI/C1T9mZmZmZmbWPwrXo3A9Ctc/rkfhehSu1z9SuB6F61HYP/YoXI/C9dg/mpmZmZmZ2T89CtejcD3aP+F6FK5H4do/hetRuB6F2z8pXI/C9SjcP83MzMzMzNw/cT0K16Nw3T8UrkfhehTeP7gehetRuN4/XI/C9Shc3z8AAAAAAADgP1K4HoXrUeA/pHA9Ctej4D/2KFyPwvXgP0jhehSuR+E/mpmZmZmZ4T/sUbgehevhPz0K16NwPeI/j8L1KFyP4j/hehSuR+HiPzMzMzMzM+M/hetRuB6F4z/Xo3A9CtfjPylcj8L1KOQ/exSuR+F65D/NzMzMzMzkPx+F61G4HuU/cT0K16Nw5T/D9Shcj8LlPxSuR+F6FOY/ZmZmZmZm5j+4HoXrUbjmPwrXo3A9Cuc/XI/C9Shc5z+uR+F6FK7nPwAAAAAAAOg/UrgehetR6D+kcD0K16PoP/YoXI/C9eg/SOF6FK5H6T+amZmZmZnpP+xRuB6F6+k/PQrXo3A96j+PwvUoXI/qP+F6FK5H4eo/MzMzMzMz6z+F61G4HoXrP9ejcD0K1+s/KVyPwvUo7D97FK5H4XrsP83MzMzMzOw/H4XrUbge7T9xPQrXo3DtP8P1KFyPwu0/FK5H4XoU7j9mZmZmZmbuP7gehetRuO4/CtejcD0K7z9cj8L1KFzvP65H4XoUru8/AAAAAAAA8D8=\",\"dtype\":\"float64\",\"shape\":[100]}},\"selected\":{\"id\":\"2bae074f-3df6-42d2-accc-a96a29f9d8b4\",\"type\":\"Selection\"},\"selection_policy\":{\"id\":\"e2075305-d1ab-4a84-8527-4aa8523fe82b\",\"type\":\"UnionRenderers\"}},\"id\":\"d64ecc9b-217d-4c58-9cd4-6669669cce04\",\"type\":\"ColumnDataSource\"},{\"attributes\":{\"fill_alpha\":{\"value\":0.1},\"fill_color\":{\"value\":\"#1f77b4\"},\"line_alpha\":{\"value\":0.1},\"line_color\":{\"value\":\"#1f77b4\"},\"x\":{\"field\":\"x\"},\"y\":{\"field\":\"y\"}},\"id\":\"9def7ab7-c317-4f75-ae9c-38baf4f9c87f\",\"type\":\"Circle\"},{\"attributes\":{\"data_source\":{\"id\":\"bc155141-b2cd-47e3-b398-e8504f964225\",\"type\":\"ColumnDataSource\"},\"glyph\":{\"id\":\"3928037c-67ec-4e73-92e0-7af3ec3295d1\",\"type\":\"Circle\"},\"hover_glyph\":null,\"muted_glyph\":null,\"nonselection_glyph\":{\"id\":\"9def7ab7-c317-4f75-ae9c-38baf4f9c87f\",\"type\":\"Circle\"},\"selection_glyph\":null,\"view\":{\"id\":\"dda8aa83-4a2d-478a-8708-5507038f019b\",\"type\":\"CDSView\"}},\"id\":\"0082c716-a0c1-4a34-ba53-755b98c6a0f4\",\"type\":\"GlyphRenderer\"},{\"attributes\":{\"active_drag\":\"auto\",\"active_inspect\":\"auto\",\"active_multi\":null,\"active_scroll\":\"auto\",\"active_tap\":\"auto\",\"tools\":[{\"id\":\"84be7400-6a68-4d39-ac62-2d7fc8799b51\",\"type\":\"PanTool\"},{\"id\":\"2185a177-d4a7-4b5d-9368-5b2b8a02c240\",\"type\":\"WheelZoomTool\"},{\"id\":\"53377cf2-2749-4c39-a124-684ce654867e\",\"type\":\"BoxZoomTool\"},{\"id\":\"c57e2edc-700d-4bfe-adc9-ac11eed61e57\",\"type\":\"SaveTool\"},{\"id\":\"5cfe6ba4-baaf-47c5-aad0-89ef66259e69\",\"type\":\"ResetTool\"},{\"id\":\"42586ae3-4d4b-4085-9e57-188373c4d384\",\"type\":\"HelpTool\"}]},\"id\":\"99242fa4-d5b2-4d7b-9655-1d03f7457aac\",\"type\":\"Toolbar\"},{\"attributes\":{\"source\":{\"id\":\"bc155141-b2cd-47e3-b398-e8504f964225\",\"type\":\"ColumnDataSource\"}},\"id\":\"dda8aa83-4a2d-478a-8708-5507038f019b\",\"type\":\"CDSView\"},{\"attributes\":{\"fill_color\":{\"value\":\"#f46d43\"},\"line_alpha\":{\"value\":0},\"line_color\":{\"value\":\"#f46d43\"},\"x\":{\"field\":\"x\"},\"y\":{\"field\":\"y\"}},\"id\":\"e6ca396f-c567-4a6c-97d9-78fe66199f20\",\"type\":\"Circle\"},{\"attributes\":{},\"id\":\"e2075305-d1ab-4a84-8527-4aa8523fe82b\",\"type\":\"UnionRenderers\"},{\"attributes\":{},\"id\":\"2bae074f-3df6-42d2-accc-a96a29f9d8b4\",\"type\":\"Selection\"},{\"attributes\":{},\"id\":\"3e895d93-f97a-4f12-9b93-cb5b3fab55b1\",\"type\":\"LinearScale\"},{\"attributes\":{\"label\":{\"value\":\"AVA\"},\"renderers\":[{\"id\":\"0082c716-a0c1-4a34-ba53-755b98c6a0f4\",\"type\":\"GlyphRenderer\"}]},\"id\":\"2a0ee334-660d-4454-84b1-2c3ecef1d87b\",\"type\":\"LegendItem\"},{\"attributes\":{\"callback\":null},\"id\":\"c0361286-a94b-4ae8-b3b7-11be75798211\",\"type\":\"DataRange1d\"},{\"attributes\":{},\"id\":\"a09cff77-8ee3-4421-9e58-7b9f63f8ca56\",\"type\":\"LinearScale\"},{\"attributes\":{\"axis_label\":\"probability of reversal\",\"formatter\":{\"id\":\"7ea8bdbc-b5ad-452c-ba07-4cb2473de1ed\",\"type\":\"BasicTickFormatter\"},\"plot\":{\"id\":\"c5ba0e9a-9f0a-4002-a0cc-9b7983d19c2c\",\"subtype\":\"Figure\",\"type\":\"Plot\"},\"ticker\":{\"id\":\"10ccbf9c-9595-4ccf-b7d3-f47fe0e99ed5\",\"type\":\"BasicTicker\"}},\"id\":\"2d4c92f8-d4cb-4aed-a921-78b1a60f01b2\",\"type\":\"LinearAxis\"},{\"attributes\":{},\"id\":\"9df933f3-5b94-4b3d-8528-e14082107bc5\",\"type\":\"UnionRenderers\"},{\"attributes\":{\"callback\":null},\"id\":\"a961d5c6-bb02-43bd-ad22-516f7367030e\",\"type\":\"DataRange1d\"},{\"attributes\":{},\"id\":\"10ccbf9c-9595-4ccf-b7d3-f47fe0e99ed5\",\"type\":\"BasicTicker\"},{\"attributes\":{\"axis_label\":\"ECDF\",\"formatter\":{\"id\":\"01004d2d-2204-4cfd-8a00-8eeccbd91048\",\"type\":\"BasicTickFormatter\"},\"plot\":{\"id\":\"c5ba0e9a-9f0a-4002-a0cc-9b7983d19c2c\",\"subtype\":\"Figure\",\"type\":\"Plot\"},\"ticker\":{\"id\":\"7918e59a-5f09-4c1e-aaa2-e9d91ba94fd7\",\"type\":\"BasicTicker\"}},\"id\":\"58a30ccb-ef01-4b9e-ba36-6fdf2e67c4fb\",\"type\":\"LinearAxis\"},{\"attributes\":{},\"id\":\"02e0dd06-29c9-4fec-b8e9-ff36aae66f73\",\"type\":\"Selection\"},{\"attributes\":{},\"id\":\"7918e59a-5f09-4c1e-aaa2-e9d91ba94fd7\",\"type\":\"BasicTicker\"},{\"attributes\":{\"dimension\":1,\"plot\":{\"id\":\"c5ba0e9a-9f0a-4002-a0cc-9b7983d19c2c\",\"subtype\":\"Figure\",\"type\":\"Plot\"},\"ticker\":{\"id\":\"7918e59a-5f09-4c1e-aaa2-e9d91ba94fd7\",\"type\":\"BasicTicker\"}},\"id\":\"c20a15aa-6513-45df-9eda-07a0c0d95b0e\",\"type\":\"Grid\"},{\"attributes\":{\"fill_alpha\":{\"value\":0.1},\"fill_color\":{\"value\":\"#1f77b4\"},\"line_alpha\":{\"value\":0.1},\"line_color\":{\"value\":\"#1f77b4\"},\"x\":{\"field\":\"x\"},\"y\":{\"field\":\"y\"}},\"id\":\"8b4b7b22-c3c7-4784-bfa3-fa818e4147bf\",\"type\":\"Circle\"},{\"attributes\":{\"items\":[{\"id\":\"b17cc961-c37d-467c-86ce-ab1e568abc57\",\"type\":\"LegendItem\"},{\"id\":\"2dcea4a5-ccd6-4488-b1d6-8ce45de8c2c7\",\"type\":\"LegendItem\"},{\"id\":\"2a0ee334-660d-4454-84b1-2c3ecef1d87b\",\"type\":\"LegendItem\"}],\"plot\":{\"id\":\"c5ba0e9a-9f0a-4002-a0cc-9b7983d19c2c\",\"subtype\":\"Figure\",\"type\":\"Plot\"}},\"id\":\"a9b4bc8e-3bcf-4a04-880e-fd8928eb2899\",\"type\":\"Legend\"},{\"attributes\":{\"callback\":null,\"data\":{\"x\":{\"__ndarray__\":\"AAAAAAAAAAAAAAAAAAAAAAAAAAAAAAAAAAAAAAAAAAAAAAAAAAAAAAAAAAAAAAAAAAAAAAAAAAAAAAAAAAAAAAAAAAAAAAAAAAAAAAAAAAAAAAAAAAAAABAEQRAEQYA/EARBEARBgD8QBEEQBEGAPxAEQRAEQYA/EARBEARBgD8QBEEQBEGAPxAEQRAEQZA/EARBEARBkD8QBEEQBEGQPxiGYRiGYZg/GIZhGIZhmD8YhmEYhmGYPxiGYRiGYZg/EARBEARBoD8QBEEQBEGgPxAEQRAEQaA/EARBEARBoD8QBEEQBEGgPxAEQRAEQaA/FEVRFEVRpD8YhmEYhmGoPxiGYRiGYag/GIZhGIZhqD8YhmEYhmGoPxzHcRzHcaw/HMdxHMdxrD8cx3Ecx3GsPxzHcRzHcaw/EARBEARBsD8QBEEQBEGwPxAEQRAEQbA/EARBEARBsD+SJEmSJEmyP5IkSZIkSbI/kiRJkiRJsj8URVEURVG0PxRFURRFUbQ/lmVZlmVZtj+WZVmWZVm2P5ZlWZZlWbY/GIZhGIZhuD8YhmEYhmG4P5qmaZqmabo/mqZpmqZpuj+apmmapmm6P5qmaZqmabo/mqZpmqZpuj+apmmapmm6PxzHcRzHcbw/HMdxHMdxvD8cx3Ecx3G8P57neZ7neb4/nud5nud5vj+e53me53m+P57neZ7neb4/nud5nud5vj+e53me53m+P1EURVEURcE/URRFURRFwT+SJEmSJEnCP5IkSZIkScI/kiRJkiRJwj+SJEmSJEnCP9M0TdM0TcM/FEVRFEVRxD8URVEURVHEPxRFURRFUcQ/VVVVVVVVxT+WZVmWZVnGP1mWZVmWZck/WZZlWZZlyT9ZlmVZlmXJP1mWZVmWZck/mqZpmqZpyj/btm3btm3LP13XdV3Xdc0/nud5nud5zj/f933f933PPxAEQRAEQdA/chzHcRzH0T9yHMdxHMfRP9M0TdM0TdM/9DzP8zzP0z8URVEURVHUPzVN0zRN09Q/dl3XdV3X1T8YhmEYhmHYP7uu67qu69o/IQiCIAiC4D8=\",\"dtype\":\"float64\",\"shape\":[100]},\"y\":{\"__ndarray__\":\"exSuR+F6hD97FK5H4XqUP7gehetRuJ4/exSuR+F6pD+amZmZmZmpP7gehetRuK4/7FG4HoXrsT97FK5H4Xq0PwrXo3A9Crc/mpmZmZmZuT8pXI/C9Si8P7gehetRuL4/pHA9CtejwD/sUbgehevBPzMzMzMzM8M/exSuR+F6xD/D9Shcj8LFPwrXo3A9Csc/UrgehetRyD+amZmZmZnJP+F6FK5H4co/KVyPwvUozD9xPQrXo3DNP7gehetRuM4/AAAAAAAA0D+kcD0K16PQP0jhehSuR9E/7FG4HoXr0T+PwvUoXI/SPzMzMzMzM9M/16NwPQrX0z97FK5H4XrUPx+F61G4HtU/w/UoXI/C1T9mZmZmZmbWPwrXo3A9Ctc/rkfhehSu1z9SuB6F61HYP/YoXI/C9dg/mpmZmZmZ2T89CtejcD3aP+F6FK5H4do/hetRuB6F2z8pXI/C9SjcP83MzMzMzNw/cT0K16Nw3T8UrkfhehTeP7gehetRuN4/XI/C9Shc3z8AAAAAAADgP1K4HoXrUeA/pHA9Ctej4D/2KFyPwvXgP0jhehSuR+E/mpmZmZmZ4T/sUbgehevhPz0K16NwPeI/j8L1KFyP4j/hehSuR+HiPzMzMzMzM+M/hetRuB6F4z/Xo3A9CtfjPylcj8L1KOQ/exSuR+F65D/NzMzMzMzkPx+F61G4HuU/cT0K16Nw5T/D9Shcj8LlPxSuR+F6FOY/ZmZmZmZm5j+4HoXrUbjmPwrXo3A9Cuc/XI/C9Shc5z+uR+F6FK7nPwAAAAAAAOg/UrgehetR6D+kcD0K16PoP/YoXI/C9eg/SOF6FK5H6T+amZmZmZnpP+xRuB6F6+k/PQrXo3A96j+PwvUoXI/qP+F6FK5H4eo/MzMzMzMz6z+F61G4HoXrP9ejcD0K1+s/KVyPwvUo7D97FK5H4XrsP83MzMzMzOw/H4XrUbge7T9xPQrXo3DtP8P1KFyPwu0/FK5H4XoU7j9mZmZmZmbuP7gehetRuO4/CtejcD0K7z9cj8L1KFzvP65H4XoUru8/AAAAAAAA8D8=\",\"dtype\":\"float64\",\"shape\":[100]}},\"selected\":{\"id\":\"3c36b9c5-0d80-461e-b5fc-baebd26dd2db\",\"type\":\"Selection\"},\"selection_policy\":{\"id\":\"a5c944de-041e-40a3-9f2a-22c06eaafb00\",\"type\":\"UnionRenderers\"}},\"id\":\"77092fde-178e-471a-a710-7f165458cf02\",\"type\":\"ColumnDataSource\"},{\"attributes\":{},\"id\":\"7ea8bdbc-b5ad-452c-ba07-4cb2473de1ed\",\"type\":\"BasicTickFormatter\"},{\"attributes\":{},\"id\":\"84be7400-6a68-4d39-ac62-2d7fc8799b51\",\"type\":\"PanTool\"},{\"attributes\":{\"source\":{\"id\":\"77092fde-178e-471a-a710-7f165458cf02\",\"type\":\"ColumnDataSource\"}},\"id\":\"90845084-a8f1-416a-855d-52a6001a8601\",\"type\":\"CDSView\"},{\"attributes\":{},\"id\":\"2185a177-d4a7-4b5d-9368-5b2b8a02c240\",\"type\":\"WheelZoomTool\"},{\"attributes\":{\"overlay\":{\"id\":\"29d028af-a302-40ef-93e2-54e650534e0f\",\"type\":\"BoxAnnotation\"}},\"id\":\"53377cf2-2749-4c39-a124-684ce654867e\",\"type\":\"BoxZoomTool\"},{\"attributes\":{},\"id\":\"c57e2edc-700d-4bfe-adc9-ac11eed61e57\",\"type\":\"SaveTool\"},{\"attributes\":{},\"id\":\"5cfe6ba4-baaf-47c5-aad0-89ef66259e69\",\"type\":\"ResetTool\"},{\"attributes\":{},\"id\":\"42586ae3-4d4b-4085-9e57-188373c4d384\",\"type\":\"HelpTool\"},{\"attributes\":{\"bottom_units\":\"screen\",\"fill_alpha\":{\"value\":0.5},\"fill_color\":{\"value\":\"lightgrey\"},\"left_units\":\"screen\",\"level\":\"overlay\",\"line_alpha\":{\"value\":1.0},\"line_color\":{\"value\":\"black\"},\"line_dash\":[4,4],\"line_width\":{\"value\":2},\"plot\":null,\"render_mode\":\"css\",\"right_units\":\"screen\",\"top_units\":\"screen\"},\"id\":\"29d028af-a302-40ef-93e2-54e650534e0f\",\"type\":\"BoxAnnotation\"}],\"root_ids\":[\"c5ba0e9a-9f0a-4002-a0cc-9b7983d19c2c\"]},\"title\":\"Bokeh Application\",\"version\":\"0.13.0\"}};\n",
       "  var render_items = [{\"docid\":\"c31f5f15-bbc1-4bc0-9f11-325706d339ea\",\"roots\":{\"c5ba0e9a-9f0a-4002-a0cc-9b7983d19c2c\":\"6e3cce8a-9811-4776-bce2-12f8e1fa62b3\"}}];\n",
       "  root.Bokeh.embed.embed_items_notebook(docs_json, render_items);\n",
       "\n",
       "  }\n",
       "  if (root.Bokeh !== undefined) {\n",
       "    embed_document(root);\n",
       "  } else {\n",
       "    var attempts = 0;\n",
       "    var timer = setInterval(function(root) {\n",
       "      if (root.Bokeh !== undefined) {\n",
       "        embed_document(root);\n",
       "        clearInterval(timer);\n",
       "      }\n",
       "      attempts++;\n",
       "      if (attempts > 100) {\n",
       "        console.log(\"Bokeh: ERROR: Unable to run BokehJS code because BokehJS library is missing\")\n",
       "        clearInterval(timer);\n",
       "      }\n",
       "    }, 10, root)\n",
       "  }\n",
       "})(window);"
      ],
      "application/vnd.bokehjs_exec.v0+json": ""
     },
     "metadata": {
      "application/vnd.bokehjs_exec.v0+json": {
       "id": "c5ba0e9a-9f0a-4002-a0cc-9b7983d19c2c"
      }
     },
     "output_type": "display_data"
    }
   ],
   "source": [
    "n_ppc_samples = 1000\n",
    "\n",
    "for i in range(3):\n",
    "    # Draw parameters out of the prior\n",
    "    theta = np.random.beta(a_array[i], b_array[i], size=100)\n",
    "    # Draw data sets out of the likelihood for theta we drew out of the prior\n",
    "    n = [np.random.binomial(N_array[i], t)/N_array[i] for t in theta]\n",
    "    \n",
    "    # graph all three \n",
    "    if i == 0:\n",
    "        prior = bebi103.viz.ecdf(n, \n",
    "                             x_axis_label='probability of reversal',\n",
    "                             color = \"#f46d43\",\n",
    "                             legend= \"WT\",\n",
    "                             alpha=1, \n",
    "                             line_alpha=0)\n",
    "    elif i == 1:\n",
    "        prior = bebi103.viz.ecdf(n, \n",
    "                             x_axis_label='probability of reversal',\n",
    "                             p = prior,\n",
    "                             color = \"#249d43\", \n",
    "                             legend= \"ASH\",\n",
    "                             alpha=1,\n",
    "                             line_alpha=0)\n",
    "    else:\n",
    "        prior = bebi103.viz.ecdf(n, \n",
    "                             x_axis_label='probability of reversal',\n",
    "                             p = prior,\n",
    "                             legend= \"AVA\",\n",
    "                             alpha=1,\n",
    "                             line_alpha=0)\n",
    "bokeh.io.show(prior)"
   ]
  },
  {
   "cell_type": "markdown",
   "metadata": {},
   "source": [
    "This looks how we expected, with the WT having very low probabilities of reversal, the ASH having higher probabilities, and the AVA being about twice as likely as the ASH to reverse, so we can now move on to our analysis!"
   ]
  },
  {
   "cell_type": "markdown",
   "metadata": {},
   "source": [
    "<p style=\"background-color:#D9EDF7\">\n",
    "This looks perfect! 5/5\n",
    "</p>"
   ]
  },
  {
   "cell_type": "markdown",
   "metadata": {},
   "source": [
    "<p style=\"background-color:#D9EDF7\">\n",
    "I see from your code that you picked binomial for the reversal model, but you should have discussed this explicitly. For missing that I'll just take off 1 point. (4/5 for choosing the model).\n",
    "    Overall for (a): 24/25\n",
    "</p>"
   ]
  },
  {
   "cell_type": "markdown",
   "metadata": {},
   "source": [
    "**B) Plot the posterior probability density function for each of the three strains. What can you conclude from this?**"
   ]
  },
  {
   "cell_type": "code",
   "execution_count": 8,
   "metadata": {},
   "outputs": [],
   "source": [
    "# we will sample values for 200 thetas from 0.01 to 0.99\n",
    "theta_array = np.linspace(0.01, 0.99, num=200)\n",
    "\n",
    "output = [] # will contain three arrays, sampled from the three strands\n",
    "\n",
    "for i in range(3):\n",
    "    pp = []\n",
    "\n",
    "    for t in theta_array:\n",
    "        # Prior on each theta\n",
    "        log_prior = st.beta.logpdf(t, a_array[i], b_array[i])\n",
    "\n",
    "        # The log_likelihood is just the binomial distribution\n",
    "        log_like = np.sum(st.binom.logpmf(n_array[i], N_array[i], t))\n",
    "\n",
    "        pp.append(log_prior + log_like)\n",
    "    \n",
    "    # append the posterior data points array for one stand to the output array\n",
    "    output.append(pp)  # need to exp becuase you don't want to plot the log"
   ]
  },
  {
   "cell_type": "markdown",
   "metadata": {},
   "source": [
    "We can compute the normalization constant (conceptually, the area under the curve of our line). Since we want to plot the probability density, we want the area under the curve to be equal to 1, so we divide our trial values by the normalization constant."
   ]
  },
  {
   "cell_type": "code",
   "execution_count": 9,
   "metadata": {},
   "outputs": [],
   "source": [
    "# function that takes in the raw log_prior + log_like data and \n",
    "# normalizes it using a marginalization constant.\n",
    "def normalize(data):\n",
    "    trial = np.exp((data - np.array(data).max()))\n",
    "    \n",
    "    # Compute marginalized posterior\n",
    "    norm_constant = np.trapz(trial, x=theta_array)\n",
    "    # Normalize raw data\n",
    "    trial_norm = trial / norm_constant\n",
    "    return trial_norm"
   ]
  },
  {
   "cell_type": "markdown",
   "metadata": {},
   "source": [
    "<p style=\"background-color:#D9EDF7\">\n",
    "please use markdown cells between everey code cell!\n",
    "</p>"
   ]
  },
  {
   "cell_type": "code",
   "execution_count": 10,
   "metadata": {},
   "outputs": [],
   "source": [
    "# call the above function for each strand to get the normalized output\n",
    "trial_wt_norm = normalize(output[0])\n",
    "trial_ash_norm = normalize(output[1])\n",
    "trial_ava_norm = normalize(output[2])"
   ]
  },
  {
   "cell_type": "markdown",
   "metadata": {},
   "source": [
    "We can now plot our completed posterior probability density functions for each strain."
   ]
  },
  {
   "cell_type": "code",
   "execution_count": 11,
   "metadata": {},
   "outputs": [
    {
     "data": {
      "text/html": [
       "\n",
       "\n",
       "\n",
       "\n",
       "\n",
       "\n",
       "  <div class=\"bk-root\" id=\"1b8907fc-20a8-48d4-b654-62b614b9d2e8\"></div>\n"
      ]
     },
     "metadata": {},
     "output_type": "display_data"
    },
    {
     "data": {
      "application/javascript": [
       "(function(root) {\n",
       "  function embed_document(root) {\n",
       "    \n",
       "  var docs_json = {\"6c37ae2e-d65b-4cd2-be80-52ebf75da9b5\":{\"roots\":{\"references\":[{\"attributes\":{\"data_source\":{\"id\":\"f3acdbb7-10ce-4efa-97d2-b5c795bad152\",\"type\":\"ColumnDataSource\"},\"glyph\":{\"id\":\"83294600-cf08-465d-abfa-4ceb754dd4e8\",\"type\":\"Line\"},\"hover_glyph\":null,\"muted_glyph\":null,\"nonselection_glyph\":{\"id\":\"740ae6b9-bd3e-4024-b51c-ea31b7d7e3eb\",\"type\":\"Line\"},\"selection_glyph\":null,\"view\":{\"id\":\"f55ca2d7-b6ea-45dc-9074-4556d443da87\",\"type\":\"CDSView\"}},\"id\":\"29a77091-e940-4066-8d4b-8b6d7fee353b\",\"type\":\"GlyphRenderer\"},{\"attributes\":{\"line_color\":\"#f46d43\",\"line_width\":2,\"x\":{\"field\":\"x\"},\"y\":{\"field\":\"y\"}},\"id\":\"83294600-cf08-465d-abfa-4ceb754dd4e8\",\"type\":\"Line\"},{\"attributes\":{\"line_alpha\":0.1,\"line_color\":\"#1f77b4\",\"line_width\":2,\"x\":{\"field\":\"x\"},\"y\":{\"field\":\"y\"}},\"id\":\"740ae6b9-bd3e-4024-b51c-ea31b7d7e3eb\",\"type\":\"Line\"},{\"attributes\":{\"items\":[{\"id\":\"d6e03f37-5023-4e6b-a2d1-b47854511cd5\",\"type\":\"LegendItem\"},{\"id\":\"021b4a7f-4dfa-4de6-8d29-3a41ffe3665b\",\"type\":\"LegendItem\"},{\"id\":\"ea417a26-33df-44ca-98ec-cf899671aa66\",\"type\":\"LegendItem\"}],\"plot\":{\"id\":\"0db89d61-4e5c-4e1f-9544-f81a2469680e\",\"subtype\":\"Figure\",\"type\":\"Plot\"}},\"id\":\"48a98ca8-fc9d-4ab7-9189-54c97c101fc3\",\"type\":\"Legend\"},{\"attributes\":{\"plot\":null,\"text\":\"\"},\"id\":\"c075b804-bc2d-4209-ade6-e5f692d5004d\",\"type\":\"Title\"},{\"attributes\":{\"below\":[{\"id\":\"2c0f4c79-dcc8-4e1d-b2bf-c162988c2129\",\"type\":\"LinearAxis\"}],\"left\":[{\"id\":\"77cff1ed-c229-419a-b2fb-f4ccf9b3ff9f\",\"type\":\"LinearAxis\"}],\"plot_height\":400,\"renderers\":[{\"id\":\"2c0f4c79-dcc8-4e1d-b2bf-c162988c2129\",\"type\":\"LinearAxis\"},{\"id\":\"c1b5b6b3-109b-4a6c-a60b-26677039557f\",\"type\":\"Grid\"},{\"id\":\"77cff1ed-c229-419a-b2fb-f4ccf9b3ff9f\",\"type\":\"LinearAxis\"},{\"id\":\"ea75b2ee-86c9-41d1-bd43-05caa8a09892\",\"type\":\"Grid\"},{\"id\":\"6af79aab-7ac6-4479-a010-11692b84ba62\",\"type\":\"BoxAnnotation\"},{\"id\":\"48a98ca8-fc9d-4ab7-9189-54c97c101fc3\",\"type\":\"Legend\"},{\"id\":\"29a77091-e940-4066-8d4b-8b6d7fee353b\",\"type\":\"GlyphRenderer\"},{\"id\":\"58582735-d451-4079-a988-faaa12e3498e\",\"type\":\"GlyphRenderer\"},{\"id\":\"844cffc2-7ef0-4760-bb67-6c7be2887fb1\",\"type\":\"GlyphRenderer\"}],\"title\":{\"id\":\"c075b804-bc2d-4209-ade6-e5f692d5004d\",\"type\":\"Title\"},\"toolbar\":{\"id\":\"6c79fdde-09e8-4cb7-aa56-f4262db063d4\",\"type\":\"Toolbar\"},\"x_range\":{\"id\":\"4a74c11b-9e8b-48d8-8e3f-6c0db54e475d\",\"type\":\"DataRange1d\"},\"x_scale\":{\"id\":\"da64871e-20a2-40e4-8b25-0549af4a5555\",\"type\":\"LinearScale\"},\"y_range\":{\"id\":\"0e9566e5-8804-4a96-a323-d68e639b4f1b\",\"type\":\"DataRange1d\"},\"y_scale\":{\"id\":\"76c8af76-194e-4db4-95dc-f4c3101066b1\",\"type\":\"LinearScale\"}},\"id\":\"0db89d61-4e5c-4e1f-9544-f81a2469680e\",\"subtype\":\"Figure\",\"type\":\"Plot\"},{\"attributes\":{},\"id\":\"e70e8f53-0992-43cc-bf51-1366e217434d\",\"type\":\"PanTool\"},{\"attributes\":{\"active_drag\":\"auto\",\"active_inspect\":\"auto\",\"active_multi\":null,\"active_scroll\":\"auto\",\"active_tap\":\"auto\",\"tools\":[{\"id\":\"e70e8f53-0992-43cc-bf51-1366e217434d\",\"type\":\"PanTool\"},{\"id\":\"4b8e7ba6-cebc-42ce-bba7-faa251c4bc2a\",\"type\":\"WheelZoomTool\"},{\"id\":\"913e5e32-f695-4ea4-91e2-22042c70c600\",\"type\":\"BoxZoomTool\"},{\"id\":\"e87c379c-474e-4e0c-8425-51aec434455f\",\"type\":\"SaveTool\"},{\"id\":\"f7f916a2-c8e7-4e90-80fe-de3565d859ae\",\"type\":\"ResetTool\"},{\"id\":\"50d7dece-2c48-45ac-a655-27438225b826\",\"type\":\"HelpTool\"}]},\"id\":\"6c79fdde-09e8-4cb7-aa56-f4262db063d4\",\"type\":\"Toolbar\"},{\"attributes\":{\"source\":{\"id\":\"f3acdbb7-10ce-4efa-97d2-b5c795bad152\",\"type\":\"ColumnDataSource\"}},\"id\":\"f55ca2d7-b6ea-45dc-9074-4556d443da87\",\"type\":\"CDSView\"},{\"attributes\":{},\"id\":\"4b8e7ba6-cebc-42ce-bba7-faa251c4bc2a\",\"type\":\"WheelZoomTool\"},{\"attributes\":{\"axis_label\":\"p(theta)\",\"formatter\":{\"id\":\"dffc7ced-856b-4ff8-b803-600815a55a61\",\"type\":\"BasicTickFormatter\"},\"plot\":{\"id\":\"0db89d61-4e5c-4e1f-9544-f81a2469680e\",\"subtype\":\"Figure\",\"type\":\"Plot\"},\"ticker\":{\"id\":\"5cd1e139-dbec-404a-aefb-31983a57ae0b\",\"type\":\"BasicTicker\"}},\"id\":\"77cff1ed-c229-419a-b2fb-f4ccf9b3ff9f\",\"type\":\"LinearAxis\"},{\"attributes\":{\"overlay\":{\"id\":\"6af79aab-7ac6-4479-a010-11692b84ba62\",\"type\":\"BoxAnnotation\"}},\"id\":\"913e5e32-f695-4ea4-91e2-22042c70c600\",\"type\":\"BoxZoomTool\"},{\"attributes\":{},\"id\":\"e87c379c-474e-4e0c-8425-51aec434455f\",\"type\":\"SaveTool\"},{\"attributes\":{},\"id\":\"f7f916a2-c8e7-4e90-80fe-de3565d859ae\",\"type\":\"ResetTool\"},{\"attributes\":{},\"id\":\"50d7dece-2c48-45ac-a655-27438225b826\",\"type\":\"HelpTool\"},{\"attributes\":{\"bottom_units\":\"screen\",\"fill_alpha\":{\"value\":0.5},\"fill_color\":{\"value\":\"lightgrey\"},\"left_units\":\"screen\",\"level\":\"overlay\",\"line_alpha\":{\"value\":1.0},\"line_color\":{\"value\":\"black\"},\"line_dash\":[4,4],\"line_width\":{\"value\":2},\"plot\":null,\"render_mode\":\"css\",\"right_units\":\"screen\",\"top_units\":\"screen\"},\"id\":\"6af79aab-7ac6-4479-a010-11692b84ba62\",\"type\":\"BoxAnnotation\"},{\"attributes\":{\"callback\":null,\"data\":{\"x\":{\"__ndarray__\":\"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\",\"dtype\":\"float64\",\"shape\":[200]},\"y\":{\"__ndarray__\":\"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\",\"dtype\":\"float64\",\"shape\":[200]}},\"selected\":{\"id\":\"93e4f4b6-1141-4951-8f6f-13a2c2d6389f\",\"type\":\"Selection\"},\"selection_policy\":{\"id\":\"57b5ee1e-c3fc-4b4b-aeee-244eac2ade58\",\"type\":\"UnionRenderers\"}},\"id\":\"76864274-40b1-448a-94a7-5e2b97450306\",\"type\":\"ColumnDataSource\"},{\"attributes\":{},\"id\":\"c3df49bd-79fd-49fc-bb7f-9b7584f34ed1\",\"type\":\"Selection\"},{\"attributes\":{},\"id\":\"7dd3ea73-3f88-4c22-88b9-343a25bb3060\",\"type\":\"BasicTickFormatter\"},{\"attributes\":{},\"id\":\"dffc7ced-856b-4ff8-b803-600815a55a61\",\"type\":\"BasicTickFormatter\"},{\"attributes\":{},\"id\":\"5cd1e139-dbec-404a-aefb-31983a57ae0b\",\"type\":\"BasicTicker\"},{\"attributes\":{\"label\":{\"value\":\"WT\"},\"renderers\":[{\"id\":\"29a77091-e940-4066-8d4b-8b6d7fee353b\",\"type\":\"GlyphRenderer\"}]},\"id\":\"d6e03f37-5023-4e6b-a2d1-b47854511cd5\",\"type\":\"LegendItem\"},{\"attributes\":{\"axis_label\":\"probability of reversal (theta)\",\"formatter\":{\"id\":\"7dd3ea73-3f88-4c22-88b9-343a25bb3060\",\"type\":\"BasicTickFormatter\"},\"plot\":{\"id\":\"0db89d61-4e5c-4e1f-9544-f81a2469680e\",\"subtype\":\"Figure\",\"type\":\"Plot\"},\"ticker\":{\"id\":\"d0690bb0-00c7-48ad-9cc6-b6d7e60b68d9\",\"type\":\"BasicTicker\"}},\"id\":\"2c0f4c79-dcc8-4e1d-b2bf-c162988c2129\",\"type\":\"LinearAxis\"},{\"attributes\":{},\"id\":\"d0690bb0-00c7-48ad-9cc6-b6d7e60b68d9\",\"type\":\"BasicTicker\"},{\"attributes\":{\"callback\":null,\"data\":{\"x\":{\"__ndarray__\":\"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\",\"dtype\":\"float64\",\"shape\":[200]},\"y\":{\"__ndarray__\":\"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\",\"dtype\":\"float64\",\"shape\":[200]}},\"selected\":{\"id\":\"4029ffcc-425f-49fd-9862-463b80eae3e9\",\"type\":\"Selection\"},\"selection_policy\":{\"id\":\"ce68c1b1-c28d-4276-94ef-6b60acedea53\",\"type\":\"UnionRenderers\"}},\"id\":\"78541bf4-ef98-439d-895e-dad7455dd3e8\",\"type\":\"ColumnDataSource\"},{\"attributes\":{\"line_color\":\"#249d43\",\"line_width\":2,\"x\":{\"field\":\"x\"},\"y\":{\"field\":\"y\"}},\"id\":\"b10de303-8d63-49c9-9a92-b3135855e1f3\",\"type\":\"Line\"},{\"attributes\":{\"line_alpha\":0.1,\"line_color\":\"#1f77b4\",\"line_width\":2,\"x\":{\"field\":\"x\"},\"y\":{\"field\":\"y\"}},\"id\":\"5e69128f-c1f3-49bb-b450-456c4046866a\",\"type\":\"Line\"},{\"attributes\":{\"data_source\":{\"id\":\"76864274-40b1-448a-94a7-5e2b97450306\",\"type\":\"ColumnDataSource\"},\"glyph\":{\"id\":\"b10de303-8d63-49c9-9a92-b3135855e1f3\",\"type\":\"Line\"},\"hover_glyph\":null,\"muted_glyph\":null,\"nonselection_glyph\":{\"id\":\"5e69128f-c1f3-49bb-b450-456c4046866a\",\"type\":\"Line\"},\"selection_glyph\":null,\"view\":{\"id\":\"ba4c10cf-0850-4b0d-a2db-77b4babf0c02\",\"type\":\"CDSView\"}},\"id\":\"58582735-d451-4079-a988-faaa12e3498e\",\"type\":\"GlyphRenderer\"},{\"attributes\":{\"source\":{\"id\":\"76864274-40b1-448a-94a7-5e2b97450306\",\"type\":\"ColumnDataSource\"}},\"id\":\"ba4c10cf-0850-4b0d-a2db-77b4babf0c02\",\"type\":\"CDSView\"},{\"attributes\":{\"plot\":{\"id\":\"0db89d61-4e5c-4e1f-9544-f81a2469680e\",\"subtype\":\"Figure\",\"type\":\"Plot\"},\"ticker\":{\"id\":\"d0690bb0-00c7-48ad-9cc6-b6d7e60b68d9\",\"type\":\"BasicTicker\"}},\"id\":\"c1b5b6b3-109b-4a6c-a60b-26677039557f\",\"type\":\"Grid\"},{\"attributes\":{},\"id\":\"5910da42-d8d6-4f66-9fd1-66b3297fce17\",\"type\":\"UnionRenderers\"},{\"attributes\":{\"callback\":null},\"id\":\"4a74c11b-9e8b-48d8-8e3f-6c0db54e475d\",\"type\":\"DataRange1d\"},{\"attributes\":{},\"id\":\"ce68c1b1-c28d-4276-94ef-6b60acedea53\",\"type\":\"UnionRenderers\"},{\"attributes\":{\"label\":{\"value\":\"ASH\"},\"renderers\":[{\"id\":\"58582735-d451-4079-a988-faaa12e3498e\",\"type\":\"GlyphRenderer\"}]},\"id\":\"021b4a7f-4dfa-4de6-8d29-3a41ffe3665b\",\"type\":\"LegendItem\"},{\"attributes\":{},\"id\":\"76c8af76-194e-4db4-95dc-f4c3101066b1\",\"type\":\"LinearScale\"},{\"attributes\":{},\"id\":\"93e4f4b6-1141-4951-8f6f-13a2c2d6389f\",\"type\":\"Selection\"},{\"attributes\":{\"line_color\":\"#1f77b4\",\"line_width\":2,\"x\":{\"field\":\"x\"},\"y\":{\"field\":\"y\"}},\"id\":\"cf46e24b-50a7-4bf5-b1b1-fdfffe13131b\",\"type\":\"Line\"},{\"attributes\":{\"callback\":null},\"id\":\"0e9566e5-8804-4a96-a323-d68e639b4f1b\",\"type\":\"DataRange1d\"},{\"attributes\":{\"line_alpha\":0.1,\"line_color\":\"#1f77b4\",\"line_width\":2,\"x\":{\"field\":\"x\"},\"y\":{\"field\":\"y\"}},\"id\":\"58b060f4-a623-4bf6-bf41-142c8ca31c37\",\"type\":\"Line\"},{\"attributes\":{\"data_source\":{\"id\":\"78541bf4-ef98-439d-895e-dad7455dd3e8\",\"type\":\"ColumnDataSource\"},\"glyph\":{\"id\":\"cf46e24b-50a7-4bf5-b1b1-fdfffe13131b\",\"type\":\"Line\"},\"hover_glyph\":null,\"muted_glyph\":null,\"nonselection_glyph\":{\"id\":\"58b060f4-a623-4bf6-bf41-142c8ca31c37\",\"type\":\"Line\"},\"selection_glyph\":null,\"view\":{\"id\":\"be5c7f97-d92f-46a6-b2fb-6ec55e6210ab\",\"type\":\"CDSView\"}},\"id\":\"844cffc2-7ef0-4760-bb67-6c7be2887fb1\",\"type\":\"GlyphRenderer\"},{\"attributes\":{\"source\":{\"id\":\"78541bf4-ef98-439d-895e-dad7455dd3e8\",\"type\":\"ColumnDataSource\"}},\"id\":\"be5c7f97-d92f-46a6-b2fb-6ec55e6210ab\",\"type\":\"CDSView\"},{\"attributes\":{\"dimension\":1,\"plot\":{\"id\":\"0db89d61-4e5c-4e1f-9544-f81a2469680e\",\"subtype\":\"Figure\",\"type\":\"Plot\"},\"ticker\":{\"id\":\"5cd1e139-dbec-404a-aefb-31983a57ae0b\",\"type\":\"BasicTicker\"}},\"id\":\"ea75b2ee-86c9-41d1-bd43-05caa8a09892\",\"type\":\"Grid\"},{\"attributes\":{},\"id\":\"da64871e-20a2-40e4-8b25-0549af4a5555\",\"type\":\"LinearScale\"},{\"attributes\":{},\"id\":\"57b5ee1e-c3fc-4b4b-aeee-244eac2ade58\",\"type\":\"UnionRenderers\"},{\"attributes\":{\"label\":{\"value\":\"AVA\"},\"renderers\":[{\"id\":\"844cffc2-7ef0-4760-bb67-6c7be2887fb1\",\"type\":\"GlyphRenderer\"}]},\"id\":\"ea417a26-33df-44ca-98ec-cf899671aa66\",\"type\":\"LegendItem\"},{\"attributes\":{\"callback\":null,\"data\":{\"x\":{\"__ndarray__\":\"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\",\"dtype\":\"float64\",\"shape\":[200]},\"y\":{\"__ndarray__\":\"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\",\"dtype\":\"float64\",\"shape\":[200]}},\"selected\":{\"id\":\"c3df49bd-79fd-49fc-bb7f-9b7584f34ed1\",\"type\":\"Selection\"},\"selection_policy\":{\"id\":\"5910da42-d8d6-4f66-9fd1-66b3297fce17\",\"type\":\"UnionRenderers\"}},\"id\":\"f3acdbb7-10ce-4efa-97d2-b5c795bad152\",\"type\":\"ColumnDataSource\"},{\"attributes\":{},\"id\":\"4029ffcc-425f-49fd-9862-463b80eae3e9\",\"type\":\"Selection\"}],\"root_ids\":[\"0db89d61-4e5c-4e1f-9544-f81a2469680e\"]},\"title\":\"Bokeh Application\",\"version\":\"0.13.0\"}};\n",
       "  var render_items = [{\"docid\":\"6c37ae2e-d65b-4cd2-be80-52ebf75da9b5\",\"roots\":{\"0db89d61-4e5c-4e1f-9544-f81a2469680e\":\"1b8907fc-20a8-48d4-b654-62b614b9d2e8\"}}];\n",
       "  root.Bokeh.embed.embed_items_notebook(docs_json, render_items);\n",
       "\n",
       "  }\n",
       "  if (root.Bokeh !== undefined) {\n",
       "    embed_document(root);\n",
       "  } else {\n",
       "    var attempts = 0;\n",
       "    var timer = setInterval(function(root) {\n",
       "      if (root.Bokeh !== undefined) {\n",
       "        embed_document(root);\n",
       "        clearInterval(timer);\n",
       "      }\n",
       "      attempts++;\n",
       "      if (attempts > 100) {\n",
       "        console.log(\"Bokeh: ERROR: Unable to run BokehJS code because BokehJS library is missing\")\n",
       "        clearInterval(timer);\n",
       "      }\n",
       "    }, 10, root)\n",
       "  }\n",
       "})(window);"
      ],
      "application/vnd.bokehjs_exec.v0+json": ""
     },
     "metadata": {
      "application/vnd.bokehjs_exec.v0+json": {
       "id": "0db89d61-4e5c-4e1f-9544-f81a2469680e"
      }
     },
     "output_type": "display_data"
    }
   ],
   "source": [
    "p = bokeh.plotting.figure(width=600, height=400, \n",
    "                          x_axis_label='probability of reversal (theta)', \n",
    "                          y_axis_label='p(theta)')\n",
    "\n",
    "p.line(theta_array, trial_wt_norm, line_color=\"#f46d43\", legend= \"WT\", line_width=2)\n",
    "p.line(theta_array, trial_ash_norm, line_color=\"#249d43\", legend= \"ASH\", line_width=2)\n",
    "p.line(theta_array, trial_ava_norm, legend= \"AVA\", line_width=2)\n",
    "\n",
    "bokeh.io.show(p)"
   ]
  },
  {
   "cell_type": "markdown",
   "metadata": {},
   "source": [
    "From this plot we can conclude that our priors combined with out likelihood did a good job at approximating the probability of theta. We've obtained the expected result based on the three data points we were given: WT < ASH < AVA in terms of probability of theta."
   ]
  },
  {
   "cell_type": "markdown",
   "metadata": {},
   "source": [
    "<p style=\"background-color:#D9EDF7\">\n",
    "You have some good discussion of the biology earlier in the problem, but should expand your description of the results here at the end. 10/10 for the plot, 4/5 for the biological explanation.\n",
    "    \n",
    "</p>"
   ]
  },
  {
   "cell_type": "markdown",
   "metadata": {},
   "source": [
    "<p style=\"background-color:#D9EDF7\">\n",
    "Overall score: 38/40\n",
    "</p>"
   ]
  },
  {
   "cell_type": "code",
   "execution_count": null,
   "metadata": {},
   "outputs": [],
   "source": []
  }
 ],
 "metadata": {
  "kernelspec": {
   "display_name": "Python 3",
   "language": "python",
   "name": "python3"
  },
  "language_info": {
   "codemirror_mode": {
    "name": "ipython",
    "version": 3
   },
   "file_extension": ".py",
   "mimetype": "text/x-python",
   "name": "python",
   "nbconvert_exporter": "python",
   "pygments_lexer": "ipython3",
   "version": "3.7.0"
  }
 },
 "nbformat": 4,
 "nbformat_minor": 2
}
