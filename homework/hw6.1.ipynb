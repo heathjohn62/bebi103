{
 "cells": [
  {
   "cell_type": "markdown",
   "metadata": {},
   "source": [
    "All done by Maria"
   ]
  },
  {
   "cell_type": "code",
   "execution_count": 20,
   "metadata": {},
   "outputs": [
    {
     "data": {
      "text/html": [
       "\n",
       "    <div class=\"bk-root\">\n",
       "        <a href=\"https://bokeh.pydata.org\" target=\"_blank\" class=\"bk-logo bk-logo-small bk-logo-notebook\"></a>\n",
       "        <span id=\"28944fd2-06e8-4690-b2ae-71cc4aea45da\">Loading BokehJS ...</span>\n",
       "    </div>"
      ]
     },
     "metadata": {},
     "output_type": "display_data"
    },
    {
     "data": {
      "application/javascript": [
       "\n",
       "(function(root) {\n",
       "  function now() {\n",
       "    return new Date();\n",
       "  }\n",
       "\n",
       "  var force = true;\n",
       "\n",
       "  if (typeof (root._bokeh_onload_callbacks) === \"undefined\" || force === true) {\n",
       "    root._bokeh_onload_callbacks = [];\n",
       "    root._bokeh_is_loading = undefined;\n",
       "  }\n",
       "\n",
       "  var JS_MIME_TYPE = 'application/javascript';\n",
       "  var HTML_MIME_TYPE = 'text/html';\n",
       "  var EXEC_MIME_TYPE = 'application/vnd.bokehjs_exec.v0+json';\n",
       "  var CLASS_NAME = 'output_bokeh rendered_html';\n",
       "\n",
       "  /**\n",
       "   * Render data to the DOM node\n",
       "   */\n",
       "  function render(props, node) {\n",
       "    var script = document.createElement(\"script\");\n",
       "    node.appendChild(script);\n",
       "  }\n",
       "\n",
       "  /**\n",
       "   * Handle when an output is cleared or removed\n",
       "   */\n",
       "  function handleClearOutput(event, handle) {\n",
       "    var cell = handle.cell;\n",
       "\n",
       "    var id = cell.output_area._bokeh_element_id;\n",
       "    var server_id = cell.output_area._bokeh_server_id;\n",
       "    // Clean up Bokeh references\n",
       "    if (id != null && id in Bokeh.index) {\n",
       "      Bokeh.index[id].model.document.clear();\n",
       "      delete Bokeh.index[id];\n",
       "    }\n",
       "\n",
       "    if (server_id !== undefined) {\n",
       "      // Clean up Bokeh references\n",
       "      var cmd = \"from bokeh.io.state import curstate; print(curstate().uuid_to_server['\" + server_id + \"'].get_sessions()[0].document.roots[0]._id)\";\n",
       "      cell.notebook.kernel.execute(cmd, {\n",
       "        iopub: {\n",
       "          output: function(msg) {\n",
       "            var id = msg.content.text.trim();\n",
       "            if (id in Bokeh.index) {\n",
       "              Bokeh.index[id].model.document.clear();\n",
       "              delete Bokeh.index[id];\n",
       "            }\n",
       "          }\n",
       "        }\n",
       "      });\n",
       "      // Destroy server and session\n",
       "      var cmd = \"import bokeh.io.notebook as ion; ion.destroy_server('\" + server_id + \"')\";\n",
       "      cell.notebook.kernel.execute(cmd);\n",
       "    }\n",
       "  }\n",
       "\n",
       "  /**\n",
       "   * Handle when a new output is added\n",
       "   */\n",
       "  function handleAddOutput(event, handle) {\n",
       "    var output_area = handle.output_area;\n",
       "    var output = handle.output;\n",
       "\n",
       "    // limit handleAddOutput to display_data with EXEC_MIME_TYPE content only\n",
       "    if ((output.output_type != \"display_data\") || (!output.data.hasOwnProperty(EXEC_MIME_TYPE))) {\n",
       "      return\n",
       "    }\n",
       "\n",
       "    var toinsert = output_area.element.find(\".\" + CLASS_NAME.split(' ')[0]);\n",
       "\n",
       "    if (output.metadata[EXEC_MIME_TYPE][\"id\"] !== undefined) {\n",
       "      toinsert[toinsert.length - 1].firstChild.textContent = output.data[JS_MIME_TYPE];\n",
       "      // store reference to embed id on output_area\n",
       "      output_area._bokeh_element_id = output.metadata[EXEC_MIME_TYPE][\"id\"];\n",
       "    }\n",
       "    if (output.metadata[EXEC_MIME_TYPE][\"server_id\"] !== undefined) {\n",
       "      var bk_div = document.createElement(\"div\");\n",
       "      bk_div.innerHTML = output.data[HTML_MIME_TYPE];\n",
       "      var script_attrs = bk_div.children[0].attributes;\n",
       "      for (var i = 0; i < script_attrs.length; i++) {\n",
       "        toinsert[toinsert.length - 1].firstChild.setAttribute(script_attrs[i].name, script_attrs[i].value);\n",
       "      }\n",
       "      // store reference to server id on output_area\n",
       "      output_area._bokeh_server_id = output.metadata[EXEC_MIME_TYPE][\"server_id\"];\n",
       "    }\n",
       "  }\n",
       "\n",
       "  function register_renderer(events, OutputArea) {\n",
       "\n",
       "    function append_mime(data, metadata, element) {\n",
       "      // create a DOM node to render to\n",
       "      var toinsert = this.create_output_subarea(\n",
       "        metadata,\n",
       "        CLASS_NAME,\n",
       "        EXEC_MIME_TYPE\n",
       "      );\n",
       "      this.keyboard_manager.register_events(toinsert);\n",
       "      // Render to node\n",
       "      var props = {data: data, metadata: metadata[EXEC_MIME_TYPE]};\n",
       "      render(props, toinsert[toinsert.length - 1]);\n",
       "      element.append(toinsert);\n",
       "      return toinsert\n",
       "    }\n",
       "\n",
       "    /* Handle when an output is cleared or removed */\n",
       "    events.on('clear_output.CodeCell', handleClearOutput);\n",
       "    events.on('delete.Cell', handleClearOutput);\n",
       "\n",
       "    /* Handle when a new output is added */\n",
       "    events.on('output_added.OutputArea', handleAddOutput);\n",
       "\n",
       "    /**\n",
       "     * Register the mime type and append_mime function with output_area\n",
       "     */\n",
       "    OutputArea.prototype.register_mime_type(EXEC_MIME_TYPE, append_mime, {\n",
       "      /* Is output safe? */\n",
       "      safe: true,\n",
       "      /* Index of renderer in `output_area.display_order` */\n",
       "      index: 0\n",
       "    });\n",
       "  }\n",
       "\n",
       "  // register the mime type if in Jupyter Notebook environment and previously unregistered\n",
       "  if (root.Jupyter !== undefined) {\n",
       "    var events = require('base/js/events');\n",
       "    var OutputArea = require('notebook/js/outputarea').OutputArea;\n",
       "\n",
       "    if (OutputArea.prototype.mime_types().indexOf(EXEC_MIME_TYPE) == -1) {\n",
       "      register_renderer(events, OutputArea);\n",
       "    }\n",
       "  }\n",
       "\n",
       "  \n",
       "  if (typeof (root._bokeh_timeout) === \"undefined\" || force === true) {\n",
       "    root._bokeh_timeout = Date.now() + 5000;\n",
       "    root._bokeh_failed_load = false;\n",
       "  }\n",
       "\n",
       "  var NB_LOAD_WARNING = {'data': {'text/html':\n",
       "     \"<div style='background-color: #fdd'>\\n\"+\n",
       "     \"<p>\\n\"+\n",
       "     \"BokehJS does not appear to have successfully loaded. If loading BokehJS from CDN, this \\n\"+\n",
       "     \"may be due to a slow or bad network connection. Possible fixes:\\n\"+\n",
       "     \"</p>\\n\"+\n",
       "     \"<ul>\\n\"+\n",
       "     \"<li>re-rerun `output_notebook()` to attempt to load from CDN again, or</li>\\n\"+\n",
       "     \"<li>use INLINE resources instead, as so:</li>\\n\"+\n",
       "     \"</ul>\\n\"+\n",
       "     \"<code>\\n\"+\n",
       "     \"from bokeh.resources import INLINE\\n\"+\n",
       "     \"output_notebook(resources=INLINE)\\n\"+\n",
       "     \"</code>\\n\"+\n",
       "     \"</div>\"}};\n",
       "\n",
       "  function display_loaded() {\n",
       "    var el = document.getElementById(\"28944fd2-06e8-4690-b2ae-71cc4aea45da\");\n",
       "    if (el != null) {\n",
       "      el.textContent = \"BokehJS is loading...\";\n",
       "    }\n",
       "    if (root.Bokeh !== undefined) {\n",
       "      if (el != null) {\n",
       "        el.textContent = \"BokehJS \" + root.Bokeh.version + \" successfully loaded.\";\n",
       "      }\n",
       "    } else if (Date.now() < root._bokeh_timeout) {\n",
       "      setTimeout(display_loaded, 100)\n",
       "    }\n",
       "  }\n",
       "\n",
       "\n",
       "  function run_callbacks() {\n",
       "    try {\n",
       "      root._bokeh_onload_callbacks.forEach(function(callback) { callback() });\n",
       "    }\n",
       "    finally {\n",
       "      delete root._bokeh_onload_callbacks\n",
       "    }\n",
       "    console.info(\"Bokeh: all callbacks have finished\");\n",
       "  }\n",
       "\n",
       "  function load_libs(js_urls, callback) {\n",
       "    root._bokeh_onload_callbacks.push(callback);\n",
       "    if (root._bokeh_is_loading > 0) {\n",
       "      console.log(\"Bokeh: BokehJS is being loaded, scheduling callback at\", now());\n",
       "      return null;\n",
       "    }\n",
       "    if (js_urls == null || js_urls.length === 0) {\n",
       "      run_callbacks();\n",
       "      return null;\n",
       "    }\n",
       "    console.log(\"Bokeh: BokehJS not loaded, scheduling load and callback at\", now());\n",
       "    root._bokeh_is_loading = js_urls.length;\n",
       "    for (var i = 0; i < js_urls.length; i++) {\n",
       "      var url = js_urls[i];\n",
       "      var s = document.createElement('script');\n",
       "      s.src = url;\n",
       "      s.async = false;\n",
       "      s.onreadystatechange = s.onload = function() {\n",
       "        root._bokeh_is_loading--;\n",
       "        if (root._bokeh_is_loading === 0) {\n",
       "          console.log(\"Bokeh: all BokehJS libraries loaded\");\n",
       "          run_callbacks()\n",
       "        }\n",
       "      };\n",
       "      s.onerror = function() {\n",
       "        console.warn(\"failed to load library \" + url);\n",
       "      };\n",
       "      console.log(\"Bokeh: injecting script tag for BokehJS library: \", url);\n",
       "      document.getElementsByTagName(\"head\")[0].appendChild(s);\n",
       "    }\n",
       "  };var element = document.getElementById(\"28944fd2-06e8-4690-b2ae-71cc4aea45da\");\n",
       "  if (element == null) {\n",
       "    console.log(\"Bokeh: ERROR: autoload.js configured with elementid '28944fd2-06e8-4690-b2ae-71cc4aea45da' but no matching script tag was found. \")\n",
       "    return false;\n",
       "  }\n",
       "\n",
       "  var js_urls = [\"https://cdn.pydata.org/bokeh/release/bokeh-0.13.0.min.js\", \"https://cdn.pydata.org/bokeh/release/bokeh-widgets-0.13.0.min.js\", \"https://cdn.pydata.org/bokeh/release/bokeh-tables-0.13.0.min.js\", \"https://cdn.pydata.org/bokeh/release/bokeh-gl-0.13.0.min.js\"];\n",
       "\n",
       "  var inline_js = [\n",
       "    function(Bokeh) {\n",
       "      Bokeh.set_log_level(\"info\");\n",
       "    },\n",
       "    \n",
       "    function(Bokeh) {\n",
       "      \n",
       "    },\n",
       "    function(Bokeh) {\n",
       "      console.log(\"Bokeh: injecting CSS: https://cdn.pydata.org/bokeh/release/bokeh-0.13.0.min.css\");\n",
       "      Bokeh.embed.inject_css(\"https://cdn.pydata.org/bokeh/release/bokeh-0.13.0.min.css\");\n",
       "      console.log(\"Bokeh: injecting CSS: https://cdn.pydata.org/bokeh/release/bokeh-widgets-0.13.0.min.css\");\n",
       "      Bokeh.embed.inject_css(\"https://cdn.pydata.org/bokeh/release/bokeh-widgets-0.13.0.min.css\");\n",
       "      console.log(\"Bokeh: injecting CSS: https://cdn.pydata.org/bokeh/release/bokeh-tables-0.13.0.min.css\");\n",
       "      Bokeh.embed.inject_css(\"https://cdn.pydata.org/bokeh/release/bokeh-tables-0.13.0.min.css\");\n",
       "    }\n",
       "  ];\n",
       "\n",
       "  function run_inline_js() {\n",
       "    \n",
       "    if ((root.Bokeh !== undefined) || (force === true)) {\n",
       "      for (var i = 0; i < inline_js.length; i++) {\n",
       "        inline_js[i].call(root, root.Bokeh);\n",
       "      }if (force === true) {\n",
       "        display_loaded();\n",
       "      }} else if (Date.now() < root._bokeh_timeout) {\n",
       "      setTimeout(run_inline_js, 100);\n",
       "    } else if (!root._bokeh_failed_load) {\n",
       "      console.log(\"Bokeh: BokehJS failed to load within specified timeout.\");\n",
       "      root._bokeh_failed_load = true;\n",
       "    } else if (force !== true) {\n",
       "      var cell = $(document.getElementById(\"28944fd2-06e8-4690-b2ae-71cc4aea45da\")).parents('.cell').data().cell;\n",
       "      cell.output_area.append_execute_result(NB_LOAD_WARNING)\n",
       "    }\n",
       "\n",
       "  }\n",
       "\n",
       "  if (root._bokeh_is_loading === 0) {\n",
       "    console.log(\"Bokeh: BokehJS loaded, going straight to plotting\");\n",
       "    run_inline_js();\n",
       "  } else {\n",
       "    load_libs(js_urls, function() {\n",
       "      console.log(\"Bokeh: BokehJS plotting callback run at\", now());\n",
       "      run_inline_js();\n",
       "    });\n",
       "  }\n",
       "}(window));"
      ],
      "application/vnd.bokehjs_load.v0+json": "\n(function(root) {\n  function now() {\n    return new Date();\n  }\n\n  var force = true;\n\n  if (typeof (root._bokeh_onload_callbacks) === \"undefined\" || force === true) {\n    root._bokeh_onload_callbacks = [];\n    root._bokeh_is_loading = undefined;\n  }\n\n  \n\n  \n  if (typeof (root._bokeh_timeout) === \"undefined\" || force === true) {\n    root._bokeh_timeout = Date.now() + 5000;\n    root._bokeh_failed_load = false;\n  }\n\n  var NB_LOAD_WARNING = {'data': {'text/html':\n     \"<div style='background-color: #fdd'>\\n\"+\n     \"<p>\\n\"+\n     \"BokehJS does not appear to have successfully loaded. If loading BokehJS from CDN, this \\n\"+\n     \"may be due to a slow or bad network connection. Possible fixes:\\n\"+\n     \"</p>\\n\"+\n     \"<ul>\\n\"+\n     \"<li>re-rerun `output_notebook()` to attempt to load from CDN again, or</li>\\n\"+\n     \"<li>use INLINE resources instead, as so:</li>\\n\"+\n     \"</ul>\\n\"+\n     \"<code>\\n\"+\n     \"from bokeh.resources import INLINE\\n\"+\n     \"output_notebook(resources=INLINE)\\n\"+\n     \"</code>\\n\"+\n     \"</div>\"}};\n\n  function display_loaded() {\n    var el = document.getElementById(\"28944fd2-06e8-4690-b2ae-71cc4aea45da\");\n    if (el != null) {\n      el.textContent = \"BokehJS is loading...\";\n    }\n    if (root.Bokeh !== undefined) {\n      if (el != null) {\n        el.textContent = \"BokehJS \" + root.Bokeh.version + \" successfully loaded.\";\n      }\n    } else if (Date.now() < root._bokeh_timeout) {\n      setTimeout(display_loaded, 100)\n    }\n  }\n\n\n  function run_callbacks() {\n    try {\n      root._bokeh_onload_callbacks.forEach(function(callback) { callback() });\n    }\n    finally {\n      delete root._bokeh_onload_callbacks\n    }\n    console.info(\"Bokeh: all callbacks have finished\");\n  }\n\n  function load_libs(js_urls, callback) {\n    root._bokeh_onload_callbacks.push(callback);\n    if (root._bokeh_is_loading > 0) {\n      console.log(\"Bokeh: BokehJS is being loaded, scheduling callback at\", now());\n      return null;\n    }\n    if (js_urls == null || js_urls.length === 0) {\n      run_callbacks();\n      return null;\n    }\n    console.log(\"Bokeh: BokehJS not loaded, scheduling load and callback at\", now());\n    root._bokeh_is_loading = js_urls.length;\n    for (var i = 0; i < js_urls.length; i++) {\n      var url = js_urls[i];\n      var s = document.createElement('script');\n      s.src = url;\n      s.async = false;\n      s.onreadystatechange = s.onload = function() {\n        root._bokeh_is_loading--;\n        if (root._bokeh_is_loading === 0) {\n          console.log(\"Bokeh: all BokehJS libraries loaded\");\n          run_callbacks()\n        }\n      };\n      s.onerror = function() {\n        console.warn(\"failed to load library \" + url);\n      };\n      console.log(\"Bokeh: injecting script tag for BokehJS library: \", url);\n      document.getElementsByTagName(\"head\")[0].appendChild(s);\n    }\n  };var element = document.getElementById(\"28944fd2-06e8-4690-b2ae-71cc4aea45da\");\n  if (element == null) {\n    console.log(\"Bokeh: ERROR: autoload.js configured with elementid '28944fd2-06e8-4690-b2ae-71cc4aea45da' but no matching script tag was found. \")\n    return false;\n  }\n\n  var js_urls = [\"https://cdn.pydata.org/bokeh/release/bokeh-0.13.0.min.js\", \"https://cdn.pydata.org/bokeh/release/bokeh-widgets-0.13.0.min.js\", \"https://cdn.pydata.org/bokeh/release/bokeh-tables-0.13.0.min.js\", \"https://cdn.pydata.org/bokeh/release/bokeh-gl-0.13.0.min.js\"];\n\n  var inline_js = [\n    function(Bokeh) {\n      Bokeh.set_log_level(\"info\");\n    },\n    \n    function(Bokeh) {\n      \n    },\n    function(Bokeh) {\n      console.log(\"Bokeh: injecting CSS: https://cdn.pydata.org/bokeh/release/bokeh-0.13.0.min.css\");\n      Bokeh.embed.inject_css(\"https://cdn.pydata.org/bokeh/release/bokeh-0.13.0.min.css\");\n      console.log(\"Bokeh: injecting CSS: https://cdn.pydata.org/bokeh/release/bokeh-widgets-0.13.0.min.css\");\n      Bokeh.embed.inject_css(\"https://cdn.pydata.org/bokeh/release/bokeh-widgets-0.13.0.min.css\");\n      console.log(\"Bokeh: injecting CSS: https://cdn.pydata.org/bokeh/release/bokeh-tables-0.13.0.min.css\");\n      Bokeh.embed.inject_css(\"https://cdn.pydata.org/bokeh/release/bokeh-tables-0.13.0.min.css\");\n    }\n  ];\n\n  function run_inline_js() {\n    \n    if ((root.Bokeh !== undefined) || (force === true)) {\n      for (var i = 0; i < inline_js.length; i++) {\n        inline_js[i].call(root, root.Bokeh);\n      }if (force === true) {\n        display_loaded();\n      }} else if (Date.now() < root._bokeh_timeout) {\n      setTimeout(run_inline_js, 100);\n    } else if (!root._bokeh_failed_load) {\n      console.log(\"Bokeh: BokehJS failed to load within specified timeout.\");\n      root._bokeh_failed_load = true;\n    } else if (force !== true) {\n      var cell = $(document.getElementById(\"28944fd2-06e8-4690-b2ae-71cc4aea45da\")).parents('.cell').data().cell;\n      cell.output_area.append_execute_result(NB_LOAD_WARNING)\n    }\n\n  }\n\n  if (root._bokeh_is_loading === 0) {\n    console.log(\"Bokeh: BokehJS loaded, going straight to plotting\");\n    run_inline_js();\n  } else {\n    load_libs(js_urls, function() {\n      console.log(\"Bokeh: BokehJS plotting callback run at\", now());\n      run_inline_js();\n    });\n  }\n}(window));"
     },
     "metadata": {},
     "output_type": "display_data"
    }
   ],
   "source": [
    "import numpy as np\n",
    "import scipy.stats as st\n",
    "import scipy.special\n",
    "\n",
    "import bebi103\n",
    "\n",
    "import pandas as pd\n",
    "import bokeh.io\n",
    "import bokeh.plotting\n",
    "bokeh.io.output_notebook()\n",
    "import pystan"
   ]
  },
  {
   "cell_type": "markdown",
   "metadata": {},
   "source": [
    "## Problem 6.1: Modeling and parameter estimation for Boolean data (40 pts)\n",
    "\n",
    "In this problem, we will work with data of the True/False type. Lots of data sets in the biological sciences are like this. For example, we might look at a certain mutation in *Drosophila* that affects development and we might check whether or not eggs hatch.\n",
    "\n",
    "The data we will use comes from an experiment we have done for the last few years in [Bi 1x](http://bi1x.caltech.edu/) here at Caltech. The experiment was developed by Meaghan Sullivan. We studied a neural circuit in *C. elegans* using optogenetics.\n",
    "\n",
    "A neural circuit is a series of interconnected neurons that create a pathway to transmit a signal from where it is received to where it causes a behavioral response in an animal.  An example is the neural circuit involved in reversals in *C. elegans*.  This circuit consists of three types of neurons: sensory neurons receive stimuli from the environment, command interneurons integrate information from many sensory neurons and pass a signal to the motor neurons, and motor neurons that control worm behavior, such as reversals.\n",
    "\n",
    "There are six non-motor neurons acting in a circuit that responds to environmental cues and triggers a reversal, a shown in the figure below (based on [Schultheis et. al. 2011](https://doi.org/10.1371/journal.pone.0018766)).  These include four sensory neurons (ALM, AVM, ASH, and PLM) and two interneurons (AVD and AVA).  Each sensory neuron is sensitive to a different type of stimulus.  For example, the sensory neuron we are studying (ASH) is sensitive to chemosensory stimuli such as toxins, while another neuron (PLM) is sensitive to mechanical stimuli (touch) in the posterior part of the worm's body.  The sensory neurons send signals that are integrated by the two command interneurons (AVA and AVD).  Each sensory neuron can provide an impulse to the command interneurons at any time.  In order for the command interneuron to fire and activate motor neurons, the sum of the stimuli at any point in time must exceed a certain threshold.  Once the stimuli from one or more sensory neurons has induced an action potential in a command interneuron, that signal is passed to motor neurons which will modulate worm behavior.\n",
    "\n",
    "![Reversal neural network](reversal_neural_network.png)\n",
    "\n",
    "In the experiment, we used optogenetics to dissect the function of individual neurons in this circuit.  We worked with two optogenetic worm strains.  The ASH strain has channelrhodopsin (ChR2, represented by a red barrel in the figure above) expressed only in the ASH sensory neuron.  When we shine blue light on this strain, we should activate the ChR2, which will allow sodium and calcium cations to flow into the neuron, simulating an action potential. We want to quantify how robustly this stimulation will cause the worm to exhibit aversion behavior and reverse.  \n",
    "\n",
    "We also studied an AVA strain that has channelrhodopsin expressed only in the AVA command interneuron.  Our goal is to quantify the effects of stimulating this neuron in terms of reversals compared to the ASH neuron and to wild type.\n",
    "\n",
    "The True/False data here are the whether or not the worms undergo a reversal. Here is what the students observed.\n",
    "\n",
    "|Strain|Year|Trials|Reversals|\n",
    "|:---:|:---:|:---:|:---:|\n",
    "|WT|2017|55|7|\n",
    "|ASH|2017|54|18|\n",
    "|AVA|2017|52|28|\n",
    "|WT|2016|36|6|\n",
    "|ASH|2016|35|12|\n",
    "|AVA|2016|36|30|\n",
    "|WT|2015|35|0|\n",
    "|ASH|2015|35|9|\n",
    "|AVA|2015|36|33|\n",
    "\n",
    "For the purposes of this problem, assume that we can pool the results from the three years to have 13/126 reversals for wild type, 39/124 reversals for ASH, and 91/124 reversals for AVA.\n",
    "\n",
    "Our goal is to estimate $\\theta$, the probability of reversal for each strain. That is to say, we want to compute $g(\\theta\\mid n, N)$, where $n$ is the number of reversals in $N$ trials.\n",
    "\n",
    "\n",
    "**a)** Develop a generative model (that is, specify the joint distribution $\\pi(n, \\theta\\mid N) = f(n,\\mid \\theta, N)\\,g(\\theta)$) for the observed reversals. Be sure to do prior predictive checks and justify why you chose the model you did. *Biological hint*: *C. elegans* have no mode of sensing light at all. So, a wild type worm without and Channelrhodopsin has no means of detecting light. *Modeling hint*: The Beta distribution is very useful for modeling probabilities of probabilities, like *θ* in this problem.\n",
    "\n",
    "<br />\n"
   ]
  },
  {
   "cell_type": "markdown",
   "metadata": {},
   "source": [
    "We will estimate the prior for the parameter θ, the probability of reversal for each strain. We choose the beta distribution to model this as it is useful for modeling rare events and probabilities of probabilities. We will vary the a and b values in the beta distribution based on our estimates of how likely it is for a strain to reverse. \n",
    "\n",
    "\n",
    "We estimate that the AVA strain is twice as likely to reverse as the ASH strain as it is sensitive to the input of ASH and PLM while ASH is only sensitive to chemosensory stimuli such as toxins.\n",
    "\n",
    "We estimate that wild type will reverse very rarely as it is not influenced by light since it has no means of detecting light, so $\\theta_{WT}$ = Beta(1,8), \n",
    "shown graphically as:"
   ]
  },
  {
   "cell_type": "code",
   "execution_count": 21,
   "metadata": {},
   "outputs": [
    {
     "data": {
      "text/html": [
       "\n",
       "\n",
       "\n",
       "\n",
       "\n",
       "\n",
       "  <div class=\"bk-root\" id=\"8f05d468-0807-4948-a197-fd64b382ac70\"></div>\n"
      ]
     },
     "metadata": {},
     "output_type": "display_data"
    },
    {
     "data": {
      "application/javascript": [
       "(function(root) {\n",
       "  function embed_document(root) {\n",
       "    \n",
       "  var docs_json = {\"1e1107cc-798b-4d4b-8590-ef4d966c6395\":{\"roots\":{\"references\":[{\"attributes\":{},\"id\":\"f0f29d84-f7c2-4676-93f8-d31df10ef145\",\"type\":\"Selection\"},{\"attributes\":{},\"id\":\"181a1b92-16bd-4254-bbc9-555456a5fa60\",\"type\":\"WheelZoomTool\"},{\"attributes\":{\"callback\":null},\"id\":\"ccb5b27c-4521-406f-b84e-1bf70be62a19\",\"type\":\"DataRange1d\"},{\"attributes\":{\"data_source\":{\"id\":\"9f10b42a-9bc2-4110-9865-4850cabdca38\",\"type\":\"ColumnDataSource\"},\"glyph\":{\"id\":\"cf7e62b8-50dd-4c09-969f-16da27368c64\",\"type\":\"Line\"},\"hover_glyph\":null,\"muted_glyph\":null,\"nonselection_glyph\":{\"id\":\"4925c941-e610-4557-8f00-1e01aa24ca12\",\"type\":\"Line\"},\"selection_glyph\":null,\"view\":{\"id\":\"ad4b85c4-f872-44c1-bf85-731c573e05cf\",\"type\":\"CDSView\"}},\"id\":\"45247111-6a88-48aa-b2e4-6e772ddb68bf\",\"type\":\"GlyphRenderer\"},{\"attributes\":{\"callback\":null},\"id\":\"061c4df1-794a-4f97-aa86-06f69633c28d\",\"type\":\"DataRange1d\"},{\"attributes\":{},\"id\":\"ee21fea5-e7f9-48ab-9dc4-7cb049a30cc5\",\"type\":\"BasicTicker\"},{\"attributes\":{\"callback\":null,\"data\":{\"x\":{\"__ndarray__\":\"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\",\"dtype\":\"float64\",\"shape\":[200]},\"y\":{\"__ndarray__\":\"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\",\"dtype\":\"float64\",\"shape\":[200]}},\"selected\":{\"id\":\"f0f29d84-f7c2-4676-93f8-d31df10ef145\",\"type\":\"Selection\"},\"selection_policy\":{\"id\":\"3c5f82e4-b23a-482f-a034-37cd2f8983ba\",\"type\":\"UnionRenderers\"}},\"id\":\"9f10b42a-9bc2-4110-9865-4850cabdca38\",\"type\":\"ColumnDataSource\"},{\"attributes\":{},\"id\":\"7b813f73-9366-41ff-a0db-420ff4cb37b4\",\"type\":\"PanTool\"},{\"attributes\":{\"active_drag\":\"auto\",\"active_inspect\":\"auto\",\"active_multi\":null,\"active_scroll\":\"auto\",\"active_tap\":\"auto\",\"tools\":[{\"id\":\"7b813f73-9366-41ff-a0db-420ff4cb37b4\",\"type\":\"PanTool\"},{\"id\":\"181a1b92-16bd-4254-bbc9-555456a5fa60\",\"type\":\"WheelZoomTool\"},{\"id\":\"0dd13624-562a-4d84-89ad-a23369308e95\",\"type\":\"BoxZoomTool\"},{\"id\":\"f18741c5-f82a-4c55-846a-c300ceb2598d\",\"type\":\"SaveTool\"},{\"id\":\"5f1fa6a6-efe2-4937-b243-751c1d9b0fd1\",\"type\":\"ResetTool\"},{\"id\":\"20430b80-e9c1-406c-a78f-065e18852366\",\"type\":\"HelpTool\"}]},\"id\":\"0965999b-7d92-4161-be36-1b0b6c3eea42\",\"type\":\"Toolbar\"},{\"attributes\":{\"bottom_units\":\"screen\",\"fill_alpha\":{\"value\":0.5},\"fill_color\":{\"value\":\"lightgrey\"},\"left_units\":\"screen\",\"level\":\"overlay\",\"line_alpha\":{\"value\":1.0},\"line_color\":{\"value\":\"black\"},\"line_dash\":[4,4],\"line_width\":{\"value\":2},\"plot\":null,\"render_mode\":\"css\",\"right_units\":\"screen\",\"top_units\":\"screen\"},\"id\":\"509fb876-dbb6-49a9-924f-797a26ad945f\",\"type\":\"BoxAnnotation\"},{\"attributes\":{},\"id\":\"9afe0d7c-ed78-4d29-9530-e81e9a45c759\",\"type\":\"LinearScale\"},{\"attributes\":{},\"id\":\"24868112-1f5d-487c-bdf0-69c96c4ee4ec\",\"type\":\"BasicTicker\"},{\"attributes\":{\"line_alpha\":0.1,\"line_color\":\"#1f77b4\",\"line_width\":2,\"x\":{\"field\":\"x\"},\"y\":{\"field\":\"y\"}},\"id\":\"4925c941-e610-4557-8f00-1e01aa24ca12\",\"type\":\"Line\"},{\"attributes\":{\"plot\":{\"id\":\"ca41d909-5291-4de7-8988-062fa13d6952\",\"subtype\":\"Figure\",\"type\":\"Plot\"},\"ticker\":{\"id\":\"24868112-1f5d-487c-bdf0-69c96c4ee4ec\",\"type\":\"BasicTicker\"}},\"id\":\"1a1d81f4-481f-4452-8d7c-03e85a342fe4\",\"type\":\"Grid\"},{\"attributes\":{\"axis_label\":\"g(\\u03b8)\",\"formatter\":{\"id\":\"00f5bd94-2f4b-4698-be22-9dc45e60357d\",\"type\":\"BasicTickFormatter\"},\"plot\":{\"id\":\"ca41d909-5291-4de7-8988-062fa13d6952\",\"subtype\":\"Figure\",\"type\":\"Plot\"},\"ticker\":{\"id\":\"ee21fea5-e7f9-48ab-9dc4-7cb049a30cc5\",\"type\":\"BasicTicker\"}},\"id\":\"2d4f2321-36dc-446a-9480-e2667f0aac75\",\"type\":\"LinearAxis\"},{\"attributes\":{\"axis_label\":\"\\u03b8\",\"formatter\":{\"id\":\"b5a54af4-5e2b-4f95-a05e-344abdb2f940\",\"type\":\"BasicTickFormatter\"},\"plot\":{\"id\":\"ca41d909-5291-4de7-8988-062fa13d6952\",\"subtype\":\"Figure\",\"type\":\"Plot\"},\"ticker\":{\"id\":\"24868112-1f5d-487c-bdf0-69c96c4ee4ec\",\"type\":\"BasicTicker\"}},\"id\":\"1365a06d-e432-4608-948c-67f777b77d5b\",\"type\":\"LinearAxis\"},{\"attributes\":{},\"id\":\"047edf0f-c6c7-49aa-8740-7b16998961e2\",\"type\":\"LinearScale\"},{\"attributes\":{\"below\":[{\"id\":\"1365a06d-e432-4608-948c-67f777b77d5b\",\"type\":\"LinearAxis\"}],\"left\":[{\"id\":\"2d4f2321-36dc-446a-9480-e2667f0aac75\",\"type\":\"LinearAxis\"}],\"plot_height\":200,\"plot_width\":300,\"renderers\":[{\"id\":\"1365a06d-e432-4608-948c-67f777b77d5b\",\"type\":\"LinearAxis\"},{\"id\":\"1a1d81f4-481f-4452-8d7c-03e85a342fe4\",\"type\":\"Grid\"},{\"id\":\"2d4f2321-36dc-446a-9480-e2667f0aac75\",\"type\":\"LinearAxis\"},{\"id\":\"e3dac321-4b9d-4761-a31a-d5c10962dad7\",\"type\":\"Grid\"},{\"id\":\"509fb876-dbb6-49a9-924f-797a26ad945f\",\"type\":\"BoxAnnotation\"},{\"id\":\"45247111-6a88-48aa-b2e4-6e772ddb68bf\",\"type\":\"GlyphRenderer\"}],\"title\":{\"id\":\"bad4ee91-479f-4dc2-892a-6557ab57d3fb\",\"type\":\"Title\"},\"toolbar\":{\"id\":\"0965999b-7d92-4161-be36-1b0b6c3eea42\",\"type\":\"Toolbar\"},\"x_range\":{\"id\":\"061c4df1-794a-4f97-aa86-06f69633c28d\",\"type\":\"DataRange1d\"},\"x_scale\":{\"id\":\"9afe0d7c-ed78-4d29-9530-e81e9a45c759\",\"type\":\"LinearScale\"},\"y_range\":{\"id\":\"ccb5b27c-4521-406f-b84e-1bf70be62a19\",\"type\":\"DataRange1d\"},\"y_scale\":{\"id\":\"047edf0f-c6c7-49aa-8740-7b16998961e2\",\"type\":\"LinearScale\"}},\"id\":\"ca41d909-5291-4de7-8988-062fa13d6952\",\"subtype\":\"Figure\",\"type\":\"Plot\"},{\"attributes\":{},\"id\":\"20430b80-e9c1-406c-a78f-065e18852366\",\"type\":\"HelpTool\"},{\"attributes\":{\"plot\":null,\"text\":\"\"},\"id\":\"bad4ee91-479f-4dc2-892a-6557ab57d3fb\",\"type\":\"Title\"},{\"attributes\":{},\"id\":\"5f1fa6a6-efe2-4937-b243-751c1d9b0fd1\",\"type\":\"ResetTool\"},{\"attributes\":{},\"id\":\"b5a54af4-5e2b-4f95-a05e-344abdb2f940\",\"type\":\"BasicTickFormatter\"},{\"attributes\":{\"line_color\":\"#1f77b4\",\"line_width\":2,\"x\":{\"field\":\"x\"},\"y\":{\"field\":\"y\"}},\"id\":\"cf7e62b8-50dd-4c09-969f-16da27368c64\",\"type\":\"Line\"},{\"attributes\":{},\"id\":\"3c5f82e4-b23a-482f-a034-37cd2f8983ba\",\"type\":\"UnionRenderers\"},{\"attributes\":{},\"id\":\"f18741c5-f82a-4c55-846a-c300ceb2598d\",\"type\":\"SaveTool\"},{\"attributes\":{},\"id\":\"00f5bd94-2f4b-4698-be22-9dc45e60357d\",\"type\":\"BasicTickFormatter\"},{\"attributes\":{\"overlay\":{\"id\":\"509fb876-dbb6-49a9-924f-797a26ad945f\",\"type\":\"BoxAnnotation\"}},\"id\":\"0dd13624-562a-4d84-89ad-a23369308e95\",\"type\":\"BoxZoomTool\"},{\"attributes\":{\"source\":{\"id\":\"9f10b42a-9bc2-4110-9865-4850cabdca38\",\"type\":\"ColumnDataSource\"}},\"id\":\"ad4b85c4-f872-44c1-bf85-731c573e05cf\",\"type\":\"CDSView\"},{\"attributes\":{\"dimension\":1,\"plot\":{\"id\":\"ca41d909-5291-4de7-8988-062fa13d6952\",\"subtype\":\"Figure\",\"type\":\"Plot\"},\"ticker\":{\"id\":\"ee21fea5-e7f9-48ab-9dc4-7cb049a30cc5\",\"type\":\"BasicTicker\"}},\"id\":\"e3dac321-4b9d-4761-a31a-d5c10962dad7\",\"type\":\"Grid\"}],\"root_ids\":[\"ca41d909-5291-4de7-8988-062fa13d6952\"]},\"title\":\"Bokeh Application\",\"version\":\"0.13.0\"}};\n",
       "  var render_items = [{\"docid\":\"1e1107cc-798b-4d4b-8590-ef4d966c6395\",\"roots\":{\"ca41d909-5291-4de7-8988-062fa13d6952\":\"8f05d468-0807-4948-a197-fd64b382ac70\"}}];\n",
       "  root.Bokeh.embed.embed_items_notebook(docs_json, render_items);\n",
       "\n",
       "  }\n",
       "  if (root.Bokeh !== undefined) {\n",
       "    embed_document(root);\n",
       "  } else {\n",
       "    var attempts = 0;\n",
       "    var timer = setInterval(function(root) {\n",
       "      if (root.Bokeh !== undefined) {\n",
       "        embed_document(root);\n",
       "        clearInterval(timer);\n",
       "      }\n",
       "      attempts++;\n",
       "      if (attempts > 100) {\n",
       "        console.log(\"Bokeh: ERROR: Unable to run BokehJS code because BokehJS library is missing\")\n",
       "        clearInterval(timer);\n",
       "      }\n",
       "    }, 10, root)\n",
       "  }\n",
       "})(window);"
      ],
      "application/vnd.bokehjs_exec.v0+json": ""
     },
     "metadata": {
      "application/vnd.bokehjs_exec.v0+json": {
       "id": "ca41d909-5291-4de7-8988-062fa13d6952"
      }
     },
     "output_type": "display_data"
    }
   ],
   "source": [
    "sigma = np.linspace(0, 1, 200)\n",
    "p = bokeh.plotting.figure(width=300, height=200, \n",
    "                          x_axis_label='θ', \n",
    "                          y_axis_label='g(θ)')\n",
    "p.line(sigma, st.beta.pdf(sigma, 1, 8, loc=0, scale=1), line_width=2)\n",
    "bokeh.io.show(p)"
   ]
  },
  {
   "cell_type": "markdown",
   "metadata": {},
   "source": [
    "The ASH strain will still reverse with probability < 0.5,  so $\\theta_{ASH}$ = Beta(2,7), shown graphically as: "
   ]
  },
  {
   "cell_type": "code",
   "execution_count": 22,
   "metadata": {},
   "outputs": [
    {
     "data": {
      "text/html": [
       "\n",
       "\n",
       "\n",
       "\n",
       "\n",
       "\n",
       "  <div class=\"bk-root\" id=\"3924c9bd-1042-4c44-99b9-9466023690eb\"></div>\n"
      ]
     },
     "metadata": {},
     "output_type": "display_data"
    },
    {
     "data": {
      "application/javascript": [
       "(function(root) {\n",
       "  function embed_document(root) {\n",
       "    \n",
       "  var docs_json = {\"9bd50d3b-2f48-4fcf-92ba-a176176026c3\":{\"roots\":{\"references\":[{\"attributes\":{},\"id\":\"895738d5-d12b-4918-b3db-d0165d97d22c\",\"type\":\"PanTool\"},{\"attributes\":{\"plot\":null,\"text\":\"\"},\"id\":\"a2765cbf-40c8-475c-bb32-e1a7ae90fe12\",\"type\":\"Title\"},{\"attributes\":{},\"id\":\"90a3e2cb-12d2-4b0c-a0c7-aff79831810a\",\"type\":\"ResetTool\"},{\"attributes\":{\"bottom_units\":\"screen\",\"fill_alpha\":{\"value\":0.5},\"fill_color\":{\"value\":\"lightgrey\"},\"left_units\":\"screen\",\"level\":\"overlay\",\"line_alpha\":{\"value\":1.0},\"line_color\":{\"value\":\"black\"},\"line_dash\":[4,4],\"line_width\":{\"value\":2},\"plot\":null,\"render_mode\":\"css\",\"right_units\":\"screen\",\"top_units\":\"screen\"},\"id\":\"ff3a0c19-5690-49f9-8ad4-87ed492434ac\",\"type\":\"BoxAnnotation\"},{\"attributes\":{\"overlay\":{\"id\":\"ff3a0c19-5690-49f9-8ad4-87ed492434ac\",\"type\":\"BoxAnnotation\"}},\"id\":\"f255dbf5-c10b-450f-8529-a5048ed6a52a\",\"type\":\"BoxZoomTool\"},{\"attributes\":{},\"id\":\"ab7bd5c1-6f7d-48ac-99bc-bd3eeaebbd3f\",\"type\":\"BasicTicker\"},{\"attributes\":{},\"id\":\"b7b68677-f5f1-4a7c-aa59-d59f7c96c71f\",\"type\":\"HelpTool\"},{\"attributes\":{\"dimension\":1,\"plot\":{\"id\":\"b7d94f0f-0563-48a7-a8fb-bca1f8b93c03\",\"subtype\":\"Figure\",\"type\":\"Plot\"},\"ticker\":{\"id\":\"ab7bd5c1-6f7d-48ac-99bc-bd3eeaebbd3f\",\"type\":\"BasicTicker\"}},\"id\":\"74705dbb-1816-4f94-8021-4d784cd4978a\",\"type\":\"Grid\"},{\"attributes\":{},\"id\":\"6840a89a-ed72-4950-8de1-b0aba14a72da\",\"type\":\"Selection\"},{\"attributes\":{\"line_alpha\":0.1,\"line_color\":\"#1f77b4\",\"line_width\":2,\"x\":{\"field\":\"x\"},\"y\":{\"field\":\"y\"}},\"id\":\"651c754f-5757-43c2-be3b-069a35216443\",\"type\":\"Line\"},{\"attributes\":{},\"id\":\"377c0ed0-5c41-427e-b430-ccc0f3bac0fe\",\"type\":\"BasicTicker\"},{\"attributes\":{},\"id\":\"9a02f85d-544b-4f59-a40c-0a3fc893f49c\",\"type\":\"LinearScale\"},{\"attributes\":{},\"id\":\"f12f6bcd-24d9-486b-9828-b7cefefc3261\",\"type\":\"BasicTickFormatter\"},{\"attributes\":{\"callback\":null},\"id\":\"7084c15c-e1a0-4aab-92eb-ffb176711ff3\",\"type\":\"DataRange1d\"},{\"attributes\":{\"callback\":null,\"data\":{\"x\":{\"__ndarray__\":\"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\",\"dtype\":\"float64\",\"shape\":[200]},\"y\":{\"__ndarray__\":\"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\",\"dtype\":\"float64\",\"shape\":[200]}},\"selected\":{\"id\":\"6840a89a-ed72-4950-8de1-b0aba14a72da\",\"type\":\"Selection\"},\"selection_policy\":{\"id\":\"7c958f69-2d69-4671-8573-75ad536c3ab2\",\"type\":\"UnionRenderers\"}},\"id\":\"4fdf082b-6834-4e9f-b44b-9c940bbea713\",\"type\":\"ColumnDataSource\"},{\"attributes\":{},\"id\":\"e3530394-a0bd-4bb6-ae1c-5aac6eac3204\",\"type\":\"BasicTickFormatter\"},{\"attributes\":{\"active_drag\":\"auto\",\"active_inspect\":\"auto\",\"active_multi\":null,\"active_scroll\":\"auto\",\"active_tap\":\"auto\",\"tools\":[{\"id\":\"895738d5-d12b-4918-b3db-d0165d97d22c\",\"type\":\"PanTool\"},{\"id\":\"4ea3cd99-80aa-4d67-baa2-a32019f352e2\",\"type\":\"WheelZoomTool\"},{\"id\":\"f255dbf5-c10b-450f-8529-a5048ed6a52a\",\"type\":\"BoxZoomTool\"},{\"id\":\"3ec38961-827e-437a-857b-8d09632c9617\",\"type\":\"SaveTool\"},{\"id\":\"90a3e2cb-12d2-4b0c-a0c7-aff79831810a\",\"type\":\"ResetTool\"},{\"id\":\"b7b68677-f5f1-4a7c-aa59-d59f7c96c71f\",\"type\":\"HelpTool\"}]},\"id\":\"d1f23fe3-e6b1-42c9-918e-b3cd9361e4f5\",\"type\":\"Toolbar\"},{\"attributes\":{\"source\":{\"id\":\"4fdf082b-6834-4e9f-b44b-9c940bbea713\",\"type\":\"ColumnDataSource\"}},\"id\":\"50430ea4-c887-46ab-9dd6-a77fa205b5f6\",\"type\":\"CDSView\"},{\"attributes\":{},\"id\":\"7c958f69-2d69-4671-8573-75ad536c3ab2\",\"type\":\"UnionRenderers\"},{\"attributes\":{\"data_source\":{\"id\":\"4fdf082b-6834-4e9f-b44b-9c940bbea713\",\"type\":\"ColumnDataSource\"},\"glyph\":{\"id\":\"6468445d-8b2f-4837-82db-21d366ad5bb9\",\"type\":\"Line\"},\"hover_glyph\":null,\"muted_glyph\":null,\"nonselection_glyph\":{\"id\":\"651c754f-5757-43c2-be3b-069a35216443\",\"type\":\"Line\"},\"selection_glyph\":null,\"view\":{\"id\":\"50430ea4-c887-46ab-9dd6-a77fa205b5f6\",\"type\":\"CDSView\"}},\"id\":\"2166e63c-07e6-4821-9e2a-3b8b99db2be2\",\"type\":\"GlyphRenderer\"},{\"attributes\":{},\"id\":\"3ec38961-827e-437a-857b-8d09632c9617\",\"type\":\"SaveTool\"},{\"attributes\":{\"axis_label\":\"g(\\u03b8)\",\"formatter\":{\"id\":\"e3530394-a0bd-4bb6-ae1c-5aac6eac3204\",\"type\":\"BasicTickFormatter\"},\"plot\":{\"id\":\"b7d94f0f-0563-48a7-a8fb-bca1f8b93c03\",\"subtype\":\"Figure\",\"type\":\"Plot\"},\"ticker\":{\"id\":\"ab7bd5c1-6f7d-48ac-99bc-bd3eeaebbd3f\",\"type\":\"BasicTicker\"}},\"id\":\"f7c84503-c589-4259-98af-f268db6e57d0\",\"type\":\"LinearAxis\"},{\"attributes\":{\"callback\":null},\"id\":\"01750a96-a4a5-4f33-acbc-20e25537a8e8\",\"type\":\"DataRange1d\"},{\"attributes\":{\"below\":[{\"id\":\"248fda4c-9fd0-41ef-80d2-7d59346781e0\",\"type\":\"LinearAxis\"}],\"left\":[{\"id\":\"f7c84503-c589-4259-98af-f268db6e57d0\",\"type\":\"LinearAxis\"}],\"plot_height\":200,\"plot_width\":300,\"renderers\":[{\"id\":\"248fda4c-9fd0-41ef-80d2-7d59346781e0\",\"type\":\"LinearAxis\"},{\"id\":\"28c54566-8143-486d-8f62-46715335d91b\",\"type\":\"Grid\"},{\"id\":\"f7c84503-c589-4259-98af-f268db6e57d0\",\"type\":\"LinearAxis\"},{\"id\":\"74705dbb-1816-4f94-8021-4d784cd4978a\",\"type\":\"Grid\"},{\"id\":\"ff3a0c19-5690-49f9-8ad4-87ed492434ac\",\"type\":\"BoxAnnotation\"},{\"id\":\"2166e63c-07e6-4821-9e2a-3b8b99db2be2\",\"type\":\"GlyphRenderer\"}],\"title\":{\"id\":\"a2765cbf-40c8-475c-bb32-e1a7ae90fe12\",\"type\":\"Title\"},\"toolbar\":{\"id\":\"d1f23fe3-e6b1-42c9-918e-b3cd9361e4f5\",\"type\":\"Toolbar\"},\"x_range\":{\"id\":\"7084c15c-e1a0-4aab-92eb-ffb176711ff3\",\"type\":\"DataRange1d\"},\"x_scale\":{\"id\":\"9a02f85d-544b-4f59-a40c-0a3fc893f49c\",\"type\":\"LinearScale\"},\"y_range\":{\"id\":\"01750a96-a4a5-4f33-acbc-20e25537a8e8\",\"type\":\"DataRange1d\"},\"y_scale\":{\"id\":\"591d8112-7f53-4ea3-877e-563afc4455a9\",\"type\":\"LinearScale\"}},\"id\":\"b7d94f0f-0563-48a7-a8fb-bca1f8b93c03\",\"subtype\":\"Figure\",\"type\":\"Plot\"},{\"attributes\":{},\"id\":\"591d8112-7f53-4ea3-877e-563afc4455a9\",\"type\":\"LinearScale\"},{\"attributes\":{},\"id\":\"4ea3cd99-80aa-4d67-baa2-a32019f352e2\",\"type\":\"WheelZoomTool\"},{\"attributes\":{\"axis_label\":\"\\u03b8\",\"formatter\":{\"id\":\"f12f6bcd-24d9-486b-9828-b7cefefc3261\",\"type\":\"BasicTickFormatter\"},\"plot\":{\"id\":\"b7d94f0f-0563-48a7-a8fb-bca1f8b93c03\",\"subtype\":\"Figure\",\"type\":\"Plot\"},\"ticker\":{\"id\":\"377c0ed0-5c41-427e-b430-ccc0f3bac0fe\",\"type\":\"BasicTicker\"}},\"id\":\"248fda4c-9fd0-41ef-80d2-7d59346781e0\",\"type\":\"LinearAxis\"},{\"attributes\":{\"plot\":{\"id\":\"b7d94f0f-0563-48a7-a8fb-bca1f8b93c03\",\"subtype\":\"Figure\",\"type\":\"Plot\"},\"ticker\":{\"id\":\"377c0ed0-5c41-427e-b430-ccc0f3bac0fe\",\"type\":\"BasicTicker\"}},\"id\":\"28c54566-8143-486d-8f62-46715335d91b\",\"type\":\"Grid\"},{\"attributes\":{\"line_color\":\"#1f77b4\",\"line_width\":2,\"x\":{\"field\":\"x\"},\"y\":{\"field\":\"y\"}},\"id\":\"6468445d-8b2f-4837-82db-21d366ad5bb9\",\"type\":\"Line\"}],\"root_ids\":[\"b7d94f0f-0563-48a7-a8fb-bca1f8b93c03\"]},\"title\":\"Bokeh Application\",\"version\":\"0.13.0\"}};\n",
       "  var render_items = [{\"docid\":\"9bd50d3b-2f48-4fcf-92ba-a176176026c3\",\"roots\":{\"b7d94f0f-0563-48a7-a8fb-bca1f8b93c03\":\"3924c9bd-1042-4c44-99b9-9466023690eb\"}}];\n",
       "  root.Bokeh.embed.embed_items_notebook(docs_json, render_items);\n",
       "\n",
       "  }\n",
       "  if (root.Bokeh !== undefined) {\n",
       "    embed_document(root);\n",
       "  } else {\n",
       "    var attempts = 0;\n",
       "    var timer = setInterval(function(root) {\n",
       "      if (root.Bokeh !== undefined) {\n",
       "        embed_document(root);\n",
       "        clearInterval(timer);\n",
       "      }\n",
       "      attempts++;\n",
       "      if (attempts > 100) {\n",
       "        console.log(\"Bokeh: ERROR: Unable to run BokehJS code because BokehJS library is missing\")\n",
       "        clearInterval(timer);\n",
       "      }\n",
       "    }, 10, root)\n",
       "  }\n",
       "})(window);"
      ],
      "application/vnd.bokehjs_exec.v0+json": ""
     },
     "metadata": {
      "application/vnd.bokehjs_exec.v0+json": {
       "id": "b7d94f0f-0563-48a7-a8fb-bca1f8b93c03"
      }
     },
     "output_type": "display_data"
    }
   ],
   "source": [
    "sigma = np.linspace(0, 1, 200)\n",
    "p = bokeh.plotting.figure(width=300, height=200, \n",
    "                          x_axis_label='θ', \n",
    "                          y_axis_label='g(θ)')\n",
    "p.line(sigma, st.beta.pdf(sigma, 2, 7, loc=0, scale=1), line_width=2)\n",
    "bokeh.io.show(p)"
   ]
  },
  {
   "cell_type": "markdown",
   "metadata": {},
   "source": [
    "The AVA strain is twice as likely to reverse so we predict the distribution will be shifted to the right and more widely peaked, so $\\theta_{AVA}$ = Beta(5,6), \n",
    "shown graphically as:"
   ]
  },
  {
   "cell_type": "code",
   "execution_count": 23,
   "metadata": {},
   "outputs": [
    {
     "data": {
      "text/html": [
       "\n",
       "\n",
       "\n",
       "\n",
       "\n",
       "\n",
       "  <div class=\"bk-root\" id=\"d1348228-d8c3-4ded-9590-e36271982e10\"></div>\n"
      ]
     },
     "metadata": {},
     "output_type": "display_data"
    },
    {
     "data": {
      "application/javascript": [
       "(function(root) {\n",
       "  function embed_document(root) {\n",
       "    \n",
       "  var docs_json = {\"0337f0b0-f1b3-4f9f-a0ee-b6248b118490\":{\"roots\":{\"references\":[{\"attributes\":{\"callback\":null},\"id\":\"d3b83cad-cfd8-4f0a-ace0-d5469564da42\",\"type\":\"DataRange1d\"},{\"attributes\":{\"dimension\":1,\"plot\":{\"id\":\"c96fe420-ae75-44c9-97ea-1015c5620db9\",\"subtype\":\"Figure\",\"type\":\"Plot\"},\"ticker\":{\"id\":\"d03f1081-0014-4935-85e5-75ffade22015\",\"type\":\"BasicTicker\"}},\"id\":\"4f634658-0ee5-4366-ac4c-c4021f148481\",\"type\":\"Grid\"},{\"attributes\":{\"axis_label\":\"g(\\u03b8)\",\"formatter\":{\"id\":\"06095d01-b34c-41e3-8d7d-74881dc43b4e\",\"type\":\"BasicTickFormatter\"},\"plot\":{\"id\":\"c96fe420-ae75-44c9-97ea-1015c5620db9\",\"subtype\":\"Figure\",\"type\":\"Plot\"},\"ticker\":{\"id\":\"d03f1081-0014-4935-85e5-75ffade22015\",\"type\":\"BasicTicker\"}},\"id\":\"1a57325a-64c3-4170-b330-15d74a3778ab\",\"type\":\"LinearAxis\"},{\"attributes\":{\"plot\":null,\"text\":\"\"},\"id\":\"f12be42b-dffe-4b05-8cec-7ef68d4774ca\",\"type\":\"Title\"},{\"attributes\":{},\"id\":\"7000958a-d906-46d7-bf8e-a5a8ebb3aaf4\",\"type\":\"PanTool\"},{\"attributes\":{},\"id\":\"f5a057ce-a67b-483e-9b19-049e4e8a824c\",\"type\":\"BasicTicker\"},{\"attributes\":{},\"id\":\"d03f1081-0014-4935-85e5-75ffade22015\",\"type\":\"BasicTicker\"},{\"attributes\":{},\"id\":\"d9538b14-84ea-4a8a-b3db-d2afd3838549\",\"type\":\"WheelZoomTool\"},{\"attributes\":{\"callback\":null,\"data\":{\"x\":{\"__ndarray__\":\"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\",\"dtype\":\"float64\",\"shape\":[200]},\"y\":{\"__ndarray__\":\"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\",\"dtype\":\"float64\",\"shape\":[200]}},\"selected\":{\"id\":\"6583755a-7e91-4b16-9dc1-f02ecd256252\",\"type\":\"Selection\"},\"selection_policy\":{\"id\":\"dff8fc3c-9436-47d1-8cc7-2a3985cdec2a\",\"type\":\"UnionRenderers\"}},\"id\":\"85663993-1a0a-4125-9c2d-56257a788dce\",\"type\":\"ColumnDataSource\"},{\"attributes\":{\"source\":{\"id\":\"85663993-1a0a-4125-9c2d-56257a788dce\",\"type\":\"ColumnDataSource\"}},\"id\":\"e6b644f3-84f7-4df8-bd50-fae0a2ca2a69\",\"type\":\"CDSView\"},{\"attributes\":{\"callback\":null},\"id\":\"1b0e2337-5232-4870-8047-37b55765ecc1\",\"type\":\"DataRange1d\"},{\"attributes\":{\"bottom_units\":\"screen\",\"fill_alpha\":{\"value\":0.5},\"fill_color\":{\"value\":\"lightgrey\"},\"left_units\":\"screen\",\"level\":\"overlay\",\"line_alpha\":{\"value\":1.0},\"line_color\":{\"value\":\"black\"},\"line_dash\":[4,4],\"line_width\":{\"value\":2},\"plot\":null,\"render_mode\":\"css\",\"right_units\":\"screen\",\"top_units\":\"screen\"},\"id\":\"6f675258-c5af-47fb-8eff-5d2f921c35fc\",\"type\":\"BoxAnnotation\"},{\"attributes\":{\"below\":[{\"id\":\"9ce1f47f-6bc7-49ea-8d68-410ebadad167\",\"type\":\"LinearAxis\"}],\"left\":[{\"id\":\"1a57325a-64c3-4170-b330-15d74a3778ab\",\"type\":\"LinearAxis\"}],\"plot_height\":200,\"plot_width\":300,\"renderers\":[{\"id\":\"9ce1f47f-6bc7-49ea-8d68-410ebadad167\",\"type\":\"LinearAxis\"},{\"id\":\"9a6e425c-00b1-4318-a524-9162624d4dcd\",\"type\":\"Grid\"},{\"id\":\"1a57325a-64c3-4170-b330-15d74a3778ab\",\"type\":\"LinearAxis\"},{\"id\":\"4f634658-0ee5-4366-ac4c-c4021f148481\",\"type\":\"Grid\"},{\"id\":\"6f675258-c5af-47fb-8eff-5d2f921c35fc\",\"type\":\"BoxAnnotation\"},{\"id\":\"0c4b8d56-48f1-4b16-b87d-53986ccd0630\",\"type\":\"GlyphRenderer\"}],\"title\":{\"id\":\"f12be42b-dffe-4b05-8cec-7ef68d4774ca\",\"type\":\"Title\"},\"toolbar\":{\"id\":\"0f588002-338c-4792-bcb5-d65a4ffe0ce5\",\"type\":\"Toolbar\"},\"x_range\":{\"id\":\"1b0e2337-5232-4870-8047-37b55765ecc1\",\"type\":\"DataRange1d\"},\"x_scale\":{\"id\":\"7dd15b29-566c-403f-a552-94c5872489cc\",\"type\":\"LinearScale\"},\"y_range\":{\"id\":\"d3b83cad-cfd8-4f0a-ace0-d5469564da42\",\"type\":\"DataRange1d\"},\"y_scale\":{\"id\":\"5eeada5d-6a87-4b78-aff6-16fe42e84469\",\"type\":\"LinearScale\"}},\"id\":\"c96fe420-ae75-44c9-97ea-1015c5620db9\",\"subtype\":\"Figure\",\"type\":\"Plot\"},{\"attributes\":{},\"id\":\"6583755a-7e91-4b16-9dc1-f02ecd256252\",\"type\":\"Selection\"},{\"attributes\":{\"active_drag\":\"auto\",\"active_inspect\":\"auto\",\"active_multi\":null,\"active_scroll\":\"auto\",\"active_tap\":\"auto\",\"tools\":[{\"id\":\"7000958a-d906-46d7-bf8e-a5a8ebb3aaf4\",\"type\":\"PanTool\"},{\"id\":\"d9538b14-84ea-4a8a-b3db-d2afd3838549\",\"type\":\"WheelZoomTool\"},{\"id\":\"8a12b981-a6c8-4144-b2d1-405fca9bc753\",\"type\":\"BoxZoomTool\"},{\"id\":\"8a2c443f-95f3-4a60-9559-8664844a1f88\",\"type\":\"SaveTool\"},{\"id\":\"bf8330c5-4df1-416e-87d2-0def1b4047bb\",\"type\":\"ResetTool\"},{\"id\":\"75e901d0-b7ee-4fb0-ac16-b00bc610eb72\",\"type\":\"HelpTool\"}]},\"id\":\"0f588002-338c-4792-bcb5-d65a4ffe0ce5\",\"type\":\"Toolbar\"},{\"attributes\":{},\"id\":\"75e901d0-b7ee-4fb0-ac16-b00bc610eb72\",\"type\":\"HelpTool\"},{\"attributes\":{\"data_source\":{\"id\":\"85663993-1a0a-4125-9c2d-56257a788dce\",\"type\":\"ColumnDataSource\"},\"glyph\":{\"id\":\"4245d985-ab93-413f-8dd5-687858de6d5e\",\"type\":\"Line\"},\"hover_glyph\":null,\"muted_glyph\":null,\"nonselection_glyph\":{\"id\":\"253142ed-c00e-41cf-8dfe-b40fb57eb932\",\"type\":\"Line\"},\"selection_glyph\":null,\"view\":{\"id\":\"e6b644f3-84f7-4df8-bd50-fae0a2ca2a69\",\"type\":\"CDSView\"}},\"id\":\"0c4b8d56-48f1-4b16-b87d-53986ccd0630\",\"type\":\"GlyphRenderer\"},{\"attributes\":{},\"id\":\"efe1290d-7b40-418d-9ff9-9ddeb1cced1e\",\"type\":\"BasicTickFormatter\"},{\"attributes\":{\"plot\":{\"id\":\"c96fe420-ae75-44c9-97ea-1015c5620db9\",\"subtype\":\"Figure\",\"type\":\"Plot\"},\"ticker\":{\"id\":\"f5a057ce-a67b-483e-9b19-049e4e8a824c\",\"type\":\"BasicTicker\"}},\"id\":\"9a6e425c-00b1-4318-a524-9162624d4dcd\",\"type\":\"Grid\"},{\"attributes\":{},\"id\":\"bf8330c5-4df1-416e-87d2-0def1b4047bb\",\"type\":\"ResetTool\"},{\"attributes\":{},\"id\":\"8a2c443f-95f3-4a60-9559-8664844a1f88\",\"type\":\"SaveTool\"},{\"attributes\":{},\"id\":\"5eeada5d-6a87-4b78-aff6-16fe42e84469\",\"type\":\"LinearScale\"},{\"attributes\":{\"overlay\":{\"id\":\"6f675258-c5af-47fb-8eff-5d2f921c35fc\",\"type\":\"BoxAnnotation\"}},\"id\":\"8a12b981-a6c8-4144-b2d1-405fca9bc753\",\"type\":\"BoxZoomTool\"},{\"attributes\":{\"line_color\":\"#1f77b4\",\"line_width\":2,\"x\":{\"field\":\"x\"},\"y\":{\"field\":\"y\"}},\"id\":\"4245d985-ab93-413f-8dd5-687858de6d5e\",\"type\":\"Line\"},{\"attributes\":{},\"id\":\"dff8fc3c-9436-47d1-8cc7-2a3985cdec2a\",\"type\":\"UnionRenderers\"},{\"attributes\":{\"axis_label\":\"\\u03b8\",\"formatter\":{\"id\":\"efe1290d-7b40-418d-9ff9-9ddeb1cced1e\",\"type\":\"BasicTickFormatter\"},\"plot\":{\"id\":\"c96fe420-ae75-44c9-97ea-1015c5620db9\",\"subtype\":\"Figure\",\"type\":\"Plot\"},\"ticker\":{\"id\":\"f5a057ce-a67b-483e-9b19-049e4e8a824c\",\"type\":\"BasicTicker\"}},\"id\":\"9ce1f47f-6bc7-49ea-8d68-410ebadad167\",\"type\":\"LinearAxis\"},{\"attributes\":{},\"id\":\"06095d01-b34c-41e3-8d7d-74881dc43b4e\",\"type\":\"BasicTickFormatter\"},{\"attributes\":{\"line_alpha\":0.1,\"line_color\":\"#1f77b4\",\"line_width\":2,\"x\":{\"field\":\"x\"},\"y\":{\"field\":\"y\"}},\"id\":\"253142ed-c00e-41cf-8dfe-b40fb57eb932\",\"type\":\"Line\"},{\"attributes\":{},\"id\":\"7dd15b29-566c-403f-a552-94c5872489cc\",\"type\":\"LinearScale\"}],\"root_ids\":[\"c96fe420-ae75-44c9-97ea-1015c5620db9\"]},\"title\":\"Bokeh Application\",\"version\":\"0.13.0\"}};\n",
       "  var render_items = [{\"docid\":\"0337f0b0-f1b3-4f9f-a0ee-b6248b118490\",\"roots\":{\"c96fe420-ae75-44c9-97ea-1015c5620db9\":\"d1348228-d8c3-4ded-9590-e36271982e10\"}}];\n",
       "  root.Bokeh.embed.embed_items_notebook(docs_json, render_items);\n",
       "\n",
       "  }\n",
       "  if (root.Bokeh !== undefined) {\n",
       "    embed_document(root);\n",
       "  } else {\n",
       "    var attempts = 0;\n",
       "    var timer = setInterval(function(root) {\n",
       "      if (root.Bokeh !== undefined) {\n",
       "        embed_document(root);\n",
       "        clearInterval(timer);\n",
       "      }\n",
       "      attempts++;\n",
       "      if (attempts > 100) {\n",
       "        console.log(\"Bokeh: ERROR: Unable to run BokehJS code because BokehJS library is missing\")\n",
       "        clearInterval(timer);\n",
       "      }\n",
       "    }, 10, root)\n",
       "  }\n",
       "})(window);"
      ],
      "application/vnd.bokehjs_exec.v0+json": ""
     },
     "metadata": {
      "application/vnd.bokehjs_exec.v0+json": {
       "id": "c96fe420-ae75-44c9-97ea-1015c5620db9"
      }
     },
     "output_type": "display_data"
    }
   ],
   "source": [
    "sigma = np.linspace(0, 1, 200)\n",
    "p = bokeh.plotting.figure(width=300, height=200, \n",
    "                          x_axis_label='θ', \n",
    "                          y_axis_label='g(θ)')\n",
    "p.line(sigma, st.beta.pdf(sigma, 5, 6, loc=0, scale=1), line_width=2)\n",
    "bokeh.io.show(p)"
   ]
  },
  {
   "cell_type": "markdown",
   "metadata": {},
   "source": [
    "Now we plot the posterior probability density function for each of the three strains. We put our priors for a and b and the data points we have for n number of reversals in N trials into arrays to make performing calculations for all three strains easier."
   ]
  },
  {
   "cell_type": "code",
   "execution_count": 24,
   "metadata": {},
   "outputs": [],
   "source": [
    "a_array = [1, 2, 5]\n",
    "b_array = [8, 7, 6]\n",
    "n_array = [13, 39, 91]\n",
    "N_array = [126, 124, 124]"
   ]
  },
  {
   "cell_type": "markdown",
   "metadata": {},
   "source": [
    "Now we can do our prior predictive check."
   ]
  },
  {
   "cell_type": "code",
   "execution_count": 25,
   "metadata": {},
   "outputs": [
    {
     "data": {
      "text/html": [
       "\n",
       "\n",
       "\n",
       "\n",
       "\n",
       "\n",
       "  <div class=\"bk-root\" id=\"128aab76-583d-4ab2-839a-a4b3e161d8f6\"></div>\n"
      ]
     },
     "metadata": {},
     "output_type": "display_data"
    },
    {
     "data": {
      "application/javascript": [
       "(function(root) {\n",
       "  function embed_document(root) {\n",
       "    \n",
       "  var docs_json = {\"f9c2c095-95cb-4df6-a72a-e2e8e1ce1608\":{\"roots\":{\"references\":[{\"attributes\":{\"data_source\":{\"id\":\"6b77e061-9265-42b1-be89-d8a167634890\",\"type\":\"ColumnDataSource\"},\"glyph\":{\"id\":\"c6286587-d829-42e0-816e-63a38600918b\",\"type\":\"Circle\"},\"hover_glyph\":null,\"muted_glyph\":null,\"nonselection_glyph\":{\"id\":\"0b4ec82a-9e12-40f1-82cd-e23b69428e50\",\"type\":\"Circle\"},\"selection_glyph\":null,\"view\":{\"id\":\"a6e8a478-6de9-47a9-b278-84dd4d468000\",\"type\":\"CDSView\"}},\"id\":\"3e7522cf-9e52-4bf8-b74e-d9c4b748ecbd\",\"type\":\"GlyphRenderer\"},{\"attributes\":{\"fill_color\":{\"value\":\"#1f77b4\"},\"line_alpha\":{\"value\":0},\"line_color\":{\"value\":\"#1f77b4\"},\"x\":{\"field\":\"x\"},\"y\":{\"field\":\"y\"}},\"id\":\"c6286587-d829-42e0-816e-63a38600918b\",\"type\":\"Circle\"},{\"attributes\":{\"source\":{\"id\":\"6b77e061-9265-42b1-be89-d8a167634890\",\"type\":\"ColumnDataSource\"}},\"id\":\"a6e8a478-6de9-47a9-b278-84dd4d468000\",\"type\":\"CDSView\"},{\"attributes\":{\"callback\":null,\"data\":{\"x\":{\"__ndarray__\":\"lVJKKaWUwj/OOeecc87JP9daa6211so/55xzzjnnzD8AAAAAAADQP4QQQgghhNA/EUIIIYQQ0j8RQgghhBDSP5VSSimllNI/nXPOOeec0z8hhBBCCCHUPymllFJKKdU/KaWUUkop1T8ppZRSSinVPymllFJKKdU/rbXWWmut1T+ttdZaa63VP7bWWmuttdY/Ouecc8451z++9957773XP7733nvvvdc/vvfee++91z/GGGOMMcbYP8YYY4wxxtg/xhhjjDHG2D/GGGOMMcbYP0oppZRSStk/SimllFJK2T9KKaWUUkrZP84555xzztk/zjnnnHPO2T/OOeecc87ZP84555xzztk/U0oppZRS2j9TSimllFLaP1NKKaWUUto/W2uttdZa2z/fe++9997bP2OMMcYYY9w/Y4wxxhhj3D9jjDHGGGPcP2uttdZaa90/a6211lpr3T/vvffee+/dP++99957790/77333nvv3T/vvffee+/dP3TOOeecc94/dM4555xz3j9877333nvfP3zvvffee98/fO+999573z8AAAAAAADgPwAAAAAAAOA/QgghhBBC4D9CCCGEEELgP4QQQgghhOA/hBBCCCGE4D/GGGOMMcbgP8YYY4wxxuA/xhhjjDHG4D8IIYQQQgjhP0oppZRSSuE/SimllFJK4T+MMcYYY4zhP4wxxhhjjOE/zjnnnHPO4T/OOeecc87hP84555xzzuE/lVJKKaWU4j+VUkoppZTiP5VSSimllOI/11prrbXW4j8ZY4wxxhjjPxljjDHGGOM/W2uttdZa4z9ba6211lrjP1trrbXWWuM/nXPOOeec4z+dc84555zjP99777333uM/33vvvffe4z9jjDHGGGPkP+ecc8455+Q/KaWUUkop5T8ppZRSSinlP2uttdZaa+U/77333nvv5T8yxhhjjDHmPzLGGGOMMeY/MsYYY4wx5j8yxhhjjDHmP/jee++99+Y/fO+999575z++9957773nP7733nvvvec/hBBCCCGE6D8IIYQQQgjpP84555xzzuk/GWOMMcYY6z8=\",\"dtype\":\"float64\",\"shape\":[100]},\"y\":{\"__ndarray__\":\"exSuR+F6hD97FK5H4XqUP7gehetRuJ4/exSuR+F6pD+amZmZmZmpP7gehetRuK4/7FG4HoXrsT97FK5H4Xq0PwrXo3A9Crc/mpmZmZmZuT8pXI/C9Si8P7gehetRuL4/pHA9CtejwD/sUbgehevBPzMzMzMzM8M/exSuR+F6xD/D9Shcj8LFPwrXo3A9Csc/UrgehetRyD+amZmZmZnJP+F6FK5H4co/KVyPwvUozD9xPQrXo3DNP7gehetRuM4/AAAAAAAA0D+kcD0K16PQP0jhehSuR9E/7FG4HoXr0T+PwvUoXI/SPzMzMzMzM9M/16NwPQrX0z97FK5H4XrUPx+F61G4HtU/w/UoXI/C1T9mZmZmZmbWPwrXo3A9Ctc/rkfhehSu1z9SuB6F61HYP/YoXI/C9dg/mpmZmZmZ2T89CtejcD3aP+F6FK5H4do/hetRuB6F2z8pXI/C9SjcP83MzMzMzNw/cT0K16Nw3T8UrkfhehTeP7gehetRuN4/XI/C9Shc3z8AAAAAAADgP1K4HoXrUeA/pHA9Ctej4D/2KFyPwvXgP0jhehSuR+E/mpmZmZmZ4T/sUbgehevhPz0K16NwPeI/j8L1KFyP4j/hehSuR+HiPzMzMzMzM+M/hetRuB6F4z/Xo3A9CtfjPylcj8L1KOQ/exSuR+F65D/NzMzMzMzkPx+F61G4HuU/cT0K16Nw5T/D9Shcj8LlPxSuR+F6FOY/ZmZmZmZm5j+4HoXrUbjmPwrXo3A9Cuc/XI/C9Shc5z+uR+F6FK7nPwAAAAAAAOg/UrgehetR6D+kcD0K16PoP/YoXI/C9eg/SOF6FK5H6T+amZmZmZnpP+xRuB6F6+k/PQrXo3A96j+PwvUoXI/qP+F6FK5H4eo/MzMzMzMz6z+F61G4HoXrP9ejcD0K1+s/KVyPwvUo7D97FK5H4XrsP83MzMzMzOw/H4XrUbge7T9xPQrXo3DtP8P1KFyPwu0/FK5H4XoU7j9mZmZmZmbuP7gehetRuO4/CtejcD0K7z9cj8L1KFzvP65H4XoUru8/AAAAAAAA8D8=\",\"dtype\":\"float64\",\"shape\":[100]}},\"selected\":{\"id\":\"dfe89fcf-16cc-4a8a-a576-a955009a1c1f\",\"type\":\"Selection\"},\"selection_policy\":{\"id\":\"dbaf9b83-b756-4c26-bdc4-491aabbf33c1\",\"type\":\"UnionRenderers\"}},\"id\":\"29a3a19f-c54a-44aa-813e-f0a97e096910\",\"type\":\"ColumnDataSource\"},{\"attributes\":{\"fill_color\":{\"value\":\"#1f77b4\"},\"line_alpha\":{\"value\":0},\"line_color\":{\"value\":\"#1f77b4\"},\"x\":{\"field\":\"x\"},\"y\":{\"field\":\"y\"}},\"id\":\"863be46e-8d37-4dd7-abcb-d052d97084ac\",\"type\":\"Circle\"},{\"attributes\":{\"source\":{\"id\":\"a1dcda0c-f984-4a5e-8eed-9de780301879\",\"type\":\"ColumnDataSource\"}},\"id\":\"166d113b-845f-4405-b11e-0a2f86e74f3b\",\"type\":\"CDSView\"},{\"attributes\":{\"fill_alpha\":{\"value\":0.1},\"fill_color\":{\"value\":\"#1f77b4\"},\"line_alpha\":{\"value\":0.1},\"line_color\":{\"value\":\"#1f77b4\"},\"x\":{\"field\":\"x\"},\"y\":{\"field\":\"y\"}},\"id\":\"cda6b215-98b9-4b44-a5c1-6ff353a600ac\",\"type\":\"Circle\"},{\"attributes\":{},\"id\":\"d126434a-795e-4db3-abf1-d17316b74475\",\"type\":\"BasicTicker\"},{\"attributes\":{\"data_source\":{\"id\":\"29a3a19f-c54a-44aa-813e-f0a97e096910\",\"type\":\"ColumnDataSource\"},\"glyph\":{\"id\":\"863be46e-8d37-4dd7-abcb-d052d97084ac\",\"type\":\"Circle\"},\"hover_glyph\":null,\"muted_glyph\":null,\"nonselection_glyph\":{\"id\":\"cda6b215-98b9-4b44-a5c1-6ff353a600ac\",\"type\":\"Circle\"},\"selection_glyph\":null,\"view\":{\"id\":\"7d377117-e873-480c-81bf-dc9d6534e2dd\",\"type\":\"CDSView\"}},\"id\":\"2805345e-21af-40e9-8b82-daee3da56781\",\"type\":\"GlyphRenderer\"},{\"attributes\":{},\"id\":\"fdc6b514-9b2d-41ed-866b-5d9bd8aa83a4\",\"type\":\"HelpTool\"},{\"attributes\":{\"source\":{\"id\":\"29a3a19f-c54a-44aa-813e-f0a97e096910\",\"type\":\"ColumnDataSource\"}},\"id\":\"7d377117-e873-480c-81bf-dc9d6534e2dd\",\"type\":\"CDSView\"},{\"attributes\":{\"fill_alpha\":{\"value\":0.1},\"fill_color\":{\"value\":\"#1f77b4\"},\"line_alpha\":{\"value\":0.1},\"line_color\":{\"value\":\"#1f77b4\"},\"x\":{\"field\":\"x\"},\"y\":{\"field\":\"y\"}},\"id\":\"0b4ec82a-9e12-40f1-82cd-e23b69428e50\",\"type\":\"Circle\"},{\"attributes\":{\"active_drag\":\"auto\",\"active_inspect\":\"auto\",\"active_multi\":null,\"active_scroll\":\"auto\",\"active_tap\":\"auto\",\"tools\":[{\"id\":\"6ffd8e3d-1c4c-4bcf-b025-5ebc0c5aaefe\",\"type\":\"PanTool\"},{\"id\":\"37af23ca-d96e-40fc-930a-fdaeac54f143\",\"type\":\"WheelZoomTool\"},{\"id\":\"693b2dfc-b212-4dff-99c7-fe0202bf3d0f\",\"type\":\"BoxZoomTool\"},{\"id\":\"457de361-0fa5-4444-930b-c096b2682549\",\"type\":\"SaveTool\"},{\"id\":\"89ef4106-bd37-45d5-a768-fc7a76bbf89e\",\"type\":\"ResetTool\"},{\"id\":\"fdc6b514-9b2d-41ed-866b-5d9bd8aa83a4\",\"type\":\"HelpTool\"}]},\"id\":\"40ae3360-06ed-4db7-aaa2-829483d9d7db\",\"type\":\"Toolbar\"},{\"attributes\":{\"fill_color\":{\"value\":\"#1f77b4\"},\"line_alpha\":{\"value\":0},\"line_color\":{\"value\":\"#1f77b4\"},\"x\":{\"field\":\"x\"},\"y\":{\"field\":\"y\"}},\"id\":\"d1b5b4ed-7cc9-449c-b854-7a3fb5e254ff\",\"type\":\"Circle\"},{\"attributes\":{},\"id\":\"29fc410b-a485-41ed-a274-775a8502b1c7\",\"type\":\"BasicTickFormatter\"},{\"attributes\":{\"below\":[{\"id\":\"caf0820c-20d0-43d0-b600-c8e77e0b45c5\",\"type\":\"LinearAxis\"}],\"left\":[{\"id\":\"419ec667-17d2-43b3-bb1b-df66f1b35b13\",\"type\":\"LinearAxis\"}],\"plot_height\":300,\"plot_width\":450,\"renderers\":[{\"id\":\"caf0820c-20d0-43d0-b600-c8e77e0b45c5\",\"type\":\"LinearAxis\"},{\"id\":\"c87d10e8-be11-4ecb-9f39-0c088e4f300f\",\"type\":\"Grid\"},{\"id\":\"419ec667-17d2-43b3-bb1b-df66f1b35b13\",\"type\":\"LinearAxis\"},{\"id\":\"167a0eee-f3be-4ac1-8eed-cad5b4bee6ce\",\"type\":\"Grid\"},{\"id\":\"806bf2ee-9542-4fff-81bd-8ad6e9aa193c\",\"type\":\"BoxAnnotation\"},{\"id\":\"227ce0c1-3ebd-4104-ac79-29ebe06a7c1b\",\"type\":\"GlyphRenderer\"},{\"id\":\"3e7522cf-9e52-4bf8-b74e-d9c4b748ecbd\",\"type\":\"GlyphRenderer\"},{\"id\":\"2805345e-21af-40e9-8b82-daee3da56781\",\"type\":\"GlyphRenderer\"}],\"title\":null,\"toolbar\":{\"id\":\"40ae3360-06ed-4db7-aaa2-829483d9d7db\",\"type\":\"Toolbar\"},\"x_range\":{\"id\":\"df52f459-de19-4624-9604-2de44a63123a\",\"type\":\"DataRange1d\"},\"x_scale\":{\"id\":\"b0f8f3ca-5403-4986-bc46-34d4ceb52ca8\",\"type\":\"LinearScale\"},\"y_range\":{\"id\":\"2e1bad2d-77fa-4a4d-a461-d3e68c632111\",\"type\":\"DataRange1d\"},\"y_scale\":{\"id\":\"7421acd8-20e9-4133-9fe1-4838c900a082\",\"type\":\"LinearScale\"}},\"id\":\"78b709bf-1192-4ce1-ae64-97129a012d59\",\"subtype\":\"Figure\",\"type\":\"Plot\"},{\"attributes\":{},\"id\":\"170dc950-d71e-45f6-9f10-d03d69b4b1b9\",\"type\":\"Selection\"},{\"attributes\":{},\"id\":\"457de361-0fa5-4444-930b-c096b2682549\",\"type\":\"SaveTool\"},{\"attributes\":{},\"id\":\"b0f8f3ca-5403-4986-bc46-34d4ceb52ca8\",\"type\":\"LinearScale\"},{\"attributes\":{},\"id\":\"dce69925-87b2-4c29-9ea5-9a1c17a05ee4\",\"type\":\"BasicTickFormatter\"},{\"attributes\":{},\"id\":\"71c3c321-df89-4b23-adb8-65a748057029\",\"type\":\"UnionRenderers\"},{\"attributes\":{\"data_source\":{\"id\":\"a1dcda0c-f984-4a5e-8eed-9de780301879\",\"type\":\"ColumnDataSource\"},\"glyph\":{\"id\":\"d1b5b4ed-7cc9-449c-b854-7a3fb5e254ff\",\"type\":\"Circle\"},\"hover_glyph\":null,\"muted_glyph\":null,\"nonselection_glyph\":{\"id\":\"453e8ce7-cb9e-4385-87ca-9c6f636e56b0\",\"type\":\"Circle\"},\"selection_glyph\":null,\"view\":{\"id\":\"166d113b-845f-4405-b11e-0a2f86e74f3b\",\"type\":\"CDSView\"}},\"id\":\"227ce0c1-3ebd-4104-ac79-29ebe06a7c1b\",\"type\":\"GlyphRenderer\"},{\"attributes\":{},\"id\":\"68666ebf-90d2-405f-a6cf-8432b4f8f2c3\",\"type\":\"Selection\"},{\"attributes\":{\"fill_alpha\":{\"value\":0.1},\"fill_color\":{\"value\":\"#1f77b4\"},\"line_alpha\":{\"value\":0.1},\"line_color\":{\"value\":\"#1f77b4\"},\"x\":{\"field\":\"x\"},\"y\":{\"field\":\"y\"}},\"id\":\"453e8ce7-cb9e-4385-87ca-9c6f636e56b0\",\"type\":\"Circle\"},{\"attributes\":{},\"id\":\"95171d5f-61bb-4957-b05d-0ff6e084f4bc\",\"type\":\"UnionRenderers\"},{\"attributes\":{\"overlay\":{\"id\":\"806bf2ee-9542-4fff-81bd-8ad6e9aa193c\",\"type\":\"BoxAnnotation\"}},\"id\":\"693b2dfc-b212-4dff-99c7-fe0202bf3d0f\",\"type\":\"BoxZoomTool\"},{\"attributes\":{\"callback\":null},\"id\":\"2e1bad2d-77fa-4a4d-a461-d3e68c632111\",\"type\":\"DataRange1d\"},{\"attributes\":{},\"id\":\"dfe89fcf-16cc-4a8a-a576-a955009a1c1f\",\"type\":\"Selection\"},{\"attributes\":{\"dimension\":1,\"plot\":{\"id\":\"78b709bf-1192-4ce1-ae64-97129a012d59\",\"subtype\":\"Figure\",\"type\":\"Plot\"},\"ticker\":{\"id\":\"d126434a-795e-4db3-abf1-d17316b74475\",\"type\":\"BasicTicker\"}},\"id\":\"167a0eee-f3be-4ac1-8eed-cad5b4bee6ce\",\"type\":\"Grid\"},{\"attributes\":{},\"id\":\"dbaf9b83-b756-4c26-bdc4-491aabbf33c1\",\"type\":\"UnionRenderers\"},{\"attributes\":{\"axis_label\":\"ECDF\",\"formatter\":{\"id\":\"29fc410b-a485-41ed-a274-775a8502b1c7\",\"type\":\"BasicTickFormatter\"},\"plot\":{\"id\":\"78b709bf-1192-4ce1-ae64-97129a012d59\",\"subtype\":\"Figure\",\"type\":\"Plot\"},\"ticker\":{\"id\":\"d126434a-795e-4db3-abf1-d17316b74475\",\"type\":\"BasicTicker\"}},\"id\":\"419ec667-17d2-43b3-bb1b-df66f1b35b13\",\"type\":\"LinearAxis\"},{\"attributes\":{},\"id\":\"6ffd8e3d-1c4c-4bcf-b025-5ebc0c5aaefe\",\"type\":\"PanTool\"},{\"attributes\":{},\"id\":\"37af23ca-d96e-40fc-930a-fdaeac54f143\",\"type\":\"WheelZoomTool\"},{\"attributes\":{},\"id\":\"4ffc54e3-b0cf-40f2-8b40-1212e28a5211\",\"type\":\"BasicTicker\"},{\"attributes\":{\"callback\":null},\"id\":\"df52f459-de19-4624-9604-2de44a63123a\",\"type\":\"DataRange1d\"},{\"attributes\":{\"axis_label\":\"probability of reversal\",\"formatter\":{\"id\":\"dce69925-87b2-4c29-9ea5-9a1c17a05ee4\",\"type\":\"BasicTickFormatter\"},\"plot\":{\"id\":\"78b709bf-1192-4ce1-ae64-97129a012d59\",\"subtype\":\"Figure\",\"type\":\"Plot\"},\"ticker\":{\"id\":\"4ffc54e3-b0cf-40f2-8b40-1212e28a5211\",\"type\":\"BasicTicker\"}},\"id\":\"caf0820c-20d0-43d0-b600-c8e77e0b45c5\",\"type\":\"LinearAxis\"},{\"attributes\":{},\"id\":\"89ef4106-bd37-45d5-a768-fc7a76bbf89e\",\"type\":\"ResetTool\"},{\"attributes\":{},\"id\":\"7421acd8-20e9-4133-9fe1-4838c900a082\",\"type\":\"LinearScale\"},{\"attributes\":{\"bottom_units\":\"screen\",\"fill_alpha\":{\"value\":0.5},\"fill_color\":{\"value\":\"lightgrey\"},\"left_units\":\"screen\",\"level\":\"overlay\",\"line_alpha\":{\"value\":1.0},\"line_color\":{\"value\":\"black\"},\"line_dash\":[4,4],\"line_width\":{\"value\":2},\"plot\":null,\"render_mode\":\"css\",\"right_units\":\"screen\",\"top_units\":\"screen\"},\"id\":\"806bf2ee-9542-4fff-81bd-8ad6e9aa193c\",\"type\":\"BoxAnnotation\"},{\"attributes\":{\"callback\":null,\"data\":{\"x\":{\"__ndarray__\":\"AAAAAAAAAAAAAAAAAAAAAAAAAAAAAAAAAAAAAAAAAAAAAAAAAAAAAAAAAAAAAAAAAAAAAAAAAAAAAAAAAAAAAAAAAAAAAAAAAAAAAAAAAAAAAAAAAAAAAAAAAAAAAAAAEARBEARBgD8QBEEQBEGAPxAEQRAEQYA/EARBEARBgD8QBEEQBEGAPxAEQRAEQZA/EARBEARBkD8QBEEQBEGQPxAEQRAEQZA/EARBEARBkD8QBEEQBEGQPxAEQRAEQZA/GIZhGIZhmD8YhmEYhmGYPxiGYRiGYZg/GIZhGIZhmD8YhmEYhmGYPxiGYRiGYZg/EARBEARBoD8QBEEQBEGgPxAEQRAEQaA/FEVRFEVRpD8URVEURVGkPxRFURRFUaQ/GIZhGIZhqD8YhmEYhmGoPxiGYRiGYag/GIZhGIZhqD8YhmEYhmGoPxiGYRiGYag/GIZhGIZhqD8YhmEYhmGoPxiGYRiGYag/HMdxHMdxrD8cx3Ecx3GsPxzHcRzHcaw/EARBEARBsD8QBEEQBEGwPxAEQRAEQbA/kiRJkiRJsj+SJEmSJEmyP5IkSZIkSbI/kiRJkiRJsj+SJEmSJEmyP5IkSZIkSbI/kiRJkiRJsj+SJEmSJEmyPxRFURRFUbQ/FEVRFEVRtD8URVEURVG0PxRFURRFUbQ/lmVZlmVZtj+WZVmWZVm2P5ZlWZZlWbY/GIZhGIZhuD8YhmEYhmG4PxiGYRiGYbg/GIZhGIZhuD8YhmEYhmG4P5qmaZqmabo/mqZpmqZpuj+apmmapmm6P5qmaZqmabo/HMdxHMdxvD8cx3Ecx3G8PxzHcRzHcbw/nud5nud5vj+SJEmSJEnCPxRFURRFUcQ/VVVVVVVVxT9VVVVVVVXFP5ZlWZZlWcY/GIZhGIZhyD9ZlmVZlmXJP1mWZVmWZck/mqZpmqZpyj+apmmapmnKP13XdV3Xdc0/3/d93/d9zz8QBEEQBEHQPxAEQRAEQdA/MQzDMAzD0D9yHMdxHMfRP9M0TdM0TdM/NU3TNE3T1D81TdM0TdPUPzVN0zRN09Q//L7v+77v2z8=\",\"dtype\":\"float64\",\"shape\":[100]},\"y\":{\"__ndarray__\":\"exSuR+F6hD97FK5H4XqUP7gehetRuJ4/exSuR+F6pD+amZmZmZmpP7gehetRuK4/7FG4HoXrsT97FK5H4Xq0PwrXo3A9Crc/mpmZmZmZuT8pXI/C9Si8P7gehetRuL4/pHA9CtejwD/sUbgehevBPzMzMzMzM8M/exSuR+F6xD/D9Shcj8LFPwrXo3A9Csc/UrgehetRyD+amZmZmZnJP+F6FK5H4co/KVyPwvUozD9xPQrXo3DNP7gehetRuM4/AAAAAAAA0D+kcD0K16PQP0jhehSuR9E/7FG4HoXr0T+PwvUoXI/SPzMzMzMzM9M/16NwPQrX0z97FK5H4XrUPx+F61G4HtU/w/UoXI/C1T9mZmZmZmbWPwrXo3A9Ctc/rkfhehSu1z9SuB6F61HYP/YoXI/C9dg/mpmZmZmZ2T89CtejcD3aP+F6FK5H4do/hetRuB6F2z8pXI/C9SjcP83MzMzMzNw/cT0K16Nw3T8UrkfhehTeP7gehetRuN4/XI/C9Shc3z8AAAAAAADgP1K4HoXrUeA/pHA9Ctej4D/2KFyPwvXgP0jhehSuR+E/mpmZmZmZ4T/sUbgehevhPz0K16NwPeI/j8L1KFyP4j/hehSuR+HiPzMzMzMzM+M/hetRuB6F4z/Xo3A9CtfjPylcj8L1KOQ/exSuR+F65D/NzMzMzMzkPx+F61G4HuU/cT0K16Nw5T/D9Shcj8LlPxSuR+F6FOY/ZmZmZmZm5j+4HoXrUbjmPwrXo3A9Cuc/XI/C9Shc5z+uR+F6FK7nPwAAAAAAAOg/UrgehetR6D+kcD0K16PoP/YoXI/C9eg/SOF6FK5H6T+amZmZmZnpP+xRuB6F6+k/PQrXo3A96j+PwvUoXI/qP+F6FK5H4eo/MzMzMzMz6z+F61G4HoXrP9ejcD0K1+s/KVyPwvUo7D97FK5H4XrsP83MzMzMzOw/H4XrUbge7T9xPQrXo3DtP8P1KFyPwu0/FK5H4XoU7j9mZmZmZmbuP7gehetRuO4/CtejcD0K7z9cj8L1KFzvP65H4XoUru8/AAAAAAAA8D8=\",\"dtype\":\"float64\",\"shape\":[100]}},\"selected\":{\"id\":\"170dc950-d71e-45f6-9f10-d03d69b4b1b9\",\"type\":\"Selection\"},\"selection_policy\":{\"id\":\"71c3c321-df89-4b23-adb8-65a748057029\",\"type\":\"UnionRenderers\"}},\"id\":\"a1dcda0c-f984-4a5e-8eed-9de780301879\",\"type\":\"ColumnDataSource\"},{\"attributes\":{\"callback\":null,\"data\":{\"x\":{\"__ndarray__\":\"AAAAAAAAAACEEEIIIYSQP4QQQgghhJA/pZRSSimlpD+llFJKKaWkP8YYY4wxxqg/55xzzjnnrD+EEEIIIYSwP4QQQgghhLA/lVJKKaWUsj+21lprrbW2P7bWWmuttbY/ttZaa621tj/XWmuttda6P9daa6211ro/55xzzjnnvD/nnHPOOee8P4QQQgghhMA/hBBCCCGEwD+EEEIIIYTAP4QQQgghhMA/hBBCCCGEwD+EEEIIIYTAP4wxxhhjjME/jDHGGGOMwT+VUkoppZTCP51zzjnnnMM/nXPOOeecwz+llFJKKaXEP6WUUkoppcQ/pZRSSimlxD+ttdZaa63FP7bWWmuttcY/ttZaa621xj+21lprrbXGP7733nvvvcc/vvfee++9xz/GGGOMMcbIP8YYY4wxxsg/xhhjjDHGyD/GGGOMMcbIP84555xzzsk/zjnnnHPOyT/XWmuttdbKP99777333ss/33vvvffeyz/fe++9997LP+ecc84558w/55xzzjnnzD/nnHPOOefMP+ecc84558w/55xzzjnnzD/vvffee+/NP++99957780/+N577733zj/43nvvvffOP/jee++9984/+N577733zj/43nvvvffOPwAAAAAAANA/hBBCCCGE0D+EEEIIIYTQP4wxxhhjjNE/EUIIIYQQ0j+VUkoppZTSP5VSSimllNI/lVJKKaWU0j8ZY4wxxhjTPxljjDHGGNM/GWOMMcYY0z+dc84555zTPyGEEEIIIdQ/IYQQQggh1D+llFJKKaXUPymllFJKKdU/KaWUUkop1T+ttdZaa63VPzLGGGOMMdY/MsYYY4wx1j8yxhhjjDHWPzLGGGOMMdY/Ouecc8451z8655xzzjnXPzrnnHPOOdc/QgghhBBC2D/GGGOMMcbYP8YYY4wxxtg/SimllFJK2T/XWmuttdbaP1trrbXWWts/W2uttdZa2z/fe++9997bP2OMMcYYY9w/Y4wxxhhj3D/nnHPOOefcP/jee++9994/+N5777333j9877333nvfP8YYY4wxxuA/CCGEEEII4T8=\",\"dtype\":\"float64\",\"shape\":[100]},\"y\":{\"__ndarray__\":\"exSuR+F6hD97FK5H4XqUP7gehetRuJ4/exSuR+F6pD+amZmZmZmpP7gehetRuK4/7FG4HoXrsT97FK5H4Xq0PwrXo3A9Crc/mpmZmZmZuT8pXI/C9Si8P7gehetRuL4/pHA9CtejwD/sUbgehevBPzMzMzMzM8M/exSuR+F6xD/D9Shcj8LFPwrXo3A9Csc/UrgehetRyD+amZmZmZnJP+F6FK5H4co/KVyPwvUozD9xPQrXo3DNP7gehetRuM4/AAAAAAAA0D+kcD0K16PQP0jhehSuR9E/7FG4HoXr0T+PwvUoXI/SPzMzMzMzM9M/16NwPQrX0z97FK5H4XrUPx+F61G4HtU/w/UoXI/C1T9mZmZmZmbWPwrXo3A9Ctc/rkfhehSu1z9SuB6F61HYP/YoXI/C9dg/mpmZmZmZ2T89CtejcD3aP+F6FK5H4do/hetRuB6F2z8pXI/C9SjcP83MzMzMzNw/cT0K16Nw3T8UrkfhehTeP7gehetRuN4/XI/C9Shc3z8AAAAAAADgP1K4HoXrUeA/pHA9Ctej4D/2KFyPwvXgP0jhehSuR+E/mpmZmZmZ4T/sUbgehevhPz0K16NwPeI/j8L1KFyP4j/hehSuR+HiPzMzMzMzM+M/hetRuB6F4z/Xo3A9CtfjPylcj8L1KOQ/exSuR+F65D/NzMzMzMzkPx+F61G4HuU/cT0K16Nw5T/D9Shcj8LlPxSuR+F6FOY/ZmZmZmZm5j+4HoXrUbjmPwrXo3A9Cuc/XI/C9Shc5z+uR+F6FK7nPwAAAAAAAOg/UrgehetR6D+kcD0K16PoP/YoXI/C9eg/SOF6FK5H6T+amZmZmZnpP+xRuB6F6+k/PQrXo3A96j+PwvUoXI/qP+F6FK5H4eo/MzMzMzMz6z+F61G4HoXrP9ejcD0K1+s/KVyPwvUo7D97FK5H4XrsP83MzMzMzOw/H4XrUbge7T9xPQrXo3DtP8P1KFyPwu0/FK5H4XoU7j9mZmZmZmbuP7gehetRuO4/CtejcD0K7z9cj8L1KFzvP65H4XoUru8/AAAAAAAA8D8=\",\"dtype\":\"float64\",\"shape\":[100]}},\"selected\":{\"id\":\"68666ebf-90d2-405f-a6cf-8432b4f8f2c3\",\"type\":\"Selection\"},\"selection_policy\":{\"id\":\"95171d5f-61bb-4957-b05d-0ff6e084f4bc\",\"type\":\"UnionRenderers\"}},\"id\":\"6b77e061-9265-42b1-be89-d8a167634890\",\"type\":\"ColumnDataSource\"},{\"attributes\":{\"plot\":{\"id\":\"78b709bf-1192-4ce1-ae64-97129a012d59\",\"subtype\":\"Figure\",\"type\":\"Plot\"},\"ticker\":{\"id\":\"4ffc54e3-b0cf-40f2-8b40-1212e28a5211\",\"type\":\"BasicTicker\"}},\"id\":\"c87d10e8-be11-4ecb-9f39-0c088e4f300f\",\"type\":\"Grid\"}],\"root_ids\":[\"78b709bf-1192-4ce1-ae64-97129a012d59\"]},\"title\":\"Bokeh Application\",\"version\":\"0.13.0\"}};\n",
       "  var render_items = [{\"docid\":\"f9c2c095-95cb-4df6-a72a-e2e8e1ce1608\",\"roots\":{\"78b709bf-1192-4ce1-ae64-97129a012d59\":\"128aab76-583d-4ab2-839a-a4b3e161d8f6\"}}];\n",
       "  root.Bokeh.embed.embed_items_notebook(docs_json, render_items);\n",
       "\n",
       "  }\n",
       "  if (root.Bokeh !== undefined) {\n",
       "    embed_document(root);\n",
       "  } else {\n",
       "    var attempts = 0;\n",
       "    var timer = setInterval(function(root) {\n",
       "      if (root.Bokeh !== undefined) {\n",
       "        embed_document(root);\n",
       "        clearInterval(timer);\n",
       "      }\n",
       "      attempts++;\n",
       "      if (attempts > 100) {\n",
       "        console.log(\"Bokeh: ERROR: Unable to run BokehJS code because BokehJS library is missing\")\n",
       "        clearInterval(timer);\n",
       "      }\n",
       "    }, 10, root)\n",
       "  }\n",
       "})(window);"
      ],
      "application/vnd.bokehjs_exec.v0+json": ""
     },
     "metadata": {
      "application/vnd.bokehjs_exec.v0+json": {
       "id": "78b709bf-1192-4ce1-ae64-97129a012d59"
      }
     },
     "output_type": "display_data"
    }
   ],
   "source": [
    "n_ppc_samples = 1000\n",
    "\n",
    "for i in range(3):\n",
    "    # Draw parameters out of the prior\n",
    "    theta = np.random.beta(a_array[i], b_array[i], size=100)\n",
    "\n",
    "    # Draw data sets out of the likelihood for each set of prior params\n",
    "    n = [np.random.binomial(N_array[i], t)/N_array[i] for t in theta]\n",
    "    \n",
    "    if i == 0:\n",
    "        prior = bebi103.viz.ecdf(n, \n",
    "                             x_axis_label='probability of reversal',\n",
    "                             alpha=1, \n",
    "                             line_alpha=0)\n",
    "    else:\n",
    "        prior = bebi103.viz.ecdf(n, \n",
    "                             x_axis_label='probability of reversal',\n",
    "                             p = prior,\n",
    "                             alpha=1, \n",
    "                             line_alpha=0)\n",
    "bokeh.io.show(prior)"
   ]
  },
  {
   "cell_type": "markdown",
   "metadata": {},
   "source": [
    "This looks great so we can now move on to our analysis!"
   ]
  },
  {
   "cell_type": "markdown",
   "metadata": {},
   "source": [
    "**B) Plot the posterior probability density function for each of the three strains. What can you conclude from this?**"
   ]
  },
  {
   "cell_type": "code",
   "execution_count": 26,
   "metadata": {},
   "outputs": [],
   "source": [
    "theta_array = np.linspace(0.01, 0.99, num=200)\n",
    "output = []\n",
    "\n",
    "for i in range(3):\n",
    "    pp = []\n",
    "\n",
    "    for t in theta_array:\n",
    "        # Prior on each theta\n",
    "        log_prior = st.beta.logpdf(t, a_array[i], b_array[i])\n",
    "\n",
    "        # The log_likelihood is just the binomial distribution\n",
    "        log_like = np.sum(st.binom.logpmf(n_array[i], N_array[i], t))\n",
    "\n",
    "        pp.append(log_prior + log_like)\n",
    "        \n",
    "    output.append(pp)  # need to exp becuase you don't want to plot the log"
   ]
  },
  {
   "cell_type": "markdown",
   "metadata": {},
   "source": [
    "We can compute the normalization constant (conceptually, the area under the curve of our line). Since we want to plot the probability density, we want the area under the curve to be equal to 1, so we divide our trial values by the normalization constant."
   ]
  },
  {
   "cell_type": "code",
   "execution_count": 27,
   "metadata": {},
   "outputs": [],
   "source": [
    "def normalize(data):\n",
    "    trial = np.exp((data - np.array(data).max()))\n",
    "    \n",
    "    # Compute marginalized posterior\n",
    "    norm_constant = np.trapz(trial, x=theta_array)\n",
    "    trial_norm = trial / norm_constant\n",
    "    return trial_norm"
   ]
  },
  {
   "cell_type": "code",
   "execution_count": 28,
   "metadata": {},
   "outputs": [],
   "source": [
    "trial_wt_norm = normalize(output[0])\n",
    "trial_ash_norm = normalize(output[1])\n",
    "trial_ava_norm = normalize(output[2])"
   ]
  },
  {
   "cell_type": "markdown",
   "metadata": {},
   "source": [
    "We can now plot our completed posterior probability density functions for each strain."
   ]
  },
  {
   "cell_type": "code",
   "execution_count": 29,
   "metadata": {},
   "outputs": [
    {
     "data": {
      "text/html": [
       "\n",
       "\n",
       "\n",
       "\n",
       "\n",
       "\n",
       "  <div class=\"bk-root\" id=\"1b4ac560-cf12-4702-8989-984f707a0345\"></div>\n"
      ]
     },
     "metadata": {},
     "output_type": "display_data"
    },
    {
     "data": {
      "application/javascript": [
       "(function(root) {\n",
       "  function embed_document(root) {\n",
       "    \n",
       "  var docs_json = {\"2fd224fc-5282-4fd3-9bd1-7b4e38107143\":{\"roots\":{\"references\":[{\"attributes\":{\"line_alpha\":0.1,\"line_color\":\"#1f77b4\",\"line_width\":2,\"x\":{\"field\":\"x\"},\"y\":{\"field\":\"y\"}},\"id\":\"63daf7c8-55c6-4e66-994e-8b38045779e3\",\"type\":\"Line\"},{\"attributes\":{\"source\":{\"id\":\"7387c1d2-5530-4f39-a21a-a7877645e235\",\"type\":\"ColumnDataSource\"}},\"id\":\"629cc633-4f68-425b-a7ad-395144b260b9\",\"type\":\"CDSView\"},{\"attributes\":{\"below\":[{\"id\":\"e6595ccd-a635-403d-ace9-a768f1ca4fb7\",\"type\":\"LinearAxis\"}],\"left\":[{\"id\":\"772a9da6-7476-4af9-82b7-16bde943a8a0\",\"type\":\"LinearAxis\"}],\"plot_height\":400,\"renderers\":[{\"id\":\"e6595ccd-a635-403d-ace9-a768f1ca4fb7\",\"type\":\"LinearAxis\"},{\"id\":\"b431ffcd-d707-491c-bec6-ada23bc62415\",\"type\":\"Grid\"},{\"id\":\"772a9da6-7476-4af9-82b7-16bde943a8a0\",\"type\":\"LinearAxis\"},{\"id\":\"a8ec1ed5-477f-461a-b937-4232d9258b7a\",\"type\":\"Grid\"},{\"id\":\"5e850aee-bbfe-442c-92e4-7f1b40908ce8\",\"type\":\"BoxAnnotation\"},{\"id\":\"8401f0d0-68a4-4b98-be18-cd816fde2494\",\"type\":\"Legend\"},{\"id\":\"c9cc0068-789e-466e-8f3c-c6b066a3b13d\",\"type\":\"GlyphRenderer\"},{\"id\":\"1b0ff6db-ebf4-4886-a216-67f6c9b49384\",\"type\":\"GlyphRenderer\"},{\"id\":\"9a2f8f29-9b22-4029-9c27-ebf55ec3907f\",\"type\":\"GlyphRenderer\"}],\"title\":{\"id\":\"2798a309-b90e-47f9-a70b-6e5377614d1d\",\"type\":\"Title\"},\"toolbar\":{\"id\":\"6e80c739-997b-4b61-87d2-977770487724\",\"type\":\"Toolbar\"},\"x_range\":{\"id\":\"5b131cd1-c949-4f67-8c80-481ea21ae4a8\",\"type\":\"DataRange1d\"},\"x_scale\":{\"id\":\"9ba90802-3104-4637-9f60-ae340978f7e7\",\"type\":\"LinearScale\"},\"y_range\":{\"id\":\"5f6f5193-9a20-419e-bf79-5d642cfffbe7\",\"type\":\"DataRange1d\"},\"y_scale\":{\"id\":\"f332b810-9c2a-410a-8b76-7cf7a7a3146d\",\"type\":\"LinearScale\"}},\"id\":\"d9942dec-fd82-4f06-84fb-c45ee22e1a29\",\"subtype\":\"Figure\",\"type\":\"Plot\"},{\"attributes\":{\"active_drag\":\"auto\",\"active_inspect\":\"auto\",\"active_multi\":null,\"active_scroll\":\"auto\",\"active_tap\":\"auto\",\"tools\":[{\"id\":\"a84b1cc8-1f0f-4a6c-9994-01fa731a7e93\",\"type\":\"PanTool\"},{\"id\":\"1de82b4a-9afd-437f-8709-e60898120346\",\"type\":\"WheelZoomTool\"},{\"id\":\"d5b3eab3-0004-4cb7-9177-29a0e8137301\",\"type\":\"BoxZoomTool\"},{\"id\":\"e1d2ba94-7757-44f5-be41-27b2ea59449f\",\"type\":\"SaveTool\"},{\"id\":\"339d268d-c338-4336-8048-17927e3611f0\",\"type\":\"ResetTool\"},{\"id\":\"8df443a3-3c3f-43a4-9f81-69de88e36e28\",\"type\":\"HelpTool\"}]},\"id\":\"6e80c739-997b-4b61-87d2-977770487724\",\"type\":\"Toolbar\"},{\"attributes\":{\"axis_label\":\"probability of reversal (theta)\",\"formatter\":{\"id\":\"a991567e-6e75-42f4-8bdc-675a523d33d4\",\"type\":\"BasicTickFormatter\"},\"plot\":{\"id\":\"d9942dec-fd82-4f06-84fb-c45ee22e1a29\",\"subtype\":\"Figure\",\"type\":\"Plot\"},\"ticker\":{\"id\":\"2cd62100-83a6-4a02-aa19-6ba6ab318970\",\"type\":\"BasicTicker\"}},\"id\":\"e6595ccd-a635-403d-ace9-a768f1ca4fb7\",\"type\":\"LinearAxis\"},{\"attributes\":{\"plot\":{\"id\":\"d9942dec-fd82-4f06-84fb-c45ee22e1a29\",\"subtype\":\"Figure\",\"type\":\"Plot\"},\"ticker\":{\"id\":\"2cd62100-83a6-4a02-aa19-6ba6ab318970\",\"type\":\"BasicTicker\"}},\"id\":\"b431ffcd-d707-491c-bec6-ada23bc62415\",\"type\":\"Grid\"},{\"attributes\":{},\"id\":\"407fade9-68da-4c69-a508-89bf0a22bbf3\",\"type\":\"Selection\"},{\"attributes\":{},\"id\":\"9ba90802-3104-4637-9f60-ae340978f7e7\",\"type\":\"LinearScale\"},{\"attributes\":{\"data_source\":{\"id\":\"53bd4ef2-2d09-419d-84eb-a29924bda4ff\",\"type\":\"ColumnDataSource\"},\"glyph\":{\"id\":\"e15f89d8-466d-4b5d-908d-99da67707215\",\"type\":\"Line\"},\"hover_glyph\":null,\"muted_glyph\":null,\"nonselection_glyph\":{\"id\":\"63daf7c8-55c6-4e66-994e-8b38045779e3\",\"type\":\"Line\"},\"selection_glyph\":null,\"view\":{\"id\":\"6179714c-c54e-41f3-a2a3-8b06c6eaeccd\",\"type\":\"CDSView\"}},\"id\":\"c9cc0068-789e-466e-8f3c-c6b066a3b13d\",\"type\":\"GlyphRenderer\"},{\"attributes\":{},\"id\":\"25eeda71-3523-4ab9-ba25-62aa37e8ec23\",\"type\":\"UnionRenderers\"},{\"attributes\":{\"callback\":null},\"id\":\"5b131cd1-c949-4f67-8c80-481ea21ae4a8\",\"type\":\"DataRange1d\"},{\"attributes\":{\"line_color\":\"#1f77b4\",\"line_width\":2,\"x\":{\"field\":\"x\"},\"y\":{\"field\":\"y\"}},\"id\":\"f7a047ee-be0c-4c49-ba1a-c75a14bd5c6c\",\"type\":\"Line\"},{\"attributes\":{\"dimension\":1,\"plot\":{\"id\":\"d9942dec-fd82-4f06-84fb-c45ee22e1a29\",\"subtype\":\"Figure\",\"type\":\"Plot\"},\"ticker\":{\"id\":\"3a609680-0e3c-4e3d-a76d-17fcf5513ce6\",\"type\":\"BasicTicker\"}},\"id\":\"a8ec1ed5-477f-461a-b937-4232d9258b7a\",\"type\":\"Grid\"},{\"attributes\":{\"axis_label\":\"p(theta)\",\"formatter\":{\"id\":\"4ea160ef-e06d-4512-9d2e-864fe34e9f51\",\"type\":\"BasicTickFormatter\"},\"plot\":{\"id\":\"d9942dec-fd82-4f06-84fb-c45ee22e1a29\",\"subtype\":\"Figure\",\"type\":\"Plot\"},\"ticker\":{\"id\":\"3a609680-0e3c-4e3d-a76d-17fcf5513ce6\",\"type\":\"BasicTicker\"}},\"id\":\"772a9da6-7476-4af9-82b7-16bde943a8a0\",\"type\":\"LinearAxis\"},{\"attributes\":{\"callback\":null},\"id\":\"5f6f5193-9a20-419e-bf79-5d642cfffbe7\",\"type\":\"DataRange1d\"},{\"attributes\":{\"items\":[{\"id\":\"42bec4ef-c447-4042-a777-f564b0d6c0f0\",\"type\":\"LegendItem\"},{\"id\":\"c5010e04-4ebc-4cfc-9cd4-33567f7dafba\",\"type\":\"LegendItem\"},{\"id\":\"c4b067e7-8706-47d9-9425-14379a950d1c\",\"type\":\"LegendItem\"}],\"plot\":{\"id\":\"d9942dec-fd82-4f06-84fb-c45ee22e1a29\",\"subtype\":\"Figure\",\"type\":\"Plot\"}},\"id\":\"8401f0d0-68a4-4b98-be18-cd816fde2494\",\"type\":\"Legend\"},{\"attributes\":{\"line_color\":\"#f46d43\",\"line_width\":2,\"x\":{\"field\":\"x\"},\"y\":{\"field\":\"y\"}},\"id\":\"e15f89d8-466d-4b5d-908d-99da67707215\",\"type\":\"Line\"},{\"attributes\":{\"bottom_units\":\"screen\",\"fill_alpha\":{\"value\":0.5},\"fill_color\":{\"value\":\"lightgrey\"},\"left_units\":\"screen\",\"level\":\"overlay\",\"line_alpha\":{\"value\":1.0},\"line_color\":{\"value\":\"black\"},\"line_dash\":[4,4],\"line_width\":{\"value\":2},\"plot\":null,\"render_mode\":\"css\",\"right_units\":\"screen\",\"top_units\":\"screen\"},\"id\":\"5e850aee-bbfe-442c-92e4-7f1b40908ce8\",\"type\":\"BoxAnnotation\"},{\"attributes\":{},\"id\":\"3a609680-0e3c-4e3d-a76d-17fcf5513ce6\",\"type\":\"BasicTicker\"},{\"attributes\":{},\"id\":\"2cd62100-83a6-4a02-aa19-6ba6ab318970\",\"type\":\"BasicTicker\"},{\"attributes\":{},\"id\":\"8df443a3-3c3f-43a4-9f81-69de88e36e28\",\"type\":\"HelpTool\"},{\"attributes\":{},\"id\":\"a991567e-6e75-42f4-8bdc-675a523d33d4\",\"type\":\"BasicTickFormatter\"},{\"attributes\":{},\"id\":\"339d268d-c338-4336-8048-17927e3611f0\",\"type\":\"ResetTool\"},{\"attributes\":{\"callback\":null,\"data\":{\"x\":{\"__ndarray__\":\"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\",\"dtype\":\"float64\",\"shape\":[200]},\"y\":{\"__ndarray__\":\"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\",\"dtype\":\"float64\",\"shape\":[200]}},\"selected\":{\"id\":\"407fade9-68da-4c69-a508-89bf0a22bbf3\",\"type\":\"Selection\"},\"selection_policy\":{\"id\":\"a9fc2fab-f9d5-4d15-9d9c-8084d4419087\",\"type\":\"UnionRenderers\"}},\"id\":\"32453b79-e246-4c32-b6ee-e90e6466aab1\",\"type\":\"ColumnDataSource\"},{\"attributes\":{\"data_source\":{\"id\":\"7387c1d2-5530-4f39-a21a-a7877645e235\",\"type\":\"ColumnDataSource\"},\"glyph\":{\"id\":\"f7a047ee-be0c-4c49-ba1a-c75a14bd5c6c\",\"type\":\"Line\"},\"hover_glyph\":null,\"muted_glyph\":null,\"nonselection_glyph\":{\"id\":\"87eaf37e-36e1-4be5-b156-d8a58e306725\",\"type\":\"Line\"},\"selection_glyph\":null,\"view\":{\"id\":\"629cc633-4f68-425b-a7ad-395144b260b9\",\"type\":\"CDSView\"}},\"id\":\"9a2f8f29-9b22-4029-9c27-ebf55ec3907f\",\"type\":\"GlyphRenderer\"},{\"attributes\":{\"label\":{\"value\":\"WT\"},\"renderers\":[{\"id\":\"c9cc0068-789e-466e-8f3c-c6b066a3b13d\",\"type\":\"GlyphRenderer\"}]},\"id\":\"42bec4ef-c447-4042-a777-f564b0d6c0f0\",\"type\":\"LegendItem\"},{\"attributes\":{\"label\":{\"value\":\"ASH\"},\"renderers\":[{\"id\":\"1b0ff6db-ebf4-4886-a216-67f6c9b49384\",\"type\":\"GlyphRenderer\"}]},\"id\":\"c5010e04-4ebc-4cfc-9cd4-33567f7dafba\",\"type\":\"LegendItem\"},{\"attributes\":{},\"id\":\"e1d2ba94-7757-44f5-be41-27b2ea59449f\",\"type\":\"SaveTool\"},{\"attributes\":{\"line_alpha\":0.1,\"line_color\":\"#1f77b4\",\"line_width\":2,\"x\":{\"field\":\"x\"},\"y\":{\"field\":\"y\"}},\"id\":\"42939e7b-a66c-493c-823b-18704d1664e5\",\"type\":\"Line\"},{\"attributes\":{\"overlay\":{\"id\":\"5e850aee-bbfe-442c-92e4-7f1b40908ce8\",\"type\":\"BoxAnnotation\"}},\"id\":\"d5b3eab3-0004-4cb7-9177-29a0e8137301\",\"type\":\"BoxZoomTool\"},{\"attributes\":{},\"id\":\"4ea160ef-e06d-4512-9d2e-864fe34e9f51\",\"type\":\"BasicTickFormatter\"},{\"attributes\":{\"callback\":null,\"data\":{\"x\":{\"__ndarray__\":\"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\",\"dtype\":\"float64\",\"shape\":[200]},\"y\":{\"__ndarray__\":\"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\",\"dtype\":\"float64\",\"shape\":[200]}},\"selected\":{\"id\":\"6078ddab-1729-47e9-a97f-d14cea229265\",\"type\":\"Selection\"},\"selection_policy\":{\"id\":\"25eeda71-3523-4ab9-ba25-62aa37e8ec23\",\"type\":\"UnionRenderers\"}},\"id\":\"7387c1d2-5530-4f39-a21a-a7877645e235\",\"type\":\"ColumnDataSource\"},{\"attributes\":{},\"id\":\"1de82b4a-9afd-437f-8709-e60898120346\",\"type\":\"WheelZoomTool\"},{\"attributes\":{},\"id\":\"a9fc2fab-f9d5-4d15-9d9c-8084d4419087\",\"type\":\"UnionRenderers\"},{\"attributes\":{\"source\":{\"id\":\"53bd4ef2-2d09-419d-84eb-a29924bda4ff\",\"type\":\"ColumnDataSource\"}},\"id\":\"6179714c-c54e-41f3-a2a3-8b06c6eaeccd\",\"type\":\"CDSView\"},{\"attributes\":{\"label\":{\"value\":\"AVA\"},\"renderers\":[{\"id\":\"9a2f8f29-9b22-4029-9c27-ebf55ec3907f\",\"type\":\"GlyphRenderer\"}]},\"id\":\"c4b067e7-8706-47d9-9425-14379a950d1c\",\"type\":\"LegendItem\"},{\"attributes\":{\"line_color\":\"#249d43\",\"line_width\":2,\"x\":{\"field\":\"x\"},\"y\":{\"field\":\"y\"}},\"id\":\"c27ca427-f20f-4283-8659-b5cf54de672b\",\"type\":\"Line\"},{\"attributes\":{\"line_alpha\":0.1,\"line_color\":\"#1f77b4\",\"line_width\":2,\"x\":{\"field\":\"x\"},\"y\":{\"field\":\"y\"}},\"id\":\"87eaf37e-36e1-4be5-b156-d8a58e306725\",\"type\":\"Line\"},{\"attributes\":{},\"id\":\"a84b1cc8-1f0f-4a6c-9994-01fa731a7e93\",\"type\":\"PanTool\"},{\"attributes\":{},\"id\":\"df576155-1083-46d6-accd-29ed26199a58\",\"type\":\"Selection\"},{\"attributes\":{\"callback\":null,\"data\":{\"x\":{\"__ndarray__\":\"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\",\"dtype\":\"float64\",\"shape\":[200]},\"y\":{\"__ndarray__\":\"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\",\"dtype\":\"float64\",\"shape\":[200]}},\"selected\":{\"id\":\"df576155-1083-46d6-accd-29ed26199a58\",\"type\":\"Selection\"},\"selection_policy\":{\"id\":\"e9e1ae15-9eda-4b58-8c5c-3bc7cf264e0d\",\"type\":\"UnionRenderers\"}},\"id\":\"53bd4ef2-2d09-419d-84eb-a29924bda4ff\",\"type\":\"ColumnDataSource\"},{\"attributes\":{},\"id\":\"6078ddab-1729-47e9-a97f-d14cea229265\",\"type\":\"Selection\"},{\"attributes\":{\"plot\":null,\"text\":\"\"},\"id\":\"2798a309-b90e-47f9-a70b-6e5377614d1d\",\"type\":\"Title\"},{\"attributes\":{},\"id\":\"e9e1ae15-9eda-4b58-8c5c-3bc7cf264e0d\",\"type\":\"UnionRenderers\"},{\"attributes\":{\"data_source\":{\"id\":\"32453b79-e246-4c32-b6ee-e90e6466aab1\",\"type\":\"ColumnDataSource\"},\"glyph\":{\"id\":\"c27ca427-f20f-4283-8659-b5cf54de672b\",\"type\":\"Line\"},\"hover_glyph\":null,\"muted_glyph\":null,\"nonselection_glyph\":{\"id\":\"42939e7b-a66c-493c-823b-18704d1664e5\",\"type\":\"Line\"},\"selection_glyph\":null,\"view\":{\"id\":\"2639d27f-934d-49ea-825b-3da730762427\",\"type\":\"CDSView\"}},\"id\":\"1b0ff6db-ebf4-4886-a216-67f6c9b49384\",\"type\":\"GlyphRenderer\"},{\"attributes\":{\"source\":{\"id\":\"32453b79-e246-4c32-b6ee-e90e6466aab1\",\"type\":\"ColumnDataSource\"}},\"id\":\"2639d27f-934d-49ea-825b-3da730762427\",\"type\":\"CDSView\"},{\"attributes\":{},\"id\":\"f332b810-9c2a-410a-8b76-7cf7a7a3146d\",\"type\":\"LinearScale\"}],\"root_ids\":[\"d9942dec-fd82-4f06-84fb-c45ee22e1a29\"]},\"title\":\"Bokeh Application\",\"version\":\"0.13.0\"}};\n",
       "  var render_items = [{\"docid\":\"2fd224fc-5282-4fd3-9bd1-7b4e38107143\",\"roots\":{\"d9942dec-fd82-4f06-84fb-c45ee22e1a29\":\"1b4ac560-cf12-4702-8989-984f707a0345\"}}];\n",
       "  root.Bokeh.embed.embed_items_notebook(docs_json, render_items);\n",
       "\n",
       "  }\n",
       "  if (root.Bokeh !== undefined) {\n",
       "    embed_document(root);\n",
       "  } else {\n",
       "    var attempts = 0;\n",
       "    var timer = setInterval(function(root) {\n",
       "      if (root.Bokeh !== undefined) {\n",
       "        embed_document(root);\n",
       "        clearInterval(timer);\n",
       "      }\n",
       "      attempts++;\n",
       "      if (attempts > 100) {\n",
       "        console.log(\"Bokeh: ERROR: Unable to run BokehJS code because BokehJS library is missing\")\n",
       "        clearInterval(timer);\n",
       "      }\n",
       "    }, 10, root)\n",
       "  }\n",
       "})(window);"
      ],
      "application/vnd.bokehjs_exec.v0+json": ""
     },
     "metadata": {
      "application/vnd.bokehjs_exec.v0+json": {
       "id": "d9942dec-fd82-4f06-84fb-c45ee22e1a29"
      }
     },
     "output_type": "display_data"
    }
   ],
   "source": [
    "p = bokeh.plotting.figure(width=600, height=400, \n",
    "                          x_axis_label='probability of reversal (theta)', \n",
    "                          y_axis_label='p(theta)')\n",
    "\n",
    "p.line(theta_array, trial_wt_norm, line_color=\"#f46d43\", legend= \"WT\", line_width=2)\n",
    "p.line(theta_array, trial_ash_norm, line_color=\"#249d43\", legend= \"ASH\", line_width=2)\n",
    "p.line(theta_array, trial_ava_norm, legend= \"AVA\", line_width=2)\n",
    "\n",
    "bokeh.io.show(p)"
   ]
  },
  {
   "cell_type": "markdown",
   "metadata": {},
   "source": [
    "From this plot we can conclude that our priors combined with out likelihood did a good job at approximating the probability of theta. We've obtained the expected result based on the three data points we were given: WT < ASH < AVA in terms of probability of theta."
   ]
  },
  {
   "cell_type": "code",
   "execution_count": null,
   "metadata": {},
   "outputs": [],
   "source": []
  }
 ],
 "metadata": {
  "kernelspec": {
   "display_name": "Python 3",
   "language": "python",
   "name": "python3"
  },
  "language_info": {
   "codemirror_mode": {
    "name": "ipython",
    "version": 3
   },
   "file_extension": ".py",
   "mimetype": "text/x-python",
   "name": "python",
   "nbconvert_exporter": "python",
   "pygments_lexer": "ipython3",
   "version": "3.6.6"
  }
 },
 "nbformat": 4,
 "nbformat_minor": 2
}
