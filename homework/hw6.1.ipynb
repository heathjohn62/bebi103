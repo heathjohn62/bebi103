{
 "cells": [
  {
   "cell_type": "markdown",
   "metadata": {},
   "source": [
    "# Credits\n",
    "Almost all Maria, Jared helped with defining priors, displaying ECDFs, and explanations. "
   ]
  },
  {
   "cell_type": "code",
   "execution_count": 57,
   "metadata": {},
   "outputs": [
    {
     "data": {
      "text/html": [
       "\n",
       "    <div class=\"bk-root\">\n",
       "        <a href=\"https://bokeh.pydata.org\" target=\"_blank\" class=\"bk-logo bk-logo-small bk-logo-notebook\"></a>\n",
       "        <span id=\"f0f4fa2f-fe28-42dc-8b0b-6911fabbcf6e\">Loading BokehJS ...</span>\n",
       "    </div>"
      ]
     },
     "metadata": {},
     "output_type": "display_data"
    },
    {
     "data": {
      "application/javascript": [
       "\n",
       "(function(root) {\n",
       "  function now() {\n",
       "    return new Date();\n",
       "  }\n",
       "\n",
       "  var force = true;\n",
       "\n",
       "  if (typeof (root._bokeh_onload_callbacks) === \"undefined\" || force === true) {\n",
       "    root._bokeh_onload_callbacks = [];\n",
       "    root._bokeh_is_loading = undefined;\n",
       "  }\n",
       "\n",
       "  var JS_MIME_TYPE = 'application/javascript';\n",
       "  var HTML_MIME_TYPE = 'text/html';\n",
       "  var EXEC_MIME_TYPE = 'application/vnd.bokehjs_exec.v0+json';\n",
       "  var CLASS_NAME = 'output_bokeh rendered_html';\n",
       "\n",
       "  /**\n",
       "   * Render data to the DOM node\n",
       "   */\n",
       "  function render(props, node) {\n",
       "    var script = document.createElement(\"script\");\n",
       "    node.appendChild(script);\n",
       "  }\n",
       "\n",
       "  /**\n",
       "   * Handle when an output is cleared or removed\n",
       "   */\n",
       "  function handleClearOutput(event, handle) {\n",
       "    var cell = handle.cell;\n",
       "\n",
       "    var id = cell.output_area._bokeh_element_id;\n",
       "    var server_id = cell.output_area._bokeh_server_id;\n",
       "    // Clean up Bokeh references\n",
       "    if (id != null && id in Bokeh.index) {\n",
       "      Bokeh.index[id].model.document.clear();\n",
       "      delete Bokeh.index[id];\n",
       "    }\n",
       "\n",
       "    if (server_id !== undefined) {\n",
       "      // Clean up Bokeh references\n",
       "      var cmd = \"from bokeh.io.state import curstate; print(curstate().uuid_to_server['\" + server_id + \"'].get_sessions()[0].document.roots[0]._id)\";\n",
       "      cell.notebook.kernel.execute(cmd, {\n",
       "        iopub: {\n",
       "          output: function(msg) {\n",
       "            var id = msg.content.text.trim();\n",
       "            if (id in Bokeh.index) {\n",
       "              Bokeh.index[id].model.document.clear();\n",
       "              delete Bokeh.index[id];\n",
       "            }\n",
       "          }\n",
       "        }\n",
       "      });\n",
       "      // Destroy server and session\n",
       "      var cmd = \"import bokeh.io.notebook as ion; ion.destroy_server('\" + server_id + \"')\";\n",
       "      cell.notebook.kernel.execute(cmd);\n",
       "    }\n",
       "  }\n",
       "\n",
       "  /**\n",
       "   * Handle when a new output is added\n",
       "   */\n",
       "  function handleAddOutput(event, handle) {\n",
       "    var output_area = handle.output_area;\n",
       "    var output = handle.output;\n",
       "\n",
       "    // limit handleAddOutput to display_data with EXEC_MIME_TYPE content only\n",
       "    if ((output.output_type != \"display_data\") || (!output.data.hasOwnProperty(EXEC_MIME_TYPE))) {\n",
       "      return\n",
       "    }\n",
       "\n",
       "    var toinsert = output_area.element.find(\".\" + CLASS_NAME.split(' ')[0]);\n",
       "\n",
       "    if (output.metadata[EXEC_MIME_TYPE][\"id\"] !== undefined) {\n",
       "      toinsert[toinsert.length - 1].firstChild.textContent = output.data[JS_MIME_TYPE];\n",
       "      // store reference to embed id on output_area\n",
       "      output_area._bokeh_element_id = output.metadata[EXEC_MIME_TYPE][\"id\"];\n",
       "    }\n",
       "    if (output.metadata[EXEC_MIME_TYPE][\"server_id\"] !== undefined) {\n",
       "      var bk_div = document.createElement(\"div\");\n",
       "      bk_div.innerHTML = output.data[HTML_MIME_TYPE];\n",
       "      var script_attrs = bk_div.children[0].attributes;\n",
       "      for (var i = 0; i < script_attrs.length; i++) {\n",
       "        toinsert[toinsert.length - 1].firstChild.setAttribute(script_attrs[i].name, script_attrs[i].value);\n",
       "      }\n",
       "      // store reference to server id on output_area\n",
       "      output_area._bokeh_server_id = output.metadata[EXEC_MIME_TYPE][\"server_id\"];\n",
       "    }\n",
       "  }\n",
       "\n",
       "  function register_renderer(events, OutputArea) {\n",
       "\n",
       "    function append_mime(data, metadata, element) {\n",
       "      // create a DOM node to render to\n",
       "      var toinsert = this.create_output_subarea(\n",
       "        metadata,\n",
       "        CLASS_NAME,\n",
       "        EXEC_MIME_TYPE\n",
       "      );\n",
       "      this.keyboard_manager.register_events(toinsert);\n",
       "      // Render to node\n",
       "      var props = {data: data, metadata: metadata[EXEC_MIME_TYPE]};\n",
       "      render(props, toinsert[toinsert.length - 1]);\n",
       "      element.append(toinsert);\n",
       "      return toinsert\n",
       "    }\n",
       "\n",
       "    /* Handle when an output is cleared or removed */\n",
       "    events.on('clear_output.CodeCell', handleClearOutput);\n",
       "    events.on('delete.Cell', handleClearOutput);\n",
       "\n",
       "    /* Handle when a new output is added */\n",
       "    events.on('output_added.OutputArea', handleAddOutput);\n",
       "\n",
       "    /**\n",
       "     * Register the mime type and append_mime function with output_area\n",
       "     */\n",
       "    OutputArea.prototype.register_mime_type(EXEC_MIME_TYPE, append_mime, {\n",
       "      /* Is output safe? */\n",
       "      safe: true,\n",
       "      /* Index of renderer in `output_area.display_order` */\n",
       "      index: 0\n",
       "    });\n",
       "  }\n",
       "\n",
       "  // register the mime type if in Jupyter Notebook environment and previously unregistered\n",
       "  if (root.Jupyter !== undefined) {\n",
       "    var events = require('base/js/events');\n",
       "    var OutputArea = require('notebook/js/outputarea').OutputArea;\n",
       "\n",
       "    if (OutputArea.prototype.mime_types().indexOf(EXEC_MIME_TYPE) == -1) {\n",
       "      register_renderer(events, OutputArea);\n",
       "    }\n",
       "  }\n",
       "\n",
       "  \n",
       "  if (typeof (root._bokeh_timeout) === \"undefined\" || force === true) {\n",
       "    root._bokeh_timeout = Date.now() + 5000;\n",
       "    root._bokeh_failed_load = false;\n",
       "  }\n",
       "\n",
       "  var NB_LOAD_WARNING = {'data': {'text/html':\n",
       "     \"<div style='background-color: #fdd'>\\n\"+\n",
       "     \"<p>\\n\"+\n",
       "     \"BokehJS does not appear to have successfully loaded. If loading BokehJS from CDN, this \\n\"+\n",
       "     \"may be due to a slow or bad network connection. Possible fixes:\\n\"+\n",
       "     \"</p>\\n\"+\n",
       "     \"<ul>\\n\"+\n",
       "     \"<li>re-rerun `output_notebook()` to attempt to load from CDN again, or</li>\\n\"+\n",
       "     \"<li>use INLINE resources instead, as so:</li>\\n\"+\n",
       "     \"</ul>\\n\"+\n",
       "     \"<code>\\n\"+\n",
       "     \"from bokeh.resources import INLINE\\n\"+\n",
       "     \"output_notebook(resources=INLINE)\\n\"+\n",
       "     \"</code>\\n\"+\n",
       "     \"</div>\"}};\n",
       "\n",
       "  function display_loaded() {\n",
       "    var el = document.getElementById(\"f0f4fa2f-fe28-42dc-8b0b-6911fabbcf6e\");\n",
       "    if (el != null) {\n",
       "      el.textContent = \"BokehJS is loading...\";\n",
       "    }\n",
       "    if (root.Bokeh !== undefined) {\n",
       "      if (el != null) {\n",
       "        el.textContent = \"BokehJS \" + root.Bokeh.version + \" successfully loaded.\";\n",
       "      }\n",
       "    } else if (Date.now() < root._bokeh_timeout) {\n",
       "      setTimeout(display_loaded, 100)\n",
       "    }\n",
       "  }\n",
       "\n",
       "\n",
       "  function run_callbacks() {\n",
       "    try {\n",
       "      root._bokeh_onload_callbacks.forEach(function(callback) { callback() });\n",
       "    }\n",
       "    finally {\n",
       "      delete root._bokeh_onload_callbacks\n",
       "    }\n",
       "    console.info(\"Bokeh: all callbacks have finished\");\n",
       "  }\n",
       "\n",
       "  function load_libs(js_urls, callback) {\n",
       "    root._bokeh_onload_callbacks.push(callback);\n",
       "    if (root._bokeh_is_loading > 0) {\n",
       "      console.log(\"Bokeh: BokehJS is being loaded, scheduling callback at\", now());\n",
       "      return null;\n",
       "    }\n",
       "    if (js_urls == null || js_urls.length === 0) {\n",
       "      run_callbacks();\n",
       "      return null;\n",
       "    }\n",
       "    console.log(\"Bokeh: BokehJS not loaded, scheduling load and callback at\", now());\n",
       "    root._bokeh_is_loading = js_urls.length;\n",
       "    for (var i = 0; i < js_urls.length; i++) {\n",
       "      var url = js_urls[i];\n",
       "      var s = document.createElement('script');\n",
       "      s.src = url;\n",
       "      s.async = false;\n",
       "      s.onreadystatechange = s.onload = function() {\n",
       "        root._bokeh_is_loading--;\n",
       "        if (root._bokeh_is_loading === 0) {\n",
       "          console.log(\"Bokeh: all BokehJS libraries loaded\");\n",
       "          run_callbacks()\n",
       "        }\n",
       "      };\n",
       "      s.onerror = function() {\n",
       "        console.warn(\"failed to load library \" + url);\n",
       "      };\n",
       "      console.log(\"Bokeh: injecting script tag for BokehJS library: \", url);\n",
       "      document.getElementsByTagName(\"head\")[0].appendChild(s);\n",
       "    }\n",
       "  };var element = document.getElementById(\"f0f4fa2f-fe28-42dc-8b0b-6911fabbcf6e\");\n",
       "  if (element == null) {\n",
       "    console.log(\"Bokeh: ERROR: autoload.js configured with elementid 'f0f4fa2f-fe28-42dc-8b0b-6911fabbcf6e' but no matching script tag was found. \")\n",
       "    return false;\n",
       "  }\n",
       "\n",
       "  var js_urls = [\"https://cdn.pydata.org/bokeh/release/bokeh-0.13.0.min.js\", \"https://cdn.pydata.org/bokeh/release/bokeh-widgets-0.13.0.min.js\", \"https://cdn.pydata.org/bokeh/release/bokeh-tables-0.13.0.min.js\", \"https://cdn.pydata.org/bokeh/release/bokeh-gl-0.13.0.min.js\"];\n",
       "\n",
       "  var inline_js = [\n",
       "    function(Bokeh) {\n",
       "      Bokeh.set_log_level(\"info\");\n",
       "    },\n",
       "    \n",
       "    function(Bokeh) {\n",
       "      \n",
       "    },\n",
       "    function(Bokeh) {\n",
       "      console.log(\"Bokeh: injecting CSS: https://cdn.pydata.org/bokeh/release/bokeh-0.13.0.min.css\");\n",
       "      Bokeh.embed.inject_css(\"https://cdn.pydata.org/bokeh/release/bokeh-0.13.0.min.css\");\n",
       "      console.log(\"Bokeh: injecting CSS: https://cdn.pydata.org/bokeh/release/bokeh-widgets-0.13.0.min.css\");\n",
       "      Bokeh.embed.inject_css(\"https://cdn.pydata.org/bokeh/release/bokeh-widgets-0.13.0.min.css\");\n",
       "      console.log(\"Bokeh: injecting CSS: https://cdn.pydata.org/bokeh/release/bokeh-tables-0.13.0.min.css\");\n",
       "      Bokeh.embed.inject_css(\"https://cdn.pydata.org/bokeh/release/bokeh-tables-0.13.0.min.css\");\n",
       "    }\n",
       "  ];\n",
       "\n",
       "  function run_inline_js() {\n",
       "    \n",
       "    if ((root.Bokeh !== undefined) || (force === true)) {\n",
       "      for (var i = 0; i < inline_js.length; i++) {\n",
       "        inline_js[i].call(root, root.Bokeh);\n",
       "      }if (force === true) {\n",
       "        display_loaded();\n",
       "      }} else if (Date.now() < root._bokeh_timeout) {\n",
       "      setTimeout(run_inline_js, 100);\n",
       "    } else if (!root._bokeh_failed_load) {\n",
       "      console.log(\"Bokeh: BokehJS failed to load within specified timeout.\");\n",
       "      root._bokeh_failed_load = true;\n",
       "    } else if (force !== true) {\n",
       "      var cell = $(document.getElementById(\"f0f4fa2f-fe28-42dc-8b0b-6911fabbcf6e\")).parents('.cell').data().cell;\n",
       "      cell.output_area.append_execute_result(NB_LOAD_WARNING)\n",
       "    }\n",
       "\n",
       "  }\n",
       "\n",
       "  if (root._bokeh_is_loading === 0) {\n",
       "    console.log(\"Bokeh: BokehJS loaded, going straight to plotting\");\n",
       "    run_inline_js();\n",
       "  } else {\n",
       "    load_libs(js_urls, function() {\n",
       "      console.log(\"Bokeh: BokehJS plotting callback run at\", now());\n",
       "      run_inline_js();\n",
       "    });\n",
       "  }\n",
       "}(window));"
      ],
      "application/vnd.bokehjs_load.v0+json": "\n(function(root) {\n  function now() {\n    return new Date();\n  }\n\n  var force = true;\n\n  if (typeof (root._bokeh_onload_callbacks) === \"undefined\" || force === true) {\n    root._bokeh_onload_callbacks = [];\n    root._bokeh_is_loading = undefined;\n  }\n\n  \n\n  \n  if (typeof (root._bokeh_timeout) === \"undefined\" || force === true) {\n    root._bokeh_timeout = Date.now() + 5000;\n    root._bokeh_failed_load = false;\n  }\n\n  var NB_LOAD_WARNING = {'data': {'text/html':\n     \"<div style='background-color: #fdd'>\\n\"+\n     \"<p>\\n\"+\n     \"BokehJS does not appear to have successfully loaded. If loading BokehJS from CDN, this \\n\"+\n     \"may be due to a slow or bad network connection. Possible fixes:\\n\"+\n     \"</p>\\n\"+\n     \"<ul>\\n\"+\n     \"<li>re-rerun `output_notebook()` to attempt to load from CDN again, or</li>\\n\"+\n     \"<li>use INLINE resources instead, as so:</li>\\n\"+\n     \"</ul>\\n\"+\n     \"<code>\\n\"+\n     \"from bokeh.resources import INLINE\\n\"+\n     \"output_notebook(resources=INLINE)\\n\"+\n     \"</code>\\n\"+\n     \"</div>\"}};\n\n  function display_loaded() {\n    var el = document.getElementById(\"f0f4fa2f-fe28-42dc-8b0b-6911fabbcf6e\");\n    if (el != null) {\n      el.textContent = \"BokehJS is loading...\";\n    }\n    if (root.Bokeh !== undefined) {\n      if (el != null) {\n        el.textContent = \"BokehJS \" + root.Bokeh.version + \" successfully loaded.\";\n      }\n    } else if (Date.now() < root._bokeh_timeout) {\n      setTimeout(display_loaded, 100)\n    }\n  }\n\n\n  function run_callbacks() {\n    try {\n      root._bokeh_onload_callbacks.forEach(function(callback) { callback() });\n    }\n    finally {\n      delete root._bokeh_onload_callbacks\n    }\n    console.info(\"Bokeh: all callbacks have finished\");\n  }\n\n  function load_libs(js_urls, callback) {\n    root._bokeh_onload_callbacks.push(callback);\n    if (root._bokeh_is_loading > 0) {\n      console.log(\"Bokeh: BokehJS is being loaded, scheduling callback at\", now());\n      return null;\n    }\n    if (js_urls == null || js_urls.length === 0) {\n      run_callbacks();\n      return null;\n    }\n    console.log(\"Bokeh: BokehJS not loaded, scheduling load and callback at\", now());\n    root._bokeh_is_loading = js_urls.length;\n    for (var i = 0; i < js_urls.length; i++) {\n      var url = js_urls[i];\n      var s = document.createElement('script');\n      s.src = url;\n      s.async = false;\n      s.onreadystatechange = s.onload = function() {\n        root._bokeh_is_loading--;\n        if (root._bokeh_is_loading === 0) {\n          console.log(\"Bokeh: all BokehJS libraries loaded\");\n          run_callbacks()\n        }\n      };\n      s.onerror = function() {\n        console.warn(\"failed to load library \" + url);\n      };\n      console.log(\"Bokeh: injecting script tag for BokehJS library: \", url);\n      document.getElementsByTagName(\"head\")[0].appendChild(s);\n    }\n  };var element = document.getElementById(\"f0f4fa2f-fe28-42dc-8b0b-6911fabbcf6e\");\n  if (element == null) {\n    console.log(\"Bokeh: ERROR: autoload.js configured with elementid 'f0f4fa2f-fe28-42dc-8b0b-6911fabbcf6e' but no matching script tag was found. \")\n    return false;\n  }\n\n  var js_urls = [\"https://cdn.pydata.org/bokeh/release/bokeh-0.13.0.min.js\", \"https://cdn.pydata.org/bokeh/release/bokeh-widgets-0.13.0.min.js\", \"https://cdn.pydata.org/bokeh/release/bokeh-tables-0.13.0.min.js\", \"https://cdn.pydata.org/bokeh/release/bokeh-gl-0.13.0.min.js\"];\n\n  var inline_js = [\n    function(Bokeh) {\n      Bokeh.set_log_level(\"info\");\n    },\n    \n    function(Bokeh) {\n      \n    },\n    function(Bokeh) {\n      console.log(\"Bokeh: injecting CSS: https://cdn.pydata.org/bokeh/release/bokeh-0.13.0.min.css\");\n      Bokeh.embed.inject_css(\"https://cdn.pydata.org/bokeh/release/bokeh-0.13.0.min.css\");\n      console.log(\"Bokeh: injecting CSS: https://cdn.pydata.org/bokeh/release/bokeh-widgets-0.13.0.min.css\");\n      Bokeh.embed.inject_css(\"https://cdn.pydata.org/bokeh/release/bokeh-widgets-0.13.0.min.css\");\n      console.log(\"Bokeh: injecting CSS: https://cdn.pydata.org/bokeh/release/bokeh-tables-0.13.0.min.css\");\n      Bokeh.embed.inject_css(\"https://cdn.pydata.org/bokeh/release/bokeh-tables-0.13.0.min.css\");\n    }\n  ];\n\n  function run_inline_js() {\n    \n    if ((root.Bokeh !== undefined) || (force === true)) {\n      for (var i = 0; i < inline_js.length; i++) {\n        inline_js[i].call(root, root.Bokeh);\n      }if (force === true) {\n        display_loaded();\n      }} else if (Date.now() < root._bokeh_timeout) {\n      setTimeout(run_inline_js, 100);\n    } else if (!root._bokeh_failed_load) {\n      console.log(\"Bokeh: BokehJS failed to load within specified timeout.\");\n      root._bokeh_failed_load = true;\n    } else if (force !== true) {\n      var cell = $(document.getElementById(\"f0f4fa2f-fe28-42dc-8b0b-6911fabbcf6e\")).parents('.cell').data().cell;\n      cell.output_area.append_execute_result(NB_LOAD_WARNING)\n    }\n\n  }\n\n  if (root._bokeh_is_loading === 0) {\n    console.log(\"Bokeh: BokehJS loaded, going straight to plotting\");\n    run_inline_js();\n  } else {\n    load_libs(js_urls, function() {\n      console.log(\"Bokeh: BokehJS plotting callback run at\", now());\n      run_inline_js();\n    });\n  }\n}(window));"
     },
     "metadata": {},
     "output_type": "display_data"
    }
   ],
   "source": [
    "import numpy as np\n",
    "import scipy.stats as st\n",
    "import scipy.special\n",
    "\n",
    "import bebi103\n",
    "\n",
    "import pandas as pd\n",
    "import bokeh.io\n",
    "import bokeh.plotting\n",
    "bokeh.io.output_notebook()\n",
    "import pystan"
   ]
  },
  {
   "cell_type": "markdown",
   "metadata": {},
   "source": [
    "## Problem 6.1: Modeling and parameter estimation for Boolean data (40 pts)\n",
    "\n",
    "In this problem, we will work with data of the True/False type. Lots of data sets in the biological sciences are like this. For example, we might look at a certain mutation in *Drosophila* that affects development and we might check whether or not eggs hatch.\n",
    "\n",
    "The data we will use comes from an experiment we have done for the last few years in [Bi 1x](http://bi1x.caltech.edu/) here at Caltech. The experiment was developed by Meaghan Sullivan. We studied a neural circuit in *C. elegans* using optogenetics.\n",
    "\n",
    "A neural circuit is a series of interconnected neurons that create a pathway to transmit a signal from where it is received to where it causes a behavioral response in an animal.  An example is the neural circuit involved in reversals in *C. elegans*.  This circuit consists of three types of neurons: sensory neurons receive stimuli from the environment, command interneurons integrate information from many sensory neurons and pass a signal to the motor neurons, and motor neurons that control worm behavior, such as reversals.\n",
    "\n",
    "There are six non-motor neurons acting in a circuit that responds to environmental cues and triggers a reversal, a shown in the figure below (based on [Schultheis et. al. 2011](https://doi.org/10.1371/journal.pone.0018766)).  These include four sensory neurons (ALM, AVM, ASH, and PLM) and two interneurons (AVD and AVA).  Each sensory neuron is sensitive to a different type of stimulus.  For example, the sensory neuron we are studying (ASH) is sensitive to chemosensory stimuli such as toxins, while another neuron (PLM) is sensitive to mechanical stimuli (touch) in the posterior part of the worm's body.  The sensory neurons send signals that are integrated by the two command interneurons (AVA and AVD).  Each sensory neuron can provide an impulse to the command interneurons at any time.  In order for the command interneuron to fire and activate motor neurons, the sum of the stimuli at any point in time must exceed a certain threshold.  Once the stimuli from one or more sensory neurons has induced an action potential in a command interneuron, that signal is passed to motor neurons which will modulate worm behavior.\n",
    "\n",
    "![Reversal neural network](reversal_neural_network.png)\n",
    "\n",
    "In the experiment, we used optogenetics to dissect the function of individual neurons in this circuit.  We worked with two optogenetic worm strains.  The ASH strain has channelrhodopsin (ChR2, represented by a red barrel in the figure above) expressed only in the ASH sensory neuron.  When we shine blue light on this strain, we should activate the ChR2, which will allow sodium and calcium cations to flow into the neuron, simulating an action potential. We want to quantify how robustly this stimulation will cause the worm to exhibit aversion behavior and reverse.  \n",
    "\n",
    "We also studied an AVA strain that has channelrhodopsin expressed only in the AVA command interneuron.  Our goal is to quantify the effects of stimulating this neuron in terms of reversals compared to the ASH neuron and to wild type.\n",
    "\n",
    "The True/False data here are the whether or not the worms undergo a reversal. Here is what the students observed.\n",
    "\n",
    "|Strain|Year|Trials|Reversals|\n",
    "|:---:|:---:|:---:|:---:|\n",
    "|WT|2017|55|7|\n",
    "|ASH|2017|54|18|\n",
    "|AVA|2017|52|28|\n",
    "|WT|2016|36|6|\n",
    "|ASH|2016|35|12|\n",
    "|AVA|2016|36|30|\n",
    "|WT|2015|35|0|\n",
    "|ASH|2015|35|9|\n",
    "|AVA|2015|36|33|\n",
    "\n",
    "For the purposes of this problem, assume that we can pool the results from the three years to have 13/126 reversals for wild type, 39/124 reversals for ASH, and 91/124 reversals for AVA.\n",
    "\n",
    "Our goal is to estimate $\\theta$, the probability of reversal for each strain. That is to say, we want to compute $g(\\theta\\mid n, N)$, where $n$ is the number of reversals in $N$ trials.\n",
    "\n",
    "\n",
    "**a)** Develop a generative model (that is, specify the joint distribution $\\pi(n, \\theta\\mid N) = f(n,\\mid \\theta, N)\\,g(\\theta)$) for the observed reversals. Be sure to do prior predictive checks and justify why you chose the model you did. *Biological hint*: *C. elegans* have no mode of sensing light at all. So, a wild type worm without and Channelrhodopsin has no means of detecting light. *Modeling hint*: The Beta distribution is very useful for modeling probabilities of probabilities, like *θ* in this problem.\n",
    "\n",
    "<br />\n"
   ]
  },
  {
   "cell_type": "markdown",
   "metadata": {},
   "source": [
    "We will estimate the prior for the parameter θ, the probability of reversal for each strain. We choose the beta distribution to model this as it is useful for modeling rare events and probabilities of probabilities. We will vary the a and b values in the beta distribution based on our estimates of how likely it is for a strain to reverse. \n",
    "\n",
    "\n",
    "We estimate that the AVA strain is twice as likely to reverse as the ASH strain as it is sensitive to the input of ASH and PLM while ASH is only sensitive to chemosensory stimuli such as toxins.\n",
    "\n",
    "We estimate that wild type will reverse very rarely as it is not influenced by light since it has no means of detecting light, so $\\theta_{WT}$ = Beta(1,8), \n",
    "shown graphically as:"
   ]
  },
  {
   "cell_type": "code",
   "execution_count": 58,
   "metadata": {},
   "outputs": [
    {
     "data": {
      "text/html": [
       "\n",
       "\n",
       "\n",
       "\n",
       "\n",
       "\n",
       "  <div class=\"bk-root\" id=\"444219a2-bc57-4295-aed4-38799107a38c\"></div>\n"
      ]
     },
     "metadata": {},
     "output_type": "display_data"
    },
    {
     "data": {
      "application/javascript": [
       "(function(root) {\n",
       "  function embed_document(root) {\n",
       "    \n",
       "  var docs_json = {\"0793b3c3-dfdd-487a-922b-c6a1c06ffac5\":{\"roots\":{\"references\":[{\"attributes\":{\"axis_label\":\"\\u03b8\",\"formatter\":{\"id\":\"42257068-a4ef-40bd-9fa5-454b3b5a2265\",\"type\":\"BasicTickFormatter\"},\"plot\":{\"id\":\"c849fd28-aa05-4ec1-ac68-14b25ba40279\",\"subtype\":\"Figure\",\"type\":\"Plot\"},\"ticker\":{\"id\":\"c49beb91-a639-4365-a0ef-772c5cb6ea39\",\"type\":\"BasicTicker\"}},\"id\":\"35be37ae-295f-4a54-bbc7-4fe197a4d2be\",\"type\":\"LinearAxis\"},{\"attributes\":{},\"id\":\"42257068-a4ef-40bd-9fa5-454b3b5a2265\",\"type\":\"BasicTickFormatter\"},{\"attributes\":{},\"id\":\"012cd0ab-1649-4e50-9ab5-6141d3817300\",\"type\":\"SaveTool\"},{\"attributes\":{\"source\":{\"id\":\"66f4c363-c4a5-4e01-95c4-64fc9b83a6d9\",\"type\":\"ColumnDataSource\"}},\"id\":\"df2950da-1f60-465f-9a64-51c01d6b3dd4\",\"type\":\"CDSView\"},{\"attributes\":{\"line_color\":\"#1f77b4\",\"line_width\":2,\"x\":{\"field\":\"x\"},\"y\":{\"field\":\"y\"}},\"id\":\"7008428e-b178-456a-a914-e872a7b80354\",\"type\":\"Line\"},{\"attributes\":{\"dimension\":1,\"plot\":{\"id\":\"c849fd28-aa05-4ec1-ac68-14b25ba40279\",\"subtype\":\"Figure\",\"type\":\"Plot\"},\"ticker\":{\"id\":\"db02a236-2057-41fd-a3e4-f63fa6ef848d\",\"type\":\"BasicTicker\"}},\"id\":\"1ada93a9-4aff-4062-810a-1c7520d09887\",\"type\":\"Grid\"},{\"attributes\":{\"data_source\":{\"id\":\"66f4c363-c4a5-4e01-95c4-64fc9b83a6d9\",\"type\":\"ColumnDataSource\"},\"glyph\":{\"id\":\"7008428e-b178-456a-a914-e872a7b80354\",\"type\":\"Line\"},\"hover_glyph\":null,\"muted_glyph\":null,\"nonselection_glyph\":{\"id\":\"10e508a2-be09-453a-9769-4a2fbc55ebdf\",\"type\":\"Line\"},\"selection_glyph\":null,\"view\":{\"id\":\"df2950da-1f60-465f-9a64-51c01d6b3dd4\",\"type\":\"CDSView\"}},\"id\":\"7949c0d9-f8c4-47f8-9ed4-1b687ae26c09\",\"type\":\"GlyphRenderer\"},{\"attributes\":{\"callback\":null},\"id\":\"aaaf9eff-250a-41fd-a3b7-ab02beea0972\",\"type\":\"DataRange1d\"},{\"attributes\":{},\"id\":\"7dc912fb-7254-4dc0-9c78-c04d16c1910f\",\"type\":\"BasicTickFormatter\"},{\"attributes\":{},\"id\":\"2763f840-a4b0-49e5-89a0-0f9d6bbab1a4\",\"type\":\"PanTool\"},{\"attributes\":{},\"id\":\"3a64cfd2-74d4-417e-ba33-c3aaf1f09339\",\"type\":\"UnionRenderers\"},{\"attributes\":{\"axis_label\":\"g(\\u03b8)\",\"formatter\":{\"id\":\"7dc912fb-7254-4dc0-9c78-c04d16c1910f\",\"type\":\"BasicTickFormatter\"},\"plot\":{\"id\":\"c849fd28-aa05-4ec1-ac68-14b25ba40279\",\"subtype\":\"Figure\",\"type\":\"Plot\"},\"ticker\":{\"id\":\"db02a236-2057-41fd-a3e4-f63fa6ef848d\",\"type\":\"BasicTicker\"}},\"id\":\"bfa9f394-a693-4965-80a6-91160648576c\",\"type\":\"LinearAxis\"},{\"attributes\":{\"plot\":null,\"text\":\"\"},\"id\":\"6dd8bd47-2cff-41a4-ae64-790207aae69a\",\"type\":\"Title\"},{\"attributes\":{},\"id\":\"db02a236-2057-41fd-a3e4-f63fa6ef848d\",\"type\":\"BasicTicker\"},{\"attributes\":{},\"id\":\"9bd29200-8d40-493a-b57e-31e620ec4c58\",\"type\":\"HelpTool\"},{\"attributes\":{},\"id\":\"6ad909f6-e83a-40b0-85dc-2fce1b3d5ad4\",\"type\":\"LinearScale\"},{\"attributes\":{\"active_drag\":\"auto\",\"active_inspect\":\"auto\",\"active_multi\":null,\"active_scroll\":\"auto\",\"active_tap\":\"auto\",\"tools\":[{\"id\":\"2763f840-a4b0-49e5-89a0-0f9d6bbab1a4\",\"type\":\"PanTool\"},{\"id\":\"16c39e41-afba-4080-afdf-3b3e9766b5d3\",\"type\":\"WheelZoomTool\"},{\"id\":\"c3d33433-7a33-4697-974c-1301eca4f1af\",\"type\":\"BoxZoomTool\"},{\"id\":\"012cd0ab-1649-4e50-9ab5-6141d3817300\",\"type\":\"SaveTool\"},{\"id\":\"cbc434c2-869d-4917-9420-a229ae7ce24b\",\"type\":\"ResetTool\"},{\"id\":\"9bd29200-8d40-493a-b57e-31e620ec4c58\",\"type\":\"HelpTool\"}]},\"id\":\"a45da10f-07dd-4c11-bfb5-bd4da7fcb3ef\",\"type\":\"Toolbar\"},{\"attributes\":{\"line_alpha\":0.1,\"line_color\":\"#1f77b4\",\"line_width\":2,\"x\":{\"field\":\"x\"},\"y\":{\"field\":\"y\"}},\"id\":\"10e508a2-be09-453a-9769-4a2fbc55ebdf\",\"type\":\"Line\"},{\"attributes\":{},\"id\":\"c49beb91-a639-4365-a0ef-772c5cb6ea39\",\"type\":\"BasicTicker\"},{\"attributes\":{},\"id\":\"48f408ef-5c4a-4d1e-9837-945a6b27be5b\",\"type\":\"LinearScale\"},{\"attributes\":{},\"id\":\"cbc434c2-869d-4917-9420-a229ae7ce24b\",\"type\":\"ResetTool\"},{\"attributes\":{\"below\":[{\"id\":\"35be37ae-295f-4a54-bbc7-4fe197a4d2be\",\"type\":\"LinearAxis\"}],\"left\":[{\"id\":\"bfa9f394-a693-4965-80a6-91160648576c\",\"type\":\"LinearAxis\"}],\"plot_height\":200,\"plot_width\":300,\"renderers\":[{\"id\":\"35be37ae-295f-4a54-bbc7-4fe197a4d2be\",\"type\":\"LinearAxis\"},{\"id\":\"c13a8afa-66f3-462e-871c-4ae598d48e2e\",\"type\":\"Grid\"},{\"id\":\"bfa9f394-a693-4965-80a6-91160648576c\",\"type\":\"LinearAxis\"},{\"id\":\"1ada93a9-4aff-4062-810a-1c7520d09887\",\"type\":\"Grid\"},{\"id\":\"3a291239-c8ef-4a08-8361-99f5e3885b2f\",\"type\":\"BoxAnnotation\"},{\"id\":\"7949c0d9-f8c4-47f8-9ed4-1b687ae26c09\",\"type\":\"GlyphRenderer\"}],\"title\":{\"id\":\"6dd8bd47-2cff-41a4-ae64-790207aae69a\",\"type\":\"Title\"},\"toolbar\":{\"id\":\"a45da10f-07dd-4c11-bfb5-bd4da7fcb3ef\",\"type\":\"Toolbar\"},\"x_range\":{\"id\":\"aaaf9eff-250a-41fd-a3b7-ab02beea0972\",\"type\":\"DataRange1d\"},\"x_scale\":{\"id\":\"48f408ef-5c4a-4d1e-9837-945a6b27be5b\",\"type\":\"LinearScale\"},\"y_range\":{\"id\":\"ed99ef50-c9d6-4e09-a563-cbab88b5a1b6\",\"type\":\"DataRange1d\"},\"y_scale\":{\"id\":\"6ad909f6-e83a-40b0-85dc-2fce1b3d5ad4\",\"type\":\"LinearScale\"}},\"id\":\"c849fd28-aa05-4ec1-ac68-14b25ba40279\",\"subtype\":\"Figure\",\"type\":\"Plot\"},{\"attributes\":{},\"id\":\"16c39e41-afba-4080-afdf-3b3e9766b5d3\",\"type\":\"WheelZoomTool\"},{\"attributes\":{\"callback\":null},\"id\":\"ed99ef50-c9d6-4e09-a563-cbab88b5a1b6\",\"type\":\"DataRange1d\"},{\"attributes\":{\"overlay\":{\"id\":\"3a291239-c8ef-4a08-8361-99f5e3885b2f\",\"type\":\"BoxAnnotation\"}},\"id\":\"c3d33433-7a33-4697-974c-1301eca4f1af\",\"type\":\"BoxZoomTool\"},{\"attributes\":{},\"id\":\"de841f47-4a80-46d4-a411-fe541327661d\",\"type\":\"Selection\"},{\"attributes\":{\"callback\":null,\"data\":{\"x\":{\"__ndarray__\":\"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\",\"dtype\":\"float64\",\"shape\":[200]},\"y\":{\"__ndarray__\":\"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\",\"dtype\":\"float64\",\"shape\":[200]}},\"selected\":{\"id\":\"de841f47-4a80-46d4-a411-fe541327661d\",\"type\":\"Selection\"},\"selection_policy\":{\"id\":\"3a64cfd2-74d4-417e-ba33-c3aaf1f09339\",\"type\":\"UnionRenderers\"}},\"id\":\"66f4c363-c4a5-4e01-95c4-64fc9b83a6d9\",\"type\":\"ColumnDataSource\"},{\"attributes\":{\"bottom_units\":\"screen\",\"fill_alpha\":{\"value\":0.5},\"fill_color\":{\"value\":\"lightgrey\"},\"left_units\":\"screen\",\"level\":\"overlay\",\"line_alpha\":{\"value\":1.0},\"line_color\":{\"value\":\"black\"},\"line_dash\":[4,4],\"line_width\":{\"value\":2},\"plot\":null,\"render_mode\":\"css\",\"right_units\":\"screen\",\"top_units\":\"screen\"},\"id\":\"3a291239-c8ef-4a08-8361-99f5e3885b2f\",\"type\":\"BoxAnnotation\"},{\"attributes\":{\"plot\":{\"id\":\"c849fd28-aa05-4ec1-ac68-14b25ba40279\",\"subtype\":\"Figure\",\"type\":\"Plot\"},\"ticker\":{\"id\":\"c49beb91-a639-4365-a0ef-772c5cb6ea39\",\"type\":\"BasicTicker\"}},\"id\":\"c13a8afa-66f3-462e-871c-4ae598d48e2e\",\"type\":\"Grid\"}],\"root_ids\":[\"c849fd28-aa05-4ec1-ac68-14b25ba40279\"]},\"title\":\"Bokeh Application\",\"version\":\"0.13.0\"}};\n",
       "  var render_items = [{\"docid\":\"0793b3c3-dfdd-487a-922b-c6a1c06ffac5\",\"roots\":{\"c849fd28-aa05-4ec1-ac68-14b25ba40279\":\"444219a2-bc57-4295-aed4-38799107a38c\"}}];\n",
       "  root.Bokeh.embed.embed_items_notebook(docs_json, render_items);\n",
       "\n",
       "  }\n",
       "  if (root.Bokeh !== undefined) {\n",
       "    embed_document(root);\n",
       "  } else {\n",
       "    var attempts = 0;\n",
       "    var timer = setInterval(function(root) {\n",
       "      if (root.Bokeh !== undefined) {\n",
       "        embed_document(root);\n",
       "        clearInterval(timer);\n",
       "      }\n",
       "      attempts++;\n",
       "      if (attempts > 100) {\n",
       "        console.log(\"Bokeh: ERROR: Unable to run BokehJS code because BokehJS library is missing\")\n",
       "        clearInterval(timer);\n",
       "      }\n",
       "    }, 10, root)\n",
       "  }\n",
       "})(window);"
      ],
      "application/vnd.bokehjs_exec.v0+json": ""
     },
     "metadata": {
      "application/vnd.bokehjs_exec.v0+json": {
       "id": "c849fd28-aa05-4ec1-ac68-14b25ba40279"
      }
     },
     "output_type": "display_data"
    }
   ],
   "source": [
    "sigma = np.linspace(0, 1, 200) # generate points\n",
    "p = bokeh.plotting.figure(width=300, height=200, \n",
    "                          x_axis_label='θ', \n",
    "                          y_axis_label='g(θ)')\n",
    "p.line(sigma, st.beta.pdf(sigma, 1, 8, loc=0, scale=1), line_width=2)\n",
    "bokeh.io.show(p)"
   ]
  },
  {
   "cell_type": "markdown",
   "metadata": {},
   "source": [
    "The ASH strain will still reverse with probability < 0.5,  so $\\theta_{ASH}$ = Beta(2,7), shown graphically as: "
   ]
  },
  {
   "cell_type": "code",
   "execution_count": 59,
   "metadata": {},
   "outputs": [
    {
     "data": {
      "text/html": [
       "\n",
       "\n",
       "\n",
       "\n",
       "\n",
       "\n",
       "  <div class=\"bk-root\" id=\"924141be-9204-47c8-a0d9-195947313a65\"></div>\n"
      ]
     },
     "metadata": {},
     "output_type": "display_data"
    },
    {
     "data": {
      "application/javascript": [
       "(function(root) {\n",
       "  function embed_document(root) {\n",
       "    \n",
       "  var docs_json = {\"7f16e94c-fe30-47b0-beef-da0d16ac5c6f\":{\"roots\":{\"references\":[{\"attributes\":{},\"id\":\"8b984605-6c76-4a6e-8dad-0685a64ff571\",\"type\":\"Selection\"},{\"attributes\":{\"source\":{\"id\":\"41620004-9a68-442b-a5bb-e29e8dba91ac\",\"type\":\"ColumnDataSource\"}},\"id\":\"53ab2609-40b5-4b9f-a30d-bcae375b54a0\",\"type\":\"CDSView\"},{\"attributes\":{\"bottom_units\":\"screen\",\"fill_alpha\":{\"value\":0.5},\"fill_color\":{\"value\":\"lightgrey\"},\"left_units\":\"screen\",\"level\":\"overlay\",\"line_alpha\":{\"value\":1.0},\"line_color\":{\"value\":\"black\"},\"line_dash\":[4,4],\"line_width\":{\"value\":2},\"plot\":null,\"render_mode\":\"css\",\"right_units\":\"screen\",\"top_units\":\"screen\"},\"id\":\"05ca452a-4803-447e-9b36-3b4c46ef04e7\",\"type\":\"BoxAnnotation\"},{\"attributes\":{},\"id\":\"42038cce-97c8-4681-8caa-014e12fdcd65\",\"type\":\"PanTool\"},{\"attributes\":{\"axis_label\":\"\\u03b8\",\"formatter\":{\"id\":\"2ee1bbd4-428d-410e-b67a-ffac1c33a403\",\"type\":\"BasicTickFormatter\"},\"plot\":{\"id\":\"f42b4aac-da75-41ce-9b06-14041c1301c5\",\"subtype\":\"Figure\",\"type\":\"Plot\"},\"ticker\":{\"id\":\"7c28c6ee-b373-4b9a-8e44-716e71149742\",\"type\":\"BasicTicker\"}},\"id\":\"8439e561-70ba-4119-8a89-59ba0c7f5a7d\",\"type\":\"LinearAxis\"},{\"attributes\":{\"plot\":null,\"text\":\"\"},\"id\":\"7bbfb559-8b1b-421d-a931-333940d474cb\",\"type\":\"Title\"},{\"attributes\":{\"data_source\":{\"id\":\"41620004-9a68-442b-a5bb-e29e8dba91ac\",\"type\":\"ColumnDataSource\"},\"glyph\":{\"id\":\"7f7cf091-d81b-4279-9f50-ddfc1ee1ff71\",\"type\":\"Line\"},\"hover_glyph\":null,\"muted_glyph\":null,\"nonselection_glyph\":{\"id\":\"d9914bf0-2900-4f26-9a58-e0aaf96af8c3\",\"type\":\"Line\"},\"selection_glyph\":null,\"view\":{\"id\":\"53ab2609-40b5-4b9f-a30d-bcae375b54a0\",\"type\":\"CDSView\"}},\"id\":\"8373e2e3-6e3c-4f9a-a17b-2034e3d993e6\",\"type\":\"GlyphRenderer\"},{\"attributes\":{},\"id\":\"f0d286c4-cd80-416c-8b77-ad39f43b0212\",\"type\":\"WheelZoomTool\"},{\"attributes\":{},\"id\":\"51f3e0a1-d0b5-4e13-bf05-1f16f8ce06b5\",\"type\":\"BasicTicker\"},{\"attributes\":{\"active_drag\":\"auto\",\"active_inspect\":\"auto\",\"active_multi\":null,\"active_scroll\":\"auto\",\"active_tap\":\"auto\",\"tools\":[{\"id\":\"42038cce-97c8-4681-8caa-014e12fdcd65\",\"type\":\"PanTool\"},{\"id\":\"f0d286c4-cd80-416c-8b77-ad39f43b0212\",\"type\":\"WheelZoomTool\"},{\"id\":\"42ad3ef6-93d1-4ca5-99d5-5670ee265765\",\"type\":\"BoxZoomTool\"},{\"id\":\"36b9dca8-d7c3-4104-a3ea-1c634fb5e5e6\",\"type\":\"SaveTool\"},{\"id\":\"e6877694-4277-4588-88cb-aeb2470dce02\",\"type\":\"ResetTool\"},{\"id\":\"399efeef-b25f-4395-b473-68efdc50eefa\",\"type\":\"HelpTool\"}]},\"id\":\"5f11d6d3-bbec-4925-8f14-9c3e56fe8ed5\",\"type\":\"Toolbar\"},{\"attributes\":{},\"id\":\"7c28c6ee-b373-4b9a-8e44-716e71149742\",\"type\":\"BasicTicker\"},{\"attributes\":{\"callback\":null},\"id\":\"0a847c3c-9942-4e14-b95d-2b4cf4e426e5\",\"type\":\"DataRange1d\"},{\"attributes\":{\"line_alpha\":0.1,\"line_color\":\"#1f77b4\",\"line_width\":2,\"x\":{\"field\":\"x\"},\"y\":{\"field\":\"y\"}},\"id\":\"d9914bf0-2900-4f26-9a58-e0aaf96af8c3\",\"type\":\"Line\"},{\"attributes\":{\"overlay\":{\"id\":\"05ca452a-4803-447e-9b36-3b4c46ef04e7\",\"type\":\"BoxAnnotation\"}},\"id\":\"42ad3ef6-93d1-4ca5-99d5-5670ee265765\",\"type\":\"BoxZoomTool\"},{\"attributes\":{},\"id\":\"785f68ee-6220-4461-b9c4-f6158c2d76ec\",\"type\":\"BasicTickFormatter\"},{\"attributes\":{\"dimension\":1,\"plot\":{\"id\":\"f42b4aac-da75-41ce-9b06-14041c1301c5\",\"subtype\":\"Figure\",\"type\":\"Plot\"},\"ticker\":{\"id\":\"51f3e0a1-d0b5-4e13-bf05-1f16f8ce06b5\",\"type\":\"BasicTicker\"}},\"id\":\"18803625-c391-4434-9018-d0e153e808d2\",\"type\":\"Grid\"},{\"attributes\":{\"line_color\":\"#1f77b4\",\"line_width\":2,\"x\":{\"field\":\"x\"},\"y\":{\"field\":\"y\"}},\"id\":\"7f7cf091-d81b-4279-9f50-ddfc1ee1ff71\",\"type\":\"Line\"},{\"attributes\":{},\"id\":\"68d31c53-3f44-4f66-9e02-cc77a697c156\",\"type\":\"LinearScale\"},{\"attributes\":{},\"id\":\"399efeef-b25f-4395-b473-68efdc50eefa\",\"type\":\"HelpTool\"},{\"attributes\":{\"plot\":{\"id\":\"f42b4aac-da75-41ce-9b06-14041c1301c5\",\"subtype\":\"Figure\",\"type\":\"Plot\"},\"ticker\":{\"id\":\"7c28c6ee-b373-4b9a-8e44-716e71149742\",\"type\":\"BasicTicker\"}},\"id\":\"7efc804a-8de7-4f78-acd7-33184d768320\",\"type\":\"Grid\"},{\"attributes\":{\"callback\":null},\"id\":\"8e9ffdff-5fcf-4f8a-a887-f73be92433b2\",\"type\":\"DataRange1d\"},{\"attributes\":{},\"id\":\"36b9dca8-d7c3-4104-a3ea-1c634fb5e5e6\",\"type\":\"SaveTool\"},{\"attributes\":{\"axis_label\":\"g(\\u03b8)\",\"formatter\":{\"id\":\"785f68ee-6220-4461-b9c4-f6158c2d76ec\",\"type\":\"BasicTickFormatter\"},\"plot\":{\"id\":\"f42b4aac-da75-41ce-9b06-14041c1301c5\",\"subtype\":\"Figure\",\"type\":\"Plot\"},\"ticker\":{\"id\":\"51f3e0a1-d0b5-4e13-bf05-1f16f8ce06b5\",\"type\":\"BasicTicker\"}},\"id\":\"8bc90c66-e588-4864-afa9-fadf2739d7c0\",\"type\":\"LinearAxis\"},{\"attributes\":{},\"id\":\"28b6902e-a324-4ca2-9af2-d666327e9641\",\"type\":\"UnionRenderers\"},{\"attributes\":{},\"id\":\"e6877694-4277-4588-88cb-aeb2470dce02\",\"type\":\"ResetTool\"},{\"attributes\":{},\"id\":\"2ee1bbd4-428d-410e-b67a-ffac1c33a403\",\"type\":\"BasicTickFormatter\"},{\"attributes\":{\"below\":[{\"id\":\"8439e561-70ba-4119-8a89-59ba0c7f5a7d\",\"type\":\"LinearAxis\"}],\"left\":[{\"id\":\"8bc90c66-e588-4864-afa9-fadf2739d7c0\",\"type\":\"LinearAxis\"}],\"plot_height\":200,\"plot_width\":300,\"renderers\":[{\"id\":\"8439e561-70ba-4119-8a89-59ba0c7f5a7d\",\"type\":\"LinearAxis\"},{\"id\":\"7efc804a-8de7-4f78-acd7-33184d768320\",\"type\":\"Grid\"},{\"id\":\"8bc90c66-e588-4864-afa9-fadf2739d7c0\",\"type\":\"LinearAxis\"},{\"id\":\"18803625-c391-4434-9018-d0e153e808d2\",\"type\":\"Grid\"},{\"id\":\"05ca452a-4803-447e-9b36-3b4c46ef04e7\",\"type\":\"BoxAnnotation\"},{\"id\":\"8373e2e3-6e3c-4f9a-a17b-2034e3d993e6\",\"type\":\"GlyphRenderer\"}],\"title\":{\"id\":\"7bbfb559-8b1b-421d-a931-333940d474cb\",\"type\":\"Title\"},\"toolbar\":{\"id\":\"5f11d6d3-bbec-4925-8f14-9c3e56fe8ed5\",\"type\":\"Toolbar\"},\"x_range\":{\"id\":\"8e9ffdff-5fcf-4f8a-a887-f73be92433b2\",\"type\":\"DataRange1d\"},\"x_scale\":{\"id\":\"296dbd98-b6e7-49c5-9c88-b6e4a6d3eebe\",\"type\":\"LinearScale\"},\"y_range\":{\"id\":\"0a847c3c-9942-4e14-b95d-2b4cf4e426e5\",\"type\":\"DataRange1d\"},\"y_scale\":{\"id\":\"68d31c53-3f44-4f66-9e02-cc77a697c156\",\"type\":\"LinearScale\"}},\"id\":\"f42b4aac-da75-41ce-9b06-14041c1301c5\",\"subtype\":\"Figure\",\"type\":\"Plot\"},{\"attributes\":{\"callback\":null,\"data\":{\"x\":{\"__ndarray__\":\"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\",\"dtype\":\"float64\",\"shape\":[200]},\"y\":{\"__ndarray__\":\"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\",\"dtype\":\"float64\",\"shape\":[200]}},\"selected\":{\"id\":\"8b984605-6c76-4a6e-8dad-0685a64ff571\",\"type\":\"Selection\"},\"selection_policy\":{\"id\":\"28b6902e-a324-4ca2-9af2-d666327e9641\",\"type\":\"UnionRenderers\"}},\"id\":\"41620004-9a68-442b-a5bb-e29e8dba91ac\",\"type\":\"ColumnDataSource\"},{\"attributes\":{},\"id\":\"296dbd98-b6e7-49c5-9c88-b6e4a6d3eebe\",\"type\":\"LinearScale\"}],\"root_ids\":[\"f42b4aac-da75-41ce-9b06-14041c1301c5\"]},\"title\":\"Bokeh Application\",\"version\":\"0.13.0\"}};\n",
       "  var render_items = [{\"docid\":\"7f16e94c-fe30-47b0-beef-da0d16ac5c6f\",\"roots\":{\"f42b4aac-da75-41ce-9b06-14041c1301c5\":\"924141be-9204-47c8-a0d9-195947313a65\"}}];\n",
       "  root.Bokeh.embed.embed_items_notebook(docs_json, render_items);\n",
       "\n",
       "  }\n",
       "  if (root.Bokeh !== undefined) {\n",
       "    embed_document(root);\n",
       "  } else {\n",
       "    var attempts = 0;\n",
       "    var timer = setInterval(function(root) {\n",
       "      if (root.Bokeh !== undefined) {\n",
       "        embed_document(root);\n",
       "        clearInterval(timer);\n",
       "      }\n",
       "      attempts++;\n",
       "      if (attempts > 100) {\n",
       "        console.log(\"Bokeh: ERROR: Unable to run BokehJS code because BokehJS library is missing\")\n",
       "        clearInterval(timer);\n",
       "      }\n",
       "    }, 10, root)\n",
       "  }\n",
       "})(window);"
      ],
      "application/vnd.bokehjs_exec.v0+json": ""
     },
     "metadata": {
      "application/vnd.bokehjs_exec.v0+json": {
       "id": "f42b4aac-da75-41ce-9b06-14041c1301c5"
      }
     },
     "output_type": "display_data"
    }
   ],
   "source": [
    "sigma = np.linspace(0, 1, 200) # generate points\n",
    "p = bokeh.plotting.figure(width=300, height=200, \n",
    "                          x_axis_label='θ', \n",
    "                          y_axis_label='g(θ)')\n",
    "p.line(sigma, st.beta.pdf(sigma, 2, 7, loc=0, scale=1), line_width=2)\n",
    "bokeh.io.show(p)"
   ]
  },
  {
   "cell_type": "markdown",
   "metadata": {},
   "source": [
    "The AVA strain is twice as likely to reverse so we predict the distribution will be shifted to the right and more widely peaked, so $\\theta_{AVA}$ = Beta(5,6), \n",
    "shown graphically as:"
   ]
  },
  {
   "cell_type": "code",
   "execution_count": 60,
   "metadata": {},
   "outputs": [
    {
     "data": {
      "text/html": [
       "\n",
       "\n",
       "\n",
       "\n",
       "\n",
       "\n",
       "  <div class=\"bk-root\" id=\"d916949c-9d3c-4f3a-bed7-55afdcb72d4c\"></div>\n"
      ]
     },
     "metadata": {},
     "output_type": "display_data"
    },
    {
     "data": {
      "application/javascript": [
       "(function(root) {\n",
       "  function embed_document(root) {\n",
       "    \n",
       "  var docs_json = {\"7e22cb2c-cee3-4797-857a-e195b7707593\":{\"roots\":{\"references\":[{\"attributes\":{\"axis_label\":\"g(\\u03b8)\",\"formatter\":{\"id\":\"7422e6ac-42d2-4d78-ae9c-10b9df28f77d\",\"type\":\"BasicTickFormatter\"},\"plot\":{\"id\":\"51106ffa-039d-4b87-b310-0f6697efa165\",\"subtype\":\"Figure\",\"type\":\"Plot\"},\"ticker\":{\"id\":\"d85c4102-f6f3-4284-a697-414127d818fb\",\"type\":\"BasicTicker\"}},\"id\":\"333c702b-3cac-4f91-af1d-25b942d5e5ba\",\"type\":\"LinearAxis\"},{\"attributes\":{\"bottom_units\":\"screen\",\"fill_alpha\":{\"value\":0.5},\"fill_color\":{\"value\":\"lightgrey\"},\"left_units\":\"screen\",\"level\":\"overlay\",\"line_alpha\":{\"value\":1.0},\"line_color\":{\"value\":\"black\"},\"line_dash\":[4,4],\"line_width\":{\"value\":2},\"plot\":null,\"render_mode\":\"css\",\"right_units\":\"screen\",\"top_units\":\"screen\"},\"id\":\"d8feb4ef-0cb4-42e4-a183-88e8aea739cd\",\"type\":\"BoxAnnotation\"},{\"attributes\":{},\"id\":\"c6d09306-f35e-4325-a36f-e9d4f8a8b965\",\"type\":\"PanTool\"},{\"attributes\":{\"line_color\":\"#1f77b4\",\"line_width\":2,\"x\":{\"field\":\"x\"},\"y\":{\"field\":\"y\"}},\"id\":\"8a7dbd34-954b-4b01-b69b-4881e9c36af9\",\"type\":\"Line\"},{\"attributes\":{\"callback\":null},\"id\":\"4ec0f316-da1d-4ebd-8ae3-28a035bed6de\",\"type\":\"DataRange1d\"},{\"attributes\":{},\"id\":\"d8ec0fbc-3f4b-4d15-a611-4e88dac67563\",\"type\":\"WheelZoomTool\"},{\"attributes\":{\"overlay\":{\"id\":\"d8feb4ef-0cb4-42e4-a183-88e8aea739cd\",\"type\":\"BoxAnnotation\"}},\"id\":\"d4a53817-7939-4b9b-af2f-a5021f0a2650\",\"type\":\"BoxZoomTool\"},{\"attributes\":{\"dimension\":1,\"plot\":{\"id\":\"51106ffa-039d-4b87-b310-0f6697efa165\",\"subtype\":\"Figure\",\"type\":\"Plot\"},\"ticker\":{\"id\":\"d85c4102-f6f3-4284-a697-414127d818fb\",\"type\":\"BasicTicker\"}},\"id\":\"5548b509-c59d-4fee-8791-fc132ef36ba6\",\"type\":\"Grid\"},{\"attributes\":{\"below\":[{\"id\":\"ff0f04dc-57fa-4e15-8e82-7c47747adb73\",\"type\":\"LinearAxis\"}],\"left\":[{\"id\":\"333c702b-3cac-4f91-af1d-25b942d5e5ba\",\"type\":\"LinearAxis\"}],\"plot_height\":200,\"plot_width\":300,\"renderers\":[{\"id\":\"ff0f04dc-57fa-4e15-8e82-7c47747adb73\",\"type\":\"LinearAxis\"},{\"id\":\"b2b250d9-521c-4ba9-8c7d-dafd35f13080\",\"type\":\"Grid\"},{\"id\":\"333c702b-3cac-4f91-af1d-25b942d5e5ba\",\"type\":\"LinearAxis\"},{\"id\":\"5548b509-c59d-4fee-8791-fc132ef36ba6\",\"type\":\"Grid\"},{\"id\":\"d8feb4ef-0cb4-42e4-a183-88e8aea739cd\",\"type\":\"BoxAnnotation\"},{\"id\":\"ff875b9e-eabf-4ebf-97b6-20683342c3a2\",\"type\":\"GlyphRenderer\"}],\"title\":{\"id\":\"3be818db-3c2c-4706-997e-143b19dca247\",\"type\":\"Title\"},\"toolbar\":{\"id\":\"64c94677-833c-4fc7-a814-08b4387940e6\",\"type\":\"Toolbar\"},\"x_range\":{\"id\":\"4ec0f316-da1d-4ebd-8ae3-28a035bed6de\",\"type\":\"DataRange1d\"},\"x_scale\":{\"id\":\"b896f07a-51b4-4286-91d3-f8df9c2a0f25\",\"type\":\"LinearScale\"},\"y_range\":{\"id\":\"ab0e1f8e-8d3c-4845-80ec-839a7bfcb342\",\"type\":\"DataRange1d\"},\"y_scale\":{\"id\":\"a730465d-ca21-4de9-ae50-bdcbd2267e24\",\"type\":\"LinearScale\"}},\"id\":\"51106ffa-039d-4b87-b310-0f6697efa165\",\"subtype\":\"Figure\",\"type\":\"Plot\"},{\"attributes\":{},\"id\":\"92166beb-f038-4513-aec4-936cdcb96a01\",\"type\":\"SaveTool\"},{\"attributes\":{\"callback\":null,\"data\":{\"x\":{\"__ndarray__\":\"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\",\"dtype\":\"float64\",\"shape\":[200]},\"y\":{\"__ndarray__\":\"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\",\"dtype\":\"float64\",\"shape\":[200]}},\"selected\":{\"id\":\"ec5be1e2-9e87-4d61-adcf-30152284c277\",\"type\":\"Selection\"},\"selection_policy\":{\"id\":\"335ce424-80f2-4de1-afbf-f1e1853f2f74\",\"type\":\"UnionRenderers\"}},\"id\":\"95bc1f96-82fe-415e-a744-ef33f042897a\",\"type\":\"ColumnDataSource\"},{\"attributes\":{},\"id\":\"ff928141-3a9a-465e-aac7-e78c8808e248\",\"type\":\"ResetTool\"},{\"attributes\":{},\"id\":\"b896f07a-51b4-4286-91d3-f8df9c2a0f25\",\"type\":\"LinearScale\"},{\"attributes\":{\"axis_label\":\"\\u03b8\",\"formatter\":{\"id\":\"9e628854-e851-4002-b645-03af43a7a2c8\",\"type\":\"BasicTickFormatter\"},\"plot\":{\"id\":\"51106ffa-039d-4b87-b310-0f6697efa165\",\"subtype\":\"Figure\",\"type\":\"Plot\"},\"ticker\":{\"id\":\"2c86b5de-19d6-491d-9084-3fcf4723af33\",\"type\":\"BasicTicker\"}},\"id\":\"ff0f04dc-57fa-4e15-8e82-7c47747adb73\",\"type\":\"LinearAxis\"},{\"attributes\":{\"plot\":{\"id\":\"51106ffa-039d-4b87-b310-0f6697efa165\",\"subtype\":\"Figure\",\"type\":\"Plot\"},\"ticker\":{\"id\":\"2c86b5de-19d6-491d-9084-3fcf4723af33\",\"type\":\"BasicTicker\"}},\"id\":\"b2b250d9-521c-4ba9-8c7d-dafd35f13080\",\"type\":\"Grid\"},{\"attributes\":{},\"id\":\"699af23f-c3cb-4776-95f6-b7cc086abf5f\",\"type\":\"HelpTool\"},{\"attributes\":{},\"id\":\"ec5be1e2-9e87-4d61-adcf-30152284c277\",\"type\":\"Selection\"},{\"attributes\":{\"plot\":null,\"text\":\"\"},\"id\":\"3be818db-3c2c-4706-997e-143b19dca247\",\"type\":\"Title\"},{\"attributes\":{\"active_drag\":\"auto\",\"active_inspect\":\"auto\",\"active_multi\":null,\"active_scroll\":\"auto\",\"active_tap\":\"auto\",\"tools\":[{\"id\":\"c6d09306-f35e-4325-a36f-e9d4f8a8b965\",\"type\":\"PanTool\"},{\"id\":\"d8ec0fbc-3f4b-4d15-a611-4e88dac67563\",\"type\":\"WheelZoomTool\"},{\"id\":\"d4a53817-7939-4b9b-af2f-a5021f0a2650\",\"type\":\"BoxZoomTool\"},{\"id\":\"92166beb-f038-4513-aec4-936cdcb96a01\",\"type\":\"SaveTool\"},{\"id\":\"ff928141-3a9a-465e-aac7-e78c8808e248\",\"type\":\"ResetTool\"},{\"id\":\"699af23f-c3cb-4776-95f6-b7cc086abf5f\",\"type\":\"HelpTool\"}]},\"id\":\"64c94677-833c-4fc7-a814-08b4387940e6\",\"type\":\"Toolbar\"},{\"attributes\":{},\"id\":\"d85c4102-f6f3-4284-a697-414127d818fb\",\"type\":\"BasicTicker\"},{\"attributes\":{},\"id\":\"7422e6ac-42d2-4d78-ae9c-10b9df28f77d\",\"type\":\"BasicTickFormatter\"},{\"attributes\":{},\"id\":\"9e628854-e851-4002-b645-03af43a7a2c8\",\"type\":\"BasicTickFormatter\"},{\"attributes\":{\"line_alpha\":0.1,\"line_color\":\"#1f77b4\",\"line_width\":2,\"x\":{\"field\":\"x\"},\"y\":{\"field\":\"y\"}},\"id\":\"b228e512-92c2-451a-b6a7-5f9ec2a0c38e\",\"type\":\"Line\"},{\"attributes\":{},\"id\":\"335ce424-80f2-4de1-afbf-f1e1853f2f74\",\"type\":\"UnionRenderers\"},{\"attributes\":{\"data_source\":{\"id\":\"95bc1f96-82fe-415e-a744-ef33f042897a\",\"type\":\"ColumnDataSource\"},\"glyph\":{\"id\":\"8a7dbd34-954b-4b01-b69b-4881e9c36af9\",\"type\":\"Line\"},\"hover_glyph\":null,\"muted_glyph\":null,\"nonselection_glyph\":{\"id\":\"b228e512-92c2-451a-b6a7-5f9ec2a0c38e\",\"type\":\"Line\"},\"selection_glyph\":null,\"view\":{\"id\":\"d516f9c7-1a78-4c95-bc36-9b096a3a95ae\",\"type\":\"CDSView\"}},\"id\":\"ff875b9e-eabf-4ebf-97b6-20683342c3a2\",\"type\":\"GlyphRenderer\"},{\"attributes\":{\"source\":{\"id\":\"95bc1f96-82fe-415e-a744-ef33f042897a\",\"type\":\"ColumnDataSource\"}},\"id\":\"d516f9c7-1a78-4c95-bc36-9b096a3a95ae\",\"type\":\"CDSView\"},{\"attributes\":{\"callback\":null},\"id\":\"ab0e1f8e-8d3c-4845-80ec-839a7bfcb342\",\"type\":\"DataRange1d\"},{\"attributes\":{},\"id\":\"2c86b5de-19d6-491d-9084-3fcf4723af33\",\"type\":\"BasicTicker\"},{\"attributes\":{},\"id\":\"a730465d-ca21-4de9-ae50-bdcbd2267e24\",\"type\":\"LinearScale\"}],\"root_ids\":[\"51106ffa-039d-4b87-b310-0f6697efa165\"]},\"title\":\"Bokeh Application\",\"version\":\"0.13.0\"}};\n",
       "  var render_items = [{\"docid\":\"7e22cb2c-cee3-4797-857a-e195b7707593\",\"roots\":{\"51106ffa-039d-4b87-b310-0f6697efa165\":\"d916949c-9d3c-4f3a-bed7-55afdcb72d4c\"}}];\n",
       "  root.Bokeh.embed.embed_items_notebook(docs_json, render_items);\n",
       "\n",
       "  }\n",
       "  if (root.Bokeh !== undefined) {\n",
       "    embed_document(root);\n",
       "  } else {\n",
       "    var attempts = 0;\n",
       "    var timer = setInterval(function(root) {\n",
       "      if (root.Bokeh !== undefined) {\n",
       "        embed_document(root);\n",
       "        clearInterval(timer);\n",
       "      }\n",
       "      attempts++;\n",
       "      if (attempts > 100) {\n",
       "        console.log(\"Bokeh: ERROR: Unable to run BokehJS code because BokehJS library is missing\")\n",
       "        clearInterval(timer);\n",
       "      }\n",
       "    }, 10, root)\n",
       "  }\n",
       "})(window);"
      ],
      "application/vnd.bokehjs_exec.v0+json": ""
     },
     "metadata": {
      "application/vnd.bokehjs_exec.v0+json": {
       "id": "51106ffa-039d-4b87-b310-0f6697efa165"
      }
     },
     "output_type": "display_data"
    }
   ],
   "source": [
    "sigma = np.linspace(0, 1, 200) # generate points\n",
    "p = bokeh.plotting.figure(width=300, height=200, \n",
    "                          x_axis_label='θ', \n",
    "                          y_axis_label='g(θ)')\n",
    "p.line(sigma, st.beta.pdf(sigma, 5, 6, loc=0, scale=1), line_width=2)\n",
    "bokeh.io.show(p)"
   ]
  },
  {
   "cell_type": "markdown",
   "metadata": {},
   "source": [
    "Now we plot the posterior probability density function for each of the three strains. We put our priors for a and b and the data points we have for n number of reversals in N trials into arrays to make performing calculations for all three strains easier."
   ]
  },
  {
   "cell_type": "code",
   "execution_count": 61,
   "metadata": {},
   "outputs": [],
   "source": [
    "# arrays for alpha and beta values for our three strains\n",
    "a_array = [1, 2, 5]\n",
    "b_array = [8, 7, 6]\n",
    "\n",
    "# arrays for the datapoints we have for number of reversals for our three strains\n",
    "n_array = [13, 39, 91]\n",
    "N_array = [126, 124, 124]"
   ]
  },
  {
   "cell_type": "markdown",
   "metadata": {},
   "source": [
    "Now we can do our prior predictive check."
   ]
  },
  {
   "cell_type": "code",
   "execution_count": 62,
   "metadata": {},
   "outputs": [
    {
     "data": {
      "text/html": [
       "\n",
       "\n",
       "\n",
       "\n",
       "\n",
       "\n",
       "  <div class=\"bk-root\" id=\"9ded3e04-9b9f-4eda-b927-c3131214eb61\"></div>\n"
      ]
     },
     "metadata": {},
     "output_type": "display_data"
    },
    {
     "data": {
      "application/javascript": [
       "(function(root) {\n",
       "  function embed_document(root) {\n",
       "    \n",
       "  var docs_json = {\"1b79c1a6-01d8-47bb-b780-41247fc33f8e\":{\"roots\":{\"references\":[{\"attributes\":{},\"id\":\"47b2ef32-45d4-4fce-a7df-be17a96fdc8a\",\"type\":\"SaveTool\"},{\"attributes\":{},\"id\":\"abbb597f-dbd5-42d9-b3e8-8ccfff21bd57\",\"type\":\"ResetTool\"},{\"attributes\":{},\"id\":\"37611307-24d5-46a4-8080-e0e86fb51f61\",\"type\":\"HelpTool\"},{\"attributes\":{\"label\":{\"value\":\"WT\"},\"renderers\":[{\"id\":\"74e4b2c6-dba6-4553-b1bf-f0b01a237848\",\"type\":\"GlyphRenderer\"}]},\"id\":\"dd7ca54e-a88f-4b32-b812-70377250c134\",\"type\":\"LegendItem\"},{\"attributes\":{},\"id\":\"4d4fe898-4b3e-4151-b9d3-1cd65dbad3e4\",\"type\":\"BasicTickFormatter\"},{\"attributes\":{\"items\":[{\"id\":\"dd7ca54e-a88f-4b32-b812-70377250c134\",\"type\":\"LegendItem\"},{\"id\":\"03cbb179-4171-4015-9396-188de446621e\",\"type\":\"LegendItem\"},{\"id\":\"42754ae9-db8e-46fa-a0ea-9635b5baaad0\",\"type\":\"LegendItem\"}],\"plot\":{\"id\":\"5806acf0-2435-4f56-a217-acf2fb802214\",\"subtype\":\"Figure\",\"type\":\"Plot\"}},\"id\":\"95b0ee0c-7d27-4cb4-a0ec-adab1a2903c5\",\"type\":\"Legend\"},{\"attributes\":{},\"id\":\"dbfa3878-cfcc-4ccc-9610-00ed121c0f28\",\"type\":\"UnionRenderers\"},{\"attributes\":{\"callback\":null,\"data\":{\"x\":{\"__ndarray__\":\"hBBCCCGEkD/GGGOMMcaYP8YYY4wxxpg/hBBCCCGEoD+llFJKKaWkP6WUUkoppaQ/xhhjjDHGqD/nnHPOOeesP+ecc84556w/55xzzjnnrD+EEEIIIYSwP4QQQgghhLA/lVJKKaWUsj+llFJKKaW0P7bWWmuttbY/ttZaa621tj+21lprrbW2P7bWWmuttbY/xhhjjDHGuD/GGGOMMca4P8YYY4wxxrg/xhhjjDHGuD/XWmuttda6P9daa6211ro/+N577733vj+EEEIIIYTAP4QQQgghhMA/hBBCCCGEwD+EEEIIIYTAP5VSSimllMI/lVJKKaWUwj+VUkoppZTCP51zzjnnnMM/nXPOOeecwz+llFJKKaXEP6WUUkoppcQ/pZRSSimlxD+ttdZaa63FP7bWWmuttcY/ttZaa621xj+21lprrbXGP7733nvvvcc/vvfee++9xz/GGGOMMcbIP8YYY4wxxsg/xhhjjDHGyD/GGGOMMcbIP84555xzzsk/zjnnnHPOyT/OOeecc87JP84555xzzsk/zjnnnHPOyT/XWmuttdbKP9daa6211so/11prrbXWyj/XWmuttdbKP9daa6211so/33vvvffeyz/fe++9997LP99777333ss/55xzzjnnzD/vvffee+/NP/jee++9984/+N577733zj/43nvvvffOPwAAAAAAANA/AAAAAAAA0D8AAAAAAADQP4QQQgghhNA/CCGEEEII0T+MMcYYY4zRP4wxxhhjjNE/jDHGGGOM0T+MMcYYY4zRPxFCCCGEENI/EUIIIYQQ0j8RQgghhBDSPxFCCCGEENI/lVJKKaWU0j+VUkoppZTSPxljjDHGGNM/KaWUUkop1T8yxhhjjDHWPzLGGGOMMdY/ttZaa6211j9CCCGEEELYP8YYY4wxxtg/SimllFJK2T/OOeecc87ZP1NKKaWUUto/U0oppZRS2j/XWmuttdbaP+ecc84559w/77333nvv3T/43nvvvffeP3zvvffee98/AAAAAAAA4D/OOeecc87hPxFCCCGEEOI/IYQQQggh5D8=\",\"dtype\":\"float64\",\"shape\":[100]},\"y\":{\"__ndarray__\":\"exSuR+F6hD97FK5H4XqUP7gehetRuJ4/exSuR+F6pD+amZmZmZmpP7gehetRuK4/7FG4HoXrsT97FK5H4Xq0PwrXo3A9Crc/mpmZmZmZuT8pXI/C9Si8P7gehetRuL4/pHA9CtejwD/sUbgehevBPzMzMzMzM8M/exSuR+F6xD/D9Shcj8LFPwrXo3A9Csc/UrgehetRyD+amZmZmZnJP+F6FK5H4co/KVyPwvUozD9xPQrXo3DNP7gehetRuM4/AAAAAAAA0D+kcD0K16PQP0jhehSuR9E/7FG4HoXr0T+PwvUoXI/SPzMzMzMzM9M/16NwPQrX0z97FK5H4XrUPx+F61G4HtU/w/UoXI/C1T9mZmZmZmbWPwrXo3A9Ctc/rkfhehSu1z9SuB6F61HYP/YoXI/C9dg/mpmZmZmZ2T89CtejcD3aP+F6FK5H4do/hetRuB6F2z8pXI/C9SjcP83MzMzMzNw/cT0K16Nw3T8UrkfhehTeP7gehetRuN4/XI/C9Shc3z8AAAAAAADgP1K4HoXrUeA/pHA9Ctej4D/2KFyPwvXgP0jhehSuR+E/mpmZmZmZ4T/sUbgehevhPz0K16NwPeI/j8L1KFyP4j/hehSuR+HiPzMzMzMzM+M/hetRuB6F4z/Xo3A9CtfjPylcj8L1KOQ/exSuR+F65D/NzMzMzMzkPx+F61G4HuU/cT0K16Nw5T/D9Shcj8LlPxSuR+F6FOY/ZmZmZmZm5j+4HoXrUbjmPwrXo3A9Cuc/XI/C9Shc5z+uR+F6FK7nPwAAAAAAAOg/UrgehetR6D+kcD0K16PoP/YoXI/C9eg/SOF6FK5H6T+amZmZmZnpP+xRuB6F6+k/PQrXo3A96j+PwvUoXI/qP+F6FK5H4eo/MzMzMzMz6z+F61G4HoXrP9ejcD0K1+s/KVyPwvUo7D97FK5H4XrsP83MzMzMzOw/H4XrUbge7T9xPQrXo3DtP8P1KFyPwu0/FK5H4XoU7j9mZmZmZmbuP7gehetRuO4/CtejcD0K7z9cj8L1KFzvP65H4XoUru8/AAAAAAAA8D8=\",\"dtype\":\"float64\",\"shape\":[100]}},\"selected\":{\"id\":\"d818ad6d-d552-40aa-b588-c9f2b9fd3d5c\",\"type\":\"Selection\"},\"selection_policy\":{\"id\":\"f9efaa83-e15a-4dfb-8bf8-616465b09a02\",\"type\":\"UnionRenderers\"}},\"id\":\"4fd8fdfe-804f-47dd-a007-15c3421f31d7\",\"type\":\"ColumnDataSource\"},{\"attributes\":{\"fill_color\":{\"value\":\"#249d43\"},\"line_alpha\":{\"value\":0},\"line_color\":{\"value\":\"#249d43\"},\"x\":{\"field\":\"x\"},\"y\":{\"field\":\"y\"}},\"id\":\"16de9428-d623-4441-aabe-dd83ed997e12\",\"type\":\"Circle\"},{\"attributes\":{\"fill_alpha\":{\"value\":0.1},\"fill_color\":{\"value\":\"#1f77b4\"},\"line_alpha\":{\"value\":0.1},\"line_color\":{\"value\":\"#1f77b4\"},\"x\":{\"field\":\"x\"},\"y\":{\"field\":\"y\"}},\"id\":\"cbb0221b-726f-41ad-a1ce-4d2a6b974f5e\",\"type\":\"Circle\"},{\"attributes\":{\"data_source\":{\"id\":\"4fd8fdfe-804f-47dd-a007-15c3421f31d7\",\"type\":\"ColumnDataSource\"},\"glyph\":{\"id\":\"16de9428-d623-4441-aabe-dd83ed997e12\",\"type\":\"Circle\"},\"hover_glyph\":null,\"muted_glyph\":null,\"nonselection_glyph\":{\"id\":\"cbb0221b-726f-41ad-a1ce-4d2a6b974f5e\",\"type\":\"Circle\"},\"selection_glyph\":null,\"view\":{\"id\":\"8aead3d1-ceb8-4ad5-a689-f025fe6f0492\",\"type\":\"CDSView\"}},\"id\":\"34700c09-7304-417b-882c-52f26703c618\",\"type\":\"GlyphRenderer\"},{\"attributes\":{\"source\":{\"id\":\"4fd8fdfe-804f-47dd-a007-15c3421f31d7\",\"type\":\"ColumnDataSource\"}},\"id\":\"8aead3d1-ceb8-4ad5-a689-f025fe6f0492\",\"type\":\"CDSView\"},{\"attributes\":{},\"id\":\"fae9cf29-4318-40fb-aa70-89459bd2760c\",\"type\":\"Selection\"},{\"attributes\":{},\"id\":\"f9efaa83-e15a-4dfb-8bf8-616465b09a02\",\"type\":\"UnionRenderers\"},{\"attributes\":{\"label\":{\"value\":\"ASH\"},\"renderers\":[{\"id\":\"34700c09-7304-417b-882c-52f26703c618\",\"type\":\"GlyphRenderer\"}]},\"id\":\"03cbb179-4171-4015-9396-188de446621e\",\"type\":\"LegendItem\"},{\"attributes\":{\"below\":[{\"id\":\"bf440549-d641-4ed7-a3be-3618ec9d3266\",\"type\":\"LinearAxis\"}],\"left\":[{\"id\":\"d270f22b-85c6-4bfd-ae7a-b4d88b8b3d19\",\"type\":\"LinearAxis\"}],\"plot_height\":300,\"plot_width\":450,\"renderers\":[{\"id\":\"bf440549-d641-4ed7-a3be-3618ec9d3266\",\"type\":\"LinearAxis\"},{\"id\":\"64a8d5f6-52a5-4124-8704-36e7a47c6a68\",\"type\":\"Grid\"},{\"id\":\"d270f22b-85c6-4bfd-ae7a-b4d88b8b3d19\",\"type\":\"LinearAxis\"},{\"id\":\"37b7716f-a80b-46f6-9f60-435d3a1b2ebf\",\"type\":\"Grid\"},{\"id\":\"28d87f39-0601-434d-8088-03ed9523e8bf\",\"type\":\"BoxAnnotation\"},{\"id\":\"95b0ee0c-7d27-4cb4-a0ec-adab1a2903c5\",\"type\":\"Legend\"},{\"id\":\"74e4b2c6-dba6-4553-b1bf-f0b01a237848\",\"type\":\"GlyphRenderer\"},{\"id\":\"34700c09-7304-417b-882c-52f26703c618\",\"type\":\"GlyphRenderer\"},{\"id\":\"6ae19911-6b69-4eee-9d01-3dbdebec6f77\",\"type\":\"GlyphRenderer\"}],\"title\":null,\"toolbar\":{\"id\":\"f088b510-18bd-4294-8d3d-9af1fcbd8308\",\"type\":\"Toolbar\"},\"x_range\":{\"id\":\"3f609a3b-8bfc-4be9-9db7-66658b206276\",\"type\":\"DataRange1d\"},\"x_scale\":{\"id\":\"4d6adc1c-bee1-4c02-91df-e21febf19627\",\"type\":\"LinearScale\"},\"y_range\":{\"id\":\"e1c2e16f-9e4a-4f75-9226-9535107babe3\",\"type\":\"DataRange1d\"},\"y_scale\":{\"id\":\"8ae6e6d5-8a66-4274-b4a9-98847a01f2d4\",\"type\":\"LinearScale\"}},\"id\":\"5806acf0-2435-4f56-a217-acf2fb802214\",\"subtype\":\"Figure\",\"type\":\"Plot\"},{\"attributes\":{\"callback\":null,\"data\":{\"x\":{\"__ndarray__\":\"xhhjjDHGyD/nnHPOOefMP++99957780/+N577733zj8AAAAAAADQPwghhBBCCNE/EUIIIYQQ0j8RQgghhBDSP5VSSimllNI/lVJKKaWU0j8ZY4wxxhjTPxljjDHGGNM/nXPOOeec0z8hhBBCCCHUPyGEEEIIIdQ/pZRSSiml1D8ppZRSSinVPymllFJKKdU/rbXWWmut1T8yxhhjjDHWPzLGGGOMMdY/MsYYY4wx1j+21lprrbXWP7bWWmuttdY/ttZaa6211j8655xzzjnXP7733nvvvdc/vvfee++91z++9957773XP0IIIYQQQtg/QgghhBBC2D9CCCGEEELYP8YYY4wxxtg/xhhjjDHG2D/GGGOMMcbYP0oppZRSStk/SimllFJK2T/OOeecc87ZP84555xzztk/U0oppZRS2j9TSimllFLaP1NKKaWUUto/11prrbXW2j/XWmuttdbaP1trrbXWWts/W2uttdZa2z/nnHPOOefcP+ecc84559w/55xzzjnn3D90zjnnnHPeP3TOOeecc94/dM4555xz3j/43nvvvffeP/jee++9994/+N5777333j/43nvvvffeP/jee++9994/fO+999573z9877333nvfP3zvvffee98/hBBCCCGE4D/GGGOMMcbgP8YYY4wxxuA/CCGEEEII4T8IIYQQQgjhPwghhBBCCOE/CCGEEEII4T8IIYQQQgjhPwghhBBCCOE/SimllFJK4T9KKaWUUkrhP84555xzzuE/EUIIIYQQ4j8RQgghhBDiP1NKKaWUUuI/U0oppZRS4j8ZY4wxxhjjPxljjDHGGOM/W2uttdZa4z9ba6211lrjP51zzjnnnOM/33vvvffe4z8hhBBCCCHkPyGEEEIIIeQ/IYQQQggh5D8hhBBCCCHkP+ecc8455+Q/55xzzjnn5D/nnHPOOefkP2uttdZaa+U/rbXWWmut5T90zjnnnHPmP7bWWmutteY/Ouecc8455z9877333nvnP7733nvvvec/vvfee++95z8AAAAAAADoP0IIIYQQQug/EUIIIYQQ6j8=\",\"dtype\":\"float64\",\"shape\":[100]},\"y\":{\"__ndarray__\":\"exSuR+F6hD97FK5H4XqUP7gehetRuJ4/exSuR+F6pD+amZmZmZmpP7gehetRuK4/7FG4HoXrsT97FK5H4Xq0PwrXo3A9Crc/mpmZmZmZuT8pXI/C9Si8P7gehetRuL4/pHA9CtejwD/sUbgehevBPzMzMzMzM8M/exSuR+F6xD/D9Shcj8LFPwrXo3A9Csc/UrgehetRyD+amZmZmZnJP+F6FK5H4co/KVyPwvUozD9xPQrXo3DNP7gehetRuM4/AAAAAAAA0D+kcD0K16PQP0jhehSuR9E/7FG4HoXr0T+PwvUoXI/SPzMzMzMzM9M/16NwPQrX0z97FK5H4XrUPx+F61G4HtU/w/UoXI/C1T9mZmZmZmbWPwrXo3A9Ctc/rkfhehSu1z9SuB6F61HYP/YoXI/C9dg/mpmZmZmZ2T89CtejcD3aP+F6FK5H4do/hetRuB6F2z8pXI/C9SjcP83MzMzMzNw/cT0K16Nw3T8UrkfhehTeP7gehetRuN4/XI/C9Shc3z8AAAAAAADgP1K4HoXrUeA/pHA9Ctej4D/2KFyPwvXgP0jhehSuR+E/mpmZmZmZ4T/sUbgehevhPz0K16NwPeI/j8L1KFyP4j/hehSuR+HiPzMzMzMzM+M/hetRuB6F4z/Xo3A9CtfjPylcj8L1KOQ/exSuR+F65D/NzMzMzMzkPx+F61G4HuU/cT0K16Nw5T/D9Shcj8LlPxSuR+F6FOY/ZmZmZmZm5j+4HoXrUbjmPwrXo3A9Cuc/XI/C9Shc5z+uR+F6FK7nPwAAAAAAAOg/UrgehetR6D+kcD0K16PoP/YoXI/C9eg/SOF6FK5H6T+amZmZmZnpP+xRuB6F6+k/PQrXo3A96j+PwvUoXI/qP+F6FK5H4eo/MzMzMzMz6z+F61G4HoXrP9ejcD0K1+s/KVyPwvUo7D97FK5H4XrsP83MzMzMzOw/H4XrUbge7T9xPQrXo3DtP8P1KFyPwu0/FK5H4XoU7j9mZmZmZmbuP7gehetRuO4/CtejcD0K7z9cj8L1KFzvP65H4XoUru8/AAAAAAAA8D8=\",\"dtype\":\"float64\",\"shape\":[100]}},\"selected\":{\"id\":\"1719c5e9-277f-4572-a98b-d7787aba0b53\",\"type\":\"Selection\"},\"selection_policy\":{\"id\":\"31943ea9-b561-4e03-8bb1-6865e33c862c\",\"type\":\"UnionRenderers\"}},\"id\":\"6ba5fc29-cb52-4154-ac8d-45396c046c1c\",\"type\":\"ColumnDataSource\"},{\"attributes\":{\"fill_color\":{\"value\":\"#1f77b4\"},\"line_alpha\":{\"value\":0},\"line_color\":{\"value\":\"#1f77b4\"},\"x\":{\"field\":\"x\"},\"y\":{\"field\":\"y\"}},\"id\":\"281a511b-15fb-431a-b214-7256aa8af038\",\"type\":\"Circle\"},{\"attributes\":{\"data_source\":{\"id\":\"bcef17ee-fea3-49bb-beb2-46e5a69f9f00\",\"type\":\"ColumnDataSource\"},\"glyph\":{\"id\":\"4e1995e8-bc4a-40d8-92b1-a9db17ed59be\",\"type\":\"Circle\"},\"hover_glyph\":null,\"muted_glyph\":null,\"nonselection_glyph\":{\"id\":\"22b4600e-c5be-4fbc-affd-b0e910f8a164\",\"type\":\"Circle\"},\"selection_glyph\":null,\"view\":{\"id\":\"92b08527-d79c-4683-be7b-8e44cda5a796\",\"type\":\"CDSView\"}},\"id\":\"74e4b2c6-dba6-4553-b1bf-f0b01a237848\",\"type\":\"GlyphRenderer\"},{\"attributes\":{\"callback\":null},\"id\":\"e1c2e16f-9e4a-4f75-9226-9535107babe3\",\"type\":\"DataRange1d\"},{\"attributes\":{\"fill_alpha\":{\"value\":0.1},\"fill_color\":{\"value\":\"#1f77b4\"},\"line_alpha\":{\"value\":0.1},\"line_color\":{\"value\":\"#1f77b4\"},\"x\":{\"field\":\"x\"},\"y\":{\"field\":\"y\"}},\"id\":\"650786b9-a89f-4444-a816-3b0b533ce002\",\"type\":\"Circle\"},{\"attributes\":{\"active_drag\":\"auto\",\"active_inspect\":\"auto\",\"active_multi\":null,\"active_scroll\":\"auto\",\"active_tap\":\"auto\",\"tools\":[{\"id\":\"33a29ff7-fb3b-41b0-8f84-d291a129570e\",\"type\":\"PanTool\"},{\"id\":\"6b669471-5037-4c95-8bf5-810cdda1dfdb\",\"type\":\"WheelZoomTool\"},{\"id\":\"ba2fc581-be9b-4d95-aa97-fe76144829f6\",\"type\":\"BoxZoomTool\"},{\"id\":\"47b2ef32-45d4-4fce-a7df-be17a96fdc8a\",\"type\":\"SaveTool\"},{\"id\":\"abbb597f-dbd5-42d9-b3e8-8ccfff21bd57\",\"type\":\"ResetTool\"},{\"id\":\"37611307-24d5-46a4-8080-e0e86fb51f61\",\"type\":\"HelpTool\"}]},\"id\":\"f088b510-18bd-4294-8d3d-9af1fcbd8308\",\"type\":\"Toolbar\"},{\"attributes\":{\"data_source\":{\"id\":\"6ba5fc29-cb52-4154-ac8d-45396c046c1c\",\"type\":\"ColumnDataSource\"},\"glyph\":{\"id\":\"281a511b-15fb-431a-b214-7256aa8af038\",\"type\":\"Circle\"},\"hover_glyph\":null,\"muted_glyph\":null,\"nonselection_glyph\":{\"id\":\"650786b9-a89f-4444-a816-3b0b533ce002\",\"type\":\"Circle\"},\"selection_glyph\":null,\"view\":{\"id\":\"6805a850-20f8-478e-a3b0-9baa76089381\",\"type\":\"CDSView\"}},\"id\":\"6ae19911-6b69-4eee-9d01-3dbdebec6f77\",\"type\":\"GlyphRenderer\"},{\"attributes\":{\"callback\":null},\"id\":\"3f609a3b-8bfc-4be9-9db7-66658b206276\",\"type\":\"DataRange1d\"},{\"attributes\":{\"source\":{\"id\":\"6ba5fc29-cb52-4154-ac8d-45396c046c1c\",\"type\":\"ColumnDataSource\"}},\"id\":\"6805a850-20f8-478e-a3b0-9baa76089381\",\"type\":\"CDSView\"},{\"attributes\":{},\"id\":\"4d6adc1c-bee1-4c02-91df-e21febf19627\",\"type\":\"LinearScale\"},{\"attributes\":{},\"id\":\"d818ad6d-d552-40aa-b588-c9f2b9fd3d5c\",\"type\":\"Selection\"},{\"attributes\":{},\"id\":\"8ae6e6d5-8a66-4274-b4a9-98847a01f2d4\",\"type\":\"LinearScale\"},{\"attributes\":{\"fill_color\":{\"value\":\"#f46d43\"},\"line_alpha\":{\"value\":0},\"line_color\":{\"value\":\"#f46d43\"},\"x\":{\"field\":\"x\"},\"y\":{\"field\":\"y\"}},\"id\":\"4e1995e8-bc4a-40d8-92b1-a9db17ed59be\",\"type\":\"Circle\"},{\"attributes\":{\"label\":{\"value\":\"AVA\"},\"renderers\":[{\"id\":\"6ae19911-6b69-4eee-9d01-3dbdebec6f77\",\"type\":\"GlyphRenderer\"}]},\"id\":\"42754ae9-db8e-46fa-a0ea-9635b5baaad0\",\"type\":\"LegendItem\"},{\"attributes\":{\"plot\":{\"id\":\"5806acf0-2435-4f56-a217-acf2fb802214\",\"subtype\":\"Figure\",\"type\":\"Plot\"},\"ticker\":{\"id\":\"4513880d-8371-4981-a84f-1918dd151c39\",\"type\":\"BasicTicker\"}},\"id\":\"64a8d5f6-52a5-4124-8704-36e7a47c6a68\",\"type\":\"Grid\"},{\"attributes\":{\"axis_label\":\"probability of reversal\",\"formatter\":{\"id\":\"4f80357e-0e3d-4c18-b8f6-1beefb982fa3\",\"type\":\"BasicTickFormatter\"},\"plot\":{\"id\":\"5806acf0-2435-4f56-a217-acf2fb802214\",\"subtype\":\"Figure\",\"type\":\"Plot\"},\"ticker\":{\"id\":\"4513880d-8371-4981-a84f-1918dd151c39\",\"type\":\"BasicTicker\"}},\"id\":\"bf440549-d641-4ed7-a3be-3618ec9d3266\",\"type\":\"LinearAxis\"},{\"attributes\":{},\"id\":\"1719c5e9-277f-4572-a98b-d7787aba0b53\",\"type\":\"Selection\"},{\"attributes\":{},\"id\":\"4513880d-8371-4981-a84f-1918dd151c39\",\"type\":\"BasicTicker\"},{\"attributes\":{},\"id\":\"31943ea9-b561-4e03-8bb1-6865e33c862c\",\"type\":\"UnionRenderers\"},{\"attributes\":{\"axis_label\":\"ECDF\",\"formatter\":{\"id\":\"4d4fe898-4b3e-4151-b9d3-1cd65dbad3e4\",\"type\":\"BasicTickFormatter\"},\"plot\":{\"id\":\"5806acf0-2435-4f56-a217-acf2fb802214\",\"subtype\":\"Figure\",\"type\":\"Plot\"},\"ticker\":{\"id\":\"f22ac7a6-3f6d-406a-81f0-4da8fbc51b33\",\"type\":\"BasicTicker\"}},\"id\":\"d270f22b-85c6-4bfd-ae7a-b4d88b8b3d19\",\"type\":\"LinearAxis\"},{\"attributes\":{},\"id\":\"f22ac7a6-3f6d-406a-81f0-4da8fbc51b33\",\"type\":\"BasicTicker\"},{\"attributes\":{\"dimension\":1,\"plot\":{\"id\":\"5806acf0-2435-4f56-a217-acf2fb802214\",\"subtype\":\"Figure\",\"type\":\"Plot\"},\"ticker\":{\"id\":\"f22ac7a6-3f6d-406a-81f0-4da8fbc51b33\",\"type\":\"BasicTicker\"}},\"id\":\"37b7716f-a80b-46f6-9f60-435d3a1b2ebf\",\"type\":\"Grid\"},{\"attributes\":{\"fill_alpha\":{\"value\":0.1},\"fill_color\":{\"value\":\"#1f77b4\"},\"line_alpha\":{\"value\":0.1},\"line_color\":{\"value\":\"#1f77b4\"},\"x\":{\"field\":\"x\"},\"y\":{\"field\":\"y\"}},\"id\":\"22b4600e-c5be-4fbc-affd-b0e910f8a164\",\"type\":\"Circle\"},{\"attributes\":{},\"id\":\"4f80357e-0e3d-4c18-b8f6-1beefb982fa3\",\"type\":\"BasicTickFormatter\"},{\"attributes\":{\"callback\":null,\"data\":{\"x\":{\"__ndarray__\":\"AAAAAAAAAAAAAAAAAAAAAAAAAAAAAAAAAAAAAAAAAAAAAAAAAAAAAAAAAAAAAAAAAAAAAAAAAAAQBEEQBEGAPxAEQRAEQYA/EARBEARBgD8QBEEQBEGQPxAEQRAEQZA/EARBEARBkD8QBEEQBEGQPxAEQRAEQZA/GIZhGIZhmD8YhmEYhmGYPxiGYRiGYZg/GIZhGIZhmD8QBEEQBEGgPxAEQRAEQaA/EARBEARBoD8QBEEQBEGgPxRFURRFUaQ/FEVRFEVRpD8URVEURVGkPxRFURRFUaQ/FEVRFEVRpD8YhmEYhmGoPxiGYRiGYag/GIZhGIZhqD8YhmEYhmGoPxiGYRiGYag/GIZhGIZhqD8YhmEYhmGoPxiGYRiGYag/HMdxHMdxrD8cx3Ecx3GsPxzHcRzHcaw/HMdxHMdxrD8cx3Ecx3GsPxzHcRzHcaw/HMdxHMdxrD8QBEEQBEGwPxAEQRAEQbA/EARBEARBsD8QBEEQBEGwP5IkSZIkSbI/kiRJkiRJsj+SJEmSJEmyP5IkSZIkSbI/FEVRFEVRtD8URVEURVG0PxRFURRFUbQ/FEVRFEVRtD8URVEURVG0P5ZlWZZlWbY/GIZhGIZhuD8YhmEYhmG4PxiGYRiGYbg/GIZhGIZhuD+apmmapmm6P5qmaZqmabo/mqZpmqZpuj+apmmapmm6P5qmaZqmabo/nud5nud5vj+e53me53m+PxAEQRAEQcA/EARBEARBwD8QBEEQBEHAP1EURVEURcE/URRFURRFwT/TNE3TNE3DP9M0TdM0TcM/0zRN0zRNwz8URVEURVHEPxRFURRFUcQ/VVVVVVVVxT+WZVmWZVnGP9d1Xdd1Xcc/WZZlWZZlyT9ZlmVZlmXJP5qmaZqmaco/27Zt27Ztyz/btm3btm3LP9u2bdu2bcs/HMdxHMdxzD+e53me53nOP9/3fd/3fc8/3/d93/d9zz8QBEEQBEHQPxAEQRAEQdA/MQzDMAzD0D+SJEmSJEnSP7Msy7Isy9I/NU3TNE3T1D/8vu/7vu/bP/y+7/u+79s/giAIgiAI4j8=\",\"dtype\":\"float64\",\"shape\":[100]},\"y\":{\"__ndarray__\":\"exSuR+F6hD97FK5H4XqUP7gehetRuJ4/exSuR+F6pD+amZmZmZmpP7gehetRuK4/7FG4HoXrsT97FK5H4Xq0PwrXo3A9Crc/mpmZmZmZuT8pXI/C9Si8P7gehetRuL4/pHA9CtejwD/sUbgehevBPzMzMzMzM8M/exSuR+F6xD/D9Shcj8LFPwrXo3A9Csc/UrgehetRyD+amZmZmZnJP+F6FK5H4co/KVyPwvUozD9xPQrXo3DNP7gehetRuM4/AAAAAAAA0D+kcD0K16PQP0jhehSuR9E/7FG4HoXr0T+PwvUoXI/SPzMzMzMzM9M/16NwPQrX0z97FK5H4XrUPx+F61G4HtU/w/UoXI/C1T9mZmZmZmbWPwrXo3A9Ctc/rkfhehSu1z9SuB6F61HYP/YoXI/C9dg/mpmZmZmZ2T89CtejcD3aP+F6FK5H4do/hetRuB6F2z8pXI/C9SjcP83MzMzMzNw/cT0K16Nw3T8UrkfhehTeP7gehetRuN4/XI/C9Shc3z8AAAAAAADgP1K4HoXrUeA/pHA9Ctej4D/2KFyPwvXgP0jhehSuR+E/mpmZmZmZ4T/sUbgehevhPz0K16NwPeI/j8L1KFyP4j/hehSuR+HiPzMzMzMzM+M/hetRuB6F4z/Xo3A9CtfjPylcj8L1KOQ/exSuR+F65D/NzMzMzMzkPx+F61G4HuU/cT0K16Nw5T/D9Shcj8LlPxSuR+F6FOY/ZmZmZmZm5j+4HoXrUbjmPwrXo3A9Cuc/XI/C9Shc5z+uR+F6FK7nPwAAAAAAAOg/UrgehetR6D+kcD0K16PoP/YoXI/C9eg/SOF6FK5H6T+amZmZmZnpP+xRuB6F6+k/PQrXo3A96j+PwvUoXI/qP+F6FK5H4eo/MzMzMzMz6z+F61G4HoXrP9ejcD0K1+s/KVyPwvUo7D97FK5H4XrsP83MzMzMzOw/H4XrUbge7T9xPQrXo3DtP8P1KFyPwu0/FK5H4XoU7j9mZmZmZmbuP7gehetRuO4/CtejcD0K7z9cj8L1KFzvP65H4XoUru8/AAAAAAAA8D8=\",\"dtype\":\"float64\",\"shape\":[100]}},\"selected\":{\"id\":\"fae9cf29-4318-40fb-aa70-89459bd2760c\",\"type\":\"Selection\"},\"selection_policy\":{\"id\":\"dbfa3878-cfcc-4ccc-9610-00ed121c0f28\",\"type\":\"UnionRenderers\"}},\"id\":\"bcef17ee-fea3-49bb-beb2-46e5a69f9f00\",\"type\":\"ColumnDataSource\"},{\"attributes\":{\"bottom_units\":\"screen\",\"fill_alpha\":{\"value\":0.5},\"fill_color\":{\"value\":\"lightgrey\"},\"left_units\":\"screen\",\"level\":\"overlay\",\"line_alpha\":{\"value\":1.0},\"line_color\":{\"value\":\"black\"},\"line_dash\":[4,4],\"line_width\":{\"value\":2},\"plot\":null,\"render_mode\":\"css\",\"right_units\":\"screen\",\"top_units\":\"screen\"},\"id\":\"28d87f39-0601-434d-8088-03ed9523e8bf\",\"type\":\"BoxAnnotation\"},{\"attributes\":{},\"id\":\"33a29ff7-fb3b-41b0-8f84-d291a129570e\",\"type\":\"PanTool\"},{\"attributes\":{\"source\":{\"id\":\"bcef17ee-fea3-49bb-beb2-46e5a69f9f00\",\"type\":\"ColumnDataSource\"}},\"id\":\"92b08527-d79c-4683-be7b-8e44cda5a796\",\"type\":\"CDSView\"},{\"attributes\":{},\"id\":\"6b669471-5037-4c95-8bf5-810cdda1dfdb\",\"type\":\"WheelZoomTool\"},{\"attributes\":{\"overlay\":{\"id\":\"28d87f39-0601-434d-8088-03ed9523e8bf\",\"type\":\"BoxAnnotation\"}},\"id\":\"ba2fc581-be9b-4d95-aa97-fe76144829f6\",\"type\":\"BoxZoomTool\"}],\"root_ids\":[\"5806acf0-2435-4f56-a217-acf2fb802214\"]},\"title\":\"Bokeh Application\",\"version\":\"0.13.0\"}};\n",
       "  var render_items = [{\"docid\":\"1b79c1a6-01d8-47bb-b780-41247fc33f8e\",\"roots\":{\"5806acf0-2435-4f56-a217-acf2fb802214\":\"9ded3e04-9b9f-4eda-b927-c3131214eb61\"}}];\n",
       "  root.Bokeh.embed.embed_items_notebook(docs_json, render_items);\n",
       "\n",
       "  }\n",
       "  if (root.Bokeh !== undefined) {\n",
       "    embed_document(root);\n",
       "  } else {\n",
       "    var attempts = 0;\n",
       "    var timer = setInterval(function(root) {\n",
       "      if (root.Bokeh !== undefined) {\n",
       "        embed_document(root);\n",
       "        clearInterval(timer);\n",
       "      }\n",
       "      attempts++;\n",
       "      if (attempts > 100) {\n",
       "        console.log(\"Bokeh: ERROR: Unable to run BokehJS code because BokehJS library is missing\")\n",
       "        clearInterval(timer);\n",
       "      }\n",
       "    }, 10, root)\n",
       "  }\n",
       "})(window);"
      ],
      "application/vnd.bokehjs_exec.v0+json": ""
     },
     "metadata": {
      "application/vnd.bokehjs_exec.v0+json": {
       "id": "5806acf0-2435-4f56-a217-acf2fb802214"
      }
     },
     "output_type": "display_data"
    }
   ],
   "source": [
    "n_ppc_samples = 1000\n",
    "\n",
    "for i in range(3):\n",
    "    # Draw parameters out of the prior\n",
    "    theta = np.random.beta(a_array[i], b_array[i], size=100)\n",
    "    # Draw data sets out of the likelihood for theta we drew out of the prior\n",
    "    n = [np.random.binomial(N_array[i], t)/N_array[i] for t in theta]\n",
    "    \n",
    "    # graph all three \n",
    "    if i == 0:\n",
    "        prior = bebi103.viz.ecdf(n, \n",
    "                             x_axis_label='probability of reversal',\n",
    "                             color = \"#f46d43\",\n",
    "                             legend= \"WT\",\n",
    "                             alpha=1, \n",
    "                             line_alpha=0)\n",
    "    elif i == 1:\n",
    "        prior = bebi103.viz.ecdf(n, \n",
    "                             x_axis_label='probability of reversal',\n",
    "                             p = prior,\n",
    "                             color = \"#249d43\", \n",
    "                             legend= \"ASH\",\n",
    "                             alpha=1,\n",
    "                             line_alpha=0)\n",
    "    else:\n",
    "        prior = bebi103.viz.ecdf(n, \n",
    "                             x_axis_label='probability of reversal',\n",
    "                             p = prior,\n",
    "                             legend= \"AVA\",\n",
    "                             alpha=1,\n",
    "                             line_alpha=0)\n",
    "bokeh.io.show(prior)"
   ]
  },
  {
   "cell_type": "markdown",
   "metadata": {},
   "source": [
    "This looks how we expected, with the WT having very low probabilities of reversal, the ASH having higher probabilities, and the AVA being about twice as likely as the ASH to reverse, so we can now move on to our analysis!"
   ]
  },
  {
   "cell_type": "markdown",
   "metadata": {},
   "source": [
    "**B) Plot the posterior probability density function for each of the three strains. What can you conclude from this?**"
   ]
  },
  {
   "cell_type": "code",
   "execution_count": 63,
   "metadata": {},
   "outputs": [],
   "source": [
    "# we will sample values for 200 thetas from 0.01 to 0.99\n",
    "theta_array = np.linspace(0.01, 0.99, num=200)\n",
    "\n",
    "output = [] # will contain three arrays, sampled from the three strands\n",
    "\n",
    "for i in range(3):\n",
    "    pp = []\n",
    "\n",
    "    for t in theta_array:\n",
    "        # Prior on each theta\n",
    "        log_prior = st.beta.logpdf(t, a_array[i], b_array[i])\n",
    "\n",
    "        # The log_likelihood is just the binomial distribution\n",
    "        log_like = np.sum(st.binom.logpmf(n_array[i], N_array[i], t))\n",
    "\n",
    "        pp.append(log_prior + log_like)\n",
    "    \n",
    "    # append the posterior data points array for one stand to the output array\n",
    "    output.append(pp)  # need to exp becuase you don't want to plot the log"
   ]
  },
  {
   "cell_type": "markdown",
   "metadata": {},
   "source": [
    "We can compute the normalization constant (conceptually, the area under the curve of our line). Since we want to plot the probability density, we want the area under the curve to be equal to 1, so we divide our trial values by the normalization constant."
   ]
  },
  {
   "cell_type": "code",
   "execution_count": 64,
   "metadata": {},
   "outputs": [],
   "source": [
    "# function that takes in the raw log_prior + log_like data and \n",
    "# normalizes it using a marginalization constant.\n",
    "def normalize(data):\n",
    "    trial = np.exp((data - np.array(data).max()))\n",
    "    \n",
    "    # Compute marginalized posterior\n",
    "    norm_constant = np.trapz(trial, x=theta_array)\n",
    "    # Normalize raw data\n",
    "    trial_norm = trial / norm_constant\n",
    "    return trial_norm"
   ]
  },
  {
   "cell_type": "code",
   "execution_count": 65,
   "metadata": {},
   "outputs": [],
   "source": [
    "# call the above function for each strand to get the normalized output\n",
    "trial_wt_norm = normalize(output[0])\n",
    "trial_ash_norm = normalize(output[1])\n",
    "trial_ava_norm = normalize(output[2])"
   ]
  },
  {
   "cell_type": "markdown",
   "metadata": {},
   "source": [
    "We can now plot our completed posterior probability density functions for each strain."
   ]
  },
  {
   "cell_type": "code",
   "execution_count": 66,
   "metadata": {},
   "outputs": [
    {
     "data": {
      "text/html": [
       "\n",
       "\n",
       "\n",
       "\n",
       "\n",
       "\n",
       "  <div class=\"bk-root\" id=\"7093577c-f06a-4bbb-9551-e986eaa530b9\"></div>\n"
      ]
     },
     "metadata": {},
     "output_type": "display_data"
    },
    {
     "data": {
      "application/javascript": [
       "(function(root) {\n",
       "  function embed_document(root) {\n",
       "    \n",
       "  var docs_json = {\"f3840d58-6451-4202-918c-d741b97cd6f1\":{\"roots\":{\"references\":[{\"attributes\":{\"label\":{\"value\":\"ASH\"},\"renderers\":[{\"id\":\"ec4fec2d-9836-4e06-b564-9bbfab4b243c\",\"type\":\"GlyphRenderer\"}]},\"id\":\"2f700f5f-6e0b-4357-bcd9-54b750eab248\",\"type\":\"LegendItem\"},{\"attributes\":{\"plot\":{\"id\":\"26de8e1a-dd81-4e6e-b241-18c7824ed7cb\",\"subtype\":\"Figure\",\"type\":\"Plot\"},\"ticker\":{\"id\":\"ddd9d962-c283-4729-b2f8-7f185141382d\",\"type\":\"BasicTicker\"}},\"id\":\"493a9129-4f7c-4482-8080-774abff794af\",\"type\":\"Grid\"},{\"attributes\":{},\"id\":\"c0911fa8-c30e-4e99-88e0-b7f999eeb08c\",\"type\":\"Selection\"},{\"attributes\":{\"callback\":null},\"id\":\"674d2935-16d2-4e12-86de-ddf666d145ef\",\"type\":\"DataRange1d\"},{\"attributes\":{},\"id\":\"cba80bc7-cdcb-4d30-b5a5-8f22e528b01d\",\"type\":\"BasicTickFormatter\"},{\"attributes\":{\"data_source\":{\"id\":\"384c4cc8-e419-4ed6-b92c-759dd3d5ba73\",\"type\":\"ColumnDataSource\"},\"glyph\":{\"id\":\"41308503-fe08-45b6-8553-d949618d6613\",\"type\":\"Line\"},\"hover_glyph\":null,\"muted_glyph\":null,\"nonselection_glyph\":{\"id\":\"13612867-dcb7-431e-95e3-cb58827049d4\",\"type\":\"Line\"},\"selection_glyph\":null,\"view\":{\"id\":\"a120b65c-56bf-4410-ab41-b5c86007578f\",\"type\":\"CDSView\"}},\"id\":\"ec4fec2d-9836-4e06-b564-9bbfab4b243c\",\"type\":\"GlyphRenderer\"},{\"attributes\":{\"active_drag\":\"auto\",\"active_inspect\":\"auto\",\"active_multi\":null,\"active_scroll\":\"auto\",\"active_tap\":\"auto\",\"tools\":[{\"id\":\"cc1cf57a-7843-45d2-9acb-fc759fc26217\",\"type\":\"PanTool\"},{\"id\":\"bf5412d9-1e4f-4b80-8428-c3d93e5b271b\",\"type\":\"WheelZoomTool\"},{\"id\":\"d7c601ac-235a-4f59-850c-44a0ed4bdfcc\",\"type\":\"BoxZoomTool\"},{\"id\":\"9ab50e17-c06a-45f0-9ce4-770565be8b47\",\"type\":\"SaveTool\"},{\"id\":\"3e077074-01cc-4bb1-a359-93db58a8982c\",\"type\":\"ResetTool\"},{\"id\":\"66ab4a43-58f1-49be-88e5-382a7b98777a\",\"type\":\"HelpTool\"}]},\"id\":\"d22cd308-be9c-4fdb-9ab9-8a611795b488\",\"type\":\"Toolbar\"},{\"attributes\":{\"line_color\":\"#1f77b4\",\"line_width\":2,\"x\":{\"field\":\"x\"},\"y\":{\"field\":\"y\"}},\"id\":\"4f6f20d3-99a5-4e99-9e9a-8c4074451686\",\"type\":\"Line\"},{\"attributes\":{\"below\":[{\"id\":\"b56e3a2e-8e1e-49da-ae37-483147f924ac\",\"type\":\"LinearAxis\"}],\"left\":[{\"id\":\"9e24f9c5-7234-4092-8303-5279b9668d43\",\"type\":\"LinearAxis\"}],\"plot_height\":400,\"renderers\":[{\"id\":\"b56e3a2e-8e1e-49da-ae37-483147f924ac\",\"type\":\"LinearAxis\"},{\"id\":\"493a9129-4f7c-4482-8080-774abff794af\",\"type\":\"Grid\"},{\"id\":\"9e24f9c5-7234-4092-8303-5279b9668d43\",\"type\":\"LinearAxis\"},{\"id\":\"dc3eb9f5-b139-4426-80fe-febd2ab5d2a8\",\"type\":\"Grid\"},{\"id\":\"2cef3cef-999f-4dd7-b539-47123948d98c\",\"type\":\"BoxAnnotation\"},{\"id\":\"9f82f5ac-e0b1-45e1-91fd-b5bf99f5ae48\",\"type\":\"Legend\"},{\"id\":\"2375864e-f2fc-454d-85f5-ed0357e8676d\",\"type\":\"GlyphRenderer\"},{\"id\":\"ec4fec2d-9836-4e06-b564-9bbfab4b243c\",\"type\":\"GlyphRenderer\"},{\"id\":\"336cb53b-ae4a-423e-a993-bdbce428e3f4\",\"type\":\"GlyphRenderer\"}],\"title\":{\"id\":\"382bd831-c1ae-42d3-a667-139f04ed6bcf\",\"type\":\"Title\"},\"toolbar\":{\"id\":\"d22cd308-be9c-4fdb-9ab9-8a611795b488\",\"type\":\"Toolbar\"},\"x_range\":{\"id\":\"674d2935-16d2-4e12-86de-ddf666d145ef\",\"type\":\"DataRange1d\"},\"x_scale\":{\"id\":\"37c57f3a-6b42-495f-a5c2-0ea60bba99d0\",\"type\":\"LinearScale\"},\"y_range\":{\"id\":\"ee7daa2b-8f83-435c-ab51-142c013afc12\",\"type\":\"DataRange1d\"},\"y_scale\":{\"id\":\"3c53ec73-c0bc-44a2-9935-8ffe2428ff26\",\"type\":\"LinearScale\"}},\"id\":\"26de8e1a-dd81-4e6e-b241-18c7824ed7cb\",\"subtype\":\"Figure\",\"type\":\"Plot\"},{\"attributes\":{\"callback\":null,\"data\":{\"x\":{\"__ndarray__\":\"exSuR+F6hD/WBH4BzZCOP5n6pl1cU5Q/xvKOOlJemT/06nYXSGmeP5FxL/oeuqE/qG2j6Jk/pD+/aRfXFMWmP9Zli8WPSqk/7WH/swrQqz8EXnOihVWuPw2tc0iAbbA/GKutvz2wsT8kqec2+/KyPy+nIa64NbQ/O6VbJXZ4tT9Go5WcM7u2P1GhzxPx/bc/XZ8Ji65AuT9onUMCbIO6P3SbfXkpxrs/f5m38OYIvT+Ll/FnpEu+P5aVK99hjr8/0ckyq49owD/XyM9m7gnBP93HbCJNq8E/4sYJ3qtMwj/oxaaZCu7CP+7EQ1Vpj8M/9MPgEMgwxD/5wn3MJtLEP//BGoiFc8U/BcG3Q+QUxj8KwFT/QrbGPxC/8bqhV8c/Fr6OdgD5xz8cvSsyX5rIPyG8yO29O8k/J7tlqRzdyT8tugJle37KPzK5nyDaH8s/OLg83DjByz8+t9mXl2LMP0S2dlP2A80/SbUTD1WlzT9PtLDKs0bOP1WzTYYS6M4/WrLqQXGJzz+w2MP+ZxXQPzNYklwXZtA/ttdgusa20D85Vy8YdgfRP7zW/XUlWNE/PlbM09So0T/B1ZoxhPnRP0RVaY8zStI/x9Q37eKa0j9KVAZLkuvSP83T1KhBPNM/UFOjBvGM0z/S0nFkoN3TP1VSQMJPLtQ/2NEOIP9+1D9bUd19rs/UP97Qq9tdINU/YVB6OQ1x1T/kz0iXvMHVP2ZPF/VrEtY/6c7lUhtj1j9sTrSwyrPWP+/Ngg56BNc/ck1RbClV1z/1zB/K2KXXP3hM7ieI9tc/+su8hTdH2D99S4vj5pfYPwDLWUGW6Ng/g0oon0U52T8Gyvb89InZP4lJxVqk2tk/DMmTuFMr2j+OSGIWA3zaPxHIMHSyzNo/lEf/0WEd2z8Xx80vEW7bP5pGnI3Avts/HcZq628P3D+gRTlJH2DcPyLFB6fOsNw/pUTWBH4B3T8oxKRiLVLdP6tDc8Dcot0/LsNBHozz3T+xQhB8O0TePzTC3tnqlN4/tkGtN5rl3j85wXuVSTbfP7xASvP4ht8/P8AYUajX3z/hn3PXKxTgP6LfWoaDPOA/ZB9CNdtk4D8lXynkMo3gP+eeEJOKteA/qN73QeLd4D9qHt/wOQbhPytexp+RLuE/7J2tTulW4T+u3ZT9QH/hP28dfKyYp+E/MV1jW/DP4T/ynEoKSPjhP7TcMbmfIOI/dRwZaPdI4j82XAAXT3HiP/ib58WmmeI/udvOdP7B4j97G7YjVuriPzxbndKtEuM//pqEgQU74z+/2mswXWPjP4AaU9+0i+M/Qlo6jgy04z8DmiE9ZNzjP8XZCOy7BOQ/hhnwmhMt5D9IWddJa1XkPwmZvvjCfeQ/ytilpxqm5D+MGI1Wcs7kP01YdAXK9uQ/D5hbtCEf5T/Q10JjeUflP5IXKhLRb+U/U1cRwSiY5T8Ul/hvgMDlP9bW3x7Y6OU/lxbHzS8R5j9ZVq58hznmPxqWlSvfYeY/3NV82jaK5j+dFWSJjrLmP15VSzjm2uY/IJUy5z0D5z/h1BmWlSvnP6MUAUXtU+c/ZFTo80R85z8mlM+inKTnP+fTtlH0zOc/qBOeAEz15z9qU4Wvox3oPyuTbF77Reg/7dJTDVNu6D+uEju8qpboP3BSImsCv+g/MZIJGlrn6D/y0fDIsQ/pP7QR2HcJOOk/dVG/JmFg6T83kabVuIjpP/jQjYQQsek/uhB1M2jZ6T97UFzivwHqPzyQQ5EXKuo//s8qQG9S6j+/DxLvxnrqP4FP+Z0eo+o/Qo/gTHbL6j8Ez8f7zfPqP8UOr6olHOs/hk6WWX1E6z9Ijn0I1WzrPwnOZLcsles/yw1MZoS96z+MTTMV3OXrP06NGsQzDuw/D80Bc4s27D/QDOkh417sP5JM0NA6h+w/U4y3f5Kv7D8VzJ4u6tfsP9YLht1BAO0/mEttjJko7T9Zi1Q78VDtPxrLO+pIee0/3AojmaCh7T+dSgpI+MntP1+K8fZP8u0/IMrYpaca7j/iCcBU/0LuP6NJpwNXa+4/ZImOsq6T7j8myXVhBrzuP+cIXRBe5O4/qUhEv7UM7z9qiCtuDTXvPyzIEh1lXe8/7Qf6y7yF7z+uR+F6FK7vPw==\",\"dtype\":\"float64\",\"shape\":[200]},\"y\":{\"__ndarray__\":\"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\",\"dtype\":\"float64\",\"shape\":[200]}},\"selected\":{\"id\":\"c0911fa8-c30e-4e99-88e0-b7f999eeb08c\",\"type\":\"Selection\"},\"selection_policy\":{\"id\":\"2c51a6da-096f-4bdc-9247-d2e3c55673b4\",\"type\":\"UnionRenderers\"}},\"id\":\"57fa5697-5f06-4615-8182-1b4da0d36e7d\",\"type\":\"ColumnDataSource\"},{\"attributes\":{\"line_alpha\":0.1,\"line_color\":\"#1f77b4\",\"line_width\":2,\"x\":{\"field\":\"x\"},\"y\":{\"field\":\"y\"}},\"id\":\"be9d29b8-d360-432c-9bbf-d46eb9609d5e\",\"type\":\"Line\"},{\"attributes\":{\"callback\":null,\"data\":{\"x\":{\"__ndarray__\":\"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\",\"dtype\":\"float64\",\"shape\":[200]},\"y\":{\"__ndarray__\":\"wW4J31QwtzZLEZbApr4fOKeSbTH8lhs5LoypjuEm3jmE8NfuOjd6OjC3lgnF0f06U29Ui2rhbTsj2wu+NPnPOykuXw311SQ8GIADo6wqcjz1iuTlYLe2PIXvLmThePU81q+4Nz74Lz2JaVLnLV1jPaBX97THl5M9j1r62O3qwD3amQPCBGHpPXANHE3OyBA+gT8dh6rSMz7JJzIGRSFVPrJ0K/NehHQ+BNrjBCNLkj43SKtNSyquPlrwnS+UI8c+YIp47Fya4D5+D52z+mT2PgTi3ywRgww/FvSYbZ0yIT+kYZO+kbkzP/ludDlgk0U/6aD2reKRVj+fQo7d16JmP0jbYrnt0HU/WdD3q0M/hD9Q5/L6KiGSPz/uTXUBYZ8/oUeHCqVJqj8K8+BooFm1P3gpyqRZ1cA/TZjhvCXNyT8tLErBBD7TP/iSQ7jK9ds/8aNCdiDP4z9iyZf8fWXrP4Zx/f7cgfI/OOxe809y+D97GcxGOJj/P0/ZFH9R/QNAyH1yphPICEBoM5QkMR4OQMP/TWKu8xFALo90Ca0AFUDi0vGyhCAYQA6Ex+0nOhtAMTkTOV8yHkCjkMwOsXYgQEBMQHtJqCFAkO6d1BqiIkBcdyOsfFojQF++gMyYyiNAszZOHdLuI0AVO/8D7sYjQObkwsv+VSNAcQPYyBOiIkDaFjYxubMhQAyQ9HRVlSBAlUJA1eekHkDV/D+uGe4bQGqgp8ayHRlAc/fZn35JFkCiqShHuYQTQIyaLVRv3xBAtqMDdU/MDEAzQ9xmpEMIQDmIpk/gLwRAxI7W5NWVAEAdZNQrJOr6Pyu7AdXPkfU/ipefSwkT8T+J9GlZ3rPqP/UyG8l5oOQ/rLo7i2V73z+TfdRvS7zXP7rTEpwcrtE/8ttoZvUFyj+dq9fiIOzCP41Zf6JVMLs/c4xBmKtMsz+98rc4HRKrPxoeCbsQwqI/2srOchGvmT+fDxupL1+RP1fbXONPN4c/D9m7+pymfj9h3IOqxPxzP669e8rRv2k/p5xDgvVhYD/j7aOA35ZUP7Qr2QYbjkk/tPNAIoBSPz9mAZ2uN/QyP0FoQiv6pSY/ad4g94e3Gj8iNngoLRwPP16i5f2L4AE/eenwj6ZG9D6ic1TkBrHmPiDS6PXdDdk+RThNPZ9Jyz4KMYdW7U+9PhI4ZeK0DK8+38++a7E2oD7Fvw4bD7GQPmRYC/d074A+kCtitknucD6yfRaOqqxgPgFIlQeNLFA+BM5OqljlPj5K70dhhAwtPrlaFV8h4Ro+R368wY54CD4dIQGno+n1PQ2sc5U/S+M9WRJaP++y0D0tjBtchme8PYtwzT/euqc93EWtm393kz38MdDqqll/PTQ4dQzIxGg9srEphTgxUz1+E7UdUSg9PaPQcQvjsyU9mEibZmOkDz3nPBuuhJT2PFrsQEqyh988G1zbEpSGxTzXSUdSE7msPKul1vlKt5I8YBiGfVjOdzzRECpvx4hdPMoSnzYz20E81JRJSlQHJTwBgqA6jxkIPHSbbZwQ2+o7Hrr9X8sSzTulq1IJYYyuOxe7n96PH487l2M9PdC2bjsBFNYyuVNNO+WJoHENECs7SaANjPAaCDu9JMwgmLLkOr1sQs+dG8E6eqTlqk8vmzouPUGKgbp0OnEFJ3x3SU46L25N5mkpJTqmORbLfjr8OdsbL+uD79E5HoTTqxWqpTn3S4fr29B4Od2evOB640o5V1+CpPN7Gzm3puRDlGzqOLalapz80bc44UeXn4oQhDhEytTryXdPOFwfHF8V4RY4PIf9Xw223jf6cGkjhO+iNwzL37+YVmU3SKPJo8XYJTeExLx/QTHkNuOctU7cuqA2MnQXNRGoWDY8X5JkBQUQNs4SLVzbLMI1UtezmQHPcTU/NQIv/sQdNdP74jsM7sQ0VfJIdTNdaDSsti5Z5g0HNMdR3KnMXKEzbW1Ww2pPNDMn+aBy2e3BMvwCgL0zF0cyrgXnG/PUxDH7jOyQIRM5MRXlyuxy96IwcBBafF++ADBJZpgNG21PL07NQSbpzYsuVJoWapbNsy0UbIXleFbCLOENkQbEXbAr5KWx6JMsciq0clOS0IL5KCZslr3lMi0n/89KHaBd2iRRKujYma2VIQ==\",\"dtype\":\"float64\",\"shape\":[200]}},\"selected\":{\"id\":\"a53c8306-f6f1-4cc0-aae9-1362b89c6fda\",\"type\":\"Selection\"},\"selection_policy\":{\"id\":\"3c48f795-c47b-467e-8c55-397d44110675\",\"type\":\"UnionRenderers\"}},\"id\":\"384c4cc8-e419-4ed6-b92c-759dd3d5ba73\",\"type\":\"ColumnDataSource\"},{\"attributes\":{\"data_source\":{\"id\":\"57fa5697-5f06-4615-8182-1b4da0d36e7d\",\"type\":\"ColumnDataSource\"},\"glyph\":{\"id\":\"4f6f20d3-99a5-4e99-9e9a-8c4074451686\",\"type\":\"Line\"},\"hover_glyph\":null,\"muted_glyph\":null,\"nonselection_glyph\":{\"id\":\"be9d29b8-d360-432c-9bbf-d46eb9609d5e\",\"type\":\"Line\"},\"selection_glyph\":null,\"view\":{\"id\":\"b6113300-2b50-40c7-87b1-068810351ba1\",\"type\":\"CDSView\"}},\"id\":\"336cb53b-ae4a-423e-a993-bdbce428e3f4\",\"type\":\"GlyphRenderer\"},{\"attributes\":{},\"id\":\"3c53ec73-c0bc-44a2-9935-8ffe2428ff26\",\"type\":\"LinearScale\"},{\"attributes\":{\"source\":{\"id\":\"57fa5697-5f06-4615-8182-1b4da0d36e7d\",\"type\":\"ColumnDataSource\"}},\"id\":\"b6113300-2b50-40c7-87b1-068810351ba1\",\"type\":\"CDSView\"},{\"attributes\":{\"line_alpha\":0.1,\"line_color\":\"#1f77b4\",\"line_width\":2,\"x\":{\"field\":\"x\"},\"y\":{\"field\":\"y\"}},\"id\":\"ec789ed8-79ef-4527-9cb9-b20793b53f8e\",\"type\":\"Line\"},{\"attributes\":{},\"id\":\"a53c8306-f6f1-4cc0-aae9-1362b89c6fda\",\"type\":\"Selection\"},{\"attributes\":{},\"id\":\"37c57f3a-6b42-495f-a5c2-0ea60bba99d0\",\"type\":\"LinearScale\"},{\"attributes\":{\"bottom_units\":\"screen\",\"fill_alpha\":{\"value\":0.5},\"fill_color\":{\"value\":\"lightgrey\"},\"left_units\":\"screen\",\"level\":\"overlay\",\"line_alpha\":{\"value\":1.0},\"line_color\":{\"value\":\"black\"},\"line_dash\":[4,4],\"line_width\":{\"value\":2},\"plot\":null,\"render_mode\":\"css\",\"right_units\":\"screen\",\"top_units\":\"screen\"},\"id\":\"2cef3cef-999f-4dd7-b539-47123948d98c\",\"type\":\"BoxAnnotation\"},{\"attributes\":{},\"id\":\"3c48f795-c47b-467e-8c55-397d44110675\",\"type\":\"UnionRenderers\"},{\"attributes\":{},\"id\":\"3e077074-01cc-4bb1-a359-93db58a8982c\",\"type\":\"ResetTool\"},{\"attributes\":{},\"id\":\"2c51a6da-096f-4bdc-9247-d2e3c55673b4\",\"type\":\"UnionRenderers\"},{\"attributes\":{\"overlay\":{\"id\":\"2cef3cef-999f-4dd7-b539-47123948d98c\",\"type\":\"BoxAnnotation\"}},\"id\":\"d7c601ac-235a-4f59-850c-44a0ed4bdfcc\",\"type\":\"BoxZoomTool\"},{\"attributes\":{},\"id\":\"9ab50e17-c06a-45f0-9ce4-770565be8b47\",\"type\":\"SaveTool\"},{\"attributes\":{\"label\":{\"value\":\"AVA\"},\"renderers\":[{\"id\":\"336cb53b-ae4a-423e-a993-bdbce428e3f4\",\"type\":\"GlyphRenderer\"}]},\"id\":\"94b7eb7d-7a66-4c65-98f0-32b2c76271b9\",\"type\":\"LegendItem\"},{\"attributes\":{\"line_color\":\"#249d43\",\"line_width\":2,\"x\":{\"field\":\"x\"},\"y\":{\"field\":\"y\"}},\"id\":\"41308503-fe08-45b6-8553-d949618d6613\",\"type\":\"Line\"},{\"attributes\":{\"line_color\":\"#f46d43\",\"line_width\":2,\"x\":{\"field\":\"x\"},\"y\":{\"field\":\"y\"}},\"id\":\"fead2e44-5511-4e8f-9fd8-2d7cbe623908\",\"type\":\"Line\"},{\"attributes\":{\"line_alpha\":0.1,\"line_color\":\"#1f77b4\",\"line_width\":2,\"x\":{\"field\":\"x\"},\"y\":{\"field\":\"y\"}},\"id\":\"13612867-dcb7-431e-95e3-cb58827049d4\",\"type\":\"Line\"},{\"attributes\":{\"items\":[{\"id\":\"81509d9e-d1f0-46ad-964c-ccf36862f9d5\",\"type\":\"LegendItem\"},{\"id\":\"2f700f5f-6e0b-4357-bcd9-54b750eab248\",\"type\":\"LegendItem\"},{\"id\":\"94b7eb7d-7a66-4c65-98f0-32b2c76271b9\",\"type\":\"LegendItem\"}],\"plot\":{\"id\":\"26de8e1a-dd81-4e6e-b241-18c7824ed7cb\",\"subtype\":\"Figure\",\"type\":\"Plot\"}},\"id\":\"9f82f5ac-e0b1-45e1-91fd-b5bf99f5ae48\",\"type\":\"Legend\"},{\"attributes\":{\"data_source\":{\"id\":\"5df8beec-d19c-4d6b-abd8-e0d17f797921\",\"type\":\"ColumnDataSource\"},\"glyph\":{\"id\":\"fead2e44-5511-4e8f-9fd8-2d7cbe623908\",\"type\":\"Line\"},\"hover_glyph\":null,\"muted_glyph\":null,\"nonselection_glyph\":{\"id\":\"ec789ed8-79ef-4527-9cb9-b20793b53f8e\",\"type\":\"Line\"},\"selection_glyph\":null,\"view\":{\"id\":\"d3a25bb2-ce12-4c1f-8392-08fe8616a548\",\"type\":\"CDSView\"}},\"id\":\"2375864e-f2fc-454d-85f5-ed0357e8676d\",\"type\":\"GlyphRenderer\"},{\"attributes\":{\"source\":{\"id\":\"5df8beec-d19c-4d6b-abd8-e0d17f797921\",\"type\":\"ColumnDataSource\"}},\"id\":\"d3a25bb2-ce12-4c1f-8392-08fe8616a548\",\"type\":\"CDSView\"},{\"attributes\":{},\"id\":\"ddd9d962-c283-4729-b2f8-7f185141382d\",\"type\":\"BasicTicker\"},{\"attributes\":{\"plot\":null,\"text\":\"\"},\"id\":\"382bd831-c1ae-42d3-a667-139f04ed6bcf\",\"type\":\"Title\"},{\"attributes\":{\"axis_label\":\"p(theta)\",\"formatter\":{\"id\":\"e66db70d-fe7b-4005-a67b-0c0ca040f8a8\",\"type\":\"BasicTickFormatter\"},\"plot\":{\"id\":\"26de8e1a-dd81-4e6e-b241-18c7824ed7cb\",\"subtype\":\"Figure\",\"type\":\"Plot\"},\"ticker\":{\"id\":\"8a3f617e-d6e4-4d2c-9034-c172f7e62b2a\",\"type\":\"BasicTicker\"}},\"id\":\"9e24f9c5-7234-4092-8303-5279b9668d43\",\"type\":\"LinearAxis\"},{\"attributes\":{},\"id\":\"cc1cf57a-7843-45d2-9acb-fc759fc26217\",\"type\":\"PanTool\"},{\"attributes\":{\"label\":{\"value\":\"WT\"},\"renderers\":[{\"id\":\"2375864e-f2fc-454d-85f5-ed0357e8676d\",\"type\":\"GlyphRenderer\"}]},\"id\":\"81509d9e-d1f0-46ad-964c-ccf36862f9d5\",\"type\":\"LegendItem\"},{\"attributes\":{\"dimension\":1,\"plot\":{\"id\":\"26de8e1a-dd81-4e6e-b241-18c7824ed7cb\",\"subtype\":\"Figure\",\"type\":\"Plot\"},\"ticker\":{\"id\":\"8a3f617e-d6e4-4d2c-9034-c172f7e62b2a\",\"type\":\"BasicTicker\"}},\"id\":\"dc3eb9f5-b139-4426-80fe-febd2ab5d2a8\",\"type\":\"Grid\"},{\"attributes\":{},\"id\":\"944ac550-9b2d-4f37-851c-a140845dd1ce\",\"type\":\"Selection\"},{\"attributes\":{},\"id\":\"66ab4a43-58f1-49be-88e5-382a7b98777a\",\"type\":\"HelpTool\"},{\"attributes\":{},\"id\":\"bf5412d9-1e4f-4b80-8428-c3d93e5b271b\",\"type\":\"WheelZoomTool\"},{\"attributes\":{},\"id\":\"329e0bda-302b-4168-9408-3e0fb8c700b3\",\"type\":\"UnionRenderers\"},{\"attributes\":{\"axis_label\":\"probability of reversal (theta)\",\"formatter\":{\"id\":\"cba80bc7-cdcb-4d30-b5a5-8f22e528b01d\",\"type\":\"BasicTickFormatter\"},\"plot\":{\"id\":\"26de8e1a-dd81-4e6e-b241-18c7824ed7cb\",\"subtype\":\"Figure\",\"type\":\"Plot\"},\"ticker\":{\"id\":\"ddd9d962-c283-4729-b2f8-7f185141382d\",\"type\":\"BasicTicker\"}},\"id\":\"b56e3a2e-8e1e-49da-ae37-483147f924ac\",\"type\":\"LinearAxis\"},{\"attributes\":{},\"id\":\"e66db70d-fe7b-4005-a67b-0c0ca040f8a8\",\"type\":\"BasicTickFormatter\"},{\"attributes\":{\"callback\":null},\"id\":\"ee7daa2b-8f83-435c-ab51-142c013afc12\",\"type\":\"DataRange1d\"},{\"attributes\":{\"callback\":null,\"data\":{\"x\":{\"__ndarray__\":\"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\",\"dtype\":\"float64\",\"shape\":[200]},\"y\":{\"__ndarray__\":\"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\",\"dtype\":\"float64\",\"shape\":[200]}},\"selected\":{\"id\":\"944ac550-9b2d-4f37-851c-a140845dd1ce\",\"type\":\"Selection\"},\"selection_policy\":{\"id\":\"329e0bda-302b-4168-9408-3e0fb8c700b3\",\"type\":\"UnionRenderers\"}},\"id\":\"5df8beec-d19c-4d6b-abd8-e0d17f797921\",\"type\":\"ColumnDataSource\"},{\"attributes\":{\"source\":{\"id\":\"384c4cc8-e419-4ed6-b92c-759dd3d5ba73\",\"type\":\"ColumnDataSource\"}},\"id\":\"a120b65c-56bf-4410-ab41-b5c86007578f\",\"type\":\"CDSView\"},{\"attributes\":{},\"id\":\"8a3f617e-d6e4-4d2c-9034-c172f7e62b2a\",\"type\":\"BasicTicker\"}],\"root_ids\":[\"26de8e1a-dd81-4e6e-b241-18c7824ed7cb\"]},\"title\":\"Bokeh Application\",\"version\":\"0.13.0\"}};\n",
       "  var render_items = [{\"docid\":\"f3840d58-6451-4202-918c-d741b97cd6f1\",\"roots\":{\"26de8e1a-dd81-4e6e-b241-18c7824ed7cb\":\"7093577c-f06a-4bbb-9551-e986eaa530b9\"}}];\n",
       "  root.Bokeh.embed.embed_items_notebook(docs_json, render_items);\n",
       "\n",
       "  }\n",
       "  if (root.Bokeh !== undefined) {\n",
       "    embed_document(root);\n",
       "  } else {\n",
       "    var attempts = 0;\n",
       "    var timer = setInterval(function(root) {\n",
       "      if (root.Bokeh !== undefined) {\n",
       "        embed_document(root);\n",
       "        clearInterval(timer);\n",
       "      }\n",
       "      attempts++;\n",
       "      if (attempts > 100) {\n",
       "        console.log(\"Bokeh: ERROR: Unable to run BokehJS code because BokehJS library is missing\")\n",
       "        clearInterval(timer);\n",
       "      }\n",
       "    }, 10, root)\n",
       "  }\n",
       "})(window);"
      ],
      "application/vnd.bokehjs_exec.v0+json": ""
     },
     "metadata": {
      "application/vnd.bokehjs_exec.v0+json": {
       "id": "26de8e1a-dd81-4e6e-b241-18c7824ed7cb"
      }
     },
     "output_type": "display_data"
    }
   ],
   "source": [
    "p = bokeh.plotting.figure(width=600, height=400, \n",
    "                          x_axis_label='probability of reversal (theta)', \n",
    "                          y_axis_label='p(theta)')\n",
    "\n",
    "p.line(theta_array, trial_wt_norm, line_color=\"#f46d43\", legend= \"WT\", line_width=2)\n",
    "p.line(theta_array, trial_ash_norm, line_color=\"#249d43\", legend= \"ASH\", line_width=2)\n",
    "p.line(theta_array, trial_ava_norm, legend= \"AVA\", line_width=2)\n",
    "\n",
    "bokeh.io.show(p)"
   ]
  },
  {
   "cell_type": "markdown",
   "metadata": {},
   "source": [
    "From this plot we can conclude that our priors combined with out likelihood did a good job at approximating the probability of theta. We've obtained the expected result based on the three data points we were given: WT < ASH < AVA in terms of probability of theta."
   ]
  }
 ],
 "metadata": {
  "kernelspec": {
   "display_name": "Python 3",
   "language": "python",
   "name": "python3"
  },
  "language_info": {
   "codemirror_mode": {
    "name": "ipython",
    "version": 3
   },
   "file_extension": ".py",
   "mimetype": "text/x-python",
   "name": "python",
   "nbconvert_exporter": "python",
   "pygments_lexer": "ipython3",
   "version": "3.6.6"
  }
 },
 "nbformat": 4,
 "nbformat_minor": 2
}
