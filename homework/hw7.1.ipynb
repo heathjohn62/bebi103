{
 "cells": [
  {
   "cell_type": "markdown",
   "metadata": {},
   "source": [
    "# BE/Bi 103 Homework 7\n",
    "###  Credits: "
   ]
  },
  {
   "cell_type": "code",
   "execution_count": 7,
   "metadata": {},
   "outputs": [],
   "source": [
    "import numpy as np\n",
    "import pandas as pd\n",
    "import numba\n",
    "import scipy.stats as st"
   ]
  },
  {
   "cell_type": "markdown",
   "metadata": {},
   "source": [
    "## Problem 7.1: Writing your own MCMC sampler (60 pts)\n",
    "\n",
    "**a)** Write your own MCMC sampler that employs a Metropolis-Hastings algorithm to sample continuous parameters (i.e., it does not need to handle discrete parameters) that uses a Gaussian proposal distribution. Since you are sampling multiple parameters, your proposal distribution will be multi-dimensional. You can use a Gaussian proposal distribution with a diagonal covariance. In other words, you generate a proposal for each variable in the posterior independently.\n",
    "\n",
    "You can organize your code how you like, but here is a suggestion.\n",
    "\n",
    "* Write a function that takes (or rejects) a Metropolis-Hastings step. It should look something like the below (obviously where it does something instead of `pass`ing)."
   ]
  },
  {
   "cell_type": "code",
   "execution_count": 40,
   "metadata": {
    "collapsed": true
   },
   "outputs": [],
   "source": [
    "def mh_step(x, logpost, logpost_current, sigma, args=()):\n",
    "    \"\"\"\n",
    "    Parameters\n",
    "    ----------\n",
    "    x : ndarray, shape (n_variables,)\n",
    "        The present location of the walker in parameter space.\n",
    "    logpost : function\n",
    "        The function to compute the log posterior. It has call\n",
    "        signature `logpost(x, *args)`.\n",
    "    logpost_current : float\n",
    "        The current value of the log posterior.\n",
    "    sigma : ndarray, shape (n_variables, )\n",
    "        The standard deviations for the proposal distribution.\n",
    "    args : tuple\n",
    "        Additional arguments passed to `logpost()` function.\n",
    "\n",
    "    Returns\n",
    "    -------\n",
    "    output : ndarray, shape (n_variables,)\n",
    "        The position of the walker after the Metropolis-Hastings\n",
    "        step. If no step is taken, returns the inputted `x`.\n",
    "    \"\"\"\n",
    "    # Turn sigma into a diagonal matrix so that it can be used as\n",
    "    # the covariance matrix for numpy's multivariate guassian function\n",
    "    cov = np.diag(sigma * sigma) # squared because variance is std. squared\n",
    "    \n",
    "    # Now I will choose the next step, x-prime\n",
    "    xp = np.random.multivariate_normal(x, cov, 1)[0]\n",
    "    \n",
    "    # Compute the log-posterior at x-prime\n",
    "    logpost_xp = logpost(xp, *args)\n",
    "    \n",
    "    # Calculate metropolis ratio\n",
    "    r = np.exp(logpost_xp - logpost_current)\n",
    "    \n",
    "    if (r >= 1):\n",
    "        return xp\n",
    "    elif(np.random.rand() < r):\n",
    "        return xp\n",
    "    else:\n",
    "        return x"
   ]
  },
  {
   "cell_type": "markdown",
   "metadata": {},
   "source": [
    "* Write another function that calls that function over and over again to do the sampling. It should look something like the below. (Note that I am using `n_burn` as opposed to `n_warmup`, because you are just going to step as you normally would, and then \"burn\" the samples. This is in contrast to Stan, which tunes the stepping procedure duing the warm-up phase.)"
   ]
  },
  {
   "cell_type": "code",
   "execution_count": 41,
   "metadata": {
    "collapsed": true
   },
   "outputs": [],
   "source": [
    "def mh_sample(logpost, x0, sigma, args=(), n_burn=1000, n_steps=1000,\n",
    "              variable_names=None):\n",
    "    \"\"\"\n",
    "    Parameters\n",
    "    ----------\n",
    "    logpost : function\n",
    "        The function to compute the log posterior. It has call\n",
    "        signature `logpost(x, *args)`.\n",
    "    x0 : ndarray, shape (n_variables,)\n",
    "        The starting location of a walker in parameter space.\n",
    "    sigma : ndarray, shape (n_variables, )\n",
    "        The standard deviations for the proposal distribution.\n",
    "    args : tuple\n",
    "        Additional arguments passed to `logpost()` function.\n",
    "    n_burn : int, default 1000\n",
    "        Number of burn-in steps.\n",
    "    n_steps : int, default 1000\n",
    "        Number of steps to take after burn-in.\n",
    "    variable_names : list, length n_variables\n",
    "        List of names of variables. If None, then variable names\n",
    "        are sequential integers.\n",
    "    \n",
    "    Returns\n",
    "    -------\n",
    "    output : DataFrame\n",
    "        The first `n_variables` columns contain the samples.\n",
    "        Additionally, column 'lnprob' has the log posterior value\n",
    "        at each sample.\n",
    "    \"\"\"\n",
    "    \n",
    "    # Define variable names\n",
    "    if variable_names == None:\n",
    "        variable_names = list(range(len(x0)))\n",
    "    \n",
    "    # Define starting points\n",
    "    x = x0\n",
    "    logpost_current = logpost(x, *args)\n",
    "        \n",
    "    # Burn step    \n",
    "    for c in range(n_burn):\n",
    "        x = mh_step(x, logpost, logpost_current, sigma, args=args)\n",
    "        logpost_current = logpost(x, *args)\n",
    "    \n",
    "    \n",
    "    # Make arrays to take data\n",
    "    samples = [0]*n_steps\n",
    "    logpost_values = np.empty([len(range(n_steps))])\n",
    "    \n",
    "    # Do the sampling\n",
    "    for k in range(n_steps):\n",
    "        x = mh_step(x, logpost, logpost_current, sigma, args=args)\n",
    "        logpost_current = logpost(x, *args)\n",
    "        samples[k] = x\n",
    "        logpost_values[k] = logpost_current\n",
    "        \n",
    "    \n",
    "    # Convert arrays to dataframe    \n",
    "    df =  pd.DataFrame(data=samples, columns = variable_names)\n",
    "    df[\"lnprob\"] = logpost_values\n",
    "        \n",
    "        \n",
    "    return df"
   ]
  },
  {
   "cell_type": "markdown",
   "metadata": {},
   "source": [
    "**b)** To test your code, we will get samples out of a known distribution. We will use a bivariate Gaussian with a mean of $\\boldsymbol{\\mu} = (10, 20)$ and covariance matrix of \n",
    "\n",
    "\\begin{align}\n",
    "\\boldsymbol{\\sigma} = \\begin{pmatrix}\n",
    "4 & -2 \\\\\n",
    "-2 & 6\n",
    "\\end{pmatrix}\n",
    "\\end{align}\n",
    "\n",
    "I have written the function to be unnormalized and JITted with [numba](https://numba.pydata.org) for optimal speed.\n",
    "\n",
    "Do not be confused: In this test function we are sampling $\\mathbf{x}$ out of $P(\\mathbf{x}\\mid \\boldsymbol{\\mu},\\boldsymbol{\\sigma})$. This is not sampling a posterior; it's just a test for your code. You will pass `log_test_distribution` as the `log_post` argument in the above functions."
   ]
  },
  {
   "cell_type": "code",
   "execution_count": 42,
   "metadata": {
    "collapsed": true
   },
   "outputs": [],
   "source": [
    "mu = np.array([10.0, 20])\n",
    "cov = np.array([[4, -2],[-2, 6]])\n",
    "inv_cov = np.linalg.inv(cov)\n",
    "\n",
    "@numba.jit(nopython=True)\n",
    "def log_test_distribution(x, mu, inv_cov):\n",
    "    \"\"\"\n",
    "    Unnormalized log posterior of a multivariate Gaussian.\n",
    "    \"\"\"\n",
    "    return -np.dot((x-mu), np.dot(inv_cov, (x-mu))) / 2"
   ]
  },
  {
   "cell_type": "markdown",
   "metadata": {},
   "source": [
    "If you compute the means and covariance (using `np.cov()`) of your samples, you should come close to the inputed means and covariance. You might also want to plot your samples using `bebi103.viz.corner()` to make sure everything makes sense.\n",
    "\n",
    "<br />\n",
    "\n",
    "You may want to add in some logic to your Metropolis-Hastings sampler to enable *tuning*. This is the process of automatically adjusting the $\\sigma$ in the proposal distribution such that the acceptance rate is desirable. The target acceptance rate is about 0.4. The developers of [PyMC3](https://github.com/pymc-devs/pymc3) use the scheme below, which is reasonable.\n",
    "\n",
    "|Acceptance rate|Standard deviation adaptation|\n",
    "|:---:|:-------------------:|\n",
    "| < 0.001        |$\\times$ 0.1|\n",
    "|< 0.05         |$\\times$ 0.5|\n",
    "|< 0.2          |$\\times$ 0.9|\n",
    "|> 0.5          |$\\times$ 1.1|\n",
    "|> 0.75         |$\\times$ 2|\n",
    "|> 0.95         |$\\times$ 10|\n",
    "\n",
    "Be sure to test your code to demonstrate that it works."
   ]
  },
  {
   "cell_type": "code",
   "execution_count": 43,
   "metadata": {},
   "outputs": [
    {
     "data": {
      "text/html": [
       "<div>\n",
       "<style scoped>\n",
       "    .dataframe tbody tr th:only-of-type {\n",
       "        vertical-align: middle;\n",
       "    }\n",
       "\n",
       "    .dataframe tbody tr th {\n",
       "        vertical-align: top;\n",
       "    }\n",
       "\n",
       "    .dataframe thead th {\n",
       "        text-align: right;\n",
       "    }\n",
       "</style>\n",
       "<table border=\"1\" class=\"dataframe\">\n",
       "  <thead>\n",
       "    <tr style=\"text-align: right;\">\n",
       "      <th></th>\n",
       "      <th>var_1</th>\n",
       "      <th>var_2</th>\n",
       "      <th>lnprob</th>\n",
       "    </tr>\n",
       "  </thead>\n",
       "  <tbody>\n",
       "    <tr>\n",
       "      <th>0</th>\n",
       "      <td>7.700143</td>\n",
       "      <td>22.137505</td>\n",
       "      <td>-0.758699</td>\n",
       "    </tr>\n",
       "    <tr>\n",
       "      <th>1</th>\n",
       "      <td>7.700143</td>\n",
       "      <td>22.137505</td>\n",
       "      <td>-0.758699</td>\n",
       "    </tr>\n",
       "    <tr>\n",
       "      <th>2</th>\n",
       "      <td>8.410498</td>\n",
       "      <td>22.945394</td>\n",
       "      <td>-0.778341</td>\n",
       "    </tr>\n",
       "    <tr>\n",
       "      <th>3</th>\n",
       "      <td>8.410498</td>\n",
       "      <td>22.945394</td>\n",
       "      <td>-0.778341</td>\n",
       "    </tr>\n",
       "    <tr>\n",
       "      <th>4</th>\n",
       "      <td>8.220359</td>\n",
       "      <td>22.089738</td>\n",
       "      <td>-0.539870</td>\n",
       "    </tr>\n",
       "  </tbody>\n",
       "</table>\n",
       "</div>"
      ],
      "text/plain": [
       "      var_1      var_2    lnprob\n",
       "0  7.700143  22.137505 -0.758699\n",
       "1  7.700143  22.137505 -0.758699\n",
       "2  8.410498  22.945394 -0.778341\n",
       "3  8.410498  22.945394 -0.778341\n",
       "4  8.220359  22.089738 -0.539870"
      ]
     },
     "execution_count": 43,
     "metadata": {},
     "output_type": "execute_result"
    }
   ],
   "source": [
    "# Initial guess for MCMC\n",
    "x_0 = np.array([1,1])\n",
    "# Standard Deviations for proposal dist.\n",
    "s = np.array([1,1])\n",
    "df_mcmc_test = mh_sample(log_test_distribution, \n",
    "                         x_0, \n",
    "                         s, \n",
    "                         args = (mu, inv_cov), \n",
    "                         variable_names = [\"var_1\", \"var_2\"])\n",
    "df_mcmc_test.head()"
   ]
  },
  {
   "cell_type": "markdown",
   "metadata": {},
   "source": [
    "It looks like the sampling worked! Let's see how the parameters compare to the real distribution. "
   ]
  },
  {
   "cell_type": "code",
   "execution_count": 55,
   "metadata": {},
   "outputs": [
    {
     "name": "stdout",
     "output_type": "stream",
     "text": [
      "MCMC mean of var_1: 10.1441    Actual mean of var1: 10.0\n",
      "MCMC mean of var_2: 19.8023    Actual mean of var2: 20.0\n",
      "\n",
      "MCMC covariance matrix: 4.1416 -1.8923 \n",
      "                       -1.8923 5.4067\n",
      "\n",
      "Actual covariance matrix: 4.0000 -2.0000 \n",
      "                         -2.0000 6.0000\n"
     ]
    }
   ],
   "source": [
    "print(\"MCMC mean of var_1: %.4f    Actual mean of var1: 10.0\" % \n",
    "      np.mean(df_mcmc_test[\"var_1\"].values))\n",
    "print(\"MCMC mean of var_2: %.4f    Actual mean of var2: 20.0\" % \n",
    "      np.mean(df_mcmc_test[\"var_2\"].values))\n",
    "covariance = np.cov(df_mcmc_test[\"var_1\"].values, df_mcmc_test[\"var_2\"].values)\n",
    "print(\"\")\n",
    "print(\n",
    "\"MCMC covariance matrix: %.4f %.4f \\n                       %.4f %.4f\" \n",
    "    %(covariance[0][0],\n",
    "      covariance[0][1],\n",
    "      covariance[1][0],\n",
    "      covariance[1][1]))\n",
    "print(\"\")\n",
    "print(\n",
    "\"Actual covariance matrix: %.4f %.4f \\n                         %.4f %.4f\"\n",
    "    %(cov[0][0],\n",
    "      cov[0][1],\n",
    "      cov[1][0],\n",
    "      cov[1][1]))"
   ]
  },
  {
   "cell_type": "markdown",
   "metadata": {},
   "source": []
  },
  {
   "cell_type": "code",
   "execution_count": null,
   "metadata": {},
   "outputs": [],
   "source": []
  }
 ],
 "metadata": {
  "kernelspec": {
   "display_name": "Python 3",
   "language": "python",
   "name": "python3"
  },
  "language_info": {
   "codemirror_mode": {
    "name": "ipython",
    "version": 3
   },
   "file_extension": ".py",
   "mimetype": "text/x-python",
   "name": "python",
   "nbconvert_exporter": "python",
   "pygments_lexer": "ipython3",
   "version": "3.7.0"
  }
 },
 "nbformat": 4,
 "nbformat_minor": 2
}
