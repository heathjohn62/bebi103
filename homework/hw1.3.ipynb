{
 "cells": [
  {
   "cell_type": "markdown",
   "metadata": {},
   "source": [
    "A) Marginalization is a way to calculate the probability of a single variable when given probability distributions that contain multiple different variables. If all values of these other distributions are known, then it is can be possible to sum over these values to elimate unwanted variables from the distribution. \n",
    "\n",
    "For example, suppose you wanted to know the value of $P(y)$, or the evidence. You could instead calculate the following sum.\n",
    "$$P(y) = \\sum_i{P(x_i \\cap y)P(x_i)}$$\n",
    "By calculating this sum, $P(y)$ is extracted from a joint distribution, marginalizing out the variable $x$ via summation. Our final answer for $P(y)$ no longer carries a dependence on $x$. "
   ]
  },
  {
   "cell_type": "code",
   "execution_count": null,
   "metadata": {},
   "outputs": [],
   "source": []
  }
 ],
 "metadata": {
  "kernelspec": {
   "display_name": "Python 3",
   "language": "python",
   "name": "python3"
  },
  "language_info": {
   "codemirror_mode": {
    "name": "ipython",
    "version": 3
   },
   "file_extension": ".py",
   "mimetype": "text/x-python",
   "name": "python",
   "nbconvert_exporter": "python",
   "pygments_lexer": "ipython3",
   "version": "3.7.0"
  }
 },
 "nbformat": 4,
 "nbformat_minor": 2
}
