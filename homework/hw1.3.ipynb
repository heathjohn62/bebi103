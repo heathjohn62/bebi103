{
 "cells": [
  {
   "cell_type": "markdown",
   "metadata": {},
   "source": [
    "A) Marginalization is a way to calculate the probability of a single variable when given probability distributions that contain multiple different variables. If all values of these other distributions are known, then it can be possible to sum over these values to eliminate unwanted variables from the distribution. \n",
    "\n",
    "For example, suppose you wanted to know the value of $P(y)$, or the evidence. You could instead calculate the following sum.\n",
    "$$P(y) = \\sum_i{P(x_i \\cap y)P(x_i)}$$\n",
    "By calculating this sum, $P(y)$ is extracted from a joint distribution, marginalizing out the variable $x$ via summation. Our final answer for $P(y)$ no longer carries a dependence on $x$. "
   ]
  },
  {
   "cell_type": "markdown",
   "metadata": {},
   "source": [
    "<p style=\"background-color:#D9EDF7\">\n",
    "    <b>(a) 10/10</b><br>\n",
    "    Good!  Marginalization serves to eliminate a variable, but the goal is not to ignore that variable but rather to fully account for its effect on what remains.  It is not limited to finding the probability distribution of a <i>single</i> variable, however.\n",
    "</p>"
   ]
  },
  {
   "cell_type": "markdown",
   "metadata": {},
   "source": [
    "B) We would like to derive an expression for $P(\\theta_1 |y)$ given that both $\\theta_1$ and $\\theta_2$ are continuous. First, I will use marginalization to express $P(\\theta_1 |y)$ as an integral over all values of $\\theta_2$. Since $\\theta_2$ is continuous, integrating over it is sensible. \n",
    "$$P(\\theta_1 |y) = \\int{P(\\theta_1, \\theta_2 | y)d\\theta_2}$$\n",
    "I may now directly apply Bayes' theorem to $P(\\theta_1, \\theta_2 | y)$.\n",
    "$$P(\\theta_1 |y) = \\int{\\frac{P(y |\\theta_1, \\theta_2)P(\\theta_1, \\theta_2)}{P(y)}d\\theta_2}$$"
   ]
  },
  {
   "cell_type": "markdown",
   "metadata": {},
   "source": [
    "<p style=\"background-color:#D9EDF7\">\n",
    "    <b>(b) 10/10</b><br>\n",
    "    Nice derivation!\n",
    "</p>"
   ]
  },
  {
   "cell_type": "markdown",
   "metadata": {},
   "source": [
    "<p style=\"background-color:#D9EDF7\">\n",
    "    <b>Total: 20/20</b><br>\n",
    "    -0: In future, please include attributions in your submissions to note the contributions of each group member, per the course policies.\n",
    "</p>"
   ]
  }
 ],
 "metadata": {
  "kernelspec": {
   "display_name": "Python 3",
   "language": "python",
   "name": "python3"
  },
  "language_info": {
   "codemirror_mode": {
    "name": "ipython",
    "version": 3
   },
   "file_extension": ".py",
   "mimetype": "text/x-python",
   "name": "python",
   "nbconvert_exporter": "python",
   "pygments_lexer": "ipython3",
   "version": "3.6.6"
  }
 },
 "nbformat": 4,
 "nbformat_minor": 2
}
