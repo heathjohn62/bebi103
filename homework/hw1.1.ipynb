{
 "cells": [
  {
   "cell_type": "markdown",
   "metadata": {},
   "source": [
    "### John's Haiku:\n",
    "\n",
    "Analyze data\n",
    "\n",
    "All day long I do this\n",
    "\n",
    "Bokeh is pretty"
   ]
  },
  {
   "cell_type": "markdown",
   "metadata": {},
   "source": [
    "### John's Goals for the Class\n",
    "I enrolled in this class because I found the data analysis in Bi1x to be extremely useful and engaging, especially the Luria Delbruck experiment. That particular experient taught me that considering statistics and probability when approaching data can reveal concrete conclusions in biology that otherwise might remain hidden. This has motivated me to learn these techniques. I have already used Pandas dataframes and plotting tools like Bokeh in my SURF, and I expect that other data analysis tools will be extremely valuable for biology research as an undergrad, a graduate student, and beyond. For example, in coming weeks I will be performing image processing of fluorescent microscopy data in order to determine the properties of a virus that I (and collaborators) evolved. The BeBi103 unit on image processing is likely to be helpful for this. In sum, I want to be able draw conclusions when I perform experiments that result in datasets with non-obvious properties, and also to know my confidence in these conclusions. "
   ]
  },
  {
   "cell_type": "markdown",
   "metadata": {},
   "source": [
    "### Jared's Haiku\n",
    "Not sure what to say.\n",
    "\n",
    "Writing some text down for you.\n",
    "\n",
    "Hope this is alright?"
   ]
  },
  {
   "cell_type": "markdown",
   "metadata": {},
   "source": [
    "### Jared's Goals for the Class\n",
    "I have very little background in data analysis or in coding in general. I have taken CS1 and done a bit of biological data analysis in my SURFs, but most of the data analysis I've done in the past has been in a pre-made pipeline, so I didn't really understand what was happening beyond input and output. My research, however, does involve bulk data analysis, especially because I deal with transcriptomics and microscopy data. I expect that I will use the skills I learn in this class very extensively in my research as an undergrad, grad student, and for the rest of my life. I also plan to take the bioinformatics class later in the year and I believe this class will set me up very well for this."
   ]
  },
  {
   "cell_type": "markdown",
   "metadata": {},
   "source": [
    "### Maria's Haiku\n",
    "I don't know bio\n",
    "\n",
    "But I like colorful graphs\n",
    "\n",
    "This class will be fun!"
   ]
  },
  {
   "cell_type": "markdown",
   "metadata": {},
   "source": [
    "### Maria's Goals for the Class\n",
    "\n",
    "My goals for this class are to learn about interesting biological research and how to analyze the data. I don't have much of a biology background, so I also hope to learn how to interpret the outputs of our data analysis. I've never used pandas or other Python data analysis tools. I will probably work in industry at some big company doing backend work after graduation, and will not use these skills directly. However, I'm excited to learn about this application of computer science in this class!"
   ]
  },
  {
   "cell_type": "code",
   "execution_count": null,
   "metadata": {},
   "outputs": [],
   "source": []
  }
 ],
 "metadata": {
  "kernelspec": {
   "display_name": "Python 3",
   "language": "python",
   "name": "python3"
  },
  "language_info": {
   "codemirror_mode": {
    "name": "ipython",
    "version": 3
   },
   "file_extension": ".py",
   "mimetype": "text/x-python",
   "name": "python",
   "nbconvert_exporter": "python",
   "pygments_lexer": "ipython3",
   "version": "3.6.0"
  }
 },
 "nbformat": 4,
 "nbformat_minor": 2
}
