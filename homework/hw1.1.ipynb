{
 "cells": [
  {
   "cell_type": "markdown",
   "metadata": {},
   "source": [
    "### John's Haiku:\n",
    "\n",
    "Analyze data\n",
    "\n",
    "All day long I do this\n",
    "\n",
    "Bokeh is pretty"
   ]
  },
  {
   "cell_type": "markdown",
   "metadata": {},
   "source": [
    "### John's Goals for the Class\n",
    "I enrolled in this class because I found the data analysis in Bi1x to be extremely useful and engaging, especially the Luria Delbruck experiment. That particular experient taught me that considering statistics and probability when approaching data can reveal concrete conclusions in biology that otherwise might remain hidden. This has motivated me to learn these techniques. I have already used Pandas dataframes and plotting tools like Bokeh in my SURF, and I expect that other data analysis tools will be extremely valuable for biology research as an undergrad, a graduate student, and beyond. For example, in coming weeks I will be performing image processing of fluorescent microscopy data in order to determine the properties of a virus that I (and collaborators) evolved. The BeBi103 unit on image processing is likely to be helpful for this. In sum, I want to be able draw conclusions when I perform experiments that result in datasets with non-obvious properties, and also to know my confidence in these conclusions. "
   ]
  },
  {
   "cell_type": "code",
   "execution_count": null,
   "metadata": {},
   "outputs": [],
   "source": []
  }
 ],
 "metadata": {
  "kernelspec": {
   "display_name": "Python 3",
   "language": "python",
   "name": "python3"
  },
  "language_info": {
   "codemirror_mode": {
    "name": "ipython",
    "version": 3
   },
   "file_extension": ".py",
   "mimetype": "text/x-python",
   "name": "python",
   "nbconvert_exporter": "python",
   "pygments_lexer": "ipython3",
   "version": "3.6.6"
  }
 },
 "nbformat": 4,
 "nbformat_minor": 2
}
